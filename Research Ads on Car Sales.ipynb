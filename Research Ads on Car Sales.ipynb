{
 "cells": [
  {
   "cell_type": "markdown",
   "metadata": {},
   "source": [
    "# Research on Ads for Car Sales\n",
    "\n",
    "This Project is done for Crankshaft List. We have been granted access to Hundreds of free advertisements for vehicles that are published on our site every day. We need to study data collected over the last few years and determine which factors influence the price of a vehicle."
   ]
  },
  {
   "cell_type": "markdown",
   "metadata": {},
   "source": [
    "\n",
    "To work on this project I will break it down into the following steps:\n",
    "1. General Information\n",
    "2. Data Preprocessing\n",
    "3. Calculation for new Columns\n",
    "4. Exploratory Data Analysis\n",
    "5. Overall Conclusion\n",
    "\n",
    "**Description of the data**\n",
    "\n",
    "- `price`: The amount the car was listed for\n",
    "- `model_year`: The year the car was made \n",
    "- `model`: The make of the car\n",
    "- `condition`: The state of the car when it was listed\n",
    "- `cylinders`: Number of cylinders used by the car\n",
    "- `fuel`: gas, diesel, etc.\n",
    "- `odometer`: the vehicle's mileage when the ad was published\n",
    "- `transmission`: whether it is automatic, manual, or something else\n",
    "- `paint_color`: The color which the car is painted\n",
    "- `is_4wd` — whether the vehicle has 4-wheel drive (Boolean type)\n",
    "- `date_posted`: the date the ad was published\n",
    "- `days_listed`: from publication to removal\n"
   ]
  },
  {
   "cell_type": "markdown",
   "metadata": {},
   "source": [
    "## General Information"
   ]
  },
  {
   "cell_type": "markdown",
   "metadata": {},
   "source": [
    "Importing necessary libraries needed for this project"
   ]
  },
  {
   "cell_type": "code",
   "execution_count": 1,
   "metadata": {},
   "outputs": [],
   "source": [
    "# importing needed libraries for the project\n",
    "\n",
    "import pandas as pd\n",
    "import matplotlib.pyplot as plt"
   ]
  },
  {
   "cell_type": "markdown",
   "metadata": {},
   "source": [
    "Next, we load the data file to a variable and view the general information about it"
   ]
  },
  {
   "cell_type": "code",
   "execution_count": 2,
   "metadata": {},
   "outputs": [],
   "source": [
    "# Load the data file into a DataFrame\n",
    "\n",
    "data = pd.read_csv(\"/datasets/vehicles_us.csv\")"
   ]
  },
  {
   "cell_type": "code",
   "execution_count": 3,
   "metadata": {},
   "outputs": [
    {
     "name": "stdout",
     "output_type": "stream",
     "text": [
      "<class 'pandas.core.frame.DataFrame'>\n",
      "RangeIndex: 51525 entries, 0 to 51524\n",
      "Data columns (total 13 columns):\n",
      " #   Column        Non-Null Count  Dtype  \n",
      "---  ------        --------------  -----  \n",
      " 0   price         51525 non-null  int64  \n",
      " 1   model_year    47906 non-null  float64\n",
      " 2   model         51525 non-null  object \n",
      " 3   condition     51525 non-null  object \n",
      " 4   cylinders     46265 non-null  float64\n",
      " 5   fuel          51525 non-null  object \n",
      " 6   odometer      43633 non-null  float64\n",
      " 7   transmission  51525 non-null  object \n",
      " 8   type          51525 non-null  object \n",
      " 9   paint_color   42258 non-null  object \n",
      " 10  is_4wd        25572 non-null  float64\n",
      " 11  date_posted   51525 non-null  object \n",
      " 12  days_listed   51525 non-null  int64  \n",
      "dtypes: float64(4), int64(2), object(7)\n",
      "memory usage: 5.1+ MB\n"
     ]
    }
   ],
   "source": [
    "# print the general/summary information about the DataFrame\n",
    "data.info()\n"
   ]
  },
  {
   "cell_type": "code",
   "execution_count": 4,
   "metadata": {},
   "outputs": [
    {
     "data": {
      "text/html": [
       "<div>\n",
       "<style scoped>\n",
       "    .dataframe tbody tr th:only-of-type {\n",
       "        vertical-align: middle;\n",
       "    }\n",
       "\n",
       "    .dataframe tbody tr th {\n",
       "        vertical-align: top;\n",
       "    }\n",
       "\n",
       "    .dataframe thead th {\n",
       "        text-align: right;\n",
       "    }\n",
       "</style>\n",
       "<table border=\"1\" class=\"dataframe\">\n",
       "  <thead>\n",
       "    <tr style=\"text-align: right;\">\n",
       "      <th></th>\n",
       "      <th>price</th>\n",
       "      <th>model_year</th>\n",
       "      <th>model</th>\n",
       "      <th>condition</th>\n",
       "      <th>cylinders</th>\n",
       "      <th>fuel</th>\n",
       "      <th>odometer</th>\n",
       "      <th>transmission</th>\n",
       "      <th>type</th>\n",
       "      <th>paint_color</th>\n",
       "      <th>is_4wd</th>\n",
       "      <th>date_posted</th>\n",
       "      <th>days_listed</th>\n",
       "    </tr>\n",
       "  </thead>\n",
       "  <tbody>\n",
       "    <tr>\n",
       "      <th>0</th>\n",
       "      <td>9400</td>\n",
       "      <td>2011.0</td>\n",
       "      <td>bmw x5</td>\n",
       "      <td>good</td>\n",
       "      <td>6.0</td>\n",
       "      <td>gas</td>\n",
       "      <td>145000.0</td>\n",
       "      <td>automatic</td>\n",
       "      <td>SUV</td>\n",
       "      <td>NaN</td>\n",
       "      <td>1.0</td>\n",
       "      <td>2018-06-23</td>\n",
       "      <td>19</td>\n",
       "    </tr>\n",
       "    <tr>\n",
       "      <th>1</th>\n",
       "      <td>25500</td>\n",
       "      <td>NaN</td>\n",
       "      <td>ford f-150</td>\n",
       "      <td>good</td>\n",
       "      <td>6.0</td>\n",
       "      <td>gas</td>\n",
       "      <td>88705.0</td>\n",
       "      <td>automatic</td>\n",
       "      <td>pickup</td>\n",
       "      <td>white</td>\n",
       "      <td>1.0</td>\n",
       "      <td>2018-10-19</td>\n",
       "      <td>50</td>\n",
       "    </tr>\n",
       "    <tr>\n",
       "      <th>2</th>\n",
       "      <td>5500</td>\n",
       "      <td>2013.0</td>\n",
       "      <td>hyundai sonata</td>\n",
       "      <td>like new</td>\n",
       "      <td>4.0</td>\n",
       "      <td>gas</td>\n",
       "      <td>110000.0</td>\n",
       "      <td>automatic</td>\n",
       "      <td>sedan</td>\n",
       "      <td>red</td>\n",
       "      <td>NaN</td>\n",
       "      <td>2019-02-07</td>\n",
       "      <td>79</td>\n",
       "    </tr>\n",
       "    <tr>\n",
       "      <th>3</th>\n",
       "      <td>1500</td>\n",
       "      <td>2003.0</td>\n",
       "      <td>ford f-150</td>\n",
       "      <td>fair</td>\n",
       "      <td>8.0</td>\n",
       "      <td>gas</td>\n",
       "      <td>NaN</td>\n",
       "      <td>automatic</td>\n",
       "      <td>pickup</td>\n",
       "      <td>NaN</td>\n",
       "      <td>NaN</td>\n",
       "      <td>2019-03-22</td>\n",
       "      <td>9</td>\n",
       "    </tr>\n",
       "    <tr>\n",
       "      <th>4</th>\n",
       "      <td>14900</td>\n",
       "      <td>2017.0</td>\n",
       "      <td>chrysler 200</td>\n",
       "      <td>excellent</td>\n",
       "      <td>4.0</td>\n",
       "      <td>gas</td>\n",
       "      <td>80903.0</td>\n",
       "      <td>automatic</td>\n",
       "      <td>sedan</td>\n",
       "      <td>black</td>\n",
       "      <td>NaN</td>\n",
       "      <td>2019-04-02</td>\n",
       "      <td>28</td>\n",
       "    </tr>\n",
       "    <tr>\n",
       "      <th>5</th>\n",
       "      <td>14990</td>\n",
       "      <td>2014.0</td>\n",
       "      <td>chrysler 300</td>\n",
       "      <td>excellent</td>\n",
       "      <td>6.0</td>\n",
       "      <td>gas</td>\n",
       "      <td>57954.0</td>\n",
       "      <td>automatic</td>\n",
       "      <td>sedan</td>\n",
       "      <td>black</td>\n",
       "      <td>1.0</td>\n",
       "      <td>2018-06-20</td>\n",
       "      <td>15</td>\n",
       "    </tr>\n",
       "    <tr>\n",
       "      <th>6</th>\n",
       "      <td>12990</td>\n",
       "      <td>2015.0</td>\n",
       "      <td>toyota camry</td>\n",
       "      <td>excellent</td>\n",
       "      <td>4.0</td>\n",
       "      <td>gas</td>\n",
       "      <td>79212.0</td>\n",
       "      <td>automatic</td>\n",
       "      <td>sedan</td>\n",
       "      <td>white</td>\n",
       "      <td>NaN</td>\n",
       "      <td>2018-12-27</td>\n",
       "      <td>73</td>\n",
       "    </tr>\n",
       "    <tr>\n",
       "      <th>7</th>\n",
       "      <td>15990</td>\n",
       "      <td>2013.0</td>\n",
       "      <td>honda pilot</td>\n",
       "      <td>excellent</td>\n",
       "      <td>6.0</td>\n",
       "      <td>gas</td>\n",
       "      <td>109473.0</td>\n",
       "      <td>automatic</td>\n",
       "      <td>SUV</td>\n",
       "      <td>black</td>\n",
       "      <td>1.0</td>\n",
       "      <td>2019-01-07</td>\n",
       "      <td>68</td>\n",
       "    </tr>\n",
       "    <tr>\n",
       "      <th>8</th>\n",
       "      <td>11500</td>\n",
       "      <td>2012.0</td>\n",
       "      <td>kia sorento</td>\n",
       "      <td>excellent</td>\n",
       "      <td>4.0</td>\n",
       "      <td>gas</td>\n",
       "      <td>104174.0</td>\n",
       "      <td>automatic</td>\n",
       "      <td>SUV</td>\n",
       "      <td>NaN</td>\n",
       "      <td>1.0</td>\n",
       "      <td>2018-07-16</td>\n",
       "      <td>19</td>\n",
       "    </tr>\n",
       "    <tr>\n",
       "      <th>9</th>\n",
       "      <td>9200</td>\n",
       "      <td>2008.0</td>\n",
       "      <td>honda pilot</td>\n",
       "      <td>excellent</td>\n",
       "      <td>NaN</td>\n",
       "      <td>gas</td>\n",
       "      <td>147191.0</td>\n",
       "      <td>automatic</td>\n",
       "      <td>SUV</td>\n",
       "      <td>blue</td>\n",
       "      <td>1.0</td>\n",
       "      <td>2019-02-15</td>\n",
       "      <td>17</td>\n",
       "    </tr>\n",
       "    <tr>\n",
       "      <th>10</th>\n",
       "      <td>19500</td>\n",
       "      <td>2011.0</td>\n",
       "      <td>chevrolet silverado 1500</td>\n",
       "      <td>excellent</td>\n",
       "      <td>8.0</td>\n",
       "      <td>gas</td>\n",
       "      <td>128413.0</td>\n",
       "      <td>automatic</td>\n",
       "      <td>pickup</td>\n",
       "      <td>black</td>\n",
       "      <td>1.0</td>\n",
       "      <td>2018-09-17</td>\n",
       "      <td>38</td>\n",
       "    </tr>\n",
       "    <tr>\n",
       "      <th>11</th>\n",
       "      <td>8990</td>\n",
       "      <td>2012.0</td>\n",
       "      <td>honda accord</td>\n",
       "      <td>excellent</td>\n",
       "      <td>4.0</td>\n",
       "      <td>gas</td>\n",
       "      <td>111142.0</td>\n",
       "      <td>automatic</td>\n",
       "      <td>sedan</td>\n",
       "      <td>grey</td>\n",
       "      <td>NaN</td>\n",
       "      <td>2019-03-28</td>\n",
       "      <td>29</td>\n",
       "    </tr>\n",
       "    <tr>\n",
       "      <th>12</th>\n",
       "      <td>18990</td>\n",
       "      <td>2012.0</td>\n",
       "      <td>ram 1500</td>\n",
       "      <td>excellent</td>\n",
       "      <td>8.0</td>\n",
       "      <td>gas</td>\n",
       "      <td>140742.0</td>\n",
       "      <td>automatic</td>\n",
       "      <td>pickup</td>\n",
       "      <td>NaN</td>\n",
       "      <td>1.0</td>\n",
       "      <td>2019-04-02</td>\n",
       "      <td>37</td>\n",
       "    </tr>\n",
       "    <tr>\n",
       "      <th>13</th>\n",
       "      <td>16500</td>\n",
       "      <td>2018.0</td>\n",
       "      <td>hyundai sonata</td>\n",
       "      <td>excellent</td>\n",
       "      <td>4.0</td>\n",
       "      <td>gas</td>\n",
       "      <td>22104.0</td>\n",
       "      <td>automatic</td>\n",
       "      <td>sedan</td>\n",
       "      <td>silver</td>\n",
       "      <td>NaN</td>\n",
       "      <td>2019-01-14</td>\n",
       "      <td>29</td>\n",
       "    </tr>\n",
       "    <tr>\n",
       "      <th>14</th>\n",
       "      <td>12990</td>\n",
       "      <td>2009.0</td>\n",
       "      <td>gmc yukon</td>\n",
       "      <td>excellent</td>\n",
       "      <td>8.0</td>\n",
       "      <td>gas</td>\n",
       "      <td>132285.0</td>\n",
       "      <td>automatic</td>\n",
       "      <td>SUV</td>\n",
       "      <td>black</td>\n",
       "      <td>1.0</td>\n",
       "      <td>2019-01-31</td>\n",
       "      <td>24</td>\n",
       "    </tr>\n",
       "    <tr>\n",
       "      <th>15</th>\n",
       "      <td>17990</td>\n",
       "      <td>2013.0</td>\n",
       "      <td>ram 1500</td>\n",
       "      <td>excellent</td>\n",
       "      <td>8.0</td>\n",
       "      <td>gas</td>\n",
       "      <td>NaN</td>\n",
       "      <td>automatic</td>\n",
       "      <td>pickup</td>\n",
       "      <td>red</td>\n",
       "      <td>1.0</td>\n",
       "      <td>2018-05-15</td>\n",
       "      <td>111</td>\n",
       "    </tr>\n",
       "    <tr>\n",
       "      <th>16</th>\n",
       "      <td>14990</td>\n",
       "      <td>2010.0</td>\n",
       "      <td>ram 1500</td>\n",
       "      <td>excellent</td>\n",
       "      <td>8.0</td>\n",
       "      <td>gas</td>\n",
       "      <td>130725.0</td>\n",
       "      <td>automatic</td>\n",
       "      <td>pickup</td>\n",
       "      <td>red</td>\n",
       "      <td>1.0</td>\n",
       "      <td>2018-12-30</td>\n",
       "      <td>13</td>\n",
       "    </tr>\n",
       "    <tr>\n",
       "      <th>17</th>\n",
       "      <td>13990</td>\n",
       "      <td>2014.0</td>\n",
       "      <td>jeep cherokee</td>\n",
       "      <td>excellent</td>\n",
       "      <td>6.0</td>\n",
       "      <td>gas</td>\n",
       "      <td>100669.0</td>\n",
       "      <td>automatic</td>\n",
       "      <td>SUV</td>\n",
       "      <td>red</td>\n",
       "      <td>1.0</td>\n",
       "      <td>2018-08-16</td>\n",
       "      <td>25</td>\n",
       "    </tr>\n",
       "    <tr>\n",
       "      <th>18</th>\n",
       "      <td>12500</td>\n",
       "      <td>2013.0</td>\n",
       "      <td>chevrolet traverse</td>\n",
       "      <td>excellent</td>\n",
       "      <td>6.0</td>\n",
       "      <td>gas</td>\n",
       "      <td>128325.0</td>\n",
       "      <td>automatic</td>\n",
       "      <td>SUV</td>\n",
       "      <td>white</td>\n",
       "      <td>1.0</td>\n",
       "      <td>2019-04-09</td>\n",
       "      <td>13</td>\n",
       "    </tr>\n",
       "    <tr>\n",
       "      <th>19</th>\n",
       "      <td>13990</td>\n",
       "      <td>2018.0</td>\n",
       "      <td>hyundai elantra</td>\n",
       "      <td>excellent</td>\n",
       "      <td>4.0</td>\n",
       "      <td>gas</td>\n",
       "      <td>31932.0</td>\n",
       "      <td>automatic</td>\n",
       "      <td>sedan</td>\n",
       "      <td>red</td>\n",
       "      <td>NaN</td>\n",
       "      <td>2018-08-25</td>\n",
       "      <td>27</td>\n",
       "    </tr>\n",
       "  </tbody>\n",
       "</table>\n",
       "</div>"
      ],
      "text/plain": [
       "    price  model_year                     model  condition  cylinders fuel  \\\n",
       "0    9400      2011.0                    bmw x5       good        6.0  gas   \n",
       "1   25500         NaN                ford f-150       good        6.0  gas   \n",
       "2    5500      2013.0            hyundai sonata   like new        4.0  gas   \n",
       "3    1500      2003.0                ford f-150       fair        8.0  gas   \n",
       "4   14900      2017.0              chrysler 200  excellent        4.0  gas   \n",
       "5   14990      2014.0              chrysler 300  excellent        6.0  gas   \n",
       "6   12990      2015.0              toyota camry  excellent        4.0  gas   \n",
       "7   15990      2013.0               honda pilot  excellent        6.0  gas   \n",
       "8   11500      2012.0               kia sorento  excellent        4.0  gas   \n",
       "9    9200      2008.0               honda pilot  excellent        NaN  gas   \n",
       "10  19500      2011.0  chevrolet silverado 1500  excellent        8.0  gas   \n",
       "11   8990      2012.0              honda accord  excellent        4.0  gas   \n",
       "12  18990      2012.0                  ram 1500  excellent        8.0  gas   \n",
       "13  16500      2018.0            hyundai sonata  excellent        4.0  gas   \n",
       "14  12990      2009.0                 gmc yukon  excellent        8.0  gas   \n",
       "15  17990      2013.0                  ram 1500  excellent        8.0  gas   \n",
       "16  14990      2010.0                  ram 1500  excellent        8.0  gas   \n",
       "17  13990      2014.0             jeep cherokee  excellent        6.0  gas   \n",
       "18  12500      2013.0        chevrolet traverse  excellent        6.0  gas   \n",
       "19  13990      2018.0           hyundai elantra  excellent        4.0  gas   \n",
       "\n",
       "    odometer transmission    type paint_color  is_4wd date_posted  days_listed  \n",
       "0   145000.0    automatic     SUV         NaN     1.0  2018-06-23           19  \n",
       "1    88705.0    automatic  pickup       white     1.0  2018-10-19           50  \n",
       "2   110000.0    automatic   sedan         red     NaN  2019-02-07           79  \n",
       "3        NaN    automatic  pickup         NaN     NaN  2019-03-22            9  \n",
       "4    80903.0    automatic   sedan       black     NaN  2019-04-02           28  \n",
       "5    57954.0    automatic   sedan       black     1.0  2018-06-20           15  \n",
       "6    79212.0    automatic   sedan       white     NaN  2018-12-27           73  \n",
       "7   109473.0    automatic     SUV       black     1.0  2019-01-07           68  \n",
       "8   104174.0    automatic     SUV         NaN     1.0  2018-07-16           19  \n",
       "9   147191.0    automatic     SUV        blue     1.0  2019-02-15           17  \n",
       "10  128413.0    automatic  pickup       black     1.0  2018-09-17           38  \n",
       "11  111142.0    automatic   sedan        grey     NaN  2019-03-28           29  \n",
       "12  140742.0    automatic  pickup         NaN     1.0  2019-04-02           37  \n",
       "13   22104.0    automatic   sedan      silver     NaN  2019-01-14           29  \n",
       "14  132285.0    automatic     SUV       black     1.0  2019-01-31           24  \n",
       "15       NaN    automatic  pickup         red     1.0  2018-05-15          111  \n",
       "16  130725.0    automatic  pickup         red     1.0  2018-12-30           13  \n",
       "17  100669.0    automatic     SUV         red     1.0  2018-08-16           25  \n",
       "18  128325.0    automatic     SUV       white     1.0  2019-04-09           13  \n",
       "19   31932.0    automatic   sedan         red     NaN  2018-08-25           27  "
      ]
     },
     "execution_count": 4,
     "metadata": {},
     "output_type": "execute_result"
    }
   ],
   "source": [
    "# print a sample of data\n",
    "\n",
    "data.head(20)\n"
   ]
  },
  {
   "cell_type": "markdown",
   "metadata": {},
   "source": [
    "The dataset has 13 rows and 51525 rows. Several columns have missing values, namely: model_year, cylinders, odometer, paint_color, and is_4wd.\n",
    "\n",
    "The columns \"is_4wd\" is supposed to be boolean, and not float. Also \"date_posted\" needs to be changed from object to datetime."
   ]
  },
  {
   "cell_type": "code",
   "execution_count": 5,
   "metadata": {},
   "outputs": [
    {
     "data": {
      "text/plain": [
       "25953"
      ]
     },
     "execution_count": 5,
     "metadata": {},
     "output_type": "execute_result"
    }
   ],
   "source": [
    "#Checking the total number of Nan Values in \"is_4wd\"\n",
    "\n",
    "data[data[\"is_4wd\"].isna()].shape[0]"
   ]
  },
  {
   "cell_type": "code",
   "execution_count": 6,
   "metadata": {},
   "outputs": [
    {
     "data": {
      "text/plain": [
       "NaN    0.503697\n",
       "1.0    0.496303\n",
       "Name: is_4wd, dtype: float64"
      ]
     },
     "execution_count": 6,
     "metadata": {},
     "output_type": "execute_result"
    }
   ],
   "source": [
    "#Checking the distribution of the \"is_4wd\" column\n",
    "\n",
    "data[\"is_4wd\"].value_counts(dropna=False)/data.shape[0]"
   ]
  },
  {
   "cell_type": "markdown",
   "metadata": {},
   "source": [
    "Of the 13 columns in the dataset, there are missing values in 5 columns. \"is_4wd\" has the highest number of missing values, 25953. "
   ]
  },
  {
   "cell_type": "markdown",
   "metadata": {},
   "source": [
    "### Conclusions\n",
    "\n",
    "The missing values in the column \"is_4wd\" is quite much. It fills more than half the rows in the column. That is not normal. \n",
    "The date_posted column is going to be fixed using the method to_datetime(). \n",
    "\n",
    "The data would be probed further to see what is wrong with the dataset, and how those missing values can be filled. \n",
    "To fill the missing values, I would check the attribute that affects the column with the missing values based on the distribution of the mean or median. \n",
    "\n",
    "If the standard deviation is high, that would indicate the presence of outliers. Then the missing values would be filled with the median, and not the mean. However, if the standard deviation is low, then I can use the mean to fill the missing values.\n"
   ]
  },
  {
   "cell_type": "markdown",
   "metadata": {},
   "source": [
    "# Data Preprocessing"
   ]
  },
  {
   "cell_type": "markdown",
   "metadata": {},
   "source": [
    "**Dealing with missing values in the \"model_year\" column**"
   ]
  },
  {
   "cell_type": "code",
   "execution_count": 7,
   "metadata": {},
   "outputs": [
    {
     "data": {
      "text/plain": [
       "3619"
      ]
     },
     "execution_count": 7,
     "metadata": {},
     "output_type": "execute_result"
    }
   ],
   "source": [
    "#Getting the number of missing values in the \"model_year\" column\n",
    "data[\"model_year\"].isna().sum()"
   ]
  },
  {
   "cell_type": "markdown",
   "metadata": {},
   "source": [
    "The \"model_year\" column has 3619 missing values. To determine if the median or mean will be used in filling the missing values in the model_year, we use the decribe() method"
   ]
  },
  {
   "cell_type": "code",
   "execution_count": 8,
   "metadata": {},
   "outputs": [
    {
     "data": {
      "text/plain": [
       "count    47906.000000\n",
       "mean      2009.750470\n",
       "std          6.282065\n",
       "min       1908.000000\n",
       "25%       2006.000000\n",
       "50%       2011.000000\n",
       "75%       2014.000000\n",
       "max       2019.000000\n",
       "Name: model_year, dtype: float64"
      ]
     },
     "execution_count": 8,
     "metadata": {},
     "output_type": "execute_result"
    }
   ],
   "source": [
    "data[\"model_year\"].describe()"
   ]
  },
  {
   "cell_type": "markdown",
   "metadata": {},
   "source": [
    "The standard deviation is low, so the mean would be used to fill the missing values in the \"model_year\" column. The attribute on which model_year depends on is \"model\". This is the columns that will be used to fill the missing values in \"model_year\"."
   ]
  },
  {
   "cell_type": "code",
   "execution_count": 9,
   "metadata": {},
   "outputs": [
    {
     "data": {
      "text/html": [
       "<div>\n",
       "<style scoped>\n",
       "    .dataframe tbody tr th:only-of-type {\n",
       "        vertical-align: middle;\n",
       "    }\n",
       "\n",
       "    .dataframe tbody tr th {\n",
       "        vertical-align: top;\n",
       "    }\n",
       "\n",
       "    .dataframe thead th {\n",
       "        text-align: right;\n",
       "    }\n",
       "</style>\n",
       "<table border=\"1\" class=\"dataframe\">\n",
       "  <thead>\n",
       "    <tr style=\"text-align: right;\">\n",
       "      <th></th>\n",
       "      <th>model</th>\n",
       "      <th>model_year</th>\n",
       "    </tr>\n",
       "  </thead>\n",
       "  <tbody>\n",
       "    <tr>\n",
       "      <th>0</th>\n",
       "      <td>acura tl</td>\n",
       "      <td>2007.517857</td>\n",
       "    </tr>\n",
       "    <tr>\n",
       "      <th>1</th>\n",
       "      <td>bmw x5</td>\n",
       "      <td>2008.991870</td>\n",
       "    </tr>\n",
       "    <tr>\n",
       "      <th>2</th>\n",
       "      <td>buick enclave</td>\n",
       "      <td>2012.194553</td>\n",
       "    </tr>\n",
       "    <tr>\n",
       "      <th>3</th>\n",
       "      <td>cadillac escalade</td>\n",
       "      <td>2008.508475</td>\n",
       "    </tr>\n",
       "    <tr>\n",
       "      <th>4</th>\n",
       "      <td>chevrolet camaro</td>\n",
       "      <td>2008.397959</td>\n",
       "    </tr>\n",
       "    <tr>\n",
       "      <th>...</th>\n",
       "      <td>...</td>\n",
       "      <td>...</td>\n",
       "    </tr>\n",
       "    <tr>\n",
       "      <th>95</th>\n",
       "      <td>toyota sienna</td>\n",
       "      <td>2008.584416</td>\n",
       "    </tr>\n",
       "    <tr>\n",
       "      <th>96</th>\n",
       "      <td>toyota tacoma</td>\n",
       "      <td>2009.331599</td>\n",
       "    </tr>\n",
       "    <tr>\n",
       "      <th>97</th>\n",
       "      <td>toyota tundra</td>\n",
       "      <td>2009.350352</td>\n",
       "    </tr>\n",
       "    <tr>\n",
       "      <th>98</th>\n",
       "      <td>volkswagen jetta</td>\n",
       "      <td>2010.779381</td>\n",
       "    </tr>\n",
       "    <tr>\n",
       "      <th>99</th>\n",
       "      <td>volkswagen passat</td>\n",
       "      <td>2011.253086</td>\n",
       "    </tr>\n",
       "  </tbody>\n",
       "</table>\n",
       "<p>100 rows × 2 columns</p>\n",
       "</div>"
      ],
      "text/plain": [
       "                model   model_year\n",
       "0            acura tl  2007.517857\n",
       "1              bmw x5  2008.991870\n",
       "2       buick enclave  2012.194553\n",
       "3   cadillac escalade  2008.508475\n",
       "4    chevrolet camaro  2008.397959\n",
       "..                ...          ...\n",
       "95      toyota sienna  2008.584416\n",
       "96      toyota tacoma  2009.331599\n",
       "97      toyota tundra  2009.350352\n",
       "98   volkswagen jetta  2010.779381\n",
       "99  volkswagen passat  2011.253086\n",
       "\n",
       "[100 rows x 2 columns]"
      ]
     },
     "execution_count": 9,
     "metadata": {},
     "output_type": "execute_result"
    }
   ],
   "source": [
    "data[[\"model\",\"model_year\"]].groupby(\"model\").mean().reset_index()"
   ]
  },
  {
   "cell_type": "code",
   "execution_count": 10,
   "metadata": {},
   "outputs": [],
   "source": [
    "#Filling the missing values in the model_year column\n",
    "\n",
    "spurs = data[[\"model\",\"model_year\"]].groupby(\"model\")[\"model_year\"].transform('mean')\n",
    "\n",
    "#Here, the transform() method is used to obtain all the null-fill values of the mean \"model_year\" column found \n",
    "# in \"model\" and stores it in spurs\n",
    "\n",
    "\n",
    "data['model_year'].fillna(spurs, inplace=True)\n",
    "# This line of code goes into the dataset, and fills all the missing values "
   ]
  },
  {
   "cell_type": "markdown",
   "metadata": {},
   "source": [
    "Getting a general information about the dataset to see if the null values in \"model_year\" have been filled"
   ]
  },
  {
   "cell_type": "code",
   "execution_count": 11,
   "metadata": {},
   "outputs": [
    {
     "name": "stdout",
     "output_type": "stream",
     "text": [
      "<class 'pandas.core.frame.DataFrame'>\n",
      "RangeIndex: 51525 entries, 0 to 51524\n",
      "Data columns (total 13 columns):\n",
      " #   Column        Non-Null Count  Dtype  \n",
      "---  ------        --------------  -----  \n",
      " 0   price         51525 non-null  int64  \n",
      " 1   model_year    51525 non-null  float64\n",
      " 2   model         51525 non-null  object \n",
      " 3   condition     51525 non-null  object \n",
      " 4   cylinders     46265 non-null  float64\n",
      " 5   fuel          51525 non-null  object \n",
      " 6   odometer      43633 non-null  float64\n",
      " 7   transmission  51525 non-null  object \n",
      " 8   type          51525 non-null  object \n",
      " 9   paint_color   42258 non-null  object \n",
      " 10  is_4wd        25572 non-null  float64\n",
      " 11  date_posted   51525 non-null  object \n",
      " 12  days_listed   51525 non-null  int64  \n",
      "dtypes: float64(4), int64(2), object(7)\n",
      "memory usage: 5.1+ MB\n"
     ]
    }
   ],
   "source": [
    "data.info()"
   ]
  },
  {
   "cell_type": "markdown",
   "metadata": {},
   "source": [
    "Visualizing the first 5 rows after the \"model_year\" has been filled"
   ]
  },
  {
   "cell_type": "code",
   "execution_count": 12,
   "metadata": {},
   "outputs": [
    {
     "data": {
      "text/html": [
       "<div>\n",
       "<style scoped>\n",
       "    .dataframe tbody tr th:only-of-type {\n",
       "        vertical-align: middle;\n",
       "    }\n",
       "\n",
       "    .dataframe tbody tr th {\n",
       "        vertical-align: top;\n",
       "    }\n",
       "\n",
       "    .dataframe thead th {\n",
       "        text-align: right;\n",
       "    }\n",
       "</style>\n",
       "<table border=\"1\" class=\"dataframe\">\n",
       "  <thead>\n",
       "    <tr style=\"text-align: right;\">\n",
       "      <th></th>\n",
       "      <th>price</th>\n",
       "      <th>model_year</th>\n",
       "      <th>model</th>\n",
       "      <th>condition</th>\n",
       "      <th>cylinders</th>\n",
       "      <th>fuel</th>\n",
       "      <th>odometer</th>\n",
       "      <th>transmission</th>\n",
       "      <th>type</th>\n",
       "      <th>paint_color</th>\n",
       "      <th>is_4wd</th>\n",
       "      <th>date_posted</th>\n",
       "      <th>days_listed</th>\n",
       "    </tr>\n",
       "  </thead>\n",
       "  <tbody>\n",
       "    <tr>\n",
       "      <th>0</th>\n",
       "      <td>9400</td>\n",
       "      <td>2011.000000</td>\n",
       "      <td>bmw x5</td>\n",
       "      <td>good</td>\n",
       "      <td>6.0</td>\n",
       "      <td>gas</td>\n",
       "      <td>145000.0</td>\n",
       "      <td>automatic</td>\n",
       "      <td>SUV</td>\n",
       "      <td>NaN</td>\n",
       "      <td>1.0</td>\n",
       "      <td>2018-06-23</td>\n",
       "      <td>19</td>\n",
       "    </tr>\n",
       "    <tr>\n",
       "      <th>1</th>\n",
       "      <td>25500</td>\n",
       "      <td>2009.354702</td>\n",
       "      <td>ford f-150</td>\n",
       "      <td>good</td>\n",
       "      <td>6.0</td>\n",
       "      <td>gas</td>\n",
       "      <td>88705.0</td>\n",
       "      <td>automatic</td>\n",
       "      <td>pickup</td>\n",
       "      <td>white</td>\n",
       "      <td>1.0</td>\n",
       "      <td>2018-10-19</td>\n",
       "      <td>50</td>\n",
       "    </tr>\n",
       "    <tr>\n",
       "      <th>2</th>\n",
       "      <td>5500</td>\n",
       "      <td>2013.000000</td>\n",
       "      <td>hyundai sonata</td>\n",
       "      <td>like new</td>\n",
       "      <td>4.0</td>\n",
       "      <td>gas</td>\n",
       "      <td>110000.0</td>\n",
       "      <td>automatic</td>\n",
       "      <td>sedan</td>\n",
       "      <td>red</td>\n",
       "      <td>NaN</td>\n",
       "      <td>2019-02-07</td>\n",
       "      <td>79</td>\n",
       "    </tr>\n",
       "    <tr>\n",
       "      <th>3</th>\n",
       "      <td>1500</td>\n",
       "      <td>2003.000000</td>\n",
       "      <td>ford f-150</td>\n",
       "      <td>fair</td>\n",
       "      <td>8.0</td>\n",
       "      <td>gas</td>\n",
       "      <td>NaN</td>\n",
       "      <td>automatic</td>\n",
       "      <td>pickup</td>\n",
       "      <td>NaN</td>\n",
       "      <td>NaN</td>\n",
       "      <td>2019-03-22</td>\n",
       "      <td>9</td>\n",
       "    </tr>\n",
       "    <tr>\n",
       "      <th>4</th>\n",
       "      <td>14900</td>\n",
       "      <td>2017.000000</td>\n",
       "      <td>chrysler 200</td>\n",
       "      <td>excellent</td>\n",
       "      <td>4.0</td>\n",
       "      <td>gas</td>\n",
       "      <td>80903.0</td>\n",
       "      <td>automatic</td>\n",
       "      <td>sedan</td>\n",
       "      <td>black</td>\n",
       "      <td>NaN</td>\n",
       "      <td>2019-04-02</td>\n",
       "      <td>28</td>\n",
       "    </tr>\n",
       "  </tbody>\n",
       "</table>\n",
       "</div>"
      ],
      "text/plain": [
       "   price   model_year           model  condition  cylinders fuel  odometer  \\\n",
       "0   9400  2011.000000          bmw x5       good        6.0  gas  145000.0   \n",
       "1  25500  2009.354702      ford f-150       good        6.0  gas   88705.0   \n",
       "2   5500  2013.000000  hyundai sonata   like new        4.0  gas  110000.0   \n",
       "3   1500  2003.000000      ford f-150       fair        8.0  gas       NaN   \n",
       "4  14900  2017.000000    chrysler 200  excellent        4.0  gas   80903.0   \n",
       "\n",
       "  transmission    type paint_color  is_4wd date_posted  days_listed  \n",
       "0    automatic     SUV         NaN     1.0  2018-06-23           19  \n",
       "1    automatic  pickup       white     1.0  2018-10-19           50  \n",
       "2    automatic   sedan         red     NaN  2019-02-07           79  \n",
       "3    automatic  pickup         NaN     NaN  2019-03-22            9  \n",
       "4    automatic   sedan       black     NaN  2019-04-02           28  "
      ]
     },
     "execution_count": 12,
     "metadata": {},
     "output_type": "execute_result"
    }
   ],
   "source": [
    "#checking the first 5 rows of the dataset\n",
    "data.head(5)"
   ]
  },
  {
   "cell_type": "code",
   "execution_count": 13,
   "metadata": {},
   "outputs": [],
   "source": [
    "#Converting the \"model_year\" column from floats to integers\n",
    "\n",
    "data[\"model_year\"] = data[\"model_year\"].astype(\"int\")"
   ]
  },
  {
   "cell_type": "markdown",
   "metadata": {},
   "source": [
    "**Dealing with missing values in the \"odometer\" column**"
   ]
  },
  {
   "cell_type": "code",
   "execution_count": 14,
   "metadata": {},
   "outputs": [
    {
     "data": {
      "text/plain": [
       "7892"
      ]
     },
     "execution_count": 14,
     "metadata": {},
     "output_type": "execute_result"
    }
   ],
   "source": [
    "#Getting the number of missing parameters in the \"odometer\" column\n",
    "\n",
    "data[\"odometer\"].isna().sum()"
   ]
  },
  {
   "cell_type": "markdown",
   "metadata": {},
   "source": [
    "The \"odometer\" column has 7892 missing values.  We need to see if the median or mean should be used to the missing values. So, we check the numerical description of the column "
   ]
  },
  {
   "cell_type": "code",
   "execution_count": 15,
   "metadata": {},
   "outputs": [
    {
     "data": {
      "text/plain": [
       "count     43633.000000\n",
       "mean     115553.461738\n",
       "std       65094.611341\n",
       "min           0.000000\n",
       "25%       70000.000000\n",
       "50%      113000.000000\n",
       "75%      155000.000000\n",
       "max      990000.000000\n",
       "Name: odometer, dtype: float64"
      ]
     },
     "execution_count": 15,
     "metadata": {},
     "output_type": "execute_result"
    }
   ],
   "source": [
    "data[\"odometer\"].describe()"
   ]
  },
  {
   "cell_type": "markdown",
   "metadata": {},
   "source": [
    "The standard deviation is very high, this means that there are outliers in the dataset. Therefore, we have to use the median. However, we cannot use the global median of the \"odometer\" column to fill the missing values. We  have to locate attributes on which the \"odometer\" of a car depends. From our dataset, the \"odometer\" reading depends on \"model_year\". "
   ]
  },
  {
   "cell_type": "code",
   "execution_count": 16,
   "metadata": {},
   "outputs": [
    {
     "data": {
      "text/plain": [
       "2012    3817\n",
       "2013    3706\n",
       "2011    3701\n",
       "2014    3497\n",
       "2008    3489\n",
       "        ... \n",
       "1936       1\n",
       "1949       1\n",
       "1954       1\n",
       "1929       1\n",
       "1961       1\n",
       "Name: model_year, Length: 68, dtype: int64"
      ]
     },
     "execution_count": 16,
     "metadata": {},
     "output_type": "execute_result"
    }
   ],
   "source": [
    "#Getting the value_counts of the \"model_year\" column\n",
    "data['model_year'].value_counts()\n"
   ]
  },
  {
   "cell_type": "markdown",
   "metadata": {},
   "source": [
    "We see that the \"model_year\" column has single values for several model_years. It can't be used like this, because a median() method cannot be performed on single values, and consequently can't used to fill the missing value in the odometer column. To use the model_years column, we have to bin the model_year column by creating a range of values using .qcut() method."
   ]
  },
  {
   "cell_type": "code",
   "execution_count": 17,
   "metadata": {},
   "outputs": [],
   "source": [
    "#Binning the model group, and assigning it to a variable \"model_year_grp\", where q = 10\n",
    "data['model_year_grp'] = pd.qcut(data['model_year'], q=10)"
   ]
  },
  {
   "cell_type": "code",
   "execution_count": 18,
   "metadata": {},
   "outputs": [
    {
     "data": {
      "text/plain": [
       "(2009.0, 2011.0]      6928\n",
       "(2013.0, 2015.0]      6877\n",
       "(1907.999, 2003.0]    6554\n",
       "(2007.0, 2009.0]      6371\n",
       "(2005.0, 2007.0]      5461\n",
       "(2016.0, 2019.0]      5021\n",
       "(2003.0, 2005.0]      3836\n",
       "(2011.0, 2012.0]      3817\n",
       "(2012.0, 2013.0]      3706\n",
       "(2015.0, 2016.0]      2954\n",
       "Name: model_year_grp, dtype: int64"
      ]
     },
     "execution_count": 18,
     "metadata": {},
     "output_type": "execute_result"
    }
   ],
   "source": [
    "#setting the parameter of q to q = 10\n",
    "data['model_year_grp'].value_counts()"
   ]
  },
  {
   "cell_type": "code",
   "execution_count": 19,
   "metadata": {},
   "outputs": [
    {
     "data": {
      "text/html": [
       "<div>\n",
       "<style scoped>\n",
       "    .dataframe tbody tr th:only-of-type {\n",
       "        vertical-align: middle;\n",
       "    }\n",
       "\n",
       "    .dataframe tbody tr th {\n",
       "        vertical-align: top;\n",
       "    }\n",
       "\n",
       "    .dataframe thead th {\n",
       "        text-align: right;\n",
       "    }\n",
       "</style>\n",
       "<table border=\"1\" class=\"dataframe\">\n",
       "  <thead>\n",
       "    <tr style=\"text-align: right;\">\n",
       "      <th></th>\n",
       "      <th>model_year_grp</th>\n",
       "      <th>odometer</th>\n",
       "    </tr>\n",
       "  </thead>\n",
       "  <tbody>\n",
       "    <tr>\n",
       "      <th>0</th>\n",
       "      <td>(1907.999, 2003.0]</td>\n",
       "      <td>163000.0</td>\n",
       "    </tr>\n",
       "    <tr>\n",
       "      <th>1</th>\n",
       "      <td>(2003.0, 2005.0]</td>\n",
       "      <td>154000.0</td>\n",
       "    </tr>\n",
       "    <tr>\n",
       "      <th>2</th>\n",
       "      <td>(2005.0, 2007.0]</td>\n",
       "      <td>145000.0</td>\n",
       "    </tr>\n",
       "    <tr>\n",
       "      <th>3</th>\n",
       "      <td>(2007.0, 2009.0]</td>\n",
       "      <td>135980.5</td>\n",
       "    </tr>\n",
       "    <tr>\n",
       "      <th>4</th>\n",
       "      <td>(2009.0, 2011.0]</td>\n",
       "      <td>124196.5</td>\n",
       "    </tr>\n",
       "    <tr>\n",
       "      <th>5</th>\n",
       "      <td>(2011.0, 2012.0]</td>\n",
       "      <td>110000.0</td>\n",
       "    </tr>\n",
       "    <tr>\n",
       "      <th>6</th>\n",
       "      <td>(2012.0, 2013.0]</td>\n",
       "      <td>99766.0</td>\n",
       "    </tr>\n",
       "    <tr>\n",
       "      <th>7</th>\n",
       "      <td>(2013.0, 2015.0]</td>\n",
       "      <td>84680.0</td>\n",
       "    </tr>\n",
       "    <tr>\n",
       "      <th>8</th>\n",
       "      <td>(2015.0, 2016.0]</td>\n",
       "      <td>54000.0</td>\n",
       "    </tr>\n",
       "    <tr>\n",
       "      <th>9</th>\n",
       "      <td>(2016.0, 2019.0]</td>\n",
       "      <td>30331.0</td>\n",
       "    </tr>\n",
       "  </tbody>\n",
       "</table>\n",
       "</div>"
      ],
      "text/plain": [
       "       model_year_grp  odometer\n",
       "0  (1907.999, 2003.0]  163000.0\n",
       "1    (2003.0, 2005.0]  154000.0\n",
       "2    (2005.0, 2007.0]  145000.0\n",
       "3    (2007.0, 2009.0]  135980.5\n",
       "4    (2009.0, 2011.0]  124196.5\n",
       "5    (2011.0, 2012.0]  110000.0\n",
       "6    (2012.0, 2013.0]   99766.0\n",
       "7    (2013.0, 2015.0]   84680.0\n",
       "8    (2015.0, 2016.0]   54000.0\n",
       "9    (2016.0, 2019.0]   30331.0"
      ]
     },
     "execution_count": 19,
     "metadata": {},
     "output_type": "execute_result"
    }
   ],
   "source": [
    "data[[\"model_year_grp\",\"odometer\"]].groupby('model_year_grp')['odometer'].median().reset_index()"
   ]
  },
  {
   "cell_type": "code",
   "execution_count": 20,
   "metadata": {},
   "outputs": [],
   "source": [
    "stats = data[[\"model_year_grp\",\"odometer\"]].groupby('model_year_grp')['odometer'].transform('median')\n",
    "\n",
    "#Here, the transform() method is used to obtain all the null-fill values of the median odometer values found in\n",
    "# in \"model_year_grp\" and stores it in stats\n",
    "\n",
    "\n",
    "data['odometer'].fillna(stats, inplace=True)"
   ]
  },
  {
   "cell_type": "code",
   "execution_count": 21,
   "metadata": {},
   "outputs": [
    {
     "data": {
      "text/plain": [
       "0"
      ]
     },
     "execution_count": 21,
     "metadata": {},
     "output_type": "execute_result"
    }
   ],
   "source": [
    "#Checking the number of empty rows in the odometer column\n",
    "data[data[\"odometer\"].isnull()].shape[0]"
   ]
  },
  {
   "cell_type": "code",
   "execution_count": 22,
   "metadata": {},
   "outputs": [
    {
     "name": "stdout",
     "output_type": "stream",
     "text": [
      "<class 'pandas.core.frame.DataFrame'>\n",
      "RangeIndex: 51525 entries, 0 to 51524\n",
      "Data columns (total 14 columns):\n",
      " #   Column          Non-Null Count  Dtype   \n",
      "---  ------          --------------  -----   \n",
      " 0   price           51525 non-null  int64   \n",
      " 1   model_year      51525 non-null  int64   \n",
      " 2   model           51525 non-null  object  \n",
      " 3   condition       51525 non-null  object  \n",
      " 4   cylinders       46265 non-null  float64 \n",
      " 5   fuel            51525 non-null  object  \n",
      " 6   odometer        51525 non-null  float64 \n",
      " 7   transmission    51525 non-null  object  \n",
      " 8   type            51525 non-null  object  \n",
      " 9   paint_color     42258 non-null  object  \n",
      " 10  is_4wd          25572 non-null  float64 \n",
      " 11  date_posted     51525 non-null  object  \n",
      " 12  days_listed     51525 non-null  int64   \n",
      " 13  model_year_grp  51525 non-null  category\n",
      "dtypes: category(1), float64(3), int64(3), object(7)\n",
      "memory usage: 5.2+ MB\n"
     ]
    }
   ],
   "source": [
    "data.info()"
   ]
  },
  {
   "cell_type": "markdown",
   "metadata": {},
   "source": [
    "There are no more missing values in the \"odometer\" column. "
   ]
  },
  {
   "cell_type": "markdown",
   "metadata": {},
   "source": [
    "**Dealing with missing values in the \"is_4wd\" column**"
   ]
  },
  {
   "cell_type": "code",
   "execution_count": 23,
   "metadata": {},
   "outputs": [
    {
     "data": {
      "text/plain": [
       "1.0    25572\n",
       "Name: is_4wd, dtype: int64"
      ]
     },
     "execution_count": 23,
     "metadata": {},
     "output_type": "execute_result"
    }
   ],
   "source": [
    "#Getting the parameters in the \"is_4wd\" column\n",
    "data[\"is_4wd\"].value_counts()"
   ]
  },
  {
   "cell_type": "markdown",
   "metadata": {},
   "source": [
    "We need to convert this column to boolean variables, i.e True or False"
   ]
  },
  {
   "cell_type": "code",
   "execution_count": 24,
   "metadata": {},
   "outputs": [
    {
     "data": {
      "text/plain": [
       "False    25953\n",
       "True     25572\n",
       "Name: is_4wd, dtype: int64"
      ]
     },
     "execution_count": 24,
     "metadata": {},
     "output_type": "execute_result"
    }
   ],
   "source": [
    "data[\"is_4wd\"] = data[\"is_4wd\"].where(data[\"is_4wd\"] == 1, 0)\n",
    "#The where() parameter would be used to selectively rename all rows with 0 where the value is not equal to 1\n",
    "\n",
    "#Converting the data type from numeric to boolean using astype() method\n",
    "data[\"is_4wd\"] = data[\"is_4wd\"].astype(\"bool\")\n",
    "\n",
    "#Printing data[\"is_4wd\"]\n",
    "data[\"is_4wd\"].value_counts()\n",
    "\n",
    "#some_string = some_string.replace('leav', 'stay')"
   ]
  },
  {
   "cell_type": "markdown",
   "metadata": {},
   "source": [
    "**Dealing with \"type\" column**"
   ]
  },
  {
   "cell_type": "code",
   "execution_count": 25,
   "metadata": {},
   "outputs": [
    {
     "data": {
      "text/plain": [
       "array(['SUV', 'pickup', 'sedan', 'truck', 'coupe', 'van', 'convertible',\n",
       "       'hatchback', 'wagon', 'mini-van', 'other', 'offroad', 'bus'],\n",
       "      dtype=object)"
      ]
     },
     "execution_count": 25,
     "metadata": {},
     "output_type": "execute_result"
    }
   ],
   "source": [
    "data[\"type\"].unique()"
   ]
  },
  {
   "cell_type": "markdown",
   "metadata": {},
   "source": [
    "The only problem with this column is that SUV is written in upper case letter. We would convert it to lower case, using the str.lower() method"
   ]
  },
  {
   "cell_type": "code",
   "execution_count": 26,
   "metadata": {},
   "outputs": [],
   "source": [
    "data[\"type\"] = data[\"type\"].str.lower()"
   ]
  },
  {
   "cell_type": "code",
   "execution_count": 27,
   "metadata": {},
   "outputs": [
    {
     "data": {
      "text/plain": [
       "array(['suv', 'pickup', 'sedan', 'truck', 'coupe', 'van', 'convertible',\n",
       "       'hatchback', 'wagon', 'mini-van', 'other', 'offroad', 'bus'],\n",
       "      dtype=object)"
      ]
     },
     "execution_count": 27,
     "metadata": {},
     "output_type": "execute_result"
    }
   ],
   "source": [
    "data[\"type\"].unique()"
   ]
  },
  {
   "cell_type": "markdown",
   "metadata": {},
   "source": [
    "**Dealing with missing values in \"paint_color\" column**"
   ]
  },
  {
   "cell_type": "code",
   "execution_count": 28,
   "metadata": {},
   "outputs": [
    {
     "data": {
      "text/plain": [
       "9267"
      ]
     },
     "execution_count": 28,
     "metadata": {},
     "output_type": "execute_result"
    }
   ],
   "source": [
    "#Getting the number of missing values in the \"paint_color\" column\n",
    "\n",
    "data[\"paint_color\"].isna().sum()"
   ]
  },
  {
   "cell_type": "markdown",
   "metadata": {},
   "source": [
    "The \"paint_color\" column has 9267 missing values. The numerical description of the \"paint_color\" column gives"
   ]
  },
  {
   "cell_type": "code",
   "execution_count": 29,
   "metadata": {},
   "outputs": [
    {
     "data": {
      "text/plain": [
       "count     42258\n",
       "unique       12\n",
       "top       white\n",
       "freq      10029\n",
       "Name: paint_color, dtype: object"
      ]
     },
     "execution_count": 29,
     "metadata": {},
     "output_type": "execute_result"
    }
   ],
   "source": [
    "#Getting the numerical description of the column\n",
    "data[\"paint_color\"].describe()"
   ]
  },
  {
   "cell_type": "code",
   "execution_count": 30,
   "metadata": {},
   "outputs": [
    {
     "data": {
      "text/plain": [
       "white     10029\n",
       "black      7692\n",
       "silver     6244\n",
       "grey       5037\n",
       "blue       4475\n",
       "red        4421\n",
       "green      1396\n",
       "brown      1223\n",
       "custom     1153\n",
       "yellow      255\n",
       "orange      231\n",
       "purple      102\n",
       "Name: paint_color, dtype: int64"
      ]
     },
     "execution_count": 30,
     "metadata": {},
     "output_type": "execute_result"
    }
   ],
   "source": [
    "data[\"paint_color\"].value_counts()"
   ]
  },
  {
   "cell_type": "markdown",
   "metadata": {},
   "source": [
    "The numerical description gives twelve unique values for the paint_color column. That tells us that the column is categorical, and there is no other data that can be used as a reference to fill the missing data in this column. So, the Nan values in this dataset will be replaced with \"no info\""
   ]
  },
  {
   "cell_type": "code",
   "execution_count": 31,
   "metadata": {},
   "outputs": [],
   "source": [
    "#Replacing Nan values with \"no info\"\n",
    "data[\"paint_color\"] = data[\"paint_color\"].fillna(\"no info\")"
   ]
  },
  {
   "cell_type": "code",
   "execution_count": 32,
   "metadata": {},
   "outputs": [
    {
     "data": {
      "text/plain": [
       "white      10029\n",
       "no info     9267\n",
       "black       7692\n",
       "silver      6244\n",
       "grey        5037\n",
       "blue        4475\n",
       "red         4421\n",
       "green       1396\n",
       "brown       1223\n",
       "custom      1153\n",
       "yellow       255\n",
       "orange       231\n",
       "purple       102\n",
       "Name: paint_color, dtype: int64"
      ]
     },
     "execution_count": 32,
     "metadata": {},
     "output_type": "execute_result"
    }
   ],
   "source": [
    "#Getting the count of each color and other parameters e.g \"no info\"\n",
    "data[\"paint_color\"].value_counts()"
   ]
  },
  {
   "cell_type": "markdown",
   "metadata": {},
   "source": [
    "**Dealing with missing values in \"cylinders\" column**"
   ]
  },
  {
   "cell_type": "code",
   "execution_count": 33,
   "metadata": {},
   "outputs": [
    {
     "data": {
      "text/plain": [
       "5260"
      ]
     },
     "execution_count": 33,
     "metadata": {},
     "output_type": "execute_result"
    }
   ],
   "source": [
    "#Getting the number of missing values in the \"cylinders\" column\n",
    "\n",
    "data[\"cylinders\"].isna().sum()"
   ]
  },
  {
   "cell_type": "code",
   "execution_count": 34,
   "metadata": {},
   "outputs": [
    {
     "data": {
      "text/plain": [
       "count    46265.000000\n",
       "mean         6.125235\n",
       "std          1.660360\n",
       "min          3.000000\n",
       "25%          4.000000\n",
       "50%          6.000000\n",
       "75%          8.000000\n",
       "max         12.000000\n",
       "Name: cylinders, dtype: float64"
      ]
     },
     "execution_count": 34,
     "metadata": {},
     "output_type": "execute_result"
    }
   ],
   "source": [
    "data[\"cylinders\"].describe()"
   ]
  },
  {
   "cell_type": "markdown",
   "metadata": {},
   "source": [
    "The standard deviation is quite low, this means that there are few outliers in the dataset. However, we will use the median to fill the missing values. The attribute on which the cylinder of a car depends is the \"model\". "
   ]
  },
  {
   "cell_type": "code",
   "execution_count": 35,
   "metadata": {},
   "outputs": [
    {
     "data": {
      "text/html": [
       "<div>\n",
       "<style scoped>\n",
       "    .dataframe tbody tr th:only-of-type {\n",
       "        vertical-align: middle;\n",
       "    }\n",
       "\n",
       "    .dataframe tbody tr th {\n",
       "        vertical-align: top;\n",
       "    }\n",
       "\n",
       "    .dataframe thead th {\n",
       "        text-align: right;\n",
       "    }\n",
       "</style>\n",
       "<table border=\"1\" class=\"dataframe\">\n",
       "  <thead>\n",
       "    <tr style=\"text-align: right;\">\n",
       "      <th></th>\n",
       "      <th>model</th>\n",
       "      <th>cylinders</th>\n",
       "    </tr>\n",
       "  </thead>\n",
       "  <tbody>\n",
       "    <tr>\n",
       "      <th>0</th>\n",
       "      <td>acura tl</td>\n",
       "      <td>6.0</td>\n",
       "    </tr>\n",
       "    <tr>\n",
       "      <th>1</th>\n",
       "      <td>bmw x5</td>\n",
       "      <td>6.0</td>\n",
       "    </tr>\n",
       "    <tr>\n",
       "      <th>2</th>\n",
       "      <td>buick enclave</td>\n",
       "      <td>6.0</td>\n",
       "    </tr>\n",
       "    <tr>\n",
       "      <th>3</th>\n",
       "      <td>cadillac escalade</td>\n",
       "      <td>8.0</td>\n",
       "    </tr>\n",
       "    <tr>\n",
       "      <th>4</th>\n",
       "      <td>chevrolet camaro</td>\n",
       "      <td>6.0</td>\n",
       "    </tr>\n",
       "    <tr>\n",
       "      <th>...</th>\n",
       "      <td>...</td>\n",
       "      <td>...</td>\n",
       "    </tr>\n",
       "    <tr>\n",
       "      <th>95</th>\n",
       "      <td>toyota sienna</td>\n",
       "      <td>6.0</td>\n",
       "    </tr>\n",
       "    <tr>\n",
       "      <th>96</th>\n",
       "      <td>toyota tacoma</td>\n",
       "      <td>6.0</td>\n",
       "    </tr>\n",
       "    <tr>\n",
       "      <th>97</th>\n",
       "      <td>toyota tundra</td>\n",
       "      <td>8.0</td>\n",
       "    </tr>\n",
       "    <tr>\n",
       "      <th>98</th>\n",
       "      <td>volkswagen jetta</td>\n",
       "      <td>4.0</td>\n",
       "    </tr>\n",
       "    <tr>\n",
       "      <th>99</th>\n",
       "      <td>volkswagen passat</td>\n",
       "      <td>4.0</td>\n",
       "    </tr>\n",
       "  </tbody>\n",
       "</table>\n",
       "<p>100 rows × 2 columns</p>\n",
       "</div>"
      ],
      "text/plain": [
       "                model  cylinders\n",
       "0            acura tl        6.0\n",
       "1              bmw x5        6.0\n",
       "2       buick enclave        6.0\n",
       "3   cadillac escalade        8.0\n",
       "4    chevrolet camaro        6.0\n",
       "..                ...        ...\n",
       "95      toyota sienna        6.0\n",
       "96      toyota tacoma        6.0\n",
       "97      toyota tundra        8.0\n",
       "98   volkswagen jetta        4.0\n",
       "99  volkswagen passat        4.0\n",
       "\n",
       "[100 rows x 2 columns]"
      ]
     },
     "execution_count": 35,
     "metadata": {},
     "output_type": "execute_result"
    }
   ],
   "source": [
    "#Checking the distribution of the median for the \"cylinders\" column in relation to the \"model\" column\n",
    "\n",
    "data[[\"model\",\"cylinders\"]].groupby(\"model\").median().reset_index()"
   ]
  },
  {
   "cell_type": "code",
   "execution_count": 36,
   "metadata": {},
   "outputs": [],
   "source": [
    "#Filling the missing values in the cylinders column\n",
    "data[\"cylinders\"] = data[[\"model\",\"cylinders\"]].groupby(\"model\").transform(lambda x: x.fillna(x.median()))"
   ]
  },
  {
   "cell_type": "code",
   "execution_count": 37,
   "metadata": {},
   "outputs": [
    {
     "data": {
      "text/plain": [
       "0"
      ]
     },
     "execution_count": 37,
     "metadata": {},
     "output_type": "execute_result"
    }
   ],
   "source": [
    "data[\"cylinders\"].isnull().sum()"
   ]
  },
  {
   "cell_type": "code",
   "execution_count": 38,
   "metadata": {},
   "outputs": [
    {
     "name": "stdout",
     "output_type": "stream",
     "text": [
      "<class 'pandas.core.frame.DataFrame'>\n",
      "RangeIndex: 51525 entries, 0 to 51524\n",
      "Data columns (total 14 columns):\n",
      " #   Column          Non-Null Count  Dtype   \n",
      "---  ------          --------------  -----   \n",
      " 0   price           51525 non-null  int64   \n",
      " 1   model_year      51525 non-null  int64   \n",
      " 2   model           51525 non-null  object  \n",
      " 3   condition       51525 non-null  object  \n",
      " 4   cylinders       51525 non-null  float64 \n",
      " 5   fuel            51525 non-null  object  \n",
      " 6   odometer        51525 non-null  float64 \n",
      " 7   transmission    51525 non-null  object  \n",
      " 8   type            51525 non-null  object  \n",
      " 9   paint_color     51525 non-null  object  \n",
      " 10  is_4wd          51525 non-null  bool    \n",
      " 11  date_posted     51525 non-null  object  \n",
      " 12  days_listed     51525 non-null  int64   \n",
      " 13  model_year_grp  51525 non-null  category\n",
      "dtypes: bool(1), category(1), float64(2), int64(3), object(7)\n",
      "memory usage: 4.8+ MB\n"
     ]
    }
   ],
   "source": [
    "#checking the information of the dataset to see if the missing values have all been filled\n",
    "\n",
    "data.info()"
   ]
  },
  {
   "cell_type": "markdown",
   "metadata": {},
   "source": [
    "All the missing values in the cylinders column have been filled."
   ]
  },
  {
   "cell_type": "markdown",
   "metadata": {},
   "source": [
    "The dataset has been checked and missing values have been filled. The \"paint_color\" column contained categorical variables, and the missing values could not be filled. So, those values were replaced with \"no info\". Other than the \"paint_color\" column, other columns that had missing values were filled based on columns that they were dependent on. They were filled with either the mean or median of those columns, depending on the standard deviation. "
   ]
  },
  {
   "cell_type": "markdown",
   "metadata": {},
   "source": [
    "\n",
    "**Fixing the \"date_posted\" cell**"
   ]
  },
  {
   "cell_type": "markdown",
   "metadata": {},
   "source": [
    "This cell has object type values. However, it is supposed to be datetime. The to_datetime() method will be used to correct the discrepancy"
   ]
  },
  {
   "cell_type": "code",
   "execution_count": 39,
   "metadata": {},
   "outputs": [],
   "source": [
    "#Correcting the issue with \"date_posted\" format \n",
    "data[\"date_posted\"] = pd.to_datetime(data[\"date_posted\"], format = \"%Y-%m-%d\")"
   ]
  },
  {
   "cell_type": "code",
   "execution_count": 40,
   "metadata": {},
   "outputs": [
    {
     "name": "stdout",
     "output_type": "stream",
     "text": [
      "<class 'pandas.core.frame.DataFrame'>\n",
      "RangeIndex: 51525 entries, 0 to 51524\n",
      "Data columns (total 14 columns):\n",
      " #   Column          Non-Null Count  Dtype         \n",
      "---  ------          --------------  -----         \n",
      " 0   price           51525 non-null  int64         \n",
      " 1   model_year      51525 non-null  int64         \n",
      " 2   model           51525 non-null  object        \n",
      " 3   condition       51525 non-null  object        \n",
      " 4   cylinders       51525 non-null  float64       \n",
      " 5   fuel            51525 non-null  object        \n",
      " 6   odometer        51525 non-null  float64       \n",
      " 7   transmission    51525 non-null  object        \n",
      " 8   type            51525 non-null  object        \n",
      " 9   paint_color     51525 non-null  object        \n",
      " 10  is_4wd          51525 non-null  bool          \n",
      " 11  date_posted     51525 non-null  datetime64[ns]\n",
      " 12  days_listed     51525 non-null  int64         \n",
      " 13  model_year_grp  51525 non-null  category      \n",
      "dtypes: bool(1), category(1), datetime64[ns](1), float64(2), int64(3), object(6)\n",
      "memory usage: 4.8+ MB\n"
     ]
    }
   ],
   "source": [
    "data.info()"
   ]
  },
  {
   "cell_type": "markdown",
   "metadata": {},
   "source": [
    "The data_posted column has been corrected. It no longer reflects object, but datetime"
   ]
  },
  {
   "cell_type": "markdown",
   "metadata": {},
   "source": [
    "**Conclusion**\n",
    "\n",
    "\n",
    "The columns have been changed to the appropriate types, missing values have been filled for all the columns."
   ]
  },
  {
   "cell_type": "markdown",
   "metadata": {},
   "source": [
    "## Calculation for New Columns"
   ]
  },
  {
   "cell_type": "markdown",
   "metadata": {},
   "source": [
    "**Creating columns for weekday, month, and year**"
   ]
  },
  {
   "cell_type": "markdown",
   "metadata": {},
   "source": [
    "To make our analysis easier, we would add some columns into our dataset: data[day], data[month], data[year], using the attributes: dt.day for days of the week, dt.month for months of the year, dt.year for the year. "
   ]
  },
  {
   "cell_type": "code",
   "execution_count": 41,
   "metadata": {},
   "outputs": [
    {
     "data": {
      "text/html": [
       "<div>\n",
       "<style scoped>\n",
       "    .dataframe tbody tr th:only-of-type {\n",
       "        vertical-align: middle;\n",
       "    }\n",
       "\n",
       "    .dataframe tbody tr th {\n",
       "        vertical-align: top;\n",
       "    }\n",
       "\n",
       "    .dataframe thead th {\n",
       "        text-align: right;\n",
       "    }\n",
       "</style>\n",
       "<table border=\"1\" class=\"dataframe\">\n",
       "  <thead>\n",
       "    <tr style=\"text-align: right;\">\n",
       "      <th></th>\n",
       "      <th>price</th>\n",
       "      <th>model_year</th>\n",
       "      <th>model</th>\n",
       "      <th>condition</th>\n",
       "      <th>cylinders</th>\n",
       "      <th>fuel</th>\n",
       "      <th>odometer</th>\n",
       "      <th>transmission</th>\n",
       "      <th>type</th>\n",
       "      <th>paint_color</th>\n",
       "      <th>is_4wd</th>\n",
       "      <th>date_posted</th>\n",
       "      <th>days_listed</th>\n",
       "      <th>model_year_grp</th>\n",
       "    </tr>\n",
       "  </thead>\n",
       "  <tbody>\n",
       "    <tr>\n",
       "      <th>0</th>\n",
       "      <td>9400</td>\n",
       "      <td>2011</td>\n",
       "      <td>bmw x5</td>\n",
       "      <td>good</td>\n",
       "      <td>6.0</td>\n",
       "      <td>gas</td>\n",
       "      <td>145000.0</td>\n",
       "      <td>automatic</td>\n",
       "      <td>suv</td>\n",
       "      <td>no info</td>\n",
       "      <td>True</td>\n",
       "      <td>2018-06-23</td>\n",
       "      <td>19</td>\n",
       "      <td>(2009.0, 2011.0]</td>\n",
       "    </tr>\n",
       "    <tr>\n",
       "      <th>1</th>\n",
       "      <td>25500</td>\n",
       "      <td>2009</td>\n",
       "      <td>ford f-150</td>\n",
       "      <td>good</td>\n",
       "      <td>6.0</td>\n",
       "      <td>gas</td>\n",
       "      <td>88705.0</td>\n",
       "      <td>automatic</td>\n",
       "      <td>pickup</td>\n",
       "      <td>white</td>\n",
       "      <td>True</td>\n",
       "      <td>2018-10-19</td>\n",
       "      <td>50</td>\n",
       "      <td>(2007.0, 2009.0]</td>\n",
       "    </tr>\n",
       "    <tr>\n",
       "      <th>2</th>\n",
       "      <td>5500</td>\n",
       "      <td>2013</td>\n",
       "      <td>hyundai sonata</td>\n",
       "      <td>like new</td>\n",
       "      <td>4.0</td>\n",
       "      <td>gas</td>\n",
       "      <td>110000.0</td>\n",
       "      <td>automatic</td>\n",
       "      <td>sedan</td>\n",
       "      <td>red</td>\n",
       "      <td>False</td>\n",
       "      <td>2019-02-07</td>\n",
       "      <td>79</td>\n",
       "      <td>(2012.0, 2013.0]</td>\n",
       "    </tr>\n",
       "    <tr>\n",
       "      <th>3</th>\n",
       "      <td>1500</td>\n",
       "      <td>2003</td>\n",
       "      <td>ford f-150</td>\n",
       "      <td>fair</td>\n",
       "      <td>8.0</td>\n",
       "      <td>gas</td>\n",
       "      <td>163000.0</td>\n",
       "      <td>automatic</td>\n",
       "      <td>pickup</td>\n",
       "      <td>no info</td>\n",
       "      <td>False</td>\n",
       "      <td>2019-03-22</td>\n",
       "      <td>9</td>\n",
       "      <td>(1907.999, 2003.0]</td>\n",
       "    </tr>\n",
       "    <tr>\n",
       "      <th>4</th>\n",
       "      <td>14900</td>\n",
       "      <td>2017</td>\n",
       "      <td>chrysler 200</td>\n",
       "      <td>excellent</td>\n",
       "      <td>4.0</td>\n",
       "      <td>gas</td>\n",
       "      <td>80903.0</td>\n",
       "      <td>automatic</td>\n",
       "      <td>sedan</td>\n",
       "      <td>black</td>\n",
       "      <td>False</td>\n",
       "      <td>2019-04-02</td>\n",
       "      <td>28</td>\n",
       "      <td>(2016.0, 2019.0]</td>\n",
       "    </tr>\n",
       "  </tbody>\n",
       "</table>\n",
       "</div>"
      ],
      "text/plain": [
       "   price  model_year           model  condition  cylinders fuel  odometer  \\\n",
       "0   9400        2011          bmw x5       good        6.0  gas  145000.0   \n",
       "1  25500        2009      ford f-150       good        6.0  gas   88705.0   \n",
       "2   5500        2013  hyundai sonata   like new        4.0  gas  110000.0   \n",
       "3   1500        2003      ford f-150       fair        8.0  gas  163000.0   \n",
       "4  14900        2017    chrysler 200  excellent        4.0  gas   80903.0   \n",
       "\n",
       "  transmission    type paint_color  is_4wd date_posted  days_listed  \\\n",
       "0    automatic     suv     no info    True  2018-06-23           19   \n",
       "1    automatic  pickup       white    True  2018-10-19           50   \n",
       "2    automatic   sedan         red   False  2019-02-07           79   \n",
       "3    automatic  pickup     no info   False  2019-03-22            9   \n",
       "4    automatic   sedan       black   False  2019-04-02           28   \n",
       "\n",
       "       model_year_grp  \n",
       "0    (2009.0, 2011.0]  \n",
       "1    (2007.0, 2009.0]  \n",
       "2    (2012.0, 2013.0]  \n",
       "3  (1907.999, 2003.0]  \n",
       "4    (2016.0, 2019.0]  "
      ]
     },
     "execution_count": 41,
     "metadata": {},
     "output_type": "execute_result"
    }
   ],
   "source": [
    "data.head(5)"
   ]
  },
  {
   "cell_type": "code",
   "execution_count": 42,
   "metadata": {},
   "outputs": [],
   "source": [
    "# Adding datetime values for when the ad was placed\n",
    "\n",
    "data[\"day\"] = data[\"date_posted\"].dt.day_name()\n",
    "\n",
    "data[\"month\"] = data[\"date_posted\"].dt.month\n",
    "\n",
    "data[\"year\"] = data[\"date_posted\"].dt.year"
   ]
  },
  {
   "cell_type": "code",
   "execution_count": 43,
   "metadata": {},
   "outputs": [
    {
     "data": {
      "text/html": [
       "<div>\n",
       "<style scoped>\n",
       "    .dataframe tbody tr th:only-of-type {\n",
       "        vertical-align: middle;\n",
       "    }\n",
       "\n",
       "    .dataframe tbody tr th {\n",
       "        vertical-align: top;\n",
       "    }\n",
       "\n",
       "    .dataframe thead th {\n",
       "        text-align: right;\n",
       "    }\n",
       "</style>\n",
       "<table border=\"1\" class=\"dataframe\">\n",
       "  <thead>\n",
       "    <tr style=\"text-align: right;\">\n",
       "      <th></th>\n",
       "      <th>price</th>\n",
       "      <th>model_year</th>\n",
       "      <th>model</th>\n",
       "      <th>condition</th>\n",
       "      <th>cylinders</th>\n",
       "      <th>fuel</th>\n",
       "      <th>odometer</th>\n",
       "      <th>transmission</th>\n",
       "      <th>type</th>\n",
       "      <th>paint_color</th>\n",
       "      <th>is_4wd</th>\n",
       "      <th>date_posted</th>\n",
       "      <th>days_listed</th>\n",
       "      <th>model_year_grp</th>\n",
       "      <th>day</th>\n",
       "      <th>month</th>\n",
       "      <th>year</th>\n",
       "    </tr>\n",
       "  </thead>\n",
       "  <tbody>\n",
       "    <tr>\n",
       "      <th>0</th>\n",
       "      <td>9400</td>\n",
       "      <td>2011</td>\n",
       "      <td>bmw x5</td>\n",
       "      <td>good</td>\n",
       "      <td>6.0</td>\n",
       "      <td>gas</td>\n",
       "      <td>145000.0</td>\n",
       "      <td>automatic</td>\n",
       "      <td>suv</td>\n",
       "      <td>no info</td>\n",
       "      <td>True</td>\n",
       "      <td>2018-06-23</td>\n",
       "      <td>19</td>\n",
       "      <td>(2009.0, 2011.0]</td>\n",
       "      <td>Saturday</td>\n",
       "      <td>6</td>\n",
       "      <td>2018</td>\n",
       "    </tr>\n",
       "    <tr>\n",
       "      <th>1</th>\n",
       "      <td>25500</td>\n",
       "      <td>2009</td>\n",
       "      <td>ford f-150</td>\n",
       "      <td>good</td>\n",
       "      <td>6.0</td>\n",
       "      <td>gas</td>\n",
       "      <td>88705.0</td>\n",
       "      <td>automatic</td>\n",
       "      <td>pickup</td>\n",
       "      <td>white</td>\n",
       "      <td>True</td>\n",
       "      <td>2018-10-19</td>\n",
       "      <td>50</td>\n",
       "      <td>(2007.0, 2009.0]</td>\n",
       "      <td>Friday</td>\n",
       "      <td>10</td>\n",
       "      <td>2018</td>\n",
       "    </tr>\n",
       "    <tr>\n",
       "      <th>2</th>\n",
       "      <td>5500</td>\n",
       "      <td>2013</td>\n",
       "      <td>hyundai sonata</td>\n",
       "      <td>like new</td>\n",
       "      <td>4.0</td>\n",
       "      <td>gas</td>\n",
       "      <td>110000.0</td>\n",
       "      <td>automatic</td>\n",
       "      <td>sedan</td>\n",
       "      <td>red</td>\n",
       "      <td>False</td>\n",
       "      <td>2019-02-07</td>\n",
       "      <td>79</td>\n",
       "      <td>(2012.0, 2013.0]</td>\n",
       "      <td>Thursday</td>\n",
       "      <td>2</td>\n",
       "      <td>2019</td>\n",
       "    </tr>\n",
       "    <tr>\n",
       "      <th>3</th>\n",
       "      <td>1500</td>\n",
       "      <td>2003</td>\n",
       "      <td>ford f-150</td>\n",
       "      <td>fair</td>\n",
       "      <td>8.0</td>\n",
       "      <td>gas</td>\n",
       "      <td>163000.0</td>\n",
       "      <td>automatic</td>\n",
       "      <td>pickup</td>\n",
       "      <td>no info</td>\n",
       "      <td>False</td>\n",
       "      <td>2019-03-22</td>\n",
       "      <td>9</td>\n",
       "      <td>(1907.999, 2003.0]</td>\n",
       "      <td>Friday</td>\n",
       "      <td>3</td>\n",
       "      <td>2019</td>\n",
       "    </tr>\n",
       "    <tr>\n",
       "      <th>4</th>\n",
       "      <td>14900</td>\n",
       "      <td>2017</td>\n",
       "      <td>chrysler 200</td>\n",
       "      <td>excellent</td>\n",
       "      <td>4.0</td>\n",
       "      <td>gas</td>\n",
       "      <td>80903.0</td>\n",
       "      <td>automatic</td>\n",
       "      <td>sedan</td>\n",
       "      <td>black</td>\n",
       "      <td>False</td>\n",
       "      <td>2019-04-02</td>\n",
       "      <td>28</td>\n",
       "      <td>(2016.0, 2019.0]</td>\n",
       "      <td>Tuesday</td>\n",
       "      <td>4</td>\n",
       "      <td>2019</td>\n",
       "    </tr>\n",
       "  </tbody>\n",
       "</table>\n",
       "</div>"
      ],
      "text/plain": [
       "   price  model_year           model  condition  cylinders fuel  odometer  \\\n",
       "0   9400        2011          bmw x5       good        6.0  gas  145000.0   \n",
       "1  25500        2009      ford f-150       good        6.0  gas   88705.0   \n",
       "2   5500        2013  hyundai sonata   like new        4.0  gas  110000.0   \n",
       "3   1500        2003      ford f-150       fair        8.0  gas  163000.0   \n",
       "4  14900        2017    chrysler 200  excellent        4.0  gas   80903.0   \n",
       "\n",
       "  transmission    type paint_color  is_4wd date_posted  days_listed  \\\n",
       "0    automatic     suv     no info    True  2018-06-23           19   \n",
       "1    automatic  pickup       white    True  2018-10-19           50   \n",
       "2    automatic   sedan         red   False  2019-02-07           79   \n",
       "3    automatic  pickup     no info   False  2019-03-22            9   \n",
       "4    automatic   sedan       black   False  2019-04-02           28   \n",
       "\n",
       "       model_year_grp       day  month  year  \n",
       "0    (2009.0, 2011.0]  Saturday      6  2018  \n",
       "1    (2007.0, 2009.0]    Friday     10  2018  \n",
       "2    (2012.0, 2013.0]  Thursday      2  2019  \n",
       "3  (1907.999, 2003.0]    Friday      3  2019  \n",
       "4    (2016.0, 2019.0]   Tuesday      4  2019  "
      ]
     },
     "execution_count": 43,
     "metadata": {},
     "output_type": "execute_result"
    }
   ],
   "source": [
    "data.head(5)\n",
    "#Note for the days, 0 = Moday, 6 = sunday. 06-23-2018, was saturday. That is why the system gave 5.\n"
   ]
  },
  {
   "cell_type": "markdown",
   "metadata": {},
   "source": [
    "**Age of the Vehicle**"
   ]
  },
  {
   "cell_type": "code",
   "execution_count": 44,
   "metadata": {},
   "outputs": [
    {
     "data": {
      "text/html": [
       "<div>\n",
       "<style scoped>\n",
       "    .dataframe tbody tr th:only-of-type {\n",
       "        vertical-align: middle;\n",
       "    }\n",
       "\n",
       "    .dataframe tbody tr th {\n",
       "        vertical-align: top;\n",
       "    }\n",
       "\n",
       "    .dataframe thead th {\n",
       "        text-align: right;\n",
       "    }\n",
       "</style>\n",
       "<table border=\"1\" class=\"dataframe\">\n",
       "  <thead>\n",
       "    <tr style=\"text-align: right;\">\n",
       "      <th></th>\n",
       "      <th>price</th>\n",
       "      <th>model_year</th>\n",
       "      <th>model</th>\n",
       "      <th>condition</th>\n",
       "      <th>cylinders</th>\n",
       "      <th>fuel</th>\n",
       "      <th>odometer</th>\n",
       "      <th>transmission</th>\n",
       "      <th>type</th>\n",
       "      <th>paint_color</th>\n",
       "      <th>is_4wd</th>\n",
       "      <th>date_posted</th>\n",
       "      <th>days_listed</th>\n",
       "      <th>model_year_grp</th>\n",
       "      <th>day</th>\n",
       "      <th>month</th>\n",
       "      <th>year</th>\n",
       "      <th>vehicle_age_ad</th>\n",
       "    </tr>\n",
       "  </thead>\n",
       "  <tbody>\n",
       "    <tr>\n",
       "      <th>0</th>\n",
       "      <td>9400</td>\n",
       "      <td>2011</td>\n",
       "      <td>bmw x5</td>\n",
       "      <td>good</td>\n",
       "      <td>6.0</td>\n",
       "      <td>gas</td>\n",
       "      <td>145000.0</td>\n",
       "      <td>automatic</td>\n",
       "      <td>suv</td>\n",
       "      <td>no info</td>\n",
       "      <td>True</td>\n",
       "      <td>2018-06-23</td>\n",
       "      <td>19</td>\n",
       "      <td>(2009.0, 2011.0]</td>\n",
       "      <td>Saturday</td>\n",
       "      <td>6</td>\n",
       "      <td>2018</td>\n",
       "      <td>8</td>\n",
       "    </tr>\n",
       "    <tr>\n",
       "      <th>1</th>\n",
       "      <td>25500</td>\n",
       "      <td>2009</td>\n",
       "      <td>ford f-150</td>\n",
       "      <td>good</td>\n",
       "      <td>6.0</td>\n",
       "      <td>gas</td>\n",
       "      <td>88705.0</td>\n",
       "      <td>automatic</td>\n",
       "      <td>pickup</td>\n",
       "      <td>white</td>\n",
       "      <td>True</td>\n",
       "      <td>2018-10-19</td>\n",
       "      <td>50</td>\n",
       "      <td>(2007.0, 2009.0]</td>\n",
       "      <td>Friday</td>\n",
       "      <td>10</td>\n",
       "      <td>2018</td>\n",
       "      <td>10</td>\n",
       "    </tr>\n",
       "    <tr>\n",
       "      <th>2</th>\n",
       "      <td>5500</td>\n",
       "      <td>2013</td>\n",
       "      <td>hyundai sonata</td>\n",
       "      <td>like new</td>\n",
       "      <td>4.0</td>\n",
       "      <td>gas</td>\n",
       "      <td>110000.0</td>\n",
       "      <td>automatic</td>\n",
       "      <td>sedan</td>\n",
       "      <td>red</td>\n",
       "      <td>False</td>\n",
       "      <td>2019-02-07</td>\n",
       "      <td>79</td>\n",
       "      <td>(2012.0, 2013.0]</td>\n",
       "      <td>Thursday</td>\n",
       "      <td>2</td>\n",
       "      <td>2019</td>\n",
       "      <td>7</td>\n",
       "    </tr>\n",
       "    <tr>\n",
       "      <th>3</th>\n",
       "      <td>1500</td>\n",
       "      <td>2003</td>\n",
       "      <td>ford f-150</td>\n",
       "      <td>fair</td>\n",
       "      <td>8.0</td>\n",
       "      <td>gas</td>\n",
       "      <td>163000.0</td>\n",
       "      <td>automatic</td>\n",
       "      <td>pickup</td>\n",
       "      <td>no info</td>\n",
       "      <td>False</td>\n",
       "      <td>2019-03-22</td>\n",
       "      <td>9</td>\n",
       "      <td>(1907.999, 2003.0]</td>\n",
       "      <td>Friday</td>\n",
       "      <td>3</td>\n",
       "      <td>2019</td>\n",
       "      <td>17</td>\n",
       "    </tr>\n",
       "    <tr>\n",
       "      <th>4</th>\n",
       "      <td>14900</td>\n",
       "      <td>2017</td>\n",
       "      <td>chrysler 200</td>\n",
       "      <td>excellent</td>\n",
       "      <td>4.0</td>\n",
       "      <td>gas</td>\n",
       "      <td>80903.0</td>\n",
       "      <td>automatic</td>\n",
       "      <td>sedan</td>\n",
       "      <td>black</td>\n",
       "      <td>False</td>\n",
       "      <td>2019-04-02</td>\n",
       "      <td>28</td>\n",
       "      <td>(2016.0, 2019.0]</td>\n",
       "      <td>Tuesday</td>\n",
       "      <td>4</td>\n",
       "      <td>2019</td>\n",
       "      <td>3</td>\n",
       "    </tr>\n",
       "  </tbody>\n",
       "</table>\n",
       "</div>"
      ],
      "text/plain": [
       "   price  model_year           model  condition  cylinders fuel  odometer  \\\n",
       "0   9400        2011          bmw x5       good        6.0  gas  145000.0   \n",
       "1  25500        2009      ford f-150       good        6.0  gas   88705.0   \n",
       "2   5500        2013  hyundai sonata   like new        4.0  gas  110000.0   \n",
       "3   1500        2003      ford f-150       fair        8.0  gas  163000.0   \n",
       "4  14900        2017    chrysler 200  excellent        4.0  gas   80903.0   \n",
       "\n",
       "  transmission    type paint_color  is_4wd date_posted  days_listed  \\\n",
       "0    automatic     suv     no info    True  2018-06-23           19   \n",
       "1    automatic  pickup       white    True  2018-10-19           50   \n",
       "2    automatic   sedan         red   False  2019-02-07           79   \n",
       "3    automatic  pickup     no info   False  2019-03-22            9   \n",
       "4    automatic   sedan       black   False  2019-04-02           28   \n",
       "\n",
       "       model_year_grp       day  month  year  vehicle_age_ad  \n",
       "0    (2009.0, 2011.0]  Saturday      6  2018               8  \n",
       "1    (2007.0, 2009.0]    Friday     10  2018              10  \n",
       "2    (2012.0, 2013.0]  Thursday      2  2019               7  \n",
       "3  (1907.999, 2003.0]    Friday      3  2019              17  \n",
       "4    (2016.0, 2019.0]   Tuesday      4  2019               3  "
      ]
     },
     "execution_count": 44,
     "metadata": {},
     "output_type": "execute_result"
    }
   ],
   "source": [
    "# Adding the vehicle's age which shows when the ad was placed\n",
    "data[\"vehicle_age_ad\"] = data[\"year\"] - data[\"model_year\"] + 1\n",
    "# +1 was added to the age of the vehicles, because some cars had 0 years after calculating data[\"vehicle_age_ad\"] \n",
    "\n",
    "data[\"vehicle_age_ad\"] = data[\"vehicle_age_ad\"].astype(\"int\")\n",
    "\n",
    "data.head(5)"
   ]
  },
  {
   "cell_type": "markdown",
   "metadata": {},
   "source": [
    "**Average mileage of the vehicle per year**"
   ]
  },
  {
   "cell_type": "code",
   "execution_count": 45,
   "metadata": {},
   "outputs": [],
   "source": [
    "# Add the vehicle's average mileage per year\n",
    "\n",
    "data[\"yearly_avg_milg\"] = data[\"odometer\"] / data[\"vehicle_age_ad\"]"
   ]
  },
  {
   "cell_type": "markdown",
   "metadata": {},
   "source": [
    "**Replacing values in \"condition\" column**"
   ]
  },
  {
   "cell_type": "markdown",
   "metadata": {},
   "source": [
    "To selectively replace the string values in the condition column with numeric values, we use the where() method. The values will be replaced as:  'salvage' = 0, 'fair' = 1, 'good' = 2, 'excellent' = 3, 'like new' = 4, and 'new' = 5."
   ]
  },
  {
   "cell_type": "code",
   "execution_count": 46,
   "metadata": {},
   "outputs": [],
   "source": [
    "#selectively renaming the condition column using the where() method\n",
    "\n",
    "data[\"condition\"] = data[\"condition\"].where(data[\"condition\"] != \"salvage\", 0)\n",
    "\n",
    "data[\"condition\"] = data[\"condition\"].where(data[\"condition\"] != \"fair\", 1)\n",
    "\n",
    "data[\"condition\"] = data[\"condition\"].where(data[\"condition\"] != \"good\", 2)\n",
    "\n",
    "data[\"condition\"] = data[\"condition\"].where(data[\"condition\"] != \"excellent\", 3)\n",
    "\n",
    "data[\"condition\"] = data[\"condition\"].where(data[\"condition\"] != \"like new\", 4)\n",
    "\n",
    "data[\"condition\"] = data[\"condition\"].where(data[\"condition\"] != \"new\", 5)\n",
    "\n",
    "\n",
    "\n"
   ]
  },
  {
   "cell_type": "code",
   "execution_count": 47,
   "metadata": {
    "scrolled": true
   },
   "outputs": [
    {
     "data": {
      "text/html": [
       "<div>\n",
       "<style scoped>\n",
       "    .dataframe tbody tr th:only-of-type {\n",
       "        vertical-align: middle;\n",
       "    }\n",
       "\n",
       "    .dataframe tbody tr th {\n",
       "        vertical-align: top;\n",
       "    }\n",
       "\n",
       "    .dataframe thead th {\n",
       "        text-align: right;\n",
       "    }\n",
       "</style>\n",
       "<table border=\"1\" class=\"dataframe\">\n",
       "  <thead>\n",
       "    <tr style=\"text-align: right;\">\n",
       "      <th></th>\n",
       "      <th>price</th>\n",
       "      <th>model_year</th>\n",
       "      <th>model</th>\n",
       "      <th>condition</th>\n",
       "      <th>cylinders</th>\n",
       "      <th>fuel</th>\n",
       "      <th>odometer</th>\n",
       "      <th>transmission</th>\n",
       "      <th>type</th>\n",
       "      <th>paint_color</th>\n",
       "      <th>is_4wd</th>\n",
       "      <th>date_posted</th>\n",
       "      <th>days_listed</th>\n",
       "      <th>model_year_grp</th>\n",
       "      <th>day</th>\n",
       "      <th>month</th>\n",
       "      <th>year</th>\n",
       "      <th>vehicle_age_ad</th>\n",
       "      <th>yearly_avg_milg</th>\n",
       "    </tr>\n",
       "  </thead>\n",
       "  <tbody>\n",
       "    <tr>\n",
       "      <th>0</th>\n",
       "      <td>9400</td>\n",
       "      <td>2011</td>\n",
       "      <td>bmw x5</td>\n",
       "      <td>2</td>\n",
       "      <td>6.0</td>\n",
       "      <td>gas</td>\n",
       "      <td>145000.0</td>\n",
       "      <td>automatic</td>\n",
       "      <td>suv</td>\n",
       "      <td>no info</td>\n",
       "      <td>True</td>\n",
       "      <td>2018-06-23</td>\n",
       "      <td>19</td>\n",
       "      <td>(2009.0, 2011.0]</td>\n",
       "      <td>Saturday</td>\n",
       "      <td>6</td>\n",
       "      <td>2018</td>\n",
       "      <td>8</td>\n",
       "      <td>18125.000000</td>\n",
       "    </tr>\n",
       "    <tr>\n",
       "      <th>1</th>\n",
       "      <td>25500</td>\n",
       "      <td>2009</td>\n",
       "      <td>ford f-150</td>\n",
       "      <td>2</td>\n",
       "      <td>6.0</td>\n",
       "      <td>gas</td>\n",
       "      <td>88705.0</td>\n",
       "      <td>automatic</td>\n",
       "      <td>pickup</td>\n",
       "      <td>white</td>\n",
       "      <td>True</td>\n",
       "      <td>2018-10-19</td>\n",
       "      <td>50</td>\n",
       "      <td>(2007.0, 2009.0]</td>\n",
       "      <td>Friday</td>\n",
       "      <td>10</td>\n",
       "      <td>2018</td>\n",
       "      <td>10</td>\n",
       "      <td>8870.500000</td>\n",
       "    </tr>\n",
       "    <tr>\n",
       "      <th>2</th>\n",
       "      <td>5500</td>\n",
       "      <td>2013</td>\n",
       "      <td>hyundai sonata</td>\n",
       "      <td>4</td>\n",
       "      <td>4.0</td>\n",
       "      <td>gas</td>\n",
       "      <td>110000.0</td>\n",
       "      <td>automatic</td>\n",
       "      <td>sedan</td>\n",
       "      <td>red</td>\n",
       "      <td>False</td>\n",
       "      <td>2019-02-07</td>\n",
       "      <td>79</td>\n",
       "      <td>(2012.0, 2013.0]</td>\n",
       "      <td>Thursday</td>\n",
       "      <td>2</td>\n",
       "      <td>2019</td>\n",
       "      <td>7</td>\n",
       "      <td>15714.285714</td>\n",
       "    </tr>\n",
       "    <tr>\n",
       "      <th>3</th>\n",
       "      <td>1500</td>\n",
       "      <td>2003</td>\n",
       "      <td>ford f-150</td>\n",
       "      <td>1</td>\n",
       "      <td>8.0</td>\n",
       "      <td>gas</td>\n",
       "      <td>163000.0</td>\n",
       "      <td>automatic</td>\n",
       "      <td>pickup</td>\n",
       "      <td>no info</td>\n",
       "      <td>False</td>\n",
       "      <td>2019-03-22</td>\n",
       "      <td>9</td>\n",
       "      <td>(1907.999, 2003.0]</td>\n",
       "      <td>Friday</td>\n",
       "      <td>3</td>\n",
       "      <td>2019</td>\n",
       "      <td>17</td>\n",
       "      <td>9588.235294</td>\n",
       "    </tr>\n",
       "    <tr>\n",
       "      <th>4</th>\n",
       "      <td>14900</td>\n",
       "      <td>2017</td>\n",
       "      <td>chrysler 200</td>\n",
       "      <td>3</td>\n",
       "      <td>4.0</td>\n",
       "      <td>gas</td>\n",
       "      <td>80903.0</td>\n",
       "      <td>automatic</td>\n",
       "      <td>sedan</td>\n",
       "      <td>black</td>\n",
       "      <td>False</td>\n",
       "      <td>2019-04-02</td>\n",
       "      <td>28</td>\n",
       "      <td>(2016.0, 2019.0]</td>\n",
       "      <td>Tuesday</td>\n",
       "      <td>4</td>\n",
       "      <td>2019</td>\n",
       "      <td>3</td>\n",
       "      <td>26967.666667</td>\n",
       "    </tr>\n",
       "  </tbody>\n",
       "</table>\n",
       "</div>"
      ],
      "text/plain": [
       "   price  model_year           model condition  cylinders fuel  odometer  \\\n",
       "0   9400        2011          bmw x5         2        6.0  gas  145000.0   \n",
       "1  25500        2009      ford f-150         2        6.0  gas   88705.0   \n",
       "2   5500        2013  hyundai sonata         4        4.0  gas  110000.0   \n",
       "3   1500        2003      ford f-150         1        8.0  gas  163000.0   \n",
       "4  14900        2017    chrysler 200         3        4.0  gas   80903.0   \n",
       "\n",
       "  transmission    type paint_color  is_4wd date_posted  days_listed  \\\n",
       "0    automatic     suv     no info    True  2018-06-23           19   \n",
       "1    automatic  pickup       white    True  2018-10-19           50   \n",
       "2    automatic   sedan         red   False  2019-02-07           79   \n",
       "3    automatic  pickup     no info   False  2019-03-22            9   \n",
       "4    automatic   sedan       black   False  2019-04-02           28   \n",
       "\n",
       "       model_year_grp       day  month  year  vehicle_age_ad  yearly_avg_milg  \n",
       "0    (2009.0, 2011.0]  Saturday      6  2018               8     18125.000000  \n",
       "1    (2007.0, 2009.0]    Friday     10  2018              10      8870.500000  \n",
       "2    (2012.0, 2013.0]  Thursday      2  2019               7     15714.285714  \n",
       "3  (1907.999, 2003.0]    Friday      3  2019              17      9588.235294  \n",
       "4    (2016.0, 2019.0]   Tuesday      4  2019               3     26967.666667  "
      ]
     },
     "execution_count": 47,
     "metadata": {},
     "output_type": "execute_result"
    }
   ],
   "source": [
    "data.head(5)"
   ]
  },
  {
   "cell_type": "code",
   "execution_count": 48,
   "metadata": {},
   "outputs": [],
   "source": [
    "#Changing dtypes for the columns cylinders, odometer, yearly_avg_milg\n",
    "\n",
    "data[\"cylinders\"] = data[\"cylinders\"].astype(\"int\")\n",
    "data[\"odometer\"] = data[\"odometer\"].astype(\"int\")\n",
    "data[\"yearly_avg_milg\"] = data[\"yearly_avg_milg\"].astype(\"int\")\n",
    "\n",
    "#Deleting model_year_grp\n",
    "\n",
    "del data[\"model_year_grp\"]\n"
   ]
  },
  {
   "cell_type": "markdown",
   "metadata": {},
   "source": [
    "## Exploratory Data Analysis"
   ]
  },
  {
   "cell_type": "code",
   "execution_count": 49,
   "metadata": {},
   "outputs": [
    {
     "name": "stdout",
     "output_type": "stream",
     "text": [
      "<class 'pandas.core.frame.DataFrame'>\n",
      "RangeIndex: 51525 entries, 0 to 51524\n",
      "Data columns (total 18 columns):\n",
      " #   Column           Non-Null Count  Dtype         \n",
      "---  ------           --------------  -----         \n",
      " 0   price            51525 non-null  int64         \n",
      " 1   model_year       51525 non-null  int64         \n",
      " 2   model            51525 non-null  object        \n",
      " 3   condition        51525 non-null  object        \n",
      " 4   cylinders        51525 non-null  int64         \n",
      " 5   fuel             51525 non-null  object        \n",
      " 6   odometer         51525 non-null  int64         \n",
      " 7   transmission     51525 non-null  object        \n",
      " 8   type             51525 non-null  object        \n",
      " 9   paint_color      51525 non-null  object        \n",
      " 10  is_4wd           51525 non-null  bool          \n",
      " 11  date_posted      51525 non-null  datetime64[ns]\n",
      " 12  days_listed      51525 non-null  int64         \n",
      " 13  day              51525 non-null  object        \n",
      " 14  month            51525 non-null  int64         \n",
      " 15  year             51525 non-null  int64         \n",
      " 16  vehicle_age_ad   51525 non-null  int64         \n",
      " 17  yearly_avg_milg  51525 non-null  int64         \n",
      "dtypes: bool(1), datetime64[ns](1), int64(9), object(7)\n",
      "memory usage: 6.7+ MB\n"
     ]
    }
   ],
   "source": [
    "# printing the general/summary information about the DataFrame\n",
    "\n",
    "data.info()"
   ]
  },
  {
   "cell_type": "code",
   "execution_count": 50,
   "metadata": {},
   "outputs": [
    {
     "data": {
      "text/html": [
       "<div>\n",
       "<style scoped>\n",
       "    .dataframe tbody tr th:only-of-type {\n",
       "        vertical-align: middle;\n",
       "    }\n",
       "\n",
       "    .dataframe tbody tr th {\n",
       "        vertical-align: top;\n",
       "    }\n",
       "\n",
       "    .dataframe thead th {\n",
       "        text-align: right;\n",
       "    }\n",
       "</style>\n",
       "<table border=\"1\" class=\"dataframe\">\n",
       "  <thead>\n",
       "    <tr style=\"text-align: right;\">\n",
       "      <th></th>\n",
       "      <th>price</th>\n",
       "      <th>model_year</th>\n",
       "      <th>model</th>\n",
       "      <th>condition</th>\n",
       "      <th>cylinders</th>\n",
       "      <th>fuel</th>\n",
       "      <th>odometer</th>\n",
       "      <th>transmission</th>\n",
       "      <th>type</th>\n",
       "      <th>paint_color</th>\n",
       "      <th>is_4wd</th>\n",
       "      <th>date_posted</th>\n",
       "      <th>days_listed</th>\n",
       "      <th>day</th>\n",
       "      <th>month</th>\n",
       "      <th>year</th>\n",
       "      <th>vehicle_age_ad</th>\n",
       "      <th>yearly_avg_milg</th>\n",
       "    </tr>\n",
       "  </thead>\n",
       "  <tbody>\n",
       "    <tr>\n",
       "      <th>0</th>\n",
       "      <td>9400</td>\n",
       "      <td>2011</td>\n",
       "      <td>bmw x5</td>\n",
       "      <td>2</td>\n",
       "      <td>6</td>\n",
       "      <td>gas</td>\n",
       "      <td>145000</td>\n",
       "      <td>automatic</td>\n",
       "      <td>suv</td>\n",
       "      <td>no info</td>\n",
       "      <td>True</td>\n",
       "      <td>2018-06-23</td>\n",
       "      <td>19</td>\n",
       "      <td>Saturday</td>\n",
       "      <td>6</td>\n",
       "      <td>2018</td>\n",
       "      <td>8</td>\n",
       "      <td>18125</td>\n",
       "    </tr>\n",
       "    <tr>\n",
       "      <th>1</th>\n",
       "      <td>25500</td>\n",
       "      <td>2009</td>\n",
       "      <td>ford f-150</td>\n",
       "      <td>2</td>\n",
       "      <td>6</td>\n",
       "      <td>gas</td>\n",
       "      <td>88705</td>\n",
       "      <td>automatic</td>\n",
       "      <td>pickup</td>\n",
       "      <td>white</td>\n",
       "      <td>True</td>\n",
       "      <td>2018-10-19</td>\n",
       "      <td>50</td>\n",
       "      <td>Friday</td>\n",
       "      <td>10</td>\n",
       "      <td>2018</td>\n",
       "      <td>10</td>\n",
       "      <td>8870</td>\n",
       "    </tr>\n",
       "    <tr>\n",
       "      <th>2</th>\n",
       "      <td>5500</td>\n",
       "      <td>2013</td>\n",
       "      <td>hyundai sonata</td>\n",
       "      <td>4</td>\n",
       "      <td>4</td>\n",
       "      <td>gas</td>\n",
       "      <td>110000</td>\n",
       "      <td>automatic</td>\n",
       "      <td>sedan</td>\n",
       "      <td>red</td>\n",
       "      <td>False</td>\n",
       "      <td>2019-02-07</td>\n",
       "      <td>79</td>\n",
       "      <td>Thursday</td>\n",
       "      <td>2</td>\n",
       "      <td>2019</td>\n",
       "      <td>7</td>\n",
       "      <td>15714</td>\n",
       "    </tr>\n",
       "    <tr>\n",
       "      <th>3</th>\n",
       "      <td>1500</td>\n",
       "      <td>2003</td>\n",
       "      <td>ford f-150</td>\n",
       "      <td>1</td>\n",
       "      <td>8</td>\n",
       "      <td>gas</td>\n",
       "      <td>163000</td>\n",
       "      <td>automatic</td>\n",
       "      <td>pickup</td>\n",
       "      <td>no info</td>\n",
       "      <td>False</td>\n",
       "      <td>2019-03-22</td>\n",
       "      <td>9</td>\n",
       "      <td>Friday</td>\n",
       "      <td>3</td>\n",
       "      <td>2019</td>\n",
       "      <td>17</td>\n",
       "      <td>9588</td>\n",
       "    </tr>\n",
       "    <tr>\n",
       "      <th>4</th>\n",
       "      <td>14900</td>\n",
       "      <td>2017</td>\n",
       "      <td>chrysler 200</td>\n",
       "      <td>3</td>\n",
       "      <td>4</td>\n",
       "      <td>gas</td>\n",
       "      <td>80903</td>\n",
       "      <td>automatic</td>\n",
       "      <td>sedan</td>\n",
       "      <td>black</td>\n",
       "      <td>False</td>\n",
       "      <td>2019-04-02</td>\n",
       "      <td>28</td>\n",
       "      <td>Tuesday</td>\n",
       "      <td>4</td>\n",
       "      <td>2019</td>\n",
       "      <td>3</td>\n",
       "      <td>26967</td>\n",
       "    </tr>\n",
       "  </tbody>\n",
       "</table>\n",
       "</div>"
      ],
      "text/plain": [
       "   price  model_year           model condition  cylinders fuel  odometer  \\\n",
       "0   9400        2011          bmw x5         2          6  gas    145000   \n",
       "1  25500        2009      ford f-150         2          6  gas     88705   \n",
       "2   5500        2013  hyundai sonata         4          4  gas    110000   \n",
       "3   1500        2003      ford f-150         1          8  gas    163000   \n",
       "4  14900        2017    chrysler 200         3          4  gas     80903   \n",
       "\n",
       "  transmission    type paint_color  is_4wd date_posted  days_listed       day  \\\n",
       "0    automatic     suv     no info    True  2018-06-23           19  Saturday   \n",
       "1    automatic  pickup       white    True  2018-10-19           50    Friday   \n",
       "2    automatic   sedan         red   False  2019-02-07           79  Thursday   \n",
       "3    automatic  pickup     no info   False  2019-03-22            9    Friday   \n",
       "4    automatic   sedan       black   False  2019-04-02           28   Tuesday   \n",
       "\n",
       "   month  year  vehicle_age_ad  yearly_avg_milg  \n",
       "0      6  2018               8            18125  \n",
       "1     10  2018              10             8870  \n",
       "2      2  2019               7            15714  \n",
       "3      3  2019              17             9588  \n",
       "4      4  2019               3            26967  "
      ]
     },
     "execution_count": 50,
     "metadata": {},
     "output_type": "execute_result"
    }
   ],
   "source": [
    "# print a sample of data\n",
    "data.head(5)\n"
   ]
  },
  {
   "cell_type": "markdown",
   "metadata": {},
   "source": [
    "The parameters below would be studied closely\n",
    "\n",
    "- Price\n",
    "- The vehicle's age when the ad was placed\n",
    "- Mileage\n",
    "- Number of cylinders\n",
    "- Condition\n",
    "\n",
    "We would plot Histograms for each of these parameters to see how outliers affect their forms and readability "
   ]
  },
  {
   "cell_type": "code",
   "execution_count": 51,
   "metadata": {},
   "outputs": [
    {
     "data": {
      "text/plain": [
       "array([[<AxesSubplot:title={'center':'price'}>]], dtype=object)"
      ]
     },
     "execution_count": 51,
     "metadata": {},
     "output_type": "execute_result"
    },
    {
     "data": {
      "image/png": "[encoded data removed]",
      "text/plain": [
       "<Figure size 432x288 with 1 Axes>"
      ]
     },
     "metadata": {
      "needs_background": "light"
     },
     "output_type": "display_data"
    }
   ],
   "source": [
    "#Plotting an Histogram for the Price of the cars \n",
    "\n",
    "data.hist(\"price\", bins = 25, range = (0,80000))\n"
   ]
  },
  {
   "cell_type": "code",
   "execution_count": 52,
   "metadata": {},
   "outputs": [
    {
     "data": {
      "text/plain": [
       "375000"
      ]
     },
     "execution_count": 52,
     "metadata": {},
     "output_type": "execute_result"
    }
   ],
   "source": [
    "#Checking the maximun price of the car\n",
    "data[\"price\"].max()"
   ]
  },
  {
   "cell_type": "markdown",
   "metadata": {},
   "source": [
    "From our histogram, we see that minimum price of a car is 0. we see that quite a number of cars had their prices listed as 0. These values will be treated as outliers, and would be removed. Also, above 50,000 the number of cars thinned out. The Central Limit Theorem would be used to determine the upper limit, and lower limit, to determine the outlier values that will be taken out."
   ]
  },
  {
   "cell_type": "code",
   "execution_count": 53,
   "metadata": {},
   "outputs": [
    {
     "data": {
      "text/plain": [
       "111"
      ]
     },
     "execution_count": 53,
     "metadata": {},
     "output_type": "execute_result"
    },
    {
     "data": {
      "image/png": "[encoded data removed]",
      "text/plain": [
       "<Figure size 432x288 with 1 Axes>"
      ]
     },
     "metadata": {
      "needs_background": "light"
     },
     "output_type": "display_data"
    }
   ],
   "source": [
    "#Plotting an Histogram for the vehicle's age when the ad was placed\n",
    "\n",
    "data.hist(\"vehicle_age_ad\",bins = 25, range = (0, 60))\n",
    "\n",
    "#To check the maximun age of the vehicle when the ad was placed\n",
    "data[\"vehicle_age_ad\"].max() \n"
   ]
  },
  {
   "cell_type": "markdown",
   "metadata": {},
   "source": [
    "We can see from the Histogram that after 30 years of age there are almost no vehicles that are listed as at when the ad was placed. The Central Limit Theorem would be used to determine the upper limit, to determine the outlier values that will be taken out. The lowere limit would be left at 0"
   ]
  },
  {
   "cell_type": "code",
   "execution_count": 54,
   "metadata": {
    "scrolled": true
   },
   "outputs": [
    {
     "data": {
      "text/plain": [
       "373200"
      ]
     },
     "execution_count": 54,
     "metadata": {},
     "output_type": "execute_result"
    },
    {
     "data": {
      "image/png": "[encoded data removed]",
      "text/plain": [
       "<Figure size 432x288 with 1 Axes>"
      ]
     },
     "metadata": {
      "needs_background": "light"
     },
     "output_type": "display_data"
    }
   ],
   "source": [
    "#Plotting a Histogram for the Mileage of the Car\n",
    "\n",
    "data.hist(\"yearly_avg_milg\", bins = 25, range = (0, 100000))\n",
    "\n",
    "#To check the maximum mileage reading when the ad was placed\n",
    "data[\"yearly_avg_milg\"].max() \n",
    "\n",
    "\n"
   ]
  },
  {
   "cell_type": "code",
   "execution_count": 55,
   "metadata": {},
   "outputs": [
    {
     "data": {
      "text/plain": [
       "20"
      ]
     },
     "execution_count": 55,
     "metadata": {},
     "output_type": "execute_result"
    }
   ],
   "source": [
    "#Getting the number of mileage reading that is greater than 100000\n",
    "data[data[\"yearly_avg_milg\"] > 100000].shape[0]"
   ]
  },
  {
   "cell_type": "markdown",
   "metadata": {},
   "source": [
    "The highest mileage reading of a car as at when the ad was placed is 373200. However, from the Histogram, we visualized just values from 0 to 100000. That is because we wanted to have a good view of the graph. We see that out of the 51525 values in the dataset, only 20 values in this column have a mileage reading that is higher than 100,000. That number is quite small compared to the whole dataset. Moreover they are outliers. Hence, the reason they are not included in the Histogram. The Central Limit Theorem would be used to determine the upper limit, to determine the outlier values that will be taken out. The lower limit would be left at 0"
   ]
  },
  {
   "cell_type": "code",
   "execution_count": 56,
   "metadata": {},
   "outputs": [
    {
     "data": {
      "text/plain": [
       "12"
      ]
     },
     "execution_count": 56,
     "metadata": {},
     "output_type": "execute_result"
    },
    {
     "data": {
      "image/png": "[encoded data removed]",
      "text/plain": [
       "<Figure size 432x288 with 1 Axes>"
      ]
     },
     "metadata": {
      "needs_background": "light"
     },
     "output_type": "display_data"
    }
   ],
   "source": [
    "#Plotting an Histogram for Number of cylinders of the Car\n",
    "\n",
    "data.hist(\"cylinders\", bins = 10,)\n",
    "\n",
    "#To check the maximun age of the vehicle when the ad was placed\n",
    "data[\"cylinders\"].max() \n",
    "\n",
    "\n"
   ]
  },
  {
   "cell_type": "markdown",
   "metadata": {},
   "source": [
    "The car models with 8 cylinders have the highest number of listing when the ad was placed. Next are car models with 6, then 4. Those 3 cylinders have the least listing."
   ]
  },
  {
   "cell_type": "code",
   "execution_count": 57,
   "metadata": {
    "scrolled": true
   },
   "outputs": [
    {
     "data": {
      "text/plain": [
       "Text(0.5, 1.0, 'condition')"
      ]
     },
     "execution_count": 57,
     "metadata": {},
     "output_type": "execute_result"
    },
    {
     "data": {
      "image/png": "[encoded data removed]",
      "text/plain": [
       "<Figure size 432x288 with 1 Axes>"
      ]
     },
     "metadata": {
      "needs_background": "light"
     },
     "output_type": "display_data"
    }
   ],
   "source": [
    "#Plotting an Histogram for the condition of the cars \n",
    "\n",
    "data[\"condition\"].hist(bins= 10)\n",
    "plt.title(\"condition\")\n",
    "\n",
    "\n"
   ]
  },
  {
   "cell_type": "markdown",
   "metadata": {},
   "source": [
    "The condition of the vehicles is highest  at 3, next is 2, then 4. The lowest is 0"
   ]
  },
  {
   "cell_type": "markdown",
   "metadata": {},
   "source": [
    "## Study and treat outliers\n",
    "We would study outlier values in these columns: \"price\", \"yearly_avg_milg\", \"vehicle_age_ad\". Then the 3-sigma rule will be used to take out the outliers. We would be using 3-standard deviations from the mean."
   ]
  },
  {
   "cell_type": "markdown",
   "metadata": {},
   "source": [
    "**Lower limit and Upper Limit for Price**"
   ]
  },
  {
   "cell_type": "markdown",
   "metadata": {},
   "source": [
    "Getting the statistical information for \"price\" column"
   ]
  },
  {
   "cell_type": "code",
   "execution_count": 58,
   "metadata": {},
   "outputs": [
    {
     "data": {
      "text/plain": [
       "count     51525.000000\n",
       "mean      12132.464920\n",
       "std       10040.803015\n",
       "min           1.000000\n",
       "25%        5000.000000\n",
       "50%        9000.000000\n",
       "75%       16839.000000\n",
       "max      375000.000000\n",
       "Name: price, dtype: float64"
      ]
     },
     "execution_count": 58,
     "metadata": {},
     "output_type": "execute_result"
    }
   ],
   "source": [
    "data[\"price\"].describe()"
   ]
  },
  {
   "cell_type": "code",
   "execution_count": 59,
   "metadata": {},
   "outputs": [
    {
     "data": {
      "text/plain": [
       "12132.464919941776"
      ]
     },
     "execution_count": 59,
     "metadata": {},
     "output_type": "execute_result"
    }
   ],
   "source": [
    "#calculating the mean separately\n",
    "mean_value = data[\"price\"].mean()\n",
    "mean_value"
   ]
  },
  {
   "cell_type": "code",
   "execution_count": 60,
   "metadata": {},
   "outputs": [
    {
     "data": {
      "text/plain": [
       "10040.803015443298"
      ]
     },
     "execution_count": 60,
     "metadata": {},
     "output_type": "execute_result"
    }
   ],
   "source": [
    "#calclulating the standard deviation separately\n",
    "stan_dev = data[\"price\"].std()\n",
    "stan_dev\n"
   ]
  },
  {
   "cell_type": "code",
   "execution_count": 61,
   "metadata": {},
   "outputs": [],
   "source": [
    "#setting the upper limit, and the lower limit of price\n",
    "price_upper_limit = mean_value + 3*stan_dev\n",
    "\n",
    "price_lower_limit = mean_value - stan_dev"
   ]
  },
  {
   "cell_type": "code",
   "execution_count": 62,
   "metadata": {},
   "outputs": [
    {
     "name": "stdout",
     "output_type": "stream",
     "text": [
      "upper_limit 42254.87396627167\n",
      "lower_limit 2091.661904498478\n"
     ]
    }
   ],
   "source": [
    "print(\"upper_limit\", price_upper_limit)\n",
    "print(\"lower_limit\", price_lower_limit)"
   ]
  },
  {
   "cell_type": "code",
   "execution_count": 63,
   "metadata": {},
   "outputs": [
    {
     "data": {
      "text/plain": [
       "619"
      ]
     },
     "execution_count": 63,
     "metadata": {},
     "output_type": "execute_result"
    }
   ],
   "source": [
    "data[data[\"price\"] > 42254].shape[0]"
   ]
  },
  {
   "cell_type": "code",
   "execution_count": 64,
   "metadata": {},
   "outputs": [
    {
     "data": {
      "text/plain": [
       "2918"
      ]
     },
     "execution_count": 64,
     "metadata": {},
     "output_type": "execute_result"
    }
   ],
   "source": [
    "data[data[\"price\"]< 2091].shape[0]"
   ]
  },
  {
   "cell_type": "markdown",
   "metadata": {},
   "source": [
    "3- standard deviations were used for the upper limit for \"price\". This gave an upper limit of 42254, thereby, filtering out 619 outlier values. However, 1-standard deviation was used for the lower limit. This is because 3-standard deviations from the mean for the lower limit gave negative values, and our dataset does not have negative price values. \n",
    "However, using 1-standard deviation, gave a lower limit of 2091. Thereby filtering out 2918 outlier values"
   ]
  },
  {
   "cell_type": "markdown",
   "metadata": {},
   "source": [
    "**Lower limit and Upper Limit for Mileage**"
   ]
  },
  {
   "cell_type": "markdown",
   "metadata": {},
   "source": [
    "Getting the statistical information for \"yearly_avg_milg\" column"
   ]
  },
  {
   "cell_type": "code",
   "execution_count": 65,
   "metadata": {},
   "outputs": [
    {
     "data": {
      "text/plain": [
       "count     51525.000000\n",
       "mean      14422.075478\n",
       "std        8650.748413\n",
       "min           0.000000\n",
       "25%        9722.000000\n",
       "50%       13214.000000\n",
       "75%       17147.000000\n",
       "max      373200.000000\n",
       "Name: yearly_avg_milg, dtype: float64"
      ]
     },
     "execution_count": 65,
     "metadata": {},
     "output_type": "execute_result"
    }
   ],
   "source": [
    "data[\"yearly_avg_milg\"].describe()"
   ]
  },
  {
   "cell_type": "code",
   "execution_count": 66,
   "metadata": {},
   "outputs": [
    {
     "data": {
      "text/plain": [
       "14422.075477923338"
      ]
     },
     "execution_count": 66,
     "metadata": {},
     "output_type": "execute_result"
    }
   ],
   "source": [
    "#calculating the mean separately\n",
    "mean_value = data[\"yearly_avg_milg\"].mean()\n",
    "mean_value"
   ]
  },
  {
   "cell_type": "code",
   "execution_count": 67,
   "metadata": {},
   "outputs": [
    {
     "data": {
      "text/plain": [
       "8650.748413137206"
      ]
     },
     "execution_count": 67,
     "metadata": {},
     "output_type": "execute_result"
    }
   ],
   "source": [
    "#calclulating the standard deviation separately\n",
    "stan_dev = data[\"yearly_avg_milg\"].std()\n",
    "stan_dev"
   ]
  },
  {
   "cell_type": "code",
   "execution_count": 68,
   "metadata": {},
   "outputs": [],
   "source": [
    "#setting the upper limit for the odometer column\n",
    "price_upper_limit = mean_value + 3*stan_dev\n"
   ]
  },
  {
   "cell_type": "code",
   "execution_count": 69,
   "metadata": {},
   "outputs": [
    {
     "name": "stdout",
     "output_type": "stream",
     "text": [
      "upper_limit 40374.32071733496\n"
     ]
    }
   ],
   "source": [
    "print(\"upper_limit\", price_upper_limit)\n"
   ]
  },
  {
   "cell_type": "code",
   "execution_count": 70,
   "metadata": {},
   "outputs": [
    {
     "data": {
      "text/plain": [
       "730"
      ]
     },
     "execution_count": 70,
     "metadata": {},
     "output_type": "execute_result"
    }
   ],
   "source": [
    "data[data[\"yearly_avg_milg\"] > 40374].shape[0]"
   ]
  },
  {
   "cell_type": "markdown",
   "metadata": {},
   "source": [
    "3- standard deviations were used for the upper limit for \"price\". This gave an upper limit of 40374, thereby, filtering out 730 outlier values. However, the lower limit was left to be 0. Seeing that from the statistical information given for the mileage of the cars, the minimum value given is 0. Which is most likely for cars that are brand new. Therefore, the lower limit for the mileage of the cars is set to 0."
   ]
  },
  {
   "cell_type": "markdown",
   "metadata": {},
   "source": [
    "**Lower limit and Upper Limit for vehicle_age_ad**"
   ]
  },
  {
   "cell_type": "markdown",
   "metadata": {},
   "source": [
    "Getting the statistical information for \"vehicle_age_ad\" column"
   ]
  },
  {
   "cell_type": "code",
   "execution_count": 71,
   "metadata": {},
   "outputs": [
    {
     "data": {
      "text/plain": [
       "count    51525.000000\n",
       "mean         9.596545\n",
       "std          6.113648\n",
       "min          1.000000\n",
       "25%          5.000000\n",
       "50%          9.000000\n",
       "75%         13.000000\n",
       "max        111.000000\n",
       "Name: vehicle_age_ad, dtype: float64"
      ]
     },
     "execution_count": 71,
     "metadata": {},
     "output_type": "execute_result"
    }
   ],
   "source": [
    "data[\"vehicle_age_ad\"].describe()"
   ]
  },
  {
   "cell_type": "code",
   "execution_count": 72,
   "metadata": {},
   "outputs": [
    {
     "name": "stdout",
     "output_type": "stream",
     "text": [
      "9.596545366327026\n",
      "6.113648497259851\n"
     ]
    }
   ],
   "source": [
    "#calclulating the mean and the standard deviation separately of vehicle_age_ad\n",
    "mean_value = data[\"vehicle_age_ad\"].mean()\n",
    "\n",
    "stan_dev = data[\"vehicle_age_ad\"].std()\n",
    "\n",
    "print(mean_value)\n",
    "\n",
    "print(stan_dev)\n"
   ]
  },
  {
   "cell_type": "code",
   "execution_count": 73,
   "metadata": {},
   "outputs": [],
   "source": [
    "#setting the upper limit, and the lower limit of vehicle_age_ad\n",
    "price_upper_limit = mean_value + 3*stan_dev\n",
    "\n",
    "price_lower_limit = 0"
   ]
  },
  {
   "cell_type": "code",
   "execution_count": 74,
   "metadata": {},
   "outputs": [
    {
     "name": "stdout",
     "output_type": "stream",
     "text": [
      "upper_limit 27.937490858106578\n",
      "lower_limit 0\n"
     ]
    }
   ],
   "source": [
    "print(\"upper_limit\", price_upper_limit)\n",
    "print(\"lower_limit\", price_lower_limit)"
   ]
  },
  {
   "cell_type": "code",
   "execution_count": 75,
   "metadata": {},
   "outputs": [
    {
     "data": {
      "text/plain": [
       "558"
      ]
     },
     "execution_count": 75,
     "metadata": {},
     "output_type": "execute_result"
    }
   ],
   "source": [
    "data[data[\"vehicle_age_ad\"] > 27.93].shape[0]"
   ]
  },
  {
   "cell_type": "markdown",
   "metadata": {},
   "source": [
    "Similar to the \"yearly_avg_milg\" column, the min age for a car when it was listed is 0. Therefore, the lower limit is set to 0, and the upper limit is set to 27.98. Thereby, filtering out 558 values"
   ]
  },
  {
   "cell_type": "code",
   "execution_count": 76,
   "metadata": {},
   "outputs": [],
   "source": [
    "# The upper limits for outliers\n",
    "\n",
    "upper_outliers = data.query('price > 42254 & yearly_avg_milg > 40374 & vehicle_age_ad > 27.93')\n",
    "\n",
    "#All the values above 42254 for price, 40374 for the yearly_avg_milg, and 27.93 for vehicle_age_ad are treated as upper limit\n",
    "#outlier values and are stored in the variable upper_outliers\n",
    "\n"
   ]
  },
  {
   "cell_type": "code",
   "execution_count": 77,
   "metadata": {},
   "outputs": [],
   "source": [
    "# To store data without outliers in a separate DataFrame\n",
    "\n",
    "non_outlier_data = data.query('2091 < price < 42254 & yearly_avg_milg < 40374 & vehicle_age_ad < 27.93')\n",
    "\n",
    "#All the values for price between 2091, and 42254, below 42254 for the mileage, and 27.93 for vehicle_age_ad \n",
    "#are treated as data without outlier values and are stored in non_outlier_data"
   ]
  },
  {
   "cell_type": "code",
   "execution_count": 78,
   "metadata": {
    "scrolled": false
   },
   "outputs": [
    {
     "name": "stdout",
     "output_type": "stream",
     "text": [
      "<class 'pandas.core.frame.DataFrame'>\n",
      "Int64Index: 46842 entries, 0 to 51524\n",
      "Data columns (total 18 columns):\n",
      " #   Column           Non-Null Count  Dtype         \n",
      "---  ------           --------------  -----         \n",
      " 0   price            46842 non-null  int64         \n",
      " 1   model_year       46842 non-null  int64         \n",
      " 2   model            46842 non-null  object        \n",
      " 3   condition        46842 non-null  object        \n",
      " 4   cylinders        46842 non-null  int64         \n",
      " 5   fuel             46842 non-null  object        \n",
      " 6   odometer         46842 non-null  int64         \n",
      " 7   transmission     46842 non-null  object        \n",
      " 8   type             46842 non-null  object        \n",
      " 9   paint_color      46842 non-null  object        \n",
      " 10  is_4wd           46842 non-null  bool          \n",
      " 11  date_posted      46842 non-null  datetime64[ns]\n",
      " 12  days_listed      46842 non-null  int64         \n",
      " 13  day              46842 non-null  object        \n",
      " 14  month            46842 non-null  int64         \n",
      " 15  year             46842 non-null  int64         \n",
      " 16  vehicle_age_ad   46842 non-null  int64         \n",
      " 17  yearly_avg_milg  46842 non-null  int64         \n",
      "dtypes: bool(1), datetime64[ns](1), int64(9), object(7)\n",
      "memory usage: 6.5+ MB\n"
     ]
    },
    {
     "data": {
      "text/html": [
       "<div>\n",
       "<style scoped>\n",
       "    .dataframe tbody tr th:only-of-type {\n",
       "        vertical-align: middle;\n",
       "    }\n",
       "\n",
       "    .dataframe tbody tr th {\n",
       "        vertical-align: top;\n",
       "    }\n",
       "\n",
       "    .dataframe thead th {\n",
       "        text-align: right;\n",
       "    }\n",
       "</style>\n",
       "<table border=\"1\" class=\"dataframe\">\n",
       "  <thead>\n",
       "    <tr style=\"text-align: right;\">\n",
       "      <th></th>\n",
       "      <th>price</th>\n",
       "      <th>model_year</th>\n",
       "      <th>model</th>\n",
       "      <th>condition</th>\n",
       "      <th>cylinders</th>\n",
       "      <th>fuel</th>\n",
       "      <th>odometer</th>\n",
       "      <th>transmission</th>\n",
       "      <th>type</th>\n",
       "      <th>paint_color</th>\n",
       "      <th>is_4wd</th>\n",
       "      <th>date_posted</th>\n",
       "      <th>days_listed</th>\n",
       "      <th>day</th>\n",
       "      <th>month</th>\n",
       "      <th>year</th>\n",
       "      <th>vehicle_age_ad</th>\n",
       "      <th>yearly_avg_milg</th>\n",
       "    </tr>\n",
       "  </thead>\n",
       "  <tbody>\n",
       "    <tr>\n",
       "      <th>0</th>\n",
       "      <td>9400</td>\n",
       "      <td>2011</td>\n",
       "      <td>bmw x5</td>\n",
       "      <td>2</td>\n",
       "      <td>6</td>\n",
       "      <td>gas</td>\n",
       "      <td>145000</td>\n",
       "      <td>automatic</td>\n",
       "      <td>suv</td>\n",
       "      <td>no info</td>\n",
       "      <td>True</td>\n",
       "      <td>2018-06-23</td>\n",
       "      <td>19</td>\n",
       "      <td>Saturday</td>\n",
       "      <td>6</td>\n",
       "      <td>2018</td>\n",
       "      <td>8</td>\n",
       "      <td>18125</td>\n",
       "    </tr>\n",
       "    <tr>\n",
       "      <th>1</th>\n",
       "      <td>25500</td>\n",
       "      <td>2009</td>\n",
       "      <td>ford f-150</td>\n",
       "      <td>2</td>\n",
       "      <td>6</td>\n",
       "      <td>gas</td>\n",
       "      <td>88705</td>\n",
       "      <td>automatic</td>\n",
       "      <td>pickup</td>\n",
       "      <td>white</td>\n",
       "      <td>True</td>\n",
       "      <td>2018-10-19</td>\n",
       "      <td>50</td>\n",
       "      <td>Friday</td>\n",
       "      <td>10</td>\n",
       "      <td>2018</td>\n",
       "      <td>10</td>\n",
       "      <td>8870</td>\n",
       "    </tr>\n",
       "    <tr>\n",
       "      <th>2</th>\n",
       "      <td>5500</td>\n",
       "      <td>2013</td>\n",
       "      <td>hyundai sonata</td>\n",
       "      <td>4</td>\n",
       "      <td>4</td>\n",
       "      <td>gas</td>\n",
       "      <td>110000</td>\n",
       "      <td>automatic</td>\n",
       "      <td>sedan</td>\n",
       "      <td>red</td>\n",
       "      <td>False</td>\n",
       "      <td>2019-02-07</td>\n",
       "      <td>79</td>\n",
       "      <td>Thursday</td>\n",
       "      <td>2</td>\n",
       "      <td>2019</td>\n",
       "      <td>7</td>\n",
       "      <td>15714</td>\n",
       "    </tr>\n",
       "    <tr>\n",
       "      <th>4</th>\n",
       "      <td>14900</td>\n",
       "      <td>2017</td>\n",
       "      <td>chrysler 200</td>\n",
       "      <td>3</td>\n",
       "      <td>4</td>\n",
       "      <td>gas</td>\n",
       "      <td>80903</td>\n",
       "      <td>automatic</td>\n",
       "      <td>sedan</td>\n",
       "      <td>black</td>\n",
       "      <td>False</td>\n",
       "      <td>2019-04-02</td>\n",
       "      <td>28</td>\n",
       "      <td>Tuesday</td>\n",
       "      <td>4</td>\n",
       "      <td>2019</td>\n",
       "      <td>3</td>\n",
       "      <td>26967</td>\n",
       "    </tr>\n",
       "    <tr>\n",
       "      <th>5</th>\n",
       "      <td>14990</td>\n",
       "      <td>2014</td>\n",
       "      <td>chrysler 300</td>\n",
       "      <td>3</td>\n",
       "      <td>6</td>\n",
       "      <td>gas</td>\n",
       "      <td>57954</td>\n",
       "      <td>automatic</td>\n",
       "      <td>sedan</td>\n",
       "      <td>black</td>\n",
       "      <td>True</td>\n",
       "      <td>2018-06-20</td>\n",
       "      <td>15</td>\n",
       "      <td>Wednesday</td>\n",
       "      <td>6</td>\n",
       "      <td>2018</td>\n",
       "      <td>5</td>\n",
       "      <td>11590</td>\n",
       "    </tr>\n",
       "  </tbody>\n",
       "</table>\n",
       "</div>"
      ],
      "text/plain": [
       "   price  model_year           model condition  cylinders fuel  odometer  \\\n",
       "0   9400        2011          bmw x5         2          6  gas    145000   \n",
       "1  25500        2009      ford f-150         2          6  gas     88705   \n",
       "2   5500        2013  hyundai sonata         4          4  gas    110000   \n",
       "4  14900        2017    chrysler 200         3          4  gas     80903   \n",
       "5  14990        2014    chrysler 300         3          6  gas     57954   \n",
       "\n",
       "  transmission    type paint_color  is_4wd date_posted  days_listed  \\\n",
       "0    automatic     suv     no info    True  2018-06-23           19   \n",
       "1    automatic  pickup       white    True  2018-10-19           50   \n",
       "2    automatic   sedan         red   False  2019-02-07           79   \n",
       "4    automatic   sedan       black   False  2019-04-02           28   \n",
       "5    automatic   sedan       black    True  2018-06-20           15   \n",
       "\n",
       "         day  month  year  vehicle_age_ad  yearly_avg_milg  \n",
       "0   Saturday      6  2018               8            18125  \n",
       "1     Friday     10  2018              10             8870  \n",
       "2   Thursday      2  2019               7            15714  \n",
       "4    Tuesday      4  2019               3            26967  \n",
       "5  Wednesday      6  2018               5            11590  "
      ]
     },
     "execution_count": 78,
     "metadata": {},
     "output_type": "execute_result"
    }
   ],
   "source": [
    "non_outlier_data.info()\n",
    "non_outlier_data.head(5)"
   ]
  },
  {
   "cell_type": "markdown",
   "metadata": {},
   "source": [
    "## Plotting Histograms based on our filtered datasets "
   ]
  },
  {
   "cell_type": "code",
   "execution_count": 79,
   "metadata": {},
   "outputs": [
    {
     "data": {
      "text/plain": [
       "array([[<AxesSubplot:title={'center':'cylinders'}>]], dtype=object)"
      ]
     },
     "execution_count": 79,
     "metadata": {},
     "output_type": "execute_result"
    },
    {
     "data": {
      "image/png": "[encoded data removed]",
      "text/plain": [
       "<Figure size 432x288 with 1 Axes>"
      ]
     },
     "metadata": {
      "needs_background": "light"
     },
     "output_type": "display_data"
    },
    {
     "data": {
      "image/png": "[encoded data removed]",
      "text/plain": [
       "<Figure size 432x288 with 1 Axes>"
      ]
     },
     "metadata": {
      "needs_background": "light"
     },
     "output_type": "display_data"
    },
    {
     "data": {
      "image/png": "[encoded data removed]",
      "text/plain": [
       "<Figure size 432x288 with 1 Axes>"
      ]
     },
     "metadata": {
      "needs_background": "light"
     },
     "output_type": "display_data"
    },
    {
     "data": {
      "image/png": "[encoded data removed]",
      "text/plain": [
       "<Figure size 432x288 with 1 Axes>"
      ]
     },
     "metadata": {
      "needs_background": "light"
     },
     "output_type": "display_data"
    }
   ],
   "source": [
    "#Plotting Histograms for the same paramters, however, for the filtered dataset without outliers \n",
    "\n",
    "non_outlier_data.hist(\"price\", bins = 25, range = (0,50000))\n",
    "\n",
    "non_outlier_data.hist(\"yearly_avg_milg\", bins = 35, range = (0,50000))\n",
    "\n",
    "non_outlier_data.hist(\"vehicle_age_ad\", bins = 25, range = (0,30))\n",
    "\n",
    "non_outlier_data.hist(\"cylinders\", bins = 10)\n"
   ]
  },
  {
   "cell_type": "code",
   "execution_count": 80,
   "metadata": {},
   "outputs": [
    {
     "data": {
      "text/plain": [
       "Text(0.5, 1.0, 'condition')"
      ]
     },
     "execution_count": 80,
     "metadata": {},
     "output_type": "execute_result"
    },
    {
     "data": {
      "image/png": "[encoded data removed]",
      "text/plain": [
       "<Figure size 432x288 with 1 Axes>"
      ]
     },
     "metadata": {
      "needs_background": "light"
     },
     "output_type": "display_data"
    }
   ],
   "source": [
    "non_outlier_data[\"condition\"].hist(bins= 10)\n",
    "plt.title(\"condition\")"
   ]
  },
  {
   "cell_type": "markdown",
   "metadata": {},
   "source": [
    "The price of the Histogram in the filtered dataset starts at approximately 2100, and peaks at 5000. However, in the unfiltered dataset, it starts at 0. Beyond the peak the peak price of 5000 in the filtered dataset the price declines sharply till it gets to 10000. After which the price declines steadily till 42255. The Histogram that represents the filtered dataset of the average mileage starts at 0, and has a sharp increase till it gets to a maximum at 10000, and has a sharp decline till 20000. After which the decline was steady till 40375. \n",
    "For the vehicle_age_ad column, the filtered dataset has three peaks at 7, 12, and a small peak at 18 which is not evident in the unfiltered dataset.\n",
    "Generally, the histograms for the filtered dataset have more noise than the original dataset, because some datasets have been taken out, being outliers. Also, the tails are gone. However, they have the same peaks."
   ]
  },
  {
   "cell_type": "markdown",
   "metadata": {},
   "source": [
    "## Investigating \"days_listed\" column\n",
    "\n",
    "First, we study the number of days that the adverts were displayed, then find the mean, median. Describe the typical lifetime of an ad. Determine when ads were removed quickly, and when they were listed for an abnormally long time.]"
   ]
  },
  {
   "cell_type": "code",
   "execution_count": 81,
   "metadata": {},
   "outputs": [
    {
     "data": {
      "text/plain": [
       "count    46842.000000\n",
       "mean        39.573310\n",
       "std         28.241999\n",
       "min          0.000000\n",
       "25%         19.000000\n",
       "50%         33.000000\n",
       "75%         53.000000\n",
       "max        271.000000\n",
       "Name: days_listed, dtype: float64"
      ]
     },
     "execution_count": 81,
     "metadata": {},
     "output_type": "execute_result"
    }
   ],
   "source": [
    "non_outlier_data[\"days_listed\"].describe()"
   ]
  },
  {
   "cell_type": "markdown",
   "metadata": {},
   "source": [
    "The mean is about 39 days, and the median is about 33. Plotting the Histogram for \"days_listed\""
   ]
  },
  {
   "cell_type": "code",
   "execution_count": 82,
   "metadata": {},
   "outputs": [
    {
     "data": {
      "text/plain": [
       "array([[<AxesSubplot:title={'center':'days_listed'}>]], dtype=object)"
      ]
     },
     "execution_count": 82,
     "metadata": {},
     "output_type": "execute_result"
    },
    {
     "data": {
      "image/png": "[encoded data removed]",
      "text/plain": [
       "<Figure size 432x288 with 1 Axes>"
      ]
     },
     "metadata": {
      "needs_background": "light"
     },
     "output_type": "display_data"
    }
   ],
   "source": [
    "non_outlier_data.hist(\"days_listed\", bins = 25, range = (0,200))"
   ]
  },
  {
   "cell_type": "markdown",
   "metadata": {},
   "source": [
    "To see the lifetime of an ad we use a boxplot"
   ]
  },
  {
   "cell_type": "code",
   "execution_count": 83,
   "metadata": {},
   "outputs": [
    {
     "data": {
      "text/plain": [
       "<AxesSubplot:>"
      ]
     },
     "execution_count": 83,
     "metadata": {},
     "output_type": "execute_result"
    },
    {
     "data": {
      "image/png": "[encoded data removed]",
      "text/plain": [
       "<Figure size 576x432 with 1 Axes>"
      ]
     },
     "metadata": {
      "needs_background": "light"
     },
     "output_type": "display_data"
    }
   ],
   "source": [
    "non_outlier_data.boxplot(column = \"days_listed\", figsize = (8, 6))"
   ]
  },
  {
   "cell_type": "markdown",
   "metadata": {},
   "source": [
    "From the boxplot above, a typical ad is listed around 18 to 52 days. Ads that are listed above 100 days are those that are listed for an abnormally long period of time. All the values between 0 and 18 are those ads that were taken down quickly"
   ]
  },
  {
   "cell_type": "code",
   "execution_count": 84,
   "metadata": {
    "scrolled": true
   },
   "outputs": [
    {
     "data": {
      "text/html": [
       "<div>\n",
       "<style scoped>\n",
       "    .dataframe tbody tr th:only-of-type {\n",
       "        vertical-align: middle;\n",
       "    }\n",
       "\n",
       "    .dataframe tbody tr th {\n",
       "        vertical-align: top;\n",
       "    }\n",
       "\n",
       "    .dataframe thead th {\n",
       "        text-align: right;\n",
       "    }\n",
       "</style>\n",
       "<table border=\"1\" class=\"dataframe\">\n",
       "  <thead>\n",
       "    <tr style=\"text-align: right;\">\n",
       "      <th></th>\n",
       "      <th>price</th>\n",
       "      <th>model_year</th>\n",
       "      <th>model</th>\n",
       "      <th>condition</th>\n",
       "      <th>cylinders</th>\n",
       "      <th>fuel</th>\n",
       "      <th>odometer</th>\n",
       "      <th>transmission</th>\n",
       "      <th>type</th>\n",
       "      <th>paint_color</th>\n",
       "      <th>is_4wd</th>\n",
       "      <th>date_posted</th>\n",
       "      <th>days_listed</th>\n",
       "      <th>day</th>\n",
       "      <th>month</th>\n",
       "      <th>year</th>\n",
       "      <th>vehicle_age_ad</th>\n",
       "      <th>yearly_avg_milg</th>\n",
       "    </tr>\n",
       "  </thead>\n",
       "  <tbody>\n",
       "    <tr>\n",
       "      <th>0</th>\n",
       "      <td>9400</td>\n",
       "      <td>2011</td>\n",
       "      <td>bmw x5</td>\n",
       "      <td>2</td>\n",
       "      <td>6</td>\n",
       "      <td>gas</td>\n",
       "      <td>145000</td>\n",
       "      <td>automatic</td>\n",
       "      <td>suv</td>\n",
       "      <td>no info</td>\n",
       "      <td>True</td>\n",
       "      <td>2018-06-23</td>\n",
       "      <td>19</td>\n",
       "      <td>Saturday</td>\n",
       "      <td>6</td>\n",
       "      <td>2018</td>\n",
       "      <td>8</td>\n",
       "      <td>18125</td>\n",
       "    </tr>\n",
       "    <tr>\n",
       "      <th>1</th>\n",
       "      <td>25500</td>\n",
       "      <td>2009</td>\n",
       "      <td>ford f-150</td>\n",
       "      <td>2</td>\n",
       "      <td>6</td>\n",
       "      <td>gas</td>\n",
       "      <td>88705</td>\n",
       "      <td>automatic</td>\n",
       "      <td>pickup</td>\n",
       "      <td>white</td>\n",
       "      <td>True</td>\n",
       "      <td>2018-10-19</td>\n",
       "      <td>50</td>\n",
       "      <td>Friday</td>\n",
       "      <td>10</td>\n",
       "      <td>2018</td>\n",
       "      <td>10</td>\n",
       "      <td>8870</td>\n",
       "    </tr>\n",
       "    <tr>\n",
       "      <th>2</th>\n",
       "      <td>5500</td>\n",
       "      <td>2013</td>\n",
       "      <td>hyundai sonata</td>\n",
       "      <td>4</td>\n",
       "      <td>4</td>\n",
       "      <td>gas</td>\n",
       "      <td>110000</td>\n",
       "      <td>automatic</td>\n",
       "      <td>sedan</td>\n",
       "      <td>red</td>\n",
       "      <td>False</td>\n",
       "      <td>2019-02-07</td>\n",
       "      <td>79</td>\n",
       "      <td>Thursday</td>\n",
       "      <td>2</td>\n",
       "      <td>2019</td>\n",
       "      <td>7</td>\n",
       "      <td>15714</td>\n",
       "    </tr>\n",
       "    <tr>\n",
       "      <th>3</th>\n",
       "      <td>1500</td>\n",
       "      <td>2003</td>\n",
       "      <td>ford f-150</td>\n",
       "      <td>1</td>\n",
       "      <td>8</td>\n",
       "      <td>gas</td>\n",
       "      <td>163000</td>\n",
       "      <td>automatic</td>\n",
       "      <td>pickup</td>\n",
       "      <td>no info</td>\n",
       "      <td>False</td>\n",
       "      <td>2019-03-22</td>\n",
       "      <td>9</td>\n",
       "      <td>Friday</td>\n",
       "      <td>3</td>\n",
       "      <td>2019</td>\n",
       "      <td>17</td>\n",
       "      <td>9588</td>\n",
       "    </tr>\n",
       "  </tbody>\n",
       "</table>\n",
       "</div>"
      ],
      "text/plain": [
       "   price  model_year           model condition  cylinders fuel  odometer  \\\n",
       "0   9400        2011          bmw x5         2          6  gas    145000   \n",
       "1  25500        2009      ford f-150         2          6  gas     88705   \n",
       "2   5500        2013  hyundai sonata         4          4  gas    110000   \n",
       "3   1500        2003      ford f-150         1          8  gas    163000   \n",
       "\n",
       "  transmission    type paint_color  is_4wd date_posted  days_listed       day  \\\n",
       "0    automatic     suv     no info    True  2018-06-23           19  Saturday   \n",
       "1    automatic  pickup       white    True  2018-10-19           50    Friday   \n",
       "2    automatic   sedan         red   False  2019-02-07           79  Thursday   \n",
       "3    automatic  pickup     no info   False  2019-03-22            9    Friday   \n",
       "\n",
       "   month  year  vehicle_age_ad  yearly_avg_milg  \n",
       "0      6  2018               8            18125  \n",
       "1     10  2018              10             8870  \n",
       "2      2  2019               7            15714  \n",
       "3      3  2019              17             9588  "
      ]
     },
     "execution_count": 84,
     "metadata": {},
     "output_type": "execute_result"
    }
   ],
   "source": [
    "data.head(4)"
   ]
  },
  {
   "cell_type": "markdown",
   "metadata": {},
   "source": [
    "## Average price per each type of vehicle"
   ]
  },
  {
   "cell_type": "markdown",
   "metadata": {},
   "source": [
    "To analyze the number of ads, we would show the different types of cars and the median price for each type of vehicle using we use a pivot table. "
   ]
  },
  {
   "cell_type": "code",
   "execution_count": 85,
   "metadata": {},
   "outputs": [
    {
     "data": {
      "text/html": [
       "<div>\n",
       "<style scoped>\n",
       "    .dataframe tbody tr th:only-of-type {\n",
       "        vertical-align: middle;\n",
       "    }\n",
       "\n",
       "    .dataframe tbody tr th {\n",
       "        vertical-align: top;\n",
       "    }\n",
       "\n",
       "    .dataframe thead th {\n",
       "        text-align: right;\n",
       "    }\n",
       "</style>\n",
       "<table border=\"1\" class=\"dataframe\">\n",
       "  <thead>\n",
       "    <tr style=\"text-align: right;\">\n",
       "      <th></th>\n",
       "      <th>type</th>\n",
       "      <th>price</th>\n",
       "    </tr>\n",
       "  </thead>\n",
       "  <tbody>\n",
       "    <tr>\n",
       "      <th>0</th>\n",
       "      <td>bus</td>\n",
       "      <td>10500</td>\n",
       "    </tr>\n",
       "    <tr>\n",
       "      <th>1</th>\n",
       "      <td>convertible</td>\n",
       "      <td>12980</td>\n",
       "    </tr>\n",
       "    <tr>\n",
       "      <th>2</th>\n",
       "      <td>coupe</td>\n",
       "      <td>14995</td>\n",
       "    </tr>\n",
       "    <tr>\n",
       "      <th>3</th>\n",
       "      <td>hatchback</td>\n",
       "      <td>6000</td>\n",
       "    </tr>\n",
       "    <tr>\n",
       "      <th>4</th>\n",
       "      <td>mini-van</td>\n",
       "      <td>6900</td>\n",
       "    </tr>\n",
       "    <tr>\n",
       "      <th>5</th>\n",
       "      <td>offroad</td>\n",
       "      <td>12500</td>\n",
       "    </tr>\n",
       "    <tr>\n",
       "      <th>6</th>\n",
       "      <td>other</td>\n",
       "      <td>8995</td>\n",
       "    </tr>\n",
       "    <tr>\n",
       "      <th>7</th>\n",
       "      <td>pickup</td>\n",
       "      <td>14500</td>\n",
       "    </tr>\n",
       "    <tr>\n",
       "      <th>8</th>\n",
       "      <td>sedan</td>\n",
       "      <td>6495</td>\n",
       "    </tr>\n",
       "    <tr>\n",
       "      <th>9</th>\n",
       "      <td>suv</td>\n",
       "      <td>8995</td>\n",
       "    </tr>\n",
       "    <tr>\n",
       "      <th>10</th>\n",
       "      <td>truck</td>\n",
       "      <td>14995</td>\n",
       "    </tr>\n",
       "    <tr>\n",
       "      <th>11</th>\n",
       "      <td>van</td>\n",
       "      <td>7999</td>\n",
       "    </tr>\n",
       "    <tr>\n",
       "      <th>12</th>\n",
       "      <td>wagon</td>\n",
       "      <td>7995</td>\n",
       "    </tr>\n",
       "  </tbody>\n",
       "</table>\n",
       "</div>"
      ],
      "text/plain": [
       "           type  price\n",
       "0           bus  10500\n",
       "1   convertible  12980\n",
       "2         coupe  14995\n",
       "3     hatchback   6000\n",
       "4      mini-van   6900\n",
       "5       offroad  12500\n",
       "6         other   8995\n",
       "7        pickup  14500\n",
       "8         sedan   6495\n",
       "9           suv   8995\n",
       "10        truck  14995\n",
       "11          van   7999\n",
       "12        wagon   7995"
      ]
     },
     "execution_count": 85,
     "metadata": {},
     "output_type": "execute_result"
    }
   ],
   "source": [
    "type_price_ad = non_outlier_data.pivot_table(index = \"type\", values = \"price\", aggfunc = \"median\").reset_index()\n",
    "\n",
    "type_price_ad"
   ]
  },
  {
   "cell_type": "raw",
   "metadata": {},
   "source": [
    "To view the number of ads of all the types of cars over the years, we apply the value_counts() method"
   ]
  },
  {
   "cell_type": "code",
   "execution_count": 86,
   "metadata": {},
   "outputs": [
    {
     "data": {
      "text/plain": [
       "suv            11374\n",
       "truck          11227\n",
       "sedan          10981\n",
       "pickup          6506\n",
       "coupe           1929\n",
       "wagon           1459\n",
       "mini-van        1063\n",
       "hatchback        953\n",
       "van              568\n",
       "convertible      348\n",
       "other            224\n",
       "offroad          187\n",
       "bus               23\n",
       "Name: type, dtype: int64"
      ]
     },
     "execution_count": 86,
     "metadata": {},
     "output_type": "execute_result"
    }
   ],
   "source": [
    "#Viewing the number of ads for all the types of cars\n",
    "type_ad_counts = non_outlier_data[\"type\"].value_counts()\n",
    "\n",
    "type_ad_counts"
   ]
  },
  {
   "cell_type": "code",
   "execution_count": 87,
   "metadata": {
    "scrolled": false
   },
   "outputs": [
    {
     "data": {
      "text/html": [
       "<div>\n",
       "<style scoped>\n",
       "    .dataframe tbody tr th:only-of-type {\n",
       "        vertical-align: middle;\n",
       "    }\n",
       "\n",
       "    .dataframe tbody tr th {\n",
       "        vertical-align: top;\n",
       "    }\n",
       "\n",
       "    .dataframe thead th {\n",
       "        text-align: right;\n",
       "    }\n",
       "</style>\n",
       "<table border=\"1\" class=\"dataframe\">\n",
       "  <thead>\n",
       "    <tr style=\"text-align: right;\">\n",
       "      <th></th>\n",
       "      <th>type</th>\n",
       "      <th>count</th>\n",
       "    </tr>\n",
       "  </thead>\n",
       "  <tbody>\n",
       "    <tr>\n",
       "      <th>0</th>\n",
       "      <td>suv</td>\n",
       "      <td>11374</td>\n",
       "    </tr>\n",
       "    <tr>\n",
       "      <th>1</th>\n",
       "      <td>truck</td>\n",
       "      <td>11227</td>\n",
       "    </tr>\n",
       "    <tr>\n",
       "      <th>2</th>\n",
       "      <td>sedan</td>\n",
       "      <td>10981</td>\n",
       "    </tr>\n",
       "    <tr>\n",
       "      <th>3</th>\n",
       "      <td>pickup</td>\n",
       "      <td>6506</td>\n",
       "    </tr>\n",
       "    <tr>\n",
       "      <th>4</th>\n",
       "      <td>coupe</td>\n",
       "      <td>1929</td>\n",
       "    </tr>\n",
       "    <tr>\n",
       "      <th>5</th>\n",
       "      <td>wagon</td>\n",
       "      <td>1459</td>\n",
       "    </tr>\n",
       "    <tr>\n",
       "      <th>6</th>\n",
       "      <td>mini-van</td>\n",
       "      <td>1063</td>\n",
       "    </tr>\n",
       "    <tr>\n",
       "      <th>7</th>\n",
       "      <td>hatchback</td>\n",
       "      <td>953</td>\n",
       "    </tr>\n",
       "    <tr>\n",
       "      <th>8</th>\n",
       "      <td>van</td>\n",
       "      <td>568</td>\n",
       "    </tr>\n",
       "    <tr>\n",
       "      <th>9</th>\n",
       "      <td>convertible</td>\n",
       "      <td>348</td>\n",
       "    </tr>\n",
       "    <tr>\n",
       "      <th>10</th>\n",
       "      <td>other</td>\n",
       "      <td>224</td>\n",
       "    </tr>\n",
       "    <tr>\n",
       "      <th>11</th>\n",
       "      <td>offroad</td>\n",
       "      <td>187</td>\n",
       "    </tr>\n",
       "    <tr>\n",
       "      <th>12</th>\n",
       "      <td>bus</td>\n",
       "      <td>23</td>\n",
       "    </tr>\n",
       "  </tbody>\n",
       "</table>\n",
       "</div>"
      ],
      "text/plain": [
       "           type  count\n",
       "0           suv  11374\n",
       "1         truck  11227\n",
       "2         sedan  10981\n",
       "3        pickup   6506\n",
       "4         coupe   1929\n",
       "5         wagon   1459\n",
       "6      mini-van   1063\n",
       "7     hatchback    953\n",
       "8           van    568\n",
       "9   convertible    348\n",
       "10        other    224\n",
       "11      offroad    187\n",
       "12          bus     23"
      ]
     },
     "execution_count": 87,
     "metadata": {},
     "output_type": "execute_result"
    }
   ],
   "source": [
    "#converting type_ad_counts to a DataFrame, and changing the column names\n",
    "type_ad_counts = type_ad_counts.reset_index()\n",
    "type_ad_counts.columns = ['type','count']\n",
    "type_ad_counts"
   ]
  },
  {
   "cell_type": "markdown",
   "metadata": {},
   "source": [
    "To view the number of ads placed and the average price of each vehicle, we merge the variables using the merge() method"
   ]
  },
  {
   "cell_type": "code",
   "execution_count": 88,
   "metadata": {},
   "outputs": [],
   "source": [
    "#viewing the number of ads placed, and the average price of each vehicle\n",
    "no_of_ads_price = pd.merge(type_price_ad,type_ad_counts,how='left' )\n",
    "\n",
    "#sorting the values by the count\n",
    "no_of_ads_price = no_of_ads_price.sort_values(\"count\", ascending = False)"
   ]
  },
  {
   "cell_type": "code",
   "execution_count": 89,
   "metadata": {},
   "outputs": [
    {
     "data": {
      "text/html": [
       "<div>\n",
       "<style scoped>\n",
       "    .dataframe tbody tr th:only-of-type {\n",
       "        vertical-align: middle;\n",
       "    }\n",
       "\n",
       "    .dataframe tbody tr th {\n",
       "        vertical-align: top;\n",
       "    }\n",
       "\n",
       "    .dataframe thead th {\n",
       "        text-align: right;\n",
       "    }\n",
       "</style>\n",
       "<table border=\"1\" class=\"dataframe\">\n",
       "  <thead>\n",
       "    <tr style=\"text-align: right;\">\n",
       "      <th></th>\n",
       "      <th>type</th>\n",
       "      <th>price</th>\n",
       "      <th>count</th>\n",
       "    </tr>\n",
       "  </thead>\n",
       "  <tbody>\n",
       "    <tr>\n",
       "      <th>9</th>\n",
       "      <td>suv</td>\n",
       "      <td>8995</td>\n",
       "      <td>11374</td>\n",
       "    </tr>\n",
       "    <tr>\n",
       "      <th>10</th>\n",
       "      <td>truck</td>\n",
       "      <td>14995</td>\n",
       "      <td>11227</td>\n",
       "    </tr>\n",
       "    <tr>\n",
       "      <th>8</th>\n",
       "      <td>sedan</td>\n",
       "      <td>6495</td>\n",
       "      <td>10981</td>\n",
       "    </tr>\n",
       "    <tr>\n",
       "      <th>7</th>\n",
       "      <td>pickup</td>\n",
       "      <td>14500</td>\n",
       "      <td>6506</td>\n",
       "    </tr>\n",
       "    <tr>\n",
       "      <th>2</th>\n",
       "      <td>coupe</td>\n",
       "      <td>14995</td>\n",
       "      <td>1929</td>\n",
       "    </tr>\n",
       "    <tr>\n",
       "      <th>12</th>\n",
       "      <td>wagon</td>\n",
       "      <td>7995</td>\n",
       "      <td>1459</td>\n",
       "    </tr>\n",
       "    <tr>\n",
       "      <th>4</th>\n",
       "      <td>mini-van</td>\n",
       "      <td>6900</td>\n",
       "      <td>1063</td>\n",
       "    </tr>\n",
       "    <tr>\n",
       "      <th>3</th>\n",
       "      <td>hatchback</td>\n",
       "      <td>6000</td>\n",
       "      <td>953</td>\n",
       "    </tr>\n",
       "    <tr>\n",
       "      <th>11</th>\n",
       "      <td>van</td>\n",
       "      <td>7999</td>\n",
       "      <td>568</td>\n",
       "    </tr>\n",
       "    <tr>\n",
       "      <th>1</th>\n",
       "      <td>convertible</td>\n",
       "      <td>12980</td>\n",
       "      <td>348</td>\n",
       "    </tr>\n",
       "    <tr>\n",
       "      <th>6</th>\n",
       "      <td>other</td>\n",
       "      <td>8995</td>\n",
       "      <td>224</td>\n",
       "    </tr>\n",
       "    <tr>\n",
       "      <th>5</th>\n",
       "      <td>offroad</td>\n",
       "      <td>12500</td>\n",
       "      <td>187</td>\n",
       "    </tr>\n",
       "    <tr>\n",
       "      <th>0</th>\n",
       "      <td>bus</td>\n",
       "      <td>10500</td>\n",
       "      <td>23</td>\n",
       "    </tr>\n",
       "  </tbody>\n",
       "</table>\n",
       "</div>"
      ],
      "text/plain": [
       "           type  price  count\n",
       "9           suv   8995  11374\n",
       "10        truck  14995  11227\n",
       "8         sedan   6495  10981\n",
       "7        pickup  14500   6506\n",
       "2         coupe  14995   1929\n",
       "12        wagon   7995   1459\n",
       "4      mini-van   6900   1063\n",
       "3     hatchback   6000    953\n",
       "11          van   7999    568\n",
       "1   convertible  12980    348\n",
       "6         other   8995    224\n",
       "5       offroad  12500    187\n",
       "0           bus  10500     23"
      ]
     },
     "execution_count": 89,
     "metadata": {},
     "output_type": "execute_result"
    }
   ],
   "source": [
    "no_of_ads_price "
   ]
  },
  {
   "cell_type": "code",
   "execution_count": 90,
   "metadata": {
    "scrolled": false
   },
   "outputs": [
    {
     "data": {
      "text/plain": [
       "<AxesSubplot:xlabel='type'>"
      ]
     },
     "execution_count": 90,
     "metadata": {},
     "output_type": "execute_result"
    },
    {
     "data": {
      "image/png": "[encoded data removed]",
      "text/plain": [
       "<Figure size 576x432 with 1 Axes>"
      ]
     },
     "metadata": {
      "needs_background": "light"
     },
     "output_type": "display_data"
    }
   ],
   "source": [
    "no_of_ads_price.plot(x= \"type\", y = \"count\", grid = True, figsize =(8,6), kind = \"bar\")"
   ]
  },
  {
   "cell_type": "markdown",
   "metadata": {},
   "source": [
    "The most popular cars that were listed are SUVs and Trucks and Sedan"
   ]
  },
  {
   "cell_type": "markdown",
   "metadata": {},
   "source": [
    "## Price factors"
   ]
  },
  {
   "cell_type": "markdown",
   "metadata": {},
   "source": [
    "To determine the factors that impact the price most, we would study two of the three cars that have the highest number of ads. For these type of cars, we wil create a slice, and check whether the price depends on age, mileage, condition, transmission type, or color. For categorical variables (transmission type and color), we use plot box-and-whisker charts, and create scatterplots for the rest. "
   ]
  },
  {
   "cell_type": "code",
   "execution_count": 91,
   "metadata": {},
   "outputs": [],
   "source": [
    "#slice our dataset, and deal with SUVs first\n",
    "data_suv = non_outlier_data.query('type == \"suv\"')\n",
    "\n",
    "#selecting the columns that are to be dealt with for the suvs and how they affect price\n",
    "data_suv = data_suv[[\"price\", \"yearly_avg_milg\", \"vehicle_age_ad\",\"condition\", \"transmission\", \"paint_color\"]]"
   ]
  },
  {
   "cell_type": "code",
   "execution_count": 92,
   "metadata": {},
   "outputs": [
    {
     "data": {
      "text/html": [
       "<div>\n",
       "<style scoped>\n",
       "    .dataframe tbody tr th:only-of-type {\n",
       "        vertical-align: middle;\n",
       "    }\n",
       "\n",
       "    .dataframe tbody tr th {\n",
       "        vertical-align: top;\n",
       "    }\n",
       "\n",
       "    .dataframe thead th {\n",
       "        text-align: right;\n",
       "    }\n",
       "</style>\n",
       "<table border=\"1\" class=\"dataframe\">\n",
       "  <thead>\n",
       "    <tr style=\"text-align: right;\">\n",
       "      <th></th>\n",
       "      <th>price</th>\n",
       "      <th>yearly_avg_milg</th>\n",
       "      <th>vehicle_age_ad</th>\n",
       "      <th>condition</th>\n",
       "      <th>transmission</th>\n",
       "      <th>paint_color</th>\n",
       "    </tr>\n",
       "  </thead>\n",
       "  <tbody>\n",
       "    <tr>\n",
       "      <th>0</th>\n",
       "      <td>9400</td>\n",
       "      <td>18125</td>\n",
       "      <td>8</td>\n",
       "      <td>2</td>\n",
       "      <td>automatic</td>\n",
       "      <td>no info</td>\n",
       "    </tr>\n",
       "    <tr>\n",
       "      <th>7</th>\n",
       "      <td>15990</td>\n",
       "      <td>15639</td>\n",
       "      <td>7</td>\n",
       "      <td>3</td>\n",
       "      <td>automatic</td>\n",
       "      <td>black</td>\n",
       "    </tr>\n",
       "    <tr>\n",
       "      <th>8</th>\n",
       "      <td>11500</td>\n",
       "      <td>14882</td>\n",
       "      <td>7</td>\n",
       "      <td>3</td>\n",
       "      <td>automatic</td>\n",
       "      <td>no info</td>\n",
       "    </tr>\n",
       "    <tr>\n",
       "      <th>9</th>\n",
       "      <td>9200</td>\n",
       "      <td>12265</td>\n",
       "      <td>12</td>\n",
       "      <td>3</td>\n",
       "      <td>automatic</td>\n",
       "      <td>blue</td>\n",
       "    </tr>\n",
       "    <tr>\n",
       "      <th>14</th>\n",
       "      <td>12990</td>\n",
       "      <td>12025</td>\n",
       "      <td>11</td>\n",
       "      <td>3</td>\n",
       "      <td>automatic</td>\n",
       "      <td>black</td>\n",
       "    </tr>\n",
       "  </tbody>\n",
       "</table>\n",
       "</div>"
      ],
      "text/plain": [
       "    price  yearly_avg_milg  vehicle_age_ad condition transmission paint_color\n",
       "0    9400            18125               8         2    automatic     no info\n",
       "7   15990            15639               7         3    automatic       black\n",
       "8   11500            14882               7         3    automatic     no info\n",
       "9    9200            12265              12         3    automatic        blue\n",
       "14  12990            12025              11         3    automatic       black"
      ]
     },
     "execution_count": 92,
     "metadata": {},
     "output_type": "execute_result"
    }
   ],
   "source": [
    "data_suv.head(5)"
   ]
  },
  {
   "cell_type": "code",
   "execution_count": 94,
   "metadata": {
    "scrolled": false
   },
   "outputs": [
    {
     "data": {
      "image/png": "[encoded data removed]",
      "text/plain": [
       "<Figure size 576x432 with 1 Axes>"
      ]
     },
     "metadata": {
      "needs_background": "light"
     },
     "output_type": "display_data"
    },
    {
     "data": {
      "image/png": "[encoded data removed]",
      "text/plain": [
       "<Figure size 576x432 with 1 Axes>"
      ]
     },
     "metadata": {
      "needs_background": "light"
     },
     "output_type": "display_data"
    }
   ],
   "source": [
    "#Creating a boxplot for the transmission and paint_color columns\n",
    "for sho in data_suv.columns:\n",
    "    if (sho == \"transmission\") or (sho ==\"paint_color\"):\n",
    "        data_suv.boxplot(column = \"price\", by = sho, figsize = (8, 6))\n"
   ]
  },
  {
   "cell_type": "code",
   "execution_count": 95,
   "metadata": {},
   "outputs": [
    {
     "data": {
      "text/plain": [
       "array([[<AxesSubplot:xlabel='price', ylabel='price'>,\n",
       "        <AxesSubplot:xlabel='yearly_avg_milg', ylabel='price'>,\n",
       "        <AxesSubplot:xlabel='vehicle_age_ad', ylabel='price'>],\n",
       "       [<AxesSubplot:xlabel='price', ylabel='yearly_avg_milg'>,\n",
       "        <AxesSubplot:xlabel='yearly_avg_milg', ylabel='yearly_avg_milg'>,\n",
       "        <AxesSubplot:xlabel='vehicle_age_ad', ylabel='yearly_avg_milg'>],\n",
       "       [<AxesSubplot:xlabel='price', ylabel='vehicle_age_ad'>,\n",
       "        <AxesSubplot:xlabel='yearly_avg_milg', ylabel='vehicle_age_ad'>,\n",
       "        <AxesSubplot:xlabel='vehicle_age_ad', ylabel='vehicle_age_ad'>]],\n",
       "      dtype=object)"
      ]
     },
     "execution_count": 95,
     "metadata": {},
     "output_type": "execute_result"
    },
    {
     "data": {
      "image/png": "[encoded data removed]",
      "text/plain": [
       "<Figure size 648x648 with 9 Axes>"
      ]
     },
     "metadata": {
      "needs_background": "light"
     },
     "output_type": "display_data"
    }
   ],
   "source": [
    "# Showing a correlation plot for the Price, Mileage, condition and vehicle_age ad columns\n",
    "\n",
    "pd.plotting.scatter_matrix(data_suv, figsize=(9, 9))"
   ]
  },
  {
   "cell_type": "markdown",
   "metadata": {},
   "source": [
    "Using a correlation matrix to show the relationship between price and other variables. A value close to -1 or 1 shows a strong relationship between the variables. However, a value close to 0 indicates little to no correlation at all."
   ]
  },
  {
   "cell_type": "code",
   "execution_count": 96,
   "metadata": {},
   "outputs": [
    {
     "data": {
      "text/html": [
       "<div>\n",
       "<style scoped>\n",
       "    .dataframe tbody tr th:only-of-type {\n",
       "        vertical-align: middle;\n",
       "    }\n",
       "\n",
       "    .dataframe tbody tr th {\n",
       "        vertical-align: top;\n",
       "    }\n",
       "\n",
       "    .dataframe thead th {\n",
       "        text-align: right;\n",
       "    }\n",
       "</style>\n",
       "<table border=\"1\" class=\"dataframe\">\n",
       "  <thead>\n",
       "    <tr style=\"text-align: right;\">\n",
       "      <th></th>\n",
       "      <th>price</th>\n",
       "      <th>yearly_avg_milg</th>\n",
       "      <th>vehicle_age_ad</th>\n",
       "    </tr>\n",
       "  </thead>\n",
       "  <tbody>\n",
       "    <tr>\n",
       "      <th>price</th>\n",
       "      <td>1.000000</td>\n",
       "      <td>0.193616</td>\n",
       "      <td>-0.639043</td>\n",
       "    </tr>\n",
       "    <tr>\n",
       "      <th>yearly_avg_milg</th>\n",
       "      <td>0.193616</td>\n",
       "      <td>1.000000</td>\n",
       "      <td>-0.516610</td>\n",
       "    </tr>\n",
       "    <tr>\n",
       "      <th>vehicle_age_ad</th>\n",
       "      <td>-0.639043</td>\n",
       "      <td>-0.516610</td>\n",
       "      <td>1.000000</td>\n",
       "    </tr>\n",
       "  </tbody>\n",
       "</table>\n",
       "</div>"
      ],
      "text/plain": [
       "                    price  yearly_avg_milg  vehicle_age_ad\n",
       "price            1.000000         0.193616       -0.639043\n",
       "yearly_avg_milg  0.193616         1.000000       -0.516610\n",
       "vehicle_age_ad  -0.639043        -0.516610        1.000000"
      ]
     },
     "execution_count": 96,
     "metadata": {},
     "output_type": "execute_result"
    }
   ],
   "source": [
    "#Plotting the correlation Matrix\n",
    "\n",
    "data_suv.corr()"
   ]
  },
  {
   "cell_type": "markdown",
   "metadata": {},
   "source": [
    "From the correlation matrix, the age is the factor that impacts price the most. Taking a look at the boxplots, yellow SUVs and SUVs with other transmissions have higher typical prices in their respective categories. "
   ]
  },
  {
   "cell_type": "markdown",
   "metadata": {},
   "source": [
    "**Taking a look at Sedans**"
   ]
  },
  {
   "cell_type": "code",
   "execution_count": 99,
   "metadata": {},
   "outputs": [],
   "source": [
    "#slice our dataset, and deal with SUVs first\n",
    "data_sedan= non_outlier_data.query('type == \"sedan\"')\n",
    "\n",
    "#selecting the columns that are to be dealt with for the suvs and how they affect price\n",
    "data_sedan = data_sedan[[\"price\", \"yearly_avg_milg\", \"vehicle_age_ad\",\"condition\", \"transmission\", \"paint_color\"]]"
   ]
  },
  {
   "cell_type": "code",
   "execution_count": 100,
   "metadata": {},
   "outputs": [
    {
     "data": {
      "text/html": [
       "<div>\n",
       "<style scoped>\n",
       "    .dataframe tbody tr th:only-of-type {\n",
       "        vertical-align: middle;\n",
       "    }\n",
       "\n",
       "    .dataframe tbody tr th {\n",
       "        vertical-align: top;\n",
       "    }\n",
       "\n",
       "    .dataframe thead th {\n",
       "        text-align: right;\n",
       "    }\n",
       "</style>\n",
       "<table border=\"1\" class=\"dataframe\">\n",
       "  <thead>\n",
       "    <tr style=\"text-align: right;\">\n",
       "      <th></th>\n",
       "      <th>price</th>\n",
       "      <th>yearly_avg_milg</th>\n",
       "      <th>vehicle_age_ad</th>\n",
       "      <th>condition</th>\n",
       "      <th>transmission</th>\n",
       "      <th>paint_color</th>\n",
       "    </tr>\n",
       "  </thead>\n",
       "  <tbody>\n",
       "    <tr>\n",
       "      <th>2</th>\n",
       "      <td>5500</td>\n",
       "      <td>15714</td>\n",
       "      <td>7</td>\n",
       "      <td>4</td>\n",
       "      <td>automatic</td>\n",
       "      <td>red</td>\n",
       "    </tr>\n",
       "    <tr>\n",
       "      <th>4</th>\n",
       "      <td>14900</td>\n",
       "      <td>26967</td>\n",
       "      <td>3</td>\n",
       "      <td>3</td>\n",
       "      <td>automatic</td>\n",
       "      <td>black</td>\n",
       "    </tr>\n",
       "    <tr>\n",
       "      <th>5</th>\n",
       "      <td>14990</td>\n",
       "      <td>11590</td>\n",
       "      <td>5</td>\n",
       "      <td>3</td>\n",
       "      <td>automatic</td>\n",
       "      <td>black</td>\n",
       "    </tr>\n",
       "    <tr>\n",
       "      <th>6</th>\n",
       "      <td>12990</td>\n",
       "      <td>19803</td>\n",
       "      <td>4</td>\n",
       "      <td>3</td>\n",
       "      <td>automatic</td>\n",
       "      <td>white</td>\n",
       "    </tr>\n",
       "    <tr>\n",
       "      <th>11</th>\n",
       "      <td>8990</td>\n",
       "      <td>13892</td>\n",
       "      <td>8</td>\n",
       "      <td>3</td>\n",
       "      <td>automatic</td>\n",
       "      <td>grey</td>\n",
       "    </tr>\n",
       "  </tbody>\n",
       "</table>\n",
       "</div>"
      ],
      "text/plain": [
       "    price  yearly_avg_milg  vehicle_age_ad condition transmission paint_color\n",
       "2    5500            15714               7         4    automatic         red\n",
       "4   14900            26967               3         3    automatic       black\n",
       "5   14990            11590               5         3    automatic       black\n",
       "6   12990            19803               4         3    automatic       white\n",
       "11   8990            13892               8         3    automatic        grey"
      ]
     },
     "execution_count": 100,
     "metadata": {},
     "output_type": "execute_result"
    }
   ],
   "source": [
    "data_sedan.head(5)"
   ]
  },
  {
   "cell_type": "code",
   "execution_count": 101,
   "metadata": {
    "scrolled": false
   },
   "outputs": [
    {
     "data": {
      "image/png": "[encoded data removed]",
      "text/plain": [
       "<Figure size 576x432 with 1 Axes>"
      ]
     },
     "metadata": {
      "needs_background": "light"
     },
     "output_type": "display_data"
    },
    {
     "data": {
      "image/png": "[encoded data removed]",
      "text/plain": [
       "<Figure size 576x432 with 1 Axes>"
      ]
     },
     "metadata": {
      "needs_background": "light"
     },
     "output_type": "display_data"
    }
   ],
   "source": [
    "for ref in data_sedan.columns:\n",
    "    if(ref == \"transmission\") or (ref == \"paint_color\"):\n",
    "        data_sedan.boxplot(column = \"price\", by = ref, figsize = (8, 6))\n",
    "    "
   ]
  },
  {
   "cell_type": "code",
   "execution_count": 102,
   "metadata": {
    "scrolled": false
   },
   "outputs": [
    {
     "data": {
      "text/plain": [
       "array([[<AxesSubplot:xlabel='price', ylabel='price'>,\n",
       "        <AxesSubplot:xlabel='yearly_avg_milg', ylabel='price'>,\n",
       "        <AxesSubplot:xlabel='vehicle_age_ad', ylabel='price'>],\n",
       "       [<AxesSubplot:xlabel='price', ylabel='yearly_avg_milg'>,\n",
       "        <AxesSubplot:xlabel='yearly_avg_milg', ylabel='yearly_avg_milg'>,\n",
       "        <AxesSubplot:xlabel='vehicle_age_ad', ylabel='yearly_avg_milg'>],\n",
       "       [<AxesSubplot:xlabel='price', ylabel='vehicle_age_ad'>,\n",
       "        <AxesSubplot:xlabel='yearly_avg_milg', ylabel='vehicle_age_ad'>,\n",
       "        <AxesSubplot:xlabel='vehicle_age_ad', ylabel='vehicle_age_ad'>]],\n",
       "      dtype=object)"
      ]
     },
     "execution_count": 102,
     "metadata": {},
     "output_type": "execute_result"
    },
    {
     "data": {
      "image/png": "[encoded data removed]",
      "text/plain": [
       "<Figure size 648x648 with 9 Axes>"
      ]
     },
     "metadata": {
      "needs_background": "light"
     },
     "output_type": "display_data"
    }
   ],
   "source": [
    "# Showing a correlation plot for the Price, Mileage, condition and vehicle_age ad columns\n",
    "\n",
    "pd.plotting.scatter_matrix(data_sedan, figsize=(9, 9))"
   ]
  },
  {
   "cell_type": "code",
   "execution_count": 103,
   "metadata": {},
   "outputs": [
    {
     "data": {
      "text/html": [
       "<div>\n",
       "<style scoped>\n",
       "    .dataframe tbody tr th:only-of-type {\n",
       "        vertical-align: middle;\n",
       "    }\n",
       "\n",
       "    .dataframe tbody tr th {\n",
       "        vertical-align: top;\n",
       "    }\n",
       "\n",
       "    .dataframe thead th {\n",
       "        text-align: right;\n",
       "    }\n",
       "</style>\n",
       "<table border=\"1\" class=\"dataframe\">\n",
       "  <thead>\n",
       "    <tr style=\"text-align: right;\">\n",
       "      <th></th>\n",
       "      <th>price</th>\n",
       "      <th>yearly_avg_milg</th>\n",
       "      <th>vehicle_age_ad</th>\n",
       "    </tr>\n",
       "  </thead>\n",
       "  <tbody>\n",
       "    <tr>\n",
       "      <th>price</th>\n",
       "      <td>1.000000</td>\n",
       "      <td>0.143919</td>\n",
       "      <td>-0.672958</td>\n",
       "    </tr>\n",
       "    <tr>\n",
       "      <th>yearly_avg_milg</th>\n",
       "      <td>0.143919</td>\n",
       "      <td>1.000000</td>\n",
       "      <td>-0.456312</td>\n",
       "    </tr>\n",
       "    <tr>\n",
       "      <th>vehicle_age_ad</th>\n",
       "      <td>-0.672958</td>\n",
       "      <td>-0.456312</td>\n",
       "      <td>1.000000</td>\n",
       "    </tr>\n",
       "  </tbody>\n",
       "</table>\n",
       "</div>"
      ],
      "text/plain": [
       "                    price  yearly_avg_milg  vehicle_age_ad\n",
       "price            1.000000         0.143919       -0.672958\n",
       "yearly_avg_milg  0.143919         1.000000       -0.456312\n",
       "vehicle_age_ad  -0.672958        -0.456312        1.000000"
      ]
     },
     "execution_count": 103,
     "metadata": {},
     "output_type": "execute_result"
    }
   ],
   "source": [
    "#Plotting the correlation Matrix\n",
    "\n",
    "data_sedan.corr()"
   ]
  },
  {
   "cell_type": "markdown",
   "metadata": {},
   "source": [
    "From the correlation matrix, the age still has the strongest correlation with price (although correlation is negative). From the box plots, orange sedans and sedans with other transmissions have the highest typical prices in their respective categories"
   ]
  },
  {
   "cell_type": "markdown",
   "metadata": {},
   "source": [
    "## General conclusion\n",
    "\n",
    "This Project was done as a research on the adverts for car sales from CrankShaft List. The dataset was preprocessed and missing values were filled with either the mean or the median of the columns that they were dependent on. After the missing values were filled, the dataset was filtered with upper limits and lower limits using the 3-sigma rule. The lower limit for \"yearly_avg_milg\" and \"vehicle_age_ad\" was set at 0. However, the lower limit for the \"price\" was set at one-standard deviation from the mean. Histograms were plotted for the original dataset and the filtered data. The typical ad lasts between 19 and 50 days, and those lasting more than 100 days are abnormally long. Of the three types of vehicles that had the highest number of ads, we studied two of them, namely: SUVs, and Sedan. The data of these two types of vehicles were used to create boxplots, scatterplots, and correlation matrices. From those, we came to the conclusion that the factor that impacts price the most is age, followed by mileage. We also saw that for SUVs, yellow was the color with the highest typical prices, and SUVs with other transmission types edge out both automatic and manual transmisson for price. For Sedans (the third most popular type in our dataset), orange was the color that drove up typical prices, and sedans with other transmission types had more influence on price than sedans with manual, or automatic transmissions."
   ]
  }
 ],
 "metadata": {
  "ExecuteTimeLog": [
   {
    "duration": 828,
    "start_time": "2021-11-16T09:21:11.304Z"
   },
   {
    "duration": 893,
    "start_time": "2021-11-16T09:21:17.728Z"
   },
   {
    "duration": 1150,
    "start_time": "2021-11-16T09:21:29.568Z"
   },
   {
    "duration": 3,
    "start_time": "2021-11-16T09:24:14.495Z"
   },
   {
    "duration": 120,
    "start_time": "2021-11-16T09:24:46.630Z"
   },
   {
    "duration": 3,
    "start_time": "2021-11-16T09:28:27.882Z"
   },
   {
    "duration": 4,
    "start_time": "2021-11-16T09:29:54.281Z"
   },
   {
    "duration": 3,
    "start_time": "2021-11-16T09:30:45.936Z"
   },
   {
    "duration": 4,
    "start_time": "2021-11-16T09:31:06.300Z"
   },
   {
    "duration": 113,
    "start_time": "2021-11-16T09:31:37.208Z"
   },
   {
    "duration": 143,
    "start_time": "2021-11-16T09:31:48.656Z"
   },
   {
    "duration": 98,
    "start_time": "2021-11-16T09:31:55.678Z"
   },
   {
    "duration": 3,
    "start_time": "2021-11-16T09:32:08.535Z"
   },
   {
    "duration": 111,
    "start_time": "2021-11-16T09:32:10.120Z"
   },
   {
    "duration": 3,
    "start_time": "2021-11-16T09:32:15.732Z"
   },
   {
    "duration": 4,
    "start_time": "2021-11-16T09:32:29.423Z"
   },
   {
    "duration": 3,
    "start_time": "2021-11-16T10:03:03.074Z"
   },
   {
    "duration": 3,
    "start_time": "2021-11-16T10:10:01.288Z"
   },
   {
    "duration": 3,
    "start_time": "2021-11-16T10:10:46.923Z"
   },
   {
    "duration": 121,
    "start_time": "2021-11-16T10:37:46.494Z"
   },
   {
    "duration": 125,
    "start_time": "2021-11-16T10:38:20.632Z"
   },
   {
    "duration": 112,
    "start_time": "2021-11-16T10:46:53.001Z"
   },
   {
    "duration": 110,
    "start_time": "2021-11-16T10:48:25.775Z"
   },
   {
    "duration": 3,
    "start_time": "2021-11-16T10:50:18.720Z"
   },
   {
    "duration": 4,
    "start_time": "2021-11-16T10:50:37.649Z"
   },
   {
    "duration": 2,
    "start_time": "2021-11-16T10:50:51.884Z"
   },
   {
    "duration": 3,
    "start_time": "2021-11-16T10:51:56.237Z"
   },
   {
    "duration": 101,
    "start_time": "2021-11-16T10:53:13.791Z"
   },
   {
    "duration": 3,
    "start_time": "2021-11-16T10:55:59.186Z"
   },
   {
    "duration": 3,
    "start_time": "2021-11-16T10:56:10.751Z"
   },
   {
    "duration": 3,
    "start_time": "2021-11-16T10:56:49.038Z"
   },
   {
    "duration": 3,
    "start_time": "2021-11-16T10:56:49.174Z"
   },
   {
    "duration": 4,
    "start_time": "2021-11-16T10:56:49.414Z"
   },
   {
    "duration": 3,
    "start_time": "2021-11-16T10:56:49.680Z"
   },
   {
    "duration": 3,
    "start_time": "2021-11-16T10:56:50.370Z"
   },
   {
    "duration": 114,
    "start_time": "2021-11-16T10:59:34.518Z"
   },
   {
    "duration": 3,
    "start_time": "2021-11-16T11:01:41.201Z"
   },
   {
    "duration": 116,
    "start_time": "2021-11-16T11:01:48.754Z"
   },
   {
    "duration": 3,
    "start_time": "2021-11-16T11:02:16.685Z"
   },
   {
    "duration": 3,
    "start_time": "2021-11-16T11:02:19.479Z"
   },
   {
    "duration": 3,
    "start_time": "2021-11-16T11:02:47.067Z"
   },
   {
    "duration": 3,
    "start_time": "2021-11-16T11:02:49.353Z"
   },
   {
    "duration": 3,
    "start_time": "2021-11-16T11:03:07.835Z"
   },
   {
    "duration": 3,
    "start_time": "2021-11-16T11:03:07.953Z"
   },
   {
    "duration": 112,
    "start_time": "2021-11-16T11:07:52.072Z"
   },
   {
    "duration": 187,
    "start_time": "2021-11-16T11:09:23.468Z"
   },
   {
    "duration": 4,
    "start_time": "2021-11-16T11:10:01.455Z"
   },
   {
    "duration": 3,
    "start_time": "2021-11-16T11:10:05.069Z"
   },
   {
    "duration": 4,
    "start_time": "2021-11-16T11:10:13.376Z"
   },
   {
    "duration": 3,
    "start_time": "2021-11-16T11:10:14.434Z"
   },
   {
    "duration": 3,
    "start_time": "2021-11-16T11:10:22.853Z"
   },
   {
    "duration": 4,
    "start_time": "2021-11-16T11:27:29.279Z"
   },
   {
    "duration": 4,
    "start_time": "2021-11-16T11:29:08.919Z"
   },
   {
    "duration": 118,
    "start_time": "2021-11-16T11:29:46.703Z"
   },
   {
    "duration": 437,
    "start_time": "2021-11-16T11:36:02.181Z"
   },
   {
    "duration": 157,
    "start_time": "2021-11-16T11:36:14.388Z"
   },
   {
    "duration": 207,
    "start_time": "2021-11-16T11:47:15.898Z"
   },
   {
    "duration": 3,
    "start_time": "2021-11-16T11:53:52.092Z"
   },
   {
    "duration": 3,
    "start_time": "2021-11-16T11:53:52.236Z"
   },
   {
    "duration": 3,
    "start_time": "2021-11-16T11:59:12.005Z"
   },
   {
    "duration": 112,
    "start_time": "2021-11-16T12:00:33.446Z"
   },
   {
    "duration": 3,
    "start_time": "2021-11-16T12:02:14.453Z"
   },
   {
    "duration": 3,
    "start_time": "2021-11-16T12:02:39.512Z"
   },
   {
    "duration": 106,
    "start_time": "2021-11-16T12:03:03.460Z"
   },
   {
    "duration": 75,
    "start_time": "2022-09-04T19:36:43.144Z"
   },
   {
    "duration": 6,
    "start_time": "2022-09-04T19:40:13.197Z"
   },
   {
    "duration": 387,
    "start_time": "2022-09-04T19:40:21.917Z"
   },
   {
    "duration": 167,
    "start_time": "2022-09-04T19:40:25.637Z"
   },
   {
    "duration": 21,
    "start_time": "2022-09-04T19:44:51.915Z"
   },
   {
    "duration": 30,
    "start_time": "2022-09-04T19:44:59.020Z"
   },
   {
    "duration": 96,
    "start_time": "2022-09-04T19:47:08.647Z"
   },
   {
    "duration": 23,
    "start_time": "2022-09-04T19:47:19.262Z"
   },
   {
    "duration": 23,
    "start_time": "2022-09-04T19:47:37.014Z"
   },
   {
    "duration": 441,
    "start_time": "2022-09-08T03:51:07.370Z"
   },
   {
    "duration": 2,
    "start_time": "2022-09-08T03:51:33.411Z"
   },
   {
    "duration": 165,
    "start_time": "2022-09-08T03:51:39.360Z"
   },
   {
    "duration": 58,
    "start_time": "2022-09-08T04:08:16.326Z"
   },
   {
    "duration": 57,
    "start_time": "2022-09-08T04:08:45.381Z"
   },
   {
    "duration": 70,
    "start_time": "2022-09-08T04:10:52.098Z"
   },
   {
    "duration": 27,
    "start_time": "2022-09-08T04:11:05.538Z"
   },
   {
    "duration": 6,
    "start_time": "2022-09-08T04:11:18.624Z"
   },
   {
    "duration": 26,
    "start_time": "2022-09-08T04:11:34.100Z"
   },
   {
    "duration": 19,
    "start_time": "2022-09-08T04:11:54.559Z"
   },
   {
    "duration": 7,
    "start_time": "2022-09-08T04:12:10.316Z"
   },
   {
    "duration": 7,
    "start_time": "2022-09-08T04:12:28.715Z"
   },
   {
    "duration": 6,
    "start_time": "2022-09-08T04:12:39.781Z"
   },
   {
    "duration": 8,
    "start_time": "2022-09-08T04:12:53.045Z"
   },
   {
    "duration": 7,
    "start_time": "2022-09-08T04:13:04.093Z"
   },
   {
    "duration": 7,
    "start_time": "2022-09-08T04:30:09.286Z"
   },
   {
    "duration": 8,
    "start_time": "2022-09-08T04:30:34.021Z"
   },
   {
    "duration": 5,
    "start_time": "2022-09-08T04:30:47.242Z"
   },
   {
    "duration": 7,
    "start_time": "2022-09-08T04:31:16.761Z"
   },
   {
    "duration": 6,
    "start_time": "2022-09-08T04:31:27.288Z"
   },
   {
    "duration": 6,
    "start_time": "2022-09-08T04:31:35.053Z"
   },
   {
    "duration": 5,
    "start_time": "2022-09-08T04:35:08.187Z"
   },
   {
    "duration": 8,
    "start_time": "2022-09-08T04:36:11.212Z"
   },
   {
    "duration": 6,
    "start_time": "2022-09-08T04:36:37.851Z"
   },
   {
    "duration": 6,
    "start_time": "2022-09-08T04:37:45.088Z"
   },
   {
    "duration": 27,
    "start_time": "2022-09-08T05:01:05.906Z"
   },
   {
    "duration": 6,
    "start_time": "2022-09-08T05:01:19.183Z"
   },
   {
    "duration": 5,
    "start_time": "2022-09-08T05:02:38.159Z"
   },
   {
    "duration": 5,
    "start_time": "2022-09-08T05:03:24.230Z"
   },
   {
    "duration": 26,
    "start_time": "2022-09-08T05:08:35.431Z"
   },
   {
    "duration": 27,
    "start_time": "2022-09-08T05:10:11.211Z"
   },
   {
    "duration": 24,
    "start_time": "2022-09-08T05:10:29.139Z"
   },
   {
    "duration": 33,
    "start_time": "2022-09-08T05:11:53.163Z"
   },
   {
    "duration": 26,
    "start_time": "2022-09-08T05:12:13.737Z"
   },
   {
    "duration": 36,
    "start_time": "2022-09-08T05:14:42.024Z"
   },
   {
    "duration": 6,
    "start_time": "2022-09-08T05:22:06.596Z"
   },
   {
    "duration": 26,
    "start_time": "2022-09-08T05:23:31.189Z"
   },
   {
    "duration": 10,
    "start_time": "2022-09-08T05:24:02.913Z"
   },
   {
    "duration": 12,
    "start_time": "2022-09-08T05:24:08.473Z"
   },
   {
    "duration": 7,
    "start_time": "2022-09-08T05:25:04.635Z"
   },
   {
    "duration": 6,
    "start_time": "2022-09-08T05:32:35.029Z"
   },
   {
    "duration": 13,
    "start_time": "2022-09-08T05:33:22.565Z"
   },
   {
    "duration": 17,
    "start_time": "2022-09-08T05:35:25.631Z"
   },
   {
    "duration": 16,
    "start_time": "2022-09-08T05:51:06.045Z"
   },
   {
    "duration": 21,
    "start_time": "2022-09-08T05:51:19.136Z"
   },
   {
    "duration": 6,
    "start_time": "2022-09-08T06:02:28.352Z"
   },
   {
    "duration": 15,
    "start_time": "2022-09-08T06:12:26.393Z"
   },
   {
    "duration": 19,
    "start_time": "2022-09-08T06:12:42.108Z"
   },
   {
    "duration": 17,
    "start_time": "2022-09-08T06:13:35.457Z"
   },
   {
    "duration": 17,
    "start_time": "2022-09-08T06:13:47.876Z"
   },
   {
    "duration": 18,
    "start_time": "2022-09-08T06:14:07.943Z"
   },
   {
    "duration": 19,
    "start_time": "2022-09-08T06:14:36.693Z"
   },
   {
    "duration": 8,
    "start_time": "2022-09-08T06:27:55.670Z"
   },
   {
    "duration": 7,
    "start_time": "2022-09-08T06:28:38.099Z"
   },
   {
    "duration": 32,
    "start_time": "2022-09-08T06:53:49.667Z"
   },
   {
    "duration": 13,
    "start_time": "2022-09-08T07:03:40.365Z"
   },
   {
    "duration": 17,
    "start_time": "2022-09-08T07:04:09.178Z"
   },
   {
    "duration": 6,
    "start_time": "2022-09-08T07:09:52.593Z"
   },
   {
    "duration": 4,
    "start_time": "2022-09-08T07:13:35.793Z"
   },
   {
    "duration": 5,
    "start_time": "2022-09-08T07:14:22.795Z"
   },
   {
    "duration": 13,
    "start_time": "2022-09-08T07:24:18.141Z"
   },
   {
    "duration": 8,
    "start_time": "2022-09-08T07:35:24.470Z"
   },
   {
    "duration": 18,
    "start_time": "2022-09-08T07:35:32.183Z"
   },
   {
    "duration": 21,
    "start_time": "2022-09-08T07:36:20.385Z"
   },
   {
    "duration": 16,
    "start_time": "2022-09-08T07:42:53.290Z"
   },
   {
    "duration": 45,
    "start_time": "2022-09-08T07:53:05.039Z"
   },
   {
    "duration": 5,
    "start_time": "2022-09-08T07:53:39.853Z"
   },
   {
    "duration": 21,
    "start_time": "2022-09-08T07:54:21.525Z"
   },
   {
    "duration": 11,
    "start_time": "2022-09-08T07:55:13.442Z"
   },
   {
    "duration": 16,
    "start_time": "2022-09-08T08:04:30.801Z"
   },
   {
    "duration": 41,
    "start_time": "2022-09-08T08:08:38.697Z"
   },
   {
    "duration": 193,
    "start_time": "2022-09-08T08:11:48.290Z"
   },
   {
    "duration": 21,
    "start_time": "2022-09-08T08:12:40.113Z"
   },
   {
    "duration": 10,
    "start_time": "2022-09-08T08:16:06.754Z"
   },
   {
    "duration": 6,
    "start_time": "2022-09-08T08:16:12.575Z"
   },
   {
    "duration": 19,
    "start_time": "2022-09-08T08:18:19.984Z"
   },
   {
    "duration": 19,
    "start_time": "2022-09-08T08:22:13.215Z"
   },
   {
    "duration": 237,
    "start_time": "2022-09-08T08:23:02.702Z"
   },
   {
    "duration": 24,
    "start_time": "2022-09-08T08:23:05.202Z"
   },
   {
    "duration": 426,
    "start_time": "2022-09-08T15:56:34.235Z"
   },
   {
    "duration": 161,
    "start_time": "2022-09-08T15:56:34.663Z"
   },
   {
    "duration": 27,
    "start_time": "2022-09-08T15:56:34.827Z"
   },
   {
    "duration": 29,
    "start_time": "2022-09-08T15:56:34.856Z"
   },
   {
    "duration": 8,
    "start_time": "2022-09-08T15:56:34.887Z"
   },
   {
    "duration": 29,
    "start_time": "2022-09-08T15:56:34.896Z"
   },
   {
    "duration": 5,
    "start_time": "2022-09-08T15:56:34.926Z"
   },
   {
    "duration": 20,
    "start_time": "2022-09-08T15:56:34.933Z"
   },
   {
    "duration": 15,
    "start_time": "2022-09-08T15:56:34.956Z"
   },
   {
    "duration": 14,
    "start_time": "2022-09-08T15:56:34.973Z"
   },
   {
    "duration": 63,
    "start_time": "2022-09-08T15:56:34.988Z"
   },
   {
    "duration": 5,
    "start_time": "2022-09-08T15:56:35.053Z"
   },
   {
    "duration": 26,
    "start_time": "2022-09-08T15:56:35.060Z"
   },
   {
    "duration": 7,
    "start_time": "2022-09-08T15:56:35.089Z"
   },
   {
    "duration": 31,
    "start_time": "2022-09-08T15:56:35.097Z"
   },
   {
    "duration": 7,
    "start_time": "2022-09-08T15:56:35.130Z"
   },
   {
    "duration": 14,
    "start_time": "2022-09-08T15:56:35.139Z"
   },
   {
    "duration": 17,
    "start_time": "2022-09-08T15:56:35.154Z"
   },
   {
    "duration": 272,
    "start_time": "2022-09-08T15:56:35.173Z"
   },
   {
    "duration": 22,
    "start_time": "2022-09-08T15:56:35.447Z"
   },
   {
    "duration": 8,
    "start_time": "2022-09-08T15:56:35.471Z"
   },
   {
    "duration": 40,
    "start_time": "2022-09-08T15:56:35.481Z"
   },
   {
    "duration": 12,
    "start_time": "2022-09-08T15:56:35.523Z"
   },
   {
    "duration": 24,
    "start_time": "2022-09-08T15:56:35.536Z"
   },
   {
    "duration": 3,
    "start_time": "2022-09-08T15:56:35.561Z"
   },
   {
    "duration": 7,
    "start_time": "2022-09-08T15:56:35.566Z"
   },
   {
    "duration": 11,
    "start_time": "2022-09-08T15:56:35.575Z"
   },
   {
    "duration": 10,
    "start_time": "2022-09-08T15:56:35.588Z"
   },
   {
    "duration": 21,
    "start_time": "2022-09-08T15:56:35.600Z"
   },
   {
    "duration": 2,
    "start_time": "2022-09-08T15:56:35.623Z"
   },
   {
    "duration": 4,
    "start_time": "2022-09-08T15:56:35.627Z"
   },
   {
    "duration": 7,
    "start_time": "2022-09-08T15:56:35.633Z"
   },
   {
    "duration": 9,
    "start_time": "2022-09-08T15:56:35.642Z"
   },
   {
    "duration": 5,
    "start_time": "2022-09-08T15:56:35.653Z"
   },
   {
    "duration": 8,
    "start_time": "2022-09-08T15:56:35.659Z"
   },
   {
    "duration": 7,
    "start_time": "2022-09-08T15:56:35.669Z"
   },
   {
    "duration": 8,
    "start_time": "2022-09-08T15:56:35.677Z"
   },
   {
    "duration": 11,
    "start_time": "2022-09-08T15:56:35.687Z"
   },
   {
    "duration": 6,
    "start_time": "2022-09-08T15:56:35.700Z"
   },
   {
    "duration": 421,
    "start_time": "2022-09-09T05:34:05.276Z"
   },
   {
    "duration": 181,
    "start_time": "2022-09-09T05:34:05.699Z"
   },
   {
    "duration": 28,
    "start_time": "2022-09-09T05:34:05.882Z"
   },
   {
    "duration": 40,
    "start_time": "2022-09-09T05:34:05.913Z"
   },
   {
    "duration": 22,
    "start_time": "2022-09-09T05:34:05.957Z"
   },
   {
    "duration": 9,
    "start_time": "2022-09-09T05:34:05.981Z"
   },
   {
    "duration": 7,
    "start_time": "2022-09-09T05:34:05.992Z"
   },
   {
    "duration": 16,
    "start_time": "2022-09-09T05:34:06.001Z"
   },
   {
    "duration": 20,
    "start_time": "2022-09-09T05:34:06.019Z"
   },
   {
    "duration": 14,
    "start_time": "2022-09-09T05:34:06.076Z"
   },
   {
    "duration": 34,
    "start_time": "2022-09-09T05:34:06.092Z"
   },
   {
    "duration": 5,
    "start_time": "2022-09-09T05:34:06.127Z"
   },
   {
    "duration": 48,
    "start_time": "2022-09-09T05:34:06.134Z"
   },
   {
    "duration": 5,
    "start_time": "2022-09-09T05:34:06.186Z"
   },
   {
    "duration": 10,
    "start_time": "2022-09-09T05:34:06.192Z"
   },
   {
    "duration": 6,
    "start_time": "2022-09-09T05:34:06.204Z"
   },
   {
    "duration": 13,
    "start_time": "2022-09-09T05:34:06.211Z"
   },
   {
    "duration": 57,
    "start_time": "2022-09-09T05:34:06.226Z"
   },
   {
    "duration": 234,
    "start_time": "2022-09-09T05:34:06.286Z"
   },
   {
    "duration": 23,
    "start_time": "2022-09-09T05:34:06.522Z"
   },
   {
    "duration": 8,
    "start_time": "2022-09-09T05:34:06.546Z"
   },
   {
    "duration": 42,
    "start_time": "2022-09-09T05:34:06.556Z"
   },
   {
    "duration": 21,
    "start_time": "2022-09-09T05:34:06.600Z"
   },
   {
    "duration": 28,
    "start_time": "2022-09-09T05:34:06.623Z"
   },
   {
    "duration": 3,
    "start_time": "2022-09-09T05:34:06.653Z"
   },
   {
    "duration": 20,
    "start_time": "2022-09-09T05:34:06.657Z"
   },
   {
    "duration": 3,
    "start_time": "2022-09-09T05:34:06.678Z"
   },
   {
    "duration": 4,
    "start_time": "2022-09-09T05:34:06.683Z"
   },
   {
    "duration": 6,
    "start_time": "2022-09-09T05:34:06.689Z"
   },
   {
    "duration": 5,
    "start_time": "2022-09-09T05:34:06.697Z"
   },
   {
    "duration": 4,
    "start_time": "2022-09-09T05:34:06.704Z"
   },
   {
    "duration": 5,
    "start_time": "2022-09-09T05:34:06.710Z"
   },
   {
    "duration": 5,
    "start_time": "2022-09-09T05:34:06.717Z"
   },
   {
    "duration": 5,
    "start_time": "2022-09-09T05:34:06.723Z"
   },
   {
    "duration": 5,
    "start_time": "2022-09-09T05:34:06.730Z"
   },
   {
    "duration": 6,
    "start_time": "2022-09-09T05:34:06.736Z"
   },
   {
    "duration": 5,
    "start_time": "2022-09-09T05:34:06.744Z"
   },
   {
    "duration": 27,
    "start_time": "2022-09-09T05:34:06.750Z"
   },
   {
    "duration": 4,
    "start_time": "2022-09-09T05:34:06.778Z"
   },
   {
    "duration": 15,
    "start_time": "2022-09-09T05:36:57.355Z"
   },
   {
    "duration": 23,
    "start_time": "2022-09-09T05:50:41.192Z"
   },
   {
    "duration": 7,
    "start_time": "2022-09-09T05:51:11.757Z"
   },
   {
    "duration": 11,
    "start_time": "2022-09-09T05:57:15.775Z"
   },
   {
    "duration": 11,
    "start_time": "2022-09-09T05:58:28.143Z"
   },
   {
    "duration": 11,
    "start_time": "2022-09-09T05:59:04.350Z"
   },
   {
    "duration": 8,
    "start_time": "2022-09-09T06:13:04.307Z"
   },
   {
    "duration": 11,
    "start_time": "2022-09-09T06:14:27.566Z"
   },
   {
    "duration": 13,
    "start_time": "2022-09-09T06:22:43.646Z"
   },
   {
    "duration": 15,
    "start_time": "2022-09-09T06:25:26.846Z"
   },
   {
    "duration": 15,
    "start_time": "2022-09-09T06:25:49.838Z"
   },
   {
    "duration": 265,
    "start_time": "2022-09-09T06:30:01.195Z"
   },
   {
    "duration": 219,
    "start_time": "2022-09-09T06:32:31.894Z"
   },
   {
    "duration": 21,
    "start_time": "2022-09-09T06:33:20.994Z"
   },
   {
    "duration": 17,
    "start_time": "2022-09-09T06:49:39.610Z"
   },
   {
    "duration": 194,
    "start_time": "2022-09-09T06:52:21.165Z"
   },
   {
    "duration": 19,
    "start_time": "2022-09-09T06:52:27.656Z"
   },
   {
    "duration": 3,
    "start_time": "2022-09-09T07:55:56.182Z"
   },
   {
    "duration": 18,
    "start_time": "2022-09-09T08:00:37.819Z"
   },
   {
    "duration": 19,
    "start_time": "2022-09-09T08:13:27.584Z"
   },
   {
    "duration": 19,
    "start_time": "2022-09-09T08:13:39.015Z"
   },
   {
    "duration": 13,
    "start_time": "2022-09-09T08:13:56.496Z"
   },
   {
    "duration": 20,
    "start_time": "2022-09-09T08:15:21.821Z"
   },
   {
    "duration": 17,
    "start_time": "2022-09-09T08:15:22.432Z"
   },
   {
    "duration": 16,
    "start_time": "2022-09-09T08:15:59.671Z"
   },
   {
    "duration": 414,
    "start_time": "2022-09-09T08:18:54.169Z"
   },
   {
    "duration": 96,
    "start_time": "2022-09-09T08:18:54.585Z"
   },
   {
    "duration": 22,
    "start_time": "2022-09-09T08:18:54.683Z"
   },
   {
    "duration": 28,
    "start_time": "2022-09-09T08:18:54.707Z"
   },
   {
    "duration": 6,
    "start_time": "2022-09-09T08:18:54.738Z"
   },
   {
    "duration": 31,
    "start_time": "2022-09-09T08:18:54.746Z"
   },
   {
    "duration": 5,
    "start_time": "2022-09-09T08:18:54.778Z"
   },
   {
    "duration": 14,
    "start_time": "2022-09-09T08:18:54.785Z"
   },
   {
    "duration": 14,
    "start_time": "2022-09-09T08:18:54.800Z"
   },
   {
    "duration": 2,
    "start_time": "2022-09-09T08:18:54.816Z"
   },
   {
    "duration": 20,
    "start_time": "2022-09-09T08:18:54.820Z"
   },
   {
    "duration": 69,
    "start_time": "2022-09-09T08:18:54.842Z"
   },
   {
    "duration": 5,
    "start_time": "2022-09-09T08:18:54.912Z"
   },
   {
    "duration": 21,
    "start_time": "2022-09-09T08:18:54.921Z"
   },
   {
    "duration": 6,
    "start_time": "2022-09-09T08:18:54.944Z"
   },
   {
    "duration": 11,
    "start_time": "2022-09-09T08:18:54.985Z"
   },
   {
    "duration": 6,
    "start_time": "2022-09-09T08:18:54.998Z"
   },
   {
    "duration": 11,
    "start_time": "2022-09-09T08:18:55.006Z"
   },
   {
    "duration": 18,
    "start_time": "2022-09-09T08:18:55.019Z"
   },
   {
    "duration": 331,
    "start_time": "2022-09-09T08:18:55.039Z"
   },
   {
    "duration": 27,
    "start_time": "2022-09-09T08:18:55.377Z"
   },
   {
    "duration": 8,
    "start_time": "2022-09-09T08:18:55.407Z"
   },
   {
    "duration": 19,
    "start_time": "2022-09-09T08:18:55.416Z"
   },
   {
    "duration": 6,
    "start_time": "2022-09-09T08:18:55.436Z"
   },
   {
    "duration": 36,
    "start_time": "2022-09-09T08:18:55.443Z"
   },
   {
    "duration": 5,
    "start_time": "2022-09-09T08:18:55.480Z"
   },
   {
    "duration": 12,
    "start_time": "2022-09-09T08:18:55.486Z"
   },
   {
    "duration": 14,
    "start_time": "2022-09-09T08:18:55.499Z"
   },
   {
    "duration": 230,
    "start_time": "2022-09-09T08:18:55.515Z"
   },
   {
    "duration": 21,
    "start_time": "2022-09-09T08:18:55.746Z"
   },
   {
    "duration": 14,
    "start_time": "2022-09-09T08:18:55.777Z"
   },
   {
    "duration": 19,
    "start_time": "2022-09-09T08:18:55.792Z"
   },
   {
    "duration": 12,
    "start_time": "2022-09-09T08:18:55.813Z"
   },
   {
    "duration": 20,
    "start_time": "2022-09-09T08:18:55.827Z"
   },
   {
    "duration": 40,
    "start_time": "2022-09-09T08:18:55.849Z"
   },
   {
    "duration": 6,
    "start_time": "2022-09-09T08:18:55.890Z"
   },
   {
    "duration": 6,
    "start_time": "2022-09-09T08:18:55.898Z"
   },
   {
    "duration": 6,
    "start_time": "2022-09-09T08:18:55.905Z"
   },
   {
    "duration": 5,
    "start_time": "2022-09-09T08:18:55.912Z"
   },
   {
    "duration": 5,
    "start_time": "2022-09-09T08:18:55.919Z"
   },
   {
    "duration": 4,
    "start_time": "2022-09-09T08:18:55.927Z"
   },
   {
    "duration": 5,
    "start_time": "2022-09-09T08:18:55.932Z"
   },
   {
    "duration": 5,
    "start_time": "2022-09-09T08:18:55.939Z"
   },
   {
    "duration": 8,
    "start_time": "2022-09-09T08:18:55.945Z"
   },
   {
    "duration": 24,
    "start_time": "2022-09-09T08:18:55.955Z"
   },
   {
    "duration": 6,
    "start_time": "2022-09-09T08:18:55.981Z"
   },
   {
    "duration": 5,
    "start_time": "2022-09-09T08:18:55.989Z"
   },
   {
    "duration": 13,
    "start_time": "2022-09-09T08:18:55.996Z"
   },
   {
    "duration": 8,
    "start_time": "2022-09-09T08:18:56.010Z"
   },
   {
    "duration": 77,
    "start_time": "2022-09-09T08:25:15.964Z"
   },
   {
    "duration": 15,
    "start_time": "2022-09-09T08:27:16.344Z"
   },
   {
    "duration": 7,
    "start_time": "2022-09-09T08:28:26.365Z"
   },
   {
    "duration": 8,
    "start_time": "2022-09-09T08:28:30.892Z"
   },
   {
    "duration": 19,
    "start_time": "2022-09-09T08:28:35.533Z"
   },
   {
    "duration": 15,
    "start_time": "2022-09-09T08:28:36.099Z"
   },
   {
    "duration": 794,
    "start_time": "2022-09-09T08:33:21.582Z"
   },
   {
    "duration": 15,
    "start_time": "2022-09-09T08:33:45.758Z"
   },
   {
    "duration": 17,
    "start_time": "2022-09-09T08:34:13.373Z"
   },
   {
    "duration": 4,
    "start_time": "2022-09-09T08:36:04.379Z"
   },
   {
    "duration": 1680,
    "start_time": "2022-09-09T08:36:24.487Z"
   },
   {
    "duration": 17,
    "start_time": "2022-09-09T08:37:28.971Z"
   },
   {
    "duration": 4,
    "start_time": "2022-09-09T08:41:05.687Z"
   },
   {
    "duration": 438,
    "start_time": "2022-09-09T12:56:03.213Z"
   },
   {
    "duration": 156,
    "start_time": "2022-09-09T12:56:03.652Z"
   },
   {
    "duration": 24,
    "start_time": "2022-09-09T12:56:03.810Z"
   },
   {
    "duration": 32,
    "start_time": "2022-09-09T12:56:03.836Z"
   },
   {
    "duration": 6,
    "start_time": "2022-09-09T12:56:03.870Z"
   },
   {
    "duration": 9,
    "start_time": "2022-09-09T12:56:03.878Z"
   },
   {
    "duration": 7,
    "start_time": "2022-09-09T12:56:03.922Z"
   },
   {
    "duration": 18,
    "start_time": "2022-09-09T12:56:03.931Z"
   },
   {
    "duration": 15,
    "start_time": "2022-09-09T12:56:03.951Z"
   },
   {
    "duration": 3,
    "start_time": "2022-09-09T12:56:03.967Z"
   },
   {
    "duration": 17,
    "start_time": "2022-09-09T12:56:03.971Z"
   },
   {
    "duration": 60,
    "start_time": "2022-09-09T12:56:03.990Z"
   },
   {
    "duration": 5,
    "start_time": "2022-09-09T12:56:04.052Z"
   },
   {
    "duration": 24,
    "start_time": "2022-09-09T12:56:04.061Z"
   },
   {
    "duration": 7,
    "start_time": "2022-09-09T12:56:04.087Z"
   },
   {
    "duration": 34,
    "start_time": "2022-09-09T12:56:04.095Z"
   },
   {
    "duration": 6,
    "start_time": "2022-09-09T12:56:04.130Z"
   },
   {
    "duration": 9,
    "start_time": "2022-09-09T12:56:04.138Z"
   },
   {
    "duration": 16,
    "start_time": "2022-09-09T12:56:04.149Z"
   },
   {
    "duration": 274,
    "start_time": "2022-09-09T12:56:04.167Z"
   },
   {
    "duration": 24,
    "start_time": "2022-09-09T12:56:04.442Z"
   },
   {
    "duration": 6,
    "start_time": "2022-09-09T12:56:04.468Z"
   },
   {
    "duration": 20,
    "start_time": "2022-09-09T12:56:04.475Z"
   },
   {
    "duration": 6,
    "start_time": "2022-09-09T12:56:04.522Z"
   },
   {
    "duration": 16,
    "start_time": "2022-09-09T12:56:04.529Z"
   },
   {
    "duration": 6,
    "start_time": "2022-09-09T12:56:04.548Z"
   },
   {
    "duration": 16,
    "start_time": "2022-09-09T12:56:04.556Z"
   },
   {
    "duration": 21,
    "start_time": "2022-09-09T12:56:04.573Z"
   },
   {
    "duration": 240,
    "start_time": "2022-09-09T12:56:04.596Z"
   },
   {
    "duration": 23,
    "start_time": "2022-09-09T12:56:04.838Z"
   },
   {
    "duration": 15,
    "start_time": "2022-09-09T12:56:04.862Z"
   },
   {
    "duration": 44,
    "start_time": "2022-09-09T12:56:04.878Z"
   },
   {
    "duration": 18,
    "start_time": "2022-09-09T12:56:04.924Z"
   },
   {
    "duration": 25,
    "start_time": "2022-09-09T12:56:04.944Z"
   },
   {
    "duration": 16,
    "start_time": "2022-09-09T12:56:04.971Z"
   },
   {
    "duration": 48,
    "start_time": "2022-09-09T12:56:04.989Z"
   },
   {
    "duration": 9,
    "start_time": "2022-09-09T12:56:05.039Z"
   },
   {
    "duration": 8,
    "start_time": "2022-09-09T12:56:05.050Z"
   },
   {
    "duration": 12,
    "start_time": "2022-09-09T12:56:05.060Z"
   },
   {
    "duration": 24,
    "start_time": "2022-09-09T12:56:05.075Z"
   },
   {
    "duration": 12,
    "start_time": "2022-09-09T12:56:05.103Z"
   },
   {
    "duration": 45,
    "start_time": "2022-09-09T12:56:05.117Z"
   },
   {
    "duration": 24,
    "start_time": "2022-09-09T12:56:05.163Z"
   },
   {
    "duration": 11,
    "start_time": "2022-09-09T12:56:05.189Z"
   },
   {
    "duration": 15,
    "start_time": "2022-09-09T12:56:05.202Z"
   },
   {
    "duration": 21,
    "start_time": "2022-09-09T12:56:05.219Z"
   },
   {
    "duration": 18,
    "start_time": "2022-09-09T12:56:05.241Z"
   },
   {
    "duration": 7,
    "start_time": "2022-09-09T12:56:05.260Z"
   },
   {
    "duration": 24,
    "start_time": "2022-09-09T12:56:05.269Z"
   },
   {
    "duration": 33,
    "start_time": "2022-09-09T12:59:45.119Z"
   },
   {
    "duration": 59,
    "start_time": "2022-09-09T16:21:47.399Z"
   },
   {
    "duration": 16,
    "start_time": "2022-09-09T16:21:47.880Z"
   },
   {
    "duration": 19,
    "start_time": "2022-09-09T16:21:58.450Z"
   },
   {
    "duration": 723,
    "start_time": "2022-09-09T16:52:09.616Z"
   },
   {
    "duration": 28,
    "start_time": "2022-09-09T16:54:43.872Z"
   },
   {
    "duration": 15,
    "start_time": "2022-09-09T16:55:08.459Z"
   },
   {
    "duration": 21,
    "start_time": "2022-09-09T16:59:20.908Z"
   },
   {
    "duration": 6,
    "start_time": "2022-09-09T17:00:52.465Z"
   },
   {
    "duration": 17,
    "start_time": "2022-09-09T17:01:09.408Z"
   },
   {
    "duration": 19,
    "start_time": "2022-09-09T17:04:55.674Z"
   },
   {
    "duration": 7,
    "start_time": "2022-09-09T22:14:50.205Z"
   },
   {
    "duration": 20,
    "start_time": "2022-09-09T22:19:46.973Z"
   },
   {
    "duration": 13,
    "start_time": "2022-09-09T22:19:56.963Z"
   },
   {
    "duration": 12,
    "start_time": "2022-09-09T22:20:26.203Z"
   },
   {
    "duration": 9,
    "start_time": "2022-09-09T22:20:34.888Z"
   },
   {
    "duration": 9,
    "start_time": "2022-09-09T22:21:11.572Z"
   },
   {
    "duration": 8,
    "start_time": "2022-09-09T22:21:12.462Z"
   },
   {
    "duration": 13,
    "start_time": "2022-09-09T22:23:04.134Z"
   },
   {
    "duration": 22,
    "start_time": "2022-09-09T22:30:59.750Z"
   },
   {
    "duration": 10,
    "start_time": "2022-09-09T22:41:49.872Z"
   },
   {
    "duration": 5,
    "start_time": "2022-09-09T22:41:55.185Z"
   },
   {
    "duration": 7,
    "start_time": "2022-09-09T22:43:13.239Z"
   },
   {
    "duration": 792,
    "start_time": "2022-09-09T22:44:06.110Z"
   },
   {
    "duration": 794,
    "start_time": "2022-09-09T22:44:25.960Z"
   },
   {
    "duration": 16,
    "start_time": "2022-09-09T22:44:37.531Z"
   },
   {
    "duration": 26,
    "start_time": "2022-09-09T22:50:07.246Z"
   },
   {
    "duration": 29,
    "start_time": "2022-09-09T22:50:18.038Z"
   },
   {
    "duration": 23,
    "start_time": "2022-09-09T22:50:40.583Z"
   },
   {
    "duration": 25,
    "start_time": "2022-09-09T22:50:45.407Z"
   },
   {
    "duration": 36,
    "start_time": "2022-09-09T22:50:55.891Z"
   },
   {
    "duration": 36,
    "start_time": "2022-09-09T22:51:26.029Z"
   },
   {
    "duration": 33,
    "start_time": "2022-09-09T22:51:37.088Z"
   },
   {
    "duration": 8,
    "start_time": "2022-09-09T22:54:01.555Z"
   },
   {
    "duration": 15,
    "start_time": "2022-09-09T22:54:47.124Z"
   },
   {
    "duration": 20,
    "start_time": "2022-09-09T22:54:49.742Z"
   },
   {
    "duration": 37,
    "start_time": "2022-09-09T22:55:06.022Z"
   },
   {
    "duration": 27,
    "start_time": "2022-09-09T22:55:07.466Z"
   },
   {
    "duration": 12,
    "start_time": "2022-09-10T00:33:58.454Z"
   },
   {
    "duration": 8,
    "start_time": "2022-09-10T00:34:52.757Z"
   },
   {
    "duration": 8,
    "start_time": "2022-09-10T00:41:43.224Z"
   },
   {
    "duration": 16,
    "start_time": "2022-09-10T01:08:38.794Z"
   },
   {
    "duration": 5,
    "start_time": "2022-09-10T01:09:32.758Z"
   },
   {
    "duration": 20,
    "start_time": "2022-09-10T01:10:00.656Z"
   },
   {
    "duration": 6,
    "start_time": "2022-09-10T01:32:04.695Z"
   },
   {
    "duration": 9,
    "start_time": "2022-09-10T01:40:24.437Z"
   },
   {
    "duration": 8,
    "start_time": "2022-09-10T01:41:55.546Z"
   },
   {
    "duration": 9,
    "start_time": "2022-09-10T01:54:13.115Z"
   },
   {
    "duration": 8,
    "start_time": "2022-09-10T01:54:25.006Z"
   },
   {
    "duration": 671,
    "start_time": "2022-09-10T01:58:53.247Z"
   },
   {
    "duration": 8,
    "start_time": "2022-09-10T01:59:09.120Z"
   },
   {
    "duration": 330,
    "start_time": "2022-09-10T01:59:41.982Z"
   },
   {
    "duration": 99,
    "start_time": "2022-09-10T01:59:44.205Z"
   },
   {
    "duration": 24,
    "start_time": "2022-09-10T01:59:46.405Z"
   },
   {
    "duration": 26,
    "start_time": "2022-09-10T01:59:47.111Z"
   },
   {
    "duration": 8,
    "start_time": "2022-09-10T01:59:49.385Z"
   },
   {
    "duration": 9,
    "start_time": "2022-09-10T01:59:50.117Z"
   },
   {
    "duration": 4,
    "start_time": "2022-09-10T01:59:54.951Z"
   },
   {
    "duration": 10,
    "start_time": "2022-09-10T01:59:56.413Z"
   },
   {
    "duration": 7,
    "start_time": "2022-09-10T01:59:58.254Z"
   },
   {
    "duration": 11,
    "start_time": "2022-09-10T02:00:00.164Z"
   },
   {
    "duration": 7,
    "start_time": "2022-09-10T02:00:00.916Z"
   },
   {
    "duration": 10,
    "start_time": "2022-09-10T02:00:01.661Z"
   },
   {
    "duration": 9,
    "start_time": "2022-09-10T02:00:02.528Z"
   },
   {
    "duration": 9,
    "start_time": "2022-09-10T02:00:06.381Z"
   },
   {
    "duration": 26,
    "start_time": "2022-09-10T02:29:29.982Z"
   },
   {
    "duration": 27,
    "start_time": "2022-09-10T02:30:15.671Z"
   },
   {
    "duration": 63,
    "start_time": "2022-09-10T02:30:35.240Z"
   },
   {
    "duration": 10,
    "start_time": "2022-09-10T02:30:53.352Z"
   },
   {
    "duration": 7,
    "start_time": "2022-09-10T02:30:54.011Z"
   },
   {
    "duration": 24,
    "start_time": "2022-09-10T02:31:27.988Z"
   },
   {
    "duration": 28,
    "start_time": "2022-09-10T02:32:15.284Z"
   },
   {
    "duration": 24,
    "start_time": "2022-09-10T02:32:24.232Z"
   },
   {
    "duration": 25,
    "start_time": "2022-09-10T02:35:48.603Z"
   },
   {
    "duration": 33,
    "start_time": "2022-09-10T02:42:27.406Z"
   },
   {
    "duration": 29,
    "start_time": "2022-09-10T02:42:45.959Z"
   },
   {
    "duration": 32,
    "start_time": "2022-09-10T02:43:42.106Z"
   },
   {
    "duration": 34,
    "start_time": "2022-09-10T02:45:07.049Z"
   },
   {
    "duration": 34,
    "start_time": "2022-09-10T02:48:54.854Z"
   },
   {
    "duration": 12,
    "start_time": "2022-09-10T03:28:09.588Z"
   },
   {
    "duration": 6,
    "start_time": "2022-09-10T03:28:52.639Z"
   },
   {
    "duration": 4,
    "start_time": "2022-09-10T03:29:06.109Z"
   },
   {
    "duration": 5,
    "start_time": "2022-09-10T03:30:40.253Z"
   },
   {
    "duration": 25,
    "start_time": "2022-09-10T03:32:07.996Z"
   },
   {
    "duration": 27,
    "start_time": "2022-09-10T03:33:36.114Z"
   },
   {
    "duration": 12,
    "start_time": "2022-09-10T03:33:37.966Z"
   },
   {
    "duration": 5,
    "start_time": "2022-09-10T03:33:43.347Z"
   },
   {
    "duration": 6,
    "start_time": "2022-09-10T03:35:57.533Z"
   },
   {
    "duration": 4,
    "start_time": "2022-09-10T03:36:09.109Z"
   },
   {
    "duration": 4,
    "start_time": "2022-09-10T03:36:29.128Z"
   },
   {
    "duration": 24,
    "start_time": "2022-09-10T03:38:41.398Z"
   },
   {
    "duration": 24,
    "start_time": "2022-09-10T03:40:32.558Z"
   },
   {
    "duration": 6,
    "start_time": "2022-09-10T03:40:35.686Z"
   },
   {
    "duration": 9,
    "start_time": "2022-09-10T03:40:38.039Z"
   },
   {
    "duration": 6,
    "start_time": "2022-09-10T03:40:41.332Z"
   },
   {
    "duration": 11,
    "start_time": "2022-09-10T03:45:07.234Z"
   },
   {
    "duration": 24,
    "start_time": "2022-09-10T03:45:19.757Z"
   },
   {
    "duration": 11,
    "start_time": "2022-09-10T03:57:14.606Z"
   },
   {
    "duration": 26,
    "start_time": "2022-09-10T03:57:31.945Z"
   },
   {
    "duration": 18,
    "start_time": "2022-09-10T04:12:16.955Z"
   },
   {
    "duration": 717,
    "start_time": "2022-09-10T04:13:54.640Z"
   },
   {
    "duration": 16,
    "start_time": "2022-09-10T04:14:02.953Z"
   },
   {
    "duration": 16,
    "start_time": "2022-09-10T04:14:08.024Z"
   },
   {
    "duration": 25,
    "start_time": "2022-09-10T04:14:46.384Z"
   },
   {
    "duration": 6,
    "start_time": "2022-09-10T04:17:58.305Z"
   },
   {
    "duration": 5,
    "start_time": "2022-09-10T04:18:11.415Z"
   },
   {
    "duration": 5,
    "start_time": "2022-09-10T04:18:34.136Z"
   },
   {
    "duration": 9,
    "start_time": "2022-09-10T04:25:32.405Z"
   },
   {
    "duration": 9,
    "start_time": "2022-09-10T04:26:01.708Z"
   },
   {
    "duration": 24,
    "start_time": "2022-09-10T04:27:40.182Z"
   },
   {
    "duration": 26,
    "start_time": "2022-09-10T04:27:46.628Z"
   },
   {
    "duration": 35,
    "start_time": "2022-09-10T04:27:48.867Z"
   },
   {
    "duration": 7,
    "start_time": "2022-09-10T04:30:22.918Z"
   },
   {
    "duration": 24,
    "start_time": "2022-09-10T04:30:25.701Z"
   },
   {
    "duration": 6,
    "start_time": "2022-09-10T04:30:30.361Z"
   },
   {
    "duration": 11,
    "start_time": "2022-09-10T04:30:36.769Z"
   },
   {
    "duration": 4,
    "start_time": "2022-09-10T04:30:41.934Z"
   },
   {
    "duration": 9,
    "start_time": "2022-09-10T04:30:43.807Z"
   },
   {
    "duration": 17,
    "start_time": "2022-09-10T04:31:40.897Z"
   },
   {
    "duration": 23,
    "start_time": "2022-09-10T04:32:13.997Z"
   },
   {
    "duration": 9,
    "start_time": "2022-09-10T04:33:12.954Z"
   },
   {
    "duration": 207,
    "start_time": "2022-09-10T04:38:47.380Z"
   },
   {
    "duration": 5,
    "start_time": "2022-09-10T04:39:30.506Z"
   },
   {
    "duration": 7,
    "start_time": "2022-09-10T04:39:50.557Z"
   },
   {
    "duration": 4,
    "start_time": "2022-09-10T04:40:03.790Z"
   },
   {
    "duration": 4,
    "start_time": "2022-09-10T04:42:07.978Z"
   },
   {
    "duration": 13,
    "start_time": "2022-09-10T04:50:35.895Z"
   },
   {
    "duration": 23,
    "start_time": "2022-09-10T04:50:36.593Z"
   },
   {
    "duration": 14,
    "start_time": "2022-09-10T04:50:41.185Z"
   },
   {
    "duration": 15,
    "start_time": "2022-09-10T04:50:53.815Z"
   },
   {
    "duration": 30,
    "start_time": "2022-09-10T04:50:55.155Z"
   },
   {
    "duration": 17,
    "start_time": "2022-09-10T04:51:12.794Z"
   },
   {
    "duration": 18,
    "start_time": "2022-09-10T04:51:58.753Z"
   },
   {
    "duration": 4,
    "start_time": "2022-09-10T04:52:09.959Z"
   },
   {
    "duration": 29,
    "start_time": "2022-09-10T04:52:13.705Z"
   },
   {
    "duration": 17,
    "start_time": "2022-09-10T04:52:16.173Z"
   },
   {
    "duration": 26,
    "start_time": "2022-09-10T04:52:49.916Z"
   },
   {
    "duration": 398,
    "start_time": "2022-09-10T04:54:04.149Z"
   },
   {
    "duration": 96,
    "start_time": "2022-09-10T04:54:04.549Z"
   },
   {
    "duration": 23,
    "start_time": "2022-09-10T04:54:04.647Z"
   },
   {
    "duration": 24,
    "start_time": "2022-09-10T04:54:04.672Z"
   },
   {
    "duration": 26,
    "start_time": "2022-09-10T04:54:04.697Z"
   },
   {
    "duration": 7,
    "start_time": "2022-09-10T04:54:04.724Z"
   },
   {
    "duration": 4,
    "start_time": "2022-09-10T04:54:04.732Z"
   },
   {
    "duration": 13,
    "start_time": "2022-09-10T04:54:04.738Z"
   },
   {
    "duration": 5,
    "start_time": "2022-09-10T04:54:04.753Z"
   },
   {
    "duration": 9,
    "start_time": "2022-09-10T04:54:04.762Z"
   },
   {
    "duration": 55,
    "start_time": "2022-09-10T04:54:04.772Z"
   },
   {
    "duration": 10,
    "start_time": "2022-09-10T04:54:04.828Z"
   },
   {
    "duration": 7,
    "start_time": "2022-09-10T04:54:04.840Z"
   },
   {
    "duration": 24,
    "start_time": "2022-09-10T04:54:04.849Z"
   },
   {
    "duration": 11,
    "start_time": "2022-09-10T04:54:04.874Z"
   },
   {
    "duration": 4,
    "start_time": "2022-09-10T04:54:04.886Z"
   },
   {
    "duration": 26,
    "start_time": "2022-09-10T04:54:04.923Z"
   },
   {
    "duration": 6,
    "start_time": "2022-09-10T04:54:04.951Z"
   },
   {
    "duration": 9,
    "start_time": "2022-09-10T04:54:04.959Z"
   },
   {
    "duration": 52,
    "start_time": "2022-09-10T04:54:04.970Z"
   },
   {
    "duration": 11,
    "start_time": "2022-09-10T04:54:05.024Z"
   },
   {
    "duration": 28,
    "start_time": "2022-09-10T04:54:05.037Z"
   },
   {
    "duration": 14,
    "start_time": "2022-09-10T04:54:05.067Z"
   },
   {
    "duration": 59,
    "start_time": "2022-09-10T04:54:05.083Z"
   },
   {
    "duration": 3,
    "start_time": "2022-09-10T04:54:05.144Z"
   },
   {
    "duration": 9,
    "start_time": "2022-09-10T04:54:05.149Z"
   },
   {
    "duration": 18,
    "start_time": "2022-09-10T04:54:05.159Z"
   },
   {
    "duration": 6,
    "start_time": "2022-09-10T04:54:05.179Z"
   },
   {
    "duration": 44,
    "start_time": "2022-09-10T04:54:05.186Z"
   },
   {
    "duration": 5,
    "start_time": "2022-09-10T04:54:05.231Z"
   },
   {
    "duration": 15,
    "start_time": "2022-09-10T04:54:05.237Z"
   },
   {
    "duration": 15,
    "start_time": "2022-09-10T04:54:05.254Z"
   },
   {
    "duration": 237,
    "start_time": "2022-09-10T04:54:05.271Z"
   },
   {
    "duration": 13,
    "start_time": "2022-09-10T04:54:05.509Z"
   },
   {
    "duration": 24,
    "start_time": "2022-09-10T04:54:05.524Z"
   },
   {
    "duration": 15,
    "start_time": "2022-09-10T04:54:05.550Z"
   },
   {
    "duration": 23,
    "start_time": "2022-09-10T04:54:05.566Z"
   },
   {
    "duration": 14,
    "start_time": "2022-09-10T04:54:05.621Z"
   },
   {
    "duration": 32,
    "start_time": "2022-09-10T04:54:05.637Z"
   },
   {
    "duration": 17,
    "start_time": "2022-09-10T04:54:05.672Z"
   },
   {
    "duration": 40,
    "start_time": "2022-09-10T04:54:05.691Z"
   },
   {
    "duration": 4,
    "start_time": "2022-09-10T04:54:05.732Z"
   },
   {
    "duration": 35,
    "start_time": "2022-09-10T04:54:05.737Z"
   },
   {
    "duration": 17,
    "start_time": "2022-09-10T04:54:05.774Z"
   },
   {
    "duration": 45,
    "start_time": "2022-09-10T04:54:05.792Z"
   },
   {
    "duration": 43,
    "start_time": "2022-09-10T04:54:05.838Z"
   },
   {
    "duration": 3,
    "start_time": "2022-09-10T04:54:05.882Z"
   },
   {
    "duration": 6,
    "start_time": "2022-09-10T04:54:05.886Z"
   },
   {
    "duration": 29,
    "start_time": "2022-09-10T04:54:05.893Z"
   },
   {
    "duration": 2,
    "start_time": "2022-09-10T04:54:05.924Z"
   },
   {
    "duration": 6,
    "start_time": "2022-09-10T04:54:05.927Z"
   },
   {
    "duration": 4,
    "start_time": "2022-09-10T04:54:05.934Z"
   },
   {
    "duration": 3,
    "start_time": "2022-09-10T04:54:05.940Z"
   },
   {
    "duration": 9,
    "start_time": "2022-09-10T04:54:05.945Z"
   },
   {
    "duration": 4,
    "start_time": "2022-09-10T04:54:05.955Z"
   },
   {
    "duration": 6,
    "start_time": "2022-09-10T04:54:05.960Z"
   },
   {
    "duration": 355,
    "start_time": "2022-09-11T15:39:48.794Z"
   },
   {
    "duration": 466,
    "start_time": "2022-09-11T15:40:40.125Z"
   },
   {
    "duration": 25,
    "start_time": "2022-09-11T15:41:05.515Z"
   },
   {
    "duration": 7,
    "start_time": "2022-09-11T15:41:10.734Z"
   },
   {
    "duration": 8,
    "start_time": "2022-09-11T15:41:11.611Z"
   },
   {
    "duration": 10,
    "start_time": "2022-09-11T15:41:17.676Z"
   },
   {
    "duration": 12,
    "start_time": "2022-09-11T15:41:19.730Z"
   },
   {
    "duration": 6,
    "start_time": "2022-09-11T15:41:21.286Z"
   },
   {
    "duration": 48,
    "start_time": "2022-09-11T15:41:24.936Z"
   },
   {
    "duration": 9,
    "start_time": "2022-09-11T15:41:25.620Z"
   },
   {
    "duration": 369,
    "start_time": "2022-09-11T15:47:47.682Z"
   },
   {
    "duration": 110,
    "start_time": "2022-09-11T15:47:48.053Z"
   },
   {
    "duration": 29,
    "start_time": "2022-09-11T15:47:48.164Z"
   },
   {
    "duration": 24,
    "start_time": "2022-09-11T15:47:48.195Z"
   },
   {
    "duration": 6,
    "start_time": "2022-09-11T15:47:48.220Z"
   },
   {
    "duration": 7,
    "start_time": "2022-09-11T15:47:48.227Z"
   },
   {
    "duration": 29,
    "start_time": "2022-09-11T15:47:48.235Z"
   },
   {
    "duration": 16,
    "start_time": "2022-09-11T15:47:48.265Z"
   },
   {
    "duration": 7,
    "start_time": "2022-09-11T15:47:48.283Z"
   },
   {
    "duration": 8,
    "start_time": "2022-09-11T15:47:48.291Z"
   },
   {
    "duration": 7,
    "start_time": "2022-09-11T15:47:48.300Z"
   },
   {
    "duration": 8,
    "start_time": "2022-09-11T15:47:48.308Z"
   },
   {
    "duration": 7,
    "start_time": "2022-09-11T15:47:48.317Z"
   },
   {
    "duration": 67,
    "start_time": "2022-09-11T15:47:48.326Z"
   },
   {
    "duration": 12,
    "start_time": "2022-09-11T15:47:48.394Z"
   },
   {
    "duration": 3,
    "start_time": "2022-09-11T15:47:48.408Z"
   },
   {
    "duration": 30,
    "start_time": "2022-09-11T15:47:48.413Z"
   },
   {
    "duration": 28,
    "start_time": "2022-09-11T15:47:48.445Z"
   },
   {
    "duration": 11,
    "start_time": "2022-09-11T15:47:48.475Z"
   },
   {
    "duration": 6,
    "start_time": "2022-09-11T15:47:48.488Z"
   },
   {
    "duration": 11,
    "start_time": "2022-09-11T15:47:48.496Z"
   },
   {
    "duration": 23,
    "start_time": "2022-09-11T15:47:48.509Z"
   },
   {
    "duration": 47,
    "start_time": "2022-09-11T15:47:48.533Z"
   },
   {
    "duration": 35,
    "start_time": "2022-09-11T15:47:48.581Z"
   },
   {
    "duration": 4,
    "start_time": "2022-09-11T15:47:48.618Z"
   },
   {
    "duration": 9,
    "start_time": "2022-09-11T15:47:48.623Z"
   },
   {
    "duration": 15,
    "start_time": "2022-09-11T15:47:48.634Z"
   },
   {
    "duration": 12,
    "start_time": "2022-09-11T15:47:48.650Z"
   },
   {
    "duration": 35,
    "start_time": "2022-09-11T15:47:48.663Z"
   },
   {
    "duration": 5,
    "start_time": "2022-09-11T15:47:48.699Z"
   },
   {
    "duration": 16,
    "start_time": "2022-09-11T15:47:48.705Z"
   },
   {
    "duration": 15,
    "start_time": "2022-09-11T15:47:48.722Z"
   },
   {
    "duration": 212,
    "start_time": "2022-09-11T15:47:48.739Z"
   },
   {
    "duration": 22,
    "start_time": "2022-09-11T15:47:48.953Z"
   },
   {
    "duration": 51,
    "start_time": "2022-09-11T15:47:48.977Z"
   },
   {
    "duration": 15,
    "start_time": "2022-09-11T15:47:49.030Z"
   },
   {
    "duration": 59,
    "start_time": "2022-09-11T15:47:49.046Z"
   },
   {
    "duration": 16,
    "start_time": "2022-09-11T15:47:49.106Z"
   },
   {
    "duration": 33,
    "start_time": "2022-09-11T15:47:49.123Z"
   },
   {
    "duration": 23,
    "start_time": "2022-09-11T15:47:49.159Z"
   },
   {
    "duration": 28,
    "start_time": "2022-09-11T15:47:49.186Z"
   },
   {
    "duration": 4,
    "start_time": "2022-09-11T15:47:49.216Z"
   },
   {
    "duration": 30,
    "start_time": "2022-09-11T15:47:49.222Z"
   },
   {
    "duration": 24,
    "start_time": "2022-09-11T15:47:49.253Z"
   },
   {
    "duration": 40,
    "start_time": "2022-09-11T15:47:49.278Z"
   },
   {
    "duration": 60,
    "start_time": "2022-09-11T15:47:49.319Z"
   },
   {
    "duration": 2,
    "start_time": "2022-09-11T15:47:49.381Z"
   },
   {
    "duration": 19,
    "start_time": "2022-09-11T15:47:49.386Z"
   },
   {
    "duration": 9,
    "start_time": "2022-09-11T15:47:49.406Z"
   },
   {
    "duration": 7,
    "start_time": "2022-09-11T15:47:49.417Z"
   },
   {
    "duration": 6,
    "start_time": "2022-09-11T15:47:49.425Z"
   },
   {
    "duration": 5,
    "start_time": "2022-09-11T15:47:49.433Z"
   },
   {
    "duration": 8,
    "start_time": "2022-09-11T15:47:49.440Z"
   },
   {
    "duration": 10,
    "start_time": "2022-09-11T15:47:49.449Z"
   },
   {
    "duration": 44,
    "start_time": "2022-09-11T15:47:49.461Z"
   },
   {
    "duration": 6,
    "start_time": "2022-09-11T15:47:49.507Z"
   },
   {
    "duration": 18,
    "start_time": "2022-09-11T16:06:49.148Z"
   },
   {
    "duration": 563,
    "start_time": "2022-09-11T16:18:47.456Z"
   },
   {
    "duration": 5,
    "start_time": "2022-09-11T16:19:30.977Z"
   },
   {
    "duration": 1252,
    "start_time": "2022-09-11T16:20:04.342Z"
   },
   {
    "duration": 239,
    "start_time": "2022-09-11T16:20:19.903Z"
   },
   {
    "duration": 12,
    "start_time": "2022-09-11T16:20:20.143Z"
   },
   {
    "duration": 306,
    "start_time": "2022-09-11T16:21:02.161Z"
   },
   {
    "duration": 149,
    "start_time": "2022-09-11T16:21:09.160Z"
   },
   {
    "duration": 150,
    "start_time": "2022-09-11T16:23:11.560Z"
   },
   {
    "duration": 155,
    "start_time": "2022-09-11T16:24:13.931Z"
   },
   {
    "duration": 123,
    "start_time": "2022-09-11T16:24:44.115Z"
   },
   {
    "duration": 76,
    "start_time": "2022-09-11T16:24:57.042Z"
   },
   {
    "duration": 142,
    "start_time": "2022-09-11T16:25:11.395Z"
   },
   {
    "duration": 144,
    "start_time": "2022-09-11T16:28:26.884Z"
   },
   {
    "duration": 234,
    "start_time": "2022-09-11T16:30:24.695Z"
   },
   {
    "duration": 4,
    "start_time": "2022-09-11T16:31:46.627Z"
   },
   {
    "duration": 145,
    "start_time": "2022-09-11T16:33:49.782Z"
   },
   {
    "duration": 140,
    "start_time": "2022-09-11T16:34:12.269Z"
   },
   {
    "duration": 151,
    "start_time": "2022-09-11T16:35:24.749Z"
   },
   {
    "duration": 143,
    "start_time": "2022-09-11T16:36:17.213Z"
   },
   {
    "duration": 134,
    "start_time": "2022-09-11T16:37:09.300Z"
   },
   {
    "duration": 145,
    "start_time": "2022-09-11T16:40:24.460Z"
   },
   {
    "duration": 4,
    "start_time": "2022-09-11T16:40:49.631Z"
   },
   {
    "duration": 143,
    "start_time": "2022-09-11T16:41:11.973Z"
   },
   {
    "duration": 146,
    "start_time": "2022-09-11T16:41:38.275Z"
   },
   {
    "duration": 144,
    "start_time": "2022-09-11T16:42:12.651Z"
   },
   {
    "duration": 157,
    "start_time": "2022-09-11T16:42:33.444Z"
   },
   {
    "duration": 126,
    "start_time": "2022-09-11T16:45:15.898Z"
   },
   {
    "duration": 165,
    "start_time": "2022-09-11T16:47:30.359Z"
   },
   {
    "duration": 281,
    "start_time": "2022-09-11T16:49:21.764Z"
   },
   {
    "duration": 5,
    "start_time": "2022-09-11T16:49:30.614Z"
   },
   {
    "duration": 149,
    "start_time": "2022-09-11T16:49:31.268Z"
   },
   {
    "duration": 130,
    "start_time": "2022-09-11T16:53:53.992Z"
   },
   {
    "duration": 135,
    "start_time": "2022-09-11T16:54:19.602Z"
   },
   {
    "duration": 140,
    "start_time": "2022-09-11T16:57:29.528Z"
   },
   {
    "duration": 158,
    "start_time": "2022-09-11T17:01:43.642Z"
   },
   {
    "duration": 147,
    "start_time": "2022-09-11T17:07:02.284Z"
   },
   {
    "duration": 139,
    "start_time": "2022-09-11T17:07:53.934Z"
   },
   {
    "duration": 11,
    "start_time": "2022-09-11T17:10:42.940Z"
   },
   {
    "duration": 15,
    "start_time": "2022-09-11T17:11:51.012Z"
   },
   {
    "duration": 129,
    "start_time": "2022-09-11T17:12:02.657Z"
   },
   {
    "duration": 4,
    "start_time": "2022-09-11T17:12:44.702Z"
   },
   {
    "duration": 115,
    "start_time": "2022-09-11T17:13:38.889Z"
   },
   {
    "duration": 114,
    "start_time": "2022-09-11T17:14:03.601Z"
   },
   {
    "duration": 128,
    "start_time": "2022-09-11T17:17:23.109Z"
   },
   {
    "duration": 150,
    "start_time": "2022-09-11T17:21:32.371Z"
   },
   {
    "duration": 149,
    "start_time": "2022-09-11T17:22:30.492Z"
   },
   {
    "duration": 148,
    "start_time": "2022-09-11T17:22:51.333Z"
   },
   {
    "duration": 149,
    "start_time": "2022-09-11T17:23:21.939Z"
   },
   {
    "duration": 119,
    "start_time": "2022-09-11T17:23:50.776Z"
   },
   {
    "duration": 12,
    "start_time": "2022-09-11T17:24:24.738Z"
   },
   {
    "duration": 1155,
    "start_time": "2022-09-11T18:01:11.910Z"
   },
   {
    "duration": 1159,
    "start_time": "2022-09-11T18:01:27.683Z"
   },
   {
    "duration": 5,
    "start_time": "2022-09-11T18:01:28.891Z"
   },
   {
    "duration": 3,
    "start_time": "2022-09-11T18:01:40.126Z"
   },
   {
    "duration": 4,
    "start_time": "2022-09-11T18:01:55.947Z"
   },
   {
    "duration": 29,
    "start_time": "2022-09-11T18:02:21.462Z"
   },
   {
    "duration": 187,
    "start_time": "2022-09-11T18:41:00.109Z"
   },
   {
    "duration": 6,
    "start_time": "2022-09-11T18:41:33.442Z"
   },
   {
    "duration": 6,
    "start_time": "2022-09-11T18:42:07.873Z"
   },
   {
    "duration": 11,
    "start_time": "2022-09-11T18:43:07.584Z"
   },
   {
    "duration": 1518,
    "start_time": "2022-09-11T18:54:03.302Z"
   },
   {
    "duration": 11,
    "start_time": "2022-09-11T19:02:09.742Z"
   },
   {
    "duration": 7,
    "start_time": "2022-09-11T19:03:46.395Z"
   },
   {
    "duration": 17,
    "start_time": "2022-09-11T19:03:47.210Z"
   },
   {
    "duration": 1900,
    "start_time": "2022-09-11T19:06:16.064Z"
   },
   {
    "duration": 1343,
    "start_time": "2022-09-11T19:08:31.634Z"
   },
   {
    "duration": 1367,
    "start_time": "2022-09-11T19:08:46.881Z"
   },
   {
    "duration": 7,
    "start_time": "2022-09-11T19:09:10.227Z"
   },
   {
    "duration": 12,
    "start_time": "2022-09-11T19:09:45.480Z"
   },
   {
    "duration": 4,
    "start_time": "2022-09-11T19:11:10.389Z"
   },
   {
    "duration": 13,
    "start_time": "2022-09-11T19:13:28.674Z"
   },
   {
    "duration": 4,
    "start_time": "2022-09-11T19:14:04.017Z"
   },
   {
    "duration": 27,
    "start_time": "2022-09-11T19:15:02.740Z"
   },
   {
    "duration": 72,
    "start_time": "2022-09-11T19:18:38.822Z"
   },
   {
    "duration": 7,
    "start_time": "2022-09-11T19:18:50.869Z"
   },
   {
    "duration": 10,
    "start_time": "2022-09-11T19:20:13.823Z"
   },
   {
    "duration": 4,
    "start_time": "2022-09-11T19:20:15.363Z"
   },
   {
    "duration": 10,
    "start_time": "2022-09-11T19:20:16.165Z"
   },
   {
    "duration": 14,
    "start_time": "2022-09-11T19:20:24.574Z"
   },
   {
    "duration": 23,
    "start_time": "2022-09-11T19:23:08.339Z"
   },
   {
    "duration": 42,
    "start_time": "2022-09-11T19:24:40.084Z"
   },
   {
    "duration": 2,
    "start_time": "2022-09-11T19:29:47.293Z"
   },
   {
    "duration": 14,
    "start_time": "2022-09-11T19:30:08.376Z"
   },
   {
    "duration": 48,
    "start_time": "2022-09-11T19:30:14.105Z"
   },
   {
    "duration": 612,
    "start_time": "2022-09-11T19:31:12.140Z"
   },
   {
    "duration": 92,
    "start_time": "2022-09-11T19:31:12.753Z"
   },
   {
    "duration": 21,
    "start_time": "2022-09-11T19:31:12.846Z"
   },
   {
    "duration": 22,
    "start_time": "2022-09-11T19:31:12.868Z"
   },
   {
    "duration": 6,
    "start_time": "2022-09-11T19:31:12.891Z"
   },
   {
    "duration": 6,
    "start_time": "2022-09-11T19:31:12.898Z"
   },
   {
    "duration": 4,
    "start_time": "2022-09-11T19:31:12.905Z"
   },
   {
    "duration": 11,
    "start_time": "2022-09-11T19:31:12.910Z"
   },
   {
    "duration": 36,
    "start_time": "2022-09-11T19:31:12.922Z"
   },
   {
    "duration": 9,
    "start_time": "2022-09-11T19:31:12.960Z"
   },
   {
    "duration": 8,
    "start_time": "2022-09-11T19:31:12.970Z"
   },
   {
    "duration": 12,
    "start_time": "2022-09-11T19:31:12.979Z"
   },
   {
    "duration": 10,
    "start_time": "2022-09-11T19:31:12.993Z"
   },
   {
    "duration": 53,
    "start_time": "2022-09-11T19:31:13.004Z"
   },
   {
    "duration": 10,
    "start_time": "2022-09-11T19:31:13.059Z"
   },
   {
    "duration": 3,
    "start_time": "2022-09-11T19:31:13.071Z"
   },
   {
    "duration": 22,
    "start_time": "2022-09-11T19:31:13.076Z"
   },
   {
    "duration": 5,
    "start_time": "2022-09-11T19:31:13.099Z"
   },
   {
    "duration": 8,
    "start_time": "2022-09-11T19:31:13.105Z"
   },
   {
    "duration": 41,
    "start_time": "2022-09-11T19:31:13.114Z"
   },
   {
    "duration": 9,
    "start_time": "2022-09-11T19:31:13.157Z"
   },
   {
    "duration": 20,
    "start_time": "2022-09-11T19:31:13.168Z"
   },
   {
    "duration": 14,
    "start_time": "2022-09-11T19:31:13.189Z"
   },
   {
    "duration": 22,
    "start_time": "2022-09-11T19:31:13.204Z"
   },
   {
    "duration": 30,
    "start_time": "2022-09-11T19:31:13.227Z"
   },
   {
    "duration": 12,
    "start_time": "2022-09-11T19:31:13.259Z"
   },
   {
    "duration": 16,
    "start_time": "2022-09-11T19:31:13.273Z"
   },
   {
    "duration": 6,
    "start_time": "2022-09-11T19:31:13.294Z"
   },
   {
    "duration": 12,
    "start_time": "2022-09-11T19:31:13.302Z"
   },
   {
    "duration": 4,
    "start_time": "2022-09-11T19:31:13.315Z"
   },
   {
    "duration": 36,
    "start_time": "2022-09-11T19:31:13.321Z"
   },
   {
    "duration": 18,
    "start_time": "2022-09-11T19:31:13.358Z"
   },
   {
    "duration": 205,
    "start_time": "2022-09-11T19:31:13.377Z"
   },
   {
    "duration": 4,
    "start_time": "2022-09-11T19:31:13.584Z"
   },
   {
    "duration": 26,
    "start_time": "2022-09-11T19:31:13.589Z"
   },
   {
    "duration": 12,
    "start_time": "2022-09-11T19:31:13.616Z"
   },
   {
    "duration": 36,
    "start_time": "2022-09-11T19:31:13.630Z"
   },
   {
    "duration": 14,
    "start_time": "2022-09-11T19:31:13.668Z"
   },
   {
    "duration": 29,
    "start_time": "2022-09-11T19:31:13.683Z"
   },
   {
    "duration": 17,
    "start_time": "2022-09-11T19:31:13.713Z"
   },
   {
    "duration": 41,
    "start_time": "2022-09-11T19:31:13.731Z"
   },
   {
    "duration": 7,
    "start_time": "2022-09-11T19:31:13.773Z"
   },
   {
    "duration": 27,
    "start_time": "2022-09-11T19:31:13.781Z"
   },
   {
    "duration": 17,
    "start_time": "2022-09-11T19:31:13.809Z"
   },
   {
    "duration": 45,
    "start_time": "2022-09-11T19:31:13.828Z"
   },
   {
    "duration": 18,
    "start_time": "2022-09-11T19:31:13.875Z"
   },
   {
    "duration": 204,
    "start_time": "2022-09-11T19:31:13.894Z"
   },
   {
    "duration": 4,
    "start_time": "2022-09-11T19:31:14.099Z"
   },
   {
    "duration": 154,
    "start_time": "2022-09-11T19:31:14.104Z"
   },
   {
    "duration": 142,
    "start_time": "2022-09-11T19:31:14.259Z"
   },
   {
    "duration": 184,
    "start_time": "2022-09-11T19:31:14.402Z"
   },
   {
    "duration": 140,
    "start_time": "2022-09-11T19:31:14.588Z"
   },
   {
    "duration": 2,
    "start_time": "2022-09-11T19:31:14.729Z"
   },
   {
    "duration": 3,
    "start_time": "2022-09-11T19:31:14.733Z"
   },
   {
    "duration": 19,
    "start_time": "2022-09-11T19:31:14.738Z"
   },
   {
    "duration": 11,
    "start_time": "2022-09-11T19:31:14.759Z"
   },
   {
    "duration": 37,
    "start_time": "2022-09-11T19:31:14.771Z"
   },
   {
    "duration": 141,
    "start_time": "2022-09-11T19:34:46.128Z"
   },
   {
    "duration": 145,
    "start_time": "2022-09-11T19:35:42.046Z"
   },
   {
    "duration": 340,
    "start_time": "2022-09-11T19:37:17.854Z"
   },
   {
    "duration": 403,
    "start_time": "2022-09-11T19:38:29.590Z"
   },
   {
    "duration": 403,
    "start_time": "2022-09-11T19:39:34.916Z"
   },
   {
    "duration": 525,
    "start_time": "2022-09-11T19:42:40.456Z"
   },
   {
    "duration": 129,
    "start_time": "2022-09-11T19:44:27.649Z"
   },
   {
    "duration": 639,
    "start_time": "2022-09-11T21:44:07.603Z"
   },
   {
    "duration": 9,
    "start_time": "2022-09-11T22:36:37.505Z"
   },
   {
    "duration": 10,
    "start_time": "2022-09-11T22:39:10.744Z"
   },
   {
    "duration": 754,
    "start_time": "2022-09-12T18:52:38.541Z"
   },
   {
    "duration": 390,
    "start_time": "2022-09-12T18:52:39.297Z"
   },
   {
    "duration": 23,
    "start_time": "2022-09-12T18:52:39.689Z"
   },
   {
    "duration": 24,
    "start_time": "2022-09-12T18:52:39.714Z"
   },
   {
    "duration": 7,
    "start_time": "2022-09-12T18:52:39.740Z"
   },
   {
    "duration": 8,
    "start_time": "2022-09-12T18:52:39.748Z"
   },
   {
    "duration": 4,
    "start_time": "2022-09-12T18:52:39.757Z"
   },
   {
    "duration": 42,
    "start_time": "2022-09-12T18:52:39.763Z"
   },
   {
    "duration": 6,
    "start_time": "2022-09-12T18:52:39.806Z"
   },
   {
    "duration": 13,
    "start_time": "2022-09-12T18:52:39.814Z"
   },
   {
    "duration": 8,
    "start_time": "2022-09-12T18:52:39.828Z"
   },
   {
    "duration": 11,
    "start_time": "2022-09-12T18:52:39.838Z"
   },
   {
    "duration": 8,
    "start_time": "2022-09-12T18:52:39.851Z"
   },
   {
    "duration": 59,
    "start_time": "2022-09-12T18:52:39.861Z"
   },
   {
    "duration": 11,
    "start_time": "2022-09-12T18:52:39.921Z"
   },
   {
    "duration": 4,
    "start_time": "2022-09-12T18:52:39.934Z"
   },
   {
    "duration": 27,
    "start_time": "2022-09-12T18:52:39.939Z"
   },
   {
    "duration": 29,
    "start_time": "2022-09-12T18:52:39.968Z"
   },
   {
    "duration": 9,
    "start_time": "2022-09-12T18:52:39.999Z"
   },
   {
    "duration": 16,
    "start_time": "2022-09-12T18:52:40.010Z"
   },
   {
    "duration": 15,
    "start_time": "2022-09-12T18:52:40.028Z"
   },
   {
    "duration": 28,
    "start_time": "2022-09-12T18:52:40.044Z"
   },
   {
    "duration": 16,
    "start_time": "2022-09-12T18:52:40.095Z"
   },
   {
    "duration": 24,
    "start_time": "2022-09-12T18:52:40.113Z"
   },
   {
    "duration": 5,
    "start_time": "2022-09-12T18:52:40.138Z"
   },
   {
    "duration": 11,
    "start_time": "2022-09-12T18:52:40.144Z"
   },
   {
    "duration": 43,
    "start_time": "2022-09-12T18:52:40.156Z"
   },
   {
    "duration": 6,
    "start_time": "2022-09-12T18:52:40.203Z"
   },
   {
    "duration": 14,
    "start_time": "2022-09-12T18:52:40.210Z"
   },
   {
    "duration": 6,
    "start_time": "2022-09-12T18:52:40.226Z"
   },
   {
    "duration": 14,
    "start_time": "2022-09-12T18:52:40.233Z"
   },
   {
    "duration": 19,
    "start_time": "2022-09-12T18:52:40.249Z"
   },
   {
    "duration": 258,
    "start_time": "2022-09-12T18:52:40.269Z"
   },
   {
    "duration": 4,
    "start_time": "2022-09-12T18:52:40.529Z"
   },
   {
    "duration": 30,
    "start_time": "2022-09-12T18:52:40.534Z"
   },
   {
    "duration": 29,
    "start_time": "2022-09-12T18:52:40.566Z"
   },
   {
    "duration": 25,
    "start_time": "2022-09-12T18:52:40.597Z"
   },
   {
    "duration": 15,
    "start_time": "2022-09-12T18:52:40.623Z"
   },
   {
    "duration": 32,
    "start_time": "2022-09-12T18:52:40.640Z"
   },
   {
    "duration": 33,
    "start_time": "2022-09-12T18:52:40.674Z"
   },
   {
    "duration": 21,
    "start_time": "2022-09-12T18:52:40.709Z"
   },
   {
    "duration": 4,
    "start_time": "2022-09-12T18:52:40.731Z"
   },
   {
    "duration": 32,
    "start_time": "2022-09-12T18:52:40.736Z"
   },
   {
    "duration": 43,
    "start_time": "2022-09-12T18:52:40.769Z"
   },
   {
    "duration": 32,
    "start_time": "2022-09-12T18:52:40.814Z"
   },
   {
    "duration": 30,
    "start_time": "2022-09-12T18:52:40.848Z"
   },
   {
    "duration": 221,
    "start_time": "2022-09-12T18:52:40.894Z"
   },
   {
    "duration": 6,
    "start_time": "2022-09-12T18:52:41.117Z"
   },
   {
    "duration": 176,
    "start_time": "2022-09-12T18:52:41.125Z"
   },
   {
    "duration": 163,
    "start_time": "2022-09-12T18:52:41.303Z"
   },
   {
    "duration": 206,
    "start_time": "2022-09-12T18:52:41.467Z"
   },
   {
    "duration": 169,
    "start_time": "2022-09-12T18:52:41.675Z"
   },
   {
    "duration": 3,
    "start_time": "2022-09-12T18:52:41.845Z"
   },
   {
    "duration": 7,
    "start_time": "2022-09-12T18:52:41.849Z"
   },
   {
    "duration": 11,
    "start_time": "2022-09-12T18:52:41.858Z"
   },
   {
    "duration": 25,
    "start_time": "2022-09-12T18:52:41.870Z"
   },
   {
    "duration": 39,
    "start_time": "2022-09-12T18:52:41.897Z"
   },
   {
    "duration": 660,
    "start_time": "2022-09-12T18:52:41.937Z"
   },
   {
    "duration": 149,
    "start_time": "2022-09-12T18:52:42.599Z"
   },
   {
    "duration": 10,
    "start_time": "2022-09-12T18:52:42.750Z"
   },
   {
    "duration": 7,
    "start_time": "2022-09-12T18:54:58.052Z"
   },
   {
    "duration": 69,
    "start_time": "2022-09-12T19:06:43.032Z"
   },
   {
    "duration": 130,
    "start_time": "2022-09-12T19:06:52.646Z"
   },
   {
    "duration": 174,
    "start_time": "2022-09-12T19:08:08.433Z"
   },
   {
    "duration": 281,
    "start_time": "2022-09-12T19:11:13.588Z"
   },
   {
    "duration": 13,
    "start_time": "2022-09-12T19:18:10.615Z"
   },
   {
    "duration": 165,
    "start_time": "2022-09-12T19:18:38.570Z"
   },
   {
    "duration": 202,
    "start_time": "2022-09-12T19:18:48.622Z"
   },
   {
    "duration": 123,
    "start_time": "2022-09-12T19:19:34.524Z"
   },
   {
    "duration": 138,
    "start_time": "2022-09-12T19:19:57.547Z"
   },
   {
    "duration": 140,
    "start_time": "2022-09-12T19:20:05.667Z"
   },
   {
    "duration": 130,
    "start_time": "2022-09-12T19:20:22.335Z"
   },
   {
    "duration": 18,
    "start_time": "2022-09-12T19:31:47.134Z"
   }
  ],
  "kernelspec": {
   "display_name": "Python 3 (ipykernel)",
   "language": "python",
   "name": "python3"
  },
  "language_info": {
   "codemirror_mode": {
    "name": "ipython",
    "version": 3
   },
   "file_extension": ".py",
   "mimetype": "text/x-python",
   "name": "python",
   "nbconvert_exporter": "python",
   "pygments_lexer": "ipython3",
   "version": "3.9.5"
  },
  "toc": {
   "base_numbering": "",
   "nav_menu": {},
   "number_sections": false,
   "sideBar": true,
   "skip_h1_title": false,
   "title_cell": "Table of Contents",
   "title_sidebar": "Contents",
   "toc_cell": false,
   "toc_position": {
    "height": "calc(100% - 180px)",
    "left": "10px",
    "top": "150px",
    "width": "165px"
   },
   "toc_section_display": true,
   "toc_window_display": false
  }
 },
 "nbformat": 4,
 "nbformat_minor": 2
}
