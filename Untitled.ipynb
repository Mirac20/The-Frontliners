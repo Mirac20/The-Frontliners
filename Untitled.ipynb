{
 "cells": [
  {
   "cell_type": "code",
   "execution_count": 8,
   "metadata": {},
   "outputs": [
    {
     "name": "stdout",
     "output_type": "stream",
     "text": [
      "Sum of 8.0 and 9.0 is 17.0\n"
     ]
    }
   ],
   "source": [
    "#Python program to add two numbers\n",
    "\n",
    "first_nu = 8.0\n",
    "sec_num = 9.0\n",
    "\n",
    "total_sum = first_nu + sec_num \n",
    "\n",
    "print (\"Sum of {0} and {1} is {2}\" .format(first_nu, sec_num, total_sum)) \n"
   ]
  },
  {
   "cell_type": "code",
   "execution_count": 13,
   "metadata": {},
   "outputs": [
    {
     "name": "stdout",
     "output_type": "stream",
     "text": [
      "The sum of 9.2 8.1 and 2.9 is 20.199999999999996\n"
     ]
    }
   ],
   "source": [
    "#Find the sum of three numbers\n",
    "\n",
    "num1 = 9.2\n",
    "num2 = 8.1\n",
    "num3 = 2.9\n",
    "\n",
    "sum = num1 + num2 + num3\n",
    "\n",
    "print(\"The sum of {0} {1} and {2} is {3}\" .format(num1, num2, num3, sum))"
   ]
  },
  {
   "cell_type": "code",
   "execution_count": 16,
   "metadata": {},
   "outputs": [
    {
     "name": "stdout",
     "output_type": "stream",
     "text": [
      "The sum of 9.2 8.1 2.9 is 20.199999999999996\n"
     ]
    }
   ],
   "source": [
    "print(\"The sum of {0} {1} {2} is {3}\" .format(num1, num2, num3, sum))"
   ]
  },
  {
   "cell_type": "code",
   "execution_count": 24,
   "metadata": {},
   "outputs": [
    {
     "name": "stdout",
     "output_type": "stream",
     "text": [
      "value 1: 4\n",
      "value 2: 4\n",
      "The sum of 4 and 4 is 8.0 \n",
      "\n"
     ]
    }
   ],
   "source": [
    "#Python Program to calculate the addition of numbers inputed by user\n",
    "\n",
    "num1 = input(\"value 1: \")\n",
    "num2 = input(\"value 2: \")\n",
    "\n",
    "sum = float(num1) + float(num2)\n",
    "\n",
    "print(\"The sum of {0} and {1} is {2} \\n\" .format(num1, num2, sum))\n",
    "\n"
   ]
  },
  {
   "cell_type": "code",
   "execution_count": 44,
   "metadata": {},
   "outputs": [
    {
     "ename": "SyntaxError",
     "evalue": "invalid syntax (<ipython-input-44-3c9878c1473d>, line 16)",
     "output_type": "error",
     "traceback": [
      "\u001b[1;36m  File \u001b[1;32m\"<ipython-input-44-3c9878c1473d>\"\u001b[1;36m, line \u001b[1;32m16\u001b[0m\n\u001b[1;33m    print (\"The factorial of\",num,\"is\"factorial(num))\u001b[0m\n\u001b[1;37m                                              ^\u001b[0m\n\u001b[1;31mSyntaxError\u001b[0m\u001b[1;31m:\u001b[0m invalid syntax\n"
     ]
    }
   ],
   "source": [
    "# Python program to find the factorial of a number example 6! = 6 * 5 * 4 * 3 * 2 * 1\n",
    "\n",
    "def factorial(n):\n",
    "    if n < 0:\n",
    "        return 0\n",
    "    elif n == 0 or n == 1:\n",
    "        return 1\n",
    "    else:\n",
    "        cos = 1\n",
    "        while(n > 1):\n",
    "            cos *= n\n",
    "            n -= 1\n",
    "        return cos\n",
    "\n",
    "num = 7\n",
    "print (\"The factorial of\",num,\"is\"factorial(num))\n"
   ]
  },
  {
   "cell_type": "code",
   "execution_count": 48,
   "metadata": {},
   "outputs": [
    {
     "name": "stdout",
     "output_type": "stream",
     "text": [
      "The Factorial of 7 is 5040\n"
     ]
    }
   ],
   "source": [
    "#Python code to find the factorial of 8\n",
    "\n",
    "def factorial(n):\n",
    "    if n < 0:\n",
    "        return 0\n",
    "    elif n == 1 or n == 0:\n",
    "        return 1\n",
    "    else:\n",
    "        go = 1\n",
    "        while (n > 1):\n",
    "            go *= n\n",
    "            n -= 1\n",
    "        return go\n",
    "    \n",
    "new = 7\n",
    "\n",
    "print (\"The Factorial of\",new,\"is\",factorial(new))\n",
    "            \n"
   ]
  },
  {
   "cell_type": "code",
   "execution_count": null,
   "metadata": {},
   "outputs": [],
   "source": [
    "#Python Program to reverse an Integer 6987\n",
    "\n",
    "n = 6987\n",
    "\n",
    "cos = 0 \n",
    "\n",
    "while (n > 0):\n",
    "    \n",
    "    b = 6987%10\n",
    "    \n",
    "    a = 6987 // 10\n",
    "    \n",
    "    n = cos * a + b\n",
    "    \n",
    "    \n",
    "    \n",
    "print (n)\n"
   ]
  }
 ],
 "metadata": {
  "kernelspec": {
   "display_name": "Python 3",
   "language": "python",
   "name": "python3"
  },
  "language_info": {
   "codemirror_mode": {
    "name": "ipython",
    "version": 3
   },
   "file_extension": ".py",
   "mimetype": "text/x-python",
   "name": "python",
   "nbconvert_exporter": "python",
   "pygments_lexer": "ipython3",
   "version": "3.7.4"
  }
 },
 "nbformat": 4,
 "nbformat_minor": 2
}
