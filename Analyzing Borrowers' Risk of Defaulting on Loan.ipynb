{
 "cells": [
  {
   "cell_type": "markdown",
   "metadata": {},
   "source": [
    "# Project: Analyzing borrowers’ risk of defaulting\n",
    "\n",
    "\n",
    "# Context:\n",
    "This project is about a report for a Bank's loan division. The management wants  to find out if the marital status of a customer and number of children has an impact on whether they will default on a loan or not. The bank already has some data on customers’ credit worthiness. This report will be considered when building the **credit score** of a potential customer. The **credit score** is used to evaluate the ability of a potential borrower to repay their loan. \n",
    "I would be testing the following Hypotheses: \n",
    "- Is there is a correlation between having children and paing back on time? \n",
    "- Is there a correlation between family status and paying back on time?\n",
    "- Is there a correlation between Income level and paying back on time?\n",
    "- How does Credit purpose affect the default rate?\n",
    "\n",
    "**Description of the data**\n",
    "- `children` - the number of children in the family\n",
    "- `days_employed` - work experience in days\n",
    "- `dob_years` - client's age in years\n",
    "- `education` - client's education\n",
    "- `education_id` - education identifier\n",
    "- `family_status` - marital status\n",
    "- `family_status_id` - marital status identifier\n",
    "- `gender` - gender of the client\n",
    "- `income_type` - type of employment\n",
    "- `debt` - was there any debt on loan repayment\n",
    "- `total_income` - monthly income\n",
    "- `purpose` - the purpose of obtaining a loan\n"
   ]
  },
  {
   "cell_type": "markdown",
   "metadata": {},
   "source": [
    "## Reading the dataset "
   ]
  },
  {
   "cell_type": "code",
   "execution_count": 1,
   "metadata": {
    "scrolled": true
   },
   "outputs": [],
   "source": [
    "# Loading all the libraries\n",
    "import pandas as pd\n",
    "\n",
    "# Load the data\n",
    "df = pd.read_csv(\"/datasets/credit_scoring_eng.csv\")\n",
    "\n"
   ]
  },
  {
   "cell_type": "markdown",
   "metadata": {},
   "source": [
    "## Data exploration"
   ]
  },
  {
   "cell_type": "code",
   "execution_count": 2,
   "metadata": {},
   "outputs": [
    {
     "data": {
      "text/plain": [
       "(21525, 12)"
      ]
     },
     "execution_count": 2,
     "metadata": {},
     "output_type": "execute_result"
    }
   ],
   "source": [
    "# Let's see how many rows and columns our dataset has\n",
    "df.shape"
   ]
  },
  {
   "cell_type": "code",
   "execution_count": 3,
   "metadata": {
    "scrolled": true
   },
   "outputs": [
    {
     "data": {
      "text/html": [
       "<div>\n",
       "<style scoped>\n",
       "    .dataframe tbody tr th:only-of-type {\n",
       "        vertical-align: middle;\n",
       "    }\n",
       "\n",
       "    .dataframe tbody tr th {\n",
       "        vertical-align: top;\n",
       "    }\n",
       "\n",
       "    .dataframe thead th {\n",
       "        text-align: right;\n",
       "    }\n",
       "</style>\n",
       "<table border=\"1\" class=\"dataframe\">\n",
       "  <thead>\n",
       "    <tr style=\"text-align: right;\">\n",
       "      <th></th>\n",
       "      <th>children</th>\n",
       "      <th>days_employed</th>\n",
       "      <th>dob_years</th>\n",
       "      <th>education</th>\n",
       "      <th>education_id</th>\n",
       "      <th>family_status</th>\n",
       "      <th>family_status_id</th>\n",
       "      <th>gender</th>\n",
       "      <th>income_type</th>\n",
       "      <th>debt</th>\n",
       "      <th>total_income</th>\n",
       "      <th>purpose</th>\n",
       "    </tr>\n",
       "  </thead>\n",
       "  <tbody>\n",
       "    <tr>\n",
       "      <th>0</th>\n",
       "      <td>1</td>\n",
       "      <td>-8437.673028</td>\n",
       "      <td>42</td>\n",
       "      <td>bachelor's degree</td>\n",
       "      <td>0</td>\n",
       "      <td>married</td>\n",
       "      <td>0</td>\n",
       "      <td>F</td>\n",
       "      <td>employee</td>\n",
       "      <td>0</td>\n",
       "      <td>40620.102</td>\n",
       "      <td>purchase of the house</td>\n",
       "    </tr>\n",
       "    <tr>\n",
       "      <th>1</th>\n",
       "      <td>1</td>\n",
       "      <td>-4024.803754</td>\n",
       "      <td>36</td>\n",
       "      <td>secondary education</td>\n",
       "      <td>1</td>\n",
       "      <td>married</td>\n",
       "      <td>0</td>\n",
       "      <td>F</td>\n",
       "      <td>employee</td>\n",
       "      <td>0</td>\n",
       "      <td>17932.802</td>\n",
       "      <td>car purchase</td>\n",
       "    </tr>\n",
       "    <tr>\n",
       "      <th>2</th>\n",
       "      <td>0</td>\n",
       "      <td>-5623.422610</td>\n",
       "      <td>33</td>\n",
       "      <td>Secondary Education</td>\n",
       "      <td>1</td>\n",
       "      <td>married</td>\n",
       "      <td>0</td>\n",
       "      <td>M</td>\n",
       "      <td>employee</td>\n",
       "      <td>0</td>\n",
       "      <td>23341.752</td>\n",
       "      <td>purchase of the house</td>\n",
       "    </tr>\n",
       "    <tr>\n",
       "      <th>3</th>\n",
       "      <td>3</td>\n",
       "      <td>-4124.747207</td>\n",
       "      <td>32</td>\n",
       "      <td>secondary education</td>\n",
       "      <td>1</td>\n",
       "      <td>married</td>\n",
       "      <td>0</td>\n",
       "      <td>M</td>\n",
       "      <td>employee</td>\n",
       "      <td>0</td>\n",
       "      <td>42820.568</td>\n",
       "      <td>supplementary education</td>\n",
       "    </tr>\n",
       "    <tr>\n",
       "      <th>4</th>\n",
       "      <td>0</td>\n",
       "      <td>340266.072047</td>\n",
       "      <td>53</td>\n",
       "      <td>secondary education</td>\n",
       "      <td>1</td>\n",
       "      <td>civil partnership</td>\n",
       "      <td>1</td>\n",
       "      <td>F</td>\n",
       "      <td>retiree</td>\n",
       "      <td>0</td>\n",
       "      <td>25378.572</td>\n",
       "      <td>to have a wedding</td>\n",
       "    </tr>\n",
       "    <tr>\n",
       "      <th>5</th>\n",
       "      <td>0</td>\n",
       "      <td>-926.185831</td>\n",
       "      <td>27</td>\n",
       "      <td>bachelor's degree</td>\n",
       "      <td>0</td>\n",
       "      <td>civil partnership</td>\n",
       "      <td>1</td>\n",
       "      <td>M</td>\n",
       "      <td>business</td>\n",
       "      <td>0</td>\n",
       "      <td>40922.170</td>\n",
       "      <td>purchase of the house</td>\n",
       "    </tr>\n",
       "    <tr>\n",
       "      <th>6</th>\n",
       "      <td>0</td>\n",
       "      <td>-2879.202052</td>\n",
       "      <td>43</td>\n",
       "      <td>bachelor's degree</td>\n",
       "      <td>0</td>\n",
       "      <td>married</td>\n",
       "      <td>0</td>\n",
       "      <td>F</td>\n",
       "      <td>business</td>\n",
       "      <td>0</td>\n",
       "      <td>38484.156</td>\n",
       "      <td>housing transactions</td>\n",
       "    </tr>\n",
       "    <tr>\n",
       "      <th>7</th>\n",
       "      <td>0</td>\n",
       "      <td>-152.779569</td>\n",
       "      <td>50</td>\n",
       "      <td>SECONDARY EDUCATION</td>\n",
       "      <td>1</td>\n",
       "      <td>married</td>\n",
       "      <td>0</td>\n",
       "      <td>M</td>\n",
       "      <td>employee</td>\n",
       "      <td>0</td>\n",
       "      <td>21731.829</td>\n",
       "      <td>education</td>\n",
       "    </tr>\n",
       "    <tr>\n",
       "      <th>8</th>\n",
       "      <td>2</td>\n",
       "      <td>-6929.865299</td>\n",
       "      <td>35</td>\n",
       "      <td>BACHELOR'S DEGREE</td>\n",
       "      <td>0</td>\n",
       "      <td>civil partnership</td>\n",
       "      <td>1</td>\n",
       "      <td>F</td>\n",
       "      <td>employee</td>\n",
       "      <td>0</td>\n",
       "      <td>15337.093</td>\n",
       "      <td>having a wedding</td>\n",
       "    </tr>\n",
       "    <tr>\n",
       "      <th>9</th>\n",
       "      <td>0</td>\n",
       "      <td>-2188.756445</td>\n",
       "      <td>41</td>\n",
       "      <td>secondary education</td>\n",
       "      <td>1</td>\n",
       "      <td>married</td>\n",
       "      <td>0</td>\n",
       "      <td>M</td>\n",
       "      <td>employee</td>\n",
       "      <td>0</td>\n",
       "      <td>23108.150</td>\n",
       "      <td>purchase of the house for my family</td>\n",
       "    </tr>\n",
       "  </tbody>\n",
       "</table>\n",
       "</div>"
      ],
      "text/plain": [
       "   children  days_employed  dob_years            education  education_id  \\\n",
       "0         1   -8437.673028         42    bachelor's degree             0   \n",
       "1         1   -4024.803754         36  secondary education             1   \n",
       "2         0   -5623.422610         33  Secondary Education             1   \n",
       "3         3   -4124.747207         32  secondary education             1   \n",
       "4         0  340266.072047         53  secondary education             1   \n",
       "5         0    -926.185831         27    bachelor's degree             0   \n",
       "6         0   -2879.202052         43    bachelor's degree             0   \n",
       "7         0    -152.779569         50  SECONDARY EDUCATION             1   \n",
       "8         2   -6929.865299         35    BACHELOR'S DEGREE             0   \n",
       "9         0   -2188.756445         41  secondary education             1   \n",
       "\n",
       "       family_status  family_status_id gender income_type  debt  total_income  \\\n",
       "0            married                 0      F    employee     0     40620.102   \n",
       "1            married                 0      F    employee     0     17932.802   \n",
       "2            married                 0      M    employee     0     23341.752   \n",
       "3            married                 0      M    employee     0     42820.568   \n",
       "4  civil partnership                 1      F     retiree     0     25378.572   \n",
       "5  civil partnership                 1      M    business     0     40922.170   \n",
       "6            married                 0      F    business     0     38484.156   \n",
       "7            married                 0      M    employee     0     21731.829   \n",
       "8  civil partnership                 1      F    employee     0     15337.093   \n",
       "9            married                 0      M    employee     0     23108.150   \n",
       "\n",
       "                               purpose  \n",
       "0                purchase of the house  \n",
       "1                         car purchase  \n",
       "2                purchase of the house  \n",
       "3              supplementary education  \n",
       "4                    to have a wedding  \n",
       "5                purchase of the house  \n",
       "6                 housing transactions  \n",
       "7                            education  \n",
       "8                     having a wedding  \n",
       "9  purchase of the house for my family  "
      ]
     },
     "execution_count": 3,
     "metadata": {},
     "output_type": "execute_result"
    }
   ],
   "source": [
    "# Print the first ten(10) rows\n",
    "df.head(10)\n"
   ]
  },
  {
   "cell_type": "markdown",
   "metadata": {},
   "source": [
    "From the table, the first ten (10) rows were printed. The days_employed column has both float and negative values. Those values have to be changed to integers, and the negative values have to be removed. "
   ]
  },
  {
   "cell_type": "code",
   "execution_count": 4,
   "metadata": {
    "scrolled": false
   },
   "outputs": [
    {
     "name": "stdout",
     "output_type": "stream",
     "text": [
      "<class 'pandas.core.frame.DataFrame'>\n",
      "RangeIndex: 21525 entries, 0 to 21524\n",
      "Data columns (total 12 columns):\n",
      " #   Column            Non-Null Count  Dtype  \n",
      "---  ------            --------------  -----  \n",
      " 0   children          21525 non-null  int64  \n",
      " 1   days_employed     19351 non-null  float64\n",
      " 2   dob_years         21525 non-null  int64  \n",
      " 3   education         21525 non-null  object \n",
      " 4   education_id      21525 non-null  int64  \n",
      " 5   family_status     21525 non-null  object \n",
      " 6   family_status_id  21525 non-null  int64  \n",
      " 7   gender            21525 non-null  object \n",
      " 8   income_type       21525 non-null  object \n",
      " 9   debt              21525 non-null  int64  \n",
      " 10  total_income      19351 non-null  float64\n",
      " 11  purpose           21525 non-null  object \n",
      "dtypes: float64(2), int64(5), object(5)\n",
      "memory usage: 2.0+ MB\n"
     ]
    }
   ],
   "source": [
    "# Get info on data\n",
    "df.info()"
   ]
  },
  {
   "cell_type": "markdown",
   "metadata": {},
   "source": [
    "There are missing values in two columns: days_employed columns and total_income column.They have 19351 values, while other columns have a total of 21525 values."
   ]
  },
  {
   "cell_type": "code",
   "execution_count": 5,
   "metadata": {
    "scrolled": true
   },
   "outputs": [
    {
     "name": "stdout",
     "output_type": "stream",
     "text": [
      "2174\n"
     ]
    }
   ],
   "source": [
    "# Let's look in the filtered table at the first column with missing data\n",
    "print(df[\"days_employed\"].isnull().sum())\n"
   ]
  },
  {
   "cell_type": "code",
   "execution_count": 6,
   "metadata": {},
   "outputs": [
    {
     "data": {
      "text/html": [
       "<div>\n",
       "<style scoped>\n",
       "    .dataframe tbody tr th:only-of-type {\n",
       "        vertical-align: middle;\n",
       "    }\n",
       "\n",
       "    .dataframe tbody tr th {\n",
       "        vertical-align: top;\n",
       "    }\n",
       "\n",
       "    .dataframe thead th {\n",
       "        text-align: right;\n",
       "    }\n",
       "</style>\n",
       "<table border=\"1\" class=\"dataframe\">\n",
       "  <thead>\n",
       "    <tr style=\"text-align: right;\">\n",
       "      <th></th>\n",
       "      <th>children</th>\n",
       "      <th>days_employed</th>\n",
       "      <th>dob_years</th>\n",
       "      <th>education</th>\n",
       "      <th>education_id</th>\n",
       "      <th>family_status</th>\n",
       "      <th>family_status_id</th>\n",
       "      <th>gender</th>\n",
       "      <th>income_type</th>\n",
       "      <th>debt</th>\n",
       "      <th>total_income</th>\n",
       "      <th>purpose</th>\n",
       "    </tr>\n",
       "  </thead>\n",
       "  <tbody>\n",
       "    <tr>\n",
       "      <th>12</th>\n",
       "      <td>0</td>\n",
       "      <td>NaN</td>\n",
       "      <td>65</td>\n",
       "      <td>secondary education</td>\n",
       "      <td>1</td>\n",
       "      <td>civil partnership</td>\n",
       "      <td>1</td>\n",
       "      <td>M</td>\n",
       "      <td>retiree</td>\n",
       "      <td>0</td>\n",
       "      <td>NaN</td>\n",
       "      <td>to have a wedding</td>\n",
       "    </tr>\n",
       "    <tr>\n",
       "      <th>26</th>\n",
       "      <td>0</td>\n",
       "      <td>NaN</td>\n",
       "      <td>41</td>\n",
       "      <td>secondary education</td>\n",
       "      <td>1</td>\n",
       "      <td>married</td>\n",
       "      <td>0</td>\n",
       "      <td>M</td>\n",
       "      <td>civil servant</td>\n",
       "      <td>0</td>\n",
       "      <td>NaN</td>\n",
       "      <td>education</td>\n",
       "    </tr>\n",
       "    <tr>\n",
       "      <th>29</th>\n",
       "      <td>0</td>\n",
       "      <td>NaN</td>\n",
       "      <td>63</td>\n",
       "      <td>secondary education</td>\n",
       "      <td>1</td>\n",
       "      <td>unmarried</td>\n",
       "      <td>4</td>\n",
       "      <td>F</td>\n",
       "      <td>retiree</td>\n",
       "      <td>0</td>\n",
       "      <td>NaN</td>\n",
       "      <td>building a real estate</td>\n",
       "    </tr>\n",
       "    <tr>\n",
       "      <th>41</th>\n",
       "      <td>0</td>\n",
       "      <td>NaN</td>\n",
       "      <td>50</td>\n",
       "      <td>secondary education</td>\n",
       "      <td>1</td>\n",
       "      <td>married</td>\n",
       "      <td>0</td>\n",
       "      <td>F</td>\n",
       "      <td>civil servant</td>\n",
       "      <td>0</td>\n",
       "      <td>NaN</td>\n",
       "      <td>second-hand car purchase</td>\n",
       "    </tr>\n",
       "    <tr>\n",
       "      <th>55</th>\n",
       "      <td>0</td>\n",
       "      <td>NaN</td>\n",
       "      <td>54</td>\n",
       "      <td>secondary education</td>\n",
       "      <td>1</td>\n",
       "      <td>civil partnership</td>\n",
       "      <td>1</td>\n",
       "      <td>F</td>\n",
       "      <td>retiree</td>\n",
       "      <td>1</td>\n",
       "      <td>NaN</td>\n",
       "      <td>to have a wedding</td>\n",
       "    </tr>\n",
       "    <tr>\n",
       "      <th>...</th>\n",
       "      <td>...</td>\n",
       "      <td>...</td>\n",
       "      <td>...</td>\n",
       "      <td>...</td>\n",
       "      <td>...</td>\n",
       "      <td>...</td>\n",
       "      <td>...</td>\n",
       "      <td>...</td>\n",
       "      <td>...</td>\n",
       "      <td>...</td>\n",
       "      <td>...</td>\n",
       "      <td>...</td>\n",
       "    </tr>\n",
       "    <tr>\n",
       "      <th>21489</th>\n",
       "      <td>2</td>\n",
       "      <td>NaN</td>\n",
       "      <td>47</td>\n",
       "      <td>Secondary Education</td>\n",
       "      <td>1</td>\n",
       "      <td>married</td>\n",
       "      <td>0</td>\n",
       "      <td>M</td>\n",
       "      <td>business</td>\n",
       "      <td>0</td>\n",
       "      <td>NaN</td>\n",
       "      <td>purchase of a car</td>\n",
       "    </tr>\n",
       "    <tr>\n",
       "      <th>21495</th>\n",
       "      <td>1</td>\n",
       "      <td>NaN</td>\n",
       "      <td>50</td>\n",
       "      <td>secondary education</td>\n",
       "      <td>1</td>\n",
       "      <td>civil partnership</td>\n",
       "      <td>1</td>\n",
       "      <td>F</td>\n",
       "      <td>employee</td>\n",
       "      <td>0</td>\n",
       "      <td>NaN</td>\n",
       "      <td>wedding ceremony</td>\n",
       "    </tr>\n",
       "    <tr>\n",
       "      <th>21497</th>\n",
       "      <td>0</td>\n",
       "      <td>NaN</td>\n",
       "      <td>48</td>\n",
       "      <td>BACHELOR'S DEGREE</td>\n",
       "      <td>0</td>\n",
       "      <td>married</td>\n",
       "      <td>0</td>\n",
       "      <td>F</td>\n",
       "      <td>business</td>\n",
       "      <td>0</td>\n",
       "      <td>NaN</td>\n",
       "      <td>building a property</td>\n",
       "    </tr>\n",
       "    <tr>\n",
       "      <th>21502</th>\n",
       "      <td>1</td>\n",
       "      <td>NaN</td>\n",
       "      <td>42</td>\n",
       "      <td>secondary education</td>\n",
       "      <td>1</td>\n",
       "      <td>married</td>\n",
       "      <td>0</td>\n",
       "      <td>F</td>\n",
       "      <td>employee</td>\n",
       "      <td>0</td>\n",
       "      <td>NaN</td>\n",
       "      <td>building a real estate</td>\n",
       "    </tr>\n",
       "    <tr>\n",
       "      <th>21510</th>\n",
       "      <td>2</td>\n",
       "      <td>NaN</td>\n",
       "      <td>28</td>\n",
       "      <td>secondary education</td>\n",
       "      <td>1</td>\n",
       "      <td>married</td>\n",
       "      <td>0</td>\n",
       "      <td>F</td>\n",
       "      <td>employee</td>\n",
       "      <td>0</td>\n",
       "      <td>NaN</td>\n",
       "      <td>car purchase</td>\n",
       "    </tr>\n",
       "  </tbody>\n",
       "</table>\n",
       "<p>2174 rows × 12 columns</p>\n",
       "</div>"
      ],
      "text/plain": [
       "       children  days_employed  dob_years            education  education_id  \\\n",
       "12            0            NaN         65  secondary education             1   \n",
       "26            0            NaN         41  secondary education             1   \n",
       "29            0            NaN         63  secondary education             1   \n",
       "41            0            NaN         50  secondary education             1   \n",
       "55            0            NaN         54  secondary education             1   \n",
       "...         ...            ...        ...                  ...           ...   \n",
       "21489         2            NaN         47  Secondary Education             1   \n",
       "21495         1            NaN         50  secondary education             1   \n",
       "21497         0            NaN         48    BACHELOR'S DEGREE             0   \n",
       "21502         1            NaN         42  secondary education             1   \n",
       "21510         2            NaN         28  secondary education             1   \n",
       "\n",
       "           family_status  family_status_id gender    income_type  debt  \\\n",
       "12     civil partnership                 1      M        retiree     0   \n",
       "26               married                 0      M  civil servant     0   \n",
       "29             unmarried                 4      F        retiree     0   \n",
       "41               married                 0      F  civil servant     0   \n",
       "55     civil partnership                 1      F        retiree     1   \n",
       "...                  ...               ...    ...            ...   ...   \n",
       "21489            married                 0      M       business     0   \n",
       "21495  civil partnership                 1      F       employee     0   \n",
       "21497            married                 0      F       business     0   \n",
       "21502            married                 0      F       employee     0   \n",
       "21510            married                 0      F       employee     0   \n",
       "\n",
       "       total_income                   purpose  \n",
       "12              NaN         to have a wedding  \n",
       "26              NaN                 education  \n",
       "29              NaN    building a real estate  \n",
       "41              NaN  second-hand car purchase  \n",
       "55              NaN         to have a wedding  \n",
       "...             ...                       ...  \n",
       "21489           NaN         purchase of a car  \n",
       "21495           NaN          wedding ceremony  \n",
       "21497           NaN       building a property  \n",
       "21502           NaN    building a real estate  \n",
       "21510           NaN              car purchase  \n",
       "\n",
       "[2174 rows x 12 columns]"
      ]
     },
     "execution_count": 6,
     "metadata": {},
     "output_type": "execute_result"
    }
   ],
   "source": [
    "# Let's apply multiple conditions for filtering data and look at the number of rows in the filtered table.\n",
    "df[(df[\"total_income\"].isna()) & (df[\"days_employed\"].isna())] #& function looks at the two columns for missing values simutaneously"
   ]
  },
  {
   "cell_type": "markdown",
   "metadata": {},
   "source": [
    "The missing values in both columns are symmetric. The number of missing values in total_income matches the number of missing values in days_employed. \n"
   ]
  },
  {
   "cell_type": "code",
   "execution_count": 7,
   "metadata": {},
   "outputs": [
    {
     "name": "stdout",
     "output_type": "stream",
     "text": [
      "The percentage of missing values is:  10%\n"
     ]
    }
   ],
   "source": [
    "#The percentage of missing values in the whole dataset\n",
    "\n",
    "missing_value = 2174\n",
    "total_value = 21525\n",
    "percent_missing_value = missing_value/total_value\n",
    "\n",
    "print(f\"The percentage of missing values is: {percent_missing_value: .0%}\")"
   ]
  },
  {
   "cell_type": "markdown",
   "metadata": {},
   "source": [
    "**Intermediate conclusion**\n",
    "The number of rows in the filtered table match the number of missing values. There are 2174 missing values in both tables\n",
    "\n",
    "The percentage of the missing values in relation to the whole dataset is 10%. The dataset is not large. So, I will be filling in the missing values with either the median or the mean based on the client characteristic that gives a considerable variation in distribution of the mean, and median, and not the global mean or median of the days_employed column and total_income column.\n",
    "\n",
    "Subsequently, I would compare the distribution of the data between the missing values for identified client characteristics and the whole dataset to see patterns in the data. Also, I would take out duplicates, remove negative values, and fill in the missing values in the identified columns."
   ]
  },
  {
   "cell_type": "code",
   "execution_count": 8,
   "metadata": {},
   "outputs": [
    {
     "data": {
      "text/html": [
       "<div>\n",
       "<style scoped>\n",
       "    .dataframe tbody tr th:only-of-type {\n",
       "        vertical-align: middle;\n",
       "    }\n",
       "\n",
       "    .dataframe tbody tr th {\n",
       "        vertical-align: top;\n",
       "    }\n",
       "\n",
       "    .dataframe thead th {\n",
       "        text-align: right;\n",
       "    }\n",
       "</style>\n",
       "<table border=\"1\" class=\"dataframe\">\n",
       "  <thead>\n",
       "    <tr style=\"text-align: right;\">\n",
       "      <th></th>\n",
       "      <th>children</th>\n",
       "      <th>days_employed</th>\n",
       "      <th>dob_years</th>\n",
       "      <th>education</th>\n",
       "      <th>education_id</th>\n",
       "      <th>family_status</th>\n",
       "      <th>family_status_id</th>\n",
       "      <th>gender</th>\n",
       "      <th>income_type</th>\n",
       "      <th>debt</th>\n",
       "      <th>total_income</th>\n",
       "      <th>purpose</th>\n",
       "    </tr>\n",
       "  </thead>\n",
       "  <tbody>\n",
       "    <tr>\n",
       "      <th>0</th>\n",
       "      <td>1</td>\n",
       "      <td>-8437.673028</td>\n",
       "      <td>42</td>\n",
       "      <td>bachelor's degree</td>\n",
       "      <td>0</td>\n",
       "      <td>married</td>\n",
       "      <td>0</td>\n",
       "      <td>F</td>\n",
       "      <td>employee</td>\n",
       "      <td>0</td>\n",
       "      <td>40620.102</td>\n",
       "      <td>purchase of the house</td>\n",
       "    </tr>\n",
       "    <tr>\n",
       "      <th>1</th>\n",
       "      <td>1</td>\n",
       "      <td>-4024.803754</td>\n",
       "      <td>36</td>\n",
       "      <td>secondary education</td>\n",
       "      <td>1</td>\n",
       "      <td>married</td>\n",
       "      <td>0</td>\n",
       "      <td>F</td>\n",
       "      <td>employee</td>\n",
       "      <td>0</td>\n",
       "      <td>17932.802</td>\n",
       "      <td>car purchase</td>\n",
       "    </tr>\n",
       "    <tr>\n",
       "      <th>2</th>\n",
       "      <td>0</td>\n",
       "      <td>-5623.422610</td>\n",
       "      <td>33</td>\n",
       "      <td>Secondary Education</td>\n",
       "      <td>1</td>\n",
       "      <td>married</td>\n",
       "      <td>0</td>\n",
       "      <td>M</td>\n",
       "      <td>employee</td>\n",
       "      <td>0</td>\n",
       "      <td>23341.752</td>\n",
       "      <td>purchase of the house</td>\n",
       "    </tr>\n",
       "    <tr>\n",
       "      <th>3</th>\n",
       "      <td>3</td>\n",
       "      <td>-4124.747207</td>\n",
       "      <td>32</td>\n",
       "      <td>secondary education</td>\n",
       "      <td>1</td>\n",
       "      <td>married</td>\n",
       "      <td>0</td>\n",
       "      <td>M</td>\n",
       "      <td>employee</td>\n",
       "      <td>0</td>\n",
       "      <td>42820.568</td>\n",
       "      <td>supplementary education</td>\n",
       "    </tr>\n",
       "    <tr>\n",
       "      <th>4</th>\n",
       "      <td>0</td>\n",
       "      <td>340266.072047</td>\n",
       "      <td>53</td>\n",
       "      <td>secondary education</td>\n",
       "      <td>1</td>\n",
       "      <td>civil partnership</td>\n",
       "      <td>1</td>\n",
       "      <td>F</td>\n",
       "      <td>retiree</td>\n",
       "      <td>0</td>\n",
       "      <td>25378.572</td>\n",
       "      <td>to have a wedding</td>\n",
       "    </tr>\n",
       "    <tr>\n",
       "      <th>5</th>\n",
       "      <td>0</td>\n",
       "      <td>-926.185831</td>\n",
       "      <td>27</td>\n",
       "      <td>bachelor's degree</td>\n",
       "      <td>0</td>\n",
       "      <td>civil partnership</td>\n",
       "      <td>1</td>\n",
       "      <td>M</td>\n",
       "      <td>business</td>\n",
       "      <td>0</td>\n",
       "      <td>40922.170</td>\n",
       "      <td>purchase of the house</td>\n",
       "    </tr>\n",
       "    <tr>\n",
       "      <th>6</th>\n",
       "      <td>0</td>\n",
       "      <td>-2879.202052</td>\n",
       "      <td>43</td>\n",
       "      <td>bachelor's degree</td>\n",
       "      <td>0</td>\n",
       "      <td>married</td>\n",
       "      <td>0</td>\n",
       "      <td>F</td>\n",
       "      <td>business</td>\n",
       "      <td>0</td>\n",
       "      <td>38484.156</td>\n",
       "      <td>housing transactions</td>\n",
       "    </tr>\n",
       "    <tr>\n",
       "      <th>7</th>\n",
       "      <td>0</td>\n",
       "      <td>-152.779569</td>\n",
       "      <td>50</td>\n",
       "      <td>SECONDARY EDUCATION</td>\n",
       "      <td>1</td>\n",
       "      <td>married</td>\n",
       "      <td>0</td>\n",
       "      <td>M</td>\n",
       "      <td>employee</td>\n",
       "      <td>0</td>\n",
       "      <td>21731.829</td>\n",
       "      <td>education</td>\n",
       "    </tr>\n",
       "    <tr>\n",
       "      <th>8</th>\n",
       "      <td>2</td>\n",
       "      <td>-6929.865299</td>\n",
       "      <td>35</td>\n",
       "      <td>BACHELOR'S DEGREE</td>\n",
       "      <td>0</td>\n",
       "      <td>civil partnership</td>\n",
       "      <td>1</td>\n",
       "      <td>F</td>\n",
       "      <td>employee</td>\n",
       "      <td>0</td>\n",
       "      <td>15337.093</td>\n",
       "      <td>having a wedding</td>\n",
       "    </tr>\n",
       "    <tr>\n",
       "      <th>9</th>\n",
       "      <td>0</td>\n",
       "      <td>-2188.756445</td>\n",
       "      <td>41</td>\n",
       "      <td>secondary education</td>\n",
       "      <td>1</td>\n",
       "      <td>married</td>\n",
       "      <td>0</td>\n",
       "      <td>M</td>\n",
       "      <td>employee</td>\n",
       "      <td>0</td>\n",
       "      <td>23108.150</td>\n",
       "      <td>purchase of the house for my family</td>\n",
       "    </tr>\n",
       "    <tr>\n",
       "      <th>10</th>\n",
       "      <td>2</td>\n",
       "      <td>-4171.483647</td>\n",
       "      <td>36</td>\n",
       "      <td>bachelor's degree</td>\n",
       "      <td>0</td>\n",
       "      <td>married</td>\n",
       "      <td>0</td>\n",
       "      <td>M</td>\n",
       "      <td>business</td>\n",
       "      <td>0</td>\n",
       "      <td>18230.959</td>\n",
       "      <td>buy real estate</td>\n",
       "    </tr>\n",
       "    <tr>\n",
       "      <th>11</th>\n",
       "      <td>0</td>\n",
       "      <td>-792.701887</td>\n",
       "      <td>40</td>\n",
       "      <td>secondary education</td>\n",
       "      <td>1</td>\n",
       "      <td>married</td>\n",
       "      <td>0</td>\n",
       "      <td>F</td>\n",
       "      <td>employee</td>\n",
       "      <td>0</td>\n",
       "      <td>12331.077</td>\n",
       "      <td>buy commercial real estate</td>\n",
       "    </tr>\n",
       "    <tr>\n",
       "      <th>12</th>\n",
       "      <td>0</td>\n",
       "      <td>NaN</td>\n",
       "      <td>65</td>\n",
       "      <td>secondary education</td>\n",
       "      <td>1</td>\n",
       "      <td>civil partnership</td>\n",
       "      <td>1</td>\n",
       "      <td>M</td>\n",
       "      <td>retiree</td>\n",
       "      <td>0</td>\n",
       "      <td>NaN</td>\n",
       "      <td>to have a wedding</td>\n",
       "    </tr>\n",
       "    <tr>\n",
       "      <th>13</th>\n",
       "      <td>0</td>\n",
       "      <td>-1846.641941</td>\n",
       "      <td>54</td>\n",
       "      <td>some college</td>\n",
       "      <td>2</td>\n",
       "      <td>married</td>\n",
       "      <td>0</td>\n",
       "      <td>F</td>\n",
       "      <td>employee</td>\n",
       "      <td>0</td>\n",
       "      <td>20873.317</td>\n",
       "      <td>car purchase</td>\n",
       "    </tr>\n",
       "    <tr>\n",
       "      <th>14</th>\n",
       "      <td>0</td>\n",
       "      <td>-1844.956182</td>\n",
       "      <td>56</td>\n",
       "      <td>bachelor's degree</td>\n",
       "      <td>0</td>\n",
       "      <td>civil partnership</td>\n",
       "      <td>1</td>\n",
       "      <td>F</td>\n",
       "      <td>business</td>\n",
       "      <td>1</td>\n",
       "      <td>26420.466</td>\n",
       "      <td>buy residential real estate</td>\n",
       "    </tr>\n",
       "    <tr>\n",
       "      <th>15</th>\n",
       "      <td>1</td>\n",
       "      <td>-972.364419</td>\n",
       "      <td>26</td>\n",
       "      <td>secondary education</td>\n",
       "      <td>1</td>\n",
       "      <td>married</td>\n",
       "      <td>0</td>\n",
       "      <td>F</td>\n",
       "      <td>employee</td>\n",
       "      <td>0</td>\n",
       "      <td>18691.345</td>\n",
       "      <td>construction of own property</td>\n",
       "    </tr>\n",
       "    <tr>\n",
       "      <th>16</th>\n",
       "      <td>0</td>\n",
       "      <td>-1719.934226</td>\n",
       "      <td>35</td>\n",
       "      <td>secondary education</td>\n",
       "      <td>1</td>\n",
       "      <td>married</td>\n",
       "      <td>0</td>\n",
       "      <td>F</td>\n",
       "      <td>employee</td>\n",
       "      <td>0</td>\n",
       "      <td>46272.433</td>\n",
       "      <td>property</td>\n",
       "    </tr>\n",
       "    <tr>\n",
       "      <th>17</th>\n",
       "      <td>0</td>\n",
       "      <td>-2369.999720</td>\n",
       "      <td>33</td>\n",
       "      <td>bachelor's degree</td>\n",
       "      <td>0</td>\n",
       "      <td>civil partnership</td>\n",
       "      <td>1</td>\n",
       "      <td>M</td>\n",
       "      <td>employee</td>\n",
       "      <td>0</td>\n",
       "      <td>14465.694</td>\n",
       "      <td>building a property</td>\n",
       "    </tr>\n",
       "    <tr>\n",
       "      <th>18</th>\n",
       "      <td>0</td>\n",
       "      <td>400281.136913</td>\n",
       "      <td>53</td>\n",
       "      <td>secondary education</td>\n",
       "      <td>1</td>\n",
       "      <td>widow / widower</td>\n",
       "      <td>2</td>\n",
       "      <td>F</td>\n",
       "      <td>retiree</td>\n",
       "      <td>0</td>\n",
       "      <td>9091.804</td>\n",
       "      <td>buying a second-hand car</td>\n",
       "    </tr>\n",
       "    <tr>\n",
       "      <th>19</th>\n",
       "      <td>0</td>\n",
       "      <td>-10038.818549</td>\n",
       "      <td>48</td>\n",
       "      <td>SECONDARY EDUCATION</td>\n",
       "      <td>1</td>\n",
       "      <td>divorced</td>\n",
       "      <td>3</td>\n",
       "      <td>F</td>\n",
       "      <td>employee</td>\n",
       "      <td>0</td>\n",
       "      <td>38852.977</td>\n",
       "      <td>buying my own car</td>\n",
       "    </tr>\n",
       "    <tr>\n",
       "      <th>20</th>\n",
       "      <td>1</td>\n",
       "      <td>-1311.604166</td>\n",
       "      <td>36</td>\n",
       "      <td>secondary education</td>\n",
       "      <td>1</td>\n",
       "      <td>married</td>\n",
       "      <td>0</td>\n",
       "      <td>M</td>\n",
       "      <td>employee</td>\n",
       "      <td>0</td>\n",
       "      <td>33528.423</td>\n",
       "      <td>property</td>\n",
       "    </tr>\n",
       "    <tr>\n",
       "      <th>21</th>\n",
       "      <td>1</td>\n",
       "      <td>-253.685166</td>\n",
       "      <td>33</td>\n",
       "      <td>secondary education</td>\n",
       "      <td>1</td>\n",
       "      <td>civil partnership</td>\n",
       "      <td>1</td>\n",
       "      <td>F</td>\n",
       "      <td>employee</td>\n",
       "      <td>0</td>\n",
       "      <td>21089.953</td>\n",
       "      <td>car purchase</td>\n",
       "    </tr>\n",
       "    <tr>\n",
       "      <th>22</th>\n",
       "      <td>1</td>\n",
       "      <td>-1766.644138</td>\n",
       "      <td>24</td>\n",
       "      <td>secondary education</td>\n",
       "      <td>1</td>\n",
       "      <td>civil partnership</td>\n",
       "      <td>1</td>\n",
       "      <td>F</td>\n",
       "      <td>employee</td>\n",
       "      <td>0</td>\n",
       "      <td>23948.983</td>\n",
       "      <td>buying a second-hand car</td>\n",
       "    </tr>\n",
       "    <tr>\n",
       "      <th>23</th>\n",
       "      <td>0</td>\n",
       "      <td>-272.981385</td>\n",
       "      <td>21</td>\n",
       "      <td>bachelor's degree</td>\n",
       "      <td>0</td>\n",
       "      <td>civil partnership</td>\n",
       "      <td>1</td>\n",
       "      <td>M</td>\n",
       "      <td>employee</td>\n",
       "      <td>0</td>\n",
       "      <td>20522.515</td>\n",
       "      <td>to have a wedding</td>\n",
       "    </tr>\n",
       "    <tr>\n",
       "      <th>24</th>\n",
       "      <td>1</td>\n",
       "      <td>338551.952911</td>\n",
       "      <td>57</td>\n",
       "      <td>secondary education</td>\n",
       "      <td>1</td>\n",
       "      <td>unmarried</td>\n",
       "      <td>4</td>\n",
       "      <td>F</td>\n",
       "      <td>retiree</td>\n",
       "      <td>0</td>\n",
       "      <td>46487.558</td>\n",
       "      <td>transactions with commercial real estate</td>\n",
       "    </tr>\n",
       "    <tr>\n",
       "      <th>25</th>\n",
       "      <td>0</td>\n",
       "      <td>363548.489348</td>\n",
       "      <td>67</td>\n",
       "      <td>secondary education</td>\n",
       "      <td>1</td>\n",
       "      <td>married</td>\n",
       "      <td>0</td>\n",
       "      <td>M</td>\n",
       "      <td>retiree</td>\n",
       "      <td>0</td>\n",
       "      <td>8818.041</td>\n",
       "      <td>buy real estate</td>\n",
       "    </tr>\n",
       "    <tr>\n",
       "      <th>26</th>\n",
       "      <td>0</td>\n",
       "      <td>NaN</td>\n",
       "      <td>41</td>\n",
       "      <td>secondary education</td>\n",
       "      <td>1</td>\n",
       "      <td>married</td>\n",
       "      <td>0</td>\n",
       "      <td>M</td>\n",
       "      <td>civil servant</td>\n",
       "      <td>0</td>\n",
       "      <td>NaN</td>\n",
       "      <td>education</td>\n",
       "    </tr>\n",
       "    <tr>\n",
       "      <th>27</th>\n",
       "      <td>0</td>\n",
       "      <td>-529.191635</td>\n",
       "      <td>28</td>\n",
       "      <td>bachelor's degree</td>\n",
       "      <td>0</td>\n",
       "      <td>married</td>\n",
       "      <td>0</td>\n",
       "      <td>M</td>\n",
       "      <td>employee</td>\n",
       "      <td>0</td>\n",
       "      <td>49415.837</td>\n",
       "      <td>construction of own property</td>\n",
       "    </tr>\n",
       "    <tr>\n",
       "      <th>28</th>\n",
       "      <td>1</td>\n",
       "      <td>-717.274324</td>\n",
       "      <td>26</td>\n",
       "      <td>bachelor's degree</td>\n",
       "      <td>0</td>\n",
       "      <td>married</td>\n",
       "      <td>0</td>\n",
       "      <td>F</td>\n",
       "      <td>employee</td>\n",
       "      <td>0</td>\n",
       "      <td>30058.118</td>\n",
       "      <td>construction of own property</td>\n",
       "    </tr>\n",
       "    <tr>\n",
       "      <th>29</th>\n",
       "      <td>0</td>\n",
       "      <td>NaN</td>\n",
       "      <td>63</td>\n",
       "      <td>secondary education</td>\n",
       "      <td>1</td>\n",
       "      <td>unmarried</td>\n",
       "      <td>4</td>\n",
       "      <td>F</td>\n",
       "      <td>retiree</td>\n",
       "      <td>0</td>\n",
       "      <td>NaN</td>\n",
       "      <td>building a real estate</td>\n",
       "    </tr>\n",
       "    <tr>\n",
       "      <th>30</th>\n",
       "      <td>1</td>\n",
       "      <td>335581.668515</td>\n",
       "      <td>62</td>\n",
       "      <td>secondary education</td>\n",
       "      <td>1</td>\n",
       "      <td>married</td>\n",
       "      <td>0</td>\n",
       "      <td>F</td>\n",
       "      <td>retiree</td>\n",
       "      <td>0</td>\n",
       "      <td>27432.971</td>\n",
       "      <td>transactions with commercial real estate</td>\n",
       "    </tr>\n",
       "    <tr>\n",
       "      <th>31</th>\n",
       "      <td>0</td>\n",
       "      <td>-1682.083438</td>\n",
       "      <td>47</td>\n",
       "      <td>primary education</td>\n",
       "      <td>3</td>\n",
       "      <td>married</td>\n",
       "      <td>0</td>\n",
       "      <td>F</td>\n",
       "      <td>employee</td>\n",
       "      <td>0</td>\n",
       "      <td>44077.710</td>\n",
       "      <td>housing</td>\n",
       "    </tr>\n",
       "    <tr>\n",
       "      <th>32</th>\n",
       "      <td>0</td>\n",
       "      <td>-4649.910832</td>\n",
       "      <td>34</td>\n",
       "      <td>SECONDARY EDUCATION</td>\n",
       "      <td>1</td>\n",
       "      <td>civil partnership</td>\n",
       "      <td>1</td>\n",
       "      <td>F</td>\n",
       "      <td>employee</td>\n",
       "      <td>1</td>\n",
       "      <td>22249.194</td>\n",
       "      <td>having a wedding</td>\n",
       "    </tr>\n",
       "    <tr>\n",
       "      <th>33</th>\n",
       "      <td>0</td>\n",
       "      <td>-1548.637544</td>\n",
       "      <td>48</td>\n",
       "      <td>secondary education</td>\n",
       "      <td>1</td>\n",
       "      <td>married</td>\n",
       "      <td>0</td>\n",
       "      <td>F</td>\n",
       "      <td>business</td>\n",
       "      <td>0</td>\n",
       "      <td>25159.326</td>\n",
       "      <td>purchase of the house</td>\n",
       "    </tr>\n",
       "    <tr>\n",
       "      <th>34</th>\n",
       "      <td>0</td>\n",
       "      <td>-4488.067031</td>\n",
       "      <td>35</td>\n",
       "      <td>secondary education</td>\n",
       "      <td>1</td>\n",
       "      <td>married</td>\n",
       "      <td>0</td>\n",
       "      <td>F</td>\n",
       "      <td>employee</td>\n",
       "      <td>0</td>\n",
       "      <td>16745.672</td>\n",
       "      <td>transactions with my real estate</td>\n",
       "    </tr>\n",
       "    <tr>\n",
       "      <th>35</th>\n",
       "      <td>0</td>\n",
       "      <td>394021.072184</td>\n",
       "      <td>68</td>\n",
       "      <td>secondary education</td>\n",
       "      <td>1</td>\n",
       "      <td>civil partnership</td>\n",
       "      <td>1</td>\n",
       "      <td>M</td>\n",
       "      <td>retiree</td>\n",
       "      <td>0</td>\n",
       "      <td>12448.908</td>\n",
       "      <td>having a wedding</td>\n",
       "    </tr>\n",
       "    <tr>\n",
       "      <th>36</th>\n",
       "      <td>0</td>\n",
       "      <td>-176.216688</td>\n",
       "      <td>33</td>\n",
       "      <td>secondary education</td>\n",
       "      <td>1</td>\n",
       "      <td>unmarried</td>\n",
       "      <td>4</td>\n",
       "      <td>M</td>\n",
       "      <td>employee</td>\n",
       "      <td>0</td>\n",
       "      <td>22212.904</td>\n",
       "      <td>cars</td>\n",
       "    </tr>\n",
       "    <tr>\n",
       "      <th>37</th>\n",
       "      <td>0</td>\n",
       "      <td>-6448.810860</td>\n",
       "      <td>43</td>\n",
       "      <td>BACHELOR'S DEGREE</td>\n",
       "      <td>0</td>\n",
       "      <td>civil partnership</td>\n",
       "      <td>1</td>\n",
       "      <td>F</td>\n",
       "      <td>business</td>\n",
       "      <td>0</td>\n",
       "      <td>24660.621</td>\n",
       "      <td>car purchase</td>\n",
       "    </tr>\n",
       "    <tr>\n",
       "      <th>38</th>\n",
       "      <td>0</td>\n",
       "      <td>-597.881827</td>\n",
       "      <td>25</td>\n",
       "      <td>bachelor's degree</td>\n",
       "      <td>0</td>\n",
       "      <td>unmarried</td>\n",
       "      <td>4</td>\n",
       "      <td>M</td>\n",
       "      <td>employee</td>\n",
       "      <td>1</td>\n",
       "      <td>30759.568</td>\n",
       "      <td>education</td>\n",
       "    </tr>\n",
       "    <tr>\n",
       "      <th>39</th>\n",
       "      <td>0</td>\n",
       "      <td>-650.587796</td>\n",
       "      <td>31</td>\n",
       "      <td>bachelor's degree</td>\n",
       "      <td>0</td>\n",
       "      <td>civil partnership</td>\n",
       "      <td>1</td>\n",
       "      <td>F</td>\n",
       "      <td>business</td>\n",
       "      <td>0</td>\n",
       "      <td>120678.528</td>\n",
       "      <td>to become educated</td>\n",
       "    </tr>\n",
       "    <tr>\n",
       "      <th>40</th>\n",
       "      <td>0</td>\n",
       "      <td>-1030.362606</td>\n",
       "      <td>30</td>\n",
       "      <td>secondary education</td>\n",
       "      <td>1</td>\n",
       "      <td>unmarried</td>\n",
       "      <td>4</td>\n",
       "      <td>M</td>\n",
       "      <td>business</td>\n",
       "      <td>0</td>\n",
       "      <td>22858.493</td>\n",
       "      <td>buy real estate</td>\n",
       "    </tr>\n",
       "    <tr>\n",
       "      <th>41</th>\n",
       "      <td>0</td>\n",
       "      <td>NaN</td>\n",
       "      <td>50</td>\n",
       "      <td>secondary education</td>\n",
       "      <td>1</td>\n",
       "      <td>married</td>\n",
       "      <td>0</td>\n",
       "      <td>F</td>\n",
       "      <td>civil servant</td>\n",
       "      <td>0</td>\n",
       "      <td>NaN</td>\n",
       "      <td>second-hand car purchase</td>\n",
       "    </tr>\n",
       "    <tr>\n",
       "      <th>42</th>\n",
       "      <td>0</td>\n",
       "      <td>-1257.496190</td>\n",
       "      <td>20</td>\n",
       "      <td>some college</td>\n",
       "      <td>2</td>\n",
       "      <td>unmarried</td>\n",
       "      <td>4</td>\n",
       "      <td>F</td>\n",
       "      <td>employee</td>\n",
       "      <td>0</td>\n",
       "      <td>13130.414</td>\n",
       "      <td>getting an education</td>\n",
       "    </tr>\n",
       "    <tr>\n",
       "      <th>43</th>\n",
       "      <td>0</td>\n",
       "      <td>-4375.681384</td>\n",
       "      <td>43</td>\n",
       "      <td>some college</td>\n",
       "      <td>2</td>\n",
       "      <td>divorced</td>\n",
       "      <td>3</td>\n",
       "      <td>F</td>\n",
       "      <td>business</td>\n",
       "      <td>0</td>\n",
       "      <td>43673.141</td>\n",
       "      <td>car purchase</td>\n",
       "    </tr>\n",
       "    <tr>\n",
       "      <th>44</th>\n",
       "      <td>1</td>\n",
       "      <td>-1362.041728</td>\n",
       "      <td>26</td>\n",
       "      <td>SECONDARY EDUCATION</td>\n",
       "      <td>1</td>\n",
       "      <td>married</td>\n",
       "      <td>0</td>\n",
       "      <td>F</td>\n",
       "      <td>employee</td>\n",
       "      <td>0</td>\n",
       "      <td>16124.879</td>\n",
       "      <td>buying my own car</td>\n",
       "    </tr>\n",
       "    <tr>\n",
       "      <th>45</th>\n",
       "      <td>1</td>\n",
       "      <td>-1039.451741</td>\n",
       "      <td>49</td>\n",
       "      <td>secondary education</td>\n",
       "      <td>1</td>\n",
       "      <td>unmarried</td>\n",
       "      <td>4</td>\n",
       "      <td>F</td>\n",
       "      <td>employee</td>\n",
       "      <td>0</td>\n",
       "      <td>17021.747</td>\n",
       "      <td>to become educated</td>\n",
       "    </tr>\n",
       "    <tr>\n",
       "      <th>46</th>\n",
       "      <td>2</td>\n",
       "      <td>-2262.712304</td>\n",
       "      <td>37</td>\n",
       "      <td>secondary education</td>\n",
       "      <td>1</td>\n",
       "      <td>married</td>\n",
       "      <td>0</td>\n",
       "      <td>F</td>\n",
       "      <td>business</td>\n",
       "      <td>0</td>\n",
       "      <td>29229.194</td>\n",
       "      <td>second-hand car purchase</td>\n",
       "    </tr>\n",
       "    <tr>\n",
       "      <th>47</th>\n",
       "      <td>1</td>\n",
       "      <td>-2689.137274</td>\n",
       "      <td>33</td>\n",
       "      <td>bachelor's degree</td>\n",
       "      <td>0</td>\n",
       "      <td>civil partnership</td>\n",
       "      <td>1</td>\n",
       "      <td>M</td>\n",
       "      <td>civil servant</td>\n",
       "      <td>0</td>\n",
       "      <td>57004.465</td>\n",
       "      <td>having a wedding</td>\n",
       "    </tr>\n",
       "    <tr>\n",
       "      <th>48</th>\n",
       "      <td>0</td>\n",
       "      <td>-3341.067886</td>\n",
       "      <td>45</td>\n",
       "      <td>secondary education</td>\n",
       "      <td>1</td>\n",
       "      <td>married</td>\n",
       "      <td>0</td>\n",
       "      <td>F</td>\n",
       "      <td>employee</td>\n",
       "      <td>0</td>\n",
       "      <td>25930.483</td>\n",
       "      <td>construction of own property</td>\n",
       "    </tr>\n",
       "    <tr>\n",
       "      <th>49</th>\n",
       "      <td>0</td>\n",
       "      <td>-1181.443228</td>\n",
       "      <td>54</td>\n",
       "      <td>secondary education</td>\n",
       "      <td>1</td>\n",
       "      <td>married</td>\n",
       "      <td>0</td>\n",
       "      <td>F</td>\n",
       "      <td>employee</td>\n",
       "      <td>0</td>\n",
       "      <td>7134.689</td>\n",
       "      <td>car</td>\n",
       "    </tr>\n",
       "  </tbody>\n",
       "</table>\n",
       "</div>"
      ],
      "text/plain": [
       "    children  days_employed  dob_years            education  education_id  \\\n",
       "0          1   -8437.673028         42    bachelor's degree             0   \n",
       "1          1   -4024.803754         36  secondary education             1   \n",
       "2          0   -5623.422610         33  Secondary Education             1   \n",
       "3          3   -4124.747207         32  secondary education             1   \n",
       "4          0  340266.072047         53  secondary education             1   \n",
       "5          0    -926.185831         27    bachelor's degree             0   \n",
       "6          0   -2879.202052         43    bachelor's degree             0   \n",
       "7          0    -152.779569         50  SECONDARY EDUCATION             1   \n",
       "8          2   -6929.865299         35    BACHELOR'S DEGREE             0   \n",
       "9          0   -2188.756445         41  secondary education             1   \n",
       "10         2   -4171.483647         36    bachelor's degree             0   \n",
       "11         0    -792.701887         40  secondary education             1   \n",
       "12         0            NaN         65  secondary education             1   \n",
       "13         0   -1846.641941         54         some college             2   \n",
       "14         0   -1844.956182         56    bachelor's degree             0   \n",
       "15         1    -972.364419         26  secondary education             1   \n",
       "16         0   -1719.934226         35  secondary education             1   \n",
       "17         0   -2369.999720         33    bachelor's degree             0   \n",
       "18         0  400281.136913         53  secondary education             1   \n",
       "19         0  -10038.818549         48  SECONDARY EDUCATION             1   \n",
       "20         1   -1311.604166         36  secondary education             1   \n",
       "21         1    -253.685166         33  secondary education             1   \n",
       "22         1   -1766.644138         24  secondary education             1   \n",
       "23         0    -272.981385         21    bachelor's degree             0   \n",
       "24         1  338551.952911         57  secondary education             1   \n",
       "25         0  363548.489348         67  secondary education             1   \n",
       "26         0            NaN         41  secondary education             1   \n",
       "27         0    -529.191635         28    bachelor's degree             0   \n",
       "28         1    -717.274324         26    bachelor's degree             0   \n",
       "29         0            NaN         63  secondary education             1   \n",
       "30         1  335581.668515         62  secondary education             1   \n",
       "31         0   -1682.083438         47    primary education             3   \n",
       "32         0   -4649.910832         34  SECONDARY EDUCATION             1   \n",
       "33         0   -1548.637544         48  secondary education             1   \n",
       "34         0   -4488.067031         35  secondary education             1   \n",
       "35         0  394021.072184         68  secondary education             1   \n",
       "36         0    -176.216688         33  secondary education             1   \n",
       "37         0   -6448.810860         43    BACHELOR'S DEGREE             0   \n",
       "38         0    -597.881827         25    bachelor's degree             0   \n",
       "39         0    -650.587796         31    bachelor's degree             0   \n",
       "40         0   -1030.362606         30  secondary education             1   \n",
       "41         0            NaN         50  secondary education             1   \n",
       "42         0   -1257.496190         20         some college             2   \n",
       "43         0   -4375.681384         43         some college             2   \n",
       "44         1   -1362.041728         26  SECONDARY EDUCATION             1   \n",
       "45         1   -1039.451741         49  secondary education             1   \n",
       "46         2   -2262.712304         37  secondary education             1   \n",
       "47         1   -2689.137274         33    bachelor's degree             0   \n",
       "48         0   -3341.067886         45  secondary education             1   \n",
       "49         0   -1181.443228         54  secondary education             1   \n",
       "\n",
       "        family_status  family_status_id gender    income_type  debt  \\\n",
       "0             married                 0      F       employee     0   \n",
       "1             married                 0      F       employee     0   \n",
       "2             married                 0      M       employee     0   \n",
       "3             married                 0      M       employee     0   \n",
       "4   civil partnership                 1      F        retiree     0   \n",
       "5   civil partnership                 1      M       business     0   \n",
       "6             married                 0      F       business     0   \n",
       "7             married                 0      M       employee     0   \n",
       "8   civil partnership                 1      F       employee     0   \n",
       "9             married                 0      M       employee     0   \n",
       "10            married                 0      M       business     0   \n",
       "11            married                 0      F       employee     0   \n",
       "12  civil partnership                 1      M        retiree     0   \n",
       "13            married                 0      F       employee     0   \n",
       "14  civil partnership                 1      F       business     1   \n",
       "15            married                 0      F       employee     0   \n",
       "16            married                 0      F       employee     0   \n",
       "17  civil partnership                 1      M       employee     0   \n",
       "18    widow / widower                 2      F        retiree     0   \n",
       "19           divorced                 3      F       employee     0   \n",
       "20            married                 0      M       employee     0   \n",
       "21  civil partnership                 1      F       employee     0   \n",
       "22  civil partnership                 1      F       employee     0   \n",
       "23  civil partnership                 1      M       employee     0   \n",
       "24          unmarried                 4      F        retiree     0   \n",
       "25            married                 0      M        retiree     0   \n",
       "26            married                 0      M  civil servant     0   \n",
       "27            married                 0      M       employee     0   \n",
       "28            married                 0      F       employee     0   \n",
       "29          unmarried                 4      F        retiree     0   \n",
       "30            married                 0      F        retiree     0   \n",
       "31            married                 0      F       employee     0   \n",
       "32  civil partnership                 1      F       employee     1   \n",
       "33            married                 0      F       business     0   \n",
       "34            married                 0      F       employee     0   \n",
       "35  civil partnership                 1      M        retiree     0   \n",
       "36          unmarried                 4      M       employee     0   \n",
       "37  civil partnership                 1      F       business     0   \n",
       "38          unmarried                 4      M       employee     1   \n",
       "39  civil partnership                 1      F       business     0   \n",
       "40          unmarried                 4      M       business     0   \n",
       "41            married                 0      F  civil servant     0   \n",
       "42          unmarried                 4      F       employee     0   \n",
       "43           divorced                 3      F       business     0   \n",
       "44            married                 0      F       employee     0   \n",
       "45          unmarried                 4      F       employee     0   \n",
       "46            married                 0      F       business     0   \n",
       "47  civil partnership                 1      M  civil servant     0   \n",
       "48            married                 0      F       employee     0   \n",
       "49            married                 0      F       employee     0   \n",
       "\n",
       "    total_income                                   purpose  \n",
       "0      40620.102                     purchase of the house  \n",
       "1      17932.802                              car purchase  \n",
       "2      23341.752                     purchase of the house  \n",
       "3      42820.568                   supplementary education  \n",
       "4      25378.572                         to have a wedding  \n",
       "5      40922.170                     purchase of the house  \n",
       "6      38484.156                      housing transactions  \n",
       "7      21731.829                                 education  \n",
       "8      15337.093                          having a wedding  \n",
       "9      23108.150       purchase of the house for my family  \n",
       "10     18230.959                           buy real estate  \n",
       "11     12331.077                buy commercial real estate  \n",
       "12           NaN                         to have a wedding  \n",
       "13     20873.317                              car purchase  \n",
       "14     26420.466               buy residential real estate  \n",
       "15     18691.345              construction of own property  \n",
       "16     46272.433                                  property  \n",
       "17     14465.694                       building a property  \n",
       "18      9091.804                  buying a second-hand car  \n",
       "19     38852.977                         buying my own car  \n",
       "20     33528.423                                  property  \n",
       "21     21089.953                              car purchase  \n",
       "22     23948.983                  buying a second-hand car  \n",
       "23     20522.515                         to have a wedding  \n",
       "24     46487.558  transactions with commercial real estate  \n",
       "25      8818.041                           buy real estate  \n",
       "26           NaN                                 education  \n",
       "27     49415.837              construction of own property  \n",
       "28     30058.118              construction of own property  \n",
       "29           NaN                    building a real estate  \n",
       "30     27432.971  transactions with commercial real estate  \n",
       "31     44077.710                                   housing  \n",
       "32     22249.194                          having a wedding  \n",
       "33     25159.326                     purchase of the house  \n",
       "34     16745.672          transactions with my real estate  \n",
       "35     12448.908                          having a wedding  \n",
       "36     22212.904                                      cars  \n",
       "37     24660.621                              car purchase  \n",
       "38     30759.568                                 education  \n",
       "39    120678.528                        to become educated  \n",
       "40     22858.493                           buy real estate  \n",
       "41           NaN                  second-hand car purchase  \n",
       "42     13130.414                      getting an education  \n",
       "43     43673.141                              car purchase  \n",
       "44     16124.879                         buying my own car  \n",
       "45     17021.747                        to become educated  \n",
       "46     29229.194                  second-hand car purchase  \n",
       "47     57004.465                          having a wedding  \n",
       "48     25930.483              construction of own property  \n",
       "49      7134.689                                       car  "
      ]
     },
     "execution_count": 8,
     "metadata": {},
     "output_type": "execute_result"
    }
   ],
   "source": [
    "df.head(50)"
   ]
  },
  {
   "cell_type": "code",
   "execution_count": 9,
   "metadata": {},
   "outputs": [
    {
     "data": {
      "text/plain": [
       " 0     1439\n",
       " 1      475\n",
       " 2      204\n",
       " 3       36\n",
       " 20       9\n",
       " 4        7\n",
       "-1        3\n",
       " 5        1\n",
       "Name: children, dtype: int64"
      ]
     },
     "execution_count": 9,
     "metadata": {},
     "output_type": "execute_result"
    }
   ],
   "source": [
    "#Investigate clients who do not have data on identified characteristics and the column with the missing values\n",
    "missing_data = df[(df[\"days_employed\"].isna()) | (df[\"total_income\"].isna())]\n",
    "missing_data[\"children\"].value_counts()\n",
    "# comparing distribution of null value dataframe to entire dataframe on children column"
   ]
  },
  {
   "cell_type": "code",
   "execution_count": 10,
   "metadata": {},
   "outputs": [
    {
     "data": {
      "text/plain": [
       " 0     0.661914\n",
       " 1     0.218491\n",
       " 2     0.093836\n",
       " 3     0.016559\n",
       " 20    0.004140\n",
       " 4     0.003220\n",
       "-1     0.001380\n",
       " 5     0.000460\n",
       "Name: children, dtype: float64"
      ]
     },
     "execution_count": 10,
     "metadata": {},
     "output_type": "execute_result"
    }
   ],
   "source": [
    "#comparing distribution of non-null value dataframe to entire dataframe on children column\n",
    "missing_data[\"children\"].value_counts()/missing_data.shape[0]"
   ]
  },
  {
   "cell_type": "code",
   "execution_count": 11,
   "metadata": {},
   "outputs": [
    {
     "data": {
      "text/plain": [
       " 0     0.657329\n",
       " 1     0.223833\n",
       " 2     0.095470\n",
       " 3     0.015331\n",
       " 20    0.003531\n",
       "-1     0.002184\n",
       " 4     0.001905\n",
       " 5     0.000418\n",
       "Name: children, dtype: float64"
      ]
     },
     "execution_count": 11,
     "metadata": {},
     "output_type": "execute_result"
    }
   ],
   "source": [
    "#comparing distribution of non-null value dataframe to entire dataframe on children column\n",
    "df[\"children\"].value_counts()/df.shape[0]\n"
   ]
  },
  {
   "cell_type": "markdown",
   "metadata": {},
   "source": [
    "The distribution of the filtered dataset and the whole dataset on the children columnn is similar. Also there are outlier values of -1 and 20 that are present in the filtered set whhich will be handled later."
   ]
  },
  {
   "cell_type": "code",
   "execution_count": 12,
   "metadata": {},
   "outputs": [
    {
     "data": {
      "text/plain": [
       "secondary education    0.647654\n",
       "bachelor's degree      0.228151\n",
       "SECONDARY EDUCATION    0.030819\n",
       "Secondary Education    0.029899\n",
       "some college           0.025299\n",
       "Bachelor's Degree      0.011500\n",
       "BACHELOR'S DEGREE      0.010580\n",
       "primary education      0.008740\n",
       "Some College           0.003220\n",
       "SOME COLLEGE           0.003220\n",
       "Primary Education      0.000460\n",
       "PRIMARY EDUCATION      0.000460\n",
       "Name: education, dtype: float64"
      ]
     },
     "execution_count": 12,
     "metadata": {},
     "output_type": "execute_result"
    }
   ],
   "source": [
    "#comparing distribution of non-null value dataframe to entire dataframe on days_employed column\n",
    "missing_data[\"education\"].value_counts()/missing_data.shape[0]\n"
   ]
  },
  {
   "cell_type": "code",
   "execution_count": 13,
   "metadata": {},
   "outputs": [
    {
     "data": {
      "text/plain": [
       "secondary education    0.638792\n",
       "bachelor's degree      0.219187\n",
       "SECONDARY EDUCATION    0.035865\n",
       "Secondary Education    0.033031\n",
       "some college           0.031034\n",
       "BACHELOR'S DEGREE      0.012729\n",
       "Bachelor's Degree      0.012451\n",
       "primary education      0.011614\n",
       "Some College           0.002184\n",
       "SOME COLLEGE           0.001347\n",
       "PRIMARY EDUCATION      0.000790\n",
       "Primary Education      0.000697\n",
       "graduate degree        0.000186\n",
       "Graduate Degree        0.000046\n",
       "GRADUATE DEGREE        0.000046\n",
       "Name: education, dtype: float64"
      ]
     },
     "execution_count": 13,
     "metadata": {},
     "output_type": "execute_result"
    }
   ],
   "source": [
    "#comparing distribution of non-null value dataframe to entire dataframe on children column\n",
    "df[\"education\"].value_counts()/df.shape[0]\n"
   ]
  },
  {
   "cell_type": "markdown",
   "metadata": {},
   "source": [
    "There are values for rows that are present in the non-null dataframe, and are absent in the entire dataframe. After taking a close look, I found out that they are duplicates. Those duplicates would be dealt with later in the course of this project. \n",
    "Also, it was discovered that there is graduate degree in the entire dataframe, which is missing in the filtered dataset.\n",
    "The distribution of this columnn is similar between the filtered dataset and the whole dataset."
   ]
  },
  {
   "cell_type": "code",
   "execution_count": 14,
   "metadata": {},
   "outputs": [
    {
     "data": {
      "text/plain": [
       "employee         0.508280\n",
       "business         0.233671\n",
       "retiree          0.189972\n",
       "civil servant    0.067617\n",
       "entrepreneur     0.000460\n",
       "Name: income_type, dtype: float64"
      ]
     },
     "execution_count": 14,
     "metadata": {},
     "output_type": "execute_result"
    }
   ],
   "source": [
    "#comparing distribution of non-null value dataframe to entire dataframe on income_type column\n",
    "missing_data[\"income_type\"].value_counts()/missing_data.shape[0]\n"
   ]
  },
  {
   "cell_type": "code",
   "execution_count": 15,
   "metadata": {},
   "outputs": [
    {
     "data": {
      "text/plain": [
       "employee                       0.516562\n",
       "business                       0.236237\n",
       "retiree                        0.179141\n",
       "civil servant                  0.067782\n",
       "unemployed                     0.000093\n",
       "entrepreneur                   0.000093\n",
       "student                        0.000046\n",
       "paternity / maternity leave    0.000046\n",
       "Name: income_type, dtype: float64"
      ]
     },
     "execution_count": 15,
     "metadata": {},
     "output_type": "execute_result"
    }
   ],
   "source": [
    "#comparing distribution of non-null value dataframe to entire dataframe on income_type column\n",
    "df[\"income_type\"].value_counts()/df.shape[0]\n"
   ]
  },
  {
   "cell_type": "markdown",
   "metadata": {},
   "source": [
    "The income_type column has two more category of people, which are students, and those on paternity/maternity leave in the whole dataset. The distribution for this columnn is similar between the rows of data that have null values, and the rows of data that do not have null values. \n"
   ]
  },
  {
   "cell_type": "code",
   "execution_count": 16,
   "metadata": {},
   "outputs": [
    {
     "data": {
      "text/plain": [
       "married              0.568997\n",
       "civil partnership    0.203312\n",
       "unmarried            0.132475\n",
       "divorced             0.051518\n",
       "widow / widower      0.043698\n",
       "Name: family_status, dtype: float64"
      ]
     },
     "execution_count": 16,
     "metadata": {},
     "output_type": "execute_result"
    }
   ],
   "source": [
    "#comparing distribution of non-null value dataframe to entire dataframe on family_status column\n",
    "missing_data[\"family_status\"].value_counts()/missing_data.shape[0]\n"
   ]
  },
  {
   "cell_type": "code",
   "execution_count": 17,
   "metadata": {},
   "outputs": [
    {
     "data": {
      "text/plain": [
       "married              0.575145\n",
       "civil partnership    0.194053\n",
       "unmarried            0.130685\n",
       "divorced             0.055517\n",
       "widow / widower      0.044599\n",
       "Name: family_status, dtype: float64"
      ]
     },
     "execution_count": 17,
     "metadata": {},
     "output_type": "execute_result"
    }
   ],
   "source": [
    "#comparing distribution of non-null value dataframe to entire dataframe on income_type column\n",
    "df[\"family_status\"].value_counts()/df.shape[0]"
   ]
  },
  {
   "cell_type": "markdown",
   "metadata": {},
   "source": [
    "The distribution of the family_status columnn is similar between the filtered dataset, and the whole dataset. "
   ]
  },
  {
   "cell_type": "markdown",
   "metadata": {},
   "source": [
    "**Possible reasons for missing values in data**\n",
    "\n",
    "The missing values in our dataset are given as Nan(Not a Number), which is a float, telling us that mathematical operations can be performed on them. The missing values in this dataset are most likely due to errors when copying data, or technical errors. \n"
   ]
  },
  {
   "cell_type": "markdown",
   "metadata": {},
   "source": [
    "**Intermediate conclusion**\n",
    "The distribution in the original dataset is very similar to the filtered table. Therefore, we can conclude that missing values in the dataset are randomly generated. There is no specific pattern to them\n"
   ]
  },
  {
   "cell_type": "markdown",
   "metadata": {},
   "source": [
    "**Conclusions**\n",
    "\n",
    "No patterns were found in the dataset. This conclusion was arrived at due to the similarity in the distribution of the filtered dataset, and the whole dataset.\n",
    "\n",
    "To transform the data, I found out that there are duplicates in the education column. I have to take those duplicates out. Also for the sake of ease in manipulating data, I have to convert all the values in total_income column from floats to integers. The negative values in the days_employed column would be removed by taking the absolute value. Also, outlier values will be removed from the column by taking out all the years greater than 60, and converting them to days. Lastly, I would replace the missing values in the total_income column with the median."
   ]
  },
  {
   "cell_type": "markdown",
   "metadata": {},
   "source": [
    "## Data transformation\n",
    "\n"
   ]
  },
  {
   "cell_type": "code",
   "execution_count": 18,
   "metadata": {},
   "outputs": [
    {
     "name": "stdout",
     "output_type": "stream",
     "text": [
      "secondary education    13750\n",
      "bachelor's degree       4718\n",
      "SECONDARY EDUCATION      772\n",
      "Secondary Education      711\n",
      "some college             668\n",
      "BACHELOR'S DEGREE        274\n",
      "Bachelor's Degree        268\n",
      "primary education        250\n",
      "Some College              47\n",
      "SOME COLLEGE              29\n",
      "PRIMARY EDUCATION         17\n",
      "Primary Education         15\n",
      "graduate degree            4\n",
      "Graduate Degree            1\n",
      "GRADUATE DEGREE            1\n",
      "Name: education, dtype: int64\n"
     ]
    }
   ],
   "source": [
    "# Values in education column \n",
    "print(df[\"education\"].value_counts())"
   ]
  },
  {
   "cell_type": "code",
   "execution_count": 19,
   "metadata": {
    "scrolled": true
   },
   "outputs": [
    {
     "data": {
      "text/plain": [
       "secondary education    15233\n",
       "bachelor's degree       5260\n",
       "some college             744\n",
       "primary education        282\n",
       "graduate degree            6\n",
       "Name: education, dtype: int64"
      ]
     },
     "execution_count": 19,
     "metadata": {},
     "output_type": "execute_result"
    }
   ],
   "source": [
    "# After errors were fixed\n",
    "df[\"education\"] = df[\"education\"].str.lower() #applies the lower string to all the rows in the education column\n",
    "df[\"education\"].value_counts() #"
   ]
  },
  {
   "cell_type": "markdown",
   "metadata": {},
   "source": [
    "All the values in the \"education\" column have been converted to lowercase, and the incorrect registers have been fixed, thereby eliminating duplicates"
   ]
  },
  {
   "cell_type": "code",
   "execution_count": 20,
   "metadata": {},
   "outputs": [
    {
     "data": {
      "text/plain": [
       " 0     0.657329\n",
       " 1     0.223833\n",
       " 2     0.095470\n",
       " 3     0.015331\n",
       " 20    0.003531\n",
       "-1     0.002184\n",
       " 4     0.001905\n",
       " 5     0.000418\n",
       "Name: children, dtype: float64"
      ]
     },
     "execution_count": 20,
     "metadata": {},
     "output_type": "execute_result"
    }
   ],
   "source": [
    "# Checking the distribution in the \"children's column\"\n",
    "df[\"children\"].value_counts()/df[\"children\"].shape[0]"
   ]
  },
  {
   "cell_type": "code",
   "execution_count": 21,
   "metadata": {},
   "outputs": [
    {
     "name": "stdout",
     "output_type": "stream",
     "text": [
      "The number of negative and outlier values is 0.005714285714285714\n"
     ]
    }
   ],
   "source": [
    "neg_values_children = df.loc[df[\"children\"] == -1].shape[0]\n",
    "outlier_values_children = df.loc[df[\"children\"] == 20].shape[0]\n",
    "\n",
    "sum_total = (neg_values_children + outlier_values_children)/df.shape[0]\n",
    "\n",
    "print(f\"The number of negative and outlier values is {sum_total}\")"
   ]
  },
  {
   "cell_type": "markdown",
   "metadata": {},
   "source": [
    "There are values of -1, and 20 in the children's column, these errors make up 0.006% of the whole dataset. These errors could have stemmed from mistakes while filling in the data. Also, the outlier values might be due totechnical errors while transferring the data. To address this issue, the median of the whole children column is calculated, and it is used to replace the -1 and 20 values"
   ]
  },
  {
   "cell_type": "code",
   "execution_count": 22,
   "metadata": {},
   "outputs": [],
   "source": [
    "# To fix the data \n",
    "\n",
    "median = df.loc[(df['children'] != -1) & (df['children'] != 20), 'children'].median()\n",
    "\n",
    "#df.loc[(df['children'] == -1) or (df['children'] == 20), \"children\"] = median\n",
    "\n",
    "df.loc[(df['children'] == -1) | (df['children'] == 20), \"children\"] = median"
   ]
  },
  {
   "cell_type": "code",
   "execution_count": 23,
   "metadata": {},
   "outputs": [
    {
     "data": {
      "text/plain": [
       "0.0    14272\n",
       "1.0     4818\n",
       "2.0     2055\n",
       "3.0      330\n",
       "4.0       41\n",
       "5.0        9\n",
       "Name: children, dtype: int64"
      ]
     },
     "execution_count": 23,
     "metadata": {},
     "output_type": "execute_result"
    }
   ],
   "source": [
    "df[\"children\"].value_counts()"
   ]
  },
  {
   "cell_type": "markdown",
   "metadata": {},
   "source": [
    "In the days_employed column the data has negative values, also there are outliers in the dataset. To fix this column, I would take the absolute value of the days_employed column to remove the negative values."
   ]
  },
  {
   "cell_type": "code",
   "execution_count": 24,
   "metadata": {},
   "outputs": [
    {
     "data": {
      "text/plain": [
       "0.7389547038327526"
      ]
     },
     "execution_count": 24,
     "metadata": {},
     "output_type": "execute_result"
    }
   ],
   "source": [
    "df[df[\"days_employed\"] < 0].shape[0]/df.shape[0]"
   ]
  },
  {
   "cell_type": "markdown",
   "metadata": {},
   "source": [
    "The number of values that are negative in the days_employed column is 15906, and the percentage is 73.8%"
   ]
  },
  {
   "cell_type": "code",
   "execution_count": 25,
   "metadata": {},
   "outputs": [
    {
     "data": {
      "text/plain": [
       "0.7389547038327526"
      ]
     },
     "execution_count": 25,
     "metadata": {},
     "output_type": "execute_result"
    }
   ],
   "source": [
    "df.loc[df[\"days_employed\"] < 0, \"days_employed\"].shape[0]/df.shape[0] #gives the percentage of the negative values in the dataset"
   ]
  },
  {
   "cell_type": "code",
   "execution_count": 26,
   "metadata": {},
   "outputs": [],
   "source": [
    "#First we need to get the absolute value of days_employed column to remove the -ve values\n",
    "df[\"days_employed\"] = df[\"days_employed\"].abs()"
   ]
  },
  {
   "cell_type": "code",
   "execution_count": 27,
   "metadata": {},
   "outputs": [
    {
     "data": {
      "text/plain": [
       "401755.40047533"
      ]
     },
     "execution_count": 27,
     "metadata": {},
     "output_type": "execute_result"
    }
   ],
   "source": [
    "#Getting the maximum value from days_employed column\n",
    "df[\"days_employed\"].max()"
   ]
  },
  {
   "cell_type": "code",
   "execution_count": 28,
   "metadata": {},
   "outputs": [
    {
     "data": {
      "text/plain": [
       "24.14163324048118"
      ]
     },
     "execution_count": 28,
     "metadata": {},
     "output_type": "execute_result"
    }
   ],
   "source": [
    "#Getting the minimum value from days_employed column\n",
    "df[\"days_employed\"].min()"
   ]
  },
  {
   "cell_type": "markdown",
   "metadata": {},
   "source": [
    "The maximum number of days worked by a person in the day_employed column is 401,755. When converted to years, that is 1,100 years. This is obviously an outlier value. To take out the outlier values, We filter out all ages greater than 65 years. This is because 65 is the average age for retirement."
   ]
  },
  {
   "cell_type": "code",
   "execution_count": 29,
   "metadata": {},
   "outputs": [],
   "source": [
    "#To remove outlier values, I calculate the number of years worked into days 65years * 365 days =23725\n",
    "df.loc[df[\"days_employed\"] > 23725, \"days_employed\"] = df.loc[df[\"days_employed\"] < 23725, \"days_employed\"].median()"
   ]
  },
  {
   "cell_type": "code",
   "execution_count": 30,
   "metadata": {},
   "outputs": [
    {
     "data": {
      "text/plain": [
       "1630.019381    3445\n",
       "142.276217        1\n",
       "144.185854        1\n",
       "2569.204627       1\n",
       "3545.955468       1\n",
       "               ... \n",
       "2152.475526       1\n",
       "6219.157426       1\n",
       "5873.586442       1\n",
       "3355.260838       1\n",
       "1636.419775       1\n",
       "Name: days_employed, Length: 15907, dtype: int64"
      ]
     },
     "execution_count": 30,
     "metadata": {},
     "output_type": "execute_result"
    }
   ],
   "source": [
    "df[\"days_employed\"].value_counts() #outliers have been replace with the median. Also, 3445 is the number of the outliers."
   ]
  },
  {
   "cell_type": "markdown",
   "metadata": {},
   "source": [
    "The outlier values have been replaced with the median age. The number of values that are outliers is 3445"
   ]
  },
  {
   "cell_type": "markdown",
   "metadata": {},
   "source": [
    "Taking a look at the client's age to se if there are any anomalies in the data. "
   ]
  },
  {
   "cell_type": "code",
   "execution_count": 31,
   "metadata": {
    "scrolled": true
   },
   "outputs": [
    {
     "data": {
      "text/plain": [
       "35    617\n",
       "40    609\n",
       "41    607\n",
       "34    603\n",
       "38    598\n",
       "42    597\n",
       "33    581\n",
       "39    573\n",
       "31    560\n",
       "36    555\n",
       "44    547\n",
       "29    545\n",
       "30    540\n",
       "48    538\n",
       "37    537\n",
       "50    514\n",
       "43    513\n",
       "32    510\n",
       "49    508\n",
       "28    503\n",
       "45    497\n",
       "27    493\n",
       "56    487\n",
       "52    484\n",
       "47    480\n",
       "54    479\n",
       "46    475\n",
       "58    461\n",
       "57    460\n",
       "53    459\n",
       "51    448\n",
       "59    444\n",
       "55    443\n",
       "26    408\n",
       "60    377\n",
       "25    357\n",
       "61    355\n",
       "62    352\n",
       "63    269\n",
       "64    265\n",
       "24    264\n",
       "23    254\n",
       "65    194\n",
       "66    183\n",
       "22    183\n",
       "67    167\n",
       "21    111\n",
       "0     101\n",
       "68     99\n",
       "69     85\n",
       "70     65\n",
       "71     58\n",
       "20     51\n",
       "72     33\n",
       "19     14\n",
       "73      8\n",
       "74      6\n",
       "75      1\n",
       "Name: dob_years, dtype: int64"
      ]
     },
     "execution_count": 31,
     "metadata": {},
     "output_type": "execute_result"
    }
   ],
   "source": [
    "# Check the `dob_years` for suspicious values and count the percentage\n",
    "df[\"dob_years\"].value_counts()"
   ]
  },
  {
   "cell_type": "markdown",
   "metadata": {},
   "source": [
    "Of the 21525 values in the dob_years columns, there are 101 people who have their date of birth recorded as 0. We fill these rows with mean of the dob_years column"
   ]
  },
  {
   "cell_type": "code",
   "execution_count": 32,
   "metadata": {},
   "outputs": [],
   "source": [
    "# Address the issues in the `dob_years` column, if they exist\n",
    "df.loc[df[\"dob_years\"] == 0, \"dob_years\"] = df.loc[df[\"dob_years\"] > 0, \"dob_years\"].mean()"
   ]
  },
  {
   "cell_type": "code",
   "execution_count": 33,
   "metadata": {},
   "outputs": [
    {
     "data": {
      "text/plain": [
       "0"
      ]
     },
     "execution_count": 33,
     "metadata": {},
     "output_type": "execute_result"
    }
   ],
   "source": [
    "# Check the result - make sure it's fixed\n",
    "df[df[\"dob_years\"] == 0].shape[0]"
   ]
  },
  {
   "cell_type": "markdown",
   "metadata": {},
   "source": [
    "Checking the values for the family_status column, to see if there are any issues."
   ]
  },
  {
   "cell_type": "code",
   "execution_count": 34,
   "metadata": {},
   "outputs": [
    {
     "data": {
      "text/plain": [
       "married              12380\n",
       "civil partnership     4177\n",
       "unmarried             2813\n",
       "divorced              1195\n",
       "widow / widower        960\n",
       "Name: family_status, dtype: int64"
      ]
     },
     "execution_count": 34,
     "metadata": {},
     "output_type": "execute_result"
    }
   ],
   "source": [
    "# Let's see the values for the column\n",
    "df[\"family_status\"].value_counts()"
   ]
  },
  {
   "cell_type": "markdown",
   "metadata": {},
   "source": [
    "The family_status column has no issues. \n",
    "\n"
   ]
  },
  {
   "cell_type": "markdown",
   "metadata": {},
   "source": [
    "Taking a look at the gender column to fix the issues there."
   ]
  },
  {
   "cell_type": "code",
   "execution_count": 35,
   "metadata": {},
   "outputs": [
    {
     "data": {
      "text/plain": [
       "F      14236\n",
       "M       7288\n",
       "XNA        1\n",
       "Name: gender, dtype: int64"
      ]
     },
     "execution_count": 35,
     "metadata": {},
     "output_type": "execute_result"
    }
   ],
   "source": [
    "# Let's see the values in the column\n",
    "df[\"gender\"].value_counts()"
   ]
  },
  {
   "cell_type": "markdown",
   "metadata": {},
   "source": [
    "There are about 14236 Females, and 7288 Males. However, there is a strange gender XNA. I will leave it like that."
   ]
  },
  {
   "cell_type": "markdown",
   "metadata": {},
   "source": [
    "Checking the income_type column"
   ]
  },
  {
   "cell_type": "code",
   "execution_count": 36,
   "metadata": {},
   "outputs": [
    {
     "data": {
      "text/plain": [
       "employee                       11119\n",
       "business                        5085\n",
       "retiree                         3856\n",
       "civil servant                   1459\n",
       "unemployed                         2\n",
       "entrepreneur                       2\n",
       "student                            1\n",
       "paternity / maternity leave        1\n",
       "Name: income_type, dtype: int64"
      ]
     },
     "execution_count": 36,
     "metadata": {},
     "output_type": "execute_result"
    }
   ],
   "source": [
    "# Let's see the values in the column\n",
    "df[\"income_type\"].value_counts()"
   ]
  },
  {
   "cell_type": "markdown",
   "metadata": {},
   "source": [
    "There are no issues with the income_type column."
   ]
  },
  {
   "cell_type": "markdown",
   "metadata": {},
   "source": [
    " Next, I check if there are any duplicates in my data. If there are, I take them out."
   ]
  },
  {
   "cell_type": "code",
   "execution_count": 37,
   "metadata": {},
   "outputs": [
    {
     "data": {
      "text/plain": [
       "71"
      ]
     },
     "execution_count": 37,
     "metadata": {},
     "output_type": "execute_result"
    }
   ],
   "source": [
    "# Checking duplicates\n",
    "df.duplicated().sum()\n"
   ]
  },
  {
   "cell_type": "code",
   "execution_count": 38,
   "metadata": {},
   "outputs": [],
   "source": [
    "# Addressing the duplicates, if they exist\n",
    "df = df.drop_duplicates().reset_index(drop=True)"
   ]
  },
  {
   "cell_type": "code",
   "execution_count": 39,
   "metadata": {},
   "outputs": [
    {
     "data": {
      "text/plain": [
       "0"
      ]
     },
     "execution_count": 39,
     "metadata": {},
     "output_type": "execute_result"
    }
   ],
   "source": [
    "# Checking again for duplicates\n",
    "df.duplicated().sum()"
   ]
  },
  {
   "cell_type": "code",
   "execution_count": 40,
   "metadata": {},
   "outputs": [
    {
     "data": {
      "text/plain": [
       "(21454, 12)"
      ]
     },
     "execution_count": 40,
     "metadata": {},
     "output_type": "execute_result"
    }
   ],
   "source": [
    "# Check the size of the dataset that you now have after your first manipulations with it\n",
    "df.shape"
   ]
  },
  {
   "cell_type": "markdown",
   "metadata": {},
   "source": [
    "After taking out the duplicate values from the dataset, there are 21454 rows of data in the dataset.\n"
   ]
  },
  {
   "cell_type": "markdown",
   "metadata": {},
   "source": [
    "# Working with missing values"
   ]
  },
  {
   "cell_type": "markdown",
   "metadata": {},
   "source": [
    "To speed up working with our dataset, I will pair some columns that form a dictionary namely: education, education id, and family, family_status_id. This was done because the columns are closely related, and they give information about each other."
   ]
  },
  {
   "cell_type": "code",
   "execution_count": 41,
   "metadata": {},
   "outputs": [
    {
     "data": {
      "text/html": [
       "<div>\n",
       "<style scoped>\n",
       "    .dataframe tbody tr th:only-of-type {\n",
       "        vertical-align: middle;\n",
       "    }\n",
       "\n",
       "    .dataframe tbody tr th {\n",
       "        vertical-align: top;\n",
       "    }\n",
       "\n",
       "    .dataframe thead th {\n",
       "        text-align: right;\n",
       "    }\n",
       "</style>\n",
       "<table border=\"1\" class=\"dataframe\">\n",
       "  <thead>\n",
       "    <tr style=\"text-align: right;\">\n",
       "      <th></th>\n",
       "      <th>education</th>\n",
       "      <th>education_id</th>\n",
       "    </tr>\n",
       "  </thead>\n",
       "  <tbody>\n",
       "    <tr>\n",
       "      <th>0</th>\n",
       "      <td>bachelor's degree</td>\n",
       "      <td>0</td>\n",
       "    </tr>\n",
       "    <tr>\n",
       "      <th>1</th>\n",
       "      <td>secondary education</td>\n",
       "      <td>1</td>\n",
       "    </tr>\n",
       "    <tr>\n",
       "      <th>2</th>\n",
       "      <td>some college</td>\n",
       "      <td>2</td>\n",
       "    </tr>\n",
       "    <tr>\n",
       "      <th>3</th>\n",
       "      <td>primary education</td>\n",
       "      <td>3</td>\n",
       "    </tr>\n",
       "    <tr>\n",
       "      <th>4</th>\n",
       "      <td>graduate degree</td>\n",
       "      <td>4</td>\n",
       "    </tr>\n",
       "  </tbody>\n",
       "</table>\n",
       "</div>"
      ],
      "text/plain": [
       "             education  education_id\n",
       "0    bachelor's degree             0\n",
       "1  secondary education             1\n",
       "2         some college             2\n",
       "3    primary education             3\n",
       "4      graduate degree             4"
      ]
     },
     "execution_count": 41,
     "metadata": {},
     "output_type": "execute_result"
    }
   ],
   "source": [
    "# Pairing the dictionaries education and education_id\n",
    "df[[\"education\",\"education_id\"]].drop_duplicates().reset_index(drop=True)\n"
   ]
  },
  {
   "cell_type": "code",
   "execution_count": 42,
   "metadata": {},
   "outputs": [
    {
     "data": {
      "text/html": [
       "<div>\n",
       "<style scoped>\n",
       "    .dataframe tbody tr th:only-of-type {\n",
       "        vertical-align: middle;\n",
       "    }\n",
       "\n",
       "    .dataframe tbody tr th {\n",
       "        vertical-align: top;\n",
       "    }\n",
       "\n",
       "    .dataframe thead th {\n",
       "        text-align: right;\n",
       "    }\n",
       "</style>\n",
       "<table border=\"1\" class=\"dataframe\">\n",
       "  <thead>\n",
       "    <tr style=\"text-align: right;\">\n",
       "      <th></th>\n",
       "      <th>family_status</th>\n",
       "      <th>family_status_id</th>\n",
       "    </tr>\n",
       "  </thead>\n",
       "  <tbody>\n",
       "    <tr>\n",
       "      <th>0</th>\n",
       "      <td>married</td>\n",
       "      <td>0</td>\n",
       "    </tr>\n",
       "    <tr>\n",
       "      <th>1</th>\n",
       "      <td>civil partnership</td>\n",
       "      <td>1</td>\n",
       "    </tr>\n",
       "    <tr>\n",
       "      <th>2</th>\n",
       "      <td>widow / widower</td>\n",
       "      <td>2</td>\n",
       "    </tr>\n",
       "    <tr>\n",
       "      <th>3</th>\n",
       "      <td>divorced</td>\n",
       "      <td>3</td>\n",
       "    </tr>\n",
       "    <tr>\n",
       "      <th>4</th>\n",
       "      <td>unmarried</td>\n",
       "      <td>4</td>\n",
       "    </tr>\n",
       "  </tbody>\n",
       "</table>\n",
       "</div>"
      ],
      "text/plain": [
       "       family_status  family_status_id\n",
       "0            married                 0\n",
       "1  civil partnership                 1\n",
       "2    widow / widower                 2\n",
       "3           divorced                 3\n",
       "4          unmarried                 4"
      ]
     },
     "execution_count": 42,
     "metadata": {},
     "output_type": "execute_result"
    }
   ],
   "source": [
    "# Pairing the dictionaries family_status, and family_status_id\n",
    "df[[\"family_status\", \"family_status_id\"]].drop_duplicates().reset_index(drop=True)"
   ]
  },
  {
   "cell_type": "markdown",
   "metadata": {},
   "source": [
    "### Restoring missing values in `total_income`"
   ]
  },
  {
   "cell_type": "markdown",
   "metadata": {},
   "source": [
    "The days_column, and total_income, both have missing values. Here I would deal with the total_income, by checking the missing values, and replcaing with either the mean or median. First, I would check for outliers. If there are outliers, then I would use the median. If there are no outliers, then I would use the median. \n",
    "However, I would first group the ages into categories, to enable me calculate the values for the total income.\n"
   ]
  },
  {
   "cell_type": "code",
   "execution_count": 43,
   "metadata": {},
   "outputs": [],
   "source": [
    "# Let's write a function that calculates the age category\n",
    "def age_category(age):\n",
    "    if age < 18:\n",
    "        return \"below 18\"\n",
    "    if age > 18 and age < 25:\n",
    "        return \"18 - 25\"\n",
    "    if age >25 and age < 45:\n",
    "        return \"25 - 45\"\n",
    "    if age > 45 and age < 65:\n",
    "        return \"45 -65\"\n",
    "    return \"above 65\" \n",
    "\n",
    "    "
   ]
  },
  {
   "cell_type": "code",
   "execution_count": 44,
   "metadata": {},
   "outputs": [
    {
     "data": {
      "text/plain": [
       "75.0"
      ]
     },
     "execution_count": 44,
     "metadata": {},
     "output_type": "execute_result"
    }
   ],
   "source": [
    "#Checking the Max age\n",
    "df[\"dob_years\"].max()"
   ]
  },
  {
   "cell_type": "code",
   "execution_count": 45,
   "metadata": {},
   "outputs": [
    {
     "data": {
      "text/plain": [
       "19.0"
      ]
     },
     "execution_count": 45,
     "metadata": {},
     "output_type": "execute_result"
    }
   ],
   "source": [
    "#Checking the minimum age\n",
    "df[\"dob_years\"].min()"
   ]
  },
  {
   "cell_type": "code",
   "execution_count": 46,
   "metadata": {},
   "outputs": [
    {
     "name": "stdout",
     "output_type": "stream",
     "text": [
      "18 - 25\n"
     ]
    }
   ],
   "source": [
    "# Testing the function\n",
    "print(age_category(20))"
   ]
  },
  {
   "cell_type": "code",
   "execution_count": 47,
   "metadata": {},
   "outputs": [],
   "source": [
    "# Creating new column based on function\n",
    "df[\"dob_years_groups\"] = df[\"dob_years\"].apply(age_category)"
   ]
  },
  {
   "cell_type": "code",
   "execution_count": 48,
   "metadata": {},
   "outputs": [
    {
     "data": {
      "text/html": [
       "<div>\n",
       "<style scoped>\n",
       "    .dataframe tbody tr th:only-of-type {\n",
       "        vertical-align: middle;\n",
       "    }\n",
       "\n",
       "    .dataframe tbody tr th {\n",
       "        vertical-align: top;\n",
       "    }\n",
       "\n",
       "    .dataframe thead th {\n",
       "        text-align: right;\n",
       "    }\n",
       "</style>\n",
       "<table border=\"1\" class=\"dataframe\">\n",
       "  <thead>\n",
       "    <tr style=\"text-align: right;\">\n",
       "      <th></th>\n",
       "      <th>children</th>\n",
       "      <th>days_employed</th>\n",
       "      <th>dob_years</th>\n",
       "      <th>education</th>\n",
       "      <th>education_id</th>\n",
       "      <th>family_status</th>\n",
       "      <th>family_status_id</th>\n",
       "      <th>gender</th>\n",
       "      <th>income_type</th>\n",
       "      <th>debt</th>\n",
       "      <th>total_income</th>\n",
       "      <th>purpose</th>\n",
       "      <th>dob_years_groups</th>\n",
       "    </tr>\n",
       "  </thead>\n",
       "  <tbody>\n",
       "    <tr>\n",
       "      <th>0</th>\n",
       "      <td>1.0</td>\n",
       "      <td>8437.673028</td>\n",
       "      <td>42.0</td>\n",
       "      <td>bachelor's degree</td>\n",
       "      <td>0</td>\n",
       "      <td>married</td>\n",
       "      <td>0</td>\n",
       "      <td>F</td>\n",
       "      <td>employee</td>\n",
       "      <td>0</td>\n",
       "      <td>40620.102</td>\n",
       "      <td>purchase of the house</td>\n",
       "      <td>25 - 45</td>\n",
       "    </tr>\n",
       "    <tr>\n",
       "      <th>1</th>\n",
       "      <td>1.0</td>\n",
       "      <td>4024.803754</td>\n",
       "      <td>36.0</td>\n",
       "      <td>secondary education</td>\n",
       "      <td>1</td>\n",
       "      <td>married</td>\n",
       "      <td>0</td>\n",
       "      <td>F</td>\n",
       "      <td>employee</td>\n",
       "      <td>0</td>\n",
       "      <td>17932.802</td>\n",
       "      <td>car purchase</td>\n",
       "      <td>25 - 45</td>\n",
       "    </tr>\n",
       "    <tr>\n",
       "      <th>2</th>\n",
       "      <td>0.0</td>\n",
       "      <td>5623.422610</td>\n",
       "      <td>33.0</td>\n",
       "      <td>secondary education</td>\n",
       "      <td>1</td>\n",
       "      <td>married</td>\n",
       "      <td>0</td>\n",
       "      <td>M</td>\n",
       "      <td>employee</td>\n",
       "      <td>0</td>\n",
       "      <td>23341.752</td>\n",
       "      <td>purchase of the house</td>\n",
       "      <td>25 - 45</td>\n",
       "    </tr>\n",
       "    <tr>\n",
       "      <th>3</th>\n",
       "      <td>3.0</td>\n",
       "      <td>4124.747207</td>\n",
       "      <td>32.0</td>\n",
       "      <td>secondary education</td>\n",
       "      <td>1</td>\n",
       "      <td>married</td>\n",
       "      <td>0</td>\n",
       "      <td>M</td>\n",
       "      <td>employee</td>\n",
       "      <td>0</td>\n",
       "      <td>42820.568</td>\n",
       "      <td>supplementary education</td>\n",
       "      <td>25 - 45</td>\n",
       "    </tr>\n",
       "    <tr>\n",
       "      <th>4</th>\n",
       "      <td>0.0</td>\n",
       "      <td>1630.019381</td>\n",
       "      <td>53.0</td>\n",
       "      <td>secondary education</td>\n",
       "      <td>1</td>\n",
       "      <td>civil partnership</td>\n",
       "      <td>1</td>\n",
       "      <td>F</td>\n",
       "      <td>retiree</td>\n",
       "      <td>0</td>\n",
       "      <td>25378.572</td>\n",
       "      <td>to have a wedding</td>\n",
       "      <td>45 -65</td>\n",
       "    </tr>\n",
       "    <tr>\n",
       "      <th>...</th>\n",
       "      <td>...</td>\n",
       "      <td>...</td>\n",
       "      <td>...</td>\n",
       "      <td>...</td>\n",
       "      <td>...</td>\n",
       "      <td>...</td>\n",
       "      <td>...</td>\n",
       "      <td>...</td>\n",
       "      <td>...</td>\n",
       "      <td>...</td>\n",
       "      <td>...</td>\n",
       "      <td>...</td>\n",
       "      <td>...</td>\n",
       "    </tr>\n",
       "    <tr>\n",
       "      <th>21449</th>\n",
       "      <td>1.0</td>\n",
       "      <td>4529.316663</td>\n",
       "      <td>43.0</td>\n",
       "      <td>secondary education</td>\n",
       "      <td>1</td>\n",
       "      <td>civil partnership</td>\n",
       "      <td>1</td>\n",
       "      <td>F</td>\n",
       "      <td>business</td>\n",
       "      <td>0</td>\n",
       "      <td>35966.698</td>\n",
       "      <td>housing transactions</td>\n",
       "      <td>25 - 45</td>\n",
       "    </tr>\n",
       "    <tr>\n",
       "      <th>21450</th>\n",
       "      <td>0.0</td>\n",
       "      <td>1630.019381</td>\n",
       "      <td>67.0</td>\n",
       "      <td>secondary education</td>\n",
       "      <td>1</td>\n",
       "      <td>married</td>\n",
       "      <td>0</td>\n",
       "      <td>F</td>\n",
       "      <td>retiree</td>\n",
       "      <td>0</td>\n",
       "      <td>24959.969</td>\n",
       "      <td>purchase of a car</td>\n",
       "      <td>above 65</td>\n",
       "    </tr>\n",
       "    <tr>\n",
       "      <th>21451</th>\n",
       "      <td>1.0</td>\n",
       "      <td>2113.346888</td>\n",
       "      <td>38.0</td>\n",
       "      <td>secondary education</td>\n",
       "      <td>1</td>\n",
       "      <td>civil partnership</td>\n",
       "      <td>1</td>\n",
       "      <td>M</td>\n",
       "      <td>employee</td>\n",
       "      <td>1</td>\n",
       "      <td>14347.610</td>\n",
       "      <td>property</td>\n",
       "      <td>25 - 45</td>\n",
       "    </tr>\n",
       "    <tr>\n",
       "      <th>21452</th>\n",
       "      <td>3.0</td>\n",
       "      <td>3112.481705</td>\n",
       "      <td>38.0</td>\n",
       "      <td>secondary education</td>\n",
       "      <td>1</td>\n",
       "      <td>married</td>\n",
       "      <td>0</td>\n",
       "      <td>M</td>\n",
       "      <td>employee</td>\n",
       "      <td>1</td>\n",
       "      <td>39054.888</td>\n",
       "      <td>buying my own car</td>\n",
       "      <td>25 - 45</td>\n",
       "    </tr>\n",
       "    <tr>\n",
       "      <th>21453</th>\n",
       "      <td>2.0</td>\n",
       "      <td>1984.507589</td>\n",
       "      <td>40.0</td>\n",
       "      <td>secondary education</td>\n",
       "      <td>1</td>\n",
       "      <td>married</td>\n",
       "      <td>0</td>\n",
       "      <td>F</td>\n",
       "      <td>employee</td>\n",
       "      <td>0</td>\n",
       "      <td>13127.587</td>\n",
       "      <td>to buy a car</td>\n",
       "      <td>25 - 45</td>\n",
       "    </tr>\n",
       "  </tbody>\n",
       "</table>\n",
       "<p>21454 rows × 13 columns</p>\n",
       "</div>"
      ],
      "text/plain": [
       "       children  days_employed  dob_years            education  education_id  \\\n",
       "0           1.0    8437.673028       42.0    bachelor's degree             0   \n",
       "1           1.0    4024.803754       36.0  secondary education             1   \n",
       "2           0.0    5623.422610       33.0  secondary education             1   \n",
       "3           3.0    4124.747207       32.0  secondary education             1   \n",
       "4           0.0    1630.019381       53.0  secondary education             1   \n",
       "...         ...            ...        ...                  ...           ...   \n",
       "21449       1.0    4529.316663       43.0  secondary education             1   \n",
       "21450       0.0    1630.019381       67.0  secondary education             1   \n",
       "21451       1.0    2113.346888       38.0  secondary education             1   \n",
       "21452       3.0    3112.481705       38.0  secondary education             1   \n",
       "21453       2.0    1984.507589       40.0  secondary education             1   \n",
       "\n",
       "           family_status  family_status_id gender income_type  debt  \\\n",
       "0                married                 0      F    employee     0   \n",
       "1                married                 0      F    employee     0   \n",
       "2                married                 0      M    employee     0   \n",
       "3                married                 0      M    employee     0   \n",
       "4      civil partnership                 1      F     retiree     0   \n",
       "...                  ...               ...    ...         ...   ...   \n",
       "21449  civil partnership                 1      F    business     0   \n",
       "21450            married                 0      F     retiree     0   \n",
       "21451  civil partnership                 1      M    employee     1   \n",
       "21452            married                 0      M    employee     1   \n",
       "21453            married                 0      F    employee     0   \n",
       "\n",
       "       total_income                  purpose dob_years_groups  \n",
       "0         40620.102    purchase of the house          25 - 45  \n",
       "1         17932.802             car purchase          25 - 45  \n",
       "2         23341.752    purchase of the house          25 - 45  \n",
       "3         42820.568  supplementary education          25 - 45  \n",
       "4         25378.572        to have a wedding           45 -65  \n",
       "...             ...                      ...              ...  \n",
       "21449     35966.698     housing transactions          25 - 45  \n",
       "21450     24959.969        purchase of a car         above 65  \n",
       "21451     14347.610                 property          25 - 45  \n",
       "21452     39054.888        buying my own car          25 - 45  \n",
       "21453     13127.587             to buy a car          25 - 45  \n",
       "\n",
       "[21454 rows x 13 columns]"
      ]
     },
     "execution_count": 48,
     "metadata": {},
     "output_type": "execute_result"
    }
   ],
   "source": [
    "# Checking how values in the new column\n",
    "df"
   ]
  },
  {
   "cell_type": "code",
   "execution_count": 49,
   "metadata": {},
   "outputs": [
    {
     "data": {
      "text/plain": [
       "25 - 45     10576\n",
       "45 -65       8255\n",
       "above 65     1748\n",
       "18 - 25       875\n",
       "Name: dob_years_groups, dtype: int64"
      ]
     },
     "execution_count": 49,
     "metadata": {},
     "output_type": "execute_result"
    }
   ],
   "source": [
    "#Taking a look at the groups based on their grouped income \n",
    "df[\"dob_years_groups\"].value_counts()"
   ]
  },
  {
   "cell_type": "markdown",
   "metadata": {},
   "source": [
    "To fill the missing values in the column total_income, I would use the mean or median based on their distribution. Then look at the columns that affect the total_income to determine the column that gives the best distribution for either the mean or the median."
   ]
  },
  {
   "cell_type": "markdown",
   "metadata": {},
   "source": [
    "I would create a table without missing values. This new table will be used to fill the missing values"
   ]
  },
  {
   "cell_type": "code",
   "execution_count": 50,
   "metadata": {},
   "outputs": [
    {
     "data": {
      "text/html": [
       "<div>\n",
       "<style scoped>\n",
       "    .dataframe tbody tr th:only-of-type {\n",
       "        vertical-align: middle;\n",
       "    }\n",
       "\n",
       "    .dataframe tbody tr th {\n",
       "        vertical-align: top;\n",
       "    }\n",
       "\n",
       "    .dataframe thead th {\n",
       "        text-align: right;\n",
       "    }\n",
       "</style>\n",
       "<table border=\"1\" class=\"dataframe\">\n",
       "  <thead>\n",
       "    <tr style=\"text-align: right;\">\n",
       "      <th></th>\n",
       "      <th>children</th>\n",
       "      <th>days_employed</th>\n",
       "      <th>dob_years</th>\n",
       "      <th>education</th>\n",
       "      <th>education_id</th>\n",
       "      <th>family_status</th>\n",
       "      <th>family_status_id</th>\n",
       "      <th>gender</th>\n",
       "      <th>income_type</th>\n",
       "      <th>debt</th>\n",
       "      <th>total_income</th>\n",
       "      <th>purpose</th>\n",
       "      <th>dob_years_groups</th>\n",
       "    </tr>\n",
       "  </thead>\n",
       "  <tbody>\n",
       "    <tr>\n",
       "      <th>0</th>\n",
       "      <td>1.0</td>\n",
       "      <td>8437.673028</td>\n",
       "      <td>42.0</td>\n",
       "      <td>bachelor's degree</td>\n",
       "      <td>0</td>\n",
       "      <td>married</td>\n",
       "      <td>0</td>\n",
       "      <td>F</td>\n",
       "      <td>employee</td>\n",
       "      <td>0</td>\n",
       "      <td>40620.102</td>\n",
       "      <td>purchase of the house</td>\n",
       "      <td>25 - 45</td>\n",
       "    </tr>\n",
       "    <tr>\n",
       "      <th>1</th>\n",
       "      <td>1.0</td>\n",
       "      <td>4024.803754</td>\n",
       "      <td>36.0</td>\n",
       "      <td>secondary education</td>\n",
       "      <td>1</td>\n",
       "      <td>married</td>\n",
       "      <td>0</td>\n",
       "      <td>F</td>\n",
       "      <td>employee</td>\n",
       "      <td>0</td>\n",
       "      <td>17932.802</td>\n",
       "      <td>car purchase</td>\n",
       "      <td>25 - 45</td>\n",
       "    </tr>\n",
       "    <tr>\n",
       "      <th>2</th>\n",
       "      <td>0.0</td>\n",
       "      <td>5623.422610</td>\n",
       "      <td>33.0</td>\n",
       "      <td>secondary education</td>\n",
       "      <td>1</td>\n",
       "      <td>married</td>\n",
       "      <td>0</td>\n",
       "      <td>M</td>\n",
       "      <td>employee</td>\n",
       "      <td>0</td>\n",
       "      <td>23341.752</td>\n",
       "      <td>purchase of the house</td>\n",
       "      <td>25 - 45</td>\n",
       "    </tr>\n",
       "    <tr>\n",
       "      <th>3</th>\n",
       "      <td>3.0</td>\n",
       "      <td>4124.747207</td>\n",
       "      <td>32.0</td>\n",
       "      <td>secondary education</td>\n",
       "      <td>1</td>\n",
       "      <td>married</td>\n",
       "      <td>0</td>\n",
       "      <td>M</td>\n",
       "      <td>employee</td>\n",
       "      <td>0</td>\n",
       "      <td>42820.568</td>\n",
       "      <td>supplementary education</td>\n",
       "      <td>25 - 45</td>\n",
       "    </tr>\n",
       "    <tr>\n",
       "      <th>4</th>\n",
       "      <td>0.0</td>\n",
       "      <td>1630.019381</td>\n",
       "      <td>53.0</td>\n",
       "      <td>secondary education</td>\n",
       "      <td>1</td>\n",
       "      <td>civil partnership</td>\n",
       "      <td>1</td>\n",
       "      <td>F</td>\n",
       "      <td>retiree</td>\n",
       "      <td>0</td>\n",
       "      <td>25378.572</td>\n",
       "      <td>to have a wedding</td>\n",
       "      <td>45 -65</td>\n",
       "    </tr>\n",
       "  </tbody>\n",
       "</table>\n",
       "</div>"
      ],
      "text/plain": [
       "   children  days_employed  dob_years            education  education_id  \\\n",
       "0       1.0    8437.673028       42.0    bachelor's degree             0   \n",
       "1       1.0    4024.803754       36.0  secondary education             1   \n",
       "2       0.0    5623.422610       33.0  secondary education             1   \n",
       "3       3.0    4124.747207       32.0  secondary education             1   \n",
       "4       0.0    1630.019381       53.0  secondary education             1   \n",
       "\n",
       "       family_status  family_status_id gender income_type  debt  total_income  \\\n",
       "0            married                 0      F    employee     0     40620.102   \n",
       "1            married                 0      F    employee     0     17932.802   \n",
       "2            married                 0      M    employee     0     23341.752   \n",
       "3            married                 0      M    employee     0     42820.568   \n",
       "4  civil partnership                 1      F     retiree     0     25378.572   \n",
       "\n",
       "                   purpose dob_years_groups  \n",
       "0    purchase of the house          25 - 45  \n",
       "1             car purchase          25 - 45  \n",
       "2    purchase of the house          25 - 45  \n",
       "3  supplementary education          25 - 45  \n",
       "4        to have a wedding           45 -65  "
      ]
     },
     "execution_count": 50,
     "metadata": {},
     "output_type": "execute_result"
    }
   ],
   "source": [
    "# Create a table without missing values and print a few of its rows to make sure it looks fine\n",
    "df_filled_values = df.loc[(df[\"days_employed\"].isna()!=True) & (df[\"total_income\"].isna()!= True)]\n",
    "df_filled_values.head(5)\n",
    "\n",
    "\n"
   ]
  },
  {
   "cell_type": "code",
   "execution_count": 51,
   "metadata": {},
   "outputs": [
    {
     "data": {
      "text/plain": [
       "26787.568354658673"
      ]
     },
     "execution_count": 51,
     "metadata": {},
     "output_type": "execute_result"
    }
   ],
   "source": [
    "# Look at the mean values for total_income \n",
    "df_filled_values[\"total_income\"].mean()\n"
   ]
  },
  {
   "cell_type": "code",
   "execution_count": 52,
   "metadata": {
    "scrolled": true
   },
   "outputs": [
    {
     "data": {
      "text/plain": [
       "23202.87"
      ]
     },
     "execution_count": 52,
     "metadata": {},
     "output_type": "execute_result"
    }
   ],
   "source": [
    "# Look at the median values for total_income \n",
    "total_income_median = df_filled_values[\"total_income\"].median()\n",
    "total_income_median"
   ]
  },
  {
   "cell_type": "code",
   "execution_count": 53,
   "metadata": {},
   "outputs": [
    {
     "data": {
      "text/plain": [
       "3306.762"
      ]
     },
     "execution_count": 53,
     "metadata": {},
     "output_type": "execute_result"
    }
   ],
   "source": [
    "#Getting the minimum value for total income \n",
    "df_filled_values[\"total_income\"].min()"
   ]
  },
  {
   "cell_type": "code",
   "execution_count": 54,
   "metadata": {},
   "outputs": [
    {
     "data": {
      "text/plain": [
       "362496.645"
      ]
     },
     "execution_count": 54,
     "metadata": {},
     "output_type": "execute_result"
    }
   ],
   "source": [
    "#Getting the maximum value for total income \n",
    "df_filled_values[\"total_income\"].max()"
   ]
  },
  {
   "cell_type": "markdown",
   "metadata": {},
   "source": [
    "I would be using the median to fill in the missing values. The difference between the minimum value and maximum values are quite large, therefore, they act like outliers, and would skew the result if I were to use the mean.  \n"
   ]
  },
  {
   "cell_type": "code",
   "execution_count": 55,
   "metadata": {},
   "outputs": [],
   "source": [
    "#Calculating the global median, and using it to fill all the missing values, and assigning it to a variable   \n",
    "\n",
    "df[\"total_income_global_med\"] = df[\"total_income\"].fillna(df_filled_values[\"total_income\"].median() ) #df_filled_values[total_income].median()\n"
   ]
  },
  {
   "cell_type": "code",
   "execution_count": 56,
   "metadata": {},
   "outputs": [
    {
     "data": {
      "text/plain": [
       "23202.87"
      ]
     },
     "execution_count": 56,
     "metadata": {},
     "output_type": "execute_result"
    }
   ],
   "source": [
    "df_filled_values[\"total_income\"].median()"
   ]
  },
  {
   "cell_type": "code",
   "execution_count": 57,
   "metadata": {},
   "outputs": [
    {
     "data": {
      "text/html": [
       "<div>\n",
       "<style scoped>\n",
       "    .dataframe tbody tr th:only-of-type {\n",
       "        vertical-align: middle;\n",
       "    }\n",
       "\n",
       "    .dataframe tbody tr th {\n",
       "        vertical-align: top;\n",
       "    }\n",
       "\n",
       "    .dataframe thead th {\n",
       "        text-align: right;\n",
       "    }\n",
       "</style>\n",
       "<table border=\"1\" class=\"dataframe\">\n",
       "  <thead>\n",
       "    <tr style=\"text-align: right;\">\n",
       "      <th></th>\n",
       "      <th>total_income</th>\n",
       "    </tr>\n",
       "    <tr>\n",
       "      <th>family_status</th>\n",
       "      <th></th>\n",
       "    </tr>\n",
       "  </thead>\n",
       "  <tbody>\n",
       "    <tr>\n",
       "      <th>civil partnership</th>\n",
       "      <td>23186.534</td>\n",
       "    </tr>\n",
       "    <tr>\n",
       "      <th>divorced</th>\n",
       "      <td>23515.096</td>\n",
       "    </tr>\n",
       "    <tr>\n",
       "      <th>married</th>\n",
       "      <td>23389.540</td>\n",
       "    </tr>\n",
       "    <tr>\n",
       "      <th>unmarried</th>\n",
       "      <td>23149.028</td>\n",
       "    </tr>\n",
       "    <tr>\n",
       "      <th>widow / widower</th>\n",
       "      <td>20514.190</td>\n",
       "    </tr>\n",
       "  </tbody>\n",
       "</table>\n",
       "</div>"
      ],
      "text/plain": [
       "                   total_income\n",
       "family_status                  \n",
       "civil partnership     23186.534\n",
       "divorced              23515.096\n",
       "married               23389.540\n",
       "unmarried             23149.028\n",
       "widow / widower       20514.190"
      ]
     },
     "execution_count": 57,
     "metadata": {},
     "output_type": "execute_result"
    }
   ],
   "source": [
    "#Taking a look at the distribution of the median of the total_income based on the family_status \n",
    "df[['family_status','total_income']].groupby('family_status').median()"
   ]
  },
  {
   "cell_type": "markdown",
   "metadata": {},
   "source": [
    "The distribution of the median of the family_status does not really affect the distribution of the total_income "
   ]
  },
  {
   "cell_type": "code",
   "execution_count": 58,
   "metadata": {},
   "outputs": [
    {
     "data": {
      "text/html": [
       "<div>\n",
       "<style scoped>\n",
       "    .dataframe tbody tr th:only-of-type {\n",
       "        vertical-align: middle;\n",
       "    }\n",
       "\n",
       "    .dataframe tbody tr th {\n",
       "        vertical-align: top;\n",
       "    }\n",
       "\n",
       "    .dataframe thead th {\n",
       "        text-align: right;\n",
       "    }\n",
       "</style>\n",
       "<table border=\"1\" class=\"dataframe\">\n",
       "  <thead>\n",
       "    <tr style=\"text-align: right;\">\n",
       "      <th></th>\n",
       "      <th>total_income</th>\n",
       "    </tr>\n",
       "    <tr>\n",
       "      <th>education</th>\n",
       "      <th></th>\n",
       "    </tr>\n",
       "  </thead>\n",
       "  <tbody>\n",
       "    <tr>\n",
       "      <th>bachelor's degree</th>\n",
       "      <td>28054.5310</td>\n",
       "    </tr>\n",
       "    <tr>\n",
       "      <th>graduate degree</th>\n",
       "      <td>25161.5835</td>\n",
       "    </tr>\n",
       "    <tr>\n",
       "      <th>primary education</th>\n",
       "      <td>18741.9760</td>\n",
       "    </tr>\n",
       "    <tr>\n",
       "      <th>secondary education</th>\n",
       "      <td>21836.5830</td>\n",
       "    </tr>\n",
       "    <tr>\n",
       "      <th>some college</th>\n",
       "      <td>25618.4640</td>\n",
       "    </tr>\n",
       "  </tbody>\n",
       "</table>\n",
       "</div>"
      ],
      "text/plain": [
       "                     total_income\n",
       "education                        \n",
       "bachelor's degree      28054.5310\n",
       "graduate degree        25161.5835\n",
       "primary education      18741.9760\n",
       "secondary education    21836.5830\n",
       "some college           25618.4640"
      ]
     },
     "execution_count": 58,
     "metadata": {},
     "output_type": "execute_result"
    }
   ],
   "source": [
    "#Taking a look at the distribution of the median of the total_income based on the education\n",
    "df[['education','total_income']].groupby('education').median()"
   ]
  },
  {
   "cell_type": "markdown",
   "metadata": {},
   "source": [
    "The distribution of the median of the education shows variations in the total Income that was earned by various category of people. So, we can use the median of this group. However, let's try the third column that affects total_income, which is income_type. "
   ]
  },
  {
   "cell_type": "code",
   "execution_count": 59,
   "metadata": {},
   "outputs": [
    {
     "data": {
      "text/html": [
       "<div>\n",
       "<style scoped>\n",
       "    .dataframe tbody tr th:only-of-type {\n",
       "        vertical-align: middle;\n",
       "    }\n",
       "\n",
       "    .dataframe tbody tr th {\n",
       "        vertical-align: top;\n",
       "    }\n",
       "\n",
       "    .dataframe thead th {\n",
       "        text-align: right;\n",
       "    }\n",
       "</style>\n",
       "<table border=\"1\" class=\"dataframe\">\n",
       "  <thead>\n",
       "    <tr style=\"text-align: right;\">\n",
       "      <th></th>\n",
       "      <th>total_income</th>\n",
       "    </tr>\n",
       "    <tr>\n",
       "      <th>income_type</th>\n",
       "      <th></th>\n",
       "    </tr>\n",
       "  </thead>\n",
       "  <tbody>\n",
       "    <tr>\n",
       "      <th>business</th>\n",
       "      <td>27577.2720</td>\n",
       "    </tr>\n",
       "    <tr>\n",
       "      <th>civil servant</th>\n",
       "      <td>24071.6695</td>\n",
       "    </tr>\n",
       "    <tr>\n",
       "      <th>employee</th>\n",
       "      <td>22815.1035</td>\n",
       "    </tr>\n",
       "    <tr>\n",
       "      <th>entrepreneur</th>\n",
       "      <td>79866.1030</td>\n",
       "    </tr>\n",
       "    <tr>\n",
       "      <th>paternity / maternity leave</th>\n",
       "      <td>8612.6610</td>\n",
       "    </tr>\n",
       "    <tr>\n",
       "      <th>retiree</th>\n",
       "      <td>18962.3180</td>\n",
       "    </tr>\n",
       "    <tr>\n",
       "      <th>student</th>\n",
       "      <td>15712.2600</td>\n",
       "    </tr>\n",
       "    <tr>\n",
       "      <th>unemployed</th>\n",
       "      <td>21014.3605</td>\n",
       "    </tr>\n",
       "  </tbody>\n",
       "</table>\n",
       "</div>"
      ],
      "text/plain": [
       "                             total_income\n",
       "income_type                              \n",
       "business                       27577.2720\n",
       "civil servant                  24071.6695\n",
       "employee                       22815.1035\n",
       "entrepreneur                   79866.1030\n",
       "paternity / maternity leave     8612.6610\n",
       "retiree                        18962.3180\n",
       "student                        15712.2600\n",
       "unemployed                     21014.3605"
      ]
     },
     "execution_count": 59,
     "metadata": {},
     "output_type": "execute_result"
    }
   ],
   "source": [
    "#Taking a look at the distribution of the median of the total_income based on the income_type \n",
    "df[['income_type','total_income']].groupby('income_type').median()"
   ]
  },
  {
   "cell_type": "markdown",
   "metadata": {},
   "source": [
    "The distribution of the median of the income_type gives the best variations in the total Income that was earned by various category of people. So, we the median of income_type will be used to fill the missing values. "
   ]
  },
  {
   "cell_type": "code",
   "execution_count": 60,
   "metadata": {},
   "outputs": [],
   "source": [
    " df[\"total_income_gb_med\"] = df[['income_type','total_income']].groupby(\"income_type\").transform(lambda x: x.fillna(x.median()))"
   ]
  },
  {
   "cell_type": "code",
   "execution_count": 61,
   "metadata": {},
   "outputs": [],
   "source": [
    "df[\"total_income\"] = df[\"total_income_gb_med\"]"
   ]
  },
  {
   "cell_type": "code",
   "execution_count": 62,
   "metadata": {},
   "outputs": [
    {
     "data": {
      "text/plain": [
       "count     21454.000000\n",
       "mean      26451.212929\n",
       "std       15709.968189\n",
       "min        3306.762000\n",
       "25%       17219.817250\n",
       "50%       22815.103500\n",
       "75%       31331.348000\n",
       "max      362496.645000\n",
       "Name: total_income, dtype: float64"
      ]
     },
     "execution_count": 62,
     "metadata": {},
     "output_type": "execute_result"
    }
   ],
   "source": [
    "df['total_income'].describe()"
   ]
  },
  {
   "cell_type": "code",
   "execution_count": 63,
   "metadata": {},
   "outputs": [],
   "source": [
    "#Deleting the colums that are not needed\n",
    "del df[\"total_income_gb_med\"]\n",
    "del df[\"total_income_global_med\"] "
   ]
  },
  {
   "cell_type": "markdown",
   "metadata": {},
   "source": [
    "To see that the values in total_income matches the number of values in others"
   ]
  },
  {
   "cell_type": "code",
   "execution_count": 64,
   "metadata": {},
   "outputs": [
    {
     "name": "stdout",
     "output_type": "stream",
     "text": [
      "<class 'pandas.core.frame.DataFrame'>\n",
      "RangeIndex: 21454 entries, 0 to 21453\n",
      "Data columns (total 13 columns):\n",
      " #   Column            Non-Null Count  Dtype  \n",
      "---  ------            --------------  -----  \n",
      " 0   children          21454 non-null  float64\n",
      " 1   days_employed     19351 non-null  float64\n",
      " 2   dob_years         21454 non-null  float64\n",
      " 3   education         21454 non-null  object \n",
      " 4   education_id      21454 non-null  int64  \n",
      " 5   family_status     21454 non-null  object \n",
      " 6   family_status_id  21454 non-null  int64  \n",
      " 7   gender            21454 non-null  object \n",
      " 8   income_type       21454 non-null  object \n",
      " 9   debt              21454 non-null  int64  \n",
      " 10  total_income      21454 non-null  float64\n",
      " 11  purpose           21454 non-null  object \n",
      " 12  dob_years_groups  21454 non-null  object \n",
      "dtypes: float64(4), int64(3), object(6)\n",
      "memory usage: 2.1+ MB\n"
     ]
    }
   ],
   "source": [
    "# Checking the number of entries in the columns\n",
    "df.info()\n"
   ]
  },
  {
   "cell_type": "markdown",
   "metadata": {},
   "source": [
    "All missing values have been filled in the total_income column"
   ]
  },
  {
   "cell_type": "markdown",
   "metadata": {},
   "source": [
    "###  Restoring values in `days_employed`"
   ]
  },
  {
   "cell_type": "markdown",
   "metadata": {},
   "source": [
    "To fill the missing values in the column days_employed, I would use the mean or median based on their distribution. Then look at the columns that affect the days_employed column to determine the column that gives the best distribution for either the mean or the median."
   ]
  },
  {
   "cell_type": "code",
   "execution_count": 65,
   "metadata": {},
   "outputs": [
    {
     "data": {
      "text/plain": [
       "2224.3030428320353"
      ]
     },
     "execution_count": 65,
     "metadata": {},
     "output_type": "execute_result"
    }
   ],
   "source": [
    "#Calculating the mean for days_employed column\n",
    "df_filled_values[\"days_employed\"].mean()"
   ]
  },
  {
   "cell_type": "code",
   "execution_count": 66,
   "metadata": {},
   "outputs": [
    {
     "data": {
      "text/plain": [
       "1630.0193809778218"
      ]
     },
     "execution_count": 66,
     "metadata": {},
     "output_type": "execute_result"
    }
   ],
   "source": [
    "#Calculating the median for days_employed column\n",
    "df_filled_values[\"days_employed\"].median()"
   ]
  },
  {
   "cell_type": "code",
   "execution_count": 67,
   "metadata": {},
   "outputs": [
    {
     "data": {
      "text/plain": [
       "18388.949900568383"
      ]
     },
     "execution_count": 67,
     "metadata": {},
     "output_type": "execute_result"
    }
   ],
   "source": [
    "#Calculating the maximum value in the days_employed columns\n",
    "df_filled_values[\"days_employed\"].max()"
   ]
  },
  {
   "cell_type": "code",
   "execution_count": 68,
   "metadata": {},
   "outputs": [
    {
     "data": {
      "text/plain": [
       "24.14163324048118"
      ]
     },
     "execution_count": 68,
     "metadata": {},
     "output_type": "execute_result"
    }
   ],
   "source": [
    "#Calculating the minimum value in the days_employed columns\n",
    "df_filled_values[\"days_employed\"].min()"
   ]
  },
  {
   "cell_type": "markdown",
   "metadata": {},
   "source": [
    "The difference between the minimum value, and the maximum value in the days_employed column is quite large, and would act as ouliers, so it might be somewhat tricky to use the mean to fill the missing values. However, let's see their distribution first. Also, the parameter identified that could be used to determine the median of the days_employed column is dob_years."
   ]
  },
  {
   "cell_type": "code",
   "execution_count": 69,
   "metadata": {},
   "outputs": [
    {
     "data": {
      "text/html": [
       "<div>\n",
       "<style scoped>\n",
       "    .dataframe tbody tr th:only-of-type {\n",
       "        vertical-align: middle;\n",
       "    }\n",
       "\n",
       "    .dataframe tbody tr th {\n",
       "        vertical-align: top;\n",
       "    }\n",
       "\n",
       "    .dataframe thead th {\n",
       "        text-align: right;\n",
       "    }\n",
       "</style>\n",
       "<table border=\"1\" class=\"dataframe\">\n",
       "  <thead>\n",
       "    <tr style=\"text-align: right;\">\n",
       "      <th></th>\n",
       "      <th>children</th>\n",
       "      <th>days_employed</th>\n",
       "      <th>dob_years</th>\n",
       "      <th>education</th>\n",
       "      <th>education_id</th>\n",
       "      <th>family_status</th>\n",
       "      <th>family_status_id</th>\n",
       "      <th>gender</th>\n",
       "      <th>income_type</th>\n",
       "      <th>debt</th>\n",
       "      <th>total_income</th>\n",
       "      <th>purpose</th>\n",
       "      <th>dob_years_groups</th>\n",
       "    </tr>\n",
       "  </thead>\n",
       "  <tbody>\n",
       "    <tr>\n",
       "      <th>0</th>\n",
       "      <td>1.0</td>\n",
       "      <td>8437.673028</td>\n",
       "      <td>42.0</td>\n",
       "      <td>bachelor's degree</td>\n",
       "      <td>0</td>\n",
       "      <td>married</td>\n",
       "      <td>0</td>\n",
       "      <td>F</td>\n",
       "      <td>employee</td>\n",
       "      <td>0</td>\n",
       "      <td>40620.102</td>\n",
       "      <td>purchase of the house</td>\n",
       "      <td>25 - 45</td>\n",
       "    </tr>\n",
       "    <tr>\n",
       "      <th>1</th>\n",
       "      <td>1.0</td>\n",
       "      <td>4024.803754</td>\n",
       "      <td>36.0</td>\n",
       "      <td>secondary education</td>\n",
       "      <td>1</td>\n",
       "      <td>married</td>\n",
       "      <td>0</td>\n",
       "      <td>F</td>\n",
       "      <td>employee</td>\n",
       "      <td>0</td>\n",
       "      <td>17932.802</td>\n",
       "      <td>car purchase</td>\n",
       "      <td>25 - 45</td>\n",
       "    </tr>\n",
       "    <tr>\n",
       "      <th>2</th>\n",
       "      <td>0.0</td>\n",
       "      <td>5623.422610</td>\n",
       "      <td>33.0</td>\n",
       "      <td>secondary education</td>\n",
       "      <td>1</td>\n",
       "      <td>married</td>\n",
       "      <td>0</td>\n",
       "      <td>M</td>\n",
       "      <td>employee</td>\n",
       "      <td>0</td>\n",
       "      <td>23341.752</td>\n",
       "      <td>purchase of the house</td>\n",
       "      <td>25 - 45</td>\n",
       "    </tr>\n",
       "    <tr>\n",
       "      <th>3</th>\n",
       "      <td>3.0</td>\n",
       "      <td>4124.747207</td>\n",
       "      <td>32.0</td>\n",
       "      <td>secondary education</td>\n",
       "      <td>1</td>\n",
       "      <td>married</td>\n",
       "      <td>0</td>\n",
       "      <td>M</td>\n",
       "      <td>employee</td>\n",
       "      <td>0</td>\n",
       "      <td>42820.568</td>\n",
       "      <td>supplementary education</td>\n",
       "      <td>25 - 45</td>\n",
       "    </tr>\n",
       "    <tr>\n",
       "      <th>4</th>\n",
       "      <td>0.0</td>\n",
       "      <td>1630.019381</td>\n",
       "      <td>53.0</td>\n",
       "      <td>secondary education</td>\n",
       "      <td>1</td>\n",
       "      <td>civil partnership</td>\n",
       "      <td>1</td>\n",
       "      <td>F</td>\n",
       "      <td>retiree</td>\n",
       "      <td>0</td>\n",
       "      <td>25378.572</td>\n",
       "      <td>to have a wedding</td>\n",
       "      <td>45 -65</td>\n",
       "    </tr>\n",
       "    <tr>\n",
       "      <th>...</th>\n",
       "      <td>...</td>\n",
       "      <td>...</td>\n",
       "      <td>...</td>\n",
       "      <td>...</td>\n",
       "      <td>...</td>\n",
       "      <td>...</td>\n",
       "      <td>...</td>\n",
       "      <td>...</td>\n",
       "      <td>...</td>\n",
       "      <td>...</td>\n",
       "      <td>...</td>\n",
       "      <td>...</td>\n",
       "      <td>...</td>\n",
       "    </tr>\n",
       "    <tr>\n",
       "      <th>21449</th>\n",
       "      <td>1.0</td>\n",
       "      <td>4529.316663</td>\n",
       "      <td>43.0</td>\n",
       "      <td>secondary education</td>\n",
       "      <td>1</td>\n",
       "      <td>civil partnership</td>\n",
       "      <td>1</td>\n",
       "      <td>F</td>\n",
       "      <td>business</td>\n",
       "      <td>0</td>\n",
       "      <td>35966.698</td>\n",
       "      <td>housing transactions</td>\n",
       "      <td>25 - 45</td>\n",
       "    </tr>\n",
       "    <tr>\n",
       "      <th>21450</th>\n",
       "      <td>0.0</td>\n",
       "      <td>1630.019381</td>\n",
       "      <td>67.0</td>\n",
       "      <td>secondary education</td>\n",
       "      <td>1</td>\n",
       "      <td>married</td>\n",
       "      <td>0</td>\n",
       "      <td>F</td>\n",
       "      <td>retiree</td>\n",
       "      <td>0</td>\n",
       "      <td>24959.969</td>\n",
       "      <td>purchase of a car</td>\n",
       "      <td>above 65</td>\n",
       "    </tr>\n",
       "    <tr>\n",
       "      <th>21451</th>\n",
       "      <td>1.0</td>\n",
       "      <td>2113.346888</td>\n",
       "      <td>38.0</td>\n",
       "      <td>secondary education</td>\n",
       "      <td>1</td>\n",
       "      <td>civil partnership</td>\n",
       "      <td>1</td>\n",
       "      <td>M</td>\n",
       "      <td>employee</td>\n",
       "      <td>1</td>\n",
       "      <td>14347.610</td>\n",
       "      <td>property</td>\n",
       "      <td>25 - 45</td>\n",
       "    </tr>\n",
       "    <tr>\n",
       "      <th>21452</th>\n",
       "      <td>3.0</td>\n",
       "      <td>3112.481705</td>\n",
       "      <td>38.0</td>\n",
       "      <td>secondary education</td>\n",
       "      <td>1</td>\n",
       "      <td>married</td>\n",
       "      <td>0</td>\n",
       "      <td>M</td>\n",
       "      <td>employee</td>\n",
       "      <td>1</td>\n",
       "      <td>39054.888</td>\n",
       "      <td>buying my own car</td>\n",
       "      <td>25 - 45</td>\n",
       "    </tr>\n",
       "    <tr>\n",
       "      <th>21453</th>\n",
       "      <td>2.0</td>\n",
       "      <td>1984.507589</td>\n",
       "      <td>40.0</td>\n",
       "      <td>secondary education</td>\n",
       "      <td>1</td>\n",
       "      <td>married</td>\n",
       "      <td>0</td>\n",
       "      <td>F</td>\n",
       "      <td>employee</td>\n",
       "      <td>0</td>\n",
       "      <td>13127.587</td>\n",
       "      <td>to buy a car</td>\n",
       "      <td>25 - 45</td>\n",
       "    </tr>\n",
       "  </tbody>\n",
       "</table>\n",
       "<p>19351 rows × 13 columns</p>\n",
       "</div>"
      ],
      "text/plain": [
       "       children  days_employed  dob_years            education  education_id  \\\n",
       "0           1.0    8437.673028       42.0    bachelor's degree             0   \n",
       "1           1.0    4024.803754       36.0  secondary education             1   \n",
       "2           0.0    5623.422610       33.0  secondary education             1   \n",
       "3           3.0    4124.747207       32.0  secondary education             1   \n",
       "4           0.0    1630.019381       53.0  secondary education             1   \n",
       "...         ...            ...        ...                  ...           ...   \n",
       "21449       1.0    4529.316663       43.0  secondary education             1   \n",
       "21450       0.0    1630.019381       67.0  secondary education             1   \n",
       "21451       1.0    2113.346888       38.0  secondary education             1   \n",
       "21452       3.0    3112.481705       38.0  secondary education             1   \n",
       "21453       2.0    1984.507589       40.0  secondary education             1   \n",
       "\n",
       "           family_status  family_status_id gender income_type  debt  \\\n",
       "0                married                 0      F    employee     0   \n",
       "1                married                 0      F    employee     0   \n",
       "2                married                 0      M    employee     0   \n",
       "3                married                 0      M    employee     0   \n",
       "4      civil partnership                 1      F     retiree     0   \n",
       "...                  ...               ...    ...         ...   ...   \n",
       "21449  civil partnership                 1      F    business     0   \n",
       "21450            married                 0      F     retiree     0   \n",
       "21451  civil partnership                 1      M    employee     1   \n",
       "21452            married                 0      M    employee     1   \n",
       "21453            married                 0      F    employee     0   \n",
       "\n",
       "       total_income                  purpose dob_years_groups  \n",
       "0         40620.102    purchase of the house          25 - 45  \n",
       "1         17932.802             car purchase          25 - 45  \n",
       "2         23341.752    purchase of the house          25 - 45  \n",
       "3         42820.568  supplementary education          25 - 45  \n",
       "4         25378.572        to have a wedding           45 -65  \n",
       "...             ...                      ...              ...  \n",
       "21449     35966.698     housing transactions          25 - 45  \n",
       "21450     24959.969        purchase of a car         above 65  \n",
       "21451     14347.610                 property          25 - 45  \n",
       "21452     39054.888        buying my own car          25 - 45  \n",
       "21453     13127.587             to buy a car          25 - 45  \n",
       "\n",
       "[19351 rows x 13 columns]"
      ]
     },
     "execution_count": 69,
     "metadata": {},
     "output_type": "execute_result"
    }
   ],
   "source": [
    "df_filled_values"
   ]
  },
  {
   "cell_type": "code",
   "execution_count": 70,
   "metadata": {
    "pycharm": {
     "name": "#%%\n"
    }
   },
   "outputs": [
    {
     "data": {
      "text/html": [
       "<div>\n",
       "<style scoped>\n",
       "    .dataframe tbody tr th:only-of-type {\n",
       "        vertical-align: middle;\n",
       "    }\n",
       "\n",
       "    .dataframe tbody tr th {\n",
       "        vertical-align: top;\n",
       "    }\n",
       "\n",
       "    .dataframe thead th {\n",
       "        text-align: right;\n",
       "    }\n",
       "</style>\n",
       "<table border=\"1\" class=\"dataframe\">\n",
       "  <thead>\n",
       "    <tr style=\"text-align: right;\">\n",
       "      <th></th>\n",
       "      <th>days_employed</th>\n",
       "    </tr>\n",
       "    <tr>\n",
       "      <th>dob_years</th>\n",
       "      <th></th>\n",
       "    </tr>\n",
       "  </thead>\n",
       "  <tbody>\n",
       "    <tr>\n",
       "      <th>19.000000</th>\n",
       "      <td>724.492610</td>\n",
       "    </tr>\n",
       "    <tr>\n",
       "      <th>20.000000</th>\n",
       "      <td>674.838979</td>\n",
       "    </tr>\n",
       "    <tr>\n",
       "      <th>21.000000</th>\n",
       "      <td>618.733817</td>\n",
       "    </tr>\n",
       "    <tr>\n",
       "      <th>22.000000</th>\n",
       "      <td>703.310078</td>\n",
       "    </tr>\n",
       "    <tr>\n",
       "      <th>23.000000</th>\n",
       "      <td>690.204208</td>\n",
       "    </tr>\n",
       "    <tr>\n",
       "      <th>24.000000</th>\n",
       "      <td>947.731043</td>\n",
       "    </tr>\n",
       "    <tr>\n",
       "      <th>25.000000</th>\n",
       "      <td>919.199388</td>\n",
       "    </tr>\n",
       "    <tr>\n",
       "      <th>26.000000</th>\n",
       "      <td>1083.658132</td>\n",
       "    </tr>\n",
       "    <tr>\n",
       "      <th>27.000000</th>\n",
       "      <td>1166.212160</td>\n",
       "    </tr>\n",
       "    <tr>\n",
       "      <th>28.000000</th>\n",
       "      <td>1141.705450</td>\n",
       "    </tr>\n",
       "    <tr>\n",
       "      <th>29.000000</th>\n",
       "      <td>1315.453550</td>\n",
       "    </tr>\n",
       "    <tr>\n",
       "      <th>30.000000</th>\n",
       "      <td>1420.586863</td>\n",
       "    </tr>\n",
       "    <tr>\n",
       "      <th>31.000000</th>\n",
       "      <td>1308.901135</td>\n",
       "    </tr>\n",
       "    <tr>\n",
       "      <th>32.000000</th>\n",
       "      <td>1446.622542</td>\n",
       "    </tr>\n",
       "    <tr>\n",
       "      <th>33.000000</th>\n",
       "      <td>1426.415003</td>\n",
       "    </tr>\n",
       "    <tr>\n",
       "      <th>34.000000</th>\n",
       "      <td>1615.910188</td>\n",
       "    </tr>\n",
       "    <tr>\n",
       "      <th>35.000000</th>\n",
       "      <td>1613.494818</td>\n",
       "    </tr>\n",
       "    <tr>\n",
       "      <th>36.000000</th>\n",
       "      <td>1782.652308</td>\n",
       "    </tr>\n",
       "    <tr>\n",
       "      <th>37.000000</th>\n",
       "      <td>1783.979003</td>\n",
       "    </tr>\n",
       "    <tr>\n",
       "      <th>38.000000</th>\n",
       "      <td>1738.115310</td>\n",
       "    </tr>\n",
       "    <tr>\n",
       "      <th>39.000000</th>\n",
       "      <td>1832.564621</td>\n",
       "    </tr>\n",
       "    <tr>\n",
       "      <th>40.000000</th>\n",
       "      <td>1674.726020</td>\n",
       "    </tr>\n",
       "    <tr>\n",
       "      <th>41.000000</th>\n",
       "      <td>1847.778632</td>\n",
       "    </tr>\n",
       "    <tr>\n",
       "      <th>42.000000</th>\n",
       "      <td>2143.026818</td>\n",
       "    </tr>\n",
       "    <tr>\n",
       "      <th>43.000000</th>\n",
       "      <td>1748.001959</td>\n",
       "    </tr>\n",
       "    <tr>\n",
       "      <th>43.497479</th>\n",
       "      <td>1630.019381</td>\n",
       "    </tr>\n",
       "    <tr>\n",
       "      <th>44.000000</th>\n",
       "      <td>1813.405616</td>\n",
       "    </tr>\n",
       "    <tr>\n",
       "      <th>45.000000</th>\n",
       "      <td>2105.382664</td>\n",
       "    </tr>\n",
       "    <tr>\n",
       "      <th>46.000000</th>\n",
       "      <td>1987.334781</td>\n",
       "    </tr>\n",
       "    <tr>\n",
       "      <th>47.000000</th>\n",
       "      <td>1999.975513</td>\n",
       "    </tr>\n",
       "    <tr>\n",
       "      <th>48.000000</th>\n",
       "      <td>2076.293896</td>\n",
       "    </tr>\n",
       "    <tr>\n",
       "      <th>49.000000</th>\n",
       "      <td>2138.776097</td>\n",
       "    </tr>\n",
       "    <tr>\n",
       "      <th>50.000000</th>\n",
       "      <td>1843.949478</td>\n",
       "    </tr>\n",
       "    <tr>\n",
       "      <th>51.000000</th>\n",
       "      <td>1630.019381</td>\n",
       "    </tr>\n",
       "    <tr>\n",
       "      <th>52.000000</th>\n",
       "      <td>1630.019381</td>\n",
       "    </tr>\n",
       "    <tr>\n",
       "      <th>53.000000</th>\n",
       "      <td>1630.019381</td>\n",
       "    </tr>\n",
       "    <tr>\n",
       "      <th>54.000000</th>\n",
       "      <td>1630.019381</td>\n",
       "    </tr>\n",
       "    <tr>\n",
       "      <th>55.000000</th>\n",
       "      <td>1630.019381</td>\n",
       "    </tr>\n",
       "    <tr>\n",
       "      <th>56.000000</th>\n",
       "      <td>1630.019381</td>\n",
       "    </tr>\n",
       "    <tr>\n",
       "      <th>57.000000</th>\n",
       "      <td>1630.019381</td>\n",
       "    </tr>\n",
       "    <tr>\n",
       "      <th>58.000000</th>\n",
       "      <td>1630.019381</td>\n",
       "    </tr>\n",
       "    <tr>\n",
       "      <th>59.000000</th>\n",
       "      <td>1630.019381</td>\n",
       "    </tr>\n",
       "    <tr>\n",
       "      <th>60.000000</th>\n",
       "      <td>1630.019381</td>\n",
       "    </tr>\n",
       "    <tr>\n",
       "      <th>61.000000</th>\n",
       "      <td>1630.019381</td>\n",
       "    </tr>\n",
       "    <tr>\n",
       "      <th>62.000000</th>\n",
       "      <td>1630.019381</td>\n",
       "    </tr>\n",
       "    <tr>\n",
       "      <th>63.000000</th>\n",
       "      <td>1630.019381</td>\n",
       "    </tr>\n",
       "    <tr>\n",
       "      <th>64.000000</th>\n",
       "      <td>1630.019381</td>\n",
       "    </tr>\n",
       "    <tr>\n",
       "      <th>65.000000</th>\n",
       "      <td>1630.019381</td>\n",
       "    </tr>\n",
       "    <tr>\n",
       "      <th>66.000000</th>\n",
       "      <td>1630.019381</td>\n",
       "    </tr>\n",
       "    <tr>\n",
       "      <th>67.000000</th>\n",
       "      <td>1630.019381</td>\n",
       "    </tr>\n",
       "    <tr>\n",
       "      <th>68.000000</th>\n",
       "      <td>1630.019381</td>\n",
       "    </tr>\n",
       "    <tr>\n",
       "      <th>69.000000</th>\n",
       "      <td>1630.019381</td>\n",
       "    </tr>\n",
       "    <tr>\n",
       "      <th>70.000000</th>\n",
       "      <td>1630.019381</td>\n",
       "    </tr>\n",
       "    <tr>\n",
       "      <th>71.000000</th>\n",
       "      <td>1630.019381</td>\n",
       "    </tr>\n",
       "    <tr>\n",
       "      <th>72.000000</th>\n",
       "      <td>1630.019381</td>\n",
       "    </tr>\n",
       "    <tr>\n",
       "      <th>73.000000</th>\n",
       "      <td>1630.019381</td>\n",
       "    </tr>\n",
       "    <tr>\n",
       "      <th>74.000000</th>\n",
       "      <td>1630.019381</td>\n",
       "    </tr>\n",
       "    <tr>\n",
       "      <th>75.000000</th>\n",
       "      <td>1678.969771</td>\n",
       "    </tr>\n",
       "  </tbody>\n",
       "</table>\n",
       "</div>"
      ],
      "text/plain": [
       "           days_employed\n",
       "dob_years               \n",
       "19.000000     724.492610\n",
       "20.000000     674.838979\n",
       "21.000000     618.733817\n",
       "22.000000     703.310078\n",
       "23.000000     690.204208\n",
       "24.000000     947.731043\n",
       "25.000000     919.199388\n",
       "26.000000    1083.658132\n",
       "27.000000    1166.212160\n",
       "28.000000    1141.705450\n",
       "29.000000    1315.453550\n",
       "30.000000    1420.586863\n",
       "31.000000    1308.901135\n",
       "32.000000    1446.622542\n",
       "33.000000    1426.415003\n",
       "34.000000    1615.910188\n",
       "35.000000    1613.494818\n",
       "36.000000    1782.652308\n",
       "37.000000    1783.979003\n",
       "38.000000    1738.115310\n",
       "39.000000    1832.564621\n",
       "40.000000    1674.726020\n",
       "41.000000    1847.778632\n",
       "42.000000    2143.026818\n",
       "43.000000    1748.001959\n",
       "43.497479    1630.019381\n",
       "44.000000    1813.405616\n",
       "45.000000    2105.382664\n",
       "46.000000    1987.334781\n",
       "47.000000    1999.975513\n",
       "48.000000    2076.293896\n",
       "49.000000    2138.776097\n",
       "50.000000    1843.949478\n",
       "51.000000    1630.019381\n",
       "52.000000    1630.019381\n",
       "53.000000    1630.019381\n",
       "54.000000    1630.019381\n",
       "55.000000    1630.019381\n",
       "56.000000    1630.019381\n",
       "57.000000    1630.019381\n",
       "58.000000    1630.019381\n",
       "59.000000    1630.019381\n",
       "60.000000    1630.019381\n",
       "61.000000    1630.019381\n",
       "62.000000    1630.019381\n",
       "63.000000    1630.019381\n",
       "64.000000    1630.019381\n",
       "65.000000    1630.019381\n",
       "66.000000    1630.019381\n",
       "67.000000    1630.019381\n",
       "68.000000    1630.019381\n",
       "69.000000    1630.019381\n",
       "70.000000    1630.019381\n",
       "71.000000    1630.019381\n",
       "72.000000    1630.019381\n",
       "73.000000    1630.019381\n",
       "74.000000    1630.019381\n",
       "75.000000    1678.969771"
      ]
     },
     "execution_count": 70,
     "metadata": {},
     "output_type": "execute_result"
    }
   ],
   "source": [
    "#Distribution of `days_employed` medians based on identified parameters\n",
    "\n",
    "df_filled_values[[\"dob_years\",\"days_employed\"]].groupby(\"dob_years\").median()                "
   ]
  },
  {
   "cell_type": "code",
   "execution_count": 71,
   "metadata": {},
   "outputs": [
    {
     "data": {
      "text/html": [
       "<div>\n",
       "<style scoped>\n",
       "    .dataframe tbody tr th:only-of-type {\n",
       "        vertical-align: middle;\n",
       "    }\n",
       "\n",
       "    .dataframe tbody tr th {\n",
       "        vertical-align: top;\n",
       "    }\n",
       "\n",
       "    .dataframe thead th {\n",
       "        text-align: right;\n",
       "    }\n",
       "</style>\n",
       "<table border=\"1\" class=\"dataframe\">\n",
       "  <thead>\n",
       "    <tr style=\"text-align: right;\">\n",
       "      <th></th>\n",
       "      <th>days_employed</th>\n",
       "    </tr>\n",
       "    <tr>\n",
       "      <th>dob_years</th>\n",
       "      <th></th>\n",
       "    </tr>\n",
       "  </thead>\n",
       "  <tbody>\n",
       "    <tr>\n",
       "      <th>19.000000</th>\n",
       "      <td>633.678086</td>\n",
       "    </tr>\n",
       "    <tr>\n",
       "      <th>20.000000</th>\n",
       "      <td>684.944308</td>\n",
       "    </tr>\n",
       "    <tr>\n",
       "      <th>21.000000</th>\n",
       "      <td>709.440930</td>\n",
       "    </tr>\n",
       "    <tr>\n",
       "      <th>22.000000</th>\n",
       "      <td>786.489080</td>\n",
       "    </tr>\n",
       "    <tr>\n",
       "      <th>23.000000</th>\n",
       "      <td>827.309437</td>\n",
       "    </tr>\n",
       "    <tr>\n",
       "      <th>24.000000</th>\n",
       "      <td>1026.405485</td>\n",
       "    </tr>\n",
       "    <tr>\n",
       "      <th>25.000000</th>\n",
       "      <td>1088.406453</td>\n",
       "    </tr>\n",
       "    <tr>\n",
       "      <th>26.000000</th>\n",
       "      <td>1202.592242</td>\n",
       "    </tr>\n",
       "    <tr>\n",
       "      <th>27.000000</th>\n",
       "      <td>1359.938157</td>\n",
       "    </tr>\n",
       "    <tr>\n",
       "      <th>28.000000</th>\n",
       "      <td>1398.193809</td>\n",
       "    </tr>\n",
       "    <tr>\n",
       "      <th>29.000000</th>\n",
       "      <td>1553.823200</td>\n",
       "    </tr>\n",
       "    <tr>\n",
       "      <th>30.000000</th>\n",
       "      <td>1696.039355</td>\n",
       "    </tr>\n",
       "    <tr>\n",
       "      <th>31.000000</th>\n",
       "      <td>1652.672079</td>\n",
       "    </tr>\n",
       "    <tr>\n",
       "      <th>32.000000</th>\n",
       "      <td>1735.111375</td>\n",
       "    </tr>\n",
       "    <tr>\n",
       "      <th>33.000000</th>\n",
       "      <td>1867.754671</td>\n",
       "    </tr>\n",
       "    <tr>\n",
       "      <th>34.000000</th>\n",
       "      <td>1981.737277</td>\n",
       "    </tr>\n",
       "    <tr>\n",
       "      <th>35.000000</th>\n",
       "      <td>2108.015677</td>\n",
       "    </tr>\n",
       "    <tr>\n",
       "      <th>36.000000</th>\n",
       "      <td>2268.854680</td>\n",
       "    </tr>\n",
       "    <tr>\n",
       "      <th>37.000000</th>\n",
       "      <td>2173.264194</td>\n",
       "    </tr>\n",
       "    <tr>\n",
       "      <th>38.000000</th>\n",
       "      <td>2297.106442</td>\n",
       "    </tr>\n",
       "    <tr>\n",
       "      <th>39.000000</th>\n",
       "      <td>2400.613823</td>\n",
       "    </tr>\n",
       "    <tr>\n",
       "      <th>40.000000</th>\n",
       "      <td>2336.063602</td>\n",
       "    </tr>\n",
       "    <tr>\n",
       "      <th>41.000000</th>\n",
       "      <td>2424.813669</td>\n",
       "    </tr>\n",
       "    <tr>\n",
       "      <th>42.000000</th>\n",
       "      <td>2773.492526</td>\n",
       "    </tr>\n",
       "    <tr>\n",
       "      <th>43.000000</th>\n",
       "      <td>2475.880813</td>\n",
       "    </tr>\n",
       "    <tr>\n",
       "      <th>43.497479</th>\n",
       "      <td>2093.825679</td>\n",
       "    </tr>\n",
       "    <tr>\n",
       "      <th>44.000000</th>\n",
       "      <td>2790.829304</td>\n",
       "    </tr>\n",
       "    <tr>\n",
       "      <th>45.000000</th>\n",
       "      <td>2762.729538</td>\n",
       "    </tr>\n",
       "    <tr>\n",
       "      <th>46.000000</th>\n",
       "      <td>2829.449013</td>\n",
       "    </tr>\n",
       "    <tr>\n",
       "      <th>47.000000</th>\n",
       "      <td>2922.221232</td>\n",
       "    </tr>\n",
       "    <tr>\n",
       "      <th>48.000000</th>\n",
       "      <td>2846.645423</td>\n",
       "    </tr>\n",
       "    <tr>\n",
       "      <th>49.000000</th>\n",
       "      <td>3000.855655</td>\n",
       "    </tr>\n",
       "    <tr>\n",
       "      <th>50.000000</th>\n",
       "      <td>2903.220400</td>\n",
       "    </tr>\n",
       "    <tr>\n",
       "      <th>51.000000</th>\n",
       "      <td>2789.821854</td>\n",
       "    </tr>\n",
       "    <tr>\n",
       "      <th>52.000000</th>\n",
       "      <td>2902.851802</td>\n",
       "    </tr>\n",
       "    <tr>\n",
       "      <th>53.000000</th>\n",
       "      <td>2863.137305</td>\n",
       "    </tr>\n",
       "    <tr>\n",
       "      <th>54.000000</th>\n",
       "      <td>2518.309634</td>\n",
       "    </tr>\n",
       "    <tr>\n",
       "      <th>55.000000</th>\n",
       "      <td>2778.809851</td>\n",
       "    </tr>\n",
       "    <tr>\n",
       "      <th>56.000000</th>\n",
       "      <td>2573.797527</td>\n",
       "    </tr>\n",
       "    <tr>\n",
       "      <th>57.000000</th>\n",
       "      <td>2488.516077</td>\n",
       "    </tr>\n",
       "    <tr>\n",
       "      <th>58.000000</th>\n",
       "      <td>2427.314021</td>\n",
       "    </tr>\n",
       "    <tr>\n",
       "      <th>59.000000</th>\n",
       "      <td>2480.580121</td>\n",
       "    </tr>\n",
       "    <tr>\n",
       "      <th>60.000000</th>\n",
       "      <td>2237.113634</td>\n",
       "    </tr>\n",
       "    <tr>\n",
       "      <th>61.000000</th>\n",
       "      <td>2411.015296</td>\n",
       "    </tr>\n",
       "    <tr>\n",
       "      <th>62.000000</th>\n",
       "      <td>1982.023158</td>\n",
       "    </tr>\n",
       "    <tr>\n",
       "      <th>63.000000</th>\n",
       "      <td>2181.190034</td>\n",
       "    </tr>\n",
       "    <tr>\n",
       "      <th>64.000000</th>\n",
       "      <td>2149.105824</td>\n",
       "    </tr>\n",
       "    <tr>\n",
       "      <th>65.000000</th>\n",
       "      <td>2160.555302</td>\n",
       "    </tr>\n",
       "    <tr>\n",
       "      <th>66.000000</th>\n",
       "      <td>1964.240195</td>\n",
       "    </tr>\n",
       "    <tr>\n",
       "      <th>67.000000</th>\n",
       "      <td>1879.669148</td>\n",
       "    </tr>\n",
       "    <tr>\n",
       "      <th>68.000000</th>\n",
       "      <td>1954.621705</td>\n",
       "    </tr>\n",
       "    <tr>\n",
       "      <th>69.000000</th>\n",
       "      <td>1790.961161</td>\n",
       "    </tr>\n",
       "    <tr>\n",
       "      <th>70.000000</th>\n",
       "      <td>2021.781857</td>\n",
       "    </tr>\n",
       "    <tr>\n",
       "      <th>71.000000</th>\n",
       "      <td>1738.023479</td>\n",
       "    </tr>\n",
       "    <tr>\n",
       "      <th>72.000000</th>\n",
       "      <td>2111.364608</td>\n",
       "    </tr>\n",
       "    <tr>\n",
       "      <th>73.000000</th>\n",
       "      <td>1887.045967</td>\n",
       "    </tr>\n",
       "    <tr>\n",
       "      <th>74.000000</th>\n",
       "      <td>2488.762978</td>\n",
       "    </tr>\n",
       "    <tr>\n",
       "      <th>75.000000</th>\n",
       "      <td>1678.969771</td>\n",
       "    </tr>\n",
       "  </tbody>\n",
       "</table>\n",
       "</div>"
      ],
      "text/plain": [
       "           days_employed\n",
       "dob_years               \n",
       "19.000000     633.678086\n",
       "20.000000     684.944308\n",
       "21.000000     709.440930\n",
       "22.000000     786.489080\n",
       "23.000000     827.309437\n",
       "24.000000    1026.405485\n",
       "25.000000    1088.406453\n",
       "26.000000    1202.592242\n",
       "27.000000    1359.938157\n",
       "28.000000    1398.193809\n",
       "29.000000    1553.823200\n",
       "30.000000    1696.039355\n",
       "31.000000    1652.672079\n",
       "32.000000    1735.111375\n",
       "33.000000    1867.754671\n",
       "34.000000    1981.737277\n",
       "35.000000    2108.015677\n",
       "36.000000    2268.854680\n",
       "37.000000    2173.264194\n",
       "38.000000    2297.106442\n",
       "39.000000    2400.613823\n",
       "40.000000    2336.063602\n",
       "41.000000    2424.813669\n",
       "42.000000    2773.492526\n",
       "43.000000    2475.880813\n",
       "43.497479    2093.825679\n",
       "44.000000    2790.829304\n",
       "45.000000    2762.729538\n",
       "46.000000    2829.449013\n",
       "47.000000    2922.221232\n",
       "48.000000    2846.645423\n",
       "49.000000    3000.855655\n",
       "50.000000    2903.220400\n",
       "51.000000    2789.821854\n",
       "52.000000    2902.851802\n",
       "53.000000    2863.137305\n",
       "54.000000    2518.309634\n",
       "55.000000    2778.809851\n",
       "56.000000    2573.797527\n",
       "57.000000    2488.516077\n",
       "58.000000    2427.314021\n",
       "59.000000    2480.580121\n",
       "60.000000    2237.113634\n",
       "61.000000    2411.015296\n",
       "62.000000    1982.023158\n",
       "63.000000    2181.190034\n",
       "64.000000    2149.105824\n",
       "65.000000    2160.555302\n",
       "66.000000    1964.240195\n",
       "67.000000    1879.669148\n",
       "68.000000    1954.621705\n",
       "69.000000    1790.961161\n",
       "70.000000    2021.781857\n",
       "71.000000    1738.023479\n",
       "72.000000    2111.364608\n",
       "73.000000    1887.045967\n",
       "74.000000    2488.762978\n",
       "75.000000    1678.969771"
      ]
     },
     "execution_count": 71,
     "metadata": {},
     "output_type": "execute_result"
    }
   ],
   "source": [
    "# Distribution of `days_employed` means based identified parameters\n",
    "\n",
    "df_filled_values[[\"dob_years\",\"days_employed\"]].groupby(\"dob_years\").mean()  \n"
   ]
  },
  {
   "cell_type": "markdown",
   "metadata": {},
   "source": [
    "From the distribution of both the median and the mean, it is clearly seen that the mean gives a better distribution for the various ages. So, we use the mean to fill the missing values"
   ]
  },
  {
   "cell_type": "code",
   "execution_count": 72,
   "metadata": {},
   "outputs": [],
   "source": [
    "# Replacing missing values\n",
    "df[\"days_employed\"] = df[[\"dob_years\",\"days_employed\"]].groupby(\"dob_years\").transform(lambda x: x.fillna(x.mean()))\n"
   ]
  },
  {
   "cell_type": "code",
   "execution_count": 73,
   "metadata": {},
   "outputs": [
    {
     "data": {
      "text/plain": [
       "count    21454.000000\n",
       "mean      2225.323883\n",
       "std       2009.110764\n",
       "min         24.141633\n",
       "25%       1011.981643\n",
       "50%       1630.019381\n",
       "75%       2762.729538\n",
       "max      18388.949901\n",
       "Name: days_employed, dtype: float64"
      ]
     },
     "execution_count": 73,
     "metadata": {},
     "output_type": "execute_result"
    }
   ],
   "source": [
    "df[\"days_employed\"].describe()"
   ]
  },
  {
   "cell_type": "markdown",
   "metadata": {},
   "source": [
    "All missing values have been fixed in days_employed column"
   ]
  },
  {
   "cell_type": "code",
   "execution_count": 74,
   "metadata": {},
   "outputs": [
    {
     "name": "stdout",
     "output_type": "stream",
     "text": [
      "<class 'pandas.core.frame.DataFrame'>\n",
      "RangeIndex: 21454 entries, 0 to 21453\n",
      "Data columns (total 13 columns):\n",
      " #   Column            Non-Null Count  Dtype  \n",
      "---  ------            --------------  -----  \n",
      " 0   children          21454 non-null  float64\n",
      " 1   days_employed     21454 non-null  float64\n",
      " 2   dob_years         21454 non-null  float64\n",
      " 3   education         21454 non-null  object \n",
      " 4   education_id      21454 non-null  int64  \n",
      " 5   family_status     21454 non-null  object \n",
      " 6   family_status_id  21454 non-null  int64  \n",
      " 7   gender            21454 non-null  object \n",
      " 8   income_type       21454 non-null  object \n",
      " 9   debt              21454 non-null  int64  \n",
      " 10  total_income      21454 non-null  float64\n",
      " 11  purpose           21454 non-null  object \n",
      " 12  dob_years_groups  21454 non-null  object \n",
      "dtypes: float64(4), int64(3), object(6)\n",
      "memory usage: 2.1+ MB\n"
     ]
    }
   ],
   "source": [
    "# Checking the entries in all columns to make sure we fixed all missing values\n",
    "df.info()"
   ]
  },
  {
   "cell_type": "markdown",
   "metadata": {},
   "source": [
    "## Categorization of data\n",
    "\n",
    "To answer the questions and test the hypotheses, I will have to categorize the data. Of all the identified characteristics, I will categorize the data in the \"purpose\" column. \n",
    "[Despite of how you decide to address the categorization, make sure to provide clear explanation of why you made your decision. Remember: this is your work and you make all decisions in it.]\n"
   ]
  },
  {
   "cell_type": "code",
   "execution_count": 75,
   "metadata": {
    "scrolled": true
   },
   "outputs": [
    {
     "data": {
      "text/plain": [
       "wedding ceremony                            791\n",
       "having a wedding                            768\n",
       "to have a wedding                           765\n",
       "real estate transactions                    675\n",
       "buy commercial real estate                  661\n",
       "housing transactions                        652\n",
       "buying property for renting out             651\n",
       "transactions with commercial real estate    650\n",
       "housing                                     646\n",
       "purchase of the house                       646\n",
       "purchase of the house for my family         638\n",
       "construction of own property                635\n",
       "property                                    633\n",
       "transactions with my real estate            627\n",
       "building a real estate                      624\n",
       "buy real estate                             621\n",
       "purchase of my own house                    620\n",
       "building a property                         619\n",
       "housing renovation                          607\n",
       "buy residential real estate                 606\n",
       "buying my own car                           505\n",
       "going to university                         496\n",
       "car                                         494\n",
       "second-hand car purchase                    486\n",
       "cars                                        478\n",
       "buying a second-hand car                    478\n",
       "to own a car                                478\n",
       "to buy a car                                471\n",
       "car purchase                                461\n",
       "supplementary education                     460\n",
       "purchase of a car                           455\n",
       "university education                        452\n",
       "education                                   447\n",
       "to get a supplementary education            446\n",
       "getting an education                        442\n",
       "profile education                           436\n",
       "getting higher education                    426\n",
       "to become educated                          408\n",
       "Name: purpose, dtype: int64"
      ]
     },
     "execution_count": 75,
     "metadata": {},
     "output_type": "execute_result"
    }
   ],
   "source": [
    "# Print the values for your selected data for categorization\n",
    "df[\"purpose\"].value_counts()"
   ]
  },
  {
   "cell_type": "markdown",
   "metadata": {},
   "source": [
    "[Let's check unique values]"
   ]
  },
  {
   "cell_type": "code",
   "execution_count": 76,
   "metadata": {},
   "outputs": [
    {
     "data": {
      "text/plain": [
       "array(['purchase of the house', 'car purchase', 'supplementary education',\n",
       "       'to have a wedding', 'housing transactions', 'education',\n",
       "       'having a wedding', 'purchase of the house for my family',\n",
       "       'buy real estate', 'buy commercial real estate',\n",
       "       'buy residential real estate', 'construction of own property',\n",
       "       'property', 'building a property', 'buying a second-hand car',\n",
       "       'buying my own car', 'transactions with commercial real estate',\n",
       "       'building a real estate', 'housing',\n",
       "       'transactions with my real estate', 'cars', 'to become educated',\n",
       "       'second-hand car purchase', 'getting an education', 'car',\n",
       "       'wedding ceremony', 'to get a supplementary education',\n",
       "       'purchase of my own house', 'real estate transactions',\n",
       "       'getting higher education', 'to own a car', 'purchase of a car',\n",
       "       'profile education', 'university education',\n",
       "       'buying property for renting out', 'to buy a car',\n",
       "       'housing renovation', 'going to university'], dtype=object)"
      ]
     },
     "execution_count": 76,
     "metadata": {},
     "output_type": "execute_result"
    }
   ],
   "source": [
    "# Check the unique values\n",
    "df[\"purpose\"].unique()"
   ]
  },
  {
   "cell_type": "markdown",
   "metadata": {},
   "source": [
    "The main groups that I can identify here are groups with Cars, Education, House, Wedding\n"
   ]
  },
  {
   "cell_type": "code",
   "execution_count": 77,
   "metadata": {},
   "outputs": [],
   "source": [
    "# Here I create a function to assign several purposes for loans as a single parameter\n",
    "\n",
    "input_text = \"wedding ceremony\"\n",
    "\n",
    "def text_normalizer(text):\n",
    "    if 'car' in text:\n",
    "        return 'cars'\n",
    "    elif ( 'hous' in text ) or  ( 'real estate' in text ) or  ( 'property' in text ):\n",
    "        return 'real estate'\n",
    "    elif  'wedding' in text :\n",
    "        return 'wedding'\n",
    "    elif ( 'educat' in text ) or  ( 'university' in text ):\n",
    "        return 'education'\n",
    "    else:\n",
    "        return 'no category'\n",
    "    "
   ]
  },
  {
   "cell_type": "code",
   "execution_count": 78,
   "metadata": {},
   "outputs": [
    {
     "data": {
      "text/plain": [
       "'wedding'"
      ]
     },
     "execution_count": 78,
     "metadata": {},
     "output_type": "execute_result"
    }
   ],
   "source": [
    "text_normalizer(input_text)"
   ]
  },
  {
   "cell_type": "code",
   "execution_count": 79,
   "metadata": {},
   "outputs": [],
   "source": [
    "df[\"purpose_norm\"] = df[\"purpose\"].apply(lambda x:text_normalizer(x) )"
   ]
  },
  {
   "cell_type": "code",
   "execution_count": 80,
   "metadata": {},
   "outputs": [
    {
     "data": {
      "text/plain": [
       "real estate    10811\n",
       "cars            4306\n",
       "education       4013\n",
       "wedding         2324\n",
       "Name: purpose_norm, dtype: int64"
      ]
     },
     "execution_count": 80,
     "metadata": {},
     "output_type": "execute_result"
    }
   ],
   "source": [
    "df[\"purpose_norm\"].value_counts()"
   ]
  },
  {
   "cell_type": "markdown",
   "metadata": {},
   "source": [
    "**Categorization of debt** \n"
   ]
  },
  {
   "cell_type": "markdown",
   "metadata": {},
   "source": [
    "The debt column gives just two values 0 and 1. 0 means debt paid on time, 1 means default"
   ]
  },
  {
   "cell_type": "code",
   "execution_count": 81,
   "metadata": {},
   "outputs": [
    {
     "data": {
      "text/plain": [
       "0    19713\n",
       "1     1741\n",
       "Name: debt, dtype: int64"
      ]
     },
     "execution_count": 81,
     "metadata": {},
     "output_type": "execute_result"
    }
   ],
   "source": [
    "df[\"debt\"].value_counts()"
   ]
  },
  {
   "cell_type": "code",
   "execution_count": 82,
   "metadata": {},
   "outputs": [
    {
     "data": {
      "text/html": [
       "<div>\n",
       "<style scoped>\n",
       "    .dataframe tbody tr th:only-of-type {\n",
       "        vertical-align: middle;\n",
       "    }\n",
       "\n",
       "    .dataframe tbody tr th {\n",
       "        vertical-align: top;\n",
       "    }\n",
       "\n",
       "    .dataframe thead th {\n",
       "        text-align: right;\n",
       "    }\n",
       "</style>\n",
       "<table border=\"1\" class=\"dataframe\">\n",
       "  <thead>\n",
       "    <tr style=\"text-align: right;\">\n",
       "      <th></th>\n",
       "      <th>children</th>\n",
       "      <th>days_employed</th>\n",
       "      <th>dob_years</th>\n",
       "      <th>education</th>\n",
       "      <th>education_id</th>\n",
       "      <th>family_status</th>\n",
       "      <th>family_status_id</th>\n",
       "      <th>gender</th>\n",
       "      <th>income_type</th>\n",
       "      <th>debt</th>\n",
       "      <th>total_income</th>\n",
       "      <th>purpose</th>\n",
       "      <th>dob_years_groups</th>\n",
       "      <th>purpose_norm</th>\n",
       "      <th>debt_profile</th>\n",
       "    </tr>\n",
       "  </thead>\n",
       "  <tbody>\n",
       "    <tr>\n",
       "      <th>0</th>\n",
       "      <td>1.0</td>\n",
       "      <td>8437.673028</td>\n",
       "      <td>42.0</td>\n",
       "      <td>bachelor's degree</td>\n",
       "      <td>0</td>\n",
       "      <td>married</td>\n",
       "      <td>0</td>\n",
       "      <td>F</td>\n",
       "      <td>employee</td>\n",
       "      <td>0</td>\n",
       "      <td>40620.102</td>\n",
       "      <td>purchase of the house</td>\n",
       "      <td>25 - 45</td>\n",
       "      <td>real estate</td>\n",
       "      <td>paid</td>\n",
       "    </tr>\n",
       "    <tr>\n",
       "      <th>1</th>\n",
       "      <td>1.0</td>\n",
       "      <td>4024.803754</td>\n",
       "      <td>36.0</td>\n",
       "      <td>secondary education</td>\n",
       "      <td>1</td>\n",
       "      <td>married</td>\n",
       "      <td>0</td>\n",
       "      <td>F</td>\n",
       "      <td>employee</td>\n",
       "      <td>0</td>\n",
       "      <td>17932.802</td>\n",
       "      <td>car purchase</td>\n",
       "      <td>25 - 45</td>\n",
       "      <td>cars</td>\n",
       "      <td>paid</td>\n",
       "    </tr>\n",
       "    <tr>\n",
       "      <th>2</th>\n",
       "      <td>0.0</td>\n",
       "      <td>5623.422610</td>\n",
       "      <td>33.0</td>\n",
       "      <td>secondary education</td>\n",
       "      <td>1</td>\n",
       "      <td>married</td>\n",
       "      <td>0</td>\n",
       "      <td>M</td>\n",
       "      <td>employee</td>\n",
       "      <td>0</td>\n",
       "      <td>23341.752</td>\n",
       "      <td>purchase of the house</td>\n",
       "      <td>25 - 45</td>\n",
       "      <td>real estate</td>\n",
       "      <td>paid</td>\n",
       "    </tr>\n",
       "    <tr>\n",
       "      <th>3</th>\n",
       "      <td>3.0</td>\n",
       "      <td>4124.747207</td>\n",
       "      <td>32.0</td>\n",
       "      <td>secondary education</td>\n",
       "      <td>1</td>\n",
       "      <td>married</td>\n",
       "      <td>0</td>\n",
       "      <td>M</td>\n",
       "      <td>employee</td>\n",
       "      <td>0</td>\n",
       "      <td>42820.568</td>\n",
       "      <td>supplementary education</td>\n",
       "      <td>25 - 45</td>\n",
       "      <td>education</td>\n",
       "      <td>paid</td>\n",
       "    </tr>\n",
       "    <tr>\n",
       "      <th>4</th>\n",
       "      <td>0.0</td>\n",
       "      <td>1630.019381</td>\n",
       "      <td>53.0</td>\n",
       "      <td>secondary education</td>\n",
       "      <td>1</td>\n",
       "      <td>civil partnership</td>\n",
       "      <td>1</td>\n",
       "      <td>F</td>\n",
       "      <td>retiree</td>\n",
       "      <td>0</td>\n",
       "      <td>25378.572</td>\n",
       "      <td>to have a wedding</td>\n",
       "      <td>45 -65</td>\n",
       "      <td>wedding</td>\n",
       "      <td>paid</td>\n",
       "    </tr>\n",
       "    <tr>\n",
       "      <th>5</th>\n",
       "      <td>0.0</td>\n",
       "      <td>926.185831</td>\n",
       "      <td>27.0</td>\n",
       "      <td>bachelor's degree</td>\n",
       "      <td>0</td>\n",
       "      <td>civil partnership</td>\n",
       "      <td>1</td>\n",
       "      <td>M</td>\n",
       "      <td>business</td>\n",
       "      <td>0</td>\n",
       "      <td>40922.170</td>\n",
       "      <td>purchase of the house</td>\n",
       "      <td>25 - 45</td>\n",
       "      <td>real estate</td>\n",
       "      <td>paid</td>\n",
       "    </tr>\n",
       "    <tr>\n",
       "      <th>6</th>\n",
       "      <td>0.0</td>\n",
       "      <td>2879.202052</td>\n",
       "      <td>43.0</td>\n",
       "      <td>bachelor's degree</td>\n",
       "      <td>0</td>\n",
       "      <td>married</td>\n",
       "      <td>0</td>\n",
       "      <td>F</td>\n",
       "      <td>business</td>\n",
       "      <td>0</td>\n",
       "      <td>38484.156</td>\n",
       "      <td>housing transactions</td>\n",
       "      <td>25 - 45</td>\n",
       "      <td>real estate</td>\n",
       "      <td>paid</td>\n",
       "    </tr>\n",
       "    <tr>\n",
       "      <th>7</th>\n",
       "      <td>0.0</td>\n",
       "      <td>152.779569</td>\n",
       "      <td>50.0</td>\n",
       "      <td>secondary education</td>\n",
       "      <td>1</td>\n",
       "      <td>married</td>\n",
       "      <td>0</td>\n",
       "      <td>M</td>\n",
       "      <td>employee</td>\n",
       "      <td>0</td>\n",
       "      <td>21731.829</td>\n",
       "      <td>education</td>\n",
       "      <td>45 -65</td>\n",
       "      <td>education</td>\n",
       "      <td>paid</td>\n",
       "    </tr>\n",
       "    <tr>\n",
       "      <th>8</th>\n",
       "      <td>2.0</td>\n",
       "      <td>6929.865299</td>\n",
       "      <td>35.0</td>\n",
       "      <td>bachelor's degree</td>\n",
       "      <td>0</td>\n",
       "      <td>civil partnership</td>\n",
       "      <td>1</td>\n",
       "      <td>F</td>\n",
       "      <td>employee</td>\n",
       "      <td>0</td>\n",
       "      <td>15337.093</td>\n",
       "      <td>having a wedding</td>\n",
       "      <td>25 - 45</td>\n",
       "      <td>wedding</td>\n",
       "      <td>paid</td>\n",
       "    </tr>\n",
       "    <tr>\n",
       "      <th>9</th>\n",
       "      <td>0.0</td>\n",
       "      <td>2188.756445</td>\n",
       "      <td>41.0</td>\n",
       "      <td>secondary education</td>\n",
       "      <td>1</td>\n",
       "      <td>married</td>\n",
       "      <td>0</td>\n",
       "      <td>M</td>\n",
       "      <td>employee</td>\n",
       "      <td>0</td>\n",
       "      <td>23108.150</td>\n",
       "      <td>purchase of the house for my family</td>\n",
       "      <td>25 - 45</td>\n",
       "      <td>real estate</td>\n",
       "      <td>paid</td>\n",
       "    </tr>\n",
       "  </tbody>\n",
       "</table>\n",
       "</div>"
      ],
      "text/plain": [
       "   children  days_employed  dob_years            education  education_id  \\\n",
       "0       1.0    8437.673028       42.0    bachelor's degree             0   \n",
       "1       1.0    4024.803754       36.0  secondary education             1   \n",
       "2       0.0    5623.422610       33.0  secondary education             1   \n",
       "3       3.0    4124.747207       32.0  secondary education             1   \n",
       "4       0.0    1630.019381       53.0  secondary education             1   \n",
       "5       0.0     926.185831       27.0    bachelor's degree             0   \n",
       "6       0.0    2879.202052       43.0    bachelor's degree             0   \n",
       "7       0.0     152.779569       50.0  secondary education             1   \n",
       "8       2.0    6929.865299       35.0    bachelor's degree             0   \n",
       "9       0.0    2188.756445       41.0  secondary education             1   \n",
       "\n",
       "       family_status  family_status_id gender income_type  debt  total_income  \\\n",
       "0            married                 0      F    employee     0     40620.102   \n",
       "1            married                 0      F    employee     0     17932.802   \n",
       "2            married                 0      M    employee     0     23341.752   \n",
       "3            married                 0      M    employee     0     42820.568   \n",
       "4  civil partnership                 1      F     retiree     0     25378.572   \n",
       "5  civil partnership                 1      M    business     0     40922.170   \n",
       "6            married                 0      F    business     0     38484.156   \n",
       "7            married                 0      M    employee     0     21731.829   \n",
       "8  civil partnership                 1      F    employee     0     15337.093   \n",
       "9            married                 0      M    employee     0     23108.150   \n",
       "\n",
       "                               purpose dob_years_groups purpose_norm  \\\n",
       "0                purchase of the house          25 - 45  real estate   \n",
       "1                         car purchase          25 - 45         cars   \n",
       "2                purchase of the house          25 - 45  real estate   \n",
       "3              supplementary education          25 - 45    education   \n",
       "4                    to have a wedding           45 -65      wedding   \n",
       "5                purchase of the house          25 - 45  real estate   \n",
       "6                 housing transactions          25 - 45  real estate   \n",
       "7                            education           45 -65    education   \n",
       "8                     having a wedding          25 - 45      wedding   \n",
       "9  purchase of the house for my family          25 - 45  real estate   \n",
       "\n",
       "  debt_profile  \n",
       "0         paid  \n",
       "1         paid  \n",
       "2         paid  \n",
       "3         paid  \n",
       "4         paid  \n",
       "5         paid  \n",
       "6         paid  \n",
       "7         paid  \n",
       "8         paid  \n",
       "9         paid  "
      ]
     },
     "execution_count": 82,
     "metadata": {},
     "output_type": "execute_result"
    }
   ],
   "source": [
    "def debt_profile(debt_sta):#this defines a function  debt_profile, and it takes the argument debt_sta\n",
    "    \n",
    "    \n",
    "    if debt_sta == 0:\n",
    "        return \"paid\"\n",
    "    #if the input value is 0, the string returned is \"paid\"\n",
    "    elif debt_sta == 1:\n",
    "        return \"defaulted\"\n",
    "    #if the input value is 1, the string returned is \"defaulted\"\n",
    "    \n",
    "df[\"debt_profile\"] = df[\"debt\"].apply(debt_profile)\n",
    "df.head(10)    "
   ]
  },
  {
   "cell_type": "markdown",
   "metadata": {},
   "source": [
    "**Categorizing the \"total_income\" column** "
   ]
  },
  {
   "cell_type": "code",
   "execution_count": 83,
   "metadata": {},
   "outputs": [
    {
     "data": {
      "text/plain": [
       "362496.645"
      ]
     },
     "execution_count": 83,
     "metadata": {},
     "output_type": "execute_result"
    }
   ],
   "source": [
    "df[\"total_income\"].max()"
   ]
  },
  {
   "cell_type": "code",
   "execution_count": 84,
   "metadata": {},
   "outputs": [
    {
     "data": {
      "text/plain": [
       "3306.762"
      ]
     },
     "execution_count": 84,
     "metadata": {},
     "output_type": "execute_result"
    }
   ],
   "source": [
    "df[\"total_income\"].min()"
   ]
  },
  {
   "cell_type": "code",
   "execution_count": 85,
   "metadata": {},
   "outputs": [],
   "source": [
    "def income_status(total_income):\n",
    "#created function \"income_status\" with total_income as the argument\n",
    "\n",
    "    if total_income > 0 and total_income < 40000:\n",
    "        return \"low earner\"\n",
    "    if total_income > 40000 and total_income < 80000:\n",
    "        return \"average earner\"\n",
    "    if total_income > 80000 and total_income < 120000:\n",
    "        return \"above average earner\"\n",
    "    if total_income > 120000 and total_income < 180000:\n",
    "        return \"High earner\"\n",
    "    if total_income > 180000 and total_income < 250000:\n",
    "        return \"Very High earner\"\n",
    "    return \"Extremely High earner\"\n",
    "        \n",
    "    \n",
    "df[\"income_status\"] = df[\"total_income\"].apply(income_status) \n",
    "#Here we apply our function to the total_income column, and it creates another column \"income_status\" \n"
   ]
  },
  {
   "cell_type": "code",
   "execution_count": 86,
   "metadata": {},
   "outputs": [
    {
     "data": {
      "text/html": [
       "<div>\n",
       "<style scoped>\n",
       "    .dataframe tbody tr th:only-of-type {\n",
       "        vertical-align: middle;\n",
       "    }\n",
       "\n",
       "    .dataframe tbody tr th {\n",
       "        vertical-align: top;\n",
       "    }\n",
       "\n",
       "    .dataframe thead th {\n",
       "        text-align: right;\n",
       "    }\n",
       "</style>\n",
       "<table border=\"1\" class=\"dataframe\">\n",
       "  <thead>\n",
       "    <tr style=\"text-align: right;\">\n",
       "      <th></th>\n",
       "      <th>children</th>\n",
       "      <th>days_employed</th>\n",
       "      <th>dob_years</th>\n",
       "      <th>education</th>\n",
       "      <th>education_id</th>\n",
       "      <th>family_status</th>\n",
       "      <th>family_status_id</th>\n",
       "      <th>gender</th>\n",
       "      <th>income_type</th>\n",
       "      <th>debt</th>\n",
       "      <th>total_income</th>\n",
       "      <th>purpose</th>\n",
       "      <th>dob_years_groups</th>\n",
       "      <th>purpose_norm</th>\n",
       "      <th>debt_profile</th>\n",
       "      <th>income_status</th>\n",
       "    </tr>\n",
       "  </thead>\n",
       "  <tbody>\n",
       "    <tr>\n",
       "      <th>0</th>\n",
       "      <td>1.0</td>\n",
       "      <td>8437.673028</td>\n",
       "      <td>42.0</td>\n",
       "      <td>bachelor's degree</td>\n",
       "      <td>0</td>\n",
       "      <td>married</td>\n",
       "      <td>0</td>\n",
       "      <td>F</td>\n",
       "      <td>employee</td>\n",
       "      <td>0</td>\n",
       "      <td>40620.102</td>\n",
       "      <td>purchase of the house</td>\n",
       "      <td>25 - 45</td>\n",
       "      <td>real estate</td>\n",
       "      <td>paid</td>\n",
       "      <td>average earner</td>\n",
       "    </tr>\n",
       "    <tr>\n",
       "      <th>1</th>\n",
       "      <td>1.0</td>\n",
       "      <td>4024.803754</td>\n",
       "      <td>36.0</td>\n",
       "      <td>secondary education</td>\n",
       "      <td>1</td>\n",
       "      <td>married</td>\n",
       "      <td>0</td>\n",
       "      <td>F</td>\n",
       "      <td>employee</td>\n",
       "      <td>0</td>\n",
       "      <td>17932.802</td>\n",
       "      <td>car purchase</td>\n",
       "      <td>25 - 45</td>\n",
       "      <td>cars</td>\n",
       "      <td>paid</td>\n",
       "      <td>low earner</td>\n",
       "    </tr>\n",
       "    <tr>\n",
       "      <th>2</th>\n",
       "      <td>0.0</td>\n",
       "      <td>5623.422610</td>\n",
       "      <td>33.0</td>\n",
       "      <td>secondary education</td>\n",
       "      <td>1</td>\n",
       "      <td>married</td>\n",
       "      <td>0</td>\n",
       "      <td>M</td>\n",
       "      <td>employee</td>\n",
       "      <td>0</td>\n",
       "      <td>23341.752</td>\n",
       "      <td>purchase of the house</td>\n",
       "      <td>25 - 45</td>\n",
       "      <td>real estate</td>\n",
       "      <td>paid</td>\n",
       "      <td>low earner</td>\n",
       "    </tr>\n",
       "    <tr>\n",
       "      <th>3</th>\n",
       "      <td>3.0</td>\n",
       "      <td>4124.747207</td>\n",
       "      <td>32.0</td>\n",
       "      <td>secondary education</td>\n",
       "      <td>1</td>\n",
       "      <td>married</td>\n",
       "      <td>0</td>\n",
       "      <td>M</td>\n",
       "      <td>employee</td>\n",
       "      <td>0</td>\n",
       "      <td>42820.568</td>\n",
       "      <td>supplementary education</td>\n",
       "      <td>25 - 45</td>\n",
       "      <td>education</td>\n",
       "      <td>paid</td>\n",
       "      <td>average earner</td>\n",
       "    </tr>\n",
       "    <tr>\n",
       "      <th>4</th>\n",
       "      <td>0.0</td>\n",
       "      <td>1630.019381</td>\n",
       "      <td>53.0</td>\n",
       "      <td>secondary education</td>\n",
       "      <td>1</td>\n",
       "      <td>civil partnership</td>\n",
       "      <td>1</td>\n",
       "      <td>F</td>\n",
       "      <td>retiree</td>\n",
       "      <td>0</td>\n",
       "      <td>25378.572</td>\n",
       "      <td>to have a wedding</td>\n",
       "      <td>45 -65</td>\n",
       "      <td>wedding</td>\n",
       "      <td>paid</td>\n",
       "      <td>low earner</td>\n",
       "    </tr>\n",
       "    <tr>\n",
       "      <th>...</th>\n",
       "      <td>...</td>\n",
       "      <td>...</td>\n",
       "      <td>...</td>\n",
       "      <td>...</td>\n",
       "      <td>...</td>\n",
       "      <td>...</td>\n",
       "      <td>...</td>\n",
       "      <td>...</td>\n",
       "      <td>...</td>\n",
       "      <td>...</td>\n",
       "      <td>...</td>\n",
       "      <td>...</td>\n",
       "      <td>...</td>\n",
       "      <td>...</td>\n",
       "      <td>...</td>\n",
       "      <td>...</td>\n",
       "    </tr>\n",
       "    <tr>\n",
       "      <th>21449</th>\n",
       "      <td>1.0</td>\n",
       "      <td>4529.316663</td>\n",
       "      <td>43.0</td>\n",
       "      <td>secondary education</td>\n",
       "      <td>1</td>\n",
       "      <td>civil partnership</td>\n",
       "      <td>1</td>\n",
       "      <td>F</td>\n",
       "      <td>business</td>\n",
       "      <td>0</td>\n",
       "      <td>35966.698</td>\n",
       "      <td>housing transactions</td>\n",
       "      <td>25 - 45</td>\n",
       "      <td>real estate</td>\n",
       "      <td>paid</td>\n",
       "      <td>low earner</td>\n",
       "    </tr>\n",
       "    <tr>\n",
       "      <th>21450</th>\n",
       "      <td>0.0</td>\n",
       "      <td>1630.019381</td>\n",
       "      <td>67.0</td>\n",
       "      <td>secondary education</td>\n",
       "      <td>1</td>\n",
       "      <td>married</td>\n",
       "      <td>0</td>\n",
       "      <td>F</td>\n",
       "      <td>retiree</td>\n",
       "      <td>0</td>\n",
       "      <td>24959.969</td>\n",
       "      <td>purchase of a car</td>\n",
       "      <td>above 65</td>\n",
       "      <td>cars</td>\n",
       "      <td>paid</td>\n",
       "      <td>low earner</td>\n",
       "    </tr>\n",
       "    <tr>\n",
       "      <th>21451</th>\n",
       "      <td>1.0</td>\n",
       "      <td>2113.346888</td>\n",
       "      <td>38.0</td>\n",
       "      <td>secondary education</td>\n",
       "      <td>1</td>\n",
       "      <td>civil partnership</td>\n",
       "      <td>1</td>\n",
       "      <td>M</td>\n",
       "      <td>employee</td>\n",
       "      <td>1</td>\n",
       "      <td>14347.610</td>\n",
       "      <td>property</td>\n",
       "      <td>25 - 45</td>\n",
       "      <td>real estate</td>\n",
       "      <td>defaulted</td>\n",
       "      <td>low earner</td>\n",
       "    </tr>\n",
       "    <tr>\n",
       "      <th>21452</th>\n",
       "      <td>3.0</td>\n",
       "      <td>3112.481705</td>\n",
       "      <td>38.0</td>\n",
       "      <td>secondary education</td>\n",
       "      <td>1</td>\n",
       "      <td>married</td>\n",
       "      <td>0</td>\n",
       "      <td>M</td>\n",
       "      <td>employee</td>\n",
       "      <td>1</td>\n",
       "      <td>39054.888</td>\n",
       "      <td>buying my own car</td>\n",
       "      <td>25 - 45</td>\n",
       "      <td>cars</td>\n",
       "      <td>defaulted</td>\n",
       "      <td>low earner</td>\n",
       "    </tr>\n",
       "    <tr>\n",
       "      <th>21453</th>\n",
       "      <td>2.0</td>\n",
       "      <td>1984.507589</td>\n",
       "      <td>40.0</td>\n",
       "      <td>secondary education</td>\n",
       "      <td>1</td>\n",
       "      <td>married</td>\n",
       "      <td>0</td>\n",
       "      <td>F</td>\n",
       "      <td>employee</td>\n",
       "      <td>0</td>\n",
       "      <td>13127.587</td>\n",
       "      <td>to buy a car</td>\n",
       "      <td>25 - 45</td>\n",
       "      <td>cars</td>\n",
       "      <td>paid</td>\n",
       "      <td>low earner</td>\n",
       "    </tr>\n",
       "  </tbody>\n",
       "</table>\n",
       "<p>21454 rows × 16 columns</p>\n",
       "</div>"
      ],
      "text/plain": [
       "       children  days_employed  dob_years            education  education_id  \\\n",
       "0           1.0    8437.673028       42.0    bachelor's degree             0   \n",
       "1           1.0    4024.803754       36.0  secondary education             1   \n",
       "2           0.0    5623.422610       33.0  secondary education             1   \n",
       "3           3.0    4124.747207       32.0  secondary education             1   \n",
       "4           0.0    1630.019381       53.0  secondary education             1   \n",
       "...         ...            ...        ...                  ...           ...   \n",
       "21449       1.0    4529.316663       43.0  secondary education             1   \n",
       "21450       0.0    1630.019381       67.0  secondary education             1   \n",
       "21451       1.0    2113.346888       38.0  secondary education             1   \n",
       "21452       3.0    3112.481705       38.0  secondary education             1   \n",
       "21453       2.0    1984.507589       40.0  secondary education             1   \n",
       "\n",
       "           family_status  family_status_id gender income_type  debt  \\\n",
       "0                married                 0      F    employee     0   \n",
       "1                married                 0      F    employee     0   \n",
       "2                married                 0      M    employee     0   \n",
       "3                married                 0      M    employee     0   \n",
       "4      civil partnership                 1      F     retiree     0   \n",
       "...                  ...               ...    ...         ...   ...   \n",
       "21449  civil partnership                 1      F    business     0   \n",
       "21450            married                 0      F     retiree     0   \n",
       "21451  civil partnership                 1      M    employee     1   \n",
       "21452            married                 0      M    employee     1   \n",
       "21453            married                 0      F    employee     0   \n",
       "\n",
       "       total_income                  purpose dob_years_groups purpose_norm  \\\n",
       "0         40620.102    purchase of the house          25 - 45  real estate   \n",
       "1         17932.802             car purchase          25 - 45         cars   \n",
       "2         23341.752    purchase of the house          25 - 45  real estate   \n",
       "3         42820.568  supplementary education          25 - 45    education   \n",
       "4         25378.572        to have a wedding           45 -65      wedding   \n",
       "...             ...                      ...              ...          ...   \n",
       "21449     35966.698     housing transactions          25 - 45  real estate   \n",
       "21450     24959.969        purchase of a car         above 65         cars   \n",
       "21451     14347.610                 property          25 - 45  real estate   \n",
       "21452     39054.888        buying my own car          25 - 45         cars   \n",
       "21453     13127.587             to buy a car          25 - 45         cars   \n",
       "\n",
       "      debt_profile   income_status  \n",
       "0             paid  average earner  \n",
       "1             paid      low earner  \n",
       "2             paid      low earner  \n",
       "3             paid  average earner  \n",
       "4             paid      low earner  \n",
       "...            ...             ...  \n",
       "21449         paid      low earner  \n",
       "21450         paid      low earner  \n",
       "21451    defaulted      low earner  \n",
       "21452    defaulted      low earner  \n",
       "21453         paid      low earner  \n",
       "\n",
       "[21454 rows x 16 columns]"
      ]
     },
     "execution_count": 86,
     "metadata": {},
     "output_type": "execute_result"
    }
   ],
   "source": [
    "df"
   ]
  },
  {
   "cell_type": "markdown",
   "metadata": {},
   "source": [
    "**Categorizing the \"children\" column** \n"
   ]
  },
  {
   "cell_type": "code",
   "execution_count": 87,
   "metadata": {},
   "outputs": [],
   "source": [
    "def children_no(children):\n",
    "#created function \"children_no\" with children as the argument\n",
    "    \n",
    "    if children == 0:\n",
    "        return \"no child\"\n",
    "    #if the number of children is 0,return the string \"no child\"\n",
    "    elif children > 0:\n",
    "        return \"children\"\n",
    "     #if the number of children is greater than 0,return the string \"children\"\n",
    "        \n",
    "\n",
    "df[\"children_no\"] = df[\"children\"].apply(children_no)  \n",
    "    \n",
    "\n"
   ]
  },
  {
   "cell_type": "code",
   "execution_count": 88,
   "metadata": {},
   "outputs": [
    {
     "data": {
      "text/plain": [
       "0.0    14214\n",
       "1.0     4808\n",
       "2.0     2052\n",
       "3.0      330\n",
       "4.0       41\n",
       "5.0        9\n",
       "Name: children, dtype: int64"
      ]
     },
     "execution_count": 88,
     "metadata": {},
     "output_type": "execute_result"
    }
   ],
   "source": [
    "df[\"children\"].value_counts()"
   ]
  },
  {
   "cell_type": "markdown",
   "metadata": {},
   "source": [
    "## Checking the Hypotheses\n"
   ]
  },
  {
   "cell_type": "markdown",
   "metadata": {},
   "source": [
    "**Is there a correlation between having children and paying back on time?**"
   ]
  },
  {
   "cell_type": "code",
   "execution_count": 89,
   "metadata": {},
   "outputs": [
    {
     "data": {
      "text/html": [
       "<div>\n",
       "<style scoped>\n",
       "    .dataframe tbody tr th:only-of-type {\n",
       "        vertical-align: middle;\n",
       "    }\n",
       "\n",
       "    .dataframe tbody tr th {\n",
       "        vertical-align: top;\n",
       "    }\n",
       "\n",
       "    .dataframe thead th {\n",
       "        text-align: right;\n",
       "    }\n",
       "</style>\n",
       "<table border=\"1\" class=\"dataframe\">\n",
       "  <thead>\n",
       "    <tr style=\"text-align: right;\">\n",
       "      <th>debt_profile</th>\n",
       "      <th>defaulted</th>\n",
       "      <th>paid</th>\n",
       "    </tr>\n",
       "    <tr>\n",
       "      <th>children_no</th>\n",
       "      <th></th>\n",
       "      <th></th>\n",
       "    </tr>\n",
       "  </thead>\n",
       "  <tbody>\n",
       "    <tr>\n",
       "      <th>children</th>\n",
       "      <td>669</td>\n",
       "      <td>6571</td>\n",
       "    </tr>\n",
       "    <tr>\n",
       "      <th>no child</th>\n",
       "      <td>1072</td>\n",
       "      <td>13142</td>\n",
       "    </tr>\n",
       "  </tbody>\n",
       "</table>\n",
       "</div>"
      ],
      "text/plain": [
       "debt_profile  defaulted   paid\n",
       "children_no                   \n",
       "children            669   6571\n",
       "no child           1072  13142"
      ]
     },
     "execution_count": 89,
     "metadata": {},
     "output_type": "execute_result"
    }
   ],
   "source": [
    "# Check the children data and paying back on time\n",
    "df_children_data = df.pivot_table(index= \"children_no\", columns = \"debt_profile\", values = \"dob_years\", aggfunc = \"count\")\n",
    "df_children_data\n"
   ]
  },
  {
   "cell_type": "markdown",
   "metadata": {},
   "source": [
    "**Default rate for those with kids**"
   ]
  },
  {
   "cell_type": "code",
   "execution_count": 90,
   "metadata": {},
   "outputs": [
    {
     "data": {
      "text/plain": [
       "0.09240331491712707"
      ]
     },
     "execution_count": 90,
     "metadata": {},
     "output_type": "execute_result"
    }
   ],
   "source": [
    "#Calculating the default percentage for those with kids\n",
    "df[(df[\"debt_profile\"]== \"defaulted\") & (df[\"children_no\"]==\"children\")].shape[0]/df.loc[df[\"children_no\"]==\"children\"].shape[0]"
   ]
  },
  {
   "cell_type": "markdown",
   "metadata": {},
   "source": [
    "**Default rate for those without kids**"
   ]
  },
  {
   "cell_type": "code",
   "execution_count": 91,
   "metadata": {},
   "outputs": [
    {
     "data": {
      "text/plain": [
       "0.07541860137892219"
      ]
     },
     "execution_count": 91,
     "metadata": {},
     "output_type": "execute_result"
    }
   ],
   "source": [
    "#Calculating the default percentage for those without kids\n",
    "df[(df[\"debt_profile\"]== \"defaulted\") & (df[\"children_no\"]==\"no child\")].shape[0]/df.loc[df[\"children_no\"]==\"no child\"].shape[0]"
   ]
  },
  {
   "cell_type": "markdown",
   "metadata": {},
   "source": [
    "**Conclusion**\n",
    "\n",
    "From the findings above, customers with kids are more likely to default on their loan than customers without kids "
   ]
  },
  {
   "cell_type": "markdown",
   "metadata": {},
   "source": [
    "**Is there a correlation between family status and paying back on time?**"
   ]
  },
  {
   "cell_type": "markdown",
   "metadata": {},
   "source": [
    "The \"family_status\" column is grouped to five distinct categories, namely: civil partnership, divorced, married, unmarried, widow/widower. So, I grouped by the family_status table, and count for those who made payments on time, and those who defaulted. Then I calculated the default rate for each category"
   ]
  },
  {
   "cell_type": "code",
   "execution_count": 92,
   "metadata": {},
   "outputs": [
    {
     "data": {
      "text/html": [
       "<div>\n",
       "<style scoped>\n",
       "    .dataframe tbody tr th:only-of-type {\n",
       "        vertical-align: middle;\n",
       "    }\n",
       "\n",
       "    .dataframe tbody tr th {\n",
       "        vertical-align: top;\n",
       "    }\n",
       "\n",
       "    .dataframe thead th {\n",
       "        text-align: right;\n",
       "    }\n",
       "</style>\n",
       "<table border=\"1\" class=\"dataframe\">\n",
       "  <thead>\n",
       "    <tr style=\"text-align: right;\">\n",
       "      <th>debt_profile</th>\n",
       "      <th>defaulted</th>\n",
       "      <th>paid</th>\n",
       "    </tr>\n",
       "    <tr>\n",
       "      <th>family_status</th>\n",
       "      <th></th>\n",
       "      <th></th>\n",
       "    </tr>\n",
       "  </thead>\n",
       "  <tbody>\n",
       "    <tr>\n",
       "      <th>civil partnership</th>\n",
       "      <td>388</td>\n",
       "      <td>3763</td>\n",
       "    </tr>\n",
       "    <tr>\n",
       "      <th>divorced</th>\n",
       "      <td>85</td>\n",
       "      <td>1110</td>\n",
       "    </tr>\n",
       "    <tr>\n",
       "      <th>married</th>\n",
       "      <td>931</td>\n",
       "      <td>11408</td>\n",
       "    </tr>\n",
       "    <tr>\n",
       "      <th>unmarried</th>\n",
       "      <td>274</td>\n",
       "      <td>2536</td>\n",
       "    </tr>\n",
       "    <tr>\n",
       "      <th>widow / widower</th>\n",
       "      <td>63</td>\n",
       "      <td>896</td>\n",
       "    </tr>\n",
       "  </tbody>\n",
       "</table>\n",
       "</div>"
      ],
      "text/plain": [
       "debt_profile       defaulted   paid\n",
       "family_status                      \n",
       "civil partnership        388   3763\n",
       "divorced                  85   1110\n",
       "married                  931  11408\n",
       "unmarried                274   2536\n",
       "widow / widower           63    896"
      ]
     },
     "execution_count": 92,
     "metadata": {},
     "output_type": "execute_result"
    }
   ],
   "source": [
    "# Check the family status data and paying back on time\n",
    "df_family_status = df.pivot_table(index= \"family_status\", columns = \"debt_profile\", values = \"dob_years\", aggfunc = \"count\")\n",
    "df_family_status\n"
   ]
  },
  {
   "cell_type": "markdown",
   "metadata": {},
   "source": [
    "**Civil partnership default rate**"
   ]
  },
  {
   "cell_type": "code",
   "execution_count": 93,
   "metadata": {},
   "outputs": [
    {
     "data": {
      "text/plain": [
       "0.09347145266200915"
      ]
     },
     "execution_count": 93,
     "metadata": {},
     "output_type": "execute_result"
    }
   ],
   "source": [
    "#Calculating the default rate for civil partnership\n",
    "df[(df[\"debt_profile\"]== \"defaulted\") & (df[\"family_status\"]==\"civil partnership\")].shape[0]/df.loc[df[\"family_status\"]==\"civil partnership\"].shape[0]"
   ]
  },
  {
   "cell_type": "markdown",
   "metadata": {},
   "source": [
    "**Divorced default rate**"
   ]
  },
  {
   "cell_type": "code",
   "execution_count": 94,
   "metadata": {},
   "outputs": [
    {
     "data": {
      "text/plain": [
       "0.07112970711297072"
      ]
     },
     "execution_count": 94,
     "metadata": {},
     "output_type": "execute_result"
    }
   ],
   "source": [
    "#Calculating the default rate for those that are divorced\n",
    "df[(df[\"debt_profile\"]== \"defaulted\") & (df[\"family_status\"]==\"divorced\")].shape[0]/df.loc[df[\"family_status\"]==\"divorced\"].shape[0]"
   ]
  },
  {
   "cell_type": "markdown",
   "metadata": {},
   "source": [
    "**Married default rate**"
   ]
  },
  {
   "cell_type": "code",
   "execution_count": 95,
   "metadata": {},
   "outputs": [
    {
     "data": {
      "text/plain": [
       "0.07545181943431396"
      ]
     },
     "execution_count": 95,
     "metadata": {},
     "output_type": "execute_result"
    }
   ],
   "source": [
    "#Calculating the default rate for widow/widower\n",
    "df[(df[\"debt_profile\"]== \"defaulted\") & (df[\"family_status\"]==\"married\")].shape[0]/df.loc[df[\"family_status\"]==\"married\"].shape[0]"
   ]
  },
  {
   "cell_type": "markdown",
   "metadata": {},
   "source": [
    "**Unmarried default rate**"
   ]
  },
  {
   "cell_type": "code",
   "execution_count": 96,
   "metadata": {},
   "outputs": [
    {
     "data": {
      "text/plain": [
       "0.09750889679715302"
      ]
     },
     "execution_count": 96,
     "metadata": {},
     "output_type": "execute_result"
    }
   ],
   "source": [
    "#Calculating the default rate for unmarried people\n",
    "df[(df[\"debt_profile\"]== \"defaulted\") & (df[\"family_status\"]==\"unmarried\")].shape[0]/df.loc[df[\"family_status\"]==\"unmarried\"].shape[0]"
   ]
  },
  {
   "cell_type": "markdown",
   "metadata": {},
   "source": [
    "**Default rate for widow/widower**\n"
   ]
  },
  {
   "cell_type": "code",
   "execution_count": 97,
   "metadata": {},
   "outputs": [
    {
     "data": {
      "text/plain": [
       "0.06569343065693431"
      ]
     },
     "execution_count": 97,
     "metadata": {},
     "output_type": "execute_result"
    }
   ],
   "source": [
    "df[(df[\"debt_profile\"]== \"defaulted\") & (df[\"family_status\"]==\"widow / widower\")].shape[0]/df.loc[df[\"family_status\"]==\"widow / widower\"].shape[0]"
   ]
  },
  {
   "cell_type": "markdown",
   "metadata": {},
   "source": [
    "**Conclusion**\n"
   ]
  },
  {
   "cell_type": "markdown",
   "metadata": {},
   "source": [
    "The highest default rate belongs to the \"unmarried\" and \"civil partnership\" groups 9.3% and 9.7% respectively, next are the \"married\" and \"divorced\"  which are 7.5% and 7.1%. The lowest default rate are from the \"widows/widowed\" which is 6.6%. "
   ]
  },
  {
   "cell_type": "markdown",
   "metadata": {},
   "source": [
    "**Is there a correlation between income level and paying back on time?**"
   ]
  },
  {
   "cell_type": "markdown",
   "metadata": {},
   "source": [
    "The \"total_income\" column was grouped to six distinct categories, namely: Extremely High earner, High earner, Very High earner, above average earner, average earner, low earner, and stored in the \"income_status\" column. So, I grouped by the income_status table, and count for those who made payments on time, and those who defaulted. Then I calculated the default rate for each category"
   ]
  },
  {
   "cell_type": "code",
   "execution_count": 98,
   "metadata": {},
   "outputs": [
    {
     "data": {
      "text/html": [
       "<div>\n",
       "<style scoped>\n",
       "    .dataframe tbody tr th:only-of-type {\n",
       "        vertical-align: middle;\n",
       "    }\n",
       "\n",
       "    .dataframe tbody tr th {\n",
       "        vertical-align: top;\n",
       "    }\n",
       "\n",
       "    .dataframe thead th {\n",
       "        text-align: right;\n",
       "    }\n",
       "</style>\n",
       "<table border=\"1\" class=\"dataframe\">\n",
       "  <thead>\n",
       "    <tr style=\"text-align: right;\">\n",
       "      <th>debt_profile</th>\n",
       "      <th>defaulted</th>\n",
       "      <th>paid</th>\n",
       "    </tr>\n",
       "    <tr>\n",
       "      <th>income_status</th>\n",
       "      <th></th>\n",
       "      <th></th>\n",
       "    </tr>\n",
       "  </thead>\n",
       "  <tbody>\n",
       "    <tr>\n",
       "      <th>Extremely High earner</th>\n",
       "      <td>1.0</td>\n",
       "      <td>5.0</td>\n",
       "    </tr>\n",
       "    <tr>\n",
       "      <th>High earner</th>\n",
       "      <td>3.0</td>\n",
       "      <td>31.0</td>\n",
       "    </tr>\n",
       "    <tr>\n",
       "      <th>Very High earner</th>\n",
       "      <td>NaN</td>\n",
       "      <td>9.0</td>\n",
       "    </tr>\n",
       "    <tr>\n",
       "      <th>above average earner</th>\n",
       "      <td>10.0</td>\n",
       "      <td>163.0</td>\n",
       "    </tr>\n",
       "    <tr>\n",
       "      <th>average earner</th>\n",
       "      <td>180.0</td>\n",
       "      <td>2411.0</td>\n",
       "    </tr>\n",
       "    <tr>\n",
       "      <th>low earner</th>\n",
       "      <td>1547.0</td>\n",
       "      <td>17094.0</td>\n",
       "    </tr>\n",
       "  </tbody>\n",
       "</table>\n",
       "</div>"
      ],
      "text/plain": [
       "debt_profile           defaulted     paid\n",
       "income_status                            \n",
       "Extremely High earner        1.0      5.0\n",
       "High earner                  3.0     31.0\n",
       "Very High earner             NaN      9.0\n",
       "above average earner        10.0    163.0\n",
       "average earner             180.0   2411.0\n",
       "low earner                1547.0  17094.0"
      ]
     },
     "execution_count": 98,
     "metadata": {},
     "output_type": "execute_result"
    }
   ],
   "source": [
    "# Check the income level data and paying back on time\n",
    "\n",
    "df_income_level = df.pivot_table(index= \"income_status\", columns = \"debt_profile\", values = \"dob_years\", aggfunc = \"count\")\n",
    "df_income_level"
   ]
  },
  {
   "cell_type": "code",
   "execution_count": 99,
   "metadata": {},
   "outputs": [
    {
     "data": {
      "text/plain": [
       "0.16666666666666666"
      ]
     },
     "execution_count": 99,
     "metadata": {},
     "output_type": "execute_result"
    }
   ],
   "source": [
    "# Calculating default rate for Extremely High earners\n",
    "df[(df[\"debt_profile\"]== \"defaulted\") & (df[\"income_status\"]== \"Extremely High earner\")].shape[0]/df.loc[df[\"income_status\"]==\"Extremely High earner\"].shape[0]"
   ]
  },
  {
   "cell_type": "code",
   "execution_count": 100,
   "metadata": {},
   "outputs": [
    {
     "data": {
      "text/plain": [
       "0.08823529411764706"
      ]
     },
     "execution_count": 100,
     "metadata": {},
     "output_type": "execute_result"
    }
   ],
   "source": [
    "# Calculating default rate for High earners\n",
    "df[(df[\"debt_profile\"]== \"defaulted\") & (df[\"income_status\"]== \"High earner\")].shape[0]/df.loc[df[\"income_status\"]==\"High earner\"].shape[0]"
   ]
  },
  {
   "cell_type": "code",
   "execution_count": 101,
   "metadata": {},
   "outputs": [
    {
     "data": {
      "text/plain": [
       "0.057803468208092484"
      ]
     },
     "execution_count": 101,
     "metadata": {},
     "output_type": "execute_result"
    }
   ],
   "source": [
    "# Calculating default rate for above average earners\n",
    "df[(df[\"debt_profile\"]== \"defaulted\") & (df[\"income_status\"]== \"above average earner\")].shape[0]/df.loc[df[\"income_status\"]==\"above average earner\"].shape[0]"
   ]
  },
  {
   "cell_type": "code",
   "execution_count": 102,
   "metadata": {},
   "outputs": [
    {
     "data": {
      "text/plain": [
       "0.06947124662292552"
      ]
     },
     "execution_count": 102,
     "metadata": {},
     "output_type": "execute_result"
    }
   ],
   "source": [
    "# Calculating default rate average earners\n",
    "df[(df[\"debt_profile\"]== \"defaulted\") & (df[\"income_status\"]== \"average earner\")].shape[0]/df.loc[df[\"income_status\"]==\"average earner\"].shape[0]"
   ]
  },
  {
   "cell_type": "code",
   "execution_count": 103,
   "metadata": {},
   "outputs": [
    {
     "data": {
      "text/plain": [
       "0.08298911002628614"
      ]
     },
     "execution_count": 103,
     "metadata": {},
     "output_type": "execute_result"
    }
   ],
   "source": [
    "# Calculating default rate for low earners\n",
    "df[(df[\"debt_profile\"]== \"defaulted\") & (df[\"income_status\"]== \"low earner\")].shape[0]/df.loc[df[\"income_status\"]==\"low earner\"].shape[0]\n"
   ]
  },
  {
   "cell_type": "markdown",
   "metadata": {},
   "source": [
    "**Conclusion**\n",
    "\n",
    "\"Low earners\" have a high probability of defaulting on their loans. While earners that are \"average earners\"  and above to those that are \"Extremely High earners\" are highly unlikely to default on their loans"
   ]
  },
  {
   "cell_type": "markdown",
   "metadata": {},
   "source": [
    "**How does credit purpose affect the default rate?**"
   ]
  },
  {
   "cell_type": "markdown",
   "metadata": {},
   "source": [
    "The purpose column was rearranged to four distinct values, namely: cars, real estate, wedding, education, and stored into purpose_norm. So, I grouped by the purpose_norm table, and count for those who made payments on time, and those who defaulted. Then I calculate the default rate for each category."
   ]
  },
  {
   "cell_type": "code",
   "execution_count": 104,
   "metadata": {},
   "outputs": [
    {
     "data": {
      "text/html": [
       "<div>\n",
       "<style scoped>\n",
       "    .dataframe tbody tr th:only-of-type {\n",
       "        vertical-align: middle;\n",
       "    }\n",
       "\n",
       "    .dataframe tbody tr th {\n",
       "        vertical-align: top;\n",
       "    }\n",
       "\n",
       "    .dataframe thead th {\n",
       "        text-align: right;\n",
       "    }\n",
       "</style>\n",
       "<table border=\"1\" class=\"dataframe\">\n",
       "  <thead>\n",
       "    <tr style=\"text-align: right;\">\n",
       "      <th>debt_profile</th>\n",
       "      <th>defaulted</th>\n",
       "      <th>paid</th>\n",
       "    </tr>\n",
       "    <tr>\n",
       "      <th>purpose_norm</th>\n",
       "      <th></th>\n",
       "      <th></th>\n",
       "    </tr>\n",
       "  </thead>\n",
       "  <tbody>\n",
       "    <tr>\n",
       "      <th>cars</th>\n",
       "      <td>403</td>\n",
       "      <td>3903</td>\n",
       "    </tr>\n",
       "    <tr>\n",
       "      <th>education</th>\n",
       "      <td>370</td>\n",
       "      <td>3643</td>\n",
       "    </tr>\n",
       "    <tr>\n",
       "      <th>real estate</th>\n",
       "      <td>782</td>\n",
       "      <td>10029</td>\n",
       "    </tr>\n",
       "    <tr>\n",
       "      <th>wedding</th>\n",
       "      <td>186</td>\n",
       "      <td>2138</td>\n",
       "    </tr>\n",
       "  </tbody>\n",
       "</table>\n",
       "</div>"
      ],
      "text/plain": [
       "debt_profile  defaulted   paid\n",
       "purpose_norm                  \n",
       "cars                403   3903\n",
       "education           370   3643\n",
       "real estate         782  10029\n",
       "wedding             186   2138"
      ]
     },
     "execution_count": 104,
     "metadata": {},
     "output_type": "execute_result"
    }
   ],
   "source": [
    "# Check the purpose_norm data and paying back on time\n",
    "\n",
    "df_credit_purpose = df.pivot_table(index= \"purpose_norm\", columns = \"debt_profile\", values = \"dob_years\", aggfunc = \"count\")\n",
    "df_credit_purpose"
   ]
  },
  {
   "cell_type": "markdown",
   "metadata": {},
   "source": [
    "**Default rate for Car Purchase Loans**"
   ]
  },
  {
   "cell_type": "code",
   "execution_count": 105,
   "metadata": {},
   "outputs": [
    {
     "data": {
      "text/plain": [
       "0.09359033906177427"
      ]
     },
     "execution_count": 105,
     "metadata": {},
     "output_type": "execute_result"
    }
   ],
   "source": [
    "# Checking the percentage default rate for Car Purchase\n",
    "\n",
    "df[(df[\"purpose_norm\"]== \"cars\") & (df[\"debt_profile\"]== \"defaulted\")].shape[0]/df.loc[df[\"purpose_norm\"]==\"cars\"].shape[0]"
   ]
  },
  {
   "cell_type": "markdown",
   "metadata": {},
   "source": [
    "**Default rate for Education**"
   ]
  },
  {
   "cell_type": "code",
   "execution_count": 106,
   "metadata": {},
   "outputs": [
    {
     "data": {
      "text/plain": [
       "0.0922003488661849"
      ]
     },
     "execution_count": 106,
     "metadata": {},
     "output_type": "execute_result"
    }
   ],
   "source": [
    "# Checking the percentage default rate for Education\n",
    "\n",
    "df[(df[\"purpose_norm\"]== \"education\") & (df[\"debt_profile\"]== \"defaulted\")].shape[0]/df.loc[df[\"purpose_norm\"]==\"education\"].shape[0]"
   ]
  },
  {
   "cell_type": "markdown",
   "metadata": {},
   "source": [
    "**Default rate for Real Estate**"
   ]
  },
  {
   "cell_type": "code",
   "execution_count": 107,
   "metadata": {},
   "outputs": [
    {
     "data": {
      "text/plain": [
       "0.0723337341596522"
      ]
     },
     "execution_count": 107,
     "metadata": {},
     "output_type": "execute_result"
    }
   ],
   "source": [
    "# Checking the percentage default rate for Real Estate\n",
    "\n",
    "df[(df[\"purpose_norm\"]== \"real estate\") & (df[\"debt_profile\"]== \"defaulted\")].shape[0]/df.loc[df[\"purpose_norm\"]==\"real estate\"].shape[0]"
   ]
  },
  {
   "cell_type": "markdown",
   "metadata": {},
   "source": [
    "**Default rate for wedding**"
   ]
  },
  {
   "cell_type": "code",
   "execution_count": 108,
   "metadata": {},
   "outputs": [
    {
     "data": {
      "text/plain": [
       "0.08003442340791739"
      ]
     },
     "execution_count": 108,
     "metadata": {},
     "output_type": "execute_result"
    }
   ],
   "source": [
    "# Checking the percentage default rate for Wedding\n",
    "\n",
    "df[(df[\"purpose_norm\"]== \"wedding\") & (df[\"debt_profile\"]== \"defaulted\")].shape[0]/df.loc[df[\"purpose_norm\"]==\"wedding\"].shape[0]"
   ]
  },
  {
   "cell_type": "markdown",
   "metadata": {},
   "source": [
    "**Conclusion**\n",
    "\n",
    "The default rate for car loans and education are the highest (above 9%), next is wedding loans, just 8%. The least default rate is Real Estate which is just above 7%\n"
   ]
  },
  {
   "cell_type": "markdown",
   "metadata": {},
   "source": [
    "# General Conclusion \n",
    "\n",
    "\n",
    "In this Project I worked with a dataset that contained information on customers' income, loan purpose, debt status, family status, and children status. I had missing values that were symmetric on the total income, and the days employed. These missing values were not filled missing the global mean or global median. I identified customers' characteristics that gave more information about the distribution of the mean, and the median. \n",
    "The total income column was filled with the median, while the day employed column was filled with the mean. Duplicate values in the whole dataset were taken out. Days employed had two issues. It had negative values, and also it had outliers in terms of days that a person worked. First, I took the absolute value of the whole column, then I filtered out ages of people that were older than 65 years and replaced it with the median value of the whole column.\n",
    "The children column had negative values of -1 and ouliers of -20. Although they were small, those values were not taken out, they were rather replaced with the  median.\n",
    "\n",
    "We created dictionaries for family status, and education. The main dataset was grouped into purpose, children number, income status, debt profile and dob years. We found the default rates for each category in each of those columns. We found that:\n",
    "\n",
    "Default rates for car loans and education loans are the highest (above 9%), followed by wedding loans (about 8%), and the lowest being real estate loans (just above 7%).\n",
    "Low earners\" have a high probabilitty of defaulting on their loans. While earners that are \"average earners\" and above to those that are \"Extremely High earners\" are highly unlikely to default on their loans.\n",
    "The highest default rates with respect to family status belong to the \"unmarried\" and \"civil partnership\" groups (9.7% and 9.3%), followed by the married and divorced groups (7.5% and 7.1%), the lowest default rate belongs to the \"widowed\" group (6.6%).\n",
    "Customers with kids are more likely(9.2%) to default on their loan (that is, not pay on time) than customers without kids(7.5%). From the analysis of this data, the Bank will find the categories with lower default rates more credit worthy i.e No kids, High Income, widowed, and taking a loan for real estate. Least favorable will be those from high default rate categories i.e having kids, low income, unmarried or in a civil partnership, and taking a car or education loan.\n",
    "\n",
    "\n",
    "\n",
    "\n"
   ]
  }
 ],
 "metadata": {
  "ExecuteTimeLog": [
   {
    "duration": 2741,
    "start_time": "2021-10-21T01:08:49.480Z"
   },
   {
    "duration": 52,
    "start_time": "2021-10-21T01:08:53.315Z"
   },
   {
    "duration": 49,
    "start_time": "2021-10-21T01:08:57.432Z"
   },
   {
    "duration": 70,
    "start_time": "2021-10-21T01:09:07.706Z"
   },
   {
    "duration": 551,
    "start_time": "2022-08-06T04:47:47.090Z"
   },
   {
    "duration": 67,
    "start_time": "2022-08-06T04:48:08.991Z"
   },
   {
    "duration": 20,
    "start_time": "2022-08-06T04:48:53.114Z"
   },
   {
    "duration": 61,
    "start_time": "2022-08-06T04:50:41.935Z"
   },
   {
    "duration": 60,
    "start_time": "2022-08-06T04:50:48.813Z"
   },
   {
    "duration": 13,
    "start_time": "2022-08-06T04:57:47.089Z"
   },
   {
    "duration": 11,
    "start_time": "2022-08-06T04:58:30.689Z"
   },
   {
    "duration": 11,
    "start_time": "2022-08-06T05:00:07.289Z"
   },
   {
    "duration": 62,
    "start_time": "2022-08-06T05:00:22.309Z"
   },
   {
    "duration": 465,
    "start_time": "2022-08-06T05:00:36.407Z"
   },
   {
    "duration": 15,
    "start_time": "2022-08-06T05:00:39.757Z"
   },
   {
    "duration": 3,
    "start_time": "2022-08-06T05:01:19.211Z"
   },
   {
    "duration": 59,
    "start_time": "2022-08-06T05:10:19.820Z"
   },
   {
    "duration": 13,
    "start_time": "2022-08-06T05:10:29.485Z"
   },
   {
    "duration": 8,
    "start_time": "2022-08-06T05:16:06.290Z"
   },
   {
    "duration": 13,
    "start_time": "2022-08-06T05:27:45.780Z"
   },
   {
    "duration": 556,
    "start_time": "2022-08-06T13:15:41.410Z"
   },
   {
    "duration": 8,
    "start_time": "2022-08-06T13:15:44.658Z"
   },
   {
    "duration": 14,
    "start_time": "2022-08-06T13:15:46.700Z"
   },
   {
    "duration": 13,
    "start_time": "2022-08-06T13:15:50.661Z"
   },
   {
    "duration": 2,
    "start_time": "2022-08-06T13:27:58.178Z"
   },
   {
    "duration": 64,
    "start_time": "2022-08-06T13:34:51.553Z"
   },
   {
    "duration": 5,
    "start_time": "2022-08-06T13:35:03.882Z"
   },
   {
    "duration": 4,
    "start_time": "2022-08-06T13:36:52.354Z"
   },
   {
    "duration": 10,
    "start_time": "2022-08-06T13:39:23.333Z"
   },
   {
    "duration": 4,
    "start_time": "2022-08-06T13:41:03.545Z"
   },
   {
    "duration": 661,
    "start_time": "2022-08-07T18:24:32.180Z"
   },
   {
    "duration": 9,
    "start_time": "2022-08-07T18:24:34.183Z"
   },
   {
    "duration": 17,
    "start_time": "2022-08-07T18:24:35.384Z"
   },
   {
    "duration": 16,
    "start_time": "2022-08-07T18:24:36.710Z"
   },
   {
    "duration": 5,
    "start_time": "2022-08-07T18:24:37.940Z"
   },
   {
    "duration": 6,
    "start_time": "2022-08-07T18:33:57.591Z"
   },
   {
    "duration": 7,
    "start_time": "2022-08-07T18:34:36.040Z"
   },
   {
    "duration": 6,
    "start_time": "2022-08-07T18:45:12.460Z"
   },
   {
    "duration": 76,
    "start_time": "2022-08-07T18:45:45.173Z"
   },
   {
    "duration": 69,
    "start_time": "2022-08-07T19:04:21.824Z"
   },
   {
    "duration": 4,
    "start_time": "2022-08-07T19:04:25.437Z"
   },
   {
    "duration": 16,
    "start_time": "2022-08-07T19:04:25.977Z"
   },
   {
    "duration": 17,
    "start_time": "2022-08-07T19:04:27.475Z"
   },
   {
    "duration": 5,
    "start_time": "2022-08-07T19:04:35.025Z"
   },
   {
    "duration": 1165,
    "start_time": "2022-08-07T19:19:08.451Z"
   },
   {
    "duration": 7,
    "start_time": "2022-08-07T19:19:24.772Z"
   },
   {
    "duration": 6,
    "start_time": "2022-08-07T19:20:25.978Z"
   },
   {
    "duration": 9,
    "start_time": "2022-08-07T19:24:10.470Z"
   },
   {
    "duration": 1997,
    "start_time": "2022-08-07T19:24:51.588Z"
   },
   {
    "duration": 8,
    "start_time": "2022-08-07T19:25:01.970Z"
   },
   {
    "duration": 9,
    "start_time": "2022-08-07T19:30:01.171Z"
   },
   {
    "duration": 10,
    "start_time": "2022-08-07T19:36:29.783Z"
   },
   {
    "duration": 50,
    "start_time": "2022-08-07T21:17:25.385Z"
   },
   {
    "duration": 510,
    "start_time": "2022-08-07T21:17:34.253Z"
   },
   {
    "duration": 8,
    "start_time": "2022-08-07T21:17:35.206Z"
   },
   {
    "duration": 13,
    "start_time": "2022-08-07T21:17:35.734Z"
   },
   {
    "duration": 14,
    "start_time": "2022-08-07T21:17:36.806Z"
   },
   {
    "duration": 4,
    "start_time": "2022-08-07T21:17:38.629Z"
   },
   {
    "duration": 6,
    "start_time": "2022-08-07T21:17:40.459Z"
   },
   {
    "duration": 12,
    "start_time": "2022-08-07T21:18:36.222Z"
   },
   {
    "duration": 6,
    "start_time": "2022-08-07T21:20:49.507Z"
   },
   {
    "duration": 5,
    "start_time": "2022-08-07T21:20:59.764Z"
   },
   {
    "duration": 66,
    "start_time": "2022-08-07T21:22:00.472Z"
   },
   {
    "duration": 40,
    "start_time": "2022-08-07T21:22:34.080Z"
   },
   {
    "duration": 16,
    "start_time": "2022-08-07T21:22:51.346Z"
   },
   {
    "duration": 18,
    "start_time": "2022-08-07T21:23:26.838Z"
   },
   {
    "duration": 3,
    "start_time": "2022-08-07T21:23:43.691Z"
   },
   {
    "duration": 5,
    "start_time": "2022-08-07T21:23:48.314Z"
   },
   {
    "duration": 4,
    "start_time": "2022-08-07T21:24:07.782Z"
   },
   {
    "duration": 8,
    "start_time": "2022-08-07T21:28:15.572Z"
   },
   {
    "duration": 3,
    "start_time": "2022-08-07T21:29:29.117Z"
   },
   {
    "duration": 7,
    "start_time": "2022-08-07T21:36:55.459Z"
   },
   {
    "duration": 7,
    "start_time": "2022-08-07T21:37:02.812Z"
   },
   {
    "duration": 3,
    "start_time": "2022-08-07T21:37:22.776Z"
   },
   {
    "duration": 3,
    "start_time": "2022-08-07T22:47:12.124Z"
   },
   {
    "duration": 11,
    "start_time": "2022-08-07T22:57:53.243Z"
   },
   {
    "duration": 608,
    "start_time": "2022-08-08T12:34:25.487Z"
   },
   {
    "duration": 8,
    "start_time": "2022-08-08T12:34:27.779Z"
   },
   {
    "duration": 15,
    "start_time": "2022-08-08T12:34:28.943Z"
   },
   {
    "duration": 16,
    "start_time": "2022-08-08T12:34:30.499Z"
   },
   {
    "duration": 4,
    "start_time": "2022-08-08T12:34:32.550Z"
   },
   {
    "duration": 10,
    "start_time": "2022-08-08T12:34:53.634Z"
   },
   {
    "duration": 71,
    "start_time": "2022-08-08T12:59:20.275Z"
   },
   {
    "duration": 74,
    "start_time": "2022-08-08T12:59:36.121Z"
   },
   {
    "duration": 7,
    "start_time": "2022-08-08T13:03:16.498Z"
   },
   {
    "duration": 9,
    "start_time": "2022-08-08T13:05:33.721Z"
   },
   {
    "duration": 11,
    "start_time": "2022-08-08T13:06:34.787Z"
   },
   {
    "duration": 19,
    "start_time": "2022-08-08T13:06:42.404Z"
   },
   {
    "duration": 10,
    "start_time": "2022-08-08T13:06:57.456Z"
   },
   {
    "duration": 18,
    "start_time": "2022-08-08T13:09:05.630Z"
   },
   {
    "duration": 21,
    "start_time": "2022-08-08T13:12:49.396Z"
   },
   {
    "duration": 9,
    "start_time": "2022-08-08T13:20:57.198Z"
   },
   {
    "duration": 9,
    "start_time": "2022-08-08T13:21:15.146Z"
   },
   {
    "duration": 11,
    "start_time": "2022-08-08T13:25:21.770Z"
   },
   {
    "duration": 4,
    "start_time": "2022-08-08T13:25:40.237Z"
   },
   {
    "duration": 5,
    "start_time": "2022-08-08T13:26:02.775Z"
   },
   {
    "duration": 5,
    "start_time": "2022-08-08T13:26:14.987Z"
   },
   {
    "duration": 11,
    "start_time": "2022-08-08T13:27:17.076Z"
   },
   {
    "duration": 9,
    "start_time": "2022-08-08T13:32:10.224Z"
   },
   {
    "duration": 13,
    "start_time": "2022-08-08T13:34:13.732Z"
   },
   {
    "duration": 9,
    "start_time": "2022-08-08T13:34:20.752Z"
   },
   {
    "duration": 7,
    "start_time": "2022-08-08T13:34:47.027Z"
   },
   {
    "duration": 9,
    "start_time": "2022-08-08T13:35:29.229Z"
   },
   {
    "duration": 16,
    "start_time": "2022-08-08T13:35:33.611Z"
   },
   {
    "duration": 17,
    "start_time": "2022-08-08T13:36:23.253Z"
   },
   {
    "duration": 15,
    "start_time": "2022-08-08T13:36:32.093Z"
   },
   {
    "duration": 17,
    "start_time": "2022-08-08T13:36:47.515Z"
   },
   {
    "duration": 10,
    "start_time": "2022-08-08T13:38:23.069Z"
   },
   {
    "duration": 9,
    "start_time": "2022-08-08T13:38:38.384Z"
   },
   {
    "duration": 16,
    "start_time": "2022-08-08T13:38:50.311Z"
   },
   {
    "duration": 16,
    "start_time": "2022-08-08T13:40:23.868Z"
   },
   {
    "duration": 14,
    "start_time": "2022-08-08T13:40:43.112Z"
   },
   {
    "duration": 10,
    "start_time": "2022-08-08T13:42:32.268Z"
   },
   {
    "duration": 8,
    "start_time": "2022-08-08T13:59:33.197Z"
   },
   {
    "duration": 19,
    "start_time": "2022-08-08T14:00:08.867Z"
   },
   {
    "duration": 24,
    "start_time": "2022-08-08T14:01:06.099Z"
   },
   {
    "duration": 9,
    "start_time": "2022-08-08T14:03:40.081Z"
   },
   {
    "duration": 8,
    "start_time": "2022-08-08T14:06:09.553Z"
   },
   {
    "duration": 60,
    "start_time": "2022-08-08T14:12:42.390Z"
   },
   {
    "duration": 3,
    "start_time": "2022-08-08T14:12:47.793Z"
   },
   {
    "duration": 13,
    "start_time": "2022-08-08T14:12:50.826Z"
   },
   {
    "duration": 16,
    "start_time": "2022-08-08T14:12:59.613Z"
   },
   {
    "duration": 18,
    "start_time": "2022-08-08T14:13:09.213Z"
   },
   {
    "duration": 3,
    "start_time": "2022-08-08T14:13:10.797Z"
   },
   {
    "duration": 9,
    "start_time": "2022-08-08T14:13:12.322Z"
   },
   {
    "duration": 4,
    "start_time": "2022-08-08T14:13:13.795Z"
   },
   {
    "duration": 21,
    "start_time": "2022-08-08T14:13:17.922Z"
   },
   {
    "duration": 14,
    "start_time": "2022-08-08T14:13:19.540Z"
   },
   {
    "duration": 13,
    "start_time": "2022-08-08T14:14:17.204Z"
   },
   {
    "duration": 1492,
    "start_time": "2022-08-08T14:18:39.127Z"
   },
   {
    "duration": 10,
    "start_time": "2022-08-08T14:19:06.663Z"
   },
   {
    "duration": 12,
    "start_time": "2022-08-08T14:19:28.636Z"
   },
   {
    "duration": 9,
    "start_time": "2022-08-08T14:19:37.976Z"
   },
   {
    "duration": 9,
    "start_time": "2022-08-08T14:20:10.375Z"
   },
   {
    "duration": 9,
    "start_time": "2022-08-08T14:21:01.521Z"
   },
   {
    "duration": 8,
    "start_time": "2022-08-08T14:23:10.091Z"
   },
   {
    "duration": 9,
    "start_time": "2022-08-08T14:23:22.437Z"
   },
   {
    "duration": 14,
    "start_time": "2022-08-08T14:27:50.420Z"
   },
   {
    "duration": 15,
    "start_time": "2022-08-08T14:28:17.156Z"
   },
   {
    "duration": 8,
    "start_time": "2022-08-08T14:42:47.833Z"
   },
   {
    "duration": 21,
    "start_time": "2022-08-08T14:43:08.973Z"
   },
   {
    "duration": 9,
    "start_time": "2022-08-08T14:51:51.870Z"
   },
   {
    "duration": 4,
    "start_time": "2022-08-08T14:52:19.374Z"
   },
   {
    "duration": 5,
    "start_time": "2022-08-08T14:58:40.837Z"
   },
   {
    "duration": 5,
    "start_time": "2022-08-08T14:58:58.827Z"
   },
   {
    "duration": 10,
    "start_time": "2022-08-08T15:01:22.360Z"
   },
   {
    "duration": 9,
    "start_time": "2022-08-08T15:17:34.453Z"
   },
   {
    "duration": 5,
    "start_time": "2022-08-08T15:20:03.005Z"
   },
   {
    "duration": 8,
    "start_time": "2022-08-08T15:20:34.606Z"
   },
   {
    "duration": 7,
    "start_time": "2022-08-08T15:20:43.267Z"
   },
   {
    "duration": 14,
    "start_time": "2022-08-08T15:20:55.430Z"
   },
   {
    "duration": 2,
    "start_time": "2022-08-08T15:21:13.697Z"
   },
   {
    "duration": 6,
    "start_time": "2022-08-08T15:23:19.860Z"
   },
   {
    "duration": 9,
    "start_time": "2022-08-08T15:24:43.501Z"
   },
   {
    "duration": 4,
    "start_time": "2022-08-08T15:25:29.937Z"
   },
   {
    "duration": 4,
    "start_time": "2022-08-08T15:25:44.870Z"
   },
   {
    "duration": 1814,
    "start_time": "2022-08-08T15:30:30.774Z"
   },
   {
    "duration": 7,
    "start_time": "2022-08-08T15:30:54.518Z"
   },
   {
    "duration": 7,
    "start_time": "2022-08-08T15:32:38.860Z"
   },
   {
    "duration": 9,
    "start_time": "2022-08-08T15:32:51.116Z"
   },
   {
    "duration": 11,
    "start_time": "2022-08-08T15:33:01.161Z"
   },
   {
    "duration": 10,
    "start_time": "2022-08-08T15:35:12.475Z"
   },
   {
    "duration": 5,
    "start_time": "2022-08-08T15:37:29.271Z"
   },
   {
    "duration": 23,
    "start_time": "2022-08-08T15:59:25.529Z"
   },
   {
    "duration": 5,
    "start_time": "2022-08-08T16:00:38.872Z"
   },
   {
    "duration": 42,
    "start_time": "2022-08-08T16:01:27.576Z"
   },
   {
    "duration": 3,
    "start_time": "2022-08-08T16:25:07.050Z"
   },
   {
    "duration": 13,
    "start_time": "2022-08-08T16:25:26.572Z"
   },
   {
    "duration": 5,
    "start_time": "2022-08-08T16:26:43.649Z"
   },
   {
    "duration": 5,
    "start_time": "2022-08-08T16:27:32.130Z"
   },
   {
    "duration": 30718,
    "start_time": "2022-08-08T16:31:28.934Z"
   },
   {
    "duration": 13,
    "start_time": "2022-08-08T16:35:55.527Z"
   },
   {
    "duration": 7,
    "start_time": "2022-08-08T16:36:50.430Z"
   },
   {
    "duration": 20,
    "start_time": "2022-08-08T16:38:14.358Z"
   },
   {
    "duration": 20,
    "start_time": "2022-08-08T17:06:22.653Z"
   },
   {
    "duration": 23,
    "start_time": "2022-08-08T17:06:37.717Z"
   },
   {
    "duration": 18,
    "start_time": "2022-08-08T17:07:23.157Z"
   },
   {
    "duration": 2,
    "start_time": "2022-08-08T17:07:43.352Z"
   },
   {
    "duration": 20,
    "start_time": "2022-08-08T17:07:47.437Z"
   },
   {
    "duration": 8,
    "start_time": "2022-08-08T17:10:43.641Z"
   },
   {
    "duration": 1197,
    "start_time": "2022-08-08T17:32:44.414Z"
   },
   {
    "duration": 8,
    "start_time": "2022-08-08T17:36:28.748Z"
   },
   {
    "duration": 5,
    "start_time": "2022-08-08T17:36:41.013Z"
   },
   {
    "duration": 17,
    "start_time": "2022-08-08T17:40:14.717Z"
   },
   {
    "duration": 43,
    "start_time": "2022-08-08T17:40:30.040Z"
   },
   {
    "duration": 1492,
    "start_time": "2022-08-08T17:58:23.526Z"
   },
   {
    "duration": 18,
    "start_time": "2022-08-08T17:58:49.071Z"
   },
   {
    "duration": 7,
    "start_time": "2022-08-08T18:03:07.493Z"
   },
   {
    "duration": 7,
    "start_time": "2022-08-08T18:09:06.417Z"
   },
   {
    "duration": 4,
    "start_time": "2022-08-08T18:19:20.441Z"
   },
   {
    "duration": 6,
    "start_time": "2022-08-08T18:52:04.546Z"
   },
   {
    "duration": 7,
    "start_time": "2022-08-08T18:53:50.217Z"
   },
   {
    "duration": 6,
    "start_time": "2022-08-08T18:58:38.431Z"
   },
   {
    "duration": 7,
    "start_time": "2022-08-08T18:59:41.521Z"
   },
   {
    "duration": 6,
    "start_time": "2022-08-08T19:02:19.118Z"
   },
   {
    "duration": 7,
    "start_time": "2022-08-08T19:03:10.122Z"
   },
   {
    "duration": 536,
    "start_time": "2022-08-09T10:21:37.184Z"
   },
   {
    "duration": 7,
    "start_time": "2022-08-09T10:21:52.469Z"
   },
   {
    "duration": 14,
    "start_time": "2022-08-09T10:21:54.046Z"
   },
   {
    "duration": 54,
    "start_time": "2022-08-09T11:19:18.277Z"
   },
   {
    "duration": 4,
    "start_time": "2022-08-09T11:19:28.623Z"
   },
   {
    "duration": 20,
    "start_time": "2022-08-09T11:19:29.405Z"
   },
   {
    "duration": 26,
    "start_time": "2022-08-09T11:19:30.831Z"
   },
   {
    "duration": 3,
    "start_time": "2022-08-09T11:19:33.312Z"
   },
   {
    "duration": 12,
    "start_time": "2022-08-09T11:19:42.494Z"
   },
   {
    "duration": 4,
    "start_time": "2022-08-09T12:02:39.122Z"
   },
   {
    "duration": 3,
    "start_time": "2022-08-09T12:15:39.287Z"
   },
   {
    "duration": 4,
    "start_time": "2022-08-09T12:43:35.939Z"
   },
   {
    "duration": 3,
    "start_time": "2022-08-09T12:51:31.242Z"
   },
   {
    "duration": 78,
    "start_time": "2022-08-09T13:27:55.470Z"
   },
   {
    "duration": 14,
    "start_time": "2022-08-09T13:28:50.692Z"
   },
   {
    "duration": 21,
    "start_time": "2022-08-09T13:32:14.950Z"
   },
   {
    "duration": 7,
    "start_time": "2022-08-09T13:37:58.780Z"
   },
   {
    "duration": 8,
    "start_time": "2022-08-09T13:42:05.789Z"
   },
   {
    "duration": 9,
    "start_time": "2022-08-09T13:42:41.088Z"
   },
   {
    "duration": 7,
    "start_time": "2022-08-09T13:43:00.488Z"
   },
   {
    "duration": 26,
    "start_time": "2022-08-09T13:43:31.398Z"
   },
   {
    "duration": 34,
    "start_time": "2022-08-09T13:46:17.266Z"
   },
   {
    "duration": 46,
    "start_time": "2022-08-09T13:46:32.708Z"
   },
   {
    "duration": 1046,
    "start_time": "2022-08-09T13:47:34.976Z"
   },
   {
    "duration": 21,
    "start_time": "2022-08-09T13:47:43.470Z"
   },
   {
    "duration": 244,
    "start_time": "2022-08-09T13:54:10.327Z"
   },
   {
    "duration": 12,
    "start_time": "2022-08-09T13:55:15.875Z"
   },
   {
    "duration": 12,
    "start_time": "2022-08-09T13:55:19.919Z"
   },
   {
    "duration": 15,
    "start_time": "2022-08-09T13:55:49.083Z"
   },
   {
    "duration": 24,
    "start_time": "2022-08-09T13:56:14.747Z"
   },
   {
    "duration": 7,
    "start_time": "2022-08-09T14:04:21.910Z"
   },
   {
    "duration": 6,
    "start_time": "2022-08-09T14:04:26.336Z"
   },
   {
    "duration": 7,
    "start_time": "2022-08-09T14:04:31.631Z"
   },
   {
    "duration": 8,
    "start_time": "2022-08-09T14:04:53.105Z"
   },
   {
    "duration": 10,
    "start_time": "2022-08-09T14:05:00.917Z"
   },
   {
    "duration": 7,
    "start_time": "2022-08-09T14:06:24.636Z"
   },
   {
    "duration": 18,
    "start_time": "2022-08-09T14:07:52.329Z"
   },
   {
    "duration": 13,
    "start_time": "2022-08-09T14:09:02.366Z"
   },
   {
    "duration": 15,
    "start_time": "2022-08-09T14:09:41.458Z"
   },
   {
    "duration": 8,
    "start_time": "2022-08-09T14:10:20.170Z"
   },
   {
    "duration": 444,
    "start_time": "2022-08-09T18:11:05.660Z"
   },
   {
    "duration": 9,
    "start_time": "2022-08-09T18:11:07.372Z"
   },
   {
    "duration": 14,
    "start_time": "2022-08-09T18:11:09.076Z"
   },
   {
    "duration": 17,
    "start_time": "2022-08-09T18:11:10.986Z"
   },
   {
    "duration": 3,
    "start_time": "2022-08-09T18:11:12.447Z"
   },
   {
    "duration": 11,
    "start_time": "2022-08-09T18:11:14.155Z"
   },
   {
    "duration": 22,
    "start_time": "2022-08-09T18:11:14.967Z"
   },
   {
    "duration": 3,
    "start_time": "2022-08-09T18:11:16.963Z"
   },
   {
    "duration": 26,
    "start_time": "2022-08-09T18:11:18.516Z"
   },
   {
    "duration": 9,
    "start_time": "2022-08-09T18:11:19.223Z"
   },
   {
    "duration": 3,
    "start_time": "2022-08-09T18:11:19.922Z"
   },
   {
    "duration": 5,
    "start_time": "2022-08-09T18:11:20.551Z"
   },
   {
    "duration": 4,
    "start_time": "2022-08-09T18:11:21.268Z"
   },
   {
    "duration": 6,
    "start_time": "2022-08-09T18:11:22.924Z"
   },
   {
    "duration": 6,
    "start_time": "2022-08-09T18:11:24.064Z"
   },
   {
    "duration": 7,
    "start_time": "2022-08-09T18:11:25.830Z"
   },
   {
    "duration": 8,
    "start_time": "2022-08-09T18:11:26.672Z"
   },
   {
    "duration": 7,
    "start_time": "2022-08-09T18:11:28.021Z"
   },
   {
    "duration": 4,
    "start_time": "2022-08-09T18:11:28.638Z"
   },
   {
    "duration": 8,
    "start_time": "2022-08-09T18:11:29.344Z"
   },
   {
    "duration": 4,
    "start_time": "2022-08-09T18:11:29.936Z"
   },
   {
    "duration": 2,
    "start_time": "2022-08-09T18:11:32.359Z"
   },
   {
    "duration": 3,
    "start_time": "2022-08-09T18:11:34.554Z"
   },
   {
    "duration": 6,
    "start_time": "2022-08-09T18:11:36.841Z"
   },
   {
    "duration": 14,
    "start_time": "2022-08-09T18:11:37.440Z"
   },
   {
    "duration": 8,
    "start_time": "2022-08-09T18:11:39.403Z"
   },
   {
    "duration": 26,
    "start_time": "2022-08-09T18:11:40.608Z"
   },
   {
    "duration": 8,
    "start_time": "2022-08-09T18:11:41.105Z"
   },
   {
    "duration": 14,
    "start_time": "2022-08-09T18:11:41.729Z"
   },
   {
    "duration": 8,
    "start_time": "2022-08-09T18:11:43.261Z"
   },
   {
    "duration": 5,
    "start_time": "2022-08-09T18:36:55.905Z"
   },
   {
    "duration": 7,
    "start_time": "2022-08-09T18:37:09.589Z"
   },
   {
    "duration": 6,
    "start_time": "2022-08-09T18:37:26.301Z"
   },
   {
    "duration": 15,
    "start_time": "2022-08-09T18:37:28.483Z"
   },
   {
    "duration": 6,
    "start_time": "2022-08-09T18:37:33.459Z"
   },
   {
    "duration": 54,
    "start_time": "2022-08-09T18:37:53.974Z"
   },
   {
    "duration": 4,
    "start_time": "2022-08-09T18:37:55.467Z"
   },
   {
    "duration": 12,
    "start_time": "2022-08-09T18:37:56.621Z"
   },
   {
    "duration": 14,
    "start_time": "2022-08-09T18:37:58.438Z"
   },
   {
    "duration": 4,
    "start_time": "2022-08-09T18:38:00.245Z"
   },
   {
    "duration": 9,
    "start_time": "2022-08-09T18:38:01.767Z"
   },
   {
    "duration": 21,
    "start_time": "2022-08-09T18:38:02.498Z"
   },
   {
    "duration": 4,
    "start_time": "2022-08-09T18:38:09.918Z"
   },
   {
    "duration": 22,
    "start_time": "2022-08-09T18:38:12.377Z"
   },
   {
    "duration": 8,
    "start_time": "2022-08-09T18:38:13.362Z"
   },
   {
    "duration": 4,
    "start_time": "2022-08-09T18:38:14.819Z"
   },
   {
    "duration": 7,
    "start_time": "2022-08-09T18:38:16.158Z"
   },
   {
    "duration": 4,
    "start_time": "2022-08-09T18:38:17.203Z"
   },
   {
    "duration": 9,
    "start_time": "2022-08-09T18:38:25.394Z"
   },
   {
    "duration": 7,
    "start_time": "2022-08-09T18:38:26.357Z"
   },
   {
    "duration": 6,
    "start_time": "2022-08-09T18:38:28.227Z"
   },
   {
    "duration": 7,
    "start_time": "2022-08-09T18:38:28.985Z"
   },
   {
    "duration": 5,
    "start_time": "2022-08-09T18:38:30.409Z"
   },
   {
    "duration": 3,
    "start_time": "2022-08-09T18:38:31.067Z"
   },
   {
    "duration": 7,
    "start_time": "2022-08-09T18:38:31.771Z"
   },
   {
    "duration": 4,
    "start_time": "2022-08-09T18:38:32.777Z"
   },
   {
    "duration": 3,
    "start_time": "2022-08-09T18:38:38.770Z"
   },
   {
    "duration": 4,
    "start_time": "2022-08-09T18:38:39.831Z"
   },
   {
    "duration": 9,
    "start_time": "2022-08-09T18:38:41.820Z"
   },
   {
    "duration": 14,
    "start_time": "2022-08-09T18:38:43.025Z"
   },
   {
    "duration": 6,
    "start_time": "2022-08-09T18:38:50.797Z"
   },
   {
    "duration": 28,
    "start_time": "2022-08-09T18:38:55.997Z"
   },
   {
    "duration": 5,
    "start_time": "2022-08-09T18:38:58.300Z"
   },
   {
    "duration": 6,
    "start_time": "2022-08-09T18:38:59.378Z"
   },
   {
    "duration": 12,
    "start_time": "2022-08-09T18:39:01.261Z"
   },
   {
    "duration": 11,
    "start_time": "2022-08-09T18:50:19.827Z"
   },
   {
    "duration": 8,
    "start_time": "2022-08-09T18:51:22.159Z"
   },
   {
    "duration": 445,
    "start_time": "2022-08-09T18:53:07.317Z"
   },
   {
    "duration": 9,
    "start_time": "2022-08-09T18:53:07.764Z"
   },
   {
    "duration": 26,
    "start_time": "2022-08-09T18:53:07.775Z"
   },
   {
    "duration": 19,
    "start_time": "2022-08-09T18:53:07.803Z"
   },
   {
    "duration": 4,
    "start_time": "2022-08-09T18:53:07.824Z"
   },
   {
    "duration": 34,
    "start_time": "2022-08-09T18:53:07.829Z"
   },
   {
    "duration": 21,
    "start_time": "2022-08-09T18:53:07.865Z"
   },
   {
    "duration": 4,
    "start_time": "2022-08-09T18:53:07.888Z"
   },
   {
    "duration": 24,
    "start_time": "2022-08-09T18:53:07.894Z"
   },
   {
    "duration": 41,
    "start_time": "2022-08-09T18:53:07.923Z"
   },
   {
    "duration": 3,
    "start_time": "2022-08-09T18:53:07.966Z"
   },
   {
    "duration": 8,
    "start_time": "2022-08-09T18:53:07.971Z"
   },
   {
    "duration": 5,
    "start_time": "2022-08-09T18:53:07.981Z"
   },
   {
    "duration": 9,
    "start_time": "2022-08-09T18:53:07.989Z"
   },
   {
    "duration": 27,
    "start_time": "2022-08-09T18:53:07.999Z"
   },
   {
    "duration": 10,
    "start_time": "2022-08-09T18:53:08.028Z"
   },
   {
    "duration": 8,
    "start_time": "2022-08-09T18:53:08.058Z"
   },
   {
    "duration": 10,
    "start_time": "2022-08-09T18:53:08.068Z"
   },
   {
    "duration": 4,
    "start_time": "2022-08-09T18:53:08.080Z"
   },
   {
    "duration": 12,
    "start_time": "2022-08-09T18:53:08.086Z"
   },
   {
    "duration": 7,
    "start_time": "2022-08-09T18:53:08.100Z"
   },
   {
    "duration": 7,
    "start_time": "2022-08-09T18:53:08.109Z"
   },
   {
    "duration": 8,
    "start_time": "2022-08-09T18:53:08.118Z"
   },
   {
    "duration": 32,
    "start_time": "2022-08-09T18:53:08.128Z"
   },
   {
    "duration": 20,
    "start_time": "2022-08-09T18:53:08.162Z"
   },
   {
    "duration": 9,
    "start_time": "2022-08-09T18:53:08.184Z"
   },
   {
    "duration": 10,
    "start_time": "2022-08-09T18:53:08.195Z"
   },
   {
    "duration": 2,
    "start_time": "2022-08-09T18:53:08.209Z"
   },
   {
    "duration": 8,
    "start_time": "2022-08-09T18:53:08.212Z"
   },
   {
    "duration": 35,
    "start_time": "2022-08-09T18:53:08.222Z"
   },
   {
    "duration": 13,
    "start_time": "2022-08-09T18:53:08.259Z"
   },
   {
    "duration": 9,
    "start_time": "2022-08-09T18:53:08.274Z"
   },
   {
    "duration": 12,
    "start_time": "2022-08-09T18:53:08.285Z"
   },
   {
    "duration": 7,
    "start_time": "2022-08-09T18:53:08.298Z"
   },
   {
    "duration": 6,
    "start_time": "2022-08-09T18:53:08.306Z"
   },
   {
    "duration": 6,
    "start_time": "2022-08-09T18:53:08.313Z"
   },
   {
    "duration": 6,
    "start_time": "2022-08-09T18:53:08.320Z"
   },
   {
    "duration": 4,
    "start_time": "2022-08-09T18:53:08.328Z"
   },
   {
    "duration": 6,
    "start_time": "2022-08-09T18:53:08.333Z"
   },
   {
    "duration": 6,
    "start_time": "2022-08-09T18:53:08.340Z"
   },
   {
    "duration": 10,
    "start_time": "2022-08-09T18:53:08.347Z"
   },
   {
    "duration": 10,
    "start_time": "2022-08-09T18:53:08.359Z"
   },
   {
    "duration": 6,
    "start_time": "2022-08-09T18:53:08.370Z"
   },
   {
    "duration": 7,
    "start_time": "2022-08-09T18:53:08.378Z"
   },
   {
    "duration": 5,
    "start_time": "2022-08-09T18:53:08.386Z"
   },
   {
    "duration": 17,
    "start_time": "2022-08-09T18:53:08.392Z"
   },
   {
    "duration": 5,
    "start_time": "2022-08-09T18:53:08.411Z"
   },
   {
    "duration": 5,
    "start_time": "2022-08-09T18:53:08.418Z"
   },
   {
    "duration": 5,
    "start_time": "2022-08-09T18:53:08.425Z"
   },
   {
    "duration": 5,
    "start_time": "2022-08-09T18:53:08.432Z"
   },
   {
    "duration": 5,
    "start_time": "2022-08-09T18:53:08.438Z"
   },
   {
    "duration": 8,
    "start_time": "2022-08-09T18:53:08.445Z"
   },
   {
    "duration": 6,
    "start_time": "2022-08-09T18:53:08.457Z"
   },
   {
    "duration": 7,
    "start_time": "2022-08-09T18:53:08.465Z"
   },
   {
    "duration": 6,
    "start_time": "2022-08-09T18:53:08.473Z"
   },
   {
    "duration": 12,
    "start_time": "2022-08-09T18:53:08.481Z"
   },
   {
    "duration": 6,
    "start_time": "2022-08-09T18:53:08.495Z"
   },
   {
    "duration": 7,
    "start_time": "2022-08-09T18:53:08.503Z"
   },
   {
    "duration": 6,
    "start_time": "2022-08-09T18:53:08.512Z"
   },
   {
    "duration": 4,
    "start_time": "2022-08-09T18:53:08.520Z"
   },
   {
    "duration": 6,
    "start_time": "2022-08-09T18:53:08.526Z"
   },
   {
    "duration": 6,
    "start_time": "2022-08-09T18:53:08.534Z"
   },
   {
    "duration": 6,
    "start_time": "2022-08-09T18:53:08.541Z"
   },
   {
    "duration": 11,
    "start_time": "2022-08-09T18:53:08.549Z"
   },
   {
    "duration": 8,
    "start_time": "2022-08-09T18:53:08.561Z"
   },
   {
    "duration": 6,
    "start_time": "2022-08-09T18:53:08.571Z"
   },
   {
    "duration": 9,
    "start_time": "2022-08-09T18:53:08.578Z"
   },
   {
    "duration": 7,
    "start_time": "2022-08-09T18:53:08.588Z"
   },
   {
    "duration": 9,
    "start_time": "2022-08-09T18:53:08.597Z"
   },
   {
    "duration": 7,
    "start_time": "2022-08-09T18:53:08.608Z"
   },
   {
    "duration": 8,
    "start_time": "2022-08-09T18:53:08.617Z"
   },
   {
    "duration": 9,
    "start_time": "2022-08-09T18:53:08.626Z"
   },
   {
    "duration": 6,
    "start_time": "2022-08-09T18:53:08.636Z"
   },
   {
    "duration": 5,
    "start_time": "2022-08-09T18:53:08.644Z"
   },
   {
    "duration": 6,
    "start_time": "2022-08-09T18:53:08.651Z"
   },
   {
    "duration": 5,
    "start_time": "2022-08-09T18:53:08.658Z"
   },
   {
    "duration": 5,
    "start_time": "2022-08-09T18:53:08.665Z"
   },
   {
    "duration": 5,
    "start_time": "2022-08-09T18:53:08.672Z"
   },
   {
    "duration": 7,
    "start_time": "2022-08-09T18:53:08.679Z"
   },
   {
    "duration": 10,
    "start_time": "2022-08-09T18:53:08.688Z"
   },
   {
    "duration": 12,
    "start_time": "2022-08-09T18:53:08.700Z"
   },
   {
    "duration": 5,
    "start_time": "2022-08-09T18:53:08.716Z"
   },
   {
    "duration": 6,
    "start_time": "2022-08-09T18:53:08.723Z"
   },
   {
    "duration": 6,
    "start_time": "2022-08-09T18:53:08.730Z"
   },
   {
    "duration": 9,
    "start_time": "2022-08-09T18:59:50.011Z"
   },
   {
    "duration": 7,
    "start_time": "2022-08-09T19:00:08.356Z"
   },
   {
    "duration": 67,
    "start_time": "2022-08-09T19:01:08.892Z"
   },
   {
    "duration": 6,
    "start_time": "2022-08-09T19:05:02.979Z"
   },
   {
    "duration": 6,
    "start_time": "2022-08-09T19:05:09.893Z"
   },
   {
    "duration": 7,
    "start_time": "2022-08-09T19:11:30.225Z"
   },
   {
    "duration": 99,
    "start_time": "2022-08-09T19:22:24.793Z"
   },
   {
    "duration": 56,
    "start_time": "2022-08-09T19:22:37.567Z"
   },
   {
    "duration": 7,
    "start_time": "2022-08-09T19:22:45.227Z"
   },
   {
    "duration": 9,
    "start_time": "2022-08-09T19:23:25.836Z"
   },
   {
    "duration": 471,
    "start_time": "2022-08-10T06:25:12.243Z"
   },
   {
    "duration": 8,
    "start_time": "2022-08-10T06:25:12.716Z"
   },
   {
    "duration": 16,
    "start_time": "2022-08-10T06:25:12.726Z"
   },
   {
    "duration": 16,
    "start_time": "2022-08-10T06:25:12.744Z"
   },
   {
    "duration": 4,
    "start_time": "2022-08-10T06:25:12.761Z"
   },
   {
    "duration": 26,
    "start_time": "2022-08-10T06:25:12.766Z"
   },
   {
    "duration": 19,
    "start_time": "2022-08-10T06:25:12.794Z"
   },
   {
    "duration": 3,
    "start_time": "2022-08-10T06:25:12.815Z"
   },
   {
    "duration": 36,
    "start_time": "2022-08-10T06:25:12.820Z"
   },
   {
    "duration": 12,
    "start_time": "2022-08-10T06:25:12.860Z"
   },
   {
    "duration": 5,
    "start_time": "2022-08-10T06:25:12.873Z"
   },
   {
    "duration": 16,
    "start_time": "2022-08-10T06:25:12.879Z"
   },
   {
    "duration": 21,
    "start_time": "2022-08-10T06:25:12.896Z"
   },
   {
    "duration": 9,
    "start_time": "2022-08-10T06:25:12.918Z"
   },
   {
    "duration": 13,
    "start_time": "2022-08-10T06:25:12.928Z"
   },
   {
    "duration": 8,
    "start_time": "2022-08-10T06:25:12.942Z"
   },
   {
    "duration": 16,
    "start_time": "2022-08-10T06:25:12.952Z"
   },
   {
    "duration": 32,
    "start_time": "2022-08-10T06:25:12.969Z"
   },
   {
    "duration": 15,
    "start_time": "2022-08-10T06:25:13.002Z"
   },
   {
    "duration": 15,
    "start_time": "2022-08-10T06:25:13.019Z"
   },
   {
    "duration": 12,
    "start_time": "2022-08-10T06:25:13.036Z"
   },
   {
    "duration": 22,
    "start_time": "2022-08-10T06:25:13.050Z"
   },
   {
    "duration": 54,
    "start_time": "2022-08-10T06:25:13.074Z"
   },
   {
    "duration": 30,
    "start_time": "2022-08-10T06:25:13.130Z"
   },
   {
    "duration": 62,
    "start_time": "2022-08-10T06:25:13.162Z"
   },
   {
    "duration": 24,
    "start_time": "2022-08-10T06:25:13.226Z"
   },
   {
    "duration": 24,
    "start_time": "2022-08-10T06:25:13.251Z"
   },
   {
    "duration": 23,
    "start_time": "2022-08-10T06:25:13.280Z"
   },
   {
    "duration": 12,
    "start_time": "2022-08-10T06:25:13.305Z"
   },
   {
    "duration": 6,
    "start_time": "2022-08-10T06:25:13.318Z"
   },
   {
    "duration": 11,
    "start_time": "2022-08-10T06:25:13.325Z"
   },
   {
    "duration": 9,
    "start_time": "2022-08-10T06:25:13.337Z"
   },
   {
    "duration": 7,
    "start_time": "2022-08-10T06:25:13.348Z"
   },
   {
    "duration": 13,
    "start_time": "2022-08-10T06:25:13.357Z"
   },
   {
    "duration": 24,
    "start_time": "2022-08-10T06:25:13.372Z"
   },
   {
    "duration": 12,
    "start_time": "2022-08-10T06:25:13.398Z"
   },
   {
    "duration": 6,
    "start_time": "2022-08-10T06:25:13.411Z"
   },
   {
    "duration": 13,
    "start_time": "2022-08-10T06:25:13.418Z"
   },
   {
    "duration": 5,
    "start_time": "2022-08-10T06:25:13.432Z"
   },
   {
    "duration": 6,
    "start_time": "2022-08-10T06:25:13.438Z"
   },
   {
    "duration": 12,
    "start_time": "2022-08-10T06:25:13.445Z"
   },
   {
    "duration": 14,
    "start_time": "2022-08-10T06:25:13.458Z"
   },
   {
    "duration": 5,
    "start_time": "2022-08-10T06:25:13.474Z"
   },
   {
    "duration": 8,
    "start_time": "2022-08-10T06:25:13.481Z"
   },
   {
    "duration": 7,
    "start_time": "2022-08-10T06:25:13.491Z"
   },
   {
    "duration": 20,
    "start_time": "2022-08-10T06:25:13.499Z"
   },
   {
    "duration": 7,
    "start_time": "2022-08-10T06:25:13.521Z"
   },
   {
    "duration": 7,
    "start_time": "2022-08-10T06:25:13.529Z"
   },
   {
    "duration": 8,
    "start_time": "2022-08-10T06:25:13.537Z"
   },
   {
    "duration": 10,
    "start_time": "2022-08-10T06:25:13.546Z"
   },
   {
    "duration": 11,
    "start_time": "2022-08-10T06:25:13.558Z"
   },
   {
    "duration": 8,
    "start_time": "2022-08-10T06:25:13.570Z"
   },
   {
    "duration": 12,
    "start_time": "2022-08-10T06:25:13.579Z"
   },
   {
    "duration": 9,
    "start_time": "2022-08-10T06:25:13.592Z"
   },
   {
    "duration": 5,
    "start_time": "2022-08-10T06:25:13.603Z"
   },
   {
    "duration": 7,
    "start_time": "2022-08-10T06:25:13.610Z"
   },
   {
    "duration": 8,
    "start_time": "2022-08-10T06:25:13.618Z"
   },
   {
    "duration": 7,
    "start_time": "2022-08-10T06:25:13.628Z"
   },
   {
    "duration": 10,
    "start_time": "2022-08-10T06:25:13.636Z"
   },
   {
    "duration": 5,
    "start_time": "2022-08-10T06:25:13.647Z"
   },
   {
    "duration": 5,
    "start_time": "2022-08-10T06:25:13.654Z"
   },
   {
    "duration": 5,
    "start_time": "2022-08-10T06:25:13.661Z"
   },
   {
    "duration": 5,
    "start_time": "2022-08-10T06:25:13.667Z"
   },
   {
    "duration": 8,
    "start_time": "2022-08-10T06:25:13.674Z"
   },
   {
    "duration": 5,
    "start_time": "2022-08-10T06:25:13.683Z"
   },
   {
    "duration": 6,
    "start_time": "2022-08-10T06:25:13.690Z"
   },
   {
    "duration": 7,
    "start_time": "2022-08-10T06:25:13.697Z"
   },
   {
    "duration": 12,
    "start_time": "2022-08-10T06:25:13.706Z"
   },
   {
    "duration": 5,
    "start_time": "2022-08-10T06:25:13.720Z"
   },
   {
    "duration": 8,
    "start_time": "2022-08-10T06:25:13.726Z"
   },
   {
    "duration": 5,
    "start_time": "2022-08-10T06:25:13.735Z"
   },
   {
    "duration": 5,
    "start_time": "2022-08-10T06:25:13.742Z"
   },
   {
    "duration": 6,
    "start_time": "2022-08-10T06:25:13.749Z"
   },
   {
    "duration": 8,
    "start_time": "2022-08-10T06:25:13.756Z"
   },
   {
    "duration": 11,
    "start_time": "2022-08-10T06:25:13.765Z"
   },
   {
    "duration": 7,
    "start_time": "2022-08-10T06:25:13.777Z"
   },
   {
    "duration": 7,
    "start_time": "2022-08-10T06:25:13.785Z"
   },
   {
    "duration": 9,
    "start_time": "2022-08-10T06:25:13.793Z"
   },
   {
    "duration": 7,
    "start_time": "2022-08-10T06:25:13.803Z"
   },
   {
    "duration": 5,
    "start_time": "2022-08-10T06:25:13.811Z"
   },
   {
    "duration": 6,
    "start_time": "2022-08-10T06:25:13.818Z"
   },
   {
    "duration": 9,
    "start_time": "2022-08-10T06:25:13.828Z"
   },
   {
    "duration": 9,
    "start_time": "2022-08-10T06:25:13.838Z"
   },
   {
    "duration": 7,
    "start_time": "2022-08-10T06:25:13.849Z"
   },
   {
    "duration": 5,
    "start_time": "2022-08-10T06:25:13.858Z"
   },
   {
    "duration": 7,
    "start_time": "2022-08-10T06:25:13.865Z"
   },
   {
    "duration": 7,
    "start_time": "2022-08-10T06:25:13.873Z"
   },
   {
    "duration": 615,
    "start_time": "2022-08-10T11:16:57.389Z"
   },
   {
    "duration": 11,
    "start_time": "2022-08-10T11:16:58.007Z"
   },
   {
    "duration": 37,
    "start_time": "2022-08-10T11:16:58.021Z"
   },
   {
    "duration": 13,
    "start_time": "2022-08-10T11:16:58.059Z"
   },
   {
    "duration": 5,
    "start_time": "2022-08-10T11:16:58.075Z"
   },
   {
    "duration": 12,
    "start_time": "2022-08-10T11:16:58.081Z"
   },
   {
    "duration": 23,
    "start_time": "2022-08-10T11:16:58.095Z"
   },
   {
    "duration": 4,
    "start_time": "2022-08-10T11:16:58.121Z"
   },
   {
    "duration": 37,
    "start_time": "2022-08-10T11:16:58.127Z"
   },
   {
    "duration": 8,
    "start_time": "2022-08-10T11:16:58.166Z"
   },
   {
    "duration": 4,
    "start_time": "2022-08-10T11:16:58.175Z"
   },
   {
    "duration": 6,
    "start_time": "2022-08-10T11:16:58.181Z"
   },
   {
    "duration": 7,
    "start_time": "2022-08-10T11:16:58.215Z"
   },
   {
    "duration": 13,
    "start_time": "2022-08-10T11:16:58.227Z"
   },
   {
    "duration": 11,
    "start_time": "2022-08-10T11:16:58.241Z"
   },
   {
    "duration": 10,
    "start_time": "2022-08-10T11:16:58.254Z"
   },
   {
    "duration": 8,
    "start_time": "2022-08-10T11:16:58.265Z"
   },
   {
    "duration": 10,
    "start_time": "2022-08-10T11:16:58.274Z"
   },
   {
    "duration": 5,
    "start_time": "2022-08-10T11:16:58.286Z"
   },
   {
    "duration": 27,
    "start_time": "2022-08-10T11:16:58.292Z"
   },
   {
    "duration": 16,
    "start_time": "2022-08-10T11:16:58.320Z"
   },
   {
    "duration": 6,
    "start_time": "2022-08-10T11:16:58.337Z"
   },
   {
    "duration": 4,
    "start_time": "2022-08-10T11:16:58.345Z"
   },
   {
    "duration": 10,
    "start_time": "2022-08-10T11:16:58.351Z"
   },
   {
    "duration": 16,
    "start_time": "2022-08-10T11:16:58.363Z"
   },
   {
    "duration": 32,
    "start_time": "2022-08-10T11:16:58.380Z"
   },
   {
    "duration": 9,
    "start_time": "2022-08-10T11:16:58.413Z"
   },
   {
    "duration": 13,
    "start_time": "2022-08-10T11:16:58.423Z"
   },
   {
    "duration": 9,
    "start_time": "2022-08-10T11:16:58.437Z"
   },
   {
    "duration": 2,
    "start_time": "2022-08-10T11:16:58.447Z"
   },
   {
    "duration": 5,
    "start_time": "2022-08-10T11:16:58.451Z"
   },
   {
    "duration": 7,
    "start_time": "2022-08-10T11:16:58.457Z"
   },
   {
    "duration": 7,
    "start_time": "2022-08-10T11:16:58.465Z"
   },
   {
    "duration": 8,
    "start_time": "2022-08-10T11:16:58.473Z"
   },
   {
    "duration": 3,
    "start_time": "2022-08-10T11:16:58.482Z"
   },
   {
    "duration": 7,
    "start_time": "2022-08-10T11:16:58.511Z"
   },
   {
    "duration": 10,
    "start_time": "2022-08-10T11:16:58.520Z"
   },
   {
    "duration": 3,
    "start_time": "2022-08-10T11:16:58.534Z"
   },
   {
    "duration": 6,
    "start_time": "2022-08-10T11:16:58.538Z"
   },
   {
    "duration": 4,
    "start_time": "2022-08-10T11:16:58.546Z"
   },
   {
    "duration": 4,
    "start_time": "2022-08-10T11:16:58.554Z"
   },
   {
    "duration": 5,
    "start_time": "2022-08-10T11:16:58.559Z"
   },
   {
    "duration": 5,
    "start_time": "2022-08-10T11:16:58.565Z"
   },
   {
    "duration": 5,
    "start_time": "2022-08-10T11:16:58.572Z"
   },
   {
    "duration": 4,
    "start_time": "2022-08-10T11:16:58.579Z"
   },
   {
    "duration": 5,
    "start_time": "2022-08-10T11:16:58.584Z"
   },
   {
    "duration": 22,
    "start_time": "2022-08-10T11:16:58.590Z"
   },
   {
    "duration": 8,
    "start_time": "2022-08-10T11:16:58.613Z"
   },
   {
    "duration": 44,
    "start_time": "2022-08-10T11:16:58.622Z"
   },
   {
    "duration": 5,
    "start_time": "2022-08-10T11:16:58.668Z"
   },
   {
    "duration": 5,
    "start_time": "2022-08-10T11:16:58.674Z"
   },
   {
    "duration": 7,
    "start_time": "2022-08-10T11:16:58.680Z"
   },
   {
    "duration": 7,
    "start_time": "2022-08-10T11:16:58.688Z"
   },
   {
    "duration": 4,
    "start_time": "2022-08-10T11:16:58.697Z"
   },
   {
    "duration": 4,
    "start_time": "2022-08-10T11:16:58.703Z"
   },
   {
    "duration": 7,
    "start_time": "2022-08-10T11:16:58.708Z"
   },
   {
    "duration": 8,
    "start_time": "2022-08-10T11:16:58.717Z"
   },
   {
    "duration": 8,
    "start_time": "2022-08-10T11:16:58.727Z"
   },
   {
    "duration": 5,
    "start_time": "2022-08-10T11:16:58.736Z"
   },
   {
    "duration": 3,
    "start_time": "2022-08-10T11:16:58.743Z"
   },
   {
    "duration": 5,
    "start_time": "2022-08-10T11:16:58.747Z"
   },
   {
    "duration": 5,
    "start_time": "2022-08-10T11:16:58.753Z"
   },
   {
    "duration": 4,
    "start_time": "2022-08-10T11:16:58.760Z"
   },
   {
    "duration": 4,
    "start_time": "2022-08-10T11:16:58.766Z"
   },
   {
    "duration": 5,
    "start_time": "2022-08-10T11:16:58.771Z"
   },
   {
    "duration": 4,
    "start_time": "2022-08-10T11:16:58.778Z"
   },
   {
    "duration": 4,
    "start_time": "2022-08-10T11:16:58.783Z"
   },
   {
    "duration": 4,
    "start_time": "2022-08-10T11:16:58.789Z"
   },
   {
    "duration": 20,
    "start_time": "2022-08-10T11:16:58.795Z"
   },
   {
    "duration": 9,
    "start_time": "2022-08-10T11:16:58.817Z"
   },
   {
    "duration": 13,
    "start_time": "2022-08-10T11:16:58.827Z"
   },
   {
    "duration": 7,
    "start_time": "2022-08-10T11:16:58.842Z"
   },
   {
    "duration": 7,
    "start_time": "2022-08-10T11:16:58.850Z"
   },
   {
    "duration": 5,
    "start_time": "2022-08-10T11:16:58.859Z"
   },
   {
    "duration": 6,
    "start_time": "2022-08-10T11:16:58.866Z"
   },
   {
    "duration": 7,
    "start_time": "2022-08-10T11:16:58.873Z"
   },
   {
    "duration": 5,
    "start_time": "2022-08-10T11:16:58.881Z"
   },
   {
    "duration": 6,
    "start_time": "2022-08-10T11:16:58.887Z"
   },
   {
    "duration": 6,
    "start_time": "2022-08-10T11:16:58.894Z"
   },
   {
    "duration": 7,
    "start_time": "2022-08-10T11:16:58.901Z"
   },
   {
    "duration": 6,
    "start_time": "2022-08-10T11:16:58.909Z"
   },
   {
    "duration": 14,
    "start_time": "2022-08-10T11:16:58.917Z"
   },
   {
    "duration": 10,
    "start_time": "2022-08-10T11:16:58.933Z"
   },
   {
    "duration": 7,
    "start_time": "2022-08-10T11:16:58.945Z"
   },
   {
    "duration": 9,
    "start_time": "2022-08-10T11:16:58.954Z"
   },
   {
    "duration": 6,
    "start_time": "2022-08-10T11:16:58.964Z"
   },
   {
    "duration": 7,
    "start_time": "2022-08-10T11:16:58.971Z"
   },
   {
    "duration": 66,
    "start_time": "2022-08-10T11:28:07.822Z"
   },
   {
    "duration": 8,
    "start_time": "2022-08-10T11:28:28.660Z"
   },
   {
    "duration": 8,
    "start_time": "2022-08-10T11:28:38.394Z"
   },
   {
    "duration": 20,
    "start_time": "2022-08-10T11:28:51.699Z"
   },
   {
    "duration": 19,
    "start_time": "2022-08-10T11:32:18.622Z"
   },
   {
    "duration": 5,
    "start_time": "2022-08-10T11:35:35.096Z"
   },
   {
    "duration": 6,
    "start_time": "2022-08-10T11:41:01.505Z"
   },
   {
    "duration": 6,
    "start_time": "2022-08-10T11:54:43.705Z"
   },
   {
    "duration": 144,
    "start_time": "2022-08-10T11:54:50.453Z"
   },
   {
    "duration": 12,
    "start_time": "2022-08-10T11:55:01.811Z"
   },
   {
    "duration": 21,
    "start_time": "2022-08-10T11:55:11.640Z"
   },
   {
    "duration": 5,
    "start_time": "2022-08-10T12:56:13.759Z"
   },
   {
    "duration": 13,
    "start_time": "2022-08-10T13:05:05.923Z"
   },
   {
    "duration": 6,
    "start_time": "2022-08-10T13:17:49.545Z"
   },
   {
    "duration": 19,
    "start_time": "2022-08-10T13:19:33.879Z"
   },
   {
    "duration": 26,
    "start_time": "2022-08-10T13:21:02.529Z"
   },
   {
    "duration": 8,
    "start_time": "2022-08-10T13:24:46.725Z"
   },
   {
    "duration": 5,
    "start_time": "2022-08-10T13:25:29.880Z"
   },
   {
    "duration": 8,
    "start_time": "2022-08-10T13:26:30.582Z"
   },
   {
    "duration": 7,
    "start_time": "2022-08-10T13:26:57.283Z"
   },
   {
    "duration": 11,
    "start_time": "2022-08-10T13:28:10.904Z"
   },
   {
    "duration": 7,
    "start_time": "2022-08-10T13:48:12.403Z"
   },
   {
    "duration": 6,
    "start_time": "2022-08-10T13:48:29.608Z"
   },
   {
    "duration": 7,
    "start_time": "2022-08-10T13:49:50.443Z"
   },
   {
    "duration": 5,
    "start_time": "2022-08-10T13:57:55.644Z"
   },
   {
    "duration": 6,
    "start_time": "2022-08-10T13:58:30.973Z"
   },
   {
    "duration": 7,
    "start_time": "2022-08-10T13:59:43.118Z"
   },
   {
    "duration": 5,
    "start_time": "2022-08-10T14:14:22.950Z"
   },
   {
    "duration": 5,
    "start_time": "2022-08-10T14:15:47.130Z"
   },
   {
    "duration": 14,
    "start_time": "2022-08-10T14:15:48.464Z"
   },
   {
    "duration": 5,
    "start_time": "2022-08-10T14:16:17.818Z"
   },
   {
    "duration": 6,
    "start_time": "2022-08-10T14:16:50.423Z"
   },
   {
    "duration": 12,
    "start_time": "2022-08-10T14:21:00.829Z"
   },
   {
    "duration": 8,
    "start_time": "2022-08-10T14:22:10.910Z"
   },
   {
    "duration": 6,
    "start_time": "2022-08-10T14:30:27.012Z"
   },
   {
    "duration": 14,
    "start_time": "2022-08-10T14:30:28.096Z"
   },
   {
    "duration": 6,
    "start_time": "2022-08-10T14:32:22.958Z"
   },
   {
    "duration": 4,
    "start_time": "2022-08-10T14:32:35.001Z"
   },
   {
    "duration": 7,
    "start_time": "2022-08-10T14:33:40.593Z"
   },
   {
    "duration": 6,
    "start_time": "2022-08-10T14:36:07.562Z"
   },
   {
    "duration": 5,
    "start_time": "2022-08-10T14:37:01.655Z"
   },
   {
    "duration": 12,
    "start_time": "2022-08-10T14:49:11.954Z"
   },
   {
    "duration": 9,
    "start_time": "2022-08-10T14:59:20.977Z"
   },
   {
    "duration": 8,
    "start_time": "2022-08-10T14:59:38.480Z"
   },
   {
    "duration": 6,
    "start_time": "2022-08-10T15:00:04.160Z"
   },
   {
    "duration": 6,
    "start_time": "2022-08-10T16:00:18.542Z"
   },
   {
    "duration": 5,
    "start_time": "2022-08-10T16:00:19.520Z"
   },
   {
    "duration": 535,
    "start_time": "2022-08-10T16:21:26.530Z"
   },
   {
    "duration": 8,
    "start_time": "2022-08-10T16:21:27.067Z"
   },
   {
    "duration": 17,
    "start_time": "2022-08-10T16:21:27.077Z"
   },
   {
    "duration": 14,
    "start_time": "2022-08-10T16:21:27.096Z"
   },
   {
    "duration": 8,
    "start_time": "2022-08-10T16:21:27.111Z"
   },
   {
    "duration": 20,
    "start_time": "2022-08-10T16:21:27.121Z"
   },
   {
    "duration": 3,
    "start_time": "2022-08-10T16:21:27.142Z"
   },
   {
    "duration": 21,
    "start_time": "2022-08-10T16:21:27.147Z"
   },
   {
    "duration": 7,
    "start_time": "2022-08-10T16:21:27.170Z"
   },
   {
    "duration": 7,
    "start_time": "2022-08-10T16:21:27.180Z"
   },
   {
    "duration": 5,
    "start_time": "2022-08-10T16:21:27.211Z"
   },
   {
    "duration": 7,
    "start_time": "2022-08-10T16:21:27.218Z"
   },
   {
    "duration": 8,
    "start_time": "2022-08-10T16:21:27.227Z"
   },
   {
    "duration": 9,
    "start_time": "2022-08-10T16:21:27.237Z"
   },
   {
    "duration": 9,
    "start_time": "2022-08-10T16:21:27.247Z"
   },
   {
    "duration": 6,
    "start_time": "2022-08-10T16:21:27.257Z"
   },
   {
    "duration": 9,
    "start_time": "2022-08-10T16:21:27.264Z"
   },
   {
    "duration": 9,
    "start_time": "2022-08-10T16:21:27.274Z"
   },
   {
    "duration": 40,
    "start_time": "2022-08-10T16:21:27.284Z"
   },
   {
    "duration": 7,
    "start_time": "2022-08-10T16:21:27.326Z"
   },
   {
    "duration": 8,
    "start_time": "2022-08-10T16:21:27.334Z"
   },
   {
    "duration": 9,
    "start_time": "2022-08-10T16:21:27.343Z"
   },
   {
    "duration": 2,
    "start_time": "2022-08-10T16:21:27.354Z"
   },
   {
    "duration": 10,
    "start_time": "2022-08-10T16:21:27.357Z"
   },
   {
    "duration": 7,
    "start_time": "2022-08-10T16:21:27.368Z"
   },
   {
    "duration": 36,
    "start_time": "2022-08-10T16:21:27.376Z"
   },
   {
    "duration": 2,
    "start_time": "2022-08-10T16:21:27.414Z"
   },
   {
    "duration": 3,
    "start_time": "2022-08-10T16:21:27.420Z"
   },
   {
    "duration": 9,
    "start_time": "2022-08-10T16:21:27.424Z"
   },
   {
    "duration": 5,
    "start_time": "2022-08-10T16:21:27.434Z"
   },
   {
    "duration": 5,
    "start_time": "2022-08-10T16:21:27.440Z"
   },
   {
    "duration": 4,
    "start_time": "2022-08-10T16:21:27.446Z"
   },
   {
    "duration": 7,
    "start_time": "2022-08-10T16:21:27.452Z"
   },
   {
    "duration": 9,
    "start_time": "2022-08-10T16:21:27.460Z"
   },
   {
    "duration": 4,
    "start_time": "2022-08-10T16:21:27.470Z"
   },
   {
    "duration": 5,
    "start_time": "2022-08-10T16:21:27.475Z"
   },
   {
    "duration": 4,
    "start_time": "2022-08-10T16:21:27.481Z"
   },
   {
    "duration": 4,
    "start_time": "2022-08-10T16:21:27.487Z"
   },
   {
    "duration": 6,
    "start_time": "2022-08-10T16:21:27.511Z"
   },
   {
    "duration": 6,
    "start_time": "2022-08-10T16:21:27.518Z"
   },
   {
    "duration": 3,
    "start_time": "2022-08-10T16:21:27.526Z"
   },
   {
    "duration": 5,
    "start_time": "2022-08-10T16:21:27.530Z"
   },
   {
    "duration": 5,
    "start_time": "2022-08-10T16:21:27.536Z"
   },
   {
    "duration": 4,
    "start_time": "2022-08-10T16:21:27.542Z"
   },
   {
    "duration": 7,
    "start_time": "2022-08-10T16:21:27.547Z"
   },
   {
    "duration": 4,
    "start_time": "2022-08-10T16:21:27.556Z"
   },
   {
    "duration": 7,
    "start_time": "2022-08-10T16:21:27.562Z"
   },
   {
    "duration": 16,
    "start_time": "2022-08-10T16:21:27.571Z"
   },
   {
    "duration": 5,
    "start_time": "2022-08-10T16:21:27.589Z"
   },
   {
    "duration": 7,
    "start_time": "2022-08-10T16:21:27.595Z"
   },
   {
    "duration": 20,
    "start_time": "2022-08-10T16:21:27.603Z"
   },
   {
    "duration": 6,
    "start_time": "2022-08-10T16:21:27.625Z"
   },
   {
    "duration": 5,
    "start_time": "2022-08-10T16:21:27.633Z"
   },
   {
    "duration": 4,
    "start_time": "2022-08-10T16:21:27.639Z"
   },
   {
    "duration": 4,
    "start_time": "2022-08-10T16:21:27.644Z"
   },
   {
    "duration": 4,
    "start_time": "2022-08-10T16:21:27.650Z"
   },
   {
    "duration": 4,
    "start_time": "2022-08-10T16:21:27.656Z"
   },
   {
    "duration": 5,
    "start_time": "2022-08-10T16:21:27.661Z"
   },
   {
    "duration": 4,
    "start_time": "2022-08-10T16:21:27.667Z"
   },
   {
    "duration": 5,
    "start_time": "2022-08-10T16:21:27.672Z"
   },
   {
    "duration": 4,
    "start_time": "2022-08-10T16:21:27.679Z"
   },
   {
    "duration": 4,
    "start_time": "2022-08-10T16:21:27.685Z"
   },
   {
    "duration": 4,
    "start_time": "2022-08-10T16:21:27.690Z"
   },
   {
    "duration": 4,
    "start_time": "2022-08-10T16:21:27.696Z"
   },
   {
    "duration": 9,
    "start_time": "2022-08-10T16:21:27.702Z"
   },
   {
    "duration": 4,
    "start_time": "2022-08-10T16:21:27.713Z"
   },
   {
    "duration": 7,
    "start_time": "2022-08-10T16:21:27.718Z"
   },
   {
    "duration": 10,
    "start_time": "2022-08-10T16:21:27.726Z"
   },
   {
    "duration": 5,
    "start_time": "2022-08-10T16:21:27.737Z"
   },
   {
    "duration": 5,
    "start_time": "2022-08-10T16:21:27.743Z"
   },
   {
    "duration": 5,
    "start_time": "2022-08-10T16:21:27.749Z"
   },
   {
    "duration": 4,
    "start_time": "2022-08-10T16:21:27.756Z"
   },
   {
    "duration": 7,
    "start_time": "2022-08-10T16:21:27.761Z"
   },
   {
    "duration": 4,
    "start_time": "2022-08-10T16:21:27.770Z"
   },
   {
    "duration": 5,
    "start_time": "2022-08-10T16:21:27.775Z"
   },
   {
    "duration": 5,
    "start_time": "2022-08-10T16:21:27.782Z"
   },
   {
    "duration": 9,
    "start_time": "2022-08-10T16:21:27.788Z"
   },
   {
    "duration": 16,
    "start_time": "2022-08-10T16:21:27.798Z"
   },
   {
    "duration": 25,
    "start_time": "2022-08-10T16:21:27.816Z"
   },
   {
    "duration": 6,
    "start_time": "2022-08-10T16:24:47.027Z"
   },
   {
    "duration": 15,
    "start_time": "2022-08-10T16:25:39.676Z"
   },
   {
    "duration": 634,
    "start_time": "2022-08-12T09:56:18.606Z"
   },
   {
    "duration": 9,
    "start_time": "2022-08-12T09:56:19.243Z"
   },
   {
    "duration": 22,
    "start_time": "2022-08-12T09:56:19.253Z"
   },
   {
    "duration": 17,
    "start_time": "2022-08-12T09:56:19.277Z"
   },
   {
    "duration": 4,
    "start_time": "2022-08-12T09:56:19.297Z"
   },
   {
    "duration": 27,
    "start_time": "2022-08-12T09:56:19.303Z"
   },
   {
    "duration": 4,
    "start_time": "2022-08-12T09:56:19.332Z"
   },
   {
    "duration": 49,
    "start_time": "2022-08-12T09:56:19.337Z"
   },
   {
    "duration": 14,
    "start_time": "2022-08-12T09:56:19.388Z"
   },
   {
    "duration": 8,
    "start_time": "2022-08-12T09:56:19.404Z"
   },
   {
    "duration": 7,
    "start_time": "2022-08-12T09:56:19.414Z"
   },
   {
    "duration": 10,
    "start_time": "2022-08-12T09:56:19.423Z"
   },
   {
    "duration": 43,
    "start_time": "2022-08-12T09:56:19.434Z"
   },
   {
    "duration": 10,
    "start_time": "2022-08-12T09:56:19.480Z"
   },
   {
    "duration": 11,
    "start_time": "2022-08-12T09:56:19.493Z"
   },
   {
    "duration": 14,
    "start_time": "2022-08-12T09:56:19.506Z"
   },
   {
    "duration": 13,
    "start_time": "2022-08-12T09:56:19.522Z"
   },
   {
    "duration": 32,
    "start_time": "2022-08-12T09:56:19.536Z"
   },
   {
    "duration": 17,
    "start_time": "2022-08-12T09:56:19.570Z"
   },
   {
    "duration": 11,
    "start_time": "2022-08-12T09:56:19.588Z"
   },
   {
    "duration": 9,
    "start_time": "2022-08-12T09:56:19.601Z"
   },
   {
    "duration": 6,
    "start_time": "2022-08-12T09:56:19.613Z"
   },
   {
    "duration": 6,
    "start_time": "2022-08-12T09:56:19.621Z"
   },
   {
    "duration": 40,
    "start_time": "2022-08-12T09:56:19.629Z"
   },
   {
    "duration": 7,
    "start_time": "2022-08-12T09:56:19.671Z"
   },
   {
    "duration": 8,
    "start_time": "2022-08-12T09:56:19.680Z"
   },
   {
    "duration": 2,
    "start_time": "2022-08-12T09:56:19.690Z"
   },
   {
    "duration": 6,
    "start_time": "2022-08-12T09:56:19.694Z"
   },
   {
    "duration": 6,
    "start_time": "2022-08-12T09:56:19.702Z"
   },
   {
    "duration": 9,
    "start_time": "2022-08-12T09:56:19.710Z"
   },
   {
    "duration": 7,
    "start_time": "2022-08-12T09:56:19.721Z"
   },
   {
    "duration": 8,
    "start_time": "2022-08-12T09:56:19.730Z"
   },
   {
    "duration": 4,
    "start_time": "2022-08-12T09:56:19.741Z"
   },
   {
    "duration": 2,
    "start_time": "2022-08-12T09:56:19.769Z"
   },
   {
    "duration": 6,
    "start_time": "2022-08-12T09:56:19.773Z"
   },
   {
    "duration": 5,
    "start_time": "2022-08-12T09:56:19.781Z"
   },
   {
    "duration": 5,
    "start_time": "2022-08-12T09:56:19.788Z"
   },
   {
    "duration": 6,
    "start_time": "2022-08-12T09:56:19.794Z"
   },
   {
    "duration": 5,
    "start_time": "2022-08-12T09:56:19.801Z"
   },
   {
    "duration": 5,
    "start_time": "2022-08-12T09:56:19.808Z"
   },
   {
    "duration": 3,
    "start_time": "2022-08-12T09:56:19.817Z"
   },
   {
    "duration": 5,
    "start_time": "2022-08-12T09:56:19.821Z"
   },
   {
    "duration": 5,
    "start_time": "2022-08-12T09:56:19.828Z"
   },
   {
    "duration": 33,
    "start_time": "2022-08-12T09:56:19.835Z"
   },
   {
    "duration": 5,
    "start_time": "2022-08-12T09:56:19.870Z"
   },
   {
    "duration": 6,
    "start_time": "2022-08-12T09:56:19.877Z"
   },
   {
    "duration": 5,
    "start_time": "2022-08-12T09:56:19.885Z"
   },
   {
    "duration": 9,
    "start_time": "2022-08-12T09:56:19.892Z"
   },
   {
    "duration": 7,
    "start_time": "2022-08-12T09:56:19.903Z"
   },
   {
    "duration": 9,
    "start_time": "2022-08-12T09:56:19.912Z"
   },
   {
    "duration": 7,
    "start_time": "2022-08-12T09:56:19.923Z"
   },
   {
    "duration": 16,
    "start_time": "2022-08-12T09:56:19.931Z"
   },
   {
    "duration": 10,
    "start_time": "2022-08-12T09:56:19.949Z"
   },
   {
    "duration": 14,
    "start_time": "2022-08-12T09:56:19.961Z"
   },
   {
    "duration": 6,
    "start_time": "2022-08-12T09:56:19.978Z"
   },
   {
    "duration": 9,
    "start_time": "2022-08-12T09:56:19.986Z"
   },
   {
    "duration": 6,
    "start_time": "2022-08-12T09:56:19.997Z"
   },
   {
    "duration": 6,
    "start_time": "2022-08-12T09:56:20.005Z"
   },
   {
    "duration": 8,
    "start_time": "2022-08-12T09:56:20.013Z"
   },
   {
    "duration": 6,
    "start_time": "2022-08-12T09:56:20.023Z"
   },
   {
    "duration": 6,
    "start_time": "2022-08-12T09:56:20.031Z"
   },
   {
    "duration": 5,
    "start_time": "2022-08-12T09:56:20.039Z"
   },
   {
    "duration": 5,
    "start_time": "2022-08-12T09:56:20.046Z"
   },
   {
    "duration": 6,
    "start_time": "2022-08-12T09:56:20.053Z"
   },
   {
    "duration": 11,
    "start_time": "2022-08-12T09:56:20.060Z"
   },
   {
    "duration": 8,
    "start_time": "2022-08-12T09:56:20.073Z"
   },
   {
    "duration": 9,
    "start_time": "2022-08-12T09:56:20.082Z"
   },
   {
    "duration": 9,
    "start_time": "2022-08-12T09:56:20.093Z"
   },
   {
    "duration": 5,
    "start_time": "2022-08-12T09:56:20.104Z"
   },
   {
    "duration": 7,
    "start_time": "2022-08-12T09:56:20.111Z"
   },
   {
    "duration": 5,
    "start_time": "2022-08-12T09:56:20.120Z"
   },
   {
    "duration": 5,
    "start_time": "2022-08-12T09:56:20.127Z"
   },
   {
    "duration": 5,
    "start_time": "2022-08-12T09:56:20.133Z"
   },
   {
    "duration": 5,
    "start_time": "2022-08-12T09:56:20.140Z"
   },
   {
    "duration": 5,
    "start_time": "2022-08-12T09:56:20.146Z"
   },
   {
    "duration": 2,
    "start_time": "2022-08-12T09:56:20.168Z"
   },
   {
    "duration": 7,
    "start_time": "2022-08-12T09:56:20.172Z"
   },
   {
    "duration": 6,
    "start_time": "2022-08-12T09:56:20.180Z"
   },
   {
    "duration": 6,
    "start_time": "2022-08-12T09:56:20.188Z"
   },
   {
    "duration": 7,
    "start_time": "2022-08-12T10:06:37.224Z"
   },
   {
    "duration": 7,
    "start_time": "2022-08-12T10:06:49.152Z"
   },
   {
    "duration": 6,
    "start_time": "2022-08-12T10:07:10.613Z"
   },
   {
    "duration": 22,
    "start_time": "2022-08-12T10:10:39.016Z"
   },
   {
    "duration": 2,
    "start_time": "2022-08-12T10:10:54.421Z"
   },
   {
    "duration": 6,
    "start_time": "2022-08-12T10:23:47.971Z"
   },
   {
    "duration": 5,
    "start_time": "2022-08-12T10:25:43.602Z"
   },
   {
    "duration": 2,
    "start_time": "2022-08-12T10:26:18.020Z"
   },
   {
    "duration": 6,
    "start_time": "2022-08-12T10:39:35.097Z"
   },
   {
    "duration": 12,
    "start_time": "2022-08-12T10:40:37.263Z"
   },
   {
    "duration": 448,
    "start_time": "2022-08-12T10:41:48.110Z"
   },
   {
    "duration": 2,
    "start_time": "2022-08-12T10:41:51.791Z"
   },
   {
    "duration": 9,
    "start_time": "2022-08-12T10:41:56.006Z"
   },
   {
    "duration": 15,
    "start_time": "2022-08-12T10:42:09.133Z"
   },
   {
    "duration": 16,
    "start_time": "2022-08-12T10:42:15.595Z"
   },
   {
    "duration": 4,
    "start_time": "2022-08-12T10:42:57.702Z"
   },
   {
    "duration": 2,
    "start_time": "2022-08-12T10:43:01.256Z"
   },
   {
    "duration": 23,
    "start_time": "2022-08-12T10:43:15.300Z"
   },
   {
    "duration": 25,
    "start_time": "2022-08-12T10:43:38.939Z"
   },
   {
    "duration": 3,
    "start_time": "2022-08-12T10:44:03.979Z"
   },
   {
    "duration": 4,
    "start_time": "2022-08-12T10:44:16.459Z"
   },
   {
    "duration": 34,
    "start_time": "2022-08-12T10:44:22.140Z"
   },
   {
    "duration": 76,
    "start_time": "2022-08-12T10:44:40.934Z"
   },
   {
    "duration": 9,
    "start_time": "2022-08-12T10:44:50.798Z"
   },
   {
    "duration": 8,
    "start_time": "2022-08-12T10:45:00.842Z"
   },
   {
    "duration": 8,
    "start_time": "2022-08-12T10:45:27.293Z"
   },
   {
    "duration": 7,
    "start_time": "2022-08-12T10:45:35.427Z"
   },
   {
    "duration": 13,
    "start_time": "2022-08-12T10:45:53.337Z"
   },
   {
    "duration": 7,
    "start_time": "2022-08-12T10:46:01.036Z"
   },
   {
    "duration": 8,
    "start_time": "2022-08-12T10:46:14.754Z"
   },
   {
    "duration": 8,
    "start_time": "2022-08-12T10:46:23.214Z"
   },
   {
    "duration": 8,
    "start_time": "2022-08-12T10:46:28.639Z"
   },
   {
    "duration": 9,
    "start_time": "2022-08-12T10:46:39.699Z"
   },
   {
    "duration": 17,
    "start_time": "2022-08-12T10:47:00.444Z"
   },
   {
    "duration": 8,
    "start_time": "2022-08-12T10:47:09.473Z"
   },
   {
    "duration": 6,
    "start_time": "2022-08-12T10:48:19.005Z"
   },
   {
    "duration": 7,
    "start_time": "2022-08-12T10:49:13.140Z"
   },
   {
    "duration": 5,
    "start_time": "2022-08-12T10:50:05.862Z"
   },
   {
    "duration": 7,
    "start_time": "2022-08-12T10:52:32.652Z"
   },
   {
    "duration": 6,
    "start_time": "2022-08-12T10:53:25.265Z"
   },
   {
    "duration": 6,
    "start_time": "2022-08-12T10:56:56.156Z"
   },
   {
    "duration": 4,
    "start_time": "2022-08-12T10:58:38.549Z"
   },
   {
    "duration": 6,
    "start_time": "2022-08-12T10:59:10.821Z"
   },
   {
    "duration": 7,
    "start_time": "2022-08-12T11:00:01.945Z"
   },
   {
    "duration": 7,
    "start_time": "2022-08-12T11:00:12.127Z"
   },
   {
    "duration": 72,
    "start_time": "2022-08-12T11:02:51.175Z"
   },
   {
    "duration": 6,
    "start_time": "2022-08-12T11:04:07.950Z"
   },
   {
    "duration": 6,
    "start_time": "2022-08-12T11:04:55.582Z"
   },
   {
    "duration": 7,
    "start_time": "2022-08-12T11:05:11.581Z"
   },
   {
    "duration": 12,
    "start_time": "2022-08-12T11:06:26.497Z"
   },
   {
    "duration": 7,
    "start_time": "2022-08-12T11:06:31.926Z"
   },
   {
    "duration": 9,
    "start_time": "2022-08-12T11:07:28.935Z"
   },
   {
    "duration": 6,
    "start_time": "2022-08-12T11:08:16.132Z"
   },
   {
    "duration": 20,
    "start_time": "2022-08-12T11:08:40.603Z"
   },
   {
    "duration": 6,
    "start_time": "2022-08-12T11:08:51.553Z"
   },
   {
    "duration": 9,
    "start_time": "2022-08-12T11:09:41.037Z"
   },
   {
    "duration": 8,
    "start_time": "2022-08-12T11:19:41.524Z"
   },
   {
    "duration": 2,
    "start_time": "2022-08-12T11:28:23.871Z"
   },
   {
    "duration": 5,
    "start_time": "2022-08-12T11:28:29.624Z"
   },
   {
    "duration": 4,
    "start_time": "2022-08-12T11:33:45.647Z"
   },
   {
    "duration": 6,
    "start_time": "2022-08-12T11:35:41.112Z"
   },
   {
    "duration": 5,
    "start_time": "2022-08-12T11:38:15.484Z"
   },
   {
    "duration": 5,
    "start_time": "2022-08-12T11:45:52.198Z"
   },
   {
    "duration": 6,
    "start_time": "2022-08-12T11:51:41.052Z"
   },
   {
    "duration": 4,
    "start_time": "2022-08-12T11:51:43.848Z"
   },
   {
    "duration": 11,
    "start_time": "2022-08-12T11:52:01.969Z"
   },
   {
    "duration": 6,
    "start_time": "2022-08-12T11:57:09.442Z"
   },
   {
    "duration": 8,
    "start_time": "2022-08-12T11:57:10.946Z"
   },
   {
    "duration": 7,
    "start_time": "2022-08-12T12:10:01.478Z"
   },
   {
    "duration": 6,
    "start_time": "2022-08-12T12:50:09.734Z"
   },
   {
    "duration": 7,
    "start_time": "2022-08-12T12:50:48.357Z"
   },
   {
    "duration": 10,
    "start_time": "2022-08-12T12:51:38.358Z"
   },
   {
    "duration": 10,
    "start_time": "2022-08-12T12:52:01.131Z"
   },
   {
    "duration": 5,
    "start_time": "2022-08-12T12:53:30.666Z"
   },
   {
    "duration": 8,
    "start_time": "2022-08-12T12:54:33.181Z"
   },
   {
    "duration": 7,
    "start_time": "2022-08-12T12:55:53.446Z"
   },
   {
    "duration": 8,
    "start_time": "2022-08-12T13:00:01.220Z"
   },
   {
    "duration": 24,
    "start_time": "2022-08-12T13:01:13.824Z"
   },
   {
    "duration": 9,
    "start_time": "2022-08-12T13:02:02.778Z"
   },
   {
    "duration": 15,
    "start_time": "2022-08-12T13:02:18.889Z"
   },
   {
    "duration": 6,
    "start_time": "2022-08-12T13:02:56.770Z"
   },
   {
    "duration": 5,
    "start_time": "2022-08-12T13:03:08.816Z"
   },
   {
    "duration": 7,
    "start_time": "2022-08-12T13:03:14.539Z"
   },
   {
    "duration": 6,
    "start_time": "2022-08-12T13:07:11.815Z"
   },
   {
    "duration": 7,
    "start_time": "2022-08-12T13:07:18.781Z"
   },
   {
    "duration": 11,
    "start_time": "2022-08-12T13:50:20.250Z"
   },
   {
    "duration": 7,
    "start_time": "2022-08-12T13:54:53.652Z"
   },
   {
    "duration": 7,
    "start_time": "2022-08-12T14:03:57.925Z"
   },
   {
    "duration": 21,
    "start_time": "2022-08-12T14:04:08.587Z"
   },
   {
    "duration": 41,
    "start_time": "2022-08-12T14:05:09.910Z"
   },
   {
    "duration": 18,
    "start_time": "2022-08-12T14:05:59.475Z"
   },
   {
    "duration": 43,
    "start_time": "2022-08-12T14:07:13.217Z"
   },
   {
    "duration": 16,
    "start_time": "2022-08-12T14:07:31.038Z"
   },
   {
    "duration": 20,
    "start_time": "2022-08-12T14:09:37.206Z"
   },
   {
    "duration": 19,
    "start_time": "2022-08-12T14:09:42.841Z"
   },
   {
    "duration": 5,
    "start_time": "2022-08-12T14:18:56.686Z"
   },
   {
    "duration": 15,
    "start_time": "2022-08-12T14:27:21.463Z"
   },
   {
    "duration": 19,
    "start_time": "2022-08-12T15:06:51.406Z"
   },
   {
    "duration": 14,
    "start_time": "2022-08-12T15:07:21.624Z"
   },
   {
    "duration": 20,
    "start_time": "2022-08-12T15:08:50.067Z"
   },
   {
    "duration": 20,
    "start_time": "2022-08-12T15:10:48.185Z"
   },
   {
    "duration": 14,
    "start_time": "2022-08-12T15:11:03.436Z"
   },
   {
    "duration": 10,
    "start_time": "2022-08-12T15:11:56.743Z"
   },
   {
    "duration": 4,
    "start_time": "2022-08-12T15:12:37.753Z"
   },
   {
    "duration": 118,
    "start_time": "2022-08-12T16:11:22.119Z"
   },
   {
    "duration": 9,
    "start_time": "2022-08-12T16:11:26.615Z"
   },
   {
    "duration": 4,
    "start_time": "2022-08-12T16:11:36.718Z"
   },
   {
    "duration": 3,
    "start_time": "2022-08-12T16:11:38.460Z"
   },
   {
    "duration": 3,
    "start_time": "2022-08-12T16:11:44.190Z"
   },
   {
    "duration": 3,
    "start_time": "2022-08-12T16:11:46.001Z"
   },
   {
    "duration": 9,
    "start_time": "2022-08-12T16:18:34.098Z"
   },
   {
    "duration": 23,
    "start_time": "2022-08-12T16:18:56.419Z"
   },
   {
    "duration": 5,
    "start_time": "2022-08-12T16:20:16.226Z"
   },
   {
    "duration": 5,
    "start_time": "2022-08-12T16:21:29.308Z"
   },
   {
    "duration": 4,
    "start_time": "2022-08-12T16:22:54.625Z"
   },
   {
    "duration": 5,
    "start_time": "2022-08-12T16:22:55.249Z"
   },
   {
    "duration": 5,
    "start_time": "2022-08-12T16:22:55.825Z"
   },
   {
    "duration": 4,
    "start_time": "2022-08-12T16:22:58.179Z"
   },
   {
    "duration": 9,
    "start_time": "2022-08-12T16:23:16.462Z"
   },
   {
    "duration": 24,
    "start_time": "2022-08-12T16:23:44.449Z"
   },
   {
    "duration": 43,
    "start_time": "2022-08-12T16:28:40.646Z"
   },
   {
    "duration": 44,
    "start_time": "2022-08-12T16:29:08.222Z"
   },
   {
    "duration": 13,
    "start_time": "2022-08-12T16:29:25.412Z"
   },
   {
    "duration": 16,
    "start_time": "2022-08-12T16:29:30.593Z"
   },
   {
    "duration": 77,
    "start_time": "2022-08-12T16:32:12.475Z"
   },
   {
    "duration": 79,
    "start_time": "2022-08-12T16:32:23.306Z"
   },
   {
    "duration": 3072,
    "start_time": "2022-08-12T16:33:14.217Z"
   },
   {
    "duration": 8987,
    "start_time": "2022-08-12T16:35:02.876Z"
   },
   {
    "duration": 7,
    "start_time": "2022-08-12T16:36:02.022Z"
   },
   {
    "duration": 6,
    "start_time": "2022-08-12T16:36:35.475Z"
   },
   {
    "duration": 8,
    "start_time": "2022-08-12T16:37:24.109Z"
   },
   {
    "duration": 8,
    "start_time": "2022-08-12T16:39:22.915Z"
   },
   {
    "duration": 591,
    "start_time": "2022-08-13T14:25:04.703Z"
   },
   {
    "duration": 6,
    "start_time": "2022-08-13T14:25:05.296Z"
   },
   {
    "duration": 15,
    "start_time": "2022-08-13T14:25:05.304Z"
   },
   {
    "duration": 12,
    "start_time": "2022-08-13T14:25:05.321Z"
   },
   {
    "duration": 3,
    "start_time": "2022-08-13T14:25:05.334Z"
   },
   {
    "duration": 22,
    "start_time": "2022-08-13T14:25:05.338Z"
   },
   {
    "duration": 3,
    "start_time": "2022-08-13T14:25:05.361Z"
   },
   {
    "duration": 31,
    "start_time": "2022-08-13T14:25:05.365Z"
   },
   {
    "duration": 7,
    "start_time": "2022-08-13T14:25:05.398Z"
   },
   {
    "duration": 6,
    "start_time": "2022-08-13T14:25:05.409Z"
   },
   {
    "duration": 5,
    "start_time": "2022-08-13T14:25:05.416Z"
   },
   {
    "duration": 9,
    "start_time": "2022-08-13T14:25:05.422Z"
   },
   {
    "duration": 8,
    "start_time": "2022-08-13T14:25:05.432Z"
   },
   {
    "duration": 22,
    "start_time": "2022-08-13T14:25:05.442Z"
   },
   {
    "duration": 7,
    "start_time": "2022-08-13T14:25:05.465Z"
   },
   {
    "duration": 9,
    "start_time": "2022-08-13T14:25:05.473Z"
   },
   {
    "duration": 7,
    "start_time": "2022-08-13T14:25:05.483Z"
   },
   {
    "duration": 6,
    "start_time": "2022-08-13T14:25:05.491Z"
   },
   {
    "duration": 13,
    "start_time": "2022-08-13T14:25:05.498Z"
   },
   {
    "duration": 4,
    "start_time": "2022-08-13T14:25:05.513Z"
   },
   {
    "duration": 8,
    "start_time": "2022-08-13T14:25:05.518Z"
   },
   {
    "duration": 31,
    "start_time": "2022-08-13T14:25:05.527Z"
   },
   {
    "duration": 6,
    "start_time": "2022-08-13T14:25:05.559Z"
   },
   {
    "duration": 6,
    "start_time": "2022-08-13T14:25:05.566Z"
   },
   {
    "duration": 4,
    "start_time": "2022-08-13T14:25:05.574Z"
   },
   {
    "duration": 4,
    "start_time": "2022-08-13T14:25:05.580Z"
   },
   {
    "duration": 6,
    "start_time": "2022-08-13T14:25:05.585Z"
   },
   {
    "duration": 4,
    "start_time": "2022-08-13T14:25:05.594Z"
   },
   {
    "duration": 5,
    "start_time": "2022-08-13T14:25:05.599Z"
   },
   {
    "duration": 10,
    "start_time": "2022-08-13T14:25:05.605Z"
   },
   {
    "duration": 5,
    "start_time": "2022-08-13T14:25:05.616Z"
   },
   {
    "duration": 41,
    "start_time": "2022-08-13T14:25:05.622Z"
   },
   {
    "duration": 4,
    "start_time": "2022-08-13T14:25:05.668Z"
   },
   {
    "duration": 7,
    "start_time": "2022-08-13T14:25:05.674Z"
   },
   {
    "duration": 10,
    "start_time": "2022-08-13T14:25:05.682Z"
   },
   {
    "duration": 9,
    "start_time": "2022-08-13T14:25:05.694Z"
   },
   {
    "duration": 17,
    "start_time": "2022-08-13T14:25:05.704Z"
   },
   {
    "duration": 15,
    "start_time": "2022-08-13T14:25:05.722Z"
   },
   {
    "duration": 29,
    "start_time": "2022-08-13T14:25:05.738Z"
   },
   {
    "duration": 5,
    "start_time": "2022-08-13T14:25:05.768Z"
   },
   {
    "duration": 6,
    "start_time": "2022-08-13T14:25:05.774Z"
   },
   {
    "duration": 4,
    "start_time": "2022-08-13T14:25:05.781Z"
   },
   {
    "duration": 5,
    "start_time": "2022-08-13T14:25:05.787Z"
   },
   {
    "duration": 5,
    "start_time": "2022-08-13T14:25:05.793Z"
   },
   {
    "duration": 4,
    "start_time": "2022-08-13T14:25:05.799Z"
   },
   {
    "duration": 8,
    "start_time": "2022-08-13T14:25:05.805Z"
   },
   {
    "duration": 54,
    "start_time": "2022-08-13T14:25:05.814Z"
   },
   {
    "duration": 8,
    "start_time": "2022-08-13T14:25:05.869Z"
   },
   {
    "duration": 6,
    "start_time": "2022-08-13T14:25:05.878Z"
   },
   {
    "duration": 6,
    "start_time": "2022-08-13T14:25:05.885Z"
   },
   {
    "duration": 7,
    "start_time": "2022-08-13T14:25:05.892Z"
   },
   {
    "duration": 4,
    "start_time": "2022-08-13T14:25:05.900Z"
   },
   {
    "duration": 7,
    "start_time": "2022-08-13T14:25:05.905Z"
   },
   {
    "duration": 11,
    "start_time": "2022-08-13T14:25:05.913Z"
   },
   {
    "duration": 7,
    "start_time": "2022-08-13T14:25:05.925Z"
   },
   {
    "duration": 5,
    "start_time": "2022-08-13T14:25:05.934Z"
   },
   {
    "duration": 6,
    "start_time": "2022-08-13T14:25:05.940Z"
   },
   {
    "duration": 17,
    "start_time": "2022-08-13T14:25:05.947Z"
   },
   {
    "duration": 7,
    "start_time": "2022-08-13T14:25:05.966Z"
   },
   {
    "duration": 5,
    "start_time": "2022-08-13T14:25:05.975Z"
   },
   {
    "duration": 4,
    "start_time": "2022-08-13T14:25:05.982Z"
   },
   {
    "duration": 5,
    "start_time": "2022-08-13T14:25:05.987Z"
   },
   {
    "duration": 8,
    "start_time": "2022-08-13T14:25:05.993Z"
   },
   {
    "duration": 4,
    "start_time": "2022-08-13T14:25:06.003Z"
   },
   {
    "duration": 6,
    "start_time": "2022-08-13T14:25:06.009Z"
   },
   {
    "duration": 11,
    "start_time": "2022-08-13T14:25:06.016Z"
   },
   {
    "duration": 6,
    "start_time": "2022-08-13T14:25:06.028Z"
   },
   {
    "duration": 5,
    "start_time": "2022-08-13T14:25:06.036Z"
   },
   {
    "duration": 5,
    "start_time": "2022-08-13T14:25:06.042Z"
   },
   {
    "duration": 5,
    "start_time": "2022-08-13T14:25:06.048Z"
   },
   {
    "duration": 21,
    "start_time": "2022-08-13T14:25:06.054Z"
   },
   {
    "duration": 6,
    "start_time": "2022-08-13T14:25:06.077Z"
   },
   {
    "duration": 9,
    "start_time": "2022-08-13T14:25:06.085Z"
   },
   {
    "duration": 18,
    "start_time": "2022-08-13T14:25:06.096Z"
   },
   {
    "duration": 5,
    "start_time": "2022-08-13T14:25:06.115Z"
   },
   {
    "duration": 7,
    "start_time": "2022-08-13T14:25:06.122Z"
   },
   {
    "duration": 4,
    "start_time": "2022-08-13T14:25:06.130Z"
   },
   {
    "duration": 8,
    "start_time": "2022-08-13T14:25:06.136Z"
   },
   {
    "duration": 595,
    "start_time": "2022-08-13T18:34:47.001Z"
   },
   {
    "duration": 7,
    "start_time": "2022-08-13T18:34:47.598Z"
   },
   {
    "duration": 15,
    "start_time": "2022-08-13T18:34:47.606Z"
   },
   {
    "duration": 14,
    "start_time": "2022-08-13T18:34:47.622Z"
   },
   {
    "duration": 3,
    "start_time": "2022-08-13T18:34:47.637Z"
   },
   {
    "duration": 20,
    "start_time": "2022-08-13T18:34:47.641Z"
   },
   {
    "duration": 3,
    "start_time": "2022-08-13T18:34:47.663Z"
   },
   {
    "duration": 53,
    "start_time": "2022-08-13T18:34:47.667Z"
   },
   {
    "duration": 7,
    "start_time": "2022-08-13T18:34:47.721Z"
   },
   {
    "duration": 6,
    "start_time": "2022-08-13T18:34:47.732Z"
   },
   {
    "duration": 6,
    "start_time": "2022-08-13T18:34:47.739Z"
   },
   {
    "duration": 7,
    "start_time": "2022-08-13T18:34:47.746Z"
   },
   {
    "duration": 7,
    "start_time": "2022-08-13T18:34:47.755Z"
   },
   {
    "duration": 44,
    "start_time": "2022-08-13T18:34:47.763Z"
   },
   {
    "duration": 8,
    "start_time": "2022-08-13T18:34:47.808Z"
   },
   {
    "duration": 12,
    "start_time": "2022-08-13T18:34:47.817Z"
   },
   {
    "duration": 7,
    "start_time": "2022-08-13T18:34:47.830Z"
   },
   {
    "duration": 7,
    "start_time": "2022-08-13T18:34:47.839Z"
   },
   {
    "duration": 15,
    "start_time": "2022-08-13T18:34:47.847Z"
   },
   {
    "duration": 5,
    "start_time": "2022-08-13T18:34:47.863Z"
   },
   {
    "duration": 40,
    "start_time": "2022-08-13T18:34:47.869Z"
   },
   {
    "duration": 8,
    "start_time": "2022-08-13T18:34:47.911Z"
   },
   {
    "duration": 5,
    "start_time": "2022-08-13T18:34:47.920Z"
   },
   {
    "duration": 8,
    "start_time": "2022-08-13T18:34:47.926Z"
   },
   {
    "duration": 4,
    "start_time": "2022-08-13T18:34:47.935Z"
   },
   {
    "duration": 3,
    "start_time": "2022-08-13T18:34:47.940Z"
   },
   {
    "duration": 5,
    "start_time": "2022-08-13T18:34:47.945Z"
   },
   {
    "duration": 4,
    "start_time": "2022-08-13T18:34:47.954Z"
   },
   {
    "duration": 48,
    "start_time": "2022-08-13T18:34:47.959Z"
   },
   {
    "duration": 6,
    "start_time": "2022-08-13T18:34:48.009Z"
   },
   {
    "duration": 4,
    "start_time": "2022-08-13T18:34:48.017Z"
   },
   {
    "duration": 5,
    "start_time": "2022-08-13T18:34:48.023Z"
   },
   {
    "duration": 5,
    "start_time": "2022-08-13T18:34:48.030Z"
   },
   {
    "duration": 24,
    "start_time": "2022-08-13T18:34:48.037Z"
   },
   {
    "duration": 10,
    "start_time": "2022-08-13T18:34:48.062Z"
   },
   {
    "duration": 37,
    "start_time": "2022-08-13T18:34:48.074Z"
   },
   {
    "duration": 18,
    "start_time": "2022-08-13T18:34:48.113Z"
   },
   {
    "duration": 17,
    "start_time": "2022-08-13T18:34:48.132Z"
   },
   {
    "duration": 15,
    "start_time": "2022-08-13T18:34:48.150Z"
   },
   {
    "duration": 4,
    "start_time": "2022-08-13T18:34:48.166Z"
   },
   {
    "duration": 3,
    "start_time": "2022-08-13T18:34:48.171Z"
   },
   {
    "duration": 33,
    "start_time": "2022-08-13T18:34:48.176Z"
   },
   {
    "duration": 6,
    "start_time": "2022-08-13T18:34:48.211Z"
   },
   {
    "duration": 4,
    "start_time": "2022-08-13T18:34:48.219Z"
   },
   {
    "duration": 4,
    "start_time": "2022-08-13T18:34:48.225Z"
   },
   {
    "duration": 11,
    "start_time": "2022-08-13T18:34:48.230Z"
   },
   {
    "duration": 24,
    "start_time": "2022-08-13T18:34:48.243Z"
   },
   {
    "duration": 7,
    "start_time": "2022-08-13T18:34:48.306Z"
   },
   {
    "duration": 5,
    "start_time": "2022-08-13T18:34:48.315Z"
   },
   {
    "duration": 5,
    "start_time": "2022-08-13T18:34:48.321Z"
   },
   {
    "duration": 10,
    "start_time": "2022-08-13T18:34:48.327Z"
   },
   {
    "duration": 5,
    "start_time": "2022-08-13T18:34:48.338Z"
   },
   {
    "duration": 7,
    "start_time": "2022-08-13T18:34:48.344Z"
   },
   {
    "duration": 5,
    "start_time": "2022-08-13T18:34:48.352Z"
   },
   {
    "duration": 7,
    "start_time": "2022-08-13T18:34:48.358Z"
   },
   {
    "duration": 5,
    "start_time": "2022-08-13T18:34:48.367Z"
   },
   {
    "duration": 5,
    "start_time": "2022-08-13T18:34:48.374Z"
   },
   {
    "duration": 26,
    "start_time": "2022-08-13T18:34:48.380Z"
   },
   {
    "duration": 4,
    "start_time": "2022-08-13T18:34:48.407Z"
   },
   {
    "duration": 4,
    "start_time": "2022-08-13T18:34:48.413Z"
   },
   {
    "duration": 4,
    "start_time": "2022-08-13T18:34:48.418Z"
   },
   {
    "duration": 6,
    "start_time": "2022-08-13T18:34:48.424Z"
   },
   {
    "duration": 5,
    "start_time": "2022-08-13T18:34:48.431Z"
   },
   {
    "duration": 5,
    "start_time": "2022-08-13T18:34:48.437Z"
   },
   {
    "duration": 5,
    "start_time": "2022-08-13T18:34:48.443Z"
   },
   {
    "duration": 5,
    "start_time": "2022-08-13T18:34:48.449Z"
   },
   {
    "duration": 4,
    "start_time": "2022-08-13T18:34:48.455Z"
   },
   {
    "duration": 4,
    "start_time": "2022-08-13T18:34:48.461Z"
   },
   {
    "duration": 5,
    "start_time": "2022-08-13T18:34:48.466Z"
   },
   {
    "duration": 35,
    "start_time": "2022-08-13T18:34:48.472Z"
   },
   {
    "duration": 5,
    "start_time": "2022-08-13T18:34:48.508Z"
   },
   {
    "duration": 4,
    "start_time": "2022-08-13T18:34:48.514Z"
   },
   {
    "duration": 4,
    "start_time": "2022-08-13T18:34:48.520Z"
   },
   {
    "duration": 5,
    "start_time": "2022-08-13T18:34:48.525Z"
   },
   {
    "duration": 6,
    "start_time": "2022-08-13T18:34:48.531Z"
   },
   {
    "duration": 9,
    "start_time": "2022-08-13T18:34:48.538Z"
   },
   {
    "duration": 4,
    "start_time": "2022-08-13T18:34:48.548Z"
   },
   {
    "duration": 6,
    "start_time": "2022-08-13T18:34:48.554Z"
   },
   {
    "duration": 13,
    "start_time": "2022-08-13T18:41:32.523Z"
   },
   {
    "duration": 11,
    "start_time": "2022-08-13T18:44:00.756Z"
   },
   {
    "duration": 13,
    "start_time": "2022-08-13T18:44:20.259Z"
   },
   {
    "duration": 57,
    "start_time": "2022-08-13T18:47:19.644Z"
   },
   {
    "duration": 13,
    "start_time": "2022-08-13T18:47:31.258Z"
   },
   {
    "duration": 21,
    "start_time": "2022-08-13T18:54:09.381Z"
   },
   {
    "duration": 23,
    "start_time": "2022-08-13T18:57:59.373Z"
   },
   {
    "duration": 445,
    "start_time": "2022-08-13T19:03:00.773Z"
   },
   {
    "duration": 7,
    "start_time": "2022-08-13T19:03:01.220Z"
   },
   {
    "duration": 29,
    "start_time": "2022-08-13T19:03:01.228Z"
   },
   {
    "duration": 32,
    "start_time": "2022-08-13T19:03:01.260Z"
   },
   {
    "duration": 27,
    "start_time": "2022-08-13T19:03:01.293Z"
   },
   {
    "duration": 37,
    "start_time": "2022-08-13T19:03:01.322Z"
   },
   {
    "duration": 27,
    "start_time": "2022-08-13T19:03:01.360Z"
   },
   {
    "duration": 52,
    "start_time": "2022-08-13T19:03:01.388Z"
   },
   {
    "duration": 36,
    "start_time": "2022-08-13T19:03:01.442Z"
   },
   {
    "duration": 18,
    "start_time": "2022-08-13T19:03:01.482Z"
   },
   {
    "duration": 49,
    "start_time": "2022-08-13T19:03:01.501Z"
   },
   {
    "duration": 33,
    "start_time": "2022-08-13T19:03:01.551Z"
   },
   {
    "duration": 22,
    "start_time": "2022-08-13T19:03:01.585Z"
   },
   {
    "duration": 28,
    "start_time": "2022-08-13T19:03:01.608Z"
   },
   {
    "duration": 32,
    "start_time": "2022-08-13T19:03:01.638Z"
   },
   {
    "duration": 18,
    "start_time": "2022-08-13T19:03:01.672Z"
   },
   {
    "duration": 17,
    "start_time": "2022-08-13T19:03:01.692Z"
   },
   {
    "duration": 13,
    "start_time": "2022-08-13T19:03:01.711Z"
   },
   {
    "duration": 23,
    "start_time": "2022-08-13T19:03:01.725Z"
   },
   {
    "duration": 15,
    "start_time": "2022-08-13T19:03:01.750Z"
   },
   {
    "duration": 11,
    "start_time": "2022-08-13T19:03:01.766Z"
   },
   {
    "duration": 22,
    "start_time": "2022-08-13T19:03:01.778Z"
   },
   {
    "duration": 23,
    "start_time": "2022-08-13T19:03:01.801Z"
   },
   {
    "duration": 24,
    "start_time": "2022-08-13T19:03:01.825Z"
   },
   {
    "duration": 19,
    "start_time": "2022-08-13T19:03:01.851Z"
   },
   {
    "duration": 18,
    "start_time": "2022-08-13T19:03:01.871Z"
   },
   {
    "duration": 25,
    "start_time": "2022-08-13T19:03:01.891Z"
   },
   {
    "duration": 10,
    "start_time": "2022-08-13T19:03:01.920Z"
   },
   {
    "duration": 25,
    "start_time": "2022-08-13T19:03:01.931Z"
   },
   {
    "duration": 32,
    "start_time": "2022-08-13T19:03:01.957Z"
   },
   {
    "duration": 18,
    "start_time": "2022-08-13T19:03:01.990Z"
   },
   {
    "duration": 20,
    "start_time": "2022-08-13T19:03:02.009Z"
   },
   {
    "duration": 16,
    "start_time": "2022-08-13T19:03:02.031Z"
   },
   {
    "duration": 20,
    "start_time": "2022-08-13T19:03:02.048Z"
   },
   {
    "duration": 23,
    "start_time": "2022-08-13T19:03:02.069Z"
   },
   {
    "duration": 27,
    "start_time": "2022-08-13T19:03:02.093Z"
   },
   {
    "duration": 49,
    "start_time": "2022-08-13T19:03:02.121Z"
   },
   {
    "duration": 23,
    "start_time": "2022-08-13T19:03:02.171Z"
   },
   {
    "duration": 21,
    "start_time": "2022-08-13T19:03:02.195Z"
   },
   {
    "duration": 15,
    "start_time": "2022-08-13T19:03:02.217Z"
   },
   {
    "duration": 30,
    "start_time": "2022-08-13T19:03:02.233Z"
   },
   {
    "duration": 27,
    "start_time": "2022-08-13T19:03:02.265Z"
   },
   {
    "duration": 18,
    "start_time": "2022-08-13T19:03:02.294Z"
   },
   {
    "duration": 20,
    "start_time": "2022-08-13T19:03:02.314Z"
   },
   {
    "duration": 27,
    "start_time": "2022-08-13T19:03:02.335Z"
   },
   {
    "duration": 34,
    "start_time": "2022-08-13T19:03:02.364Z"
   },
   {
    "duration": 23,
    "start_time": "2022-08-13T19:03:02.400Z"
   },
   {
    "duration": 40,
    "start_time": "2022-08-13T19:03:02.425Z"
   },
   {
    "duration": 22,
    "start_time": "2022-08-13T19:03:02.466Z"
   },
   {
    "duration": 25,
    "start_time": "2022-08-13T19:03:02.489Z"
   },
   {
    "duration": 13,
    "start_time": "2022-08-13T19:03:02.516Z"
   },
   {
    "duration": 22,
    "start_time": "2022-08-13T19:03:02.530Z"
   },
   {
    "duration": 16,
    "start_time": "2022-08-13T19:03:02.553Z"
   },
   {
    "duration": 20,
    "start_time": "2022-08-13T19:03:02.571Z"
   },
   {
    "duration": 22,
    "start_time": "2022-08-13T19:03:02.593Z"
   },
   {
    "duration": 24,
    "start_time": "2022-08-13T19:03:02.616Z"
   },
   {
    "duration": 15,
    "start_time": "2022-08-13T19:03:02.641Z"
   },
   {
    "duration": 14,
    "start_time": "2022-08-13T19:03:02.658Z"
   },
   {
    "duration": 12,
    "start_time": "2022-08-13T19:03:02.674Z"
   },
   {
    "duration": 21,
    "start_time": "2022-08-13T19:03:02.688Z"
   },
   {
    "duration": 19,
    "start_time": "2022-08-13T19:03:02.710Z"
   },
   {
    "duration": 15,
    "start_time": "2022-08-13T19:03:02.731Z"
   },
   {
    "duration": 26,
    "start_time": "2022-08-13T19:03:02.748Z"
   },
   {
    "duration": 24,
    "start_time": "2022-08-13T19:03:02.775Z"
   },
   {
    "duration": 11,
    "start_time": "2022-08-13T19:03:02.800Z"
   },
   {
    "duration": 17,
    "start_time": "2022-08-13T19:03:02.812Z"
   },
   {
    "duration": 17,
    "start_time": "2022-08-13T19:03:02.831Z"
   },
   {
    "duration": 16,
    "start_time": "2022-08-13T19:03:02.849Z"
   },
   {
    "duration": 12,
    "start_time": "2022-08-13T19:03:02.867Z"
   },
   {
    "duration": 25,
    "start_time": "2022-08-13T19:03:02.881Z"
   },
   {
    "duration": 9,
    "start_time": "2022-08-13T19:03:02.908Z"
   },
   {
    "duration": 16,
    "start_time": "2022-08-13T19:03:02.919Z"
   },
   {
    "duration": 25,
    "start_time": "2022-08-13T19:03:02.937Z"
   },
   {
    "duration": 13,
    "start_time": "2022-08-13T19:03:02.964Z"
   },
   {
    "duration": 21,
    "start_time": "2022-08-13T19:03:02.979Z"
   },
   {
    "duration": 23,
    "start_time": "2022-08-13T19:03:03.002Z"
   },
   {
    "duration": 22,
    "start_time": "2022-08-13T19:03:03.026Z"
   },
   {
    "duration": 13,
    "start_time": "2022-08-13T19:03:03.050Z"
   },
   {
    "duration": 16,
    "start_time": "2022-08-13T19:03:03.065Z"
   },
   {
    "duration": 30,
    "start_time": "2022-08-13T19:05:39.886Z"
   },
   {
    "duration": 38,
    "start_time": "2022-08-13T19:05:49.433Z"
   },
   {
    "duration": 7,
    "start_time": "2022-08-13T19:06:20.604Z"
   },
   {
    "duration": 12,
    "start_time": "2022-08-13T19:07:42.976Z"
   },
   {
    "duration": 7,
    "start_time": "2022-08-13T19:10:11.439Z"
   },
   {
    "duration": 23,
    "start_time": "2022-08-13T19:10:19.487Z"
   },
   {
    "duration": 6,
    "start_time": "2022-08-13T19:12:47.987Z"
   },
   {
    "duration": 5,
    "start_time": "2022-08-13T19:14:08.797Z"
   },
   {
    "duration": 24,
    "start_time": "2022-08-13T20:24:49.062Z"
   },
   {
    "duration": 75,
    "start_time": "2022-08-13T20:31:03.162Z"
   },
   {
    "duration": 10,
    "start_time": "2022-08-13T20:32:39.393Z"
   },
   {
    "duration": 9,
    "start_time": "2022-08-13T20:32:42.925Z"
   },
   {
    "duration": 16,
    "start_time": "2022-08-13T20:41:44.998Z"
   },
   {
    "duration": 11,
    "start_time": "2022-08-13T20:41:55.556Z"
   },
   {
    "duration": 6,
    "start_time": "2022-08-13T20:42:03.258Z"
   },
   {
    "duration": 4,
    "start_time": "2022-08-13T20:42:09.461Z"
   },
   {
    "duration": 6,
    "start_time": "2022-08-13T20:48:48.490Z"
   },
   {
    "duration": 9,
    "start_time": "2022-08-13T20:58:54.365Z"
   },
   {
    "duration": 9,
    "start_time": "2022-08-13T20:59:03.048Z"
   },
   {
    "duration": 7,
    "start_time": "2022-08-13T21:00:15.710Z"
   },
   {
    "duration": 8,
    "start_time": "2022-08-13T21:01:07.468Z"
   },
   {
    "duration": 14,
    "start_time": "2022-08-13T21:02:25.521Z"
   },
   {
    "duration": 5,
    "start_time": "2022-08-13T21:03:47.844Z"
   },
   {
    "duration": 5,
    "start_time": "2022-08-13T21:04:17.940Z"
   },
   {
    "duration": 88,
    "start_time": "2022-08-13T21:04:54.504Z"
   },
   {
    "duration": 5,
    "start_time": "2022-08-13T21:05:03.940Z"
   },
   {
    "duration": 4,
    "start_time": "2022-08-13T21:07:32.560Z"
   },
   {
    "duration": 3,
    "start_time": "2022-08-13T21:07:43.897Z"
   },
   {
    "duration": 4,
    "start_time": "2022-08-13T21:08:34.669Z"
   },
   {
    "duration": 4,
    "start_time": "2022-08-13T21:09:26.372Z"
   },
   {
    "duration": 5,
    "start_time": "2022-08-13T21:11:43.578Z"
   },
   {
    "duration": 4,
    "start_time": "2022-08-13T21:12:12.385Z"
   },
   {
    "duration": 9,
    "start_time": "2022-08-13T21:28:55.373Z"
   },
   {
    "duration": 7,
    "start_time": "2022-08-13T21:30:47.849Z"
   },
   {
    "duration": 11,
    "start_time": "2022-08-13T21:33:07.526Z"
   },
   {
    "duration": 6,
    "start_time": "2022-08-13T21:37:26.642Z"
   },
   {
    "duration": 1780,
    "start_time": "2022-08-13T22:25:27.741Z"
   },
   {
    "duration": 5,
    "start_time": "2022-08-13T22:27:19.973Z"
   },
   {
    "duration": 4,
    "start_time": "2022-08-13T22:38:39.146Z"
   },
   {
    "duration": 6,
    "start_time": "2022-08-13T22:39:12.956Z"
   },
   {
    "duration": 3,
    "start_time": "2022-08-13T22:39:24.637Z"
   },
   {
    "duration": 8,
    "start_time": "2022-08-13T22:39:26.318Z"
   },
   {
    "duration": 8,
    "start_time": "2022-08-13T22:41:25.547Z"
   },
   {
    "duration": 3,
    "start_time": "2022-08-13T22:41:37.176Z"
   },
   {
    "duration": 8,
    "start_time": "2022-08-13T22:41:37.757Z"
   },
   {
    "duration": 2,
    "start_time": "2022-08-13T22:46:31.428Z"
   },
   {
    "duration": 87,
    "start_time": "2022-08-13T22:59:45.575Z"
   },
   {
    "duration": 2,
    "start_time": "2022-08-13T22:59:57.007Z"
   },
   {
    "duration": 20,
    "start_time": "2022-08-13T23:15:23.471Z"
   },
   {
    "duration": 95,
    "start_time": "2022-08-13T23:17:34.385Z"
   },
   {
    "duration": 82,
    "start_time": "2022-08-13T23:18:30.124Z"
   },
   {
    "duration": 120,
    "start_time": "2022-08-13T23:18:57.574Z"
   },
   {
    "duration": 6,
    "start_time": "2022-08-13T23:19:45.567Z"
   },
   {
    "duration": 7,
    "start_time": "2022-08-13T23:21:41.047Z"
   },
   {
    "duration": 6,
    "start_time": "2022-08-13T23:22:35.078Z"
   },
   {
    "duration": 4,
    "start_time": "2022-08-13T23:29:52.962Z"
   },
   {
    "duration": 4,
    "start_time": "2022-08-13T23:36:54.383Z"
   },
   {
    "duration": 3,
    "start_time": "2022-08-13T23:38:55.697Z"
   },
   {
    "duration": 3,
    "start_time": "2022-08-13T23:39:15.195Z"
   },
   {
    "duration": 5,
    "start_time": "2022-08-13T23:39:15.683Z"
   },
   {
    "duration": 6,
    "start_time": "2022-08-13T23:43:18.905Z"
   },
   {
    "duration": 3,
    "start_time": "2022-08-13T23:43:22.816Z"
   },
   {
    "duration": 6,
    "start_time": "2022-08-13T23:43:23.371Z"
   },
   {
    "duration": 3,
    "start_time": "2022-08-13T23:45:32.268Z"
   },
   {
    "duration": 9,
    "start_time": "2022-08-13T23:45:33.392Z"
   },
   {
    "duration": 3,
    "start_time": "2022-08-13T23:45:55.450Z"
   },
   {
    "duration": 7,
    "start_time": "2022-08-13T23:45:55.980Z"
   },
   {
    "duration": 89,
    "start_time": "2022-08-13T23:53:15.629Z"
   },
   {
    "duration": 3,
    "start_time": "2022-08-13T23:53:23.115Z"
   },
   {
    "duration": 3,
    "start_time": "2022-08-14T00:26:46.912Z"
   },
   {
    "duration": 76,
    "start_time": "2022-08-14T00:33:38.615Z"
   },
   {
    "duration": 452,
    "start_time": "2022-08-14T00:35:37.543Z"
   },
   {
    "duration": 4,
    "start_time": "2022-08-14T00:38:05.681Z"
   },
   {
    "duration": 7,
    "start_time": "2022-08-14T00:52:21.982Z"
   },
   {
    "duration": 5,
    "start_time": "2022-08-14T00:52:23.181Z"
   },
   {
    "duration": 2,
    "start_time": "2022-08-14T01:35:15.045Z"
   },
   {
    "duration": 6,
    "start_time": "2022-08-14T01:35:19.474Z"
   },
   {
    "duration": 1214,
    "start_time": "2022-08-14T01:39:17.141Z"
   },
   {
    "duration": 22,
    "start_time": "2022-08-14T01:39:36.637Z"
   },
   {
    "duration": 3,
    "start_time": "2022-08-14T01:40:33.953Z"
   },
   {
    "duration": 2,
    "start_time": "2022-08-14T01:41:47.802Z"
   },
   {
    "duration": 6,
    "start_time": "2022-08-14T01:50:58.985Z"
   },
   {
    "duration": 5,
    "start_time": "2022-08-14T01:51:09.238Z"
   },
   {
    "duration": 5,
    "start_time": "2022-08-14T01:52:13.983Z"
   },
   {
    "duration": 3,
    "start_time": "2022-08-14T01:52:16.654Z"
   },
   {
    "duration": 3,
    "start_time": "2022-08-14T01:52:23.711Z"
   },
   {
    "duration": 3,
    "start_time": "2022-08-14T01:53:15.403Z"
   },
   {
    "duration": 3,
    "start_time": "2022-08-14T01:56:45.786Z"
   },
   {
    "duration": 3,
    "start_time": "2022-08-14T01:56:48.960Z"
   },
   {
    "duration": 579,
    "start_time": "2022-08-14T12:08:21.317Z"
   },
   {
    "duration": 7,
    "start_time": "2022-08-14T12:08:21.898Z"
   },
   {
    "duration": 15,
    "start_time": "2022-08-14T12:08:21.906Z"
   },
   {
    "duration": 13,
    "start_time": "2022-08-14T12:08:21.922Z"
   },
   {
    "duration": 3,
    "start_time": "2022-08-14T12:08:21.937Z"
   },
   {
    "duration": 20,
    "start_time": "2022-08-14T12:08:21.941Z"
   },
   {
    "duration": 3,
    "start_time": "2022-08-14T12:08:21.963Z"
   },
   {
    "duration": 23,
    "start_time": "2022-08-14T12:08:21.967Z"
   },
   {
    "duration": 8,
    "start_time": "2022-08-14T12:08:21.992Z"
   },
   {
    "duration": 6,
    "start_time": "2022-08-14T12:08:22.003Z"
   },
   {
    "duration": 31,
    "start_time": "2022-08-14T12:08:22.010Z"
   },
   {
    "duration": 7,
    "start_time": "2022-08-14T12:08:22.043Z"
   },
   {
    "duration": 8,
    "start_time": "2022-08-14T12:08:22.051Z"
   },
   {
    "duration": 12,
    "start_time": "2022-08-14T12:08:22.060Z"
   },
   {
    "duration": 12,
    "start_time": "2022-08-14T12:08:22.074Z"
   },
   {
    "duration": 7,
    "start_time": "2022-08-14T12:08:22.087Z"
   },
   {
    "duration": 10,
    "start_time": "2022-08-14T12:08:22.095Z"
   },
   {
    "duration": 7,
    "start_time": "2022-08-14T12:08:22.107Z"
   },
   {
    "duration": 25,
    "start_time": "2022-08-14T12:08:22.116Z"
   },
   {
    "duration": 4,
    "start_time": "2022-08-14T12:08:22.143Z"
   },
   {
    "duration": 9,
    "start_time": "2022-08-14T12:08:22.149Z"
   },
   {
    "duration": 8,
    "start_time": "2022-08-14T12:08:22.160Z"
   },
   {
    "duration": 6,
    "start_time": "2022-08-14T12:08:22.169Z"
   },
   {
    "duration": 9,
    "start_time": "2022-08-14T12:08:22.176Z"
   },
   {
    "duration": 8,
    "start_time": "2022-08-14T12:08:22.187Z"
   },
   {
    "duration": 7,
    "start_time": "2022-08-14T12:08:22.196Z"
   },
   {
    "duration": 11,
    "start_time": "2022-08-14T12:08:22.204Z"
   },
   {
    "duration": 4,
    "start_time": "2022-08-14T12:08:22.238Z"
   },
   {
    "duration": 8,
    "start_time": "2022-08-14T12:08:22.243Z"
   },
   {
    "duration": 9,
    "start_time": "2022-08-14T12:08:22.252Z"
   },
   {
    "duration": 4,
    "start_time": "2022-08-14T12:08:22.263Z"
   },
   {
    "duration": 6,
    "start_time": "2022-08-14T12:08:22.268Z"
   },
   {
    "duration": 5,
    "start_time": "2022-08-14T12:08:22.276Z"
   },
   {
    "duration": 6,
    "start_time": "2022-08-14T12:08:22.282Z"
   },
   {
    "duration": 15,
    "start_time": "2022-08-14T12:08:22.289Z"
   },
   {
    "duration": 9,
    "start_time": "2022-08-14T12:08:22.305Z"
   },
   {
    "duration": 34,
    "start_time": "2022-08-14T12:08:22.315Z"
   },
   {
    "duration": 16,
    "start_time": "2022-08-14T12:08:22.351Z"
   },
   {
    "duration": 14,
    "start_time": "2022-08-14T12:08:22.368Z"
   },
   {
    "duration": 3,
    "start_time": "2022-08-14T12:08:22.383Z"
   },
   {
    "duration": 11,
    "start_time": "2022-08-14T12:08:22.388Z"
   },
   {
    "duration": 8,
    "start_time": "2022-08-14T12:08:22.400Z"
   },
   {
    "duration": 2,
    "start_time": "2022-08-14T12:08:22.439Z"
   },
   {
    "duration": 15,
    "start_time": "2022-08-14T12:08:22.443Z"
   },
   {
    "duration": 18,
    "start_time": "2022-08-14T12:08:22.460Z"
   },
   {
    "duration": 19,
    "start_time": "2022-08-14T12:08:22.479Z"
   },
   {
    "duration": 23,
    "start_time": "2022-08-14T12:08:22.499Z"
   },
   {
    "duration": 23,
    "start_time": "2022-08-14T12:08:22.523Z"
   },
   {
    "duration": 14,
    "start_time": "2022-08-14T12:08:22.548Z"
   },
   {
    "duration": 32,
    "start_time": "2022-08-14T12:08:22.563Z"
   },
   {
    "duration": 5,
    "start_time": "2022-08-14T12:08:22.596Z"
   },
   {
    "duration": 27,
    "start_time": "2022-08-14T12:08:22.602Z"
   },
   {
    "duration": 12,
    "start_time": "2022-08-14T12:08:22.630Z"
   },
   {
    "duration": 17,
    "start_time": "2022-08-14T12:08:22.644Z"
   },
   {
    "duration": 13,
    "start_time": "2022-08-14T12:08:22.662Z"
   },
   {
    "duration": 10,
    "start_time": "2022-08-14T12:08:22.676Z"
   },
   {
    "duration": 11,
    "start_time": "2022-08-14T12:08:22.687Z"
   },
   {
    "duration": 15,
    "start_time": "2022-08-14T12:08:22.699Z"
   },
   {
    "duration": 18,
    "start_time": "2022-08-14T12:08:22.715Z"
   },
   {
    "duration": 13,
    "start_time": "2022-08-14T12:08:22.734Z"
   },
   {
    "duration": 23,
    "start_time": "2022-08-14T12:08:22.748Z"
   },
   {
    "duration": 26,
    "start_time": "2022-08-14T12:08:22.772Z"
   },
   {
    "duration": 6,
    "start_time": "2022-08-14T12:08:22.799Z"
   },
   {
    "duration": 8,
    "start_time": "2022-08-14T12:08:22.806Z"
   },
   {
    "duration": 14,
    "start_time": "2022-08-14T12:08:22.815Z"
   },
   {
    "duration": 11,
    "start_time": "2022-08-14T12:08:22.830Z"
   },
   {
    "duration": 20,
    "start_time": "2022-08-14T12:08:22.843Z"
   },
   {
    "duration": 6,
    "start_time": "2022-08-14T12:08:22.864Z"
   },
   {
    "duration": 17,
    "start_time": "2022-08-14T12:08:22.872Z"
   },
   {
    "duration": 14,
    "start_time": "2022-08-14T12:08:22.891Z"
   },
   {
    "duration": 25,
    "start_time": "2022-08-14T12:08:22.906Z"
   },
   {
    "duration": 23,
    "start_time": "2022-08-14T12:08:22.932Z"
   },
   {
    "duration": 48,
    "start_time": "2022-08-14T12:08:22.956Z"
   },
   {
    "duration": 0,
    "start_time": "2022-08-14T12:08:23.005Z"
   },
   {
    "duration": 0,
    "start_time": "2022-08-14T12:08:23.006Z"
   },
   {
    "duration": 0,
    "start_time": "2022-08-14T12:08:23.007Z"
   },
   {
    "duration": 0,
    "start_time": "2022-08-14T12:08:23.008Z"
   },
   {
    "duration": 0,
    "start_time": "2022-08-14T12:08:23.009Z"
   },
   {
    "duration": 0,
    "start_time": "2022-08-14T12:08:23.010Z"
   },
   {
    "duration": 0,
    "start_time": "2022-08-14T12:08:23.011Z"
   },
   {
    "duration": 0,
    "start_time": "2022-08-14T12:08:23.012Z"
   },
   {
    "duration": 0,
    "start_time": "2022-08-14T12:08:23.013Z"
   },
   {
    "duration": 0,
    "start_time": "2022-08-14T12:08:23.013Z"
   },
   {
    "duration": 0,
    "start_time": "2022-08-14T12:08:23.014Z"
   },
   {
    "duration": 0,
    "start_time": "2022-08-14T12:08:23.015Z"
   },
   {
    "duration": 0,
    "start_time": "2022-08-14T12:08:23.016Z"
   },
   {
    "duration": 19,
    "start_time": "2022-08-14T12:52:01.491Z"
   },
   {
    "duration": 5,
    "start_time": "2022-08-14T12:53:35.945Z"
   },
   {
    "duration": 20,
    "start_time": "2022-08-14T13:20:20.772Z"
   },
   {
    "duration": 10,
    "start_time": "2022-08-14T13:26:21.003Z"
   },
   {
    "duration": 14,
    "start_time": "2022-08-14T13:27:31.046Z"
   },
   {
    "duration": 4,
    "start_time": "2022-08-14T13:30:04.995Z"
   },
   {
    "duration": 8,
    "start_time": "2022-08-14T13:34:28.602Z"
   },
   {
    "duration": 4,
    "start_time": "2022-08-14T13:55:40.899Z"
   },
   {
    "duration": 4,
    "start_time": "2022-08-14T13:58:18.110Z"
   },
   {
    "duration": 6,
    "start_time": "2022-08-14T14:00:45.845Z"
   },
   {
    "duration": 23,
    "start_time": "2022-08-14T14:56:03.438Z"
   },
   {
    "duration": 17,
    "start_time": "2022-08-14T14:57:32.364Z"
   },
   {
    "duration": 722,
    "start_time": "2022-08-14T19:15:33.879Z"
   },
   {
    "duration": 12,
    "start_time": "2022-08-14T19:15:34.603Z"
   },
   {
    "duration": 52,
    "start_time": "2022-08-14T19:15:34.617Z"
   },
   {
    "duration": 18,
    "start_time": "2022-08-14T19:15:34.671Z"
   },
   {
    "duration": 4,
    "start_time": "2022-08-14T19:15:34.691Z"
   },
   {
    "duration": 28,
    "start_time": "2022-08-14T19:15:34.696Z"
   },
   {
    "duration": 4,
    "start_time": "2022-08-14T19:15:34.726Z"
   },
   {
    "duration": 30,
    "start_time": "2022-08-14T19:15:34.732Z"
   },
   {
    "duration": 30,
    "start_time": "2022-08-14T19:15:34.765Z"
   },
   {
    "duration": 8,
    "start_time": "2022-08-14T19:15:34.799Z"
   },
   {
    "duration": 10,
    "start_time": "2022-08-14T19:15:34.808Z"
   },
   {
    "duration": 12,
    "start_time": "2022-08-14T19:15:34.820Z"
   },
   {
    "duration": 14,
    "start_time": "2022-08-14T19:15:34.835Z"
   },
   {
    "duration": 13,
    "start_time": "2022-08-14T19:15:34.851Z"
   },
   {
    "duration": 7,
    "start_time": "2022-08-14T19:15:34.889Z"
   },
   {
    "duration": 11,
    "start_time": "2022-08-14T19:15:34.898Z"
   },
   {
    "duration": 22,
    "start_time": "2022-08-14T19:15:34.911Z"
   },
   {
    "duration": 7,
    "start_time": "2022-08-14T19:15:34.936Z"
   },
   {
    "duration": 18,
    "start_time": "2022-08-14T19:15:34.945Z"
   },
   {
    "duration": 7,
    "start_time": "2022-08-14T19:15:34.987Z"
   },
   {
    "duration": 9,
    "start_time": "2022-08-14T19:15:34.995Z"
   },
   {
    "duration": 11,
    "start_time": "2022-08-14T19:15:35.006Z"
   },
   {
    "duration": 10,
    "start_time": "2022-08-14T19:15:35.019Z"
   },
   {
    "duration": 15,
    "start_time": "2022-08-14T19:15:35.031Z"
   },
   {
    "duration": 9,
    "start_time": "2022-08-14T19:15:35.048Z"
   },
   {
    "duration": 5,
    "start_time": "2022-08-14T19:15:35.086Z"
   },
   {
    "duration": 9,
    "start_time": "2022-08-14T19:15:35.093Z"
   },
   {
    "duration": 5,
    "start_time": "2022-08-14T19:15:35.106Z"
   },
   {
    "duration": 19,
    "start_time": "2022-08-14T19:15:35.113Z"
   },
   {
    "duration": 14,
    "start_time": "2022-08-14T19:15:35.134Z"
   },
   {
    "duration": 13,
    "start_time": "2022-08-14T19:15:35.150Z"
   },
   {
    "duration": 27,
    "start_time": "2022-08-14T19:15:35.164Z"
   },
   {
    "duration": 12,
    "start_time": "2022-08-14T19:15:35.193Z"
   },
   {
    "duration": 11,
    "start_time": "2022-08-14T19:15:35.207Z"
   },
   {
    "duration": 15,
    "start_time": "2022-08-14T19:15:35.220Z"
   },
   {
    "duration": 13,
    "start_time": "2022-08-14T19:15:35.236Z"
   },
   {
    "duration": 38,
    "start_time": "2022-08-14T19:15:35.251Z"
   },
   {
    "duration": 24,
    "start_time": "2022-08-14T19:15:35.291Z"
   },
   {
    "duration": 18,
    "start_time": "2022-08-14T19:15:35.317Z"
   },
   {
    "duration": 5,
    "start_time": "2022-08-14T19:15:35.337Z"
   },
   {
    "duration": 47,
    "start_time": "2022-08-14T19:15:35.343Z"
   },
   {
    "duration": 14,
    "start_time": "2022-08-14T19:15:35.392Z"
   },
   {
    "duration": 4,
    "start_time": "2022-08-14T19:15:35.407Z"
   },
   {
    "duration": 8,
    "start_time": "2022-08-14T19:15:35.413Z"
   },
   {
    "duration": 13,
    "start_time": "2022-08-14T19:15:35.423Z"
   },
   {
    "duration": 4,
    "start_time": "2022-08-14T19:15:35.438Z"
   },
   {
    "duration": 43,
    "start_time": "2022-08-14T19:15:35.444Z"
   },
   {
    "duration": 29,
    "start_time": "2022-08-14T19:15:35.489Z"
   },
   {
    "duration": 26,
    "start_time": "2022-08-14T19:15:35.521Z"
   },
   {
    "duration": 39,
    "start_time": "2022-08-14T19:15:35.549Z"
   },
   {
    "duration": 5,
    "start_time": "2022-08-14T19:15:35.590Z"
   },
   {
    "duration": 13,
    "start_time": "2022-08-14T19:15:35.597Z"
   },
   {
    "duration": 6,
    "start_time": "2022-08-14T19:15:35.612Z"
   },
   {
    "duration": 8,
    "start_time": "2022-08-14T19:15:35.620Z"
   },
   {
    "duration": 8,
    "start_time": "2022-08-14T19:15:35.631Z"
   },
   {
    "duration": 7,
    "start_time": "2022-08-14T19:15:35.641Z"
   },
   {
    "duration": 8,
    "start_time": "2022-08-14T19:15:35.650Z"
   },
   {
    "duration": 17,
    "start_time": "2022-08-14T19:15:35.687Z"
   },
   {
    "duration": 11,
    "start_time": "2022-08-14T19:15:35.705Z"
   },
   {
    "duration": 15,
    "start_time": "2022-08-14T19:15:35.718Z"
   },
   {
    "duration": 56,
    "start_time": "2022-08-14T19:15:35.734Z"
   },
   {
    "duration": 10,
    "start_time": "2022-08-14T19:15:35.792Z"
   },
   {
    "duration": 982,
    "start_time": "2022-08-14T19:15:35.804Z"
   },
   {
    "duration": 0,
    "start_time": "2022-08-14T19:15:36.788Z"
   },
   {
    "duration": 0,
    "start_time": "2022-08-14T19:15:36.790Z"
   },
   {
    "duration": 0,
    "start_time": "2022-08-14T19:15:36.793Z"
   },
   {
    "duration": 0,
    "start_time": "2022-08-14T19:15:36.795Z"
   },
   {
    "duration": 0,
    "start_time": "2022-08-14T19:15:36.796Z"
   },
   {
    "duration": 0,
    "start_time": "2022-08-14T19:15:36.797Z"
   },
   {
    "duration": 0,
    "start_time": "2022-08-14T19:15:36.798Z"
   },
   {
    "duration": 0,
    "start_time": "2022-08-14T19:15:36.799Z"
   },
   {
    "duration": 0,
    "start_time": "2022-08-14T19:15:36.801Z"
   },
   {
    "duration": 0,
    "start_time": "2022-08-14T19:15:36.802Z"
   },
   {
    "duration": 0,
    "start_time": "2022-08-14T19:15:36.803Z"
   },
   {
    "duration": 0,
    "start_time": "2022-08-14T19:15:36.804Z"
   },
   {
    "duration": 0,
    "start_time": "2022-08-14T19:15:36.806Z"
   },
   {
    "duration": 0,
    "start_time": "2022-08-14T19:15:36.807Z"
   },
   {
    "duration": 0,
    "start_time": "2022-08-14T19:15:36.809Z"
   },
   {
    "duration": 0,
    "start_time": "2022-08-14T19:15:36.810Z"
   },
   {
    "duration": 0,
    "start_time": "2022-08-14T19:15:36.811Z"
   },
   {
    "duration": 0,
    "start_time": "2022-08-14T19:15:36.812Z"
   },
   {
    "duration": 0,
    "start_time": "2022-08-14T19:15:36.813Z"
   },
   {
    "duration": 0,
    "start_time": "2022-08-14T19:15:36.814Z"
   },
   {
    "duration": 0,
    "start_time": "2022-08-14T19:15:36.816Z"
   },
   {
    "duration": 0,
    "start_time": "2022-08-14T19:15:36.818Z"
   },
   {
    "duration": 0,
    "start_time": "2022-08-14T19:15:36.819Z"
   },
   {
    "duration": 0,
    "start_time": "2022-08-14T19:15:36.821Z"
   },
   {
    "duration": 0,
    "start_time": "2022-08-14T19:15:36.822Z"
   },
   {
    "duration": 0,
    "start_time": "2022-08-14T19:15:36.823Z"
   },
   {
    "duration": 0,
    "start_time": "2022-08-14T19:15:36.825Z"
   },
   {
    "duration": 0,
    "start_time": "2022-08-14T19:15:36.826Z"
   },
   {
    "duration": 0,
    "start_time": "2022-08-14T19:15:36.889Z"
   },
   {
    "duration": 0,
    "start_time": "2022-08-14T19:15:36.890Z"
   },
   {
    "duration": 5,
    "start_time": "2022-08-14T19:19:47.525Z"
   },
   {
    "duration": 9,
    "start_time": "2022-08-14T19:20:35.360Z"
   },
   {
    "duration": 7,
    "start_time": "2022-08-14T19:20:42.250Z"
   },
   {
    "duration": 6,
    "start_time": "2022-08-14T19:21:31.888Z"
   },
   {
    "duration": 12,
    "start_time": "2022-08-14T19:41:41.154Z"
   },
   {
    "duration": 25,
    "start_time": "2022-08-14T19:41:50.713Z"
   },
   {
    "duration": 12,
    "start_time": "2022-08-14T19:41:51.679Z"
   },
   {
    "duration": 17,
    "start_time": "2022-08-14T19:43:15.737Z"
   },
   {
    "duration": 36,
    "start_time": "2022-08-14T19:43:33.637Z"
   },
   {
    "duration": 5,
    "start_time": "2022-08-14T19:49:35.239Z"
   },
   {
    "duration": 11,
    "start_time": "2022-08-14T19:49:37.251Z"
   },
   {
    "duration": 22,
    "start_time": "2022-08-14T19:51:38.117Z"
   },
   {
    "duration": 5,
    "start_time": "2022-08-14T19:54:28.761Z"
   },
   {
    "duration": 17,
    "start_time": "2022-08-14T19:54:55.277Z"
   },
   {
    "duration": 6,
    "start_time": "2022-08-14T20:16:29.600Z"
   },
   {
    "duration": 6,
    "start_time": "2022-08-14T20:22:21.847Z"
   },
   {
    "duration": 5,
    "start_time": "2022-08-14T20:28:48.841Z"
   },
   {
    "duration": 5,
    "start_time": "2022-08-14T20:29:45.487Z"
   },
   {
    "duration": 1096,
    "start_time": "2022-08-14T20:49:21.642Z"
   },
   {
    "duration": 23,
    "start_time": "2022-08-14T20:49:56.126Z"
   },
   {
    "duration": 16,
    "start_time": "2022-08-14T20:50:39.329Z"
   },
   {
    "duration": 20,
    "start_time": "2022-08-14T20:53:28.336Z"
   },
   {
    "duration": 23,
    "start_time": "2022-08-14T20:56:39.312Z"
   },
   {
    "duration": 19,
    "start_time": "2022-08-14T20:56:55.183Z"
   },
   {
    "duration": 20,
    "start_time": "2022-08-14T20:56:57.382Z"
   },
   {
    "duration": 2,
    "start_time": "2022-08-14T20:59:15.660Z"
   },
   {
    "duration": 20,
    "start_time": "2022-08-14T21:02:16.347Z"
   },
   {
    "duration": 123,
    "start_time": "2022-08-14T21:02:27.969Z"
   },
   {
    "duration": 4,
    "start_time": "2022-08-14T21:04:01.727Z"
   },
   {
    "duration": 983,
    "start_time": "2022-08-14T21:04:30.638Z"
   },
   {
    "duration": 12,
    "start_time": "2022-08-14T21:04:58.288Z"
   },
   {
    "duration": 31,
    "start_time": "2022-08-14T21:05:16.803Z"
   },
   {
    "duration": 9,
    "start_time": "2022-08-14T21:07:47.810Z"
   },
   {
    "duration": 21,
    "start_time": "2022-08-14T21:08:57.394Z"
   },
   {
    "duration": 931,
    "start_time": "2022-08-17T11:46:04.243Z"
   },
   {
    "duration": 14,
    "start_time": "2022-08-17T11:46:06.171Z"
   },
   {
    "duration": 23,
    "start_time": "2022-08-17T11:46:06.371Z"
   },
   {
    "duration": 17,
    "start_time": "2022-08-17T11:46:07.343Z"
   },
   {
    "duration": 5,
    "start_time": "2022-08-17T11:46:08.246Z"
   },
   {
    "duration": 30,
    "start_time": "2022-08-17T11:46:08.488Z"
   },
   {
    "duration": 3,
    "start_time": "2022-08-17T11:46:09.465Z"
   },
   {
    "duration": 24,
    "start_time": "2022-08-17T11:46:10.650Z"
   },
   {
    "duration": 9,
    "start_time": "2022-08-17T11:46:11.104Z"
   },
   {
    "duration": 7,
    "start_time": "2022-08-17T11:46:11.535Z"
   },
   {
    "duration": 9,
    "start_time": "2022-08-17T11:46:11.948Z"
   },
   {
    "duration": 10,
    "start_time": "2022-08-17T11:46:13.001Z"
   },
   {
    "duration": 9,
    "start_time": "2022-08-17T11:46:13.349Z"
   },
   {
    "duration": 7,
    "start_time": "2022-08-17T11:46:14.353Z"
   },
   {
    "duration": 8,
    "start_time": "2022-08-17T11:46:14.750Z"
   },
   {
    "duration": 7,
    "start_time": "2022-08-17T11:46:15.450Z"
   },
   {
    "duration": 9,
    "start_time": "2022-08-17T11:46:15.972Z"
   },
   {
    "duration": 7,
    "start_time": "2022-08-17T11:46:18.846Z"
   },
   {
    "duration": 31,
    "start_time": "2022-08-17T11:46:19.276Z"
   },
   {
    "duration": 7,
    "start_time": "2022-08-17T11:46:20.505Z"
   },
   {
    "duration": 6,
    "start_time": "2022-08-17T11:46:21.272Z"
   },
   {
    "duration": 9,
    "start_time": "2022-08-17T11:46:22.346Z"
   },
   {
    "duration": 6,
    "start_time": "2022-08-17T11:46:23.064Z"
   },
   {
    "duration": 9,
    "start_time": "2022-08-17T11:46:23.850Z"
   },
   {
    "duration": 7,
    "start_time": "2022-08-17T11:46:24.438Z"
   },
   {
    "duration": 5,
    "start_time": "2022-08-17T11:46:24.854Z"
   },
   {
    "duration": 5,
    "start_time": "2022-08-17T11:46:25.447Z"
   },
   {
    "duration": 6,
    "start_time": "2022-08-17T11:46:25.742Z"
   },
   {
    "duration": 8,
    "start_time": "2022-08-17T11:46:26.350Z"
   },
   {
    "duration": 8,
    "start_time": "2022-08-17T11:46:26.651Z"
   },
   {
    "duration": 6,
    "start_time": "2022-08-17T11:46:27.743Z"
   },
   {
    "duration": 7,
    "start_time": "2022-08-17T11:46:28.347Z"
   },
   {
    "duration": 8,
    "start_time": "2022-08-17T11:46:28.631Z"
   },
   {
    "duration": 7,
    "start_time": "2022-08-17T11:46:28.980Z"
   },
   {
    "duration": 9,
    "start_time": "2022-08-17T11:46:29.554Z"
   },
   {
    "duration": 11,
    "start_time": "2022-08-17T11:46:31.451Z"
   },
   {
    "duration": 22,
    "start_time": "2022-08-17T11:46:32.469Z"
   },
   {
    "duration": 20,
    "start_time": "2022-08-17T11:46:32.709Z"
   },
   {
    "duration": 19,
    "start_time": "2022-08-17T11:46:32.942Z"
   },
   {
    "duration": 4,
    "start_time": "2022-08-17T11:46:33.150Z"
   },
   {
    "duration": 13,
    "start_time": "2022-08-17T11:46:34.380Z"
   },
   {
    "duration": 13,
    "start_time": "2022-08-17T11:46:38.754Z"
   },
   {
    "duration": 3,
    "start_time": "2022-08-17T11:46:40.443Z"
   },
   {
    "duration": 5,
    "start_time": "2022-08-17T11:46:40.778Z"
   },
   {
    "duration": 5,
    "start_time": "2022-08-17T11:46:41.452Z"
   },
   {
    "duration": 5,
    "start_time": "2022-08-17T11:46:41.810Z"
   },
   {
    "duration": 15,
    "start_time": "2022-08-17T11:46:42.183Z"
   },
   {
    "duration": 34,
    "start_time": "2022-08-17T11:46:42.584Z"
   },
   {
    "duration": 8,
    "start_time": "2022-08-17T11:46:43.142Z"
   },
   {
    "duration": 21,
    "start_time": "2022-08-17T11:46:46.654Z"
   },
   {
    "duration": 6,
    "start_time": "2022-08-17T11:46:47.269Z"
   },
   {
    "duration": 7,
    "start_time": "2022-08-17T11:46:47.793Z"
   },
   {
    "duration": 5,
    "start_time": "2022-08-17T11:46:48.047Z"
   },
   {
    "duration": 5,
    "start_time": "2022-08-17T11:46:48.265Z"
   },
   {
    "duration": 6,
    "start_time": "2022-08-17T11:46:49.142Z"
   },
   {
    "duration": 5,
    "start_time": "2022-08-17T11:46:49.431Z"
   },
   {
    "duration": 13,
    "start_time": "2022-08-17T11:46:49.639Z"
   },
   {
    "duration": 13,
    "start_time": "2022-08-17T11:46:50.043Z"
   },
   {
    "duration": 13,
    "start_time": "2022-08-17T11:46:50.738Z"
   },
   {
    "duration": 32,
    "start_time": "2022-08-17T11:46:51.438Z"
   },
   {
    "duration": 3,
    "start_time": "2022-08-17T11:46:51.671Z"
   },
   {
    "duration": 14,
    "start_time": "2022-08-17T11:46:51.913Z"
   },
   {
    "duration": 4,
    "start_time": "2022-08-17T11:46:52.251Z"
   },
   {
    "duration": 17,
    "start_time": "2022-08-17T11:46:52.870Z"
   },
   {
    "duration": 5,
    "start_time": "2022-08-17T11:46:53.857Z"
   },
   {
    "duration": 6,
    "start_time": "2022-08-17T11:46:54.034Z"
   },
   {
    "duration": 5,
    "start_time": "2022-08-17T11:46:54.243Z"
   },
   {
    "duration": 4,
    "start_time": "2022-08-17T11:46:54.465Z"
   },
   {
    "duration": 24,
    "start_time": "2022-08-17T11:46:55.051Z"
   },
   {
    "duration": 14,
    "start_time": "2022-08-17T11:46:55.230Z"
   },
   {
    "duration": 15,
    "start_time": "2022-08-17T11:46:55.467Z"
   },
   {
    "duration": 115,
    "start_time": "2022-08-17T11:46:56.038Z"
   },
   {
    "duration": 4,
    "start_time": "2022-08-17T11:46:56.286Z"
   },
   {
    "duration": 3,
    "start_time": "2022-08-17T11:46:56.559Z"
   },
   {
    "duration": 10,
    "start_time": "2022-08-17T11:46:56.854Z"
   },
   {
    "duration": 17,
    "start_time": "2022-08-17T11:46:57.350Z"
   },
   {
    "duration": 8,
    "start_time": "2022-08-17T11:46:57.874Z"
   },
   {
    "duration": 6,
    "start_time": "2022-08-17T11:46:58.487Z"
   },
   {
    "duration": 4,
    "start_time": "2022-08-17T11:46:58.963Z"
   },
   {
    "duration": 200,
    "start_time": "2022-08-17T11:46:59.160Z"
   },
   {
    "duration": 6,
    "start_time": "2022-08-17T11:46:59.679Z"
   },
   {
    "duration": 7,
    "start_time": "2022-08-17T11:47:05.146Z"
   },
   {
    "duration": 5,
    "start_time": "2022-08-17T11:47:05.447Z"
   },
   {
    "duration": 5,
    "start_time": "2022-08-17T11:47:05.695Z"
   },
   {
    "duration": 2330,
    "start_time": "2022-08-17T11:47:06.939Z"
   },
   {
    "duration": 14,
    "start_time": "2022-08-17T11:48:16.131Z"
   },
   {
    "duration": 9,
    "start_time": "2022-08-17T11:48:29.595Z"
   },
   {
    "duration": 11,
    "start_time": "2022-08-17T11:48:32.391Z"
   },
   {
    "duration": 8,
    "start_time": "2022-08-17T11:49:23.869Z"
   },
   {
    "duration": 37,
    "start_time": "2022-08-17T11:49:24.489Z"
   },
   {
    "duration": 771,
    "start_time": "2022-08-18T18:27:26.672Z"
   },
   {
    "duration": 31,
    "start_time": "2022-08-18T18:27:27.445Z"
   },
   {
    "duration": 74,
    "start_time": "2022-08-18T18:27:27.482Z"
   },
   {
    "duration": 20,
    "start_time": "2022-08-18T18:27:27.559Z"
   },
   {
    "duration": 4,
    "start_time": "2022-08-18T18:27:27.582Z"
   },
   {
    "duration": 40,
    "start_time": "2022-08-18T18:27:27.588Z"
   },
   {
    "duration": 31,
    "start_time": "2022-08-18T18:27:27.630Z"
   },
   {
    "duration": 31,
    "start_time": "2022-08-18T18:27:27.662Z"
   },
   {
    "duration": 62,
    "start_time": "2022-08-18T18:27:27.696Z"
   },
   {
    "duration": 11,
    "start_time": "2022-08-18T18:27:27.763Z"
   },
   {
    "duration": 85,
    "start_time": "2022-08-18T18:27:27.776Z"
   },
   {
    "duration": 11,
    "start_time": "2022-08-18T18:27:27.863Z"
   },
   {
    "duration": 12,
    "start_time": "2022-08-18T18:27:27.875Z"
   },
   {
    "duration": 15,
    "start_time": "2022-08-18T18:27:27.889Z"
   },
   {
    "duration": 55,
    "start_time": "2022-08-18T18:27:27.917Z"
   },
   {
    "duration": 37,
    "start_time": "2022-08-18T18:27:27.975Z"
   },
   {
    "duration": 58,
    "start_time": "2022-08-18T18:27:28.013Z"
   },
   {
    "duration": 8,
    "start_time": "2022-08-18T18:27:28.072Z"
   },
   {
    "duration": 34,
    "start_time": "2022-08-18T18:27:28.082Z"
   },
   {
    "duration": 33,
    "start_time": "2022-08-18T18:27:28.117Z"
   },
   {
    "duration": 13,
    "start_time": "2022-08-18T18:27:28.152Z"
   },
   {
    "duration": 9,
    "start_time": "2022-08-18T18:27:28.168Z"
   },
   {
    "duration": 6,
    "start_time": "2022-08-18T18:27:28.179Z"
   },
   {
    "duration": 9,
    "start_time": "2022-08-18T18:27:28.187Z"
   },
   {
    "duration": 10,
    "start_time": "2022-08-18T18:27:28.204Z"
   },
   {
    "duration": 46,
    "start_time": "2022-08-18T18:27:28.216Z"
   },
   {
    "duration": 10,
    "start_time": "2022-08-18T18:27:28.263Z"
   },
   {
    "duration": 5,
    "start_time": "2022-08-18T18:27:28.279Z"
   },
   {
    "duration": 18,
    "start_time": "2022-08-18T18:27:28.286Z"
   },
   {
    "duration": 54,
    "start_time": "2022-08-18T18:27:28.305Z"
   },
   {
    "duration": 13,
    "start_time": "2022-08-18T18:27:28.361Z"
   },
   {
    "duration": 5,
    "start_time": "2022-08-18T18:27:28.376Z"
   },
   {
    "duration": 10,
    "start_time": "2022-08-18T18:27:28.383Z"
   },
   {
    "duration": 10,
    "start_time": "2022-08-18T18:27:28.395Z"
   },
   {
    "duration": 84,
    "start_time": "2022-08-18T18:27:28.407Z"
   },
   {
    "duration": 68,
    "start_time": "2022-08-18T18:27:28.493Z"
   },
   {
    "duration": 27,
    "start_time": "2022-08-18T18:27:28.563Z"
   },
   {
    "duration": 32,
    "start_time": "2022-08-18T18:27:28.591Z"
   },
   {
    "duration": 43,
    "start_time": "2022-08-18T18:27:28.625Z"
   },
   {
    "duration": 4,
    "start_time": "2022-08-18T18:27:28.670Z"
   },
   {
    "duration": 28,
    "start_time": "2022-08-18T18:27:28.676Z"
   },
   {
    "duration": 45,
    "start_time": "2022-08-18T18:27:28.705Z"
   },
   {
    "duration": 3,
    "start_time": "2022-08-18T18:27:28.752Z"
   },
   {
    "duration": 7,
    "start_time": "2022-08-18T18:27:28.757Z"
   },
   {
    "duration": 9,
    "start_time": "2022-08-18T18:27:28.766Z"
   },
   {
    "duration": 3,
    "start_time": "2022-08-18T18:27:28.777Z"
   },
   {
    "duration": 19,
    "start_time": "2022-08-18T18:27:28.781Z"
   },
   {
    "duration": 54,
    "start_time": "2022-08-18T18:27:28.810Z"
   },
   {
    "duration": 10,
    "start_time": "2022-08-18T18:27:28.866Z"
   },
   {
    "duration": 38,
    "start_time": "2022-08-18T18:27:28.878Z"
   },
   {
    "duration": 9,
    "start_time": "2022-08-18T18:27:28.917Z"
   },
   {
    "duration": 25,
    "start_time": "2022-08-18T18:27:28.927Z"
   },
   {
    "duration": 6,
    "start_time": "2022-08-18T18:27:28.953Z"
   },
   {
    "duration": 6,
    "start_time": "2022-08-18T18:27:28.960Z"
   },
   {
    "duration": 10,
    "start_time": "2022-08-18T18:27:28.968Z"
   },
   {
    "duration": 6,
    "start_time": "2022-08-18T18:27:28.980Z"
   },
   {
    "duration": 38,
    "start_time": "2022-08-18T18:27:28.987Z"
   },
   {
    "duration": 16,
    "start_time": "2022-08-18T18:27:29.036Z"
   },
   {
    "duration": 10,
    "start_time": "2022-08-18T18:27:29.054Z"
   },
   {
    "duration": 27,
    "start_time": "2022-08-18T18:27:29.065Z"
   },
   {
    "duration": 4,
    "start_time": "2022-08-18T18:27:29.093Z"
   },
   {
    "duration": 53,
    "start_time": "2022-08-18T18:27:29.098Z"
   },
   {
    "duration": 4,
    "start_time": "2022-08-18T18:27:29.153Z"
   },
   {
    "duration": 21,
    "start_time": "2022-08-18T18:27:29.158Z"
   },
   {
    "duration": 4,
    "start_time": "2022-08-18T18:27:29.181Z"
   },
   {
    "duration": 6,
    "start_time": "2022-08-18T18:27:29.187Z"
   },
   {
    "duration": 22,
    "start_time": "2022-08-18T18:27:29.194Z"
   },
   {
    "duration": 20,
    "start_time": "2022-08-18T18:27:29.226Z"
   },
   {
    "duration": 32,
    "start_time": "2022-08-18T18:27:29.248Z"
   },
   {
    "duration": 47,
    "start_time": "2022-08-18T18:27:29.282Z"
   },
   {
    "duration": 14,
    "start_time": "2022-08-18T18:27:29.341Z"
   },
   {
    "duration": 128,
    "start_time": "2022-08-18T18:27:29.357Z"
   },
   {
    "duration": 3,
    "start_time": "2022-08-18T18:27:29.487Z"
   },
   {
    "duration": 19,
    "start_time": "2022-08-18T18:27:29.492Z"
   },
   {
    "duration": 35,
    "start_time": "2022-08-18T18:27:29.513Z"
   },
   {
    "duration": 27,
    "start_time": "2022-08-18T18:27:29.550Z"
   },
   {
    "duration": 13,
    "start_time": "2022-08-18T18:27:29.579Z"
   },
   {
    "duration": 51,
    "start_time": "2022-08-18T18:27:29.593Z"
   },
   {
    "duration": 6,
    "start_time": "2022-08-18T18:27:29.647Z"
   },
   {
    "duration": 73,
    "start_time": "2022-08-18T18:27:29.655Z"
   },
   {
    "duration": 0,
    "start_time": "2022-08-18T18:27:29.731Z"
   },
   {
    "duration": 0,
    "start_time": "2022-08-18T18:27:29.732Z"
   },
   {
    "duration": 0,
    "start_time": "2022-08-18T18:27:29.733Z"
   },
   {
    "duration": 0,
    "start_time": "2022-08-18T18:27:29.734Z"
   },
   {
    "duration": 0,
    "start_time": "2022-08-18T18:27:29.735Z"
   },
   {
    "duration": 0,
    "start_time": "2022-08-18T18:27:29.737Z"
   },
   {
    "duration": 0,
    "start_time": "2022-08-18T18:27:29.738Z"
   },
   {
    "duration": 0,
    "start_time": "2022-08-18T18:27:29.739Z"
   },
   {
    "duration": 0,
    "start_time": "2022-08-18T18:27:29.741Z"
   },
   {
    "duration": 0,
    "start_time": "2022-08-18T18:27:29.742Z"
   },
   {
    "duration": 0,
    "start_time": "2022-08-18T18:27:29.744Z"
   },
   {
    "duration": 0,
    "start_time": "2022-08-18T18:27:29.745Z"
   },
   {
    "duration": 0,
    "start_time": "2022-08-18T18:27:29.748Z"
   },
   {
    "duration": 0,
    "start_time": "2022-08-18T18:27:29.750Z"
   },
   {
    "duration": 521,
    "start_time": "2022-08-18T18:29:33.844Z"
   },
   {
    "duration": 8,
    "start_time": "2022-08-18T18:29:34.367Z"
   },
   {
    "duration": 47,
    "start_time": "2022-08-18T18:29:34.379Z"
   },
   {
    "duration": 37,
    "start_time": "2022-08-18T18:29:34.428Z"
   },
   {
    "duration": 4,
    "start_time": "2022-08-18T18:29:34.470Z"
   },
   {
    "duration": 119,
    "start_time": "2022-08-18T18:29:34.476Z"
   },
   {
    "duration": 27,
    "start_time": "2022-08-18T18:29:34.597Z"
   },
   {
    "duration": 79,
    "start_time": "2022-08-18T18:29:34.633Z"
   },
   {
    "duration": 56,
    "start_time": "2022-08-18T18:29:34.719Z"
   },
   {
    "duration": 50,
    "start_time": "2022-08-18T18:29:34.777Z"
   },
   {
    "duration": 116,
    "start_time": "2022-08-18T18:29:34.829Z"
   },
   {
    "duration": 19,
    "start_time": "2022-08-18T18:29:34.947Z"
   },
   {
    "duration": 25,
    "start_time": "2022-08-18T18:29:34.968Z"
   },
   {
    "duration": 94,
    "start_time": "2022-08-18T18:29:34.995Z"
   },
   {
    "duration": 22,
    "start_time": "2022-08-18T18:29:35.092Z"
   },
   {
    "duration": 69,
    "start_time": "2022-08-18T18:29:35.118Z"
   },
   {
    "duration": 48,
    "start_time": "2022-08-18T18:29:35.190Z"
   },
   {
    "duration": 13,
    "start_time": "2022-08-18T18:29:35.240Z"
   },
   {
    "duration": 27,
    "start_time": "2022-08-18T18:29:35.255Z"
   },
   {
    "duration": 6,
    "start_time": "2022-08-18T18:29:35.284Z"
   },
   {
    "duration": 35,
    "start_time": "2022-08-18T18:29:35.292Z"
   },
   {
    "duration": 24,
    "start_time": "2022-08-18T18:29:35.329Z"
   },
   {
    "duration": 26,
    "start_time": "2022-08-18T18:29:35.354Z"
   },
   {
    "duration": 64,
    "start_time": "2022-08-18T18:29:35.382Z"
   },
   {
    "duration": 32,
    "start_time": "2022-08-18T18:29:35.448Z"
   },
   {
    "duration": 88,
    "start_time": "2022-08-18T18:29:35.483Z"
   },
   {
    "duration": 8,
    "start_time": "2022-08-18T18:29:35.576Z"
   },
   {
    "duration": 7,
    "start_time": "2022-08-18T18:29:35.586Z"
   },
   {
    "duration": 52,
    "start_time": "2022-08-18T18:29:35.595Z"
   },
   {
    "duration": 7,
    "start_time": "2022-08-18T18:29:35.649Z"
   },
   {
    "duration": 6,
    "start_time": "2022-08-18T18:29:35.658Z"
   },
   {
    "duration": 6,
    "start_time": "2022-08-18T18:29:35.665Z"
   },
   {
    "duration": 8,
    "start_time": "2022-08-18T18:29:35.673Z"
   },
   {
    "duration": 12,
    "start_time": "2022-08-18T18:29:35.682Z"
   },
   {
    "duration": 53,
    "start_time": "2022-08-18T18:29:35.696Z"
   },
   {
    "duration": 8,
    "start_time": "2022-08-18T18:29:35.751Z"
   },
   {
    "duration": 19,
    "start_time": "2022-08-18T18:29:35.760Z"
   },
   {
    "duration": 17,
    "start_time": "2022-08-18T18:29:35.780Z"
   },
   {
    "duration": 29,
    "start_time": "2022-08-18T18:29:35.807Z"
   },
   {
    "duration": 11,
    "start_time": "2022-08-18T18:29:35.837Z"
   },
   {
    "duration": 12,
    "start_time": "2022-08-18T18:29:35.850Z"
   },
   {
    "duration": 14,
    "start_time": "2022-08-18T18:29:35.864Z"
   },
   {
    "duration": 3,
    "start_time": "2022-08-18T18:29:35.879Z"
   },
   {
    "duration": 25,
    "start_time": "2022-08-18T18:29:35.884Z"
   },
   {
    "duration": 39,
    "start_time": "2022-08-18T18:29:35.911Z"
   },
   {
    "duration": 10,
    "start_time": "2022-08-18T18:29:35.952Z"
   },
   {
    "duration": 16,
    "start_time": "2022-08-18T18:29:35.963Z"
   },
   {
    "duration": 37,
    "start_time": "2022-08-18T18:29:35.980Z"
   },
   {
    "duration": 39,
    "start_time": "2022-08-18T18:29:36.019Z"
   },
   {
    "duration": 21,
    "start_time": "2022-08-18T18:29:36.060Z"
   },
   {
    "duration": 4,
    "start_time": "2022-08-18T18:29:36.083Z"
   },
   {
    "duration": 13,
    "start_time": "2022-08-18T18:29:36.089Z"
   },
   {
    "duration": 35,
    "start_time": "2022-08-18T18:29:36.109Z"
   },
   {
    "duration": 6,
    "start_time": "2022-08-18T18:29:36.146Z"
   },
   {
    "duration": 6,
    "start_time": "2022-08-18T18:29:36.154Z"
   },
   {
    "duration": 6,
    "start_time": "2022-08-18T18:29:36.162Z"
   },
   {
    "duration": 14,
    "start_time": "2022-08-18T18:29:36.169Z"
   },
   {
    "duration": 42,
    "start_time": "2022-08-18T18:29:36.185Z"
   },
   {
    "duration": 27,
    "start_time": "2022-08-18T18:29:36.228Z"
   },
   {
    "duration": 28,
    "start_time": "2022-08-18T18:29:36.257Z"
   },
   {
    "duration": 4,
    "start_time": "2022-08-18T18:29:36.286Z"
   },
   {
    "duration": 15,
    "start_time": "2022-08-18T18:29:36.293Z"
   },
   {
    "duration": 41,
    "start_time": "2022-08-18T18:29:36.309Z"
   },
   {
    "duration": 14,
    "start_time": "2022-08-18T18:29:36.352Z"
   },
   {
    "duration": 5,
    "start_time": "2022-08-18T18:29:36.368Z"
   },
   {
    "duration": 6,
    "start_time": "2022-08-18T18:29:36.375Z"
   },
   {
    "duration": 5,
    "start_time": "2022-08-18T18:29:36.383Z"
   },
   {
    "duration": 18,
    "start_time": "2022-08-18T18:29:36.390Z"
   },
   {
    "duration": 49,
    "start_time": "2022-08-18T18:29:36.409Z"
   },
   {
    "duration": 16,
    "start_time": "2022-08-18T18:29:36.460Z"
   },
   {
    "duration": 12,
    "start_time": "2022-08-18T18:29:36.478Z"
   },
   {
    "duration": 126,
    "start_time": "2022-08-18T18:29:36.493Z"
   },
   {
    "duration": 14,
    "start_time": "2022-08-18T18:29:36.622Z"
   },
   {
    "duration": 18,
    "start_time": "2022-08-18T18:29:36.637Z"
   },
   {
    "duration": 11,
    "start_time": "2022-08-18T18:29:36.657Z"
   },
   {
    "duration": 15,
    "start_time": "2022-08-18T18:29:36.670Z"
   },
   {
    "duration": 7,
    "start_time": "2022-08-18T18:29:36.686Z"
   },
   {
    "duration": 19,
    "start_time": "2022-08-18T18:29:36.695Z"
   },
   {
    "duration": 36,
    "start_time": "2022-08-18T18:29:36.716Z"
   },
   {
    "duration": 85,
    "start_time": "2022-08-18T18:29:36.755Z"
   },
   {
    "duration": 0,
    "start_time": "2022-08-18T18:29:36.842Z"
   },
   {
    "duration": 0,
    "start_time": "2022-08-18T18:29:36.843Z"
   },
   {
    "duration": 0,
    "start_time": "2022-08-18T18:29:36.845Z"
   },
   {
    "duration": 0,
    "start_time": "2022-08-18T18:29:36.846Z"
   },
   {
    "duration": 0,
    "start_time": "2022-08-18T18:29:36.847Z"
   },
   {
    "duration": 0,
    "start_time": "2022-08-18T18:29:36.848Z"
   },
   {
    "duration": 0,
    "start_time": "2022-08-18T18:29:36.850Z"
   },
   {
    "duration": 1,
    "start_time": "2022-08-18T18:29:36.851Z"
   },
   {
    "duration": 0,
    "start_time": "2022-08-18T18:29:36.853Z"
   },
   {
    "duration": 0,
    "start_time": "2022-08-18T18:29:36.854Z"
   },
   {
    "duration": 0,
    "start_time": "2022-08-18T18:29:36.855Z"
   },
   {
    "duration": 0,
    "start_time": "2022-08-18T18:29:36.857Z"
   },
   {
    "duration": 0,
    "start_time": "2022-08-18T18:29:36.858Z"
   },
   {
    "duration": 0,
    "start_time": "2022-08-18T18:29:36.860Z"
   },
   {
    "duration": 3,
    "start_time": "2022-08-18T18:44:15.471Z"
   },
   {
    "duration": 541,
    "start_time": "2022-08-18T18:44:29.683Z"
   },
   {
    "duration": 9,
    "start_time": "2022-08-18T18:44:30.233Z"
   },
   {
    "duration": 45,
    "start_time": "2022-08-18T18:44:30.244Z"
   },
   {
    "duration": 55,
    "start_time": "2022-08-18T18:44:30.291Z"
   },
   {
    "duration": 57,
    "start_time": "2022-08-18T18:44:30.347Z"
   },
   {
    "duration": 129,
    "start_time": "2022-08-18T18:44:30.409Z"
   },
   {
    "duration": 19,
    "start_time": "2022-08-18T18:44:30.540Z"
   },
   {
    "duration": 51,
    "start_time": "2022-08-18T18:44:30.560Z"
   },
   {
    "duration": 16,
    "start_time": "2022-08-18T18:44:30.624Z"
   },
   {
    "duration": 10,
    "start_time": "2022-08-18T18:44:30.644Z"
   },
   {
    "duration": 11,
    "start_time": "2022-08-18T18:44:30.655Z"
   },
   {
    "duration": 68,
    "start_time": "2022-08-18T18:44:30.667Z"
   },
   {
    "duration": 23,
    "start_time": "2022-08-18T18:44:30.737Z"
   },
   {
    "duration": 19,
    "start_time": "2022-08-18T18:44:30.761Z"
   },
   {
    "duration": 55,
    "start_time": "2022-08-18T18:44:30.782Z"
   },
   {
    "duration": 18,
    "start_time": "2022-08-18T18:44:30.838Z"
   },
   {
    "duration": 14,
    "start_time": "2022-08-18T18:44:30.858Z"
   },
   {
    "duration": 15,
    "start_time": "2022-08-18T18:44:30.874Z"
   },
   {
    "duration": 30,
    "start_time": "2022-08-18T18:44:30.891Z"
   },
   {
    "duration": 28,
    "start_time": "2022-08-18T18:44:30.923Z"
   },
   {
    "duration": 14,
    "start_time": "2022-08-18T18:44:30.953Z"
   },
   {
    "duration": 10,
    "start_time": "2022-08-18T18:44:30.969Z"
   },
   {
    "duration": 13,
    "start_time": "2022-08-18T18:44:30.981Z"
   },
   {
    "duration": 48,
    "start_time": "2022-08-18T18:44:30.995Z"
   },
   {
    "duration": 5,
    "start_time": "2022-08-18T18:44:31.044Z"
   },
   {
    "duration": 33,
    "start_time": "2022-08-18T18:44:31.051Z"
   },
   {
    "duration": 30,
    "start_time": "2022-08-18T18:44:31.086Z"
   },
   {
    "duration": 11,
    "start_time": "2022-08-18T18:44:31.133Z"
   },
   {
    "duration": 7,
    "start_time": "2022-08-18T18:44:31.145Z"
   },
   {
    "duration": 8,
    "start_time": "2022-08-18T18:44:31.154Z"
   },
   {
    "duration": 8,
    "start_time": "2022-08-18T18:44:31.163Z"
   },
   {
    "duration": 7,
    "start_time": "2022-08-18T18:44:31.173Z"
   },
   {
    "duration": 7,
    "start_time": "2022-08-18T18:44:31.182Z"
   },
   {
    "duration": 48,
    "start_time": "2022-08-18T18:44:31.191Z"
   },
   {
    "duration": 41,
    "start_time": "2022-08-18T18:44:31.241Z"
   },
   {
    "duration": 13,
    "start_time": "2022-08-18T18:44:31.283Z"
   },
   {
    "duration": 53,
    "start_time": "2022-08-18T18:44:31.298Z"
   },
   {
    "duration": 18,
    "start_time": "2022-08-18T18:44:31.353Z"
   },
   {
    "duration": 17,
    "start_time": "2022-08-18T18:44:31.373Z"
   },
   {
    "duration": 4,
    "start_time": "2022-08-18T18:44:31.392Z"
   },
   {
    "duration": 42,
    "start_time": "2022-08-18T18:44:31.404Z"
   },
   {
    "duration": 12,
    "start_time": "2022-08-18T18:44:31.448Z"
   },
   {
    "duration": 4,
    "start_time": "2022-08-18T18:44:31.462Z"
   },
   {
    "duration": 17,
    "start_time": "2022-08-18T18:44:31.468Z"
   },
   {
    "duration": 6,
    "start_time": "2022-08-18T18:44:31.486Z"
   },
   {
    "duration": 7,
    "start_time": "2022-08-18T18:44:31.494Z"
   },
   {
    "duration": 21,
    "start_time": "2022-08-18T18:44:31.502Z"
   },
   {
    "duration": 52,
    "start_time": "2022-08-18T18:44:31.525Z"
   },
   {
    "duration": 6,
    "start_time": "2022-08-18T18:44:31.579Z"
   },
   {
    "duration": 38,
    "start_time": "2022-08-18T18:44:31.587Z"
   },
   {
    "duration": 14,
    "start_time": "2022-08-18T18:44:31.627Z"
   },
   {
    "duration": 7,
    "start_time": "2022-08-18T18:44:31.643Z"
   },
   {
    "duration": 7,
    "start_time": "2022-08-18T18:44:31.652Z"
   },
   {
    "duration": 7,
    "start_time": "2022-08-18T18:44:31.661Z"
   },
   {
    "duration": 6,
    "start_time": "2022-08-18T18:44:31.670Z"
   },
   {
    "duration": 5,
    "start_time": "2022-08-18T18:44:31.678Z"
   },
   {
    "duration": 18,
    "start_time": "2022-08-18T18:44:31.685Z"
   },
   {
    "duration": 20,
    "start_time": "2022-08-18T18:44:31.704Z"
   },
   {
    "duration": 27,
    "start_time": "2022-08-18T18:44:31.725Z"
   },
   {
    "duration": 26,
    "start_time": "2022-08-18T18:44:31.754Z"
   },
   {
    "duration": 14,
    "start_time": "2022-08-18T18:44:31.781Z"
   },
   {
    "duration": 49,
    "start_time": "2022-08-18T18:44:31.796Z"
   },
   {
    "duration": 4,
    "start_time": "2022-08-18T18:44:31.847Z"
   },
   {
    "duration": 31,
    "start_time": "2022-08-18T18:44:31.853Z"
   },
   {
    "duration": 5,
    "start_time": "2022-08-18T18:44:31.886Z"
   },
   {
    "duration": 14,
    "start_time": "2022-08-18T18:44:31.892Z"
   },
   {
    "duration": 29,
    "start_time": "2022-08-18T18:44:31.908Z"
   },
   {
    "duration": 8,
    "start_time": "2022-08-18T18:44:31.939Z"
   },
   {
    "duration": 34,
    "start_time": "2022-08-18T18:44:31.948Z"
   },
   {
    "duration": 32,
    "start_time": "2022-08-18T18:44:31.984Z"
   },
   {
    "duration": 33,
    "start_time": "2022-08-18T18:44:32.017Z"
   },
   {
    "duration": 97,
    "start_time": "2022-08-18T18:44:32.052Z"
   },
   {
    "duration": 3,
    "start_time": "2022-08-18T18:44:32.151Z"
   },
   {
    "duration": 6,
    "start_time": "2022-08-18T18:44:32.155Z"
   },
   {
    "duration": 11,
    "start_time": "2022-08-18T18:44:32.163Z"
   },
   {
    "duration": 54,
    "start_time": "2022-08-18T18:44:32.176Z"
   },
   {
    "duration": 13,
    "start_time": "2022-08-18T18:44:32.232Z"
   },
   {
    "duration": 8,
    "start_time": "2022-08-18T18:44:32.247Z"
   },
   {
    "duration": 5,
    "start_time": "2022-08-18T18:44:32.257Z"
   },
   {
    "duration": 74,
    "start_time": "2022-08-18T18:44:32.263Z"
   },
   {
    "duration": 0,
    "start_time": "2022-08-18T18:44:32.339Z"
   },
   {
    "duration": 0,
    "start_time": "2022-08-18T18:44:32.340Z"
   },
   {
    "duration": 0,
    "start_time": "2022-08-18T18:44:32.342Z"
   },
   {
    "duration": 0,
    "start_time": "2022-08-18T18:44:32.344Z"
   },
   {
    "duration": 0,
    "start_time": "2022-08-18T18:44:32.345Z"
   },
   {
    "duration": 0,
    "start_time": "2022-08-18T18:44:32.346Z"
   },
   {
    "duration": 1,
    "start_time": "2022-08-18T18:44:32.347Z"
   },
   {
    "duration": 0,
    "start_time": "2022-08-18T18:44:32.350Z"
   },
   {
    "duration": 0,
    "start_time": "2022-08-18T18:44:32.351Z"
   },
   {
    "duration": 0,
    "start_time": "2022-08-18T18:44:32.353Z"
   },
   {
    "duration": 0,
    "start_time": "2022-08-18T18:44:32.354Z"
   },
   {
    "duration": 0,
    "start_time": "2022-08-18T18:44:32.355Z"
   },
   {
    "duration": 0,
    "start_time": "2022-08-18T18:44:32.356Z"
   },
   {
    "duration": 0,
    "start_time": "2022-08-18T18:44:32.357Z"
   },
   {
    "duration": 141,
    "start_time": "2022-08-18T18:47:11.937Z"
   },
   {
    "duration": 564,
    "start_time": "2022-08-18T18:47:40.129Z"
   },
   {
    "duration": 40,
    "start_time": "2022-08-18T18:47:40.696Z"
   },
   {
    "duration": 43,
    "start_time": "2022-08-18T18:47:40.738Z"
   },
   {
    "duration": 23,
    "start_time": "2022-08-18T18:47:40.783Z"
   },
   {
    "duration": 39,
    "start_time": "2022-08-18T18:47:40.812Z"
   },
   {
    "duration": 30,
    "start_time": "2022-08-18T18:47:40.852Z"
   },
   {
    "duration": 3,
    "start_time": "2022-08-18T18:47:40.884Z"
   },
   {
    "duration": 39,
    "start_time": "2022-08-18T18:47:40.889Z"
   },
   {
    "duration": 29,
    "start_time": "2022-08-18T18:47:40.930Z"
   },
   {
    "duration": 8,
    "start_time": "2022-08-18T18:47:40.962Z"
   },
   {
    "duration": 7,
    "start_time": "2022-08-18T18:47:40.971Z"
   },
   {
    "duration": 52,
    "start_time": "2022-08-18T18:47:40.980Z"
   },
   {
    "duration": 13,
    "start_time": "2022-08-18T18:47:41.040Z"
   },
   {
    "duration": 11,
    "start_time": "2022-08-18T18:47:41.056Z"
   },
   {
    "duration": 11,
    "start_time": "2022-08-18T18:47:41.068Z"
   },
   {
    "duration": 43,
    "start_time": "2022-08-18T18:47:41.081Z"
   },
   {
    "duration": 27,
    "start_time": "2022-08-18T18:47:41.127Z"
   },
   {
    "duration": 10,
    "start_time": "2022-08-18T18:47:41.156Z"
   },
   {
    "duration": 21,
    "start_time": "2022-08-18T18:47:41.168Z"
   },
   {
    "duration": 6,
    "start_time": "2022-08-18T18:47:41.191Z"
   },
   {
    "duration": 39,
    "start_time": "2022-08-18T18:47:41.214Z"
   },
   {
    "duration": 14,
    "start_time": "2022-08-18T18:47:41.255Z"
   },
   {
    "duration": 15,
    "start_time": "2022-08-18T18:47:41.271Z"
   },
   {
    "duration": 8,
    "start_time": "2022-08-18T18:47:41.288Z"
   },
   {
    "duration": 8,
    "start_time": "2022-08-18T18:47:41.305Z"
   },
   {
    "duration": 40,
    "start_time": "2022-08-18T18:47:41.315Z"
   },
   {
    "duration": 12,
    "start_time": "2022-08-18T18:47:41.357Z"
   },
   {
    "duration": 4,
    "start_time": "2022-08-18T18:47:41.371Z"
   },
   {
    "duration": 7,
    "start_time": "2022-08-18T18:47:41.377Z"
   },
   {
    "duration": 9,
    "start_time": "2022-08-18T18:47:41.386Z"
   },
   {
    "duration": 17,
    "start_time": "2022-08-18T18:47:41.396Z"
   },
   {
    "duration": 35,
    "start_time": "2022-08-18T18:47:41.421Z"
   },
   {
    "duration": 8,
    "start_time": "2022-08-18T18:47:41.458Z"
   },
   {
    "duration": 11,
    "start_time": "2022-08-18T18:47:41.468Z"
   },
   {
    "duration": 15,
    "start_time": "2022-08-18T18:47:41.481Z"
   },
   {
    "duration": 49,
    "start_time": "2022-08-18T18:47:41.509Z"
   },
   {
    "duration": 19,
    "start_time": "2022-08-18T18:47:41.560Z"
   },
   {
    "duration": 40,
    "start_time": "2022-08-18T18:47:41.581Z"
   },
   {
    "duration": 28,
    "start_time": "2022-08-18T18:47:41.623Z"
   },
   {
    "duration": 4,
    "start_time": "2022-08-18T18:47:41.653Z"
   },
   {
    "duration": 18,
    "start_time": "2022-08-18T18:47:41.662Z"
   },
   {
    "duration": 14,
    "start_time": "2022-08-18T18:47:41.681Z"
   },
   {
    "duration": 7,
    "start_time": "2022-08-18T18:47:41.705Z"
   },
   {
    "duration": 35,
    "start_time": "2022-08-18T18:47:41.713Z"
   },
   {
    "duration": 9,
    "start_time": "2022-08-18T18:47:41.750Z"
   },
   {
    "duration": 4,
    "start_time": "2022-08-18T18:47:41.760Z"
   },
   {
    "duration": 25,
    "start_time": "2022-08-18T18:47:41.766Z"
   },
   {
    "duration": 43,
    "start_time": "2022-08-18T18:47:41.793Z"
   },
   {
    "duration": 16,
    "start_time": "2022-08-18T18:47:41.837Z"
   },
   {
    "duration": 19,
    "start_time": "2022-08-18T18:47:41.855Z"
   },
   {
    "duration": 4,
    "start_time": "2022-08-18T18:47:41.876Z"
   },
   {
    "duration": 58,
    "start_time": "2022-08-18T18:47:41.882Z"
   },
   {
    "duration": 5,
    "start_time": "2022-08-18T18:47:41.943Z"
   },
   {
    "duration": 9,
    "start_time": "2022-08-18T18:47:41.950Z"
   },
   {
    "duration": 6,
    "start_time": "2022-08-18T18:47:41.965Z"
   },
   {
    "duration": 18,
    "start_time": "2022-08-18T18:47:41.973Z"
   },
   {
    "duration": 42,
    "start_time": "2022-08-18T18:47:41.994Z"
   },
   {
    "duration": 18,
    "start_time": "2022-08-18T18:47:42.042Z"
   },
   {
    "duration": 10,
    "start_time": "2022-08-18T18:47:42.061Z"
   },
   {
    "duration": 42,
    "start_time": "2022-08-18T18:47:42.074Z"
   },
   {
    "duration": 7,
    "start_time": "2022-08-18T18:47:42.117Z"
   },
   {
    "duration": 27,
    "start_time": "2022-08-18T18:47:42.125Z"
   },
   {
    "duration": 4,
    "start_time": "2022-08-18T18:47:42.154Z"
   },
   {
    "duration": 23,
    "start_time": "2022-08-18T18:47:42.160Z"
   },
   {
    "duration": 5,
    "start_time": "2022-08-18T18:47:42.186Z"
   },
   {
    "duration": 52,
    "start_time": "2022-08-18T18:47:42.192Z"
   },
   {
    "duration": 4,
    "start_time": "2022-08-18T18:47:42.247Z"
   },
   {
    "duration": 15,
    "start_time": "2022-08-18T18:47:42.253Z"
   },
   {
    "duration": 25,
    "start_time": "2022-08-18T18:47:42.270Z"
   },
   {
    "duration": 63,
    "start_time": "2022-08-18T18:47:42.297Z"
   },
   {
    "duration": 13,
    "start_time": "2022-08-18T18:47:42.362Z"
   },
   {
    "duration": 108,
    "start_time": "2022-08-18T18:47:42.377Z"
   },
   {
    "duration": 9,
    "start_time": "2022-08-18T18:47:42.487Z"
   },
   {
    "duration": 36,
    "start_time": "2022-08-18T18:47:42.508Z"
   },
   {
    "duration": 11,
    "start_time": "2022-08-18T18:47:42.548Z"
   },
   {
    "duration": 11,
    "start_time": "2022-08-18T18:47:42.561Z"
   },
   {
    "duration": 9,
    "start_time": "2022-08-18T18:47:42.573Z"
   },
   {
    "duration": 77,
    "start_time": "2022-08-18T18:47:42.583Z"
   },
   {
    "duration": 0,
    "start_time": "2022-08-18T18:47:42.662Z"
   },
   {
    "duration": 0,
    "start_time": "2022-08-18T18:47:42.663Z"
   },
   {
    "duration": 0,
    "start_time": "2022-08-18T18:47:42.665Z"
   },
   {
    "duration": 0,
    "start_time": "2022-08-18T18:47:42.666Z"
   },
   {
    "duration": 0,
    "start_time": "2022-08-18T18:47:42.667Z"
   },
   {
    "duration": 0,
    "start_time": "2022-08-18T18:47:42.668Z"
   },
   {
    "duration": 0,
    "start_time": "2022-08-18T18:47:42.669Z"
   },
   {
    "duration": 0,
    "start_time": "2022-08-18T18:47:42.671Z"
   },
   {
    "duration": 0,
    "start_time": "2022-08-18T18:47:42.672Z"
   },
   {
    "duration": 0,
    "start_time": "2022-08-18T18:47:42.673Z"
   },
   {
    "duration": 0,
    "start_time": "2022-08-18T18:47:42.674Z"
   },
   {
    "duration": 0,
    "start_time": "2022-08-18T18:47:42.676Z"
   },
   {
    "duration": 0,
    "start_time": "2022-08-18T18:47:42.677Z"
   },
   {
    "duration": 0,
    "start_time": "2022-08-18T18:47:42.678Z"
   },
   {
    "duration": 9,
    "start_time": "2022-08-18T18:52:25.733Z"
   },
   {
    "duration": 6,
    "start_time": "2022-08-18T18:52:44.351Z"
   },
   {
    "duration": 54,
    "start_time": "2022-08-18T20:55:41.175Z"
   },
   {
    "duration": 39,
    "start_time": "2022-08-18T20:56:49.712Z"
   },
   {
    "duration": 8,
    "start_time": "2022-08-18T20:57:36.853Z"
   },
   {
    "duration": 5,
    "start_time": "2022-08-18T21:14:24.035Z"
   },
   {
    "duration": 4,
    "start_time": "2022-08-18T21:14:59.992Z"
   },
   {
    "duration": 27,
    "start_time": "2022-08-18T21:20:45.011Z"
   },
   {
    "duration": 10,
    "start_time": "2022-08-18T21:20:58.200Z"
   },
   {
    "duration": 6,
    "start_time": "2022-08-18T21:22:38.193Z"
   },
   {
    "duration": 5,
    "start_time": "2022-08-18T21:22:39.154Z"
   },
   {
    "duration": 19,
    "start_time": "2022-08-18T21:22:41.302Z"
   },
   {
    "duration": 9,
    "start_time": "2022-08-18T21:22:43.007Z"
   },
   {
    "duration": 4,
    "start_time": "2022-08-18T21:25:48.992Z"
   },
   {
    "duration": 4,
    "start_time": "2022-08-18T21:25:49.873Z"
   },
   {
    "duration": 29,
    "start_time": "2022-08-18T21:26:07.396Z"
   },
   {
    "duration": 12,
    "start_time": "2022-08-18T21:26:08.052Z"
   },
   {
    "duration": 6,
    "start_time": "2022-08-18T21:28:10.799Z"
   },
   {
    "duration": 6,
    "start_time": "2022-08-18T21:28:11.600Z"
   },
   {
    "duration": 18,
    "start_time": "2022-08-18T21:28:12.579Z"
   },
   {
    "duration": 7,
    "start_time": "2022-08-18T21:28:23.843Z"
   },
   {
    "duration": 7,
    "start_time": "2022-08-18T21:31:27.205Z"
   },
   {
    "duration": 3,
    "start_time": "2022-08-18T21:33:41.514Z"
   },
   {
    "duration": 5,
    "start_time": "2022-08-18T21:33:45.135Z"
   },
   {
    "duration": 4,
    "start_time": "2022-08-18T21:41:06.422Z"
   },
   {
    "duration": 6,
    "start_time": "2022-08-18T21:41:16.449Z"
   },
   {
    "duration": 5,
    "start_time": "2022-08-18T21:41:17.028Z"
   },
   {
    "duration": 15,
    "start_time": "2022-08-18T21:41:47.639Z"
   },
   {
    "duration": 27,
    "start_time": "2022-08-18T21:42:29.625Z"
   },
   {
    "duration": 4,
    "start_time": "2022-08-18T21:50:59.010Z"
   },
   {
    "duration": 4,
    "start_time": "2022-08-18T21:51:32.827Z"
   },
   {
    "duration": 4,
    "start_time": "2022-08-18T21:51:39.258Z"
   },
   {
    "duration": 21,
    "start_time": "2022-08-18T21:55:46.398Z"
   },
   {
    "duration": 96,
    "start_time": "2022-08-18T21:56:34.840Z"
   },
   {
    "duration": 12,
    "start_time": "2022-08-18T21:56:39.484Z"
   },
   {
    "duration": 3,
    "start_time": "2022-08-18T21:56:41.509Z"
   },
   {
    "duration": 12,
    "start_time": "2022-08-18T21:57:13.100Z"
   },
   {
    "duration": 7,
    "start_time": "2022-08-18T21:57:18.461Z"
   },
   {
    "duration": 27,
    "start_time": "2022-08-18T21:57:26.073Z"
   },
   {
    "duration": 3,
    "start_time": "2022-08-18T22:01:15.279Z"
   },
   {
    "duration": 3,
    "start_time": "2022-08-18T22:03:02.149Z"
   },
   {
    "duration": 4,
    "start_time": "2022-08-18T22:03:14.911Z"
   },
   {
    "duration": 84,
    "start_time": "2022-08-18T22:07:48.397Z"
   },
   {
    "duration": 15,
    "start_time": "2022-08-18T22:07:58.341Z"
   },
   {
    "duration": 15,
    "start_time": "2022-08-18T22:08:22.423Z"
   },
   {
    "duration": 12,
    "start_time": "2022-08-18T22:12:48.447Z"
   },
   {
    "duration": 8,
    "start_time": "2022-08-18T22:24:31.663Z"
   },
   {
    "duration": 545,
    "start_time": "2022-08-18T22:24:54.356Z"
   },
   {
    "duration": 10,
    "start_time": "2022-08-18T22:24:54.903Z"
   },
   {
    "duration": 20,
    "start_time": "2022-08-18T22:24:54.914Z"
   },
   {
    "duration": 21,
    "start_time": "2022-08-18T22:24:54.937Z"
   },
   {
    "duration": 4,
    "start_time": "2022-08-18T22:24:54.960Z"
   },
   {
    "duration": 39,
    "start_time": "2022-08-18T22:24:54.965Z"
   },
   {
    "duration": 4,
    "start_time": "2022-08-18T22:24:55.005Z"
   },
   {
    "duration": 24,
    "start_time": "2022-08-18T22:24:55.010Z"
   },
   {
    "duration": 27,
    "start_time": "2022-08-18T22:24:55.036Z"
   },
   {
    "duration": 7,
    "start_time": "2022-08-18T22:24:55.067Z"
   },
   {
    "duration": 23,
    "start_time": "2022-08-18T22:24:55.076Z"
   },
   {
    "duration": 5,
    "start_time": "2022-08-18T22:24:55.100Z"
   },
   {
    "duration": 16,
    "start_time": "2022-08-18T22:24:55.106Z"
   },
   {
    "duration": 9,
    "start_time": "2022-08-18T22:24:55.123Z"
   },
   {
    "duration": 9,
    "start_time": "2022-08-18T22:24:55.133Z"
   },
   {
    "duration": 8,
    "start_time": "2022-08-18T22:24:55.144Z"
   },
   {
    "duration": 13,
    "start_time": "2022-08-18T22:24:55.153Z"
   },
   {
    "duration": 39,
    "start_time": "2022-08-18T22:24:55.168Z"
   },
   {
    "duration": 19,
    "start_time": "2022-08-18T22:24:55.209Z"
   },
   {
    "duration": 7,
    "start_time": "2022-08-18T22:24:55.229Z"
   },
   {
    "duration": 13,
    "start_time": "2022-08-18T22:24:55.238Z"
   },
   {
    "duration": 10,
    "start_time": "2022-08-18T22:24:55.252Z"
   },
   {
    "duration": 11,
    "start_time": "2022-08-18T22:24:55.264Z"
   },
   {
    "duration": 29,
    "start_time": "2022-08-18T22:24:55.277Z"
   },
   {
    "duration": 5,
    "start_time": "2022-08-18T22:24:55.308Z"
   },
   {
    "duration": 4,
    "start_time": "2022-08-18T22:24:55.314Z"
   },
   {
    "duration": 5,
    "start_time": "2022-08-18T22:24:55.320Z"
   },
   {
    "duration": 4,
    "start_time": "2022-08-18T22:24:55.329Z"
   },
   {
    "duration": 6,
    "start_time": "2022-08-18T22:24:55.334Z"
   },
   {
    "duration": 7,
    "start_time": "2022-08-18T22:24:55.341Z"
   },
   {
    "duration": 49,
    "start_time": "2022-08-18T22:24:55.349Z"
   },
   {
    "duration": 4,
    "start_time": "2022-08-18T22:24:55.400Z"
   },
   {
    "duration": 11,
    "start_time": "2022-08-18T22:24:55.406Z"
   },
   {
    "duration": 22,
    "start_time": "2022-08-18T22:24:55.418Z"
   },
   {
    "duration": 17,
    "start_time": "2022-08-18T22:24:55.442Z"
   },
   {
    "duration": 9,
    "start_time": "2022-08-18T22:24:55.461Z"
   },
   {
    "duration": 18,
    "start_time": "2022-08-18T22:24:55.471Z"
   },
   {
    "duration": 21,
    "start_time": "2022-08-18T22:24:55.491Z"
   },
   {
    "duration": 14,
    "start_time": "2022-08-18T22:24:55.513Z"
   },
   {
    "duration": 4,
    "start_time": "2022-08-18T22:24:55.528Z"
   },
   {
    "duration": 29,
    "start_time": "2022-08-18T22:24:55.533Z"
   },
   {
    "duration": 8,
    "start_time": "2022-08-18T22:24:55.564Z"
   },
   {
    "duration": 25,
    "start_time": "2022-08-18T22:24:55.573Z"
   },
   {
    "duration": 5,
    "start_time": "2022-08-18T22:24:55.599Z"
   },
   {
    "duration": 10,
    "start_time": "2022-08-18T22:24:55.605Z"
   },
   {
    "duration": 5,
    "start_time": "2022-08-18T22:24:55.616Z"
   },
   {
    "duration": 14,
    "start_time": "2022-08-18T22:24:55.622Z"
   },
   {
    "duration": 21,
    "start_time": "2022-08-18T22:24:55.637Z"
   },
   {
    "duration": 6,
    "start_time": "2022-08-18T22:24:55.659Z"
   },
   {
    "duration": 42,
    "start_time": "2022-08-18T22:24:55.667Z"
   },
   {
    "duration": 5,
    "start_time": "2022-08-18T22:24:55.711Z"
   },
   {
    "duration": 5,
    "start_time": "2022-08-18T22:24:55.717Z"
   },
   {
    "duration": 3,
    "start_time": "2022-08-18T22:24:55.724Z"
   },
   {
    "duration": 6,
    "start_time": "2022-08-18T22:24:55.729Z"
   },
   {
    "duration": 7,
    "start_time": "2022-08-18T22:24:55.737Z"
   },
   {
    "duration": 10,
    "start_time": "2022-08-18T22:24:55.745Z"
   },
   {
    "duration": 42,
    "start_time": "2022-08-18T22:24:55.757Z"
   },
   {
    "duration": 11,
    "start_time": "2022-08-18T22:24:55.800Z"
   },
   {
    "duration": 14,
    "start_time": "2022-08-18T22:24:55.812Z"
   },
   {
    "duration": 26,
    "start_time": "2022-08-18T22:24:55.827Z"
   },
   {
    "duration": 3,
    "start_time": "2022-08-18T22:24:55.855Z"
   },
   {
    "duration": 40,
    "start_time": "2022-08-18T22:24:55.859Z"
   },
   {
    "duration": 4,
    "start_time": "2022-08-18T22:24:55.901Z"
   },
   {
    "duration": 21,
    "start_time": "2022-08-18T22:24:55.906Z"
   },
   {
    "duration": 4,
    "start_time": "2022-08-18T22:24:55.929Z"
   },
   {
    "duration": 24,
    "start_time": "2022-08-18T22:24:55.935Z"
   },
   {
    "duration": 12,
    "start_time": "2022-08-18T22:24:55.961Z"
   },
   {
    "duration": 8,
    "start_time": "2022-08-18T22:24:55.975Z"
   },
   {
    "duration": 32,
    "start_time": "2022-08-18T22:24:55.984Z"
   },
   {
    "duration": 11,
    "start_time": "2022-08-18T22:24:56.018Z"
   },
   {
    "duration": 12,
    "start_time": "2022-08-18T22:24:56.031Z"
   },
   {
    "duration": 110,
    "start_time": "2022-08-18T22:24:56.044Z"
   },
   {
    "duration": 7,
    "start_time": "2022-08-18T22:24:56.156Z"
   },
   {
    "duration": 15,
    "start_time": "2022-08-18T22:24:56.165Z"
   },
   {
    "duration": 20,
    "start_time": "2022-08-18T22:24:56.181Z"
   },
   {
    "duration": 12,
    "start_time": "2022-08-18T22:24:56.202Z"
   },
   {
    "duration": 4,
    "start_time": "2022-08-18T22:24:56.215Z"
   },
   {
    "duration": 12,
    "start_time": "2022-08-18T22:24:56.220Z"
   },
   {
    "duration": 23,
    "start_time": "2022-08-18T22:24:56.234Z"
   },
   {
    "duration": 6,
    "start_time": "2022-08-18T22:24:56.258Z"
   },
   {
    "duration": 6,
    "start_time": "2022-08-18T22:24:56.266Z"
   },
   {
    "duration": 3,
    "start_time": "2022-08-18T22:24:56.302Z"
   },
   {
    "duration": 6,
    "start_time": "2022-08-18T22:24:56.306Z"
   },
   {
    "duration": 7,
    "start_time": "2022-08-18T22:24:56.313Z"
   },
   {
    "duration": 5,
    "start_time": "2022-08-18T22:24:56.321Z"
   },
   {
    "duration": 8,
    "start_time": "2022-08-18T22:24:56.328Z"
   },
   {
    "duration": 21,
    "start_time": "2022-08-18T22:24:56.337Z"
   },
   {
    "duration": 7,
    "start_time": "2022-08-18T22:24:56.399Z"
   },
   {
    "duration": 8,
    "start_time": "2022-08-18T22:24:56.407Z"
   },
   {
    "duration": 3,
    "start_time": "2022-08-18T22:24:56.416Z"
   },
   {
    "duration": 20,
    "start_time": "2022-08-18T22:24:56.420Z"
   },
   {
    "duration": 10,
    "start_time": "2022-08-18T22:24:56.441Z"
   },
   {
    "duration": 46,
    "start_time": "2022-08-18T22:24:56.453Z"
   },
   {
    "duration": 8,
    "start_time": "2022-08-18T22:24:56.500Z"
   },
   {
    "duration": 3,
    "start_time": "2022-08-18T22:24:56.509Z"
   },
   {
    "duration": 3,
    "start_time": "2022-08-18T22:25:42.847Z"
   },
   {
    "duration": 3,
    "start_time": "2022-08-18T22:25:48.063Z"
   },
   {
    "duration": 2,
    "start_time": "2022-08-18T22:27:37.890Z"
   },
   {
    "duration": 63,
    "start_time": "2022-08-18T22:27:59.164Z"
   },
   {
    "duration": 3,
    "start_time": "2022-08-18T22:28:08.103Z"
   },
   {
    "duration": 3,
    "start_time": "2022-08-18T22:28:23.587Z"
   },
   {
    "duration": 19,
    "start_time": "2022-08-18T22:30:17.685Z"
   },
   {
    "duration": 8,
    "start_time": "2022-08-19T18:24:21.274Z"
   },
   {
    "duration": 5,
    "start_time": "2022-08-19T18:24:45.958Z"
   },
   {
    "duration": 73,
    "start_time": "2022-08-19T18:27:52.176Z"
   },
   {
    "duration": 3,
    "start_time": "2022-08-19T18:31:04.576Z"
   },
   {
    "duration": 7,
    "start_time": "2022-08-19T18:31:13.760Z"
   },
   {
    "duration": 42,
    "start_time": "2022-08-19T18:32:49.834Z"
   },
   {
    "duration": 727,
    "start_time": "2022-08-19T18:33:34.782Z"
   },
   {
    "duration": 3,
    "start_time": "2022-08-19T18:33:36.070Z"
   },
   {
    "duration": 15,
    "start_time": "2022-08-19T18:33:36.273Z"
   },
   {
    "duration": 18,
    "start_time": "2022-08-19T18:33:37.742Z"
   },
   {
    "duration": 3,
    "start_time": "2022-08-19T18:33:38.493Z"
   },
   {
    "duration": 23,
    "start_time": "2022-08-19T18:33:38.802Z"
   },
   {
    "duration": 4,
    "start_time": "2022-08-19T18:33:39.613Z"
   },
   {
    "duration": 23,
    "start_time": "2022-08-19T18:33:40.315Z"
   },
   {
    "duration": 6,
    "start_time": "2022-08-19T18:33:40.487Z"
   },
   {
    "duration": 6,
    "start_time": "2022-08-19T18:33:40.817Z"
   },
   {
    "duration": 5,
    "start_time": "2022-08-19T18:33:41.049Z"
   },
   {
    "duration": 5,
    "start_time": "2022-08-19T18:33:42.491Z"
   },
   {
    "duration": 6,
    "start_time": "2022-08-19T18:33:43.732Z"
   },
   {
    "duration": 8,
    "start_time": "2022-08-19T18:33:46.615Z"
   },
   {
    "duration": 6,
    "start_time": "2022-08-19T18:33:46.985Z"
   },
   {
    "duration": 6,
    "start_time": "2022-08-19T18:33:48.240Z"
   },
   {
    "duration": 6,
    "start_time": "2022-08-19T18:33:48.657Z"
   },
   {
    "duration": 6,
    "start_time": "2022-08-19T18:33:52.507Z"
   },
   {
    "duration": 14,
    "start_time": "2022-08-19T18:33:53.251Z"
   },
   {
    "duration": 6,
    "start_time": "2022-08-19T18:33:57.099Z"
   },
   {
    "duration": 5,
    "start_time": "2022-08-19T18:33:58.101Z"
   },
   {
    "duration": 9,
    "start_time": "2022-08-19T18:34:00.820Z"
   },
   {
    "duration": 5,
    "start_time": "2022-08-19T18:34:02.885Z"
   },
   {
    "duration": 7,
    "start_time": "2022-08-19T18:34:04.129Z"
   },
   {
    "duration": 5,
    "start_time": "2022-08-19T18:34:05.188Z"
   },
   {
    "duration": 3,
    "start_time": "2022-08-19T18:34:05.568Z"
   },
   {
    "duration": 5,
    "start_time": "2022-08-19T18:34:06.121Z"
   },
   {
    "duration": 3,
    "start_time": "2022-08-19T18:34:06.437Z"
   },
   {
    "duration": 6,
    "start_time": "2022-08-19T18:34:07.009Z"
   },
   {
    "duration": 8,
    "start_time": "2022-08-19T18:34:07.399Z"
   },
   {
    "duration": 5,
    "start_time": "2022-08-19T18:34:08.332Z"
   },
   {
    "duration": 6,
    "start_time": "2022-08-19T18:34:08.833Z"
   },
   {
    "duration": 6,
    "start_time": "2022-08-19T18:34:09.055Z"
   },
   {
    "duration": 9,
    "start_time": "2022-08-19T18:34:09.511Z"
   },
   {
    "duration": 7,
    "start_time": "2022-08-19T18:34:10.327Z"
   },
   {
    "duration": 5,
    "start_time": "2022-08-19T18:34:11.091Z"
   },
   {
    "duration": 18,
    "start_time": "2022-08-19T18:34:12.019Z"
   },
   {
    "duration": 17,
    "start_time": "2022-08-19T18:34:12.409Z"
   },
   {
    "duration": 22,
    "start_time": "2022-08-19T18:34:12.897Z"
   },
   {
    "duration": 3,
    "start_time": "2022-08-19T18:34:13.283Z"
   },
   {
    "duration": 12,
    "start_time": "2022-08-19T18:34:16.415Z"
   },
   {
    "duration": 12,
    "start_time": "2022-08-19T18:34:16.915Z"
   },
   {
    "duration": 3,
    "start_time": "2022-08-19T18:34:20.037Z"
   },
   {
    "duration": 4,
    "start_time": "2022-08-19T18:34:20.337Z"
   },
   {
    "duration": 4,
    "start_time": "2022-08-19T18:34:21.029Z"
   },
   {
    "duration": 6,
    "start_time": "2022-08-19T18:34:21.919Z"
   },
   {
    "duration": 10,
    "start_time": "2022-08-19T18:34:22.163Z"
   },
   {
    "duration": 19,
    "start_time": "2022-08-19T18:34:22.434Z"
   },
   {
    "duration": 6,
    "start_time": "2022-08-19T18:34:22.630Z"
   },
   {
    "duration": 17,
    "start_time": "2022-08-19T18:34:24.359Z"
   },
   {
    "duration": 5,
    "start_time": "2022-08-19T18:34:25.170Z"
   },
   {
    "duration": 5,
    "start_time": "2022-08-19T18:34:25.986Z"
   },
   {
    "duration": 4,
    "start_time": "2022-08-19T18:34:26.556Z"
   },
   {
    "duration": 4,
    "start_time": "2022-08-19T18:34:27.182Z"
   },
   {
    "duration": 4,
    "start_time": "2022-08-19T18:34:28.319Z"
   },
   {
    "duration": 4,
    "start_time": "2022-08-19T18:34:28.652Z"
   },
   {
    "duration": 14,
    "start_time": "2022-08-19T18:34:29.214Z"
   },
   {
    "duration": 11,
    "start_time": "2022-08-19T18:34:31.018Z"
   },
   {
    "duration": 11,
    "start_time": "2022-08-19T18:34:32.837Z"
   },
   {
    "duration": 26,
    "start_time": "2022-08-19T18:34:34.843Z"
   },
   {
    "duration": 3,
    "start_time": "2022-08-19T18:34:38.273Z"
   },
   {
    "duration": 11,
    "start_time": "2022-08-19T18:34:38.607Z"
   },
   {
    "duration": 3,
    "start_time": "2022-08-19T18:34:39.125Z"
   },
   {
    "duration": 12,
    "start_time": "2022-08-19T18:34:40.430Z"
   },
   {
    "duration": 3,
    "start_time": "2022-08-19T18:34:43.088Z"
   },
   {
    "duration": 7,
    "start_time": "2022-08-19T18:34:44.017Z"
   },
   {
    "duration": 4,
    "start_time": "2022-08-19T18:34:44.251Z"
   },
   {
    "duration": 6,
    "start_time": "2022-08-19T18:34:44.415Z"
   },
   {
    "duration": 19,
    "start_time": "2022-08-19T18:34:44.976Z"
   },
   {
    "duration": 13,
    "start_time": "2022-08-19T18:34:45.087Z"
   },
   {
    "duration": 12,
    "start_time": "2022-08-19T18:34:45.515Z"
   },
   {
    "duration": 82,
    "start_time": "2022-08-19T18:34:47.019Z"
   },
   {
    "duration": 8,
    "start_time": "2022-08-19T18:34:47.900Z"
   },
   {
    "duration": 19,
    "start_time": "2022-08-19T18:34:50.100Z"
   },
   {
    "duration": 10,
    "start_time": "2022-08-19T18:34:55.007Z"
   },
   {
    "duration": 4,
    "start_time": "2022-08-19T18:34:56.359Z"
   },
   {
    "duration": 4,
    "start_time": "2022-08-19T18:35:00.773Z"
   },
   {
    "duration": 4,
    "start_time": "2022-08-19T18:35:06.713Z"
   },
   {
    "duration": 3,
    "start_time": "2022-08-19T18:35:07.565Z"
   },
   {
    "duration": 4,
    "start_time": "2022-08-19T18:35:08.753Z"
   },
   {
    "duration": 9,
    "start_time": "2022-08-19T18:35:36.155Z"
   },
   {
    "duration": 8,
    "start_time": "2022-08-19T18:36:02.109Z"
   },
   {
    "duration": 32,
    "start_time": "2022-08-19T18:36:39.519Z"
   },
   {
    "duration": 6,
    "start_time": "2022-08-19T18:36:50.382Z"
   },
   {
    "duration": 4,
    "start_time": "2022-08-19T18:37:03.334Z"
   },
   {
    "duration": 4,
    "start_time": "2022-08-19T18:37:04.653Z"
   },
   {
    "duration": 11,
    "start_time": "2022-08-19T18:37:08.421Z"
   },
   {
    "duration": 7,
    "start_time": "2022-08-19T18:37:10.478Z"
   },
   {
    "duration": 43,
    "start_time": "2022-08-19T18:42:59.204Z"
   },
   {
    "duration": 6,
    "start_time": "2022-08-19T18:43:11.906Z"
   },
   {
    "duration": 9,
    "start_time": "2022-08-19T18:47:19.019Z"
   },
   {
    "duration": 11,
    "start_time": "2022-08-19T18:47:39.997Z"
   },
   {
    "duration": 9,
    "start_time": "2022-08-19T18:48:33.026Z"
   },
   {
    "duration": 7,
    "start_time": "2022-08-19T18:49:04.510Z"
   },
   {
    "duration": 8,
    "start_time": "2022-08-19T18:49:31.863Z"
   },
   {
    "duration": 595,
    "start_time": "2022-08-19T21:46:27.969Z"
   },
   {
    "duration": 14,
    "start_time": "2022-08-19T21:46:29.778Z"
   },
   {
    "duration": 18,
    "start_time": "2022-08-19T21:46:30.392Z"
   },
   {
    "duration": 13,
    "start_time": "2022-08-19T21:46:32.322Z"
   },
   {
    "duration": 5,
    "start_time": "2022-08-19T21:46:34.646Z"
   },
   {
    "duration": 25,
    "start_time": "2022-08-19T21:46:35.382Z"
   },
   {
    "duration": 3,
    "start_time": "2022-08-19T21:46:37.720Z"
   },
   {
    "duration": 35,
    "start_time": "2022-08-19T21:46:41.097Z"
   },
   {
    "duration": 8,
    "start_time": "2022-08-19T21:46:42.144Z"
   },
   {
    "duration": 9,
    "start_time": "2022-08-19T21:46:44.213Z"
   },
   {
    "duration": 6,
    "start_time": "2022-08-19T21:46:45.305Z"
   },
   {
    "duration": 8,
    "start_time": "2022-08-19T21:46:48.295Z"
   },
   {
    "duration": 8,
    "start_time": "2022-08-19T21:46:49.204Z"
   },
   {
    "duration": 6,
    "start_time": "2022-08-19T21:46:52.004Z"
   },
   {
    "duration": 10,
    "start_time": "2022-08-19T21:46:52.902Z"
   },
   {
    "duration": 7,
    "start_time": "2022-08-19T21:46:54.544Z"
   },
   {
    "duration": 10,
    "start_time": "2022-08-19T21:46:55.248Z"
   },
   {
    "duration": 8,
    "start_time": "2022-08-19T21:47:02.100Z"
   },
   {
    "duration": 24,
    "start_time": "2022-08-19T21:47:02.896Z"
   },
   {
    "duration": 9,
    "start_time": "2022-08-19T21:47:05.397Z"
   },
   {
    "duration": 14,
    "start_time": "2022-08-19T21:47:06.186Z"
   },
   {
    "duration": 8,
    "start_time": "2022-08-19T21:47:08.847Z"
   },
   {
    "duration": 6,
    "start_time": "2022-08-19T21:47:10.770Z"
   },
   {
    "duration": 11,
    "start_time": "2022-08-19T21:47:36.282Z"
   },
   {
    "duration": 5,
    "start_time": "2022-08-19T21:47:38.073Z"
   },
   {
    "duration": 3,
    "start_time": "2022-08-19T21:47:38.966Z"
   },
   {
    "duration": 5,
    "start_time": "2022-08-19T21:47:40.751Z"
   },
   {
    "duration": 4,
    "start_time": "2022-08-19T21:47:41.613Z"
   },
   {
    "duration": 7,
    "start_time": "2022-08-19T21:47:43.200Z"
   },
   {
    "duration": 9,
    "start_time": "2022-08-19T21:47:43.954Z"
   },
   {
    "duration": 7,
    "start_time": "2022-08-19T21:47:46.272Z"
   },
   {
    "duration": 5,
    "start_time": "2022-08-19T21:47:47.800Z"
   },
   {
    "duration": 6,
    "start_time": "2022-08-19T21:47:48.535Z"
   },
   {
    "duration": 7,
    "start_time": "2022-08-19T21:47:50.046Z"
   },
   {
    "duration": 6,
    "start_time": "2022-08-19T21:47:52.341Z"
   },
   {
    "duration": 11,
    "start_time": "2022-08-19T21:47:54.786Z"
   },
   {
    "duration": 18,
    "start_time": "2022-08-19T21:47:57.241Z"
   },
   {
    "duration": 17,
    "start_time": "2022-08-19T21:47:58.040Z"
   },
   {
    "duration": 15,
    "start_time": "2022-08-19T21:47:58.811Z"
   },
   {
    "duration": 4,
    "start_time": "2022-08-19T21:47:59.579Z"
   },
   {
    "duration": 12,
    "start_time": "2022-08-19T21:48:03.462Z"
   },
   {
    "duration": 12,
    "start_time": "2022-08-19T21:48:04.179Z"
   },
   {
    "duration": 4,
    "start_time": "2022-08-19T21:48:07.644Z"
   },
   {
    "duration": 4,
    "start_time": "2022-08-19T21:48:08.352Z"
   },
   {
    "duration": 5,
    "start_time": "2022-08-19T21:48:09.145Z"
   },
   {
    "duration": 3,
    "start_time": "2022-08-19T21:48:09.857Z"
   },
   {
    "duration": 19,
    "start_time": "2022-08-19T21:48:10.661Z"
   },
   {
    "duration": 30,
    "start_time": "2022-08-19T21:48:11.484Z"
   },
   {
    "duration": 7,
    "start_time": "2022-08-19T21:48:12.308Z"
   },
   {
    "duration": 24,
    "start_time": "2022-08-19T21:48:14.753Z"
   },
   {
    "duration": 5,
    "start_time": "2022-08-19T21:48:15.653Z"
   },
   {
    "duration": 6,
    "start_time": "2022-08-19T21:48:16.601Z"
   },
   {
    "duration": 4,
    "start_time": "2022-08-19T21:48:17.408Z"
   },
   {
    "duration": 4,
    "start_time": "2022-08-19T21:48:18.319Z"
   },
   {
    "duration": 6,
    "start_time": "2022-08-19T21:48:20.047Z"
   },
   {
    "duration": 6,
    "start_time": "2022-08-19T21:48:20.847Z"
   },
   {
    "duration": 11,
    "start_time": "2022-08-19T21:48:22.003Z"
   },
   {
    "duration": 17,
    "start_time": "2022-08-19T21:48:23.793Z"
   },
   {
    "duration": 12,
    "start_time": "2022-08-19T21:48:25.666Z"
   },
   {
    "duration": 27,
    "start_time": "2022-08-19T21:48:27.515Z"
   },
   {
    "duration": 5,
    "start_time": "2022-08-19T21:48:32.402Z"
   },
   {
    "duration": 9,
    "start_time": "2022-08-19T21:48:33.348Z"
   },
   {
    "duration": 4,
    "start_time": "2022-08-19T21:48:34.202Z"
   },
   {
    "duration": 14,
    "start_time": "2022-08-19T21:48:36.245Z"
   },
   {
    "duration": 7,
    "start_time": "2022-08-19T21:48:39.279Z"
   },
   {
    "duration": 10,
    "start_time": "2022-08-19T21:48:40.088Z"
   },
   {
    "duration": 7,
    "start_time": "2022-08-19T21:48:40.919Z"
   },
   {
    "duration": 5,
    "start_time": "2022-08-19T21:48:41.563Z"
   },
   {
    "duration": 22,
    "start_time": "2022-08-19T21:48:43.341Z"
   },
   {
    "duration": 14,
    "start_time": "2022-08-19T21:48:44.395Z"
   },
   {
    "duration": 13,
    "start_time": "2022-08-19T21:48:56.244Z"
   },
   {
    "duration": 114,
    "start_time": "2022-08-19T21:48:57.992Z"
   },
   {
    "duration": 9,
    "start_time": "2022-08-19T21:48:58.847Z"
   },
   {
    "duration": 14,
    "start_time": "2022-08-19T21:49:00.449Z"
   },
   {
    "duration": 8,
    "start_time": "2022-08-19T21:49:02.368Z"
   },
   {
    "duration": 7,
    "start_time": "2022-08-19T21:49:04.102Z"
   },
   {
    "duration": 4,
    "start_time": "2022-08-19T21:49:09.766Z"
   },
   {
    "duration": 5,
    "start_time": "2022-08-19T21:49:11.945Z"
   },
   {
    "duration": 13,
    "start_time": "2022-08-19T21:49:21.041Z"
   },
   {
    "duration": 4,
    "start_time": "2022-08-19T21:50:46.344Z"
   },
   {
    "duration": 4,
    "start_time": "2022-08-19T21:50:47.601Z"
   },
   {
    "duration": 8,
    "start_time": "2022-08-19T21:50:48.762Z"
   },
   {
    "duration": 8,
    "start_time": "2022-08-19T21:50:54.222Z"
   },
   {
    "duration": 4,
    "start_time": "2022-08-19T21:58:37.473Z"
   },
   {
    "duration": 26,
    "start_time": "2022-08-19T21:58:46.413Z"
   },
   {
    "duration": 10,
    "start_time": "2022-08-19T22:04:49.255Z"
   },
   {
    "duration": 89,
    "start_time": "2022-08-19T22:19:14.216Z"
   },
   {
    "duration": 8,
    "start_time": "2022-08-19T22:19:43.717Z"
   },
   {
    "duration": 13,
    "start_time": "2022-08-19T22:25:45.013Z"
   },
   {
    "duration": 7,
    "start_time": "2022-08-19T22:25:47.087Z"
   },
   {
    "duration": 14,
    "start_time": "2022-08-19T22:25:50.174Z"
   },
   {
    "duration": 10,
    "start_time": "2022-08-19T22:25:51.611Z"
   },
   {
    "duration": 4,
    "start_time": "2022-08-19T22:42:31.655Z"
   },
   {
    "duration": 4,
    "start_time": "2022-08-19T22:42:32.430Z"
   },
   {
    "duration": 23,
    "start_time": "2022-08-19T22:42:32.976Z"
   },
   {
    "duration": 6,
    "start_time": "2022-08-19T22:42:33.572Z"
   },
   {
    "duration": 8,
    "start_time": "2022-08-19T22:42:36.727Z"
   },
   {
    "duration": 26,
    "start_time": "2022-08-19T22:43:02.617Z"
   },
   {
    "duration": 6,
    "start_time": "2022-08-19T22:46:08.348Z"
   },
   {
    "duration": 5,
    "start_time": "2022-08-19T22:46:09.438Z"
   },
   {
    "duration": 20,
    "start_time": "2022-08-19T22:46:28.103Z"
   },
   {
    "duration": 8,
    "start_time": "2022-08-19T22:47:45.663Z"
   },
   {
    "duration": 6,
    "start_time": "2022-08-19T22:47:47.533Z"
   },
   {
    "duration": 27,
    "start_time": "2022-08-19T22:50:42.318Z"
   },
   {
    "duration": 7,
    "start_time": "2022-08-19T22:58:45.064Z"
   },
   {
    "duration": 9,
    "start_time": "2022-08-19T22:58:46.283Z"
   },
   {
    "duration": 27,
    "start_time": "2022-08-19T22:59:17.076Z"
   },
   {
    "duration": 4,
    "start_time": "2022-08-19T23:08:42.057Z"
   },
   {
    "duration": 11,
    "start_time": "2022-08-19T23:36:16.416Z"
   },
   {
    "duration": 83,
    "start_time": "2022-08-21T10:09:16.163Z"
   },
   {
    "duration": 118,
    "start_time": "2022-08-21T10:18:24.375Z"
   },
   {
    "duration": 629,
    "start_time": "2022-08-21T10:22:16.842Z"
   },
   {
    "duration": 8,
    "start_time": "2022-08-21T10:23:05.405Z"
   },
   {
    "duration": 17,
    "start_time": "2022-08-21T10:23:06.212Z"
   },
   {
    "duration": 14,
    "start_time": "2022-08-21T10:23:51.861Z"
   },
   {
    "duration": 4,
    "start_time": "2022-08-21T10:23:55.555Z"
   },
   {
    "duration": 36,
    "start_time": "2022-08-21T10:23:56.846Z"
   },
   {
    "duration": 4,
    "start_time": "2022-08-21T10:24:02.504Z"
   },
   {
    "duration": 24,
    "start_time": "2022-08-21T11:05:57.400Z"
   },
   {
    "duration": 9,
    "start_time": "2022-08-21T11:07:17.450Z"
   },
   {
    "duration": 12,
    "start_time": "2022-08-21T11:20:48.582Z"
   },
   {
    "duration": 17,
    "start_time": "2022-08-21T11:26:51.750Z"
   },
   {
    "duration": 527,
    "start_time": "2022-08-21T11:27:11.683Z"
   },
   {
    "duration": 9,
    "start_time": "2022-08-21T11:27:12.212Z"
   },
   {
    "duration": 19,
    "start_time": "2022-08-21T11:27:12.222Z"
   },
   {
    "duration": 28,
    "start_time": "2022-08-21T11:27:12.243Z"
   },
   {
    "duration": 4,
    "start_time": "2022-08-21T11:27:12.273Z"
   },
   {
    "duration": 25,
    "start_time": "2022-08-21T11:27:12.279Z"
   },
   {
    "duration": 4,
    "start_time": "2022-08-21T11:27:12.306Z"
   },
   {
    "duration": 28,
    "start_time": "2022-08-21T11:27:12.311Z"
   },
   {
    "duration": 28,
    "start_time": "2022-08-21T11:27:12.341Z"
   },
   {
    "duration": 9,
    "start_time": "2022-08-21T11:27:12.373Z"
   },
   {
    "duration": 6,
    "start_time": "2022-08-21T11:27:12.384Z"
   },
   {
    "duration": 9,
    "start_time": "2022-08-21T11:27:12.391Z"
   },
   {
    "duration": 9,
    "start_time": "2022-08-21T11:27:12.402Z"
   },
   {
    "duration": 8,
    "start_time": "2022-08-21T11:27:12.412Z"
   },
   {
    "duration": 50,
    "start_time": "2022-08-21T11:27:12.422Z"
   },
   {
    "duration": 10,
    "start_time": "2022-08-21T11:27:12.474Z"
   },
   {
    "duration": 13,
    "start_time": "2022-08-21T11:27:12.487Z"
   },
   {
    "duration": 6,
    "start_time": "2022-08-21T11:27:12.502Z"
   },
   {
    "duration": 18,
    "start_time": "2022-08-21T11:27:12.510Z"
   },
   {
    "duration": 7,
    "start_time": "2022-08-21T11:27:12.567Z"
   },
   {
    "duration": 8,
    "start_time": "2022-08-21T11:27:12.576Z"
   },
   {
    "duration": 9,
    "start_time": "2022-08-21T11:27:12.586Z"
   },
   {
    "duration": 7,
    "start_time": "2022-08-21T11:27:12.597Z"
   },
   {
    "duration": 10,
    "start_time": "2022-08-21T11:27:12.605Z"
   },
   {
    "duration": 6,
    "start_time": "2022-08-21T11:27:12.616Z"
   },
   {
    "duration": 43,
    "start_time": "2022-08-21T11:27:12.626Z"
   },
   {
    "duration": 8,
    "start_time": "2022-08-21T11:27:12.671Z"
   },
   {
    "duration": 7,
    "start_time": "2022-08-21T11:27:12.681Z"
   },
   {
    "duration": 8,
    "start_time": "2022-08-21T11:27:12.690Z"
   },
   {
    "duration": 15,
    "start_time": "2022-08-21T11:27:12.700Z"
   },
   {
    "duration": 7,
    "start_time": "2022-08-21T11:27:12.717Z"
   },
   {
    "duration": 8,
    "start_time": "2022-08-21T11:27:12.725Z"
   },
   {
    "duration": 36,
    "start_time": "2022-08-21T11:27:12.735Z"
   },
   {
    "duration": 8,
    "start_time": "2022-08-21T11:27:12.773Z"
   },
   {
    "duration": 8,
    "start_time": "2022-08-21T11:27:12.782Z"
   },
   {
    "duration": 9,
    "start_time": "2022-08-21T11:27:12.792Z"
   },
   {
    "duration": 20,
    "start_time": "2022-08-21T11:27:12.802Z"
   },
   {
    "duration": 58,
    "start_time": "2022-08-21T11:27:12.824Z"
   },
   {
    "duration": 18,
    "start_time": "2022-08-21T11:27:12.884Z"
   },
   {
    "duration": 4,
    "start_time": "2022-08-21T11:27:12.904Z"
   },
   {
    "duration": 13,
    "start_time": "2022-08-21T11:27:12.910Z"
   },
   {
    "duration": 11,
    "start_time": "2022-08-21T11:27:12.924Z"
   },
   {
    "duration": 3,
    "start_time": "2022-08-21T11:27:12.968Z"
   },
   {
    "duration": 8,
    "start_time": "2022-08-21T11:27:12.973Z"
   },
   {
    "duration": 6,
    "start_time": "2022-08-21T11:27:12.983Z"
   },
   {
    "duration": 3,
    "start_time": "2022-08-21T11:27:12.993Z"
   },
   {
    "duration": 15,
    "start_time": "2022-08-21T11:27:12.998Z"
   },
   {
    "duration": 54,
    "start_time": "2022-08-21T11:27:13.015Z"
   },
   {
    "duration": 7,
    "start_time": "2022-08-21T11:27:13.071Z"
   },
   {
    "duration": 19,
    "start_time": "2022-08-21T11:27:13.080Z"
   },
   {
    "duration": 5,
    "start_time": "2022-08-21T11:27:13.101Z"
   },
   {
    "duration": 5,
    "start_time": "2022-08-21T11:27:13.108Z"
   },
   {
    "duration": 5,
    "start_time": "2022-08-21T11:27:13.114Z"
   },
   {
    "duration": 4,
    "start_time": "2022-08-21T11:27:13.121Z"
   },
   {
    "duration": 45,
    "start_time": "2022-08-21T11:27:13.127Z"
   },
   {
    "duration": 13,
    "start_time": "2022-08-21T11:27:13.174Z"
   },
   {
    "duration": 16,
    "start_time": "2022-08-21T11:27:13.189Z"
   },
   {
    "duration": 12,
    "start_time": "2022-08-21T11:27:13.207Z"
   },
   {
    "duration": 47,
    "start_time": "2022-08-21T11:27:13.221Z"
   },
   {
    "duration": 31,
    "start_time": "2022-08-21T11:27:13.270Z"
   },
   {
    "duration": 4,
    "start_time": "2022-08-21T11:27:13.302Z"
   },
   {
    "duration": 12,
    "start_time": "2022-08-21T11:27:13.308Z"
   },
   {
    "duration": 4,
    "start_time": "2022-08-21T11:27:13.321Z"
   },
   {
    "duration": 46,
    "start_time": "2022-08-21T11:27:13.327Z"
   },
   {
    "duration": 6,
    "start_time": "2022-08-21T11:27:13.376Z"
   },
   {
    "duration": 8,
    "start_time": "2022-08-21T11:27:13.383Z"
   },
   {
    "duration": 5,
    "start_time": "2022-08-21T11:27:13.393Z"
   },
   {
    "duration": 10,
    "start_time": "2022-08-21T11:27:13.400Z"
   },
   {
    "duration": 24,
    "start_time": "2022-08-21T11:27:13.412Z"
   },
   {
    "duration": 47,
    "start_time": "2022-08-21T11:27:13.438Z"
   },
   {
    "duration": 14,
    "start_time": "2022-08-21T11:27:13.486Z"
   },
   {
    "duration": 128,
    "start_time": "2022-08-21T11:27:13.501Z"
   },
   {
    "duration": 8,
    "start_time": "2022-08-21T11:27:13.633Z"
   },
   {
    "duration": 31,
    "start_time": "2022-08-21T11:27:13.643Z"
   },
   {
    "duration": 7,
    "start_time": "2022-08-21T11:27:13.676Z"
   },
   {
    "duration": 8,
    "start_time": "2022-08-21T11:27:13.685Z"
   },
   {
    "duration": 4,
    "start_time": "2022-08-21T11:27:13.694Z"
   },
   {
    "duration": 6,
    "start_time": "2022-08-21T11:27:13.700Z"
   },
   {
    "duration": 11,
    "start_time": "2022-08-21T11:27:13.708Z"
   },
   {
    "duration": 9,
    "start_time": "2022-08-21T11:27:13.721Z"
   },
   {
    "duration": 39,
    "start_time": "2022-08-21T11:27:13.732Z"
   },
   {
    "duration": 22,
    "start_time": "2022-08-21T11:27:13.773Z"
   },
   {
    "duration": 5,
    "start_time": "2022-08-21T11:27:13.798Z"
   },
   {
    "duration": 7,
    "start_time": "2022-08-21T11:27:13.805Z"
   },
   {
    "duration": 33,
    "start_time": "2022-08-21T11:27:13.814Z"
   },
   {
    "duration": 41,
    "start_time": "2022-08-21T11:27:13.849Z"
   },
   {
    "duration": 8,
    "start_time": "2022-08-21T11:27:13.891Z"
   },
   {
    "duration": 11,
    "start_time": "2022-08-21T11:27:13.901Z"
   },
   {
    "duration": 25,
    "start_time": "2022-08-21T11:27:13.913Z"
   },
   {
    "duration": 35,
    "start_time": "2022-08-21T11:27:13.939Z"
   },
   {
    "duration": 4,
    "start_time": "2022-08-21T11:27:13.976Z"
   },
   {
    "duration": 4,
    "start_time": "2022-08-21T11:27:13.982Z"
   },
   {
    "duration": 7,
    "start_time": "2022-08-21T11:27:13.988Z"
   },
   {
    "duration": 595,
    "start_time": "2022-08-24T01:26:29.197Z"
   },
   {
    "duration": 9,
    "start_time": "2022-08-24T01:26:29.794Z"
   },
   {
    "duration": 18,
    "start_time": "2022-08-24T01:26:29.804Z"
   },
   {
    "duration": 15,
    "start_time": "2022-08-24T01:26:29.823Z"
   },
   {
    "duration": 4,
    "start_time": "2022-08-24T01:26:29.839Z"
   },
   {
    "duration": 22,
    "start_time": "2022-08-24T01:26:29.844Z"
   },
   {
    "duration": 20,
    "start_time": "2022-08-24T01:26:29.867Z"
   },
   {
    "duration": 20,
    "start_time": "2022-08-24T01:26:29.889Z"
   },
   {
    "duration": 10,
    "start_time": "2022-08-24T01:26:29.910Z"
   },
   {
    "duration": 6,
    "start_time": "2022-08-24T01:26:29.924Z"
   },
   {
    "duration": 5,
    "start_time": "2022-08-24T01:26:29.932Z"
   },
   {
    "duration": 6,
    "start_time": "2022-08-24T01:26:29.939Z"
   },
   {
    "duration": 42,
    "start_time": "2022-08-24T01:26:29.947Z"
   },
   {
    "duration": 7,
    "start_time": "2022-08-24T01:26:29.991Z"
   },
   {
    "duration": 10,
    "start_time": "2022-08-24T01:26:30.000Z"
   },
   {
    "duration": 17,
    "start_time": "2022-08-24T01:26:30.011Z"
   },
   {
    "duration": 14,
    "start_time": "2022-08-24T01:26:30.030Z"
   },
   {
    "duration": 19,
    "start_time": "2022-08-24T01:26:30.047Z"
   },
   {
    "duration": 26,
    "start_time": "2022-08-24T01:26:30.068Z"
   },
   {
    "duration": 19,
    "start_time": "2022-08-24T01:26:30.095Z"
   },
   {
    "duration": 8,
    "start_time": "2022-08-24T01:26:30.115Z"
   },
   {
    "duration": 16,
    "start_time": "2022-08-24T01:26:30.125Z"
   },
   {
    "duration": 7,
    "start_time": "2022-08-24T01:26:30.143Z"
   },
   {
    "duration": 22,
    "start_time": "2022-08-24T01:26:30.152Z"
   },
   {
    "duration": 19,
    "start_time": "2022-08-24T01:26:30.176Z"
   },
   {
    "duration": 12,
    "start_time": "2022-08-24T01:26:30.197Z"
   },
   {
    "duration": 9,
    "start_time": "2022-08-24T01:26:30.210Z"
   },
   {
    "duration": 7,
    "start_time": "2022-08-24T01:26:30.224Z"
   },
   {
    "duration": 7,
    "start_time": "2022-08-24T01:26:30.233Z"
   },
   {
    "duration": 13,
    "start_time": "2022-08-24T01:26:30.241Z"
   },
   {
    "duration": 5,
    "start_time": "2022-08-24T01:26:30.256Z"
   },
   {
    "duration": 8,
    "start_time": "2022-08-24T01:26:30.263Z"
   },
   {
    "duration": 6,
    "start_time": "2022-08-24T01:26:30.272Z"
   },
   {
    "duration": 6,
    "start_time": "2022-08-24T01:26:30.286Z"
   },
   {
    "duration": 11,
    "start_time": "2022-08-24T01:26:30.294Z"
   },
   {
    "duration": 11,
    "start_time": "2022-08-24T01:26:30.306Z"
   },
   {
    "duration": 18,
    "start_time": "2022-08-24T01:26:30.319Z"
   },
   {
    "duration": 17,
    "start_time": "2022-08-24T01:26:30.339Z"
   },
   {
    "duration": 38,
    "start_time": "2022-08-24T01:26:30.358Z"
   },
   {
    "duration": 4,
    "start_time": "2022-08-24T01:26:30.398Z"
   },
   {
    "duration": 25,
    "start_time": "2022-08-24T01:26:30.404Z"
   },
   {
    "duration": 15,
    "start_time": "2022-08-24T01:26:30.430Z"
   },
   {
    "duration": 7,
    "start_time": "2022-08-24T01:26:30.447Z"
   },
   {
    "duration": 22,
    "start_time": "2022-08-24T01:26:30.456Z"
   },
   {
    "duration": 24,
    "start_time": "2022-08-24T01:26:30.480Z"
   },
   {
    "duration": 11,
    "start_time": "2022-08-24T01:26:30.507Z"
   },
   {
    "duration": 26,
    "start_time": "2022-08-24T01:26:30.520Z"
   },
   {
    "duration": 34,
    "start_time": "2022-08-24T01:26:30.548Z"
   },
   {
    "duration": 26,
    "start_time": "2022-08-24T01:26:30.584Z"
   },
   {
    "duration": 37,
    "start_time": "2022-08-24T01:26:30.612Z"
   },
   {
    "duration": 7,
    "start_time": "2022-08-24T01:26:30.651Z"
   },
   {
    "duration": 31,
    "start_time": "2022-08-24T01:26:30.659Z"
   },
   {
    "duration": 29,
    "start_time": "2022-08-24T01:26:30.691Z"
   },
   {
    "duration": 19,
    "start_time": "2022-08-24T01:26:30.722Z"
   },
   {
    "duration": 25,
    "start_time": "2022-08-24T01:26:30.743Z"
   },
   {
    "duration": 19,
    "start_time": "2022-08-24T01:26:30.770Z"
   },
   {
    "duration": 27,
    "start_time": "2022-08-24T01:26:30.790Z"
   },
   {
    "duration": 11,
    "start_time": "2022-08-24T01:26:30.818Z"
   },
   {
    "duration": 23,
    "start_time": "2022-08-24T01:26:30.830Z"
   },
   {
    "duration": 40,
    "start_time": "2022-08-24T01:26:30.854Z"
   },
   {
    "duration": 4,
    "start_time": "2022-08-24T01:26:30.895Z"
   },
   {
    "duration": 40,
    "start_time": "2022-08-24T01:26:30.900Z"
   },
   {
    "duration": 28,
    "start_time": "2022-08-24T01:26:30.941Z"
   },
   {
    "duration": 90,
    "start_time": "2022-08-24T01:26:30.971Z"
   },
   {
    "duration": 38,
    "start_time": "2022-08-24T01:26:31.063Z"
   },
   {
    "duration": 28,
    "start_time": "2022-08-24T01:26:31.103Z"
   },
   {
    "duration": 11,
    "start_time": "2022-08-24T01:26:31.133Z"
   },
   {
    "duration": 11,
    "start_time": "2022-08-24T01:26:31.146Z"
   },
   {
    "duration": 28,
    "start_time": "2022-08-24T01:26:31.159Z"
   },
   {
    "duration": 28,
    "start_time": "2022-08-24T01:26:31.189Z"
   },
   {
    "duration": 24,
    "start_time": "2022-08-24T01:26:31.218Z"
   },
   {
    "duration": 114,
    "start_time": "2022-08-24T01:26:31.244Z"
   },
   {
    "duration": 8,
    "start_time": "2022-08-24T01:26:31.359Z"
   },
   {
    "duration": 18,
    "start_time": "2022-08-24T01:26:31.368Z"
   },
   {
    "duration": 6,
    "start_time": "2022-08-24T01:26:31.388Z"
   },
   {
    "duration": 12,
    "start_time": "2022-08-24T01:26:31.395Z"
   },
   {
    "duration": 5,
    "start_time": "2022-08-24T01:26:31.409Z"
   },
   {
    "duration": 5,
    "start_time": "2022-08-24T01:26:31.416Z"
   },
   {
    "duration": 14,
    "start_time": "2022-08-24T01:26:31.423Z"
   },
   {
    "duration": 6,
    "start_time": "2022-08-24T01:26:31.439Z"
   },
   {
    "duration": 7,
    "start_time": "2022-08-24T01:26:31.446Z"
   },
   {
    "duration": 38,
    "start_time": "2022-08-24T01:26:31.457Z"
   },
   {
    "duration": 5,
    "start_time": "2022-08-24T01:26:31.496Z"
   },
   {
    "duration": 7,
    "start_time": "2022-08-24T01:26:31.503Z"
   },
   {
    "duration": 13,
    "start_time": "2022-08-24T01:26:31.511Z"
   },
   {
    "duration": 28,
    "start_time": "2022-08-24T01:26:31.525Z"
   },
   {
    "duration": 35,
    "start_time": "2022-08-24T01:26:31.555Z"
   },
   {
    "duration": 9,
    "start_time": "2022-08-24T01:26:31.591Z"
   },
   {
    "duration": 23,
    "start_time": "2022-08-24T01:26:31.602Z"
   },
   {
    "duration": 9,
    "start_time": "2022-08-24T01:26:31.627Z"
   },
   {
    "duration": 10,
    "start_time": "2022-08-24T01:26:31.638Z"
   },
   {
    "duration": 6,
    "start_time": "2022-08-24T01:26:31.650Z"
   },
   {
    "duration": 13,
    "start_time": "2022-08-24T01:26:31.658Z"
   },
   {
    "duration": 2,
    "start_time": "2022-08-24T01:26:31.686Z"
   },
   {
    "duration": 3,
    "start_time": "2022-08-24T01:27:00.714Z"
   },
   {
    "duration": 998,
    "start_time": "2022-08-24T01:34:44.431Z"
   },
   {
    "duration": 6,
    "start_time": "2022-08-24T01:36:11.958Z"
   },
   {
    "duration": 10,
    "start_time": "2022-08-24T01:46:25.983Z"
   },
   {
    "duration": 357,
    "start_time": "2022-08-24T01:55:36.443Z"
   },
   {
    "duration": 355,
    "start_time": "2022-08-24T01:55:49.167Z"
   },
   {
    "duration": 391,
    "start_time": "2022-08-24T01:55:59.468Z"
   },
   {
    "duration": 6,
    "start_time": "2022-08-24T02:14:14.551Z"
   },
   {
    "duration": 4,
    "start_time": "2022-08-24T02:14:22.925Z"
   },
   {
    "duration": 4,
    "start_time": "2022-08-24T02:14:38.052Z"
   },
   {
    "duration": 25,
    "start_time": "2022-08-24T02:17:13.633Z"
   },
   {
    "duration": 11,
    "start_time": "2022-08-24T02:17:36.034Z"
   },
   {
    "duration": 10,
    "start_time": "2022-08-24T02:18:31.729Z"
   },
   {
    "duration": 7,
    "start_time": "2022-08-24T02:20:22.834Z"
   },
   {
    "duration": 7,
    "start_time": "2022-08-24T02:20:50.749Z"
   },
   {
    "duration": 4,
    "start_time": "2022-08-24T02:22:28.903Z"
   },
   {
    "duration": 7,
    "start_time": "2022-08-24T02:24:53.427Z"
   },
   {
    "duration": 6,
    "start_time": "2022-08-24T02:29:05.938Z"
   },
   {
    "duration": 18,
    "start_time": "2022-08-24T02:37:16.869Z"
   },
   {
    "duration": 16,
    "start_time": "2022-08-24T02:38:41.889Z"
   },
   {
    "duration": 18,
    "start_time": "2022-08-24T02:41:33.706Z"
   },
   {
    "duration": 6,
    "start_time": "2022-08-24T02:49:21.383Z"
   },
   {
    "duration": 6,
    "start_time": "2022-08-24T02:50:42.363Z"
   },
   {
    "duration": 6,
    "start_time": "2022-08-24T02:50:51.643Z"
   },
   {
    "duration": 8,
    "start_time": "2022-08-24T02:54:11.292Z"
   },
   {
    "duration": 8,
    "start_time": "2022-08-24T02:54:40.168Z"
   },
   {
    "duration": 25,
    "start_time": "2022-08-24T02:55:06.908Z"
   },
   {
    "duration": 8,
    "start_time": "2022-08-24T02:59:13.704Z"
   },
   {
    "duration": 7,
    "start_time": "2022-08-24T02:59:31.704Z"
   },
   {
    "duration": 7,
    "start_time": "2022-08-24T02:59:58.890Z"
   },
   {
    "duration": 4,
    "start_time": "2022-08-24T03:04:52.832Z"
   },
   {
    "duration": 4,
    "start_time": "2022-08-24T03:09:25.615Z"
   },
   {
    "duration": 9,
    "start_time": "2022-08-24T03:10:32.957Z"
   },
   {
    "duration": 8,
    "start_time": "2022-08-24T03:12:16.141Z"
   },
   {
    "duration": 8,
    "start_time": "2022-08-24T03:13:57.228Z"
   },
   {
    "duration": 7,
    "start_time": "2022-08-24T03:17:38.270Z"
   },
   {
    "duration": 7,
    "start_time": "2022-08-24T03:19:46.271Z"
   },
   {
    "duration": 8,
    "start_time": "2022-08-24T03:19:55.819Z"
   },
   {
    "duration": 16,
    "start_time": "2022-08-24T03:50:06.359Z"
   },
   {
    "duration": 17,
    "start_time": "2022-08-24T03:50:21.974Z"
   },
   {
    "duration": 20,
    "start_time": "2022-08-24T03:50:47.603Z"
   },
   {
    "duration": 22,
    "start_time": "2022-08-24T03:53:11.040Z"
   },
   {
    "duration": 16,
    "start_time": "2022-08-24T03:55:33.238Z"
   },
   {
    "duration": 7,
    "start_time": "2022-08-24T03:55:34.988Z"
   },
   {
    "duration": 10,
    "start_time": "2022-08-24T03:55:36.285Z"
   },
   {
    "duration": 17,
    "start_time": "2022-08-24T03:56:04.137Z"
   },
   {
    "duration": 4,
    "start_time": "2022-08-24T04:03:15.635Z"
   },
   {
    "duration": 8,
    "start_time": "2022-08-24T04:05:02.623Z"
   },
   {
    "duration": 9,
    "start_time": "2022-08-24T04:05:18.749Z"
   },
   {
    "duration": 7,
    "start_time": "2022-08-24T04:06:12.603Z"
   },
   {
    "duration": 7,
    "start_time": "2022-08-24T04:07:20.995Z"
   },
   {
    "duration": 9,
    "start_time": "2022-08-24T04:15:58.770Z"
   },
   {
    "duration": 7,
    "start_time": "2022-08-24T04:17:42.064Z"
   },
   {
    "duration": 8,
    "start_time": "2022-08-24T04:20:42.227Z"
   },
   {
    "duration": 8,
    "start_time": "2022-08-24T04:24:06.824Z"
   },
   {
    "duration": 7,
    "start_time": "2022-08-24T04:24:16.882Z"
   },
   {
    "duration": 8,
    "start_time": "2022-08-24T04:24:47.646Z"
   },
   {
    "duration": 8,
    "start_time": "2022-08-24T04:24:59.924Z"
   },
   {
    "duration": 7,
    "start_time": "2022-08-24T04:28:29.942Z"
   },
   {
    "duration": 53,
    "start_time": "2022-08-24T04:40:16.674Z"
   },
   {
    "duration": 23,
    "start_time": "2022-08-24T04:42:00.535Z"
   },
   {
    "duration": 19,
    "start_time": "2022-08-24T04:45:48.028Z"
   },
   {
    "duration": 7,
    "start_time": "2022-08-24T04:52:51.143Z"
   },
   {
    "duration": 7,
    "start_time": "2022-08-24T04:53:02.247Z"
   },
   {
    "duration": 7,
    "start_time": "2022-08-24T04:53:25.308Z"
   },
   {
    "duration": 445,
    "start_time": "2022-08-24T04:53:48.722Z"
   },
   {
    "duration": 8,
    "start_time": "2022-08-24T04:53:49.169Z"
   },
   {
    "duration": 17,
    "start_time": "2022-08-24T04:53:49.178Z"
   },
   {
    "duration": 14,
    "start_time": "2022-08-24T04:53:49.197Z"
   },
   {
    "duration": 4,
    "start_time": "2022-08-24T04:53:49.212Z"
   },
   {
    "duration": 20,
    "start_time": "2022-08-24T04:53:49.218Z"
   },
   {
    "duration": 2,
    "start_time": "2022-08-24T04:53:49.240Z"
   },
   {
    "duration": 50,
    "start_time": "2022-08-24T04:53:49.244Z"
   },
   {
    "duration": 14,
    "start_time": "2022-08-24T04:53:49.295Z"
   },
   {
    "duration": 8,
    "start_time": "2022-08-24T04:53:49.312Z"
   },
   {
    "duration": 8,
    "start_time": "2022-08-24T04:53:49.321Z"
   },
   {
    "duration": 8,
    "start_time": "2022-08-24T04:53:49.330Z"
   },
   {
    "duration": 10,
    "start_time": "2022-08-24T04:53:49.339Z"
   },
   {
    "duration": 8,
    "start_time": "2022-08-24T04:53:49.350Z"
   },
   {
    "duration": 28,
    "start_time": "2022-08-24T04:53:49.360Z"
   },
   {
    "duration": 9,
    "start_time": "2022-08-24T04:53:49.390Z"
   },
   {
    "duration": 9,
    "start_time": "2022-08-24T04:53:49.401Z"
   },
   {
    "duration": 10,
    "start_time": "2022-08-24T04:53:49.412Z"
   },
   {
    "duration": 18,
    "start_time": "2022-08-24T04:53:49.423Z"
   },
   {
    "duration": 7,
    "start_time": "2022-08-24T04:53:49.442Z"
   },
   {
    "duration": 9,
    "start_time": "2022-08-24T04:53:49.450Z"
   },
   {
    "duration": 29,
    "start_time": "2022-08-24T04:53:49.461Z"
   },
   {
    "duration": 5,
    "start_time": "2022-08-24T04:53:49.491Z"
   },
   {
    "duration": 6,
    "start_time": "2022-08-24T04:53:49.498Z"
   },
   {
    "duration": 4,
    "start_time": "2022-08-24T04:53:49.506Z"
   },
   {
    "duration": 4,
    "start_time": "2022-08-24T04:53:49.511Z"
   },
   {
    "duration": 6,
    "start_time": "2022-08-24T04:53:49.517Z"
   },
   {
    "duration": 4,
    "start_time": "2022-08-24T04:53:49.526Z"
   },
   {
    "duration": 6,
    "start_time": "2022-08-24T04:53:49.532Z"
   },
   {
    "duration": 11,
    "start_time": "2022-08-24T04:53:49.539Z"
   },
   {
    "duration": 40,
    "start_time": "2022-08-24T04:53:49.551Z"
   },
   {
    "duration": 7,
    "start_time": "2022-08-24T04:53:49.593Z"
   },
   {
    "duration": 6,
    "start_time": "2022-08-24T04:53:49.601Z"
   },
   {
    "duration": 8,
    "start_time": "2022-08-24T04:53:49.608Z"
   },
   {
    "duration": 7,
    "start_time": "2022-08-24T04:53:49.618Z"
   },
   {
    "duration": 7,
    "start_time": "2022-08-24T04:53:49.627Z"
   },
   {
    "duration": 17,
    "start_time": "2022-08-24T04:53:49.636Z"
   },
   {
    "duration": 48,
    "start_time": "2022-08-24T04:53:49.654Z"
   },
   {
    "duration": 15,
    "start_time": "2022-08-24T04:53:49.703Z"
   },
   {
    "duration": 3,
    "start_time": "2022-08-24T04:53:49.720Z"
   },
   {
    "duration": 13,
    "start_time": "2022-08-24T04:53:49.724Z"
   },
   {
    "duration": 9,
    "start_time": "2022-08-24T04:53:49.738Z"
   },
   {
    "duration": 3,
    "start_time": "2022-08-24T04:53:49.748Z"
   },
   {
    "duration": 36,
    "start_time": "2022-08-24T04:53:49.753Z"
   },
   {
    "duration": 6,
    "start_time": "2022-08-24T04:53:49.790Z"
   },
   {
    "duration": 4,
    "start_time": "2022-08-24T04:53:49.798Z"
   },
   {
    "duration": 12,
    "start_time": "2022-08-24T04:53:49.804Z"
   },
   {
    "duration": 19,
    "start_time": "2022-08-24T04:53:49.818Z"
   },
   {
    "duration": 6,
    "start_time": "2022-08-24T04:53:49.839Z"
   },
   {
    "duration": 47,
    "start_time": "2022-08-24T04:53:49.847Z"
   },
   {
    "duration": 4,
    "start_time": "2022-08-24T04:53:49.896Z"
   },
   {
    "duration": 9,
    "start_time": "2022-08-24T04:53:49.902Z"
   },
   {
    "duration": 8,
    "start_time": "2022-08-24T04:53:49.912Z"
   },
   {
    "duration": 7,
    "start_time": "2022-08-24T04:53:49.922Z"
   },
   {
    "duration": 10,
    "start_time": "2022-08-24T04:53:49.931Z"
   },
   {
    "duration": 7,
    "start_time": "2022-08-24T04:53:49.942Z"
   },
   {
    "duration": 14,
    "start_time": "2022-08-24T04:53:49.950Z"
   },
   {
    "duration": 28,
    "start_time": "2022-08-24T04:53:49.965Z"
   },
   {
    "duration": 8,
    "start_time": "2022-08-24T04:53:49.995Z"
   },
   {
    "duration": 33,
    "start_time": "2022-08-24T04:53:50.005Z"
   },
   {
    "duration": 3,
    "start_time": "2022-08-24T04:53:50.040Z"
   },
   {
    "duration": 13,
    "start_time": "2022-08-24T04:53:50.045Z"
   },
   {
    "duration": 27,
    "start_time": "2022-08-24T04:53:50.060Z"
   },
   {
    "duration": 16,
    "start_time": "2022-08-24T04:53:50.089Z"
   },
   {
    "duration": 4,
    "start_time": "2022-08-24T04:53:50.106Z"
   },
   {
    "duration": 7,
    "start_time": "2022-08-24T04:53:50.111Z"
   },
   {
    "duration": 5,
    "start_time": "2022-08-24T04:53:50.119Z"
   },
   {
    "duration": 5,
    "start_time": "2022-08-24T04:53:50.126Z"
   },
   {
    "duration": 21,
    "start_time": "2022-08-24T04:53:50.133Z"
   },
   {
    "duration": 39,
    "start_time": "2022-08-24T04:53:50.155Z"
   },
   {
    "duration": 11,
    "start_time": "2022-08-24T04:53:50.195Z"
   },
   {
    "duration": 103,
    "start_time": "2022-08-24T04:53:50.207Z"
   },
   {
    "duration": 8,
    "start_time": "2022-08-24T04:53:50.311Z"
   },
   {
    "duration": 14,
    "start_time": "2022-08-24T04:53:50.320Z"
   },
   {
    "duration": 6,
    "start_time": "2022-08-24T04:53:50.335Z"
   },
   {
    "duration": 18,
    "start_time": "2022-08-24T04:53:50.343Z"
   },
   {
    "duration": 18,
    "start_time": "2022-08-24T04:53:50.363Z"
   },
   {
    "duration": 25,
    "start_time": "2022-08-24T04:53:50.386Z"
   },
   {
    "duration": 27,
    "start_time": "2022-08-24T04:53:50.413Z"
   },
   {
    "duration": 28,
    "start_time": "2022-08-24T04:53:50.441Z"
   },
   {
    "duration": 19,
    "start_time": "2022-08-24T04:53:50.470Z"
   },
   {
    "duration": 46,
    "start_time": "2022-08-24T04:53:50.493Z"
   },
   {
    "duration": 15,
    "start_time": "2022-08-24T04:53:50.540Z"
   },
   {
    "duration": 10,
    "start_time": "2022-08-24T04:53:50.556Z"
   },
   {
    "duration": 34,
    "start_time": "2022-08-24T04:53:50.568Z"
   },
   {
    "duration": 68,
    "start_time": "2022-08-24T04:53:50.603Z"
   },
   {
    "duration": 22,
    "start_time": "2022-08-24T04:53:50.672Z"
   },
   {
    "duration": 42,
    "start_time": "2022-08-24T04:53:50.695Z"
   },
   {
    "duration": 38,
    "start_time": "2022-08-24T04:53:50.738Z"
   },
   {
    "duration": 12,
    "start_time": "2022-08-24T04:53:50.777Z"
   },
   {
    "duration": 19,
    "start_time": "2022-08-24T04:53:50.790Z"
   },
   {
    "duration": 22,
    "start_time": "2022-08-24T04:53:50.810Z"
   },
   {
    "duration": 8,
    "start_time": "2022-08-24T04:53:50.833Z"
   },
   {
    "duration": 30,
    "start_time": "2022-08-24T04:53:50.842Z"
   },
   {
    "duration": 15,
    "start_time": "2022-08-24T04:53:50.873Z"
   },
   {
    "duration": 17,
    "start_time": "2022-08-24T04:53:50.889Z"
   },
   {
    "duration": 31,
    "start_time": "2022-08-24T04:53:50.907Z"
   },
   {
    "duration": 26,
    "start_time": "2022-08-24T04:53:50.940Z"
   },
   {
    "duration": 7,
    "start_time": "2022-08-24T04:53:50.967Z"
   },
   {
    "duration": 29,
    "start_time": "2022-08-24T04:53:50.975Z"
   },
   {
    "duration": 4,
    "start_time": "2022-08-24T04:54:39.058Z"
   },
   {
    "duration": 7,
    "start_time": "2022-08-24T04:55:11.468Z"
   },
   {
    "duration": 8,
    "start_time": "2022-08-24T04:57:22.109Z"
   },
   {
    "duration": 8,
    "start_time": "2022-08-24T04:57:32.007Z"
   },
   {
    "duration": 7,
    "start_time": "2022-08-24T04:58:58.580Z"
   },
   {
    "duration": 9,
    "start_time": "2022-08-24T04:59:56.432Z"
   },
   {
    "duration": 7,
    "start_time": "2022-08-24T05:00:56.092Z"
   },
   {
    "duration": 8,
    "start_time": "2022-08-24T05:01:49.617Z"
   },
   {
    "duration": 8,
    "start_time": "2022-08-24T05:04:10.391Z"
   },
   {
    "duration": 473,
    "start_time": "2022-08-24T05:22:52.204Z"
   },
   {
    "duration": 9,
    "start_time": "2022-08-24T05:22:52.679Z"
   },
   {
    "duration": 17,
    "start_time": "2022-08-24T05:22:52.690Z"
   },
   {
    "duration": 15,
    "start_time": "2022-08-24T05:22:52.709Z"
   },
   {
    "duration": 3,
    "start_time": "2022-08-24T05:22:52.726Z"
   },
   {
    "duration": 24,
    "start_time": "2022-08-24T05:22:52.731Z"
   },
   {
    "duration": 3,
    "start_time": "2022-08-24T05:22:52.756Z"
   },
   {
    "duration": 32,
    "start_time": "2022-08-24T05:22:52.787Z"
   },
   {
    "duration": 8,
    "start_time": "2022-08-24T05:22:52.820Z"
   },
   {
    "duration": 7,
    "start_time": "2022-08-24T05:22:52.832Z"
   },
   {
    "duration": 9,
    "start_time": "2022-08-24T05:22:52.841Z"
   },
   {
    "duration": 10,
    "start_time": "2022-08-24T05:22:52.852Z"
   },
   {
    "duration": 9,
    "start_time": "2022-08-24T05:22:52.887Z"
   },
   {
    "duration": 7,
    "start_time": "2022-08-24T05:22:52.898Z"
   },
   {
    "duration": 11,
    "start_time": "2022-08-24T05:22:52.906Z"
   },
   {
    "duration": 7,
    "start_time": "2022-08-24T05:22:52.918Z"
   },
   {
    "duration": 9,
    "start_time": "2022-08-24T05:22:52.926Z"
   },
   {
    "duration": 16,
    "start_time": "2022-08-24T05:22:52.936Z"
   },
   {
    "duration": 34,
    "start_time": "2022-08-24T05:22:52.953Z"
   },
   {
    "duration": 6,
    "start_time": "2022-08-24T05:22:52.989Z"
   },
   {
    "duration": 8,
    "start_time": "2022-08-24T05:22:52.996Z"
   },
   {
    "duration": 10,
    "start_time": "2022-08-24T05:22:53.005Z"
   },
   {
    "duration": 13,
    "start_time": "2022-08-24T05:22:53.016Z"
   },
   {
    "duration": 8,
    "start_time": "2022-08-24T05:22:53.030Z"
   },
   {
    "duration": 4,
    "start_time": "2022-08-24T05:22:53.039Z"
   },
   {
    "duration": 18,
    "start_time": "2022-08-24T05:22:53.044Z"
   },
   {
    "duration": 8,
    "start_time": "2022-08-24T05:22:53.064Z"
   },
   {
    "duration": 7,
    "start_time": "2022-08-24T05:22:53.086Z"
   },
   {
    "duration": 12,
    "start_time": "2022-08-24T05:22:53.094Z"
   },
   {
    "duration": 9,
    "start_time": "2022-08-24T05:22:53.107Z"
   },
   {
    "duration": 6,
    "start_time": "2022-08-24T05:22:53.118Z"
   },
   {
    "duration": 7,
    "start_time": "2022-08-24T05:22:53.126Z"
   },
   {
    "duration": 7,
    "start_time": "2022-08-24T05:22:53.134Z"
   },
   {
    "duration": 7,
    "start_time": "2022-08-24T05:22:53.142Z"
   },
   {
    "duration": 12,
    "start_time": "2022-08-24T05:22:53.150Z"
   },
   {
    "duration": 27,
    "start_time": "2022-08-24T05:22:53.163Z"
   },
   {
    "duration": 19,
    "start_time": "2022-08-24T05:22:53.191Z"
   },
   {
    "duration": 15,
    "start_time": "2022-08-24T05:22:53.211Z"
   },
   {
    "duration": 14,
    "start_time": "2022-08-24T05:22:53.228Z"
   },
   {
    "duration": 4,
    "start_time": "2022-08-24T05:22:53.244Z"
   },
   {
    "duration": 38,
    "start_time": "2022-08-24T05:22:53.249Z"
   },
   {
    "duration": 9,
    "start_time": "2022-08-24T05:22:53.289Z"
   },
   {
    "duration": 3,
    "start_time": "2022-08-24T05:22:53.300Z"
   },
   {
    "duration": 8,
    "start_time": "2022-08-24T05:22:53.304Z"
   },
   {
    "duration": 6,
    "start_time": "2022-08-24T05:22:53.313Z"
   },
   {
    "duration": 4,
    "start_time": "2022-08-24T05:22:53.320Z"
   },
   {
    "duration": 13,
    "start_time": "2022-08-24T05:22:53.326Z"
   },
   {
    "duration": 47,
    "start_time": "2022-08-24T05:22:53.340Z"
   },
   {
    "duration": 6,
    "start_time": "2022-08-24T05:22:53.389Z"
   },
   {
    "duration": 20,
    "start_time": "2022-08-24T05:22:53.397Z"
   },
   {
    "duration": 5,
    "start_time": "2022-08-24T05:22:53.418Z"
   },
   {
    "duration": 6,
    "start_time": "2022-08-24T05:22:53.424Z"
   },
   {
    "duration": 5,
    "start_time": "2022-08-24T05:22:53.432Z"
   },
   {
    "duration": 5,
    "start_time": "2022-08-24T05:22:53.438Z"
   },
   {
    "duration": 10,
    "start_time": "2022-08-24T05:22:53.444Z"
   },
   {
    "duration": 34,
    "start_time": "2022-08-24T05:22:53.455Z"
   },
   {
    "duration": 12,
    "start_time": "2022-08-24T05:22:53.490Z"
   },
   {
    "duration": 10,
    "start_time": "2022-08-24T05:22:53.503Z"
   },
   {
    "duration": 10,
    "start_time": "2022-08-24T05:22:53.514Z"
   },
   {
    "duration": 26,
    "start_time": "2022-08-24T05:22:53.525Z"
   },
   {
    "duration": 3,
    "start_time": "2022-08-24T05:22:53.552Z"
   },
   {
    "duration": 8,
    "start_time": "2022-08-24T05:22:53.586Z"
   },
   {
    "duration": 3,
    "start_time": "2022-08-24T05:22:53.595Z"
   },
   {
    "duration": 16,
    "start_time": "2022-08-24T05:22:53.600Z"
   },
   {
    "duration": 4,
    "start_time": "2022-08-24T05:22:53.617Z"
   },
   {
    "duration": 7,
    "start_time": "2022-08-24T05:22:53.623Z"
   },
   {
    "duration": 4,
    "start_time": "2022-08-24T05:22:53.631Z"
   },
   {
    "duration": 6,
    "start_time": "2022-08-24T05:22:53.637Z"
   },
   {
    "duration": 50,
    "start_time": "2022-08-24T05:22:53.645Z"
   },
   {
    "duration": 10,
    "start_time": "2022-08-24T05:22:53.697Z"
   },
   {
    "duration": 11,
    "start_time": "2022-08-24T05:22:53.709Z"
   },
   {
    "duration": 120,
    "start_time": "2022-08-24T05:22:53.721Z"
   },
   {
    "duration": 10,
    "start_time": "2022-08-24T05:22:53.842Z"
   },
   {
    "duration": 14,
    "start_time": "2022-08-24T05:22:53.854Z"
   },
   {
    "duration": 21,
    "start_time": "2022-08-24T05:22:53.870Z"
   },
   {
    "duration": 9,
    "start_time": "2022-08-24T05:22:53.892Z"
   },
   {
    "duration": 4,
    "start_time": "2022-08-24T05:22:53.902Z"
   },
   {
    "duration": 7,
    "start_time": "2022-08-24T05:22:53.907Z"
   },
   {
    "duration": 10,
    "start_time": "2022-08-24T05:22:53.915Z"
   },
   {
    "duration": 5,
    "start_time": "2022-08-24T05:22:53.927Z"
   },
   {
    "duration": 10,
    "start_time": "2022-08-24T05:22:53.934Z"
   },
   {
    "duration": 46,
    "start_time": "2022-08-24T05:22:53.949Z"
   },
   {
    "duration": 5,
    "start_time": "2022-08-24T05:22:53.997Z"
   },
   {
    "duration": 6,
    "start_time": "2022-08-24T05:22:54.004Z"
   },
   {
    "duration": 9,
    "start_time": "2022-08-24T05:22:54.012Z"
   },
   {
    "duration": 29,
    "start_time": "2022-08-24T05:22:54.023Z"
   },
   {
    "duration": 37,
    "start_time": "2022-08-24T05:22:54.053Z"
   },
   {
    "duration": 5,
    "start_time": "2022-08-24T05:22:54.092Z"
   },
   {
    "duration": 23,
    "start_time": "2022-08-24T05:22:54.098Z"
   },
   {
    "duration": 7,
    "start_time": "2022-08-24T05:22:54.122Z"
   },
   {
    "duration": 9,
    "start_time": "2022-08-24T05:22:54.131Z"
   },
   {
    "duration": 19,
    "start_time": "2022-08-24T05:22:54.141Z"
   },
   {
    "duration": 29,
    "start_time": "2022-08-24T05:22:54.161Z"
   },
   {
    "duration": 9,
    "start_time": "2022-08-24T05:22:54.191Z"
   },
   {
    "duration": 11,
    "start_time": "2022-08-24T05:22:54.201Z"
   },
   {
    "duration": 8,
    "start_time": "2022-08-24T05:22:54.213Z"
   },
   {
    "duration": 8,
    "start_time": "2022-08-24T05:22:54.223Z"
   },
   {
    "duration": 23,
    "start_time": "2022-08-24T05:22:54.233Z"
   },
   {
    "duration": 33,
    "start_time": "2022-08-24T05:22:54.257Z"
   },
   {
    "duration": 9,
    "start_time": "2022-08-24T05:22:54.292Z"
   },
   {
    "duration": 8,
    "start_time": "2022-08-24T05:22:54.303Z"
   },
   {
    "duration": 10,
    "start_time": "2022-08-24T05:22:54.312Z"
   },
   {
    "duration": 8,
    "start_time": "2022-08-24T05:22:54.323Z"
   },
   {
    "duration": 18,
    "start_time": "2022-08-24T05:22:54.333Z"
   },
   {
    "duration": 21,
    "start_time": "2022-08-24T05:27:26.357Z"
   },
   {
    "duration": 16,
    "start_time": "2022-08-24T05:29:17.416Z"
   },
   {
    "duration": 691,
    "start_time": "2022-08-24T08:43:04.937Z"
   },
   {
    "duration": 8,
    "start_time": "2022-08-24T08:43:05.630Z"
   },
   {
    "duration": 23,
    "start_time": "2022-08-24T08:43:05.639Z"
   },
   {
    "duration": 14,
    "start_time": "2022-08-24T08:43:05.665Z"
   },
   {
    "duration": 4,
    "start_time": "2022-08-24T08:43:05.680Z"
   },
   {
    "duration": 33,
    "start_time": "2022-08-24T08:43:05.685Z"
   },
   {
    "duration": 3,
    "start_time": "2022-08-24T08:43:05.719Z"
   },
   {
    "duration": 24,
    "start_time": "2022-08-24T08:43:05.723Z"
   },
   {
    "duration": 15,
    "start_time": "2022-08-24T08:43:05.748Z"
   },
   {
    "duration": 8,
    "start_time": "2022-08-24T08:43:05.767Z"
   },
   {
    "duration": 9,
    "start_time": "2022-08-24T08:43:05.776Z"
   },
   {
    "duration": 15,
    "start_time": "2022-08-24T08:43:05.786Z"
   },
   {
    "duration": 19,
    "start_time": "2022-08-24T08:43:05.803Z"
   },
   {
    "duration": 25,
    "start_time": "2022-08-24T08:43:05.823Z"
   },
   {
    "duration": 23,
    "start_time": "2022-08-24T08:43:05.850Z"
   },
   {
    "duration": 26,
    "start_time": "2022-08-24T08:43:05.875Z"
   },
   {
    "duration": 20,
    "start_time": "2022-08-24T08:43:05.902Z"
   },
   {
    "duration": 7,
    "start_time": "2022-08-24T08:43:05.923Z"
   },
   {
    "duration": 30,
    "start_time": "2022-08-24T08:43:05.931Z"
   },
   {
    "duration": 30,
    "start_time": "2022-08-24T08:43:05.962Z"
   },
   {
    "duration": 21,
    "start_time": "2022-08-24T08:43:05.993Z"
   },
   {
    "duration": 24,
    "start_time": "2022-08-24T08:43:06.015Z"
   },
   {
    "duration": 19,
    "start_time": "2022-08-24T08:43:06.040Z"
   },
   {
    "duration": 21,
    "start_time": "2022-08-24T08:43:06.060Z"
   },
   {
    "duration": 18,
    "start_time": "2022-08-24T08:43:06.082Z"
   },
   {
    "duration": 13,
    "start_time": "2022-08-24T08:43:06.102Z"
   },
   {
    "duration": 25,
    "start_time": "2022-08-24T08:43:06.116Z"
   },
   {
    "duration": 4,
    "start_time": "2022-08-24T08:43:06.145Z"
   },
   {
    "duration": 13,
    "start_time": "2022-08-24T08:43:06.151Z"
   },
   {
    "duration": 19,
    "start_time": "2022-08-24T08:43:06.165Z"
   },
   {
    "duration": 11,
    "start_time": "2022-08-24T08:43:06.185Z"
   },
   {
    "duration": 18,
    "start_time": "2022-08-24T08:43:06.197Z"
   },
   {
    "duration": 16,
    "start_time": "2022-08-24T08:43:06.217Z"
   },
   {
    "duration": 7,
    "start_time": "2022-08-24T08:43:06.235Z"
   },
   {
    "duration": 25,
    "start_time": "2022-08-24T08:43:06.243Z"
   },
   {
    "duration": 20,
    "start_time": "2022-08-24T08:43:06.269Z"
   },
   {
    "duration": 27,
    "start_time": "2022-08-24T08:43:06.291Z"
   },
   {
    "duration": 21,
    "start_time": "2022-08-24T08:43:06.320Z"
   },
   {
    "duration": 13,
    "start_time": "2022-08-24T08:43:06.343Z"
   },
   {
    "duration": 3,
    "start_time": "2022-08-24T08:43:06.357Z"
   },
   {
    "duration": 21,
    "start_time": "2022-08-24T08:43:06.362Z"
   },
   {
    "duration": 15,
    "start_time": "2022-08-24T08:43:06.384Z"
   },
   {
    "duration": 12,
    "start_time": "2022-08-24T08:43:06.400Z"
   },
   {
    "duration": 17,
    "start_time": "2022-08-24T08:43:06.413Z"
   },
   {
    "duration": 17,
    "start_time": "2022-08-24T08:43:06.431Z"
   },
   {
    "duration": 7,
    "start_time": "2022-08-24T08:43:06.449Z"
   },
   {
    "duration": 17,
    "start_time": "2022-08-24T08:43:06.457Z"
   },
   {
    "duration": 26,
    "start_time": "2022-08-24T08:43:06.476Z"
   },
   {
    "duration": 18,
    "start_time": "2022-08-24T08:43:06.504Z"
   },
   {
    "duration": 30,
    "start_time": "2022-08-24T08:43:06.523Z"
   },
   {
    "duration": 8,
    "start_time": "2022-08-24T08:43:06.554Z"
   },
   {
    "duration": 11,
    "start_time": "2022-08-24T08:43:06.563Z"
   },
   {
    "duration": 21,
    "start_time": "2022-08-24T08:43:06.575Z"
   },
   {
    "duration": 23,
    "start_time": "2022-08-24T08:43:06.597Z"
   },
   {
    "duration": 14,
    "start_time": "2022-08-24T08:43:06.622Z"
   },
   {
    "duration": 11,
    "start_time": "2022-08-24T08:43:06.637Z"
   },
   {
    "duration": 14,
    "start_time": "2022-08-24T08:43:06.649Z"
   },
   {
    "duration": 8,
    "start_time": "2022-08-24T08:43:06.665Z"
   },
   {
    "duration": 8,
    "start_time": "2022-08-24T08:43:06.675Z"
   },
   {
    "duration": 27,
    "start_time": "2022-08-24T08:43:06.684Z"
   },
   {
    "duration": 3,
    "start_time": "2022-08-24T08:43:06.712Z"
   },
   {
    "duration": 32,
    "start_time": "2022-08-24T08:43:06.716Z"
   },
   {
    "duration": 24,
    "start_time": "2022-08-24T08:43:06.749Z"
   },
   {
    "duration": 24,
    "start_time": "2022-08-24T08:43:06.774Z"
   },
   {
    "duration": 11,
    "start_time": "2022-08-24T08:43:06.800Z"
   },
   {
    "duration": 12,
    "start_time": "2022-08-24T08:43:06.812Z"
   },
   {
    "duration": 22,
    "start_time": "2022-08-24T08:43:06.825Z"
   },
   {
    "duration": 35,
    "start_time": "2022-08-24T08:43:06.848Z"
   },
   {
    "duration": 51,
    "start_time": "2022-08-24T08:43:06.884Z"
   },
   {
    "duration": 44,
    "start_time": "2022-08-24T08:43:06.937Z"
   },
   {
    "duration": 37,
    "start_time": "2022-08-24T08:43:06.983Z"
   },
   {
    "duration": 94,
    "start_time": "2022-08-24T08:43:07.022Z"
   },
   {
    "duration": 6,
    "start_time": "2022-08-24T08:43:07.118Z"
   },
   {
    "duration": 21,
    "start_time": "2022-08-24T08:43:07.126Z"
   },
   {
    "duration": 49,
    "start_time": "2022-08-24T08:43:07.148Z"
   },
   {
    "duration": 44,
    "start_time": "2022-08-24T08:43:07.198Z"
   },
   {
    "duration": 16,
    "start_time": "2022-08-24T08:43:07.243Z"
   },
   {
    "duration": 29,
    "start_time": "2022-08-24T08:43:07.261Z"
   },
   {
    "duration": 18,
    "start_time": "2022-08-24T08:43:07.292Z"
   },
   {
    "duration": 21,
    "start_time": "2022-08-24T08:43:07.312Z"
   },
   {
    "duration": 28,
    "start_time": "2022-08-24T08:43:07.334Z"
   },
   {
    "duration": 32,
    "start_time": "2022-08-24T08:43:07.366Z"
   },
   {
    "duration": 11,
    "start_time": "2022-08-24T08:43:07.400Z"
   },
   {
    "duration": 25,
    "start_time": "2022-08-24T08:43:07.412Z"
   },
   {
    "duration": 27,
    "start_time": "2022-08-24T08:43:07.439Z"
   },
   {
    "duration": 33,
    "start_time": "2022-08-24T08:43:07.468Z"
   },
   {
    "duration": 17,
    "start_time": "2022-08-24T08:43:07.502Z"
   },
   {
    "duration": 20,
    "start_time": "2022-08-24T08:43:07.520Z"
   },
   {
    "duration": 37,
    "start_time": "2022-08-24T08:43:07.541Z"
   },
   {
    "duration": 21,
    "start_time": "2022-08-24T08:43:07.579Z"
   },
   {
    "duration": 35,
    "start_time": "2022-08-24T08:43:07.602Z"
   },
   {
    "duration": 28,
    "start_time": "2022-08-24T08:43:07.638Z"
   },
   {
    "duration": 19,
    "start_time": "2022-08-24T08:43:07.668Z"
   },
   {
    "duration": 24,
    "start_time": "2022-08-24T08:43:07.688Z"
   },
   {
    "duration": 17,
    "start_time": "2022-08-24T08:43:07.713Z"
   },
   {
    "duration": 30,
    "start_time": "2022-08-24T08:43:07.731Z"
   },
   {
    "duration": 32,
    "start_time": "2022-08-24T08:43:07.763Z"
   },
   {
    "duration": 25,
    "start_time": "2022-08-24T08:43:07.796Z"
   },
   {
    "duration": 17,
    "start_time": "2022-08-24T08:43:07.823Z"
   },
   {
    "duration": 26,
    "start_time": "2022-08-24T08:43:07.842Z"
   },
   {
    "duration": 41,
    "start_time": "2022-08-24T08:43:07.869Z"
   },
   {
    "duration": 32,
    "start_time": "2022-08-24T08:43:07.911Z"
   },
   {
    "duration": 35,
    "start_time": "2022-08-24T08:43:07.945Z"
   },
   {
    "duration": 40,
    "start_time": "2022-08-24T08:43:07.981Z"
   },
   {
    "duration": 8,
    "start_time": "2022-08-24T08:43:08.023Z"
   },
   {
    "duration": 3,
    "start_time": "2022-08-24T08:47:58.644Z"
   },
   {
    "duration": 23,
    "start_time": "2022-08-24T08:48:13.991Z"
   },
   {
    "duration": 7,
    "start_time": "2022-08-24T08:48:36.939Z"
   },
   {
    "duration": 7,
    "start_time": "2022-08-24T08:49:08.531Z"
   },
   {
    "duration": 6,
    "start_time": "2022-08-24T08:52:38.277Z"
   },
   {
    "duration": 7,
    "start_time": "2022-08-24T08:53:06.954Z"
   },
   {
    "duration": 8,
    "start_time": "2022-08-24T08:55:18.277Z"
   },
   {
    "duration": 7,
    "start_time": "2022-08-24T08:58:37.359Z"
   },
   {
    "duration": 4,
    "start_time": "2022-08-24T09:20:37.687Z"
   },
   {
    "duration": 66,
    "start_time": "2022-08-24T09:22:16.086Z"
   },
   {
    "duration": 12,
    "start_time": "2022-08-24T09:25:27.967Z"
   },
   {
    "duration": 7,
    "start_time": "2022-08-24T09:43:56.021Z"
   },
   {
    "duration": 9,
    "start_time": "2022-08-24T09:52:00.074Z"
   },
   {
    "duration": 9,
    "start_time": "2022-08-24T09:53:08.099Z"
   },
   {
    "duration": 12,
    "start_time": "2022-08-24T09:53:39.246Z"
   },
   {
    "duration": 10,
    "start_time": "2022-08-24T09:57:14.800Z"
   },
   {
    "duration": 8,
    "start_time": "2022-08-24T10:04:33.288Z"
   },
   {
    "duration": 8,
    "start_time": "2022-08-24T10:04:53.224Z"
   },
   {
    "duration": 8,
    "start_time": "2022-08-24T10:05:48.127Z"
   },
   {
    "duration": 8,
    "start_time": "2022-08-24T10:06:37.266Z"
   },
   {
    "duration": 11,
    "start_time": "2022-08-24T10:07:39.948Z"
   },
   {
    "duration": 11,
    "start_time": "2022-08-24T10:08:14.610Z"
   },
   {
    "duration": 10,
    "start_time": "2022-08-24T10:08:55.631Z"
   },
   {
    "duration": 11,
    "start_time": "2022-08-24T10:09:23.213Z"
   },
   {
    "duration": 562,
    "start_time": "2022-08-24T14:27:39.715Z"
   },
   {
    "duration": 10,
    "start_time": "2022-08-24T14:27:40.279Z"
   },
   {
    "duration": 23,
    "start_time": "2022-08-24T14:27:40.290Z"
   },
   {
    "duration": 14,
    "start_time": "2022-08-24T14:27:40.315Z"
   },
   {
    "duration": 4,
    "start_time": "2022-08-24T14:27:40.331Z"
   },
   {
    "duration": 25,
    "start_time": "2022-08-24T14:27:40.336Z"
   },
   {
    "duration": 3,
    "start_time": "2022-08-24T14:27:40.363Z"
   },
   {
    "duration": 46,
    "start_time": "2022-08-24T14:27:40.367Z"
   },
   {
    "duration": 36,
    "start_time": "2022-08-24T14:27:40.415Z"
   },
   {
    "duration": 7,
    "start_time": "2022-08-24T14:27:40.454Z"
   },
   {
    "duration": 10,
    "start_time": "2022-08-24T14:27:40.462Z"
   },
   {
    "duration": 8,
    "start_time": "2022-08-24T14:27:40.474Z"
   },
   {
    "duration": 10,
    "start_time": "2022-08-24T14:27:40.483Z"
   },
   {
    "duration": 18,
    "start_time": "2022-08-24T14:27:40.494Z"
   },
   {
    "duration": 9,
    "start_time": "2022-08-24T14:27:40.513Z"
   },
   {
    "duration": 8,
    "start_time": "2022-08-24T14:27:40.523Z"
   },
   {
    "duration": 8,
    "start_time": "2022-08-24T14:27:40.533Z"
   },
   {
    "duration": 9,
    "start_time": "2022-08-24T14:27:40.542Z"
   },
   {
    "duration": 17,
    "start_time": "2022-08-24T14:27:40.553Z"
   },
   {
    "duration": 5,
    "start_time": "2022-08-24T14:27:40.571Z"
   },
   {
    "duration": 37,
    "start_time": "2022-08-24T14:27:40.577Z"
   },
   {
    "duration": 13,
    "start_time": "2022-08-24T14:27:40.616Z"
   },
   {
    "duration": 10,
    "start_time": "2022-08-24T14:27:40.630Z"
   },
   {
    "duration": 6,
    "start_time": "2022-08-24T14:27:40.641Z"
   },
   {
    "duration": 4,
    "start_time": "2022-08-24T14:27:40.649Z"
   },
   {
    "duration": 9,
    "start_time": "2022-08-24T14:27:40.655Z"
   },
   {
    "duration": 8,
    "start_time": "2022-08-24T14:27:40.665Z"
   },
   {
    "duration": 36,
    "start_time": "2022-08-24T14:27:40.677Z"
   },
   {
    "duration": 6,
    "start_time": "2022-08-24T14:27:40.715Z"
   },
   {
    "duration": 8,
    "start_time": "2022-08-24T14:27:40.723Z"
   },
   {
    "duration": 5,
    "start_time": "2022-08-24T14:27:40.732Z"
   },
   {
    "duration": 4,
    "start_time": "2022-08-24T14:27:40.738Z"
   },
   {
    "duration": 5,
    "start_time": "2022-08-24T14:27:40.744Z"
   },
   {
    "duration": 6,
    "start_time": "2022-08-24T14:27:40.751Z"
   },
   {
    "duration": 8,
    "start_time": "2022-08-24T14:27:40.759Z"
   },
   {
    "duration": 8,
    "start_time": "2022-08-24T14:27:40.811Z"
   },
   {
    "duration": 19,
    "start_time": "2022-08-24T14:27:40.820Z"
   },
   {
    "duration": 17,
    "start_time": "2022-08-24T14:27:40.840Z"
   },
   {
    "duration": 14,
    "start_time": "2022-08-24T14:27:40.859Z"
   },
   {
    "duration": 3,
    "start_time": "2022-08-24T14:27:40.875Z"
   },
   {
    "duration": 41,
    "start_time": "2022-08-24T14:27:40.879Z"
   },
   {
    "duration": 11,
    "start_time": "2022-08-24T14:27:40.922Z"
   },
   {
    "duration": 4,
    "start_time": "2022-08-24T14:27:40.934Z"
   },
   {
    "duration": 6,
    "start_time": "2022-08-24T14:27:40.939Z"
   },
   {
    "duration": 4,
    "start_time": "2022-08-24T14:27:40.946Z"
   },
   {
    "duration": 3,
    "start_time": "2022-08-24T14:27:40.952Z"
   },
   {
    "duration": 58,
    "start_time": "2022-08-24T14:27:40.956Z"
   },
   {
    "duration": 21,
    "start_time": "2022-08-24T14:27:41.015Z"
   },
   {
    "duration": 5,
    "start_time": "2022-08-24T14:27:41.037Z"
   },
   {
    "duration": 19,
    "start_time": "2022-08-24T14:27:41.044Z"
   },
   {
    "duration": 5,
    "start_time": "2022-08-24T14:27:41.065Z"
   },
   {
    "duration": 43,
    "start_time": "2022-08-24T14:27:41.071Z"
   },
   {
    "duration": 4,
    "start_time": "2022-08-24T14:27:41.116Z"
   },
   {
    "duration": 5,
    "start_time": "2022-08-24T14:27:41.122Z"
   },
   {
    "duration": 5,
    "start_time": "2022-08-24T14:27:41.129Z"
   },
   {
    "duration": 5,
    "start_time": "2022-08-24T14:27:41.136Z"
   },
   {
    "duration": 69,
    "start_time": "2022-08-24T14:27:41.142Z"
   },
   {
    "duration": 10,
    "start_time": "2022-08-24T14:27:41.213Z"
   },
   {
    "duration": 9,
    "start_time": "2022-08-24T14:27:41.225Z"
   },
   {
    "duration": 24,
    "start_time": "2022-08-24T14:27:41.235Z"
   },
   {
    "duration": 2,
    "start_time": "2022-08-24T14:27:41.260Z"
   },
   {
    "duration": 8,
    "start_time": "2022-08-24T14:27:41.264Z"
   },
   {
    "duration": 3,
    "start_time": "2022-08-24T14:27:41.274Z"
   },
   {
    "duration": 17,
    "start_time": "2022-08-24T14:27:41.311Z"
   },
   {
    "duration": 6,
    "start_time": "2022-08-24T14:27:41.329Z"
   },
   {
    "duration": 9,
    "start_time": "2022-08-24T14:27:41.336Z"
   },
   {
    "duration": 7,
    "start_time": "2022-08-24T14:27:41.346Z"
   },
   {
    "duration": 11,
    "start_time": "2022-08-24T14:27:41.355Z"
   },
   {
    "duration": 48,
    "start_time": "2022-08-24T14:27:41.368Z"
   },
   {
    "duration": 24,
    "start_time": "2022-08-24T14:27:41.418Z"
   },
   {
    "duration": 14,
    "start_time": "2022-08-24T14:27:41.443Z"
   },
   {
    "duration": 114,
    "start_time": "2022-08-24T14:27:41.458Z"
   },
   {
    "duration": 9,
    "start_time": "2022-08-24T14:27:41.573Z"
   },
   {
    "duration": 31,
    "start_time": "2022-08-24T14:27:41.584Z"
   },
   {
    "duration": 6,
    "start_time": "2022-08-24T14:27:41.617Z"
   },
   {
    "duration": 8,
    "start_time": "2022-08-24T14:27:41.624Z"
   },
   {
    "duration": 3,
    "start_time": "2022-08-24T14:27:41.633Z"
   },
   {
    "duration": 6,
    "start_time": "2022-08-24T14:27:41.637Z"
   },
   {
    "duration": 9,
    "start_time": "2022-08-24T14:27:41.645Z"
   },
   {
    "duration": 7,
    "start_time": "2022-08-24T14:27:41.656Z"
   },
   {
    "duration": 17,
    "start_time": "2022-08-24T14:27:41.665Z"
   },
   {
    "duration": 18,
    "start_time": "2022-08-24T14:27:41.711Z"
   },
   {
    "duration": 9,
    "start_time": "2022-08-24T14:27:41.731Z"
   },
   {
    "duration": 6,
    "start_time": "2022-08-24T14:27:41.741Z"
   },
   {
    "duration": 10,
    "start_time": "2022-08-24T14:27:41.749Z"
   },
   {
    "duration": 20,
    "start_time": "2022-08-24T14:27:41.760Z"
   },
   {
    "duration": 34,
    "start_time": "2022-08-24T14:27:41.782Z"
   },
   {
    "duration": 7,
    "start_time": "2022-08-24T14:27:41.818Z"
   },
   {
    "duration": 38,
    "start_time": "2022-08-24T14:27:41.827Z"
   },
   {
    "duration": 7,
    "start_time": "2022-08-24T14:27:41.867Z"
   },
   {
    "duration": 20,
    "start_time": "2022-08-24T14:27:41.875Z"
   },
   {
    "duration": 28,
    "start_time": "2022-08-24T14:27:41.896Z"
   },
   {
    "duration": 7,
    "start_time": "2022-08-24T14:27:41.925Z"
   },
   {
    "duration": 8,
    "start_time": "2022-08-24T14:27:41.934Z"
   },
   {
    "duration": 7,
    "start_time": "2022-08-24T14:27:41.943Z"
   },
   {
    "duration": 8,
    "start_time": "2022-08-24T14:27:41.951Z"
   },
   {
    "duration": 10,
    "start_time": "2022-08-24T14:27:41.960Z"
   },
   {
    "duration": 54,
    "start_time": "2022-08-24T14:27:41.971Z"
   },
   {
    "duration": 7,
    "start_time": "2022-08-24T14:27:42.027Z"
   },
   {
    "duration": 9,
    "start_time": "2022-08-24T14:27:42.036Z"
   },
   {
    "duration": 8,
    "start_time": "2022-08-24T14:27:42.047Z"
   },
   {
    "duration": 11,
    "start_time": "2022-08-24T14:27:42.056Z"
   },
   {
    "duration": 11,
    "start_time": "2022-08-24T14:27:42.069Z"
   },
   {
    "duration": 44,
    "start_time": "2022-08-24T14:27:42.081Z"
   },
   {
    "duration": 9,
    "start_time": "2022-08-24T14:27:42.126Z"
   },
   {
    "duration": 8,
    "start_time": "2022-08-24T14:27:42.136Z"
   },
   {
    "duration": 9,
    "start_time": "2022-08-24T14:27:42.146Z"
   },
   {
    "duration": 8,
    "start_time": "2022-08-24T14:27:42.157Z"
   },
   {
    "duration": 7,
    "start_time": "2022-08-24T14:31:20.320Z"
   },
   {
    "duration": 10,
    "start_time": "2022-08-24T14:32:08.712Z"
   },
   {
    "duration": 10,
    "start_time": "2022-08-24T14:32:33.043Z"
   },
   {
    "duration": 11,
    "start_time": "2022-08-24T14:32:59.601Z"
   },
   {
    "duration": 15,
    "start_time": "2022-08-24T14:33:23.302Z"
   },
   {
    "duration": 14,
    "start_time": "2022-08-24T14:34:21.574Z"
   },
   {
    "duration": 9,
    "start_time": "2022-08-24T14:35:01.124Z"
   },
   {
    "duration": 12,
    "start_time": "2022-08-24T14:35:38.394Z"
   },
   {
    "duration": 9,
    "start_time": "2022-08-24T14:36:07.032Z"
   },
   {
    "duration": 9,
    "start_time": "2022-08-24T14:36:51.610Z"
   },
   {
    "duration": 83,
    "start_time": "2022-08-25T04:25:21.985Z"
   },
   {
    "duration": 667,
    "start_time": "2022-08-30T04:55:00.094Z"
   },
   {
    "duration": 9,
    "start_time": "2022-08-30T04:55:00.763Z"
   },
   {
    "duration": 45,
    "start_time": "2022-08-30T04:55:00.773Z"
   },
   {
    "duration": 27,
    "start_time": "2022-08-30T04:55:00.821Z"
   },
   {
    "duration": 19,
    "start_time": "2022-08-30T04:55:00.850Z"
   },
   {
    "duration": 31,
    "start_time": "2022-08-30T04:55:00.870Z"
   },
   {
    "duration": 7,
    "start_time": "2022-08-30T04:55:00.903Z"
   },
   {
    "duration": 33,
    "start_time": "2022-08-30T04:55:00.912Z"
   },
   {
    "duration": 57,
    "start_time": "2022-08-30T04:55:00.947Z"
   },
   {
    "duration": 28,
    "start_time": "2022-08-30T04:55:01.008Z"
   },
   {
    "duration": 15,
    "start_time": "2022-08-30T04:55:01.038Z"
   },
   {
    "duration": 29,
    "start_time": "2022-08-30T04:55:01.055Z"
   },
   {
    "duration": 28,
    "start_time": "2022-08-30T04:55:01.086Z"
   },
   {
    "duration": 22,
    "start_time": "2022-08-30T04:55:01.115Z"
   },
   {
    "duration": 37,
    "start_time": "2022-08-30T04:55:01.138Z"
   },
   {
    "duration": 18,
    "start_time": "2022-08-30T04:55:01.177Z"
   },
   {
    "duration": 36,
    "start_time": "2022-08-30T04:55:01.197Z"
   },
   {
    "duration": 22,
    "start_time": "2022-08-30T04:55:01.235Z"
   },
   {
    "duration": 34,
    "start_time": "2022-08-30T04:55:01.259Z"
   },
   {
    "duration": 30,
    "start_time": "2022-08-30T04:55:01.294Z"
   },
   {
    "duration": 22,
    "start_time": "2022-08-30T04:55:01.325Z"
   },
   {
    "duration": 23,
    "start_time": "2022-08-30T04:55:01.348Z"
   },
   {
    "duration": 23,
    "start_time": "2022-08-30T04:55:01.372Z"
   },
   {
    "duration": 18,
    "start_time": "2022-08-30T04:55:01.397Z"
   },
   {
    "duration": 21,
    "start_time": "2022-08-30T04:55:01.417Z"
   },
   {
    "duration": 15,
    "start_time": "2022-08-30T04:55:01.439Z"
   },
   {
    "duration": 19,
    "start_time": "2022-08-30T04:55:01.455Z"
   },
   {
    "duration": 19,
    "start_time": "2022-08-30T04:55:01.479Z"
   },
   {
    "duration": 28,
    "start_time": "2022-08-30T04:55:01.500Z"
   },
   {
    "duration": 39,
    "start_time": "2022-08-30T04:55:01.530Z"
   },
   {
    "duration": 29,
    "start_time": "2022-08-30T04:55:01.571Z"
   },
   {
    "duration": 47,
    "start_time": "2022-08-30T04:55:01.602Z"
   },
   {
    "duration": 23,
    "start_time": "2022-08-30T04:55:01.651Z"
   },
   {
    "duration": 18,
    "start_time": "2022-08-30T04:55:01.676Z"
   },
   {
    "duration": 16,
    "start_time": "2022-08-30T04:55:01.696Z"
   },
   {
    "duration": 29,
    "start_time": "2022-08-30T04:55:01.713Z"
   },
   {
    "duration": 34,
    "start_time": "2022-08-30T04:55:01.744Z"
   },
   {
    "duration": 22,
    "start_time": "2022-08-30T04:55:01.780Z"
   },
   {
    "duration": 21,
    "start_time": "2022-08-30T04:55:01.804Z"
   },
   {
    "duration": 14,
    "start_time": "2022-08-30T04:55:01.827Z"
   },
   {
    "duration": 27,
    "start_time": "2022-08-30T04:55:01.843Z"
   },
   {
    "duration": 42,
    "start_time": "2022-08-30T04:55:01.872Z"
   },
   {
    "duration": 9,
    "start_time": "2022-08-30T04:55:01.916Z"
   },
   {
    "duration": 26,
    "start_time": "2022-08-30T04:55:01.927Z"
   },
   {
    "duration": 46,
    "start_time": "2022-08-30T04:55:01.954Z"
   },
   {
    "duration": 16,
    "start_time": "2022-08-30T04:55:02.002Z"
   },
   {
    "duration": 34,
    "start_time": "2022-08-30T04:55:02.020Z"
   },
   {
    "duration": 39,
    "start_time": "2022-08-30T04:55:02.057Z"
   },
   {
    "duration": 17,
    "start_time": "2022-08-30T04:55:02.098Z"
   },
   {
    "duration": 33,
    "start_time": "2022-08-30T04:55:02.117Z"
   },
   {
    "duration": 17,
    "start_time": "2022-08-30T04:55:02.152Z"
   },
   {
    "duration": 27,
    "start_time": "2022-08-30T04:55:02.171Z"
   },
   {
    "duration": 17,
    "start_time": "2022-08-30T04:55:02.200Z"
   },
   {
    "duration": 22,
    "start_time": "2022-08-30T04:55:02.219Z"
   },
   {
    "duration": 20,
    "start_time": "2022-08-30T04:55:02.243Z"
   },
   {
    "duration": 15,
    "start_time": "2022-08-30T04:55:02.265Z"
   },
   {
    "duration": 32,
    "start_time": "2022-08-30T04:55:02.282Z"
   },
   {
    "duration": 11,
    "start_time": "2022-08-30T04:55:02.316Z"
   },
   {
    "duration": 27,
    "start_time": "2022-08-30T04:55:02.328Z"
   },
   {
    "duration": 36,
    "start_time": "2022-08-30T04:55:02.356Z"
   },
   {
    "duration": 3,
    "start_time": "2022-08-30T04:55:02.394Z"
   },
   {
    "duration": 17,
    "start_time": "2022-08-30T04:55:02.399Z"
   },
   {
    "duration": 9,
    "start_time": "2022-08-30T04:55:02.418Z"
   },
   {
    "duration": 36,
    "start_time": "2022-08-30T04:55:02.429Z"
   },
   {
    "duration": 11,
    "start_time": "2022-08-30T04:55:02.467Z"
   },
   {
    "duration": 20,
    "start_time": "2022-08-30T04:55:02.480Z"
   },
   {
    "duration": 10,
    "start_time": "2022-08-30T04:55:02.502Z"
   },
   {
    "duration": 19,
    "start_time": "2022-08-30T04:55:02.514Z"
   },
   {
    "duration": 38,
    "start_time": "2022-08-30T04:55:02.535Z"
   },
   {
    "duration": 18,
    "start_time": "2022-08-30T04:55:02.575Z"
   },
   {
    "duration": 25,
    "start_time": "2022-08-30T04:55:02.595Z"
   },
   {
    "duration": 102,
    "start_time": "2022-08-30T04:55:02.622Z"
   },
   {
    "duration": 8,
    "start_time": "2022-08-30T04:55:02.726Z"
   },
   {
    "duration": 35,
    "start_time": "2022-08-30T04:55:02.736Z"
   },
   {
    "duration": 13,
    "start_time": "2022-08-30T04:55:02.772Z"
   },
   {
    "duration": 22,
    "start_time": "2022-08-30T04:55:02.787Z"
   },
   {
    "duration": 6,
    "start_time": "2022-08-30T04:55:02.811Z"
   },
   {
    "duration": 14,
    "start_time": "2022-08-30T04:55:02.819Z"
   },
   {
    "duration": 26,
    "start_time": "2022-08-30T04:55:02.835Z"
   },
   {
    "duration": 26,
    "start_time": "2022-08-30T04:55:02.863Z"
   },
   {
    "duration": 12,
    "start_time": "2022-08-30T04:55:02.891Z"
   },
   {
    "duration": 22,
    "start_time": "2022-08-30T04:55:02.910Z"
   },
   {
    "duration": 5,
    "start_time": "2022-08-30T04:55:02.934Z"
   },
   {
    "duration": 5,
    "start_time": "2022-08-30T04:55:02.941Z"
   },
   {
    "duration": 12,
    "start_time": "2022-08-30T04:55:02.948Z"
   },
   {
    "duration": 55,
    "start_time": "2022-08-30T04:55:02.962Z"
   },
   {
    "duration": 17,
    "start_time": "2022-08-30T04:55:03.020Z"
   },
   {
    "duration": 19,
    "start_time": "2022-08-30T04:55:03.039Z"
   },
   {
    "duration": 24,
    "start_time": "2022-08-30T04:55:03.060Z"
   },
   {
    "duration": 11,
    "start_time": "2022-08-30T04:55:03.086Z"
   },
   {
    "duration": 16,
    "start_time": "2022-08-30T04:55:03.099Z"
   },
   {
    "duration": 24,
    "start_time": "2022-08-30T04:55:03.116Z"
   },
   {
    "duration": 11,
    "start_time": "2022-08-30T04:55:03.142Z"
   },
   {
    "duration": 18,
    "start_time": "2022-08-30T04:55:03.155Z"
   },
   {
    "duration": 26,
    "start_time": "2022-08-30T04:55:03.175Z"
   },
   {
    "duration": 37,
    "start_time": "2022-08-30T04:55:03.203Z"
   },
   {
    "duration": 19,
    "start_time": "2022-08-30T04:55:03.242Z"
   },
   {
    "duration": 33,
    "start_time": "2022-08-30T04:55:03.262Z"
   },
   {
    "duration": 27,
    "start_time": "2022-08-30T04:55:03.297Z"
   },
   {
    "duration": 25,
    "start_time": "2022-08-30T04:55:03.326Z"
   },
   {
    "duration": 25,
    "start_time": "2022-08-30T04:55:03.352Z"
   },
   {
    "duration": 21,
    "start_time": "2022-08-30T04:55:03.379Z"
   },
   {
    "duration": 20,
    "start_time": "2022-08-30T04:55:03.402Z"
   },
   {
    "duration": 18,
    "start_time": "2022-08-30T04:55:03.424Z"
   },
   {
    "duration": 10,
    "start_time": "2022-08-30T04:55:03.444Z"
   },
   {
    "duration": 10,
    "start_time": "2022-08-30T04:55:03.456Z"
   },
   {
    "duration": 38,
    "start_time": "2022-08-30T04:55:03.468Z"
   },
   {
    "duration": 16,
    "start_time": "2022-08-30T04:55:03.508Z"
   },
   {
    "duration": 9,
    "start_time": "2022-08-30T04:59:06.987Z"
   }
  ],
  "kernelspec": {
   "display_name": "Python 3 (ipykernel)",
   "language": "python",
   "name": "python3"
  },
  "language_info": {
   "codemirror_mode": {
    "name": "ipython",
    "version": 3
   },
   "file_extension": ".py",
   "mimetype": "text/x-python",
   "name": "python",
   "nbconvert_exporter": "python",
   "pygments_lexer": "ipython3",
   "version": "3.9.5"
  },
  "toc": {
   "base_numbering": 1,
   "nav_menu": {},
   "number_sections": true,
   "sideBar": true,
   "skip_h1_title": true,
   "title_cell": "Table of Contents",
   "title_sidebar": "Contents",
   "toc_cell": false,
   "toc_position": {},
   "toc_section_display": true,
   "toc_window_display": false
  }
 },
 "nbformat": 4,
 "nbformat_minor": 2
}
