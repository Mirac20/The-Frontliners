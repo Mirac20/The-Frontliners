{
 "cells": [
  {
   "cell_type": "markdown",
   "metadata": {},
   "source": [
    "## Selecting the best location for a new well\n",
    "\n",
    "We have data on the oil reserves in three regions, each region has a separate dataset. The budget for the development of 200 oil wells is 100 USD million. When exploring the region, a study of 500 points is carried out, thereby, picking the best 200 points for profit calculation. The revenue from one unit of product is 4500 dollars. We would collect the oil well parameters in each selected region, which are the oil quality, and volume of reserves. After which models will be built for predicting the volume of reserves in the new wells. The goal of this project is to select the region with the highest profit margin.\n",
    "\n",
    "\n",
    "### Data Description\n",
    "\n",
    "- `id:` unique oil well identifier \n",
    "- `f0, f1, f2:` three features of points (their specific meaning is unimportant, but the features themselves are significant)\n",
    "- `product`: volume of reserves in the oil well(thousands of barrel)\n",
    "\n",
    "\n",
    "## Table of Contents\n",
    "\n",
    "- General Information\n",
    "- Data Preprocessing\n",
    "- Splitting data and model training\n",
    "- Break-Even volume for each well\n",
    "- Profit from selected wells and model predictions\n",
    "- Risks and profit for each region\n",
    "- Conclusion\n",
    "\n",
    "\n"
   ]
  },
  {
   "cell_type": "markdown",
   "metadata": {},
   "source": [
    "## General Information"
   ]
  },
  {
   "cell_type": "markdown",
   "metadata": {},
   "source": [
    "Importing the necessary libraries"
   ]
  },
  {
   "cell_type": "code",
   "execution_count": 1,
   "metadata": {},
   "outputs": [],
   "source": [
    "import pandas as pd\n",
    "import numpy as np\n",
    "import matplotlib.pyplot as plt\n",
    "from sklearn.linear_model import LinearRegression \n",
    "from sklearn.model_selection import train_test_split \n",
    "from sklearn.preprocessing import StandardScaler \n",
    "from sklearn.metrics import accuracy_score\n",
    "from sklearn.metrics import mean_squared_error\n",
    "from sklearn.utils import shuffle \n",
    "from sklearn.metrics import f1_score \n",
    "from sklearn.metrics import roc_auc_score"
   ]
  },
  {
   "cell_type": "markdown",
   "metadata": {},
   "source": [
    "Loading the various datasets"
   ]
  },
  {
   "cell_type": "code",
   "execution_count": 2,
   "metadata": {},
   "outputs": [],
   "source": [
    "#Loading the first dataset\n",
    "geo_data_0 = pd.read_csv('/datasets/geo_data_0.csv')"
   ]
  },
  {
   "cell_type": "code",
   "execution_count": 3,
   "metadata": {},
   "outputs": [],
   "source": [
    "#Loading the second dataset\n",
    "geo_data_1 = pd.read_csv('/datasets/geo_data_1.csv')"
   ]
  },
  {
   "cell_type": "code",
   "execution_count": 4,
   "metadata": {},
   "outputs": [],
   "source": [
    "#Loading the third dataset\n",
    "geo_data_2 = pd.read_csv('/datasets/geo_data_2.csv')"
   ]
  },
  {
   "cell_type": "markdown",
   "metadata": {},
   "source": [
    "Checking the information on each dataset and viewing the first five rows"
   ]
  },
  {
   "cell_type": "code",
   "execution_count": 5,
   "metadata": {},
   "outputs": [
    {
     "name": "stdout",
     "output_type": "stream",
     "text": [
      "<class 'pandas.core.frame.DataFrame'>\n",
      "RangeIndex: 100000 entries, 0 to 99999\n",
      "Data columns (total 5 columns):\n",
      " #   Column   Non-Null Count   Dtype  \n",
      "---  ------   --------------   -----  \n",
      " 0   id       100000 non-null  object \n",
      " 1   f0       100000 non-null  float64\n",
      " 2   f1       100000 non-null  float64\n",
      " 3   f2       100000 non-null  float64\n",
      " 4   product  100000 non-null  float64\n",
      "dtypes: float64(4), object(1)\n",
      "memory usage: 3.8+ MB\n"
     ]
    }
   ],
   "source": [
    "geo_data_0.info()"
   ]
  },
  {
   "cell_type": "code",
   "execution_count": 6,
   "metadata": {},
   "outputs": [
    {
     "data": {
      "text/html": [
       "<div>\n",
       "<style scoped>\n",
       "    .dataframe tbody tr th:only-of-type {\n",
       "        vertical-align: middle;\n",
       "    }\n",
       "\n",
       "    .dataframe tbody tr th {\n",
       "        vertical-align: top;\n",
       "    }\n",
       "\n",
       "    .dataframe thead th {\n",
       "        text-align: right;\n",
       "    }\n",
       "</style>\n",
       "<table border=\"1\" class=\"dataframe\">\n",
       "  <thead>\n",
       "    <tr style=\"text-align: right;\">\n",
       "      <th></th>\n",
       "      <th>id</th>\n",
       "      <th>f0</th>\n",
       "      <th>f1</th>\n",
       "      <th>f2</th>\n",
       "      <th>product</th>\n",
       "    </tr>\n",
       "  </thead>\n",
       "  <tbody>\n",
       "    <tr>\n",
       "      <th>0</th>\n",
       "      <td>txEyH</td>\n",
       "      <td>0.705745</td>\n",
       "      <td>-0.497823</td>\n",
       "      <td>1.221170</td>\n",
       "      <td>105.280062</td>\n",
       "    </tr>\n",
       "    <tr>\n",
       "      <th>1</th>\n",
       "      <td>2acmU</td>\n",
       "      <td>1.334711</td>\n",
       "      <td>-0.340164</td>\n",
       "      <td>4.365080</td>\n",
       "      <td>73.037750</td>\n",
       "    </tr>\n",
       "    <tr>\n",
       "      <th>2</th>\n",
       "      <td>409Wp</td>\n",
       "      <td>1.022732</td>\n",
       "      <td>0.151990</td>\n",
       "      <td>1.419926</td>\n",
       "      <td>85.265647</td>\n",
       "    </tr>\n",
       "    <tr>\n",
       "      <th>3</th>\n",
       "      <td>iJLyR</td>\n",
       "      <td>-0.032172</td>\n",
       "      <td>0.139033</td>\n",
       "      <td>2.978566</td>\n",
       "      <td>168.620776</td>\n",
       "    </tr>\n",
       "    <tr>\n",
       "      <th>4</th>\n",
       "      <td>Xdl7t</td>\n",
       "      <td>1.988431</td>\n",
       "      <td>0.155413</td>\n",
       "      <td>4.751769</td>\n",
       "      <td>154.036647</td>\n",
       "    </tr>\n",
       "  </tbody>\n",
       "</table>\n",
       "</div>"
      ],
      "text/plain": [
       "      id        f0        f1        f2     product\n",
       "0  txEyH  0.705745 -0.497823  1.221170  105.280062\n",
       "1  2acmU  1.334711 -0.340164  4.365080   73.037750\n",
       "2  409Wp  1.022732  0.151990  1.419926   85.265647\n",
       "3  iJLyR -0.032172  0.139033  2.978566  168.620776\n",
       "4  Xdl7t  1.988431  0.155413  4.751769  154.036647"
      ]
     },
     "execution_count": 6,
     "metadata": {},
     "output_type": "execute_result"
    }
   ],
   "source": [
    "geo_data_0.head()"
   ]
  },
  {
   "cell_type": "code",
   "execution_count": 7,
   "metadata": {},
   "outputs": [
    {
     "name": "stdout",
     "output_type": "stream",
     "text": [
      "<class 'pandas.core.frame.DataFrame'>\n",
      "RangeIndex: 100000 entries, 0 to 99999\n",
      "Data columns (total 5 columns):\n",
      " #   Column   Non-Null Count   Dtype  \n",
      "---  ------   --------------   -----  \n",
      " 0   id       100000 non-null  object \n",
      " 1   f0       100000 non-null  float64\n",
      " 2   f1       100000 non-null  float64\n",
      " 3   f2       100000 non-null  float64\n",
      " 4   product  100000 non-null  float64\n",
      "dtypes: float64(4), object(1)\n",
      "memory usage: 3.8+ MB\n"
     ]
    }
   ],
   "source": [
    "geo_data_1.info()"
   ]
  },
  {
   "cell_type": "code",
   "execution_count": 8,
   "metadata": {},
   "outputs": [
    {
     "data": {
      "text/html": [
       "<div>\n",
       "<style scoped>\n",
       "    .dataframe tbody tr th:only-of-type {\n",
       "        vertical-align: middle;\n",
       "    }\n",
       "\n",
       "    .dataframe tbody tr th {\n",
       "        vertical-align: top;\n",
       "    }\n",
       "\n",
       "    .dataframe thead th {\n",
       "        text-align: right;\n",
       "    }\n",
       "</style>\n",
       "<table border=\"1\" class=\"dataframe\">\n",
       "  <thead>\n",
       "    <tr style=\"text-align: right;\">\n",
       "      <th></th>\n",
       "      <th>id</th>\n",
       "      <th>f0</th>\n",
       "      <th>f1</th>\n",
       "      <th>f2</th>\n",
       "      <th>product</th>\n",
       "    </tr>\n",
       "  </thead>\n",
       "  <tbody>\n",
       "    <tr>\n",
       "      <th>0</th>\n",
       "      <td>kBEdx</td>\n",
       "      <td>-15.001348</td>\n",
       "      <td>-8.276000</td>\n",
       "      <td>-0.005876</td>\n",
       "      <td>3.179103</td>\n",
       "    </tr>\n",
       "    <tr>\n",
       "      <th>1</th>\n",
       "      <td>62mP7</td>\n",
       "      <td>14.272088</td>\n",
       "      <td>-3.475083</td>\n",
       "      <td>0.999183</td>\n",
       "      <td>26.953261</td>\n",
       "    </tr>\n",
       "    <tr>\n",
       "      <th>2</th>\n",
       "      <td>vyE1P</td>\n",
       "      <td>6.263187</td>\n",
       "      <td>-5.948386</td>\n",
       "      <td>5.001160</td>\n",
       "      <td>134.766305</td>\n",
       "    </tr>\n",
       "    <tr>\n",
       "      <th>3</th>\n",
       "      <td>KcrkZ</td>\n",
       "      <td>-13.081196</td>\n",
       "      <td>-11.506057</td>\n",
       "      <td>4.999415</td>\n",
       "      <td>137.945408</td>\n",
       "    </tr>\n",
       "    <tr>\n",
       "      <th>4</th>\n",
       "      <td>AHL4O</td>\n",
       "      <td>12.702195</td>\n",
       "      <td>-8.147433</td>\n",
       "      <td>5.004363</td>\n",
       "      <td>134.766305</td>\n",
       "    </tr>\n",
       "  </tbody>\n",
       "</table>\n",
       "</div>"
      ],
      "text/plain": [
       "      id         f0         f1        f2     product\n",
       "0  kBEdx -15.001348  -8.276000 -0.005876    3.179103\n",
       "1  62mP7  14.272088  -3.475083  0.999183   26.953261\n",
       "2  vyE1P   6.263187  -5.948386  5.001160  134.766305\n",
       "3  KcrkZ -13.081196 -11.506057  4.999415  137.945408\n",
       "4  AHL4O  12.702195  -8.147433  5.004363  134.766305"
      ]
     },
     "execution_count": 8,
     "metadata": {},
     "output_type": "execute_result"
    }
   ],
   "source": [
    "geo_data_1.head()"
   ]
  },
  {
   "cell_type": "code",
   "execution_count": 9,
   "metadata": {},
   "outputs": [
    {
     "name": "stdout",
     "output_type": "stream",
     "text": [
      "<class 'pandas.core.frame.DataFrame'>\n",
      "RangeIndex: 100000 entries, 0 to 99999\n",
      "Data columns (total 5 columns):\n",
      " #   Column   Non-Null Count   Dtype  \n",
      "---  ------   --------------   -----  \n",
      " 0   id       100000 non-null  object \n",
      " 1   f0       100000 non-null  float64\n",
      " 2   f1       100000 non-null  float64\n",
      " 3   f2       100000 non-null  float64\n",
      " 4   product  100000 non-null  float64\n",
      "dtypes: float64(4), object(1)\n",
      "memory usage: 3.8+ MB\n"
     ]
    }
   ],
   "source": [
    "geo_data_2.info()"
   ]
  },
  {
   "cell_type": "code",
   "execution_count": 10,
   "metadata": {},
   "outputs": [
    {
     "data": {
      "text/html": [
       "<div>\n",
       "<style scoped>\n",
       "    .dataframe tbody tr th:only-of-type {\n",
       "        vertical-align: middle;\n",
       "    }\n",
       "\n",
       "    .dataframe tbody tr th {\n",
       "        vertical-align: top;\n",
       "    }\n",
       "\n",
       "    .dataframe thead th {\n",
       "        text-align: right;\n",
       "    }\n",
       "</style>\n",
       "<table border=\"1\" class=\"dataframe\">\n",
       "  <thead>\n",
       "    <tr style=\"text-align: right;\">\n",
       "      <th></th>\n",
       "      <th>id</th>\n",
       "      <th>f0</th>\n",
       "      <th>f1</th>\n",
       "      <th>f2</th>\n",
       "      <th>product</th>\n",
       "    </tr>\n",
       "  </thead>\n",
       "  <tbody>\n",
       "    <tr>\n",
       "      <th>0</th>\n",
       "      <td>fwXo0</td>\n",
       "      <td>-1.146987</td>\n",
       "      <td>0.963328</td>\n",
       "      <td>-0.828965</td>\n",
       "      <td>27.758673</td>\n",
       "    </tr>\n",
       "    <tr>\n",
       "      <th>1</th>\n",
       "      <td>WJtFt</td>\n",
       "      <td>0.262778</td>\n",
       "      <td>0.269839</td>\n",
       "      <td>-2.530187</td>\n",
       "      <td>56.069697</td>\n",
       "    </tr>\n",
       "    <tr>\n",
       "      <th>2</th>\n",
       "      <td>ovLUW</td>\n",
       "      <td>0.194587</td>\n",
       "      <td>0.289035</td>\n",
       "      <td>-5.586433</td>\n",
       "      <td>62.871910</td>\n",
       "    </tr>\n",
       "    <tr>\n",
       "      <th>3</th>\n",
       "      <td>q6cA6</td>\n",
       "      <td>2.236060</td>\n",
       "      <td>-0.553760</td>\n",
       "      <td>0.930038</td>\n",
       "      <td>114.572842</td>\n",
       "    </tr>\n",
       "    <tr>\n",
       "      <th>4</th>\n",
       "      <td>WPMUX</td>\n",
       "      <td>-0.515993</td>\n",
       "      <td>1.716266</td>\n",
       "      <td>5.899011</td>\n",
       "      <td>149.600746</td>\n",
       "    </tr>\n",
       "  </tbody>\n",
       "</table>\n",
       "</div>"
      ],
      "text/plain": [
       "      id        f0        f1        f2     product\n",
       "0  fwXo0 -1.146987  0.963328 -0.828965   27.758673\n",
       "1  WJtFt  0.262778  0.269839 -2.530187   56.069697\n",
       "2  ovLUW  0.194587  0.289035 -5.586433   62.871910\n",
       "3  q6cA6  2.236060 -0.553760  0.930038  114.572842\n",
       "4  WPMUX -0.515993  1.716266  5.899011  149.600746"
      ]
     },
     "execution_count": 10,
     "metadata": {},
     "output_type": "execute_result"
    }
   ],
   "source": [
    "geo_data_2.head()"
   ]
  },
  {
   "cell_type": "markdown",
   "metadata": {},
   "source": [
    "The datasets contains 10000 rows, and 5 columns. All the columns have the right datatypes, and have no missing values.\n",
    "\n",
    "Our target will be the \"product\" column, while the rest of the column will be used as features."
   ]
  },
  {
   "cell_type": "markdown",
   "metadata": {},
   "source": [
    "## Splitting Data and Model Training"
   ]
  },
  {
   "cell_type": "markdown",
   "metadata": {},
   "source": [
    "To work on the data from the three regions, we will create a function that takes 4 data splits as arguments, namely: training features, valid features, training target, valid target. This function will train a Linear Regression model, and return the root mean squared error and the mean"
   ]
  },
  {
   "cell_type": "code",
   "execution_count": 11,
   "metadata": {},
   "outputs": [],
   "source": [
    "#Creating a function with four arguments\n",
    "\n",
    "def linreg_model(f_train, f_valid, t_train, t_valid):\n",
    "    \n",
    "    lr_model = LinearRegression()\n",
    "    \n",
    "    lr_model.fit(f_train, t_train)\n",
    "\n",
    "    pred_valid_lr = lr_model.predict(f_valid)\n",
    "\n",
    "    #Getting the root mean square error value\n",
    "    \n",
    "    rmse_val = (mean_squared_error(t_valid, pred_valid_lr) ** 0.5)\n",
    "\n",
    "    return rmse_val, pred_valid_lr    "
   ]
  },
  {
   "cell_type": "markdown",
   "metadata": {},
   "source": [
    "The column \"id\" is used to identify the reserves in each region. This column contains strings, therefore, it cannot be used in training our model. It will be dropped in the three datasets. Our target for this project is the \"product\" column. The rest of the columns will be assigned as features. The whole dataset will be split into two parts, namely: training, and validation in the ratio 75%, and 25%, respectively. \n",
    "\n",
    "The train_test_split() function will be used to perform this task of splitting the dataset. \n",
    "\n",
    "After the model is trained for each dataset, we will pass the arguments to our linreg_model function. Thereby, getting the mean squared error between the observation values and predicted values, and the mean of the predictions.\n",
    "\n",
    "We start with the first region"
   ]
  },
  {
   "cell_type": "code",
   "execution_count": 12,
   "metadata": {},
   "outputs": [
    {
     "name": "stdout",
     "output_type": "stream",
     "text": [
      "RMSE value: 37.5794217150813 Average predicted volume: 92.59256778438035\n"
     ]
    }
   ],
   "source": [
    "feature_0 = geo_data_0.drop([\"id\",\"product\"], axis = 1)\n",
    "    \n",
    "target_0 = geo_data_0[\"product\"]\n",
    "    \n",
    "#splitting features, and targets into features_train (75%), features_valid(25%), target_train(75%)\n",
    "#target_valid(25%)\n",
    "    \n",
    "ft_train_0, ft_valid_0, tgt_train_0, tgt_valid_0 = train_test_split(feature_0, target_0,\\\n",
    "                                                                test_size= 0.25, random_state=12345)\n",
    "\n",
    "#training the model, and making predictions for the first dataset by calling the function linreg_function\n",
    "\n",
    "rmse_val_0, predic_0= linreg_model(ft_train_0, ft_valid_0, tgt_train_0, tgt_valid_0)\n",
    "\n",
    "print(\"RMSE value:\", rmse_val_0, \"Average predicted volume:\",\n",
    "      predic_0.mean())"
   ]
  },
  {
   "cell_type": "markdown",
   "metadata": {},
   "source": [
    "The first Region has 37.57 as the RMSE value and 92.59 as the Average predicted volume"
   ]
  },
  {
   "cell_type": "markdown",
   "metadata": {},
   "source": [
    "For the Second region"
   ]
  },
  {
   "cell_type": "code",
   "execution_count": 13,
   "metadata": {},
   "outputs": [
    {
     "name": "stdout",
     "output_type": "stream",
     "text": [
      "RMSE value: 0.893099286775617 Average predicted volume: 68.728546895446\n"
     ]
    }
   ],
   "source": [
    "feature_1 = geo_data_1.drop([\"id\",\"product\"], axis = 1)\n",
    "    \n",
    "target_1 = geo_data_1[\"product\"]\n",
    "    \n",
    "#splitting features, and targets into features_train (75%), features_valid(25%), target_train(75%)\n",
    "#target_valid(25%)\n",
    "    \n",
    "ft_train_1, ft_valid_1, tgt_train_1, tgt_valid_1 = train_test_split(feature_1, target_1,\\\n",
    "                                                                test_size= 0.25, random_state=12345)\n",
    "\n",
    "#training the model, and making predictions for the first dataset by calling the function linreg_function\n",
    "\n",
    "rmse_val_1, predic_1= linreg_model(ft_train_1, ft_valid_1, tgt_train_1, tgt_valid_1)\n",
    "\n",
    "print(\"RMSE value:\", rmse_val_1, \"Average predicted volume:\",\n",
    "      predic_1.mean())"
   ]
  },
  {
   "cell_type": "markdown",
   "metadata": {},
   "source": [
    "The Second Region has 0.89 as the RMSE value and 68.72 as the mean prediction Average predicted volume"
   ]
  },
  {
   "cell_type": "code",
   "execution_count": 14,
   "metadata": {},
   "outputs": [
    {
     "name": "stdout",
     "output_type": "stream",
     "text": [
      "RMSE value: 40.02970873393434 Average predicted volume: 94.96504596800489\n"
     ]
    }
   ],
   "source": [
    "feature_2 = geo_data_2.drop([\"id\",\"product\"], axis = 1)\n",
    "    \n",
    "target_2 = geo_data_2[\"product\"]\n",
    "    \n",
    "#splitting features, and targets into features_train (75%), features_valid(25%), target_train(75%)\n",
    "#target_valid(25%)\n",
    "    \n",
    "ft_train_2, ft_valid_2, tgt_train_2, tgt_valid_2 = train_test_split(feature_2, target_2,\\\n",
    "                                                                test_size= 0.25, random_state=12345)\n",
    "\n",
    "#training the model, and making predictions for the first dataset by calling the function linreg_function\n",
    "\n",
    "rmse_val_2, predic_2= linreg_model(ft_train_2, ft_valid_2, tgt_train_2, tgt_valid_2)\n",
    "\n",
    "print(\"RMSE value:\", rmse_val_2, \"Average predicted volume:\",\n",
    "      predic_2.mean())"
   ]
  },
  {
   "cell_type": "markdown",
   "metadata": {},
   "source": [
    "## Conclusion"
   ]
  },
  {
   "cell_type": "markdown",
   "metadata": {},
   "source": [
    "The third region has a RMSE value of 40.02, and a mean prediction of 94.96. The Linear Regression model performed best in terms of the RMSE values in the second region with an accuracy of 0.89. However, in terms of mean prediction, the third region had the highest value of 94.96"
   ]
  },
  {
   "cell_type": "markdown",
   "metadata": {},
   "source": [
    "## Break-even volume for each well"
   ]
  },
  {
   "cell_type": "markdown",
   "metadata": {},
   "source": [
    "On this Project, the following information are given:\n",
    "- The budget for development of 200 oil wells is 100 USD million \n",
    "- 500 points were studied and the best 200 points were picked for profit calculation\n",
    "- One barrel of raw materials brings 4.5 USD of revenue\n",
    "- The revenue from one unit of product is 4,500 dollars"
   ]
  },
  {
   "cell_type": "markdown",
   "metadata": {},
   "source": [
    "To find the volume of products sufficient to develop a new well without losses, we need to determine the break-even volume. This would be achieved by dividing the cost per well by the income per volume"
   ]
  },
  {
   "cell_type": "markdown",
   "metadata": {},
   "source": [
    "Saving the variables"
   ]
  },
  {
   "cell_type": "code",
   "execution_count": 15,
   "metadata": {},
   "outputs": [
    {
     "name": "stdout",
     "output_type": "stream",
     "text": [
      "111.11111111111111\n"
     ]
    }
   ],
   "source": [
    "points = 500\n",
    "\n",
    "needed_points = 200\n",
    "\n",
    "budget_prep_200 = 100000000\n",
    " \n",
    "cost_per_raw_material = 4.5\n",
    "\n",
    "income_per_volume = 4500\n",
    "\n",
    "cost_per_well = budget_prep_200 / needed_points\n",
    "\n",
    "break_even_volume = cost_per_well / income_per_volume\n",
    "\n",
    "print(break_even_volume)"
   ]
  },
  {
   "cell_type": "markdown",
   "metadata": {},
   "source": [
    "The Break-even volume calculated for each well is 111.11. This implies that for the wells to be profitable they must produce above 112 volumes. \n",
    "\n",
    "We would compare this result (111.11) to the averages of the three regions"
   ]
  },
  {
   "cell_type": "code",
   "execution_count": 16,
   "metadata": {},
   "outputs": [
    {
     "name": "stdout",
     "output_type": "stream",
     "text": [
      "Average production of Region 1 : 92.50000000000001\n"
     ]
    }
   ],
   "source": [
    "print(\"Average production of Region 1 :\", geo_data_0[\"product\"].mean())"
   ]
  },
  {
   "cell_type": "code",
   "execution_count": 17,
   "metadata": {},
   "outputs": [
    {
     "name": "stdout",
     "output_type": "stream",
     "text": [
      "Average production of Region 2 : 68.82500000000002\n"
     ]
    }
   ],
   "source": [
    "print(\"Average production of Region 2 :\", geo_data_1[\"product\"].mean())"
   ]
  },
  {
   "cell_type": "code",
   "execution_count": 18,
   "metadata": {},
   "outputs": [
    {
     "name": "stdout",
     "output_type": "stream",
     "text": [
      "Average production of Region 3 : 95.00000000000004\n"
     ]
    }
   ],
   "source": [
    "print(\"Average production of Region 3 :\", geo_data_2[\"product\"].mean())"
   ]
  },
  {
   "cell_type": "markdown",
   "metadata": {},
   "source": [
    "The average production volume from each of the three Regions is below the break-even volume. This implies that the three regions are incurring losses if we select the wells to develop randomly. "
   ]
  },
  {
   "cell_type": "markdown",
   "metadata": {},
   "source": [
    "## Profit from selected wells and Model Predictions"
   ]
  },
  {
   "cell_type": "markdown",
   "metadata": {},
   "source": [
    "We want to pick the wells with the highest values of predictions. We will write a function that will take the target, the predictions, and the number of wells as arguments to calculate profit"
   ]
  },
  {
   "cell_type": "code",
   "execution_count": 19,
   "metadata": {},
   "outputs": [],
   "source": [
    "def reven_wells(target, predicted, n):\n",
    "    \n",
    "    predicted = pd.Series(predicted) #makes predictions into a series\n",
    "    target = target.reset_index(drop=True) #resets the index of the target\n",
    "    \n",
    "    #sorting the prediction values in descending order and getting their index\n",
    "    indices = predicted.sort_values(ascending = False).index\n",
    "    \n",
    "    return (target.loc[indices][:n].sum() * income_per_volume) - (cost_per_well * n)\n",
    "    #This code returns the expected profit by using the target values and the number of wells\n",
    "    \n",
    "    "
   ]
  },
  {
   "cell_type": "markdown",
   "metadata": {},
   "source": [
    "### Risk and Profit for each region"
   ]
  },
  {
   "cell_type": "markdown",
   "metadata": {},
   "source": [
    "We will use the bootstrapping technique to create 1000 samples of the target and associate them with their respective predicted values, and calculate the profit for the 200 wells with the most profitable predictions for each sample, storing all the profit values in a list.\n",
    "\n",
    "On a side note, we need to remember that the goal is to study 500 points and pick the best 200 points to calculate profit"
   ]
  },
  {
   "cell_type": "code",
   "execution_count": 20,
   "metadata": {},
   "outputs": [],
   "source": [
    "def bootstrap(target, predictions):\n",
    "    state = np.random.RandomState(12345)\n",
    "    values = []\n",
    "    target = target.reset_index(drop = True)\n",
    "    \n",
    "    #Next, we bootstrap\n",
    "    \n",
    "    for i in range(1000): \n",
    "        #Creating a sample of 500 target values\n",
    "        target_sample = target.sample(n = points, replace = True, random_state = state)\n",
    "        #Creating the prediction samples\n",
    "        predic_sample = predictions[target_sample.index]\n",
    "        \n",
    "        values.append(reven_wells(target_sample, predic_sample, needed_points))\n",
    "                \n",
    "    return pd.Series(values)\n",
    "    \n",
    "    \n",
    "rev_reg_1 = bootstrap(tgt_valid_0, predic_0) #bootstrap for the first region\n",
    "\n",
    "rev_reg_2 = bootstrap(tgt_valid_1, predic_1) #bootstrap for the second region\n",
    "\n",
    "rev_reg_3 = bootstrap(tgt_valid_2, predic_2) #bootstrap for the third region\n",
    "    \n",
    "    "
   ]
  },
  {
   "cell_type": "code",
   "execution_count": 21,
   "metadata": {},
   "outputs": [
    {
     "data": {
      "image/png": "[encoded data removed]",
      "text/plain": [
       "<Figure size 432x288 with 1 Axes>"
      ]
     },
     "metadata": {
      "needs_background": "light"
     },
     "output_type": "display_data"
    },
    {
     "data": {
      "image/png": "[encoded data removed]",
      "text/plain": [
       "<Figure size 432x288 with 1 Axes>"
      ]
     },
     "metadata": {
      "needs_background": "light"
     },
     "output_type": "display_data"
    },
    {
     "data": {
      "image/png": "[encoded data removed]",
      "text/plain": [
       "<Figure size 432x288 with 1 Axes>"
      ]
     },
     "metadata": {
      "needs_background": "light"
     },
     "output_type": "display_data"
    }
   ],
   "source": [
    "#Plotting a Histogram for the three regions\n",
    "\n",
    "plots_hist = [rev_reg_1, rev_reg_2, rev_reg_3]\n",
    "\n",
    "titles = [\"Region 1\", \"Region 2\", \"Region 3\"]\n",
    "\n",
    "for i in range(3):\n",
    "    plt.hist(plots_hist[i], bins = 20)\n",
    "    plt.title(titles[i])\n",
    "    plt.xlabel(\"Revenues\")\n",
    "    plt.show()\n",
    "    "
   ]
  },
  {
   "cell_type": "markdown",
   "metadata": {},
   "source": [
    "From the Histograms plotted, all regions are profitable, however, some losses are observed. For each region, we would calculate the 95% confidence intervals, the average profit, and the risk of loss as a percentage. "
   ]
  },
  {
   "cell_type": "markdown",
   "metadata": {},
   "source": [
    "Calculating the 95% confidence interval, average profit, and risk of loss as a percentage for Region 1"
   ]
  },
  {
   "cell_type": "code",
   "execution_count": 22,
   "metadata": {},
   "outputs": [
    {
     "name": "stdout",
     "output_type": "stream",
     "text": [
      "Region 1\n",
      "average profit 3961649.8480237117\n",
      "95% Confidence Interval: [-1112155.4589049604, 9097669.41553423]\n",
      "Risk of Losses: 0.069\n"
     ]
    }
   ],
   "source": [
    "conf_int_1 = [rev_reg_1.quantile(0.025), rev_reg_1.quantile(0.975)]\n",
    "avg_profit_1 = rev_reg_1.mean()\n",
    "loss_risk_1 = len(rev_reg_1[rev_reg_1 < 0]) / rev_reg_1.shape[0]\n",
    "\n",
    "print(\"Region 1\")\n",
    "print(\"average profit\", avg_profit_1)\n",
    "print(\"95% Confidence Interval:\", conf_int_1)\n",
    "print(\"Risk of Losses:\", loss_risk_1)"
   ]
  },
  {
   "cell_type": "code",
   "execution_count": 23,
   "metadata": {},
   "outputs": [
    {
     "name": "stdout",
     "output_type": "stream",
     "text": [
      "Region 2\n",
      "average profit 4560451.057866608\n",
      "95% Confidence Interval: [338205.0939898458, 8522894.538660347]\n",
      "Risk of Losses: 0.015\n"
     ]
    }
   ],
   "source": [
    "conf_int_2 = [rev_reg_2.quantile(0.025), rev_reg_2.quantile(0.975)]\n",
    "avg_profit_2 = rev_reg_2.mean()\n",
    "loss_risk_2 = len(rev_reg_2[rev_reg_2 < 0]) / rev_reg_2.shape[0]\n",
    "\n",
    "print(\"Region 2\")\n",
    "print(\"average profit\", avg_profit_2)\n",
    "print(\"95% Confidence Interval:\", conf_int_2)\n",
    "print(\"Risk of Losses:\", loss_risk_2)"
   ]
  },
  {
   "cell_type": "code",
   "execution_count": 24,
   "metadata": {},
   "outputs": [
    {
     "name": "stdout",
     "output_type": "stream",
     "text": [
      "Region 3\n",
      "average profit 4044038.665683568\n",
      "95% Confidence Interval: [-1633504.1339559986, 9503595.749237997]\n",
      "Risk of Losses: 0.076\n"
     ]
    }
   ],
   "source": [
    "conf_int_3 = [rev_reg_3.quantile(0.025), rev_reg_3.quantile(0.975)]\n",
    "avg_profit_3 = rev_reg_3.mean()\n",
    "loss_risk_3 = len(rev_reg_3[rev_reg_3 < 0]) / rev_reg_3.shape[0]\n",
    "\n",
    "print(\"Region 3\")\n",
    "print(\"average profit\", avg_profit_3)\n",
    "print(\"95% Confidence Interval:\", conf_int_3)\n",
    "print(\"Risk of Losses:\", loss_risk_3)"
   ]
  },
  {
   "cell_type": "markdown",
   "metadata": {},
   "source": [
    "## Conclusion"
   ]
  },
  {
   "cell_type": "markdown",
   "metadata": {},
   "source": [
    "This project was done to build models to predict the volume of reserves in new wells, thereby, selecting the region with the highest profit margin.\n",
    "\n",
    "We trained a Linear Regression model on datasets from three regions. The model performed best in terms of the RMSE values in the second region with an accuracy of 0.89. However, in terms of mean prediction, the third region had the highest value of 94.96. \n",
    "\n",
    "For the volume of production at each well to be considered profitable, production had to be above the break-even volume, which was calculated to be 111.11.\n",
    "\n",
    "Bootstrapping was done on the target values, 500 new values were created, and the corresponding prediction values were used to calculate profit values for the top 200 reserves. After bootstrapping, we concluded that Region 2 is the best region for oil development. It has the best average profit of 4560451.057866608, the least risk of loss at 1.5%, and the best confidence interval limits (Lower Limit: 338205.0939898458, upper Limit 8522894.538660347\n"
   ]
  }
 ],
 "metadata": {
  "kernelspec": {
   "display_name": "Python 3 (ipykernel)",
   "language": "python",
   "name": "python3"
  },
  "language_info": {
   "codemirror_mode": {
    "name": "ipython",
    "version": 3
   },
   "file_extension": ".py",
   "mimetype": "text/x-python",
   "name": "python",
   "nbconvert_exporter": "python",
   "pygments_lexer": "ipython3",
   "version": "3.9.5"
  },
  "toc": {
   "base_numbering": "",
   "nav_menu": {},
   "number_sections": false,
   "sideBar": true,
   "skip_h1_title": false,
   "title_cell": "Table of Contents",
   "title_sidebar": "Contents",
   "toc_cell": false,
   "toc_position": {},
   "toc_section_display": true,
   "toc_window_display": true
  }
 },
 "nbformat": 4,
 "nbformat_minor": 2
}
