{
 "cells": [
  {
   "cell_type": "code",
   "execution_count": 1,
   "metadata": {},
   "outputs": [
    {
     "name": "stdout",
     "output_type": "stream",
     "text": [
      "Requirement already satisfied: dash==1.19.0 in c:\\users\\adebi\\anaconda3\\lib\\site-packages (1.19.0)\n",
      "Requirement already satisfied: flask-compress in c:\\users\\adebi\\anaconda3\\lib\\site-packages (from dash==1.19.0) (1.10.1)\n",
      "Requirement already satisfied: plotly in c:\\users\\adebi\\anaconda3\\lib\\site-packages (from dash==1.19.0) (5.6.0)\n",
      "Requirement already satisfied: dash-core-components==1.15.0 in c:\\users\\adebi\\anaconda3\\lib\\site-packages (from dash==1.19.0) (1.15.0)\n",
      "Requirement already satisfied: Flask>=1.0.4 in c:\\users\\adebi\\anaconda3\\lib\\site-packages (from dash==1.19.0) (1.1.1)\n",
      "Requirement already satisfied: dash-renderer==1.9.0 in c:\\users\\adebi\\anaconda3\\lib\\site-packages (from dash==1.19.0) (1.9.0)\n",
      "Requirement already satisfied: dash-table==4.11.2 in c:\\users\\adebi\\anaconda3\\lib\\site-packages (from dash==1.19.0) (4.11.2)\n",
      "Requirement already satisfied: future in c:\\users\\adebi\\anaconda3\\lib\\site-packages (from dash==1.19.0) (0.17.1)\n",
      "Requirement already satisfied: dash-html-components==1.1.2 in c:\\users\\adebi\\anaconda3\\lib\\site-packages (from dash==1.19.0) (1.1.2)\n",
      "Requirement already satisfied: brotli in c:\\users\\adebi\\anaconda3\\lib\\site-packages (from flask-compress->dash==1.19.0) (1.0.9)\n",
      "Requirement already satisfied: tenacity>=6.2.0 in c:\\users\\adebi\\anaconda3\\lib\\site-packages (from plotly->dash==1.19.0) (8.0.1)\n",
      "Requirement already satisfied: six in c:\\users\\adebi\\anaconda3\\lib\\site-packages (from plotly->dash==1.19.0) (1.16.0)\n",
      "Requirement already satisfied: click>=5.1 in c:\\users\\adebi\\anaconda3\\lib\\site-packages (from Flask>=1.0.4->dash==1.19.0) (7.0)\n",
      "Requirement already satisfied: Jinja2>=2.10.1 in c:\\users\\adebi\\anaconda3\\lib\\site-packages (from Flask>=1.0.4->dash==1.19.0) (2.10.3)\n",
      "Requirement already satisfied: Werkzeug>=0.15 in c:\\users\\adebi\\anaconda3\\lib\\site-packages (from Flask>=1.0.4->dash==1.19.0) (0.16.0)\n",
      "Requirement already satisfied: itsdangerous>=0.24 in c:\\users\\adebi\\anaconda3\\lib\\site-packages (from Flask>=1.0.4->dash==1.19.0) (1.1.0)\n",
      "Requirement already satisfied: MarkupSafe>=0.23 in c:\\users\\adebi\\anaconda3\\lib\\site-packages (from Jinja2>=2.10.1->Flask>=1.0.4->dash==1.19.0) (1.1.1)\n"
     ]
    }
   ],
   "source": [
    "!pip install dash==1.19.0"
   ]
  },
  {
   "cell_type": "code",
   "execution_count": 2,
   "metadata": {},
   "outputs": [
    {
     "name": "stdout",
     "output_type": "stream",
     "text": [
      "Requirement already satisfied: jupyter_dash in c:\\users\\adebi\\anaconda3\\lib\\site-packages (0.4.0)\n",
      "Requirement already satisfied: requests in c:\\users\\adebi\\anaconda3\\lib\\site-packages (from jupyter_dash) (2.22.0)\n",
      "Requirement already satisfied: flask in c:\\users\\adebi\\anaconda3\\lib\\site-packages (from jupyter_dash) (1.1.1)\n",
      "Requirement already satisfied: ansi2html in c:\\users\\adebi\\anaconda3\\lib\\site-packages (from jupyter_dash) (1.6.0)\n",
      "Requirement already satisfied: ipython in c:\\users\\adebi\\anaconda3\\lib\\site-packages (from jupyter_dash) (7.30.0)\n",
      "Requirement already satisfied: dash in c:\\users\\adebi\\anaconda3\\lib\\site-packages (from jupyter_dash) (1.19.0)\n",
      "Requirement already satisfied: retrying in c:\\users\\adebi\\anaconda3\\lib\\site-packages (from jupyter_dash) (1.3.3)\n",
      "Requirement already satisfied: ipykernel in c:\\users\\adebi\\anaconda3\\lib\\site-packages (from jupyter_dash) (5.1.2)\n",
      "Requirement already satisfied: idna<2.9,>=2.5 in c:\\users\\adebi\\anaconda3\\lib\\site-packages (from requests->jupyter_dash) (2.8)\n",
      "Requirement already satisfied: certifi>=2017.4.17 in c:\\users\\adebi\\anaconda3\\lib\\site-packages (from requests->jupyter_dash) (2019.9.11)\n",
      "Requirement already satisfied: urllib3!=1.25.0,!=1.25.1,<1.26,>=1.21.1 in c:\\users\\adebi\\anaconda3\\lib\\site-packages (from requests->jupyter_dash) (1.24.2)\n",
      "Requirement already satisfied: chardet<3.1.0,>=3.0.2 in c:\\users\\adebi\\anaconda3\\lib\\site-packages (from requests->jupyter_dash) (3.0.4)\n",
      "Requirement already satisfied: itsdangerous>=0.24 in c:\\users\\adebi\\anaconda3\\lib\\site-packages (from flask->jupyter_dash) (1.1.0)\n",
      "Requirement already satisfied: Jinja2>=2.10.1 in c:\\users\\adebi\\anaconda3\\lib\\site-packages (from flask->jupyter_dash) (2.10.3)\n",
      "Requirement already satisfied: click>=5.1 in c:\\users\\adebi\\anaconda3\\lib\\site-packages (from flask->jupyter_dash) (7.0)\n",
      "Requirement already satisfied: Werkzeug>=0.15 in c:\\users\\adebi\\anaconda3\\lib\\site-packages (from flask->jupyter_dash) (0.16.0)\n",
      "Requirement already satisfied: pygments in c:\\users\\adebi\\anaconda3\\lib\\site-packages (from ipython->jupyter_dash) (2.10.0)\n",
      "Requirement already satisfied: backcall in c:\\users\\adebi\\anaconda3\\lib\\site-packages (from ipython->jupyter_dash) (0.2.0)\n",
      "Requirement already satisfied: prompt-toolkit!=3.0.0,!=3.0.1,<3.1.0,>=2.0.0 in c:\\users\\adebi\\anaconda3\\lib\\site-packages (from ipython->jupyter_dash) (3.0.23)\n",
      "Requirement already satisfied: setuptools>=18.5 in c:\\users\\adebi\\anaconda3\\lib\\site-packages (from ipython->jupyter_dash) (59.4.0)\n",
      "Requirement already satisfied: matplotlib-inline in c:\\users\\adebi\\anaconda3\\lib\\site-packages (from ipython->jupyter_dash) (0.1.3)\n",
      "Requirement already satisfied: traitlets>=4.2 in c:\\users\\adebi\\anaconda3\\lib\\site-packages (from ipython->jupyter_dash) (5.1.1)\n",
      "Requirement already satisfied: colorama; sys_platform == \"win32\" in c:\\users\\adebi\\anaconda3\\lib\\site-packages (from ipython->jupyter_dash) (0.4.4)\n",
      "Requirement already satisfied: decorator in c:\\users\\adebi\\anaconda3\\lib\\site-packages (from ipython->jupyter_dash) (5.1.0)\n",
      "Requirement already satisfied: jedi>=0.16 in c:\\users\\adebi\\anaconda3\\lib\\site-packages (from ipython->jupyter_dash) (0.18.1)\n",
      "Requirement already satisfied: pickleshare in c:\\users\\adebi\\anaconda3\\lib\\site-packages (from ipython->jupyter_dash) (0.7.5)\n",
      "Requirement already satisfied: dash-core-components==1.15.0 in c:\\users\\adebi\\anaconda3\\lib\\site-packages (from dash->jupyter_dash) (1.15.0)\n",
      "Requirement already satisfied: dash-html-components==1.1.2 in c:\\users\\adebi\\anaconda3\\lib\\site-packages (from dash->jupyter_dash) (1.1.2)\n",
      "Requirement already satisfied: dash-renderer==1.9.0 in c:\\users\\adebi\\anaconda3\\lib\\site-packages (from dash->jupyter_dash) (1.9.0)\n",
      "Requirement already satisfied: dash-table==4.11.2 in c:\\users\\adebi\\anaconda3\\lib\\site-packages (from dash->jupyter_dash) (4.11.2)\n",
      "Requirement already satisfied: future in c:\\users\\adebi\\anaconda3\\lib\\site-packages (from dash->jupyter_dash) (0.17.1)\n",
      "Requirement already satisfied: plotly in c:\\users\\adebi\\anaconda3\\lib\\site-packages (from dash->jupyter_dash) (5.6.0)\n",
      "Requirement already satisfied: flask-compress in c:\\users\\adebi\\anaconda3\\lib\\site-packages (from dash->jupyter_dash) (1.10.1)\n",
      "Requirement already satisfied: six>=1.7.0 in c:\\users\\adebi\\anaconda3\\lib\\site-packages (from retrying->jupyter_dash) (1.16.0)\n",
      "Requirement already satisfied: jupyter-client in c:\\users\\adebi\\anaconda3\\lib\\site-packages (from ipykernel->jupyter_dash) (5.3.3)\n",
      "Requirement already satisfied: tornado>=4.2 in c:\\users\\adebi\\anaconda3\\lib\\site-packages (from ipykernel->jupyter_dash) (6.0.3)\n",
      "Requirement already satisfied: MarkupSafe>=0.23 in c:\\users\\adebi\\anaconda3\\lib\\site-packages (from Jinja2>=2.10.1->flask->jupyter_dash) (1.1.1)\n",
      "Requirement already satisfied: wcwidth in c:\\users\\adebi\\anaconda3\\lib\\site-packages (from prompt-toolkit!=3.0.0,!=3.0.1,<3.1.0,>=2.0.0->ipython->jupyter_dash) (0.2.5)\n",
      "Requirement already satisfied: parso<0.9.0,>=0.8.0 in c:\\users\\adebi\\anaconda3\\lib\\site-packages (from jedi>=0.16->ipython->jupyter_dash) (0.8.3)\n",
      "Requirement already satisfied: tenacity>=6.2.0 in c:\\users\\adebi\\anaconda3\\lib\\site-packages (from plotly->dash->jupyter_dash) (8.0.1)\n",
      "Requirement already satisfied: brotli in c:\\users\\adebi\\anaconda3\\lib\\site-packages (from flask-compress->dash->jupyter_dash) (1.0.9)\n",
      "Requirement already satisfied: jupyter-core in c:\\users\\adebi\\anaconda3\\lib\\site-packages (from jupyter-client->ipykernel->jupyter_dash) (4.5.0)\n",
      "Requirement already satisfied: pywin32>=1.0; sys_platform == \"win32\" in c:\\users\\adebi\\anaconda3\\lib\\site-packages (from jupyter-client->ipykernel->jupyter_dash) (223)\n",
      "Requirement already satisfied: pyzmq>=13 in c:\\users\\adebi\\anaconda3\\lib\\site-packages (from jupyter-client->ipykernel->jupyter_dash) (18.1.0)\n",
      "Requirement already satisfied: python-dateutil>=2.1 in c:\\users\\adebi\\anaconda3\\lib\\site-packages (from jupyter-client->ipykernel->jupyter_dash) (2.8.0)\n"
     ]
    }
   ],
   "source": [
    "!pip install jupyter_dash "
   ]
  },
  {
   "cell_type": "code",
   "execution_count": 3,
   "metadata": {},
   "outputs": [
    {
     "name": "stdout",
     "output_type": "stream",
     "text": [
      "Requirement already up-to-date: plotly in c:\\users\\adebi\\anaconda3\\lib\\site-packages (5.6.0)\n",
      "Requirement already satisfied, skipping upgrade: six in c:\\users\\adebi\\anaconda3\\lib\\site-packages (from plotly) (1.16.0)\n",
      "Requirement already satisfied, skipping upgrade: tenacity>=6.2.0 in c:\\users\\adebi\\anaconda3\\lib\\site-packages (from plotly) (8.0.1)\n"
     ]
    }
   ],
   "source": [
    "!pip install --upgrade plotly"
   ]
  },
  {
   "cell_type": "code",
   "execution_count": 6,
   "metadata": {},
   "outputs": [
    {
     "ename": "NameError",
     "evalue": "name 'Output' is not defined",
     "output_type": "error",
     "traceback": [
      "\u001b[1;31m---------------------------------------------------------------------------\u001b[0m",
      "\u001b[1;31mNameError\u001b[0m                                 Traceback (most recent call last)",
      "\u001b[1;32m<ipython-input-6-61c6bd745835>\u001b[0m in \u001b[0;36m<module>\u001b[1;34m\u001b[0m\n\u001b[0;32m     53\u001b[0m \u001b[1;31m# Function decorator to specify function input and output\u001b[0m\u001b[1;33m\u001b[0m\u001b[1;33m\u001b[0m\u001b[1;33m\u001b[0m\u001b[0m\n\u001b[0;32m     54\u001b[0m \u001b[1;33m\u001b[0m\u001b[0m\n\u001b[1;32m---> 55\u001b[1;33m @app.callback(Output(component_id='success-pie-chart', component_property='figure'),\n\u001b[0m\u001b[0;32m     56\u001b[0m               Input(component_id='site-dropdown', component_property='value'))\n\u001b[0;32m     57\u001b[0m \u001b[1;33m\u001b[0m\u001b[0m\n",
      "\u001b[1;31mNameError\u001b[0m: name 'Output' is not defined"
     ]
    }
   ],
   "source": [
    "# Import required libraries\n",
    "import pandas as pd\n",
    "import dash\n",
    "import dash_html_components as html\n",
    "import dash_core_components as dcc\n",
    "from jupyter_dash import JupyterDash\n",
    "import plotly.graph_objects as go\n",
    "\n",
    "# Read the airline data into pandas dataframe\n",
    "spacex_df = pd.read_csv(\"https://cf-courses-data.s3.us.cloud-object-storage.appdomain.cloud/IBM-DS0321EN-SkillsNetwork/datasets/spacex_launch_dash.csv\")\n",
    "max_payload = spacex_df['Payload Mass (kg)'].max()\n",
    "min_payload = spacex_df['Payload Mass (kg)'].min()\n",
    "\n",
    "# Create a dash application\n",
    "app = JupyterDash(__name__)\n",
    "\n",
    "# Create an app layout\n",
    "app.layout = html.Div(children=[html.H1('SpaceX Launch Records Dashboard',\n",
    "                                        style={'textAlign': 'center', 'color': '#503D36',\n",
    "                                               'font-size': 40}),\n",
    "                                dcc.Dropdown(id='site-dropdown',\n",
    "                                             options=[\n",
    "                                                 {'label': 'ALL SITES', 'value': 'ALL'},\n",
    "                                                 {'label': 'CCAFS LC-40', 'value': 'CCAFS LC-40'},\n",
    "                                                 {'label': 'VAFB SLC-4E', 'value': 'VAFB SLC-4E'},\n",
    "                                                 {'label': 'KSC LC-39A', 'value': 'KSC LC-39A'},\n",
    "                                                 {'label': 'CCAFS SLC-40', 'value': 'CCAFS SLC-40'}                                                \n",
    "                                                 \n",
    "                                             ],\n",
    "                                             \n",
    "                                             value='ALL',\n",
    "                                             placeholder=\"Select a Launch Site here\", \n",
    "                                             searchable=True),\n",
    "                                html.Br(),\n",
    "                                \n",
    "                                #Add a pie chart to show the total successful launches count for all sites\n",
    "                                #If a specific launch site was selected, show the Success vs. Failed counts for the site\n",
    "                                html.Div(dcc.Graph(id='success-pie-chart')),\n",
    "                                html.Br(),\n",
    "                                \n",
    "                                \n",
    "                                #Add a slider to select payload range\n",
    "                                dcc.RangeSlider(id='payload-slider',\n",
    "                                                min= 0, max= 10000, step= 1000,\n",
    "                                                marks= {0: '0', 100: '100'},\n",
    "                                                value=[min_payload,max_payload]),\n",
    "                                \n",
    "                                #Add a scatter chart to show the correlation between payload and launch success\n",
    "                                html.Div(dcc.Graph(id='success-payload-scatter-chart')),\n",
    "                                ])\n",
    "\n",
    "# Add a callback function for `site-dropdown` as input, `success-pie-chart` as output\n",
    "# Function decorator to specify function input and output\n",
    "\n",
    "@app.callback(Output(component_id='success-pie-chart', component_property='figure'),\n",
    "              Input(component_id='site-dropdown', component_property='value'))\n",
    "\n",
    "def get_pie_chart(site_dropdown):\n",
    "    filtered_df = spacex_df\n",
    "    if entered_site == 'ALL':\n",
    "        fig = px.pie(data, values='class', \n",
    "        names='Launch Site', \n",
    "        title='Launch Successes for site')\n",
    "        return fig\n",
    "    else:\n",
    "        specific_df=spacex_df.loc[spacex_df['Launch Site'] == site_dropdown]\n",
    "        fig = px.pie(data_frame = specific_df, names='class',title='Selected Site Total Launch')\n",
    "        return fig\n",
    "    \n",
    "    \n",
    "\n",
    "# TASK 4:\n",
    "# Add a callback function for `site-dropdown` and `payload-slider` as inputs, `success-payload-scatter-chart` as output\n",
    "\n",
    "@app.callback(Output(component_id='success-payload-scatter-chart',component_property='figure'),\n",
    "              [Input(component_id='site-dropdown',component_property='value'),\n",
    "               Input(component_id='payload-slider',component_property='value')])\n",
    "\n",
    "def scatter(site,payload):\n",
    "    low, high = (payload[0],payload[1])\n",
    "    mask=spacex_df[spacex_df['Payload Mass (kg)'].between(low,high)]\n",
    "    if site=='ALL':\n",
    "        fig=px.scatter(mask,x='Payload Mass (kg)',y='class',color='Booster Version Category',title='Success count on Payload mass for all sites')\n",
    "        return fig\n",
    "    else:\n",
    "        mask_filtered=mask[mask['Launch Site']==site]\n",
    "        fig=px.scatter(mask_filtered,x='Payload Mass (kg)',y='class',color='Booster Version Category',title='Success count on Payload Mass for' + site)\n",
    "        return fig        \n",
    "\n",
    "\n",
    "\n",
    "if __name__ == '__main__':\n",
    "    app.run_server(mode='jupyterlab', port = 8090 ,dev_tools_ui=True, #debug=True,\n",
    "              dev_tools_hot_reload =True, threaded=True)"
   ]
  },
  {
   "cell_type": "code",
   "execution_count": null,
   "metadata": {},
   "outputs": [],
   "source": []
  }
 ],
 "metadata": {
  "kernelspec": {
   "display_name": "Python 3",
   "language": "python",
   "name": "python3"
  },
  "language_info": {
   "codemirror_mode": {
    "name": "ipython",
    "version": 3
   },
   "file_extension": ".py",
   "mimetype": "text/x-python",
   "name": "python",
   "nbconvert_exporter": "python",
   "pygments_lexer": "ipython3",
   "version": "3.7.4"
  }
 },
 "nbformat": 4,
 "nbformat_minor": 2
}
